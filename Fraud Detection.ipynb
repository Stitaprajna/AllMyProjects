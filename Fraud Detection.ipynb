{
  "nbformat": 4,
  "nbformat_minor": 0,
  "metadata": {
    "colab": {
      "name": "Fraud Detection",
      "provenance": [],
      "collapsed_sections": [
        "UPzALemh_DT9"
      ],
      "authorship_tag": "ABX9TyN4kQ+epEJjkX8gQpCx6JQA",
      "include_colab_link": true
    },
    "kernelspec": {
      "name": "python3",
      "display_name": "Python 3"
    },
    "language_info": {
      "name": "python"
    }
  },
  "cells": [
    {
      "cell_type": "markdown",
      "metadata": {
        "id": "view-in-github",
        "colab_type": "text"
      },
      "source": [
        "<a href=\"https://colab.research.google.com/github/Stitaprajna/AllMyProjects/blob/main/Fraud%20Detection.ipynb\" target=\"_parent\"><img src=\"https://colab.research.google.com/assets/colab-badge.svg\" alt=\"Open In Colab\"/></a>"
      ]
    },
    {
      "cell_type": "code",
      "execution_count": 47,
      "metadata": {
        "id": "7dSjguqQaLwK"
      },
      "outputs": [],
      "source": [
        "import pandas as pd\n",
        "import numpy as np\n",
        "import seaborn as sns\n",
        "import matplotlib.pyplot as plt\n"
      ]
    },
    {
      "cell_type": "code",
      "source": [
        "df = pd.read_csv('/Fraud.csv', nrows=5*10**5)\n",
        "df.head()\n"
      ],
      "metadata": {
        "colab": {
          "base_uri": "https://localhost:8080/",
          "height": 206
        },
        "id": "WzIjyZs3bLDP",
        "outputId": "a76185fd-b963-4c0b-e733-9fe6b5ce3708"
      },
      "execution_count": 48,
      "outputs": [
        {
          "output_type": "execute_result",
          "data": {
            "text/plain": [
              "   step      type    amount     nameOrig  oldbalanceOrg  newbalanceOrig  \\\n",
              "0     1   PAYMENT   9839.64  C1231006815       170136.0       160296.36   \n",
              "1     1   PAYMENT   1864.28  C1666544295        21249.0        19384.72   \n",
              "2     1  TRANSFER    181.00  C1305486145          181.0            0.00   \n",
              "3     1  CASH_OUT    181.00   C840083671          181.0            0.00   \n",
              "4     1   PAYMENT  11668.14  C2048537720        41554.0        29885.86   \n",
              "\n",
              "      nameDest  oldbalanceDest  newbalanceDest  isFraud  isFlaggedFraud  \n",
              "0  M1979787155             0.0             0.0        0               0  \n",
              "1  M2044282225             0.0             0.0        0               0  \n",
              "2   C553264065             0.0             0.0        1               0  \n",
              "3    C38997010         21182.0             0.0        1               0  \n",
              "4  M1230701703             0.0             0.0        0               0  "
            ],
            "text/html": [
              "\n",
              "  <div id=\"df-bf25d006-7b58-422e-9679-3347360e7de2\">\n",
              "    <div class=\"colab-df-container\">\n",
              "      <div>\n",
              "<style scoped>\n",
              "    .dataframe tbody tr th:only-of-type {\n",
              "        vertical-align: middle;\n",
              "    }\n",
              "\n",
              "    .dataframe tbody tr th {\n",
              "        vertical-align: top;\n",
              "    }\n",
              "\n",
              "    .dataframe thead th {\n",
              "        text-align: right;\n",
              "    }\n",
              "</style>\n",
              "<table border=\"1\" class=\"dataframe\">\n",
              "  <thead>\n",
              "    <tr style=\"text-align: right;\">\n",
              "      <th></th>\n",
              "      <th>step</th>\n",
              "      <th>type</th>\n",
              "      <th>amount</th>\n",
              "      <th>nameOrig</th>\n",
              "      <th>oldbalanceOrg</th>\n",
              "      <th>newbalanceOrig</th>\n",
              "      <th>nameDest</th>\n",
              "      <th>oldbalanceDest</th>\n",
              "      <th>newbalanceDest</th>\n",
              "      <th>isFraud</th>\n",
              "      <th>isFlaggedFraud</th>\n",
              "    </tr>\n",
              "  </thead>\n",
              "  <tbody>\n",
              "    <tr>\n",
              "      <th>0</th>\n",
              "      <td>1</td>\n",
              "      <td>PAYMENT</td>\n",
              "      <td>9839.64</td>\n",
              "      <td>C1231006815</td>\n",
              "      <td>170136.0</td>\n",
              "      <td>160296.36</td>\n",
              "      <td>M1979787155</td>\n",
              "      <td>0.0</td>\n",
              "      <td>0.0</td>\n",
              "      <td>0</td>\n",
              "      <td>0</td>\n",
              "    </tr>\n",
              "    <tr>\n",
              "      <th>1</th>\n",
              "      <td>1</td>\n",
              "      <td>PAYMENT</td>\n",
              "      <td>1864.28</td>\n",
              "      <td>C1666544295</td>\n",
              "      <td>21249.0</td>\n",
              "      <td>19384.72</td>\n",
              "      <td>M2044282225</td>\n",
              "      <td>0.0</td>\n",
              "      <td>0.0</td>\n",
              "      <td>0</td>\n",
              "      <td>0</td>\n",
              "    </tr>\n",
              "    <tr>\n",
              "      <th>2</th>\n",
              "      <td>1</td>\n",
              "      <td>TRANSFER</td>\n",
              "      <td>181.00</td>\n",
              "      <td>C1305486145</td>\n",
              "      <td>181.0</td>\n",
              "      <td>0.00</td>\n",
              "      <td>C553264065</td>\n",
              "      <td>0.0</td>\n",
              "      <td>0.0</td>\n",
              "      <td>1</td>\n",
              "      <td>0</td>\n",
              "    </tr>\n",
              "    <tr>\n",
              "      <th>3</th>\n",
              "      <td>1</td>\n",
              "      <td>CASH_OUT</td>\n",
              "      <td>181.00</td>\n",
              "      <td>C840083671</td>\n",
              "      <td>181.0</td>\n",
              "      <td>0.00</td>\n",
              "      <td>C38997010</td>\n",
              "      <td>21182.0</td>\n",
              "      <td>0.0</td>\n",
              "      <td>1</td>\n",
              "      <td>0</td>\n",
              "    </tr>\n",
              "    <tr>\n",
              "      <th>4</th>\n",
              "      <td>1</td>\n",
              "      <td>PAYMENT</td>\n",
              "      <td>11668.14</td>\n",
              "      <td>C2048537720</td>\n",
              "      <td>41554.0</td>\n",
              "      <td>29885.86</td>\n",
              "      <td>M1230701703</td>\n",
              "      <td>0.0</td>\n",
              "      <td>0.0</td>\n",
              "      <td>0</td>\n",
              "      <td>0</td>\n",
              "    </tr>\n",
              "  </tbody>\n",
              "</table>\n",
              "</div>\n",
              "      <button class=\"colab-df-convert\" onclick=\"convertToInteractive('df-bf25d006-7b58-422e-9679-3347360e7de2')\"\n",
              "              title=\"Convert this dataframe to an interactive table.\"\n",
              "              style=\"display:none;\">\n",
              "        \n",
              "  <svg xmlns=\"http://www.w3.org/2000/svg\" height=\"24px\"viewBox=\"0 0 24 24\"\n",
              "       width=\"24px\">\n",
              "    <path d=\"M0 0h24v24H0V0z\" fill=\"none\"/>\n",
              "    <path d=\"M18.56 5.44l.94 2.06.94-2.06 2.06-.94-2.06-.94-.94-2.06-.94 2.06-2.06.94zm-11 1L8.5 8.5l.94-2.06 2.06-.94-2.06-.94L8.5 2.5l-.94 2.06-2.06.94zm10 10l.94 2.06.94-2.06 2.06-.94-2.06-.94-.94-2.06-.94 2.06-2.06.94z\"/><path d=\"M17.41 7.96l-1.37-1.37c-.4-.4-.92-.59-1.43-.59-.52 0-1.04.2-1.43.59L10.3 9.45l-7.72 7.72c-.78.78-.78 2.05 0 2.83L4 21.41c.39.39.9.59 1.41.59.51 0 1.02-.2 1.41-.59l7.78-7.78 2.81-2.81c.8-.78.8-2.07 0-2.86zM5.41 20L4 18.59l7.72-7.72 1.47 1.35L5.41 20z\"/>\n",
              "  </svg>\n",
              "      </button>\n",
              "      \n",
              "  <style>\n",
              "    .colab-df-container {\n",
              "      display:flex;\n",
              "      flex-wrap:wrap;\n",
              "      gap: 12px;\n",
              "    }\n",
              "\n",
              "    .colab-df-convert {\n",
              "      background-color: #E8F0FE;\n",
              "      border: none;\n",
              "      border-radius: 50%;\n",
              "      cursor: pointer;\n",
              "      display: none;\n",
              "      fill: #1967D2;\n",
              "      height: 32px;\n",
              "      padding: 0 0 0 0;\n",
              "      width: 32px;\n",
              "    }\n",
              "\n",
              "    .colab-df-convert:hover {\n",
              "      background-color: #E2EBFA;\n",
              "      box-shadow: 0px 1px 2px rgba(60, 64, 67, 0.3), 0px 1px 3px 1px rgba(60, 64, 67, 0.15);\n",
              "      fill: #174EA6;\n",
              "    }\n",
              "\n",
              "    [theme=dark] .colab-df-convert {\n",
              "      background-color: #3B4455;\n",
              "      fill: #D2E3FC;\n",
              "    }\n",
              "\n",
              "    [theme=dark] .colab-df-convert:hover {\n",
              "      background-color: #434B5C;\n",
              "      box-shadow: 0px 1px 3px 1px rgba(0, 0, 0, 0.15);\n",
              "      filter: drop-shadow(0px 1px 2px rgba(0, 0, 0, 0.3));\n",
              "      fill: #FFFFFF;\n",
              "    }\n",
              "  </style>\n",
              "\n",
              "      <script>\n",
              "        const buttonEl =\n",
              "          document.querySelector('#df-bf25d006-7b58-422e-9679-3347360e7de2 button.colab-df-convert');\n",
              "        buttonEl.style.display =\n",
              "          google.colab.kernel.accessAllowed ? 'block' : 'none';\n",
              "\n",
              "        async function convertToInteractive(key) {\n",
              "          const element = document.querySelector('#df-bf25d006-7b58-422e-9679-3347360e7de2');\n",
              "          const dataTable =\n",
              "            await google.colab.kernel.invokeFunction('convertToInteractive',\n",
              "                                                     [key], {});\n",
              "          if (!dataTable) return;\n",
              "\n",
              "          const docLinkHtml = 'Like what you see? Visit the ' +\n",
              "            '<a target=\"_blank\" href=https://colab.research.google.com/notebooks/data_table.ipynb>data table notebook</a>'\n",
              "            + ' to learn more about interactive tables.';\n",
              "          element.innerHTML = '';\n",
              "          dataTable['output_type'] = 'display_data';\n",
              "          await google.colab.output.renderOutput(dataTable, element);\n",
              "          const docLink = document.createElement('div');\n",
              "          docLink.innerHTML = docLinkHtml;\n",
              "          element.appendChild(docLink);\n",
              "        }\n",
              "      </script>\n",
              "    </div>\n",
              "  </div>\n",
              "  "
            ]
          },
          "metadata": {},
          "execution_count": 48
        }
      ]
    },
    {
      "cell_type": "code",
      "source": [
        "df.step.value_counts()\n",
        "sns.histplot(df.step)\n",
        "plt.rcParams['figure.figsize'] = [10,7]"
      ],
      "metadata": {
        "id": "hj_1QP0_05S1",
        "outputId": "770004f9-012f-4a44-c3c8-0c3f3544ab30",
        "colab": {
          "base_uri": "https://localhost:8080/",
          "height": 388
        }
      },
      "execution_count": 49,
      "outputs": [
        {
          "output_type": "display_data",
          "data": {
            "text/plain": [
              "<Figure size 432x432 with 1 Axes>"
            ],
            "image/png": "[encoded data removed]"
          },
          "metadata": {
            "needs_background": "light"
          }
        }
      ]
    },
    {
      "cell_type": "code",
      "source": [
        "sns.barplot(x = 'type', y = 'amount', data=df)\n",
        "plt.show()"
      ],
      "metadata": {
        "id": "F6wvKlI5ot7X",
        "outputId": "850a0f29-088f-4930-b5d4-006781d75281",
        "colab": {
          "base_uri": "https://localhost:8080/",
          "height": 443
        }
      },
      "execution_count": 50,
      "outputs": [
        {
          "output_type": "display_data",
          "data": {
            "text/plain": [
              "<Figure size 720x504 with 1 Axes>"
            ],
            "image/png": "[encoded data removed]"
          },
          "metadata": {
            "needs_background": "light"
          }
        }
      ]
    },
    {
      "cell_type": "markdown",
      "source": [
        "So, most likely the 'Transfer' contains the fraud transactions because it very large in number."
      ],
      "metadata": {
        "id": "e2efsOTeRsIo"
      }
    },
    {
      "cell_type": "code",
      "source": [
        "df.isnull().sum()     # Checking for any missing data"
      ],
      "metadata": {
        "colab": {
          "base_uri": "https://localhost:8080/"
        },
        "id": "R8V9aHpfdxPV",
        "outputId": "d3a54ce5-1970-4a27-9414-34e7773fabc0"
      },
      "execution_count": 51,
      "outputs": [
        {
          "output_type": "execute_result",
          "data": {
            "text/plain": [
              "step              0\n",
              "type              0\n",
              "amount            0\n",
              "nameOrig          0\n",
              "oldbalanceOrg     0\n",
              "newbalanceOrig    0\n",
              "nameDest          0\n",
              "oldbalanceDest    0\n",
              "newbalanceDest    0\n",
              "isFraud           0\n",
              "isFlaggedFraud    0\n",
              "dtype: int64"
            ]
          },
          "metadata": {},
          "execution_count": 51
        }
      ]
    },
    {
      "cell_type": "code",
      "source": [
        "df.dtypes"
      ],
      "metadata": {
        "colab": {
          "base_uri": "https://localhost:8080/"
        },
        "id": "z21EpxNxYxpp",
        "outputId": "2b1c58fb-c2f6-4cb7-f33c-60fcf49a572a"
      },
      "execution_count": 52,
      "outputs": [
        {
          "output_type": "execute_result",
          "data": {
            "text/plain": [
              "step                int64\n",
              "type               object\n",
              "amount            float64\n",
              "nameOrig           object\n",
              "oldbalanceOrg     float64\n",
              "newbalanceOrig    float64\n",
              "nameDest           object\n",
              "oldbalanceDest    float64\n",
              "newbalanceDest    float64\n",
              "isFraud             int64\n",
              "isFlaggedFraud      int64\n",
              "dtype: object"
            ]
          },
          "metadata": {},
          "execution_count": 52
        }
      ]
    },
    {
      "cell_type": "code",
      "source": [
        "df = df.dropna()      # Droping all NaN values"
      ],
      "metadata": {
        "id": "szKh2Vm1d7FJ"
      },
      "execution_count": 53,
      "outputs": []
    },
    {
      "cell_type": "code",
      "source": [
        "df.amount.describe()  # Describes various Statistical factors"
      ],
      "metadata": {
        "colab": {
          "base_uri": "https://localhost:8080/"
        },
        "id": "iU1I1Kraz00V",
        "outputId": "f7361ca3-58e4-47b0-dd7d-2b74eb1bce68"
      },
      "execution_count": 54,
      "outputs": [
        {
          "output_type": "execute_result",
          "data": {
            "text/plain": [
              "count    5.000000e+05\n",
              "mean     1.663937e+05\n",
              "std      2.725841e+05\n",
              "min      1.000000e-01\n",
              "25%      1.335032e+04\n",
              "50%      8.137560e+04\n",
              "75%      2.226441e+05\n",
              "max      1.000000e+07\n",
              "Name: amount, dtype: float64"
            ]
          },
          "metadata": {},
          "execution_count": 54
        }
      ]
    },
    {
      "cell_type": "markdown",
      "source": [
        "# Detecting Outliers through visualisations"
      ],
      "metadata": {
        "id": "ddj_u2mf0D8w"
      }
    },
    {
      "cell_type": "markdown",
      "source": [
        "In the above scatter plot we can see that some of the data point are away from other data points. Thus, these points are the anomaly and most likely these are the 'Fraud' transactions. But, we can't say much from such a plot and will need a deep analysis."
      ],
      "metadata": {
        "id": "3Mg-nLC_0ZYq"
      }
    },
    {
      "cell_type": "code",
      "source": [
        "import warnings\n",
        "warnings.simplefilter(action='ignore', category=FutureWarning)\n",
        "p = sns.distplot(np.log(df['amount'])).set(title='Checking the Skewness of the data')  # Highly Right Skewed Data\n",
        "#plt.ylim([0,10**(-8)])\n",
        "#plt.xlim(0,3*10**7)\n",
        "plt.rcParams['figure.figsize'] = [10,10]"
      ],
      "metadata": {
        "colab": {
          "base_uri": "https://localhost:8080/",
          "height": 458
        },
        "id": "sdxtYBtf0iJS",
        "outputId": "6b9077ab-cd85-45ce-e25e-0aa24c6efdd2"
      },
      "execution_count": 55,
      "outputs": [
        {
          "output_type": "display_data",
          "data": {
            "text/plain": [
              "<Figure size 720x504 with 1 Axes>"
            ],
            "image/png": "[encoded data removed]"
          },
          "metadata": {
            "needs_background": "light"
          }
        }
      ]
    },
    {
      "cell_type": "markdown",
      "source": [
        "The tail of the amount of transaction distribuation is towards right, so this might be a 'Right Skewed Gaussian Data'. Lets find out at the skewness."
      ],
      "metadata": {
        "id": "9iPlKUY_0zOC"
      }
    },
    {
      "cell_type": "code",
      "source": [
        "from scipy.stats import skew\n",
        "skew(df.amount)"
      ],
      "metadata": {
        "id": "RqNIOqiqiYqU",
        "outputId": "d0429568-b61b-4475-8612-ae2437f3eaf9",
        "colab": {
          "base_uri": "https://localhost:8080/"
        }
      },
      "execution_count": 56,
      "outputs": [
        {
          "output_type": "execute_result",
          "data": {
            "text/plain": [
              "5.184748096392745"
            ]
          },
          "metadata": {},
          "execution_count": 56
        }
      ]
    },
    {
      "cell_type": "code",
      "source": [
        "sns.boxplot(np.log(df.amount))\n",
        "plt.show()\n",
        "plt.rcParams['figure.figsize'] = [6,6]"
      ],
      "metadata": {
        "id": "9hDQOLDWi-cu",
        "outputId": "a5dc9e2f-69ae-44b9-b364-ef775608ac5b",
        "colab": {
          "base_uri": "https://localhost:8080/",
          "height": 606
        }
      },
      "execution_count": 57,
      "outputs": [
        {
          "output_type": "display_data",
          "data": {
            "text/plain": [
              "<Figure size 720x720 with 1 Axes>"
            ],
            "image/png": "[encoded data removed]"
          },
          "metadata": {
            "needs_background": "light"
          }
        }
      ]
    },
    {
      "cell_type": "code",
      "source": [
        "df['isFraud'].value_counts()"
      ],
      "metadata": {
        "colab": {
          "base_uri": "https://localhost:8080/"
        },
        "id": "1cIHrADf04iH",
        "outputId": "821b41ff-6653-4598-ebd6-a816ab30c9af"
      },
      "execution_count": 58,
      "outputs": [
        {
          "output_type": "execute_result",
          "data": {
            "text/plain": [
              "0    499767\n",
              "1       233\n",
              "Name: isFraud, dtype: int64"
            ]
          },
          "metadata": {},
          "execution_count": 58
        }
      ]
    },
    {
      "cell_type": "code",
      "source": [
        "sns.histplot(df['isFraud'])"
      ],
      "metadata": {
        "colab": {
          "base_uri": "https://localhost:8080/",
          "height": 405
        },
        "id": "CmYdFfA_44z9",
        "outputId": "6c30ffcb-35c5-4e3a-e7c1-9ca6ce053ef1"
      },
      "execution_count": 59,
      "outputs": [
        {
          "output_type": "execute_result",
          "data": {
            "text/plain": [
              "<matplotlib.axes._subplots.AxesSubplot at 0x7f9b8a1390d0>"
            ]
          },
          "metadata": {},
          "execution_count": 59
        },
        {
          "output_type": "display_data",
          "data": {
            "text/plain": [
              "<Figure size 432x432 with 1 Axes>"
            ],
            "image/png": "[encoded data removed]"
          },
          "metadata": {
            "needs_background": "light"
          }
        }
      ]
    },
    {
      "cell_type": "markdown",
      "source": [
        "As, the number of fraud transactions are very less as compared to the normal transactions, this is an **Imbalanced Class**. Thus, accuracy score of any model will be very high and comapreble to the '**Dummy Classifier**'."
      ],
      "metadata": {
        "id": "fflEPXyKUj8s"
      }
    },
    {
      "cell_type": "code",
      "source": [
        "# Preprocessing and Cleaning Process\n",
        "from sklearn.preprocessing import MinMaxScaler\n",
        "Fraud = df[df['isFraud'] == 1]    \n",
        "Normal = df[df['isFraud']==0]\n",
        "df1 = df.copy()\n",
        "df1 = pd.get_dummies(df1,columns=['type'])\n",
        "df2 = df1.copy()\n",
        "df2.drop(['nameOrig','nameDest'],axis=1,inplace=True)\n",
        "x = df2.drop(['isFraud','isFlaggedFraud'],axis=1)\n",
        "scaler = MinMaxScaler()\n",
        "x1 = scaler.fit_transform(x)\n",
        "y = df2.isFraud"
      ],
      "metadata": {
        "id": "7_4D5bTNblhZ"
      },
      "execution_count": 60,
      "outputs": []
    },
    {
      "cell_type": "code",
      "source": [
        "x = pd.DataFrame(x1, columns=x.columns)"
      ],
      "metadata": {
        "id": "sQLV0B6O0wFM"
      },
      "execution_count": 61,
      "outputs": []
    },
    {
      "cell_type": "code",
      "source": [
        "x.head()"
      ],
      "metadata": {
        "id": "fiKtwpwA7Tsc",
        "outputId": "b278df59-94e4-4e15-c6f6-3b3250a0e339",
        "colab": {
          "base_uri": "https://localhost:8080/",
          "height": 206
        }
      },
      "execution_count": 62,
      "outputs": [
        {
          "output_type": "execute_result",
          "data": {
            "text/plain": [
              "   step    amount  oldbalanceOrg  newbalanceOrig  oldbalanceDest  \\\n",
              "0   0.0  0.000984       0.004369        0.004116        0.000000   \n",
              "1   0.0  0.000186       0.000546        0.000498        0.000000   \n",
              "2   0.0  0.000018       0.000005        0.000000        0.000000   \n",
              "3   0.0  0.000018       0.000005        0.000000        0.000511   \n",
              "4   0.0  0.001167       0.001067        0.000767        0.000000   \n",
              "\n",
              "   newbalanceDest  type_CASH_IN  type_CASH_OUT  type_DEBIT  type_PAYMENT  \\\n",
              "0             0.0           0.0            0.0         0.0           1.0   \n",
              "1             0.0           0.0            0.0         0.0           1.0   \n",
              "2             0.0           0.0            0.0         0.0           0.0   \n",
              "3             0.0           0.0            1.0         0.0           0.0   \n",
              "4             0.0           0.0            0.0         0.0           1.0   \n",
              "\n",
              "   type_TRANSFER  \n",
              "0            0.0  \n",
              "1            0.0  \n",
              "2            1.0  \n",
              "3            0.0  \n",
              "4            0.0  "
            ],
            "text/html": [
              "\n",
              "  <div id=\"df-43f84b58-fdec-4133-ab57-e571f8e2dd6a\">\n",
              "    <div class=\"colab-df-container\">\n",
              "      <div>\n",
              "<style scoped>\n",
              "    .dataframe tbody tr th:only-of-type {\n",
              "        vertical-align: middle;\n",
              "    }\n",
              "\n",
              "    .dataframe tbody tr th {\n",
              "        vertical-align: top;\n",
              "    }\n",
              "\n",
              "    .dataframe thead th {\n",
              "        text-align: right;\n",
              "    }\n",
              "</style>\n",
              "<table border=\"1\" class=\"dataframe\">\n",
              "  <thead>\n",
              "    <tr style=\"text-align: right;\">\n",
              "      <th></th>\n",
              "      <th>step</th>\n",
              "      <th>amount</th>\n",
              "      <th>oldbalanceOrg</th>\n",
              "      <th>newbalanceOrig</th>\n",
              "      <th>oldbalanceDest</th>\n",
              "      <th>newbalanceDest</th>\n",
              "      <th>type_CASH_IN</th>\n",
              "      <th>type_CASH_OUT</th>\n",
              "      <th>type_DEBIT</th>\n",
              "      <th>type_PAYMENT</th>\n",
              "      <th>type_TRANSFER</th>\n",
              "    </tr>\n",
              "  </thead>\n",
              "  <tbody>\n",
              "    <tr>\n",
              "      <th>0</th>\n",
              "      <td>0.0</td>\n",
              "      <td>0.000984</td>\n",
              "      <td>0.004369</td>\n",
              "      <td>0.004116</td>\n",
              "      <td>0.000000</td>\n",
              "      <td>0.0</td>\n",
              "      <td>0.0</td>\n",
              "      <td>0.0</td>\n",
              "      <td>0.0</td>\n",
              "      <td>1.0</td>\n",
              "      <td>0.0</td>\n",
              "    </tr>\n",
              "    <tr>\n",
              "      <th>1</th>\n",
              "      <td>0.0</td>\n",
              "      <td>0.000186</td>\n",
              "      <td>0.000546</td>\n",
              "      <td>0.000498</td>\n",
              "      <td>0.000000</td>\n",
              "      <td>0.0</td>\n",
              "      <td>0.0</td>\n",
              "      <td>0.0</td>\n",
              "      <td>0.0</td>\n",
              "      <td>1.0</td>\n",
              "      <td>0.0</td>\n",
              "    </tr>\n",
              "    <tr>\n",
              "      <th>2</th>\n",
              "      <td>0.0</td>\n",
              "      <td>0.000018</td>\n",
              "      <td>0.000005</td>\n",
              "      <td>0.000000</td>\n",
              "      <td>0.000000</td>\n",
              "      <td>0.0</td>\n",
              "      <td>0.0</td>\n",
              "      <td>0.0</td>\n",
              "      <td>0.0</td>\n",
              "      <td>0.0</td>\n",
              "      <td>1.0</td>\n",
              "    </tr>\n",
              "    <tr>\n",
              "      <th>3</th>\n",
              "      <td>0.0</td>\n",
              "      <td>0.000018</td>\n",
              "      <td>0.000005</td>\n",
              "      <td>0.000000</td>\n",
              "      <td>0.000511</td>\n",
              "      <td>0.0</td>\n",
              "      <td>0.0</td>\n",
              "      <td>1.0</td>\n",
              "      <td>0.0</td>\n",
              "      <td>0.0</td>\n",
              "      <td>0.0</td>\n",
              "    </tr>\n",
              "    <tr>\n",
              "      <th>4</th>\n",
              "      <td>0.0</td>\n",
              "      <td>0.001167</td>\n",
              "      <td>0.001067</td>\n",
              "      <td>0.000767</td>\n",
              "      <td>0.000000</td>\n",
              "      <td>0.0</td>\n",
              "      <td>0.0</td>\n",
              "      <td>0.0</td>\n",
              "      <td>0.0</td>\n",
              "      <td>1.0</td>\n",
              "      <td>0.0</td>\n",
              "    </tr>\n",
              "  </tbody>\n",
              "</table>\n",
              "</div>\n",
              "      <button class=\"colab-df-convert\" onclick=\"convertToInteractive('df-43f84b58-fdec-4133-ab57-e571f8e2dd6a')\"\n",
              "              title=\"Convert this dataframe to an interactive table.\"\n",
              "              style=\"display:none;\">\n",
              "        \n",
              "  <svg xmlns=\"http://www.w3.org/2000/svg\" height=\"24px\"viewBox=\"0 0 24 24\"\n",
              "       width=\"24px\">\n",
              "    <path d=\"M0 0h24v24H0V0z\" fill=\"none\"/>\n",
              "    <path d=\"M18.56 5.44l.94 2.06.94-2.06 2.06-.94-2.06-.94-.94-2.06-.94 2.06-2.06.94zm-11 1L8.5 8.5l.94-2.06 2.06-.94-2.06-.94L8.5 2.5l-.94 2.06-2.06.94zm10 10l.94 2.06.94-2.06 2.06-.94-2.06-.94-.94-2.06-.94 2.06-2.06.94z\"/><path d=\"M17.41 7.96l-1.37-1.37c-.4-.4-.92-.59-1.43-.59-.52 0-1.04.2-1.43.59L10.3 9.45l-7.72 7.72c-.78.78-.78 2.05 0 2.83L4 21.41c.39.39.9.59 1.41.59.51 0 1.02-.2 1.41-.59l7.78-7.78 2.81-2.81c.8-.78.8-2.07 0-2.86zM5.41 20L4 18.59l7.72-7.72 1.47 1.35L5.41 20z\"/>\n",
              "  </svg>\n",
              "      </button>\n",
              "      \n",
              "  <style>\n",
              "    .colab-df-container {\n",
              "      display:flex;\n",
              "      flex-wrap:wrap;\n",
              "      gap: 12px;\n",
              "    }\n",
              "\n",
              "    .colab-df-convert {\n",
              "      background-color: #E8F0FE;\n",
              "      border: none;\n",
              "      border-radius: 50%;\n",
              "      cursor: pointer;\n",
              "      display: none;\n",
              "      fill: #1967D2;\n",
              "      height: 32px;\n",
              "      padding: 0 0 0 0;\n",
              "      width: 32px;\n",
              "    }\n",
              "\n",
              "    .colab-df-convert:hover {\n",
              "      background-color: #E2EBFA;\n",
              "      box-shadow: 0px 1px 2px rgba(60, 64, 67, 0.3), 0px 1px 3px 1px rgba(60, 64, 67, 0.15);\n",
              "      fill: #174EA6;\n",
              "    }\n",
              "\n",
              "    [theme=dark] .colab-df-convert {\n",
              "      background-color: #3B4455;\n",
              "      fill: #D2E3FC;\n",
              "    }\n",
              "\n",
              "    [theme=dark] .colab-df-convert:hover {\n",
              "      background-color: #434B5C;\n",
              "      box-shadow: 0px 1px 3px 1px rgba(0, 0, 0, 0.15);\n",
              "      filter: drop-shadow(0px 1px 2px rgba(0, 0, 0, 0.3));\n",
              "      fill: #FFFFFF;\n",
              "    }\n",
              "  </style>\n",
              "\n",
              "      <script>\n",
              "        const buttonEl =\n",
              "          document.querySelector('#df-43f84b58-fdec-4133-ab57-e571f8e2dd6a button.colab-df-convert');\n",
              "        buttonEl.style.display =\n",
              "          google.colab.kernel.accessAllowed ? 'block' : 'none';\n",
              "\n",
              "        async function convertToInteractive(key) {\n",
              "          const element = document.querySelector('#df-43f84b58-fdec-4133-ab57-e571f8e2dd6a');\n",
              "          const dataTable =\n",
              "            await google.colab.kernel.invokeFunction('convertToInteractive',\n",
              "                                                     [key], {});\n",
              "          if (!dataTable) return;\n",
              "\n",
              "          const docLinkHtml = 'Like what you see? Visit the ' +\n",
              "            '<a target=\"_blank\" href=https://colab.research.google.com/notebooks/data_table.ipynb>data table notebook</a>'\n",
              "            + ' to learn more about interactive tables.';\n",
              "          element.innerHTML = '';\n",
              "          dataTable['output_type'] = 'display_data';\n",
              "          await google.colab.output.renderOutput(dataTable, element);\n",
              "          const docLink = document.createElement('div');\n",
              "          docLink.innerHTML = docLinkHtml;\n",
              "          element.appendChild(docLink);\n",
              "        }\n",
              "      </script>\n",
              "    </div>\n",
              "  </div>\n",
              "  "
            ]
          },
          "metadata": {},
          "execution_count": 62
        }
      ]
    },
    {
      "cell_type": "code",
      "source": [
        "change = ['step','type_CASH_IN','type_CASH_OUT',\t'type_DEBIT',\t'type_PAYMENT',\t'type_TRANSFER']\n",
        " \n",
        "    \n",
        "for i in change:\n",
        "  x[i] = x[i].apply(lambda x: int(x))"
      ],
      "metadata": {
        "id": "OUr77GDa6vQS"
      },
      "execution_count": 63,
      "outputs": []
    },
    {
      "cell_type": "code",
      "source": [
        "x.head()"
      ],
      "metadata": {
        "id": "iuD8XemP_tev",
        "outputId": "f8282635-79c5-4b48-f8b7-298d7e42534d",
        "colab": {
          "base_uri": "https://localhost:8080/",
          "height": 206
        }
      },
      "execution_count": 64,
      "outputs": [
        {
          "output_type": "execute_result",
          "data": {
            "text/plain": [
              "   step    amount  oldbalanceOrg  newbalanceOrig  oldbalanceDest  \\\n",
              "0     0  0.000984       0.004369        0.004116        0.000000   \n",
              "1     0  0.000186       0.000546        0.000498        0.000000   \n",
              "2     0  0.000018       0.000005        0.000000        0.000000   \n",
              "3     0  0.000018       0.000005        0.000000        0.000511   \n",
              "4     0  0.001167       0.001067        0.000767        0.000000   \n",
              "\n",
              "   newbalanceDest  type_CASH_IN  type_CASH_OUT  type_DEBIT  type_PAYMENT  \\\n",
              "0             0.0             0              0           0             1   \n",
              "1             0.0             0              0           0             1   \n",
              "2             0.0             0              0           0             0   \n",
              "3             0.0             0              1           0             0   \n",
              "4             0.0             0              0           0             1   \n",
              "\n",
              "   type_TRANSFER  \n",
              "0              0  \n",
              "1              0  \n",
              "2              1  \n",
              "3              0  \n",
              "4              0  "
            ],
            "text/html": [
              "\n",
              "  <div id=\"df-c0ec00e6-c255-4159-9b8c-991398a5052e\">\n",
              "    <div class=\"colab-df-container\">\n",
              "      <div>\n",
              "<style scoped>\n",
              "    .dataframe tbody tr th:only-of-type {\n",
              "        vertical-align: middle;\n",
              "    }\n",
              "\n",
              "    .dataframe tbody tr th {\n",
              "        vertical-align: top;\n",
              "    }\n",
              "\n",
              "    .dataframe thead th {\n",
              "        text-align: right;\n",
              "    }\n",
              "</style>\n",
              "<table border=\"1\" class=\"dataframe\">\n",
              "  <thead>\n",
              "    <tr style=\"text-align: right;\">\n",
              "      <th></th>\n",
              "      <th>step</th>\n",
              "      <th>amount</th>\n",
              "      <th>oldbalanceOrg</th>\n",
              "      <th>newbalanceOrig</th>\n",
              "      <th>oldbalanceDest</th>\n",
              "      <th>newbalanceDest</th>\n",
              "      <th>type_CASH_IN</th>\n",
              "      <th>type_CASH_OUT</th>\n",
              "      <th>type_DEBIT</th>\n",
              "      <th>type_PAYMENT</th>\n",
              "      <th>type_TRANSFER</th>\n",
              "    </tr>\n",
              "  </thead>\n",
              "  <tbody>\n",
              "    <tr>\n",
              "      <th>0</th>\n",
              "      <td>0</td>\n",
              "      <td>0.000984</td>\n",
              "      <td>0.004369</td>\n",
              "      <td>0.004116</td>\n",
              "      <td>0.000000</td>\n",
              "      <td>0.0</td>\n",
              "      <td>0</td>\n",
              "      <td>0</td>\n",
              "      <td>0</td>\n",
              "      <td>1</td>\n",
              "      <td>0</td>\n",
              "    </tr>\n",
              "    <tr>\n",
              "      <th>1</th>\n",
              "      <td>0</td>\n",
              "      <td>0.000186</td>\n",
              "      <td>0.000546</td>\n",
              "      <td>0.000498</td>\n",
              "      <td>0.000000</td>\n",
              "      <td>0.0</td>\n",
              "      <td>0</td>\n",
              "      <td>0</td>\n",
              "      <td>0</td>\n",
              "      <td>1</td>\n",
              "      <td>0</td>\n",
              "    </tr>\n",
              "    <tr>\n",
              "      <th>2</th>\n",
              "      <td>0</td>\n",
              "      <td>0.000018</td>\n",
              "      <td>0.000005</td>\n",
              "      <td>0.000000</td>\n",
              "      <td>0.000000</td>\n",
              "      <td>0.0</td>\n",
              "      <td>0</td>\n",
              "      <td>0</td>\n",
              "      <td>0</td>\n",
              "      <td>0</td>\n",
              "      <td>1</td>\n",
              "    </tr>\n",
              "    <tr>\n",
              "      <th>3</th>\n",
              "      <td>0</td>\n",
              "      <td>0.000018</td>\n",
              "      <td>0.000005</td>\n",
              "      <td>0.000000</td>\n",
              "      <td>0.000511</td>\n",
              "      <td>0.0</td>\n",
              "      <td>0</td>\n",
              "      <td>1</td>\n",
              "      <td>0</td>\n",
              "      <td>0</td>\n",
              "      <td>0</td>\n",
              "    </tr>\n",
              "    <tr>\n",
              "      <th>4</th>\n",
              "      <td>0</td>\n",
              "      <td>0.001167</td>\n",
              "      <td>0.001067</td>\n",
              "      <td>0.000767</td>\n",
              "      <td>0.000000</td>\n",
              "      <td>0.0</td>\n",
              "      <td>0</td>\n",
              "      <td>0</td>\n",
              "      <td>0</td>\n",
              "      <td>1</td>\n",
              "      <td>0</td>\n",
              "    </tr>\n",
              "  </tbody>\n",
              "</table>\n",
              "</div>\n",
              "      <button class=\"colab-df-convert\" onclick=\"convertToInteractive('df-c0ec00e6-c255-4159-9b8c-991398a5052e')\"\n",
              "              title=\"Convert this dataframe to an interactive table.\"\n",
              "              style=\"display:none;\">\n",
              "        \n",
              "  <svg xmlns=\"http://www.w3.org/2000/svg\" height=\"24px\"viewBox=\"0 0 24 24\"\n",
              "       width=\"24px\">\n",
              "    <path d=\"M0 0h24v24H0V0z\" fill=\"none\"/>\n",
              "    <path d=\"M18.56 5.44l.94 2.06.94-2.06 2.06-.94-2.06-.94-.94-2.06-.94 2.06-2.06.94zm-11 1L8.5 8.5l.94-2.06 2.06-.94-2.06-.94L8.5 2.5l-.94 2.06-2.06.94zm10 10l.94 2.06.94-2.06 2.06-.94-2.06-.94-.94-2.06-.94 2.06-2.06.94z\"/><path d=\"M17.41 7.96l-1.37-1.37c-.4-.4-.92-.59-1.43-.59-.52 0-1.04.2-1.43.59L10.3 9.45l-7.72 7.72c-.78.78-.78 2.05 0 2.83L4 21.41c.39.39.9.59 1.41.59.51 0 1.02-.2 1.41-.59l7.78-7.78 2.81-2.81c.8-.78.8-2.07 0-2.86zM5.41 20L4 18.59l7.72-7.72 1.47 1.35L5.41 20z\"/>\n",
              "  </svg>\n",
              "      </button>\n",
              "      \n",
              "  <style>\n",
              "    .colab-df-container {\n",
              "      display:flex;\n",
              "      flex-wrap:wrap;\n",
              "      gap: 12px;\n",
              "    }\n",
              "\n",
              "    .colab-df-convert {\n",
              "      background-color: #E8F0FE;\n",
              "      border: none;\n",
              "      border-radius: 50%;\n",
              "      cursor: pointer;\n",
              "      display: none;\n",
              "      fill: #1967D2;\n",
              "      height: 32px;\n",
              "      padding: 0 0 0 0;\n",
              "      width: 32px;\n",
              "    }\n",
              "\n",
              "    .colab-df-convert:hover {\n",
              "      background-color: #E2EBFA;\n",
              "      box-shadow: 0px 1px 2px rgba(60, 64, 67, 0.3), 0px 1px 3px 1px rgba(60, 64, 67, 0.15);\n",
              "      fill: #174EA6;\n",
              "    }\n",
              "\n",
              "    [theme=dark] .colab-df-convert {\n",
              "      background-color: #3B4455;\n",
              "      fill: #D2E3FC;\n",
              "    }\n",
              "\n",
              "    [theme=dark] .colab-df-convert:hover {\n",
              "      background-color: #434B5C;\n",
              "      box-shadow: 0px 1px 3px 1px rgba(0, 0, 0, 0.15);\n",
              "      filter: drop-shadow(0px 1px 2px rgba(0, 0, 0, 0.3));\n",
              "      fill: #FFFFFF;\n",
              "    }\n",
              "  </style>\n",
              "\n",
              "      <script>\n",
              "        const buttonEl =\n",
              "          document.querySelector('#df-c0ec00e6-c255-4159-9b8c-991398a5052e button.colab-df-convert');\n",
              "        buttonEl.style.display =\n",
              "          google.colab.kernel.accessAllowed ? 'block' : 'none';\n",
              "\n",
              "        async function convertToInteractive(key) {\n",
              "          const element = document.querySelector('#df-c0ec00e6-c255-4159-9b8c-991398a5052e');\n",
              "          const dataTable =\n",
              "            await google.colab.kernel.invokeFunction('convertToInteractive',\n",
              "                                                     [key], {});\n",
              "          if (!dataTable) return;\n",
              "\n",
              "          const docLinkHtml = 'Like what you see? Visit the ' +\n",
              "            '<a target=\"_blank\" href=https://colab.research.google.com/notebooks/data_table.ipynb>data table notebook</a>'\n",
              "            + ' to learn more about interactive tables.';\n",
              "          element.innerHTML = '';\n",
              "          dataTable['output_type'] = 'display_data';\n",
              "          await google.colab.output.renderOutput(dataTable, element);\n",
              "          const docLink = document.createElement('div');\n",
              "          docLink.innerHTML = docLinkHtml;\n",
              "          element.appendChild(docLink);\n",
              "        }\n",
              "      </script>\n",
              "    </div>\n",
              "  </div>\n",
              "  "
            ]
          },
          "metadata": {},
          "execution_count": 64
        }
      ]
    },
    {
      "cell_type": "markdown",
      "source": [
        "# Statistical measures of the Fraud  & Normal transactions"
      ],
      "metadata": {
        "id": "5YfkwfwtULGt"
      }
    },
    {
      "cell_type": "code",
      "source": [
        "Fraud.amount.describe()"
      ],
      "metadata": {
        "colab": {
          "base_uri": "https://localhost:8080/"
        },
        "id": "IiZGIChM1gys",
        "outputId": "a52e2782-02b9-4e20-85c3-2195ff3ec9e7"
      },
      "execution_count": 65,
      "outputs": [
        {
          "output_type": "execute_result",
          "data": {
            "text/plain": [
              "count    2.330000e+02\n",
              "mean     8.329005e+05\n",
              "std      1.668775e+06\n",
              "min      1.190000e+02\n",
              "25%      2.012800e+04\n",
              "50%      1.430320e+05\n",
              "75%      9.944532e+05\n",
              "max      1.000000e+07\n",
              "Name: amount, dtype: float64"
            ]
          },
          "metadata": {},
          "execution_count": 65
        }
      ]
    },
    {
      "cell_type": "code",
      "source": [
        "Normal.amount.describe()"
      ],
      "metadata": {
        "colab": {
          "base_uri": "https://localhost:8080/"
        },
        "id": "A5PjO0Gf1nTP",
        "outputId": "bb9e2d40-8a0d-402b-9a54-7af46f2bb92e"
      },
      "execution_count": 66,
      "outputs": [
        {
          "output_type": "execute_result",
          "data": {
            "text/plain": [
              "count    4.997670e+05\n",
              "mean     1.660830e+05\n",
              "std      2.698829e+05\n",
              "min      1.000000e-01\n",
              "25%      1.334702e+04\n",
              "50%      8.135710e+04\n",
              "75%      2.225769e+05\n",
              "max      6.419835e+06\n",
              "Name: amount, dtype: float64"
            ]
          },
          "metadata": {},
          "execution_count": 66
        }
      ]
    },
    {
      "cell_type": "markdown",
      "source": [
        "# Checking the amounts for Fraud vs Normal transations"
      ],
      "metadata": {
        "id": "c-OLQ9A21vrq"
      }
    },
    {
      "cell_type": "code",
      "source": [
        "f, (ax1, ax2) = plt.subplots(2, 1, sharex=True) \n",
        "f.suptitle('Amount per transaction by class')\n",
        "bins = 100\n",
        "ax1.hist(np.log(Fraud.amount), bins = bins,alpha=0.75)\n",
        "ax1.set_title('Fraud')\n",
        "ax2.hist(np.log(Normal.amount), bins = bins,alpha=0.75)\n",
        "ax2.set_title('Normal')\n",
        "plt.xlabel('Amount')\n",
        "plt.ylabel('Number of Transactions')\n",
        "plt.yscale('log')\n",
        "plt.rcParams['figure.figsize'] = [10, 7]\n",
        "#plt.grid(True)\n",
        "#ax1.grid(True)\n",
        "plt.xlim([0,None])\n",
        "plt.show()"
      ],
      "metadata": {
        "colab": {
          "base_uri": "https://localhost:8080/",
          "height": 431
        },
        "id": "ykiON28710w4",
        "outputId": "953a0989-2a6c-4d51-abdb-ef45246cbf00"
      },
      "execution_count": 67,
      "outputs": [
        {
          "output_type": "display_data",
          "data": {
            "text/plain": [
              "<Figure size 432x432 with 2 Axes>"
            ],
            "image/png": "[encoded data removed]"
          },
          "metadata": {
            "needs_background": "light"
          }
        }
      ]
    },
    {
      "cell_type": "markdown",
      "source": [
        "The above plot compares the amount of 'Normal' vs 'Fraud' transactions. This shows fraudalent transactions are less in counts, but still have statistical significance."
      ],
      "metadata": {
        "id": "Kc6nxokJ2GYW"
      }
    },
    {
      "cell_type": "markdown",
      "source": [
        "# Model Selection Process"
      ],
      "metadata": {
        "id": "EF2FFbbr3KPq"
      }
    },
    {
      "cell_type": "markdown",
      "source": [
        "So, as we can see that this dataset contains Categorical as well as Numeric data, it will be good to use a \n",
        "**'Descision Tree Classifier'**. But, we have many optimised versions of the 'Descision Tree Classifier', we will use them one by one any evalute the best model upon the performance metrics."
      ],
      "metadata": {
        "id": "hbupnK-v3ODK"
      }
    },
    {
      "cell_type": "code",
      "source": [
        "from sklearn.model_selection import train_test_split\n",
        "from sklearn.ensemble import IsolationForest, RandomForestClassifier\n",
        "from sklearn.neighbors import LocalOutlierFactor\n",
        "from sklearn.svm import SVC\n",
        "from sklearn.ensemble import GradientBoostingClassifier\n",
        "from xgboost import XGBClassifier\n",
        "from sklearn.ensemble import AdaBoostClassifier"
      ],
      "metadata": {
        "id": "ny1lzIsGcAvy"
      },
      "execution_count": 68,
      "outputs": []
    },
    {
      "cell_type": "code",
      "source": [
        "x_train, x_test, y_train, y_test = train_test_split(x,y, test_size=0.3)           # Diving the dataset into training and testing dataset"
      ],
      "metadata": {
        "id": "WPllDgQgcG0E"
      },
      "execution_count": 69,
      "outputs": []
    },
    {
      "cell_type": "code",
      "source": [
        "y_test.value_counts()"
      ],
      "metadata": {
        "id": "pmTOiijXmm9t",
        "outputId": "acb55dbd-d1be-4e7d-a051-f1935e223e7d",
        "colab": {
          "base_uri": "https://localhost:8080/"
        }
      },
      "execution_count": 70,
      "outputs": [
        {
          "output_type": "execute_result",
          "data": {
            "text/plain": [
              "0    149938\n",
              "1        62\n",
              "Name: isFraud, dtype: int64"
            ]
          },
          "metadata": {},
          "execution_count": 70
        }
      ]
    },
    {
      "cell_type": "code",
      "source": [
        "outlier_fraction = len(Fraud)/len(Normal)"
      ],
      "metadata": {
        "id": "D0ZVjmOMcORd"
      },
      "execution_count": 71,
      "outputs": []
    },
    {
      "cell_type": "code",
      "source": [
        "Isf = IsolationForest(contamination=outlier_fraction, max_samples=len(x_train), verbose=0, n_estimators=100)\n",
        "loc = LocalOutlierFactor(contamination=outlier_fraction)\n",
        "svm = SVC()\n",
        "rf = RandomForestClassifier()\n",
        "gb = GradientBoostingClassifier()\n",
        "xg = XGBClassifier()\n",
        "Ada = AdaBoostClassifier()"
      ],
      "metadata": {
        "id": "D9n-5sECcV1U"
      },
      "execution_count": 72,
      "outputs": []
    },
    {
      "cell_type": "code",
      "source": [
        "y_prec = loc.fit_predict(x_test)\n",
        "Isf.fit(x_train,y_train)\n",
        "y_pred = Isf.predict(x_test)\n",
        "svm.fit(x_train,y_train)\n",
        "y_pred[y_pred == 1] = 0\n",
        "y_pred[y_pred == -1] = 1"
      ],
      "metadata": {
        "colab": {
          "base_uri": "https://localhost:8080/"
        },
        "id": "uX42b9G0caPY",
        "outputId": "4c7c21df-650a-4514-f924-8ed8e400f15f"
      },
      "execution_count": 73,
      "outputs": [
        {
          "output_type": "stream",
          "name": "stderr",
          "text": [
            "/usr/local/lib/python3.7/dist-packages/sklearn/base.py:451: UserWarning: X does not have valid feature names, but IsolationForest was fitted with feature names\n",
            "  \"X does not have valid feature names, but\"\n"
          ]
        }
      ]
    },
    {
      "cell_type": "markdown",
      "source": [
        "# Choosing the right evaluation Metrics"
      ],
      "metadata": {
        "id": "NTiP23Bq558j"
      }
    },
    {
      "cell_type": "markdown",
      "source": [
        "We have to choose a different evaluation matrics other than the '**Accuracy**'. This is because, in an imbalanced dataset, the **'Accuracy Score'** might not be meaningfull or might not help in specific instances. For, this particular instance, we would like\n",
        "to detect the 'Fraudlent' transactions, by keeping in mind that no '**Normal**' transaction is refered as '**Fraudlent**'. Also, no '**Fraudlent**' transaction should be refered as '**Noraml**'. These are also called the '**Type-I Error** and  '**Type-II Error** in statistics.\n",
        "         "
      ],
      "metadata": {
        "id": "DjbDn9JK5wTi"
      }
    },
    {
      "cell_type": "markdown",
      "source": [
        "  # Prescision, Recall & Area Under Curve (AUC)\n",
        "  '**Precesion**' and '**Recall**' are the evaluation metrics very usefull for specific purposes. '**Precesion**' is the ratio of '**True Positive**' and the sum of both '**True** **Positive**' and '**False** **Positive**'. Here, the '**True Positive**' is **Fraud Detection**. Similarly, in 'Recall' instead of '**False Positive**' it is '**False Negetive**'. Now, by keeping a '**Descision Thersold**', we will get different values of the both. And, if we plot them, we get a curve also known as the '**ROC**'. The area under this curve is important, because it's a measure of the desirable values of the both 'Precesion' and 'Recall'. This is also called the **Area Under Curve (AUC)**. "
      ],
      "metadata": {
        "id": "UPzALemh_DT9"
      }
    },
    {
      "cell_type": "markdown",
      "source": [
        "# Choosing the best model w.r.t the AUC score"
      ],
      "metadata": {
        "id": "DOOTJF7rOhUZ"
      }
    },
    {
      "cell_type": "code",
      "source": [
        "from sklearn.metrics import classification_report,accuracy_score,roc_auc_score,precision_score, confusion_matrix,recall_score"
      ],
      "metadata": {
        "id": "MoTYCPr6egY-"
      },
      "execution_count": 74,
      "outputs": []
    },
    {
      "cell_type": "code",
      "source": [
        "# Local Outlier Factor\n",
        "y_prec[y_prec == 1] = 0\n",
        "y_prec[y_prec == -1] = 1   "
      ],
      "metadata": {
        "id": "tZ7MkZ_tSuBW"
      },
      "execution_count": 75,
      "outputs": []
    },
    {
      "cell_type": "code",
      "source": [
        "y_presvm = svm.predict(x_test)  # SVM \n",
        "recall_score(y_test,y_presvm)"
      ],
      "metadata": {
        "colab": {
          "base_uri": "https://localhost:8080/"
        },
        "id": "G1UhO4Zvc3-0",
        "outputId": "6d936f7f-7446-470b-877a-0ed68600de51"
      },
      "execution_count": 76,
      "outputs": [
        {
          "output_type": "execute_result",
          "data": {
            "text/plain": [
              "0.016129032258064516"
            ]
          },
          "metadata": {},
          "execution_count": 76
        }
      ]
    },
    {
      "cell_type": "code",
      "source": [
        "print('Model: SVM')\n",
        "\n",
        "cm11 = confusion_matrix(y_test,y_presvm)\n",
        "sns.heatmap(cm11,annot=True,fmt='d')\n",
        "plt.show()"
      ],
      "metadata": {
        "colab": {
          "base_uri": "https://localhost:8080/",
          "height": 445
        },
        "id": "wsq8jAsN5eTv",
        "outputId": "b8a482ef-a94c-4023-8d7b-47e247608917"
      },
      "execution_count": 77,
      "outputs": [
        {
          "output_type": "stream",
          "name": "stdout",
          "text": [
            "Model: SVM\n"
          ]
        },
        {
          "output_type": "display_data",
          "data": {
            "text/plain": [
              "<Figure size 720x504 with 2 Axes>"
            ],
            "image/png": "[encoded data removed]"
          },
          "metadata": {
            "needs_background": "light"
          }
        }
      ]
    },
    {
      "cell_type": "markdown",
      "source": [
        "Predicted Fraud: 0/61"
      ],
      "metadata": {
        "id": "7VBD4ribRgSM"
      }
    },
    {
      "cell_type": "code",
      "source": [
        "precision_score(y_test,y_pred)    # Isolation Forestb"
      ],
      "metadata": {
        "colab": {
          "base_uri": "https://localhost:8080/"
        },
        "id": "fChyL327fdpP",
        "outputId": "84ae72ed-8479-4ed8-e500-7f4c96e1f721"
      },
      "execution_count": 78,
      "outputs": [
        {
          "output_type": "execute_result",
          "data": {
            "text/plain": [
              "0.06818181818181818"
            ]
          },
          "metadata": {},
          "execution_count": 78
        }
      ]
    },
    {
      "cell_type": "code",
      "source": [
        "print('Model: Isolation Forest')\n",
        "cm1 = confusion_matrix(y_test,y_pred)\n",
        "sns.heatmap(cm1,annot=True, fmt='d')\n",
        "plt.show()"
      ],
      "metadata": {
        "colab": {
          "base_uri": "https://localhost:8080/",
          "height": 445
        },
        "id": "PJqAdvMiRSdb",
        "outputId": "d45a6b61-d297-4019-c7f5-bbf5427e6d84"
      },
      "execution_count": 79,
      "outputs": [
        {
          "output_type": "stream",
          "name": "stdout",
          "text": [
            "Model: Isolation Forest\n"
          ]
        },
        {
          "output_type": "display_data",
          "data": {
            "text/plain": [
              "<Figure size 720x504 with 2 Axes>"
            ],
            "image/png": "[encoded data removed]"
          },
          "metadata": {
            "needs_background": "light"
          }
        }
      ]
    },
    {
      "cell_type": "markdown",
      "source": [
        "Predicted Fraud: 7/61"
      ],
      "metadata": {
        "id": "24gryyQ4RbZb"
      }
    },
    {
      "cell_type": "code",
      "source": [
        "precision_score(y_test, y_prec)   # Local Outlier Factor"
      ],
      "metadata": {
        "colab": {
          "base_uri": "https://localhost:8080/"
        },
        "id": "rudZyXmIf27Y",
        "outputId": "653f69a7-f088-4db9-f085-d4d91a07c1f3"
      },
      "execution_count": 80,
      "outputs": [
        {
          "output_type": "execute_result",
          "data": {
            "text/plain": [
              "0.1"
            ]
          },
          "metadata": {},
          "execution_count": 80
        }
      ]
    },
    {
      "cell_type": "code",
      "source": [
        "print('Model: Local outlier Factor')\n",
        "cm1 = confusion_matrix(y_test,y_prec)\n",
        "sns.heatmap(cm1,annot=True, fmt='d')\n",
        "plt.show()"
      ],
      "metadata": {
        "colab": {
          "base_uri": "https://localhost:8080/",
          "height": 445
        },
        "id": "DcqRHiH8R72q",
        "outputId": "0db98120-6c2d-4abe-b54d-a774c789f399"
      },
      "execution_count": 81,
      "outputs": [
        {
          "output_type": "stream",
          "name": "stdout",
          "text": [
            "Model: Local outlier Factor\n"
          ]
        },
        {
          "output_type": "display_data",
          "data": {
            "text/plain": [
              "<Figure size 720x504 with 2 Axes>"
            ],
            "image/png": "[encoded data removed]"
          },
          "metadata": {
            "needs_background": "light"
          }
        }
      ]
    },
    {
      "cell_type": "markdown",
      "source": [
        "Predicted Fraud: 12/61"
      ],
      "metadata": {
        "id": "ElwoO0aWRWTl"
      }
    },
    {
      "cell_type": "code",
      "source": [
        "rf.fit(x_train,y_train)         # Random Forest\n",
        "y_prerf = rf.predict(x_test)"
      ],
      "metadata": {
        "id": "q2DOFmEugiD_"
      },
      "execution_count": 82,
      "outputs": []
    },
    {
      "cell_type": "code",
      "source": [
        "# Random Forest \n",
        "precision_score(y_test,y_prerf)   "
      ],
      "metadata": {
        "colab": {
          "base_uri": "https://localhost:8080/"
        },
        "id": "haa60MZRgh5n",
        "outputId": "7e2606ef-19ba-48ce-aaae-7ce257b04dd4"
      },
      "execution_count": 83,
      "outputs": [
        {
          "output_type": "execute_result",
          "data": {
            "text/plain": [
              "0.9166666666666666"
            ]
          },
          "metadata": {},
          "execution_count": 83
        }
      ]
    },
    {
      "cell_type": "code",
      "source": [
        "print('Model: Random Forest')\n",
        "cm1 = confusion_matrix(y_test,y_prerf)\n",
        "sns.heatmap(cm1,annot=True, fmt='d')\n",
        "plt.show()"
      ],
      "metadata": {
        "colab": {
          "base_uri": "https://localhost:8080/",
          "height": 445
        },
        "id": "aPHUupU0Sd2S",
        "outputId": "786cba75-8e81-4fca-e339-8d5399bec99c"
      },
      "execution_count": 84,
      "outputs": [
        {
          "output_type": "stream",
          "name": "stdout",
          "text": [
            "Model: Random Forest\n"
          ]
        },
        {
          "output_type": "display_data",
          "data": {
            "text/plain": [
              "<Figure size 720x504 with 2 Axes>"
            ],
            "image/png": "[encoded data removed]"
          },
          "metadata": {
            "needs_background": "light"
          }
        }
      ]
    },
    {
      "cell_type": "markdown",
      "source": [
        "Predicted Fraud: 9/61"
      ],
      "metadata": {
        "id": "uRYe4g4iRRSt"
      }
    },
    {
      "cell_type": "code",
      "source": [
        "gb.fit(x_train,y_train)         # Gradiant Boost\n",
        "y_pregb = gb.predict(x_test)    "
      ],
      "metadata": {
        "id": "oEED6NjBlaU6"
      },
      "execution_count": 85,
      "outputs": []
    },
    {
      "cell_type": "code",
      "source": [
        "precision_score(y_test,y_pregb)    # gradiant Boost  "
      ],
      "metadata": {
        "colab": {
          "base_uri": "https://localhost:8080/"
        },
        "id": "uqYwEC9fnYjy",
        "outputId": "1905c918-09dd-4842-aff1-ac70cd32b4e5"
      },
      "execution_count": 86,
      "outputs": [
        {
          "output_type": "execute_result",
          "data": {
            "text/plain": [
              "0.47540983606557374"
            ]
          },
          "metadata": {},
          "execution_count": 86
        }
      ]
    },
    {
      "cell_type": "code",
      "source": [
        "print('Model: Gradiant Boost')\n",
        "cm1 = confusion_matrix(y_test,y_pregb)\n",
        "sns.heatmap(cm1,annot=True, fmt='d')\n",
        "plt.show()"
      ],
      "metadata": {
        "colab": {
          "base_uri": "https://localhost:8080/",
          "height": 445
        },
        "id": "KVmCMPZ8StLr",
        "outputId": "119cf3e5-104f-4b01-bcb4-99b6ed438b10"
      },
      "execution_count": 87,
      "outputs": [
        {
          "output_type": "stream",
          "name": "stdout",
          "text": [
            "Model: Gradiant Boost\n"
          ]
        },
        {
          "output_type": "display_data",
          "data": {
            "text/plain": [
              "<Figure size 720x504 with 2 Axes>"
            ],
            "image/png": "[encoded data removed]"
          },
          "metadata": {
            "needs_background": "light"
          }
        }
      ]
    },
    {
      "cell_type": "markdown",
      "source": [
        "Predicted Fraud: 8/61"
      ],
      "metadata": {
        "id": "4M56BMEZRBw5"
      }
    },
    {
      "cell_type": "code",
      "source": [
        "xg.fit(x_train,y_train)          # Xg Boost\n",
        "y_prexg = xg.predict(x_test)"
      ],
      "metadata": {
        "id": "_7pEjkVXwNts"
      },
      "execution_count": 88,
      "outputs": []
    },
    {
      "cell_type": "code",
      "source": [
        "recall_score(y_test,y_prexg)    # Xg Boost (2nd Best Score)"
      ],
      "metadata": {
        "colab": {
          "base_uri": "https://localhost:8080/"
        },
        "id": "f8953OXUxZvR",
        "outputId": "6a9bc468-1675-49cb-b3b7-68fd8750b5ce"
      },
      "execution_count": 89,
      "outputs": [
        {
          "output_type": "execute_result",
          "data": {
            "text/plain": [
              "0.5161290322580645"
            ]
          },
          "metadata": {},
          "execution_count": 89
        }
      ]
    },
    {
      "cell_type": "code",
      "source": [
        "print('Model: Xg Boost')\n",
        "cm6 = confusion_matrix(y_test,y_prexg)\n",
        "sns.heatmap(cm6,annot=True, fmt='d')\n",
        "plt.show()"
      ],
      "metadata": {
        "colab": {
          "base_uri": "https://localhost:8080/",
          "height": 445
        },
        "id": "jX5kk5RMS4KJ",
        "outputId": "ced19c7b-4a71-4ffd-be60-1f68991f541e"
      },
      "execution_count": 90,
      "outputs": [
        {
          "output_type": "stream",
          "name": "stdout",
          "text": [
            "Model: Xg Boost\n"
          ]
        },
        {
          "output_type": "display_data",
          "data": {
            "text/plain": [
              "<Figure size 720x504 with 2 Axes>"
            ],
            "image/png": "[encoded data removed]"
          },
          "metadata": {
            "needs_background": "light"
          }
        }
      ]
    },
    {
      "cell_type": "markdown",
      "source": [
        " Predicted Fraud: 3/61"
      ],
      "metadata": {
        "id": "HvF5SErUQ1YV"
      }
    },
    {
      "cell_type": "code",
      "source": [
        "Ada.fit(x_train,y_train)          # Ada Boost\n",
        "y_preaba = Ada.predict(x_test)"
      ],
      "metadata": {
        "id": "xJ2FErM0AZ88"
      },
      "execution_count": 91,
      "outputs": []
    },
    {
      "cell_type": "code",
      "source": [
        "precision_score(y_test,y_preaba)    # Ada Boost (3rd Best Score)"
      ],
      "metadata": {
        "colab": {
          "base_uri": "https://localhost:8080/"
        },
        "id": "A22rIYTiBSE2",
        "outputId": "4d8c5fc6-8ed5-4ddb-abca-41f04f6a6344"
      },
      "execution_count": 92,
      "outputs": [
        {
          "output_type": "execute_result",
          "data": {
            "text/plain": [
              "0.9166666666666666"
            ]
          },
          "metadata": {},
          "execution_count": 92
        }
      ]
    },
    {
      "cell_type": "code",
      "source": [
        "print('Model: Ada Boost')\n",
        "cm8 = confusion_matrix(y_test,y_preaba)\n",
        "sns.heatmap(cm8,annot=True, fmt='d')\n",
        "plt.show()"
      ],
      "metadata": {
        "colab": {
          "base_uri": "https://localhost:8080/",
          "height": 445
        },
        "id": "DPDREZzoTGhO",
        "outputId": "977e4a29-80b2-4166-e802-2b170391b14a"
      },
      "execution_count": 93,
      "outputs": [
        {
          "output_type": "stream",
          "name": "stdout",
          "text": [
            "Model: Ada Boost\n"
          ]
        },
        {
          "output_type": "display_data",
          "data": {
            "text/plain": [
              "<Figure size 720x504 with 2 Axes>"
            ],
            "image/png": "[encoded data removed]"
          },
          "metadata": {
            "needs_background": "light"
          }
        }
      ]
    },
    {
      "cell_type": "code",
      "source": [
        "# Neural Networks\n",
        "from tensorflow import keras\n",
        "\n",
        "model1 = keras.Sequential([\n",
        "keras.layers.Dense(11, input_shape=(11,),activation='relu'),\n",
        "keras.layers.Dense(4,activation='relu'),\n",
        "keras.layers.Dense(1,activation='sigmoid')])\n",
        "\n",
        "model1.compile(\n",
        "    optimizer='adam',\n",
        "    loss='binary_crossentropy',\n",
        "    metrics=['accuracy']\n",
        ")\n",
        "model1.fit(x_train, y_train, epochs=100)"
      ],
      "metadata": {
        "colab": {
          "base_uri": "https://localhost:8080/"
        },
        "id": "KXzDM2Tl6kxe",
        "outputId": "b18ae89b-78c8-4616-ab2c-99d54deb1e04"
      },
      "execution_count": 124,
      "outputs": [
        {
          "output_type": "stream",
          "name": "stdout",
          "text": [
            "Epoch 1/100\n",
            "10938/10938 [==============================] - 23s 2ms/step - loss: 0.0136 - accuracy: 0.9975\n",
            "Epoch 2/100\n",
            "10938/10938 [==============================] - 20s 2ms/step - loss: 0.0035 - accuracy: 0.9995\n",
            "Epoch 3/100\n",
            "10938/10938 [==============================] - 20s 2ms/step - loss: 0.0033 - accuracy: 0.9995\n",
            "Epoch 4/100\n",
            "10938/10938 [==============================] - 20s 2ms/step - loss: 0.0031 - accuracy: 0.9995\n",
            "Epoch 5/100\n",
            "10938/10938 [==============================] - 20s 2ms/step - loss: 0.0029 - accuracy: 0.9995\n",
            "Epoch 6/100\n",
            "10938/10938 [==============================] - 19s 2ms/step - loss: 0.0028 - accuracy: 0.9996\n",
            "Epoch 7/100\n",
            "10938/10938 [==============================] - 19s 2ms/step - loss: 0.0027 - accuracy: 0.9996\n",
            "Epoch 8/100\n",
            "10938/10938 [==============================] - 20s 2ms/step - loss: 0.0026 - accuracy: 0.9996\n",
            "Epoch 9/100\n",
            "10938/10938 [==============================] - 20s 2ms/step - loss: 0.0026 - accuracy: 0.9996\n",
            "Epoch 10/100\n",
            "10938/10938 [==============================] - 20s 2ms/step - loss: 0.0025 - accuracy: 0.9996\n",
            "Epoch 11/100\n",
            "10938/10938 [==============================] - 20s 2ms/step - loss: 0.0025 - accuracy: 0.9996\n",
            "Epoch 12/100\n",
            "10938/10938 [==============================] - 20s 2ms/step - loss: 0.0024 - accuracy: 0.9996\n",
            "Epoch 13/100\n",
            "10938/10938 [==============================] - 20s 2ms/step - loss: 0.0024 - accuracy: 0.9996\n",
            "Epoch 14/100\n",
            "10938/10938 [==============================] - 20s 2ms/step - loss: 0.0024 - accuracy: 0.9996\n",
            "Epoch 15/100\n",
            "10938/10938 [==============================] - 19s 2ms/step - loss: 0.0024 - accuracy: 0.9996\n",
            "Epoch 16/100\n",
            "10938/10938 [==============================] - 20s 2ms/step - loss: 0.0023 - accuracy: 0.9996\n",
            "Epoch 17/100\n",
            "10938/10938 [==============================] - 19s 2ms/step - loss: 0.0023 - accuracy: 0.9996\n",
            "Epoch 18/100\n",
            "10938/10938 [==============================] - 19s 2ms/step - loss: 0.0023 - accuracy: 0.9996\n",
            "Epoch 19/100\n",
            "10938/10938 [==============================] - 20s 2ms/step - loss: 0.0023 - accuracy: 0.9996\n",
            "Epoch 20/100\n",
            "10938/10938 [==============================] - 20s 2ms/step - loss: 0.0022 - accuracy: 0.9996\n",
            "Epoch 21/100\n",
            "10938/10938 [==============================] - 20s 2ms/step - loss: 0.0022 - accuracy: 0.9996\n",
            "Epoch 22/100\n",
            "10938/10938 [==============================] - 20s 2ms/step - loss: 0.0022 - accuracy: 0.9996\n",
            "Epoch 23/100\n",
            "10938/10938 [==============================] - 20s 2ms/step - loss: 0.0022 - accuracy: 0.9996\n",
            "Epoch 24/100\n",
            "10938/10938 [==============================] - 20s 2ms/step - loss: 0.0022 - accuracy: 0.9996\n",
            "Epoch 25/100\n",
            "10938/10938 [==============================] - 20s 2ms/step - loss: 0.0021 - accuracy: 0.9996\n",
            "Epoch 26/100\n",
            "10938/10938 [==============================] - 20s 2ms/step - loss: 0.0021 - accuracy: 0.9996\n",
            "Epoch 27/100\n",
            "10938/10938 [==============================] - 19s 2ms/step - loss: 0.0021 - accuracy: 0.9996\n",
            "Epoch 28/100\n",
            "10938/10938 [==============================] - 19s 2ms/step - loss: 0.0021 - accuracy: 0.9996\n",
            "Epoch 29/100\n",
            "10938/10938 [==============================] - 20s 2ms/step - loss: 0.0021 - accuracy: 0.9996\n",
            "Epoch 30/100\n",
            "10938/10938 [==============================] - 20s 2ms/step - loss: 0.0020 - accuracy: 0.9996\n",
            "Epoch 31/100\n",
            "10938/10938 [==============================] - 20s 2ms/step - loss: 0.0021 - accuracy: 0.9996\n",
            "Epoch 32/100\n",
            "10938/10938 [==============================] - 20s 2ms/step - loss: 0.0021 - accuracy: 0.9996\n",
            "Epoch 33/100\n",
            "10938/10938 [==============================] - 20s 2ms/step - loss: 0.0020 - accuracy: 0.9996\n",
            "Epoch 34/100\n",
            "10938/10938 [==============================] - 20s 2ms/step - loss: 0.0020 - accuracy: 0.9996\n",
            "Epoch 35/100\n",
            "10938/10938 [==============================] - 20s 2ms/step - loss: 0.0020 - accuracy: 0.9996\n",
            "Epoch 36/100\n",
            "10938/10938 [==============================] - 20s 2ms/step - loss: 0.0020 - accuracy: 0.9996\n",
            "Epoch 37/100\n",
            "10938/10938 [==============================] - 20s 2ms/step - loss: 0.0020 - accuracy: 0.9996\n",
            "Epoch 38/100\n",
            "10938/10938 [==============================] - 20s 2ms/step - loss: 0.0020 - accuracy: 0.9996\n",
            "Epoch 39/100\n",
            "10938/10938 [==============================] - 20s 2ms/step - loss: 0.0020 - accuracy: 0.9996\n",
            "Epoch 40/100\n",
            "10938/10938 [==============================] - 19s 2ms/step - loss: 0.0019 - accuracy: 0.9996\n",
            "Epoch 41/100\n",
            "10938/10938 [==============================] - 20s 2ms/step - loss: 0.0020 - accuracy: 0.9996\n",
            "Epoch 42/100\n",
            "10938/10938 [==============================] - 20s 2ms/step - loss: 0.0019 - accuracy: 0.9997\n",
            "Epoch 43/100\n",
            "10938/10938 [==============================] - 20s 2ms/step - loss: 0.0019 - accuracy: 0.9996\n",
            "Epoch 44/100\n",
            "10938/10938 [==============================] - 19s 2ms/step - loss: 0.0020 - accuracy: 0.9996\n",
            "Epoch 45/100\n",
            "10938/10938 [==============================] - 20s 2ms/step - loss: 0.0019 - accuracy: 0.9996\n",
            "Epoch 46/100\n",
            "10938/10938 [==============================] - 20s 2ms/step - loss: 0.0019 - accuracy: 0.9996\n",
            "Epoch 47/100\n",
            "10938/10938 [==============================] - 19s 2ms/step - loss: 0.0019 - accuracy: 0.9996\n",
            "Epoch 48/100\n",
            "10938/10938 [==============================] - 20s 2ms/step - loss: 0.0020 - accuracy: 0.9997\n",
            "Epoch 49/100\n",
            "10938/10938 [==============================] - 19s 2ms/step - loss: 0.0019 - accuracy: 0.9996\n",
            "Epoch 50/100\n",
            "10938/10938 [==============================] - 20s 2ms/step - loss: 0.0019 - accuracy: 0.9997\n",
            "Epoch 51/100\n",
            "10938/10938 [==============================] - 20s 2ms/step - loss: 0.0019 - accuracy: 0.9996\n",
            "Epoch 52/100\n",
            "10938/10938 [==============================] - 20s 2ms/step - loss: 0.0019 - accuracy: 0.9996\n",
            "Epoch 53/100\n",
            "10938/10938 [==============================] - 19s 2ms/step - loss: 0.0019 - accuracy: 0.9996\n",
            "Epoch 54/100\n",
            "10938/10938 [==============================] - 20s 2ms/step - loss: 0.0019 - accuracy: 0.9996\n",
            "Epoch 55/100\n",
            "10938/10938 [==============================] - 19s 2ms/step - loss: 0.0019 - accuracy: 0.9996\n",
            "Epoch 56/100\n",
            "10938/10938 [==============================] - 19s 2ms/step - loss: 0.0019 - accuracy: 0.9996\n",
            "Epoch 57/100\n",
            "10938/10938 [==============================] - 20s 2ms/step - loss: 0.0019 - accuracy: 0.9996\n",
            "Epoch 58/100\n",
            "10938/10938 [==============================] - 20s 2ms/step - loss: 0.0019 - accuracy: 0.9996\n",
            "Epoch 59/100\n",
            "10938/10938 [==============================] - 19s 2ms/step - loss: 0.0019 - accuracy: 0.9997\n",
            "Epoch 60/100\n",
            "10938/10938 [==============================] - 19s 2ms/step - loss: 0.0019 - accuracy: 0.9996\n",
            "Epoch 61/100\n",
            "10938/10938 [==============================] - 19s 2ms/step - loss: 0.0019 - accuracy: 0.9996\n",
            "Epoch 62/100\n",
            "10938/10938 [==============================] - 20s 2ms/step - loss: 0.0019 - accuracy: 0.9997\n",
            "Epoch 63/100\n",
            "10938/10938 [==============================] - 20s 2ms/step - loss: 0.0018 - accuracy: 0.9997\n",
            "Epoch 64/100\n",
            "10938/10938 [==============================] - 20s 2ms/step - loss: 0.0019 - accuracy: 0.9997\n",
            "Epoch 65/100\n",
            "10938/10938 [==============================] - 20s 2ms/step - loss: 0.0019 - accuracy: 0.9997\n",
            "Epoch 66/100\n",
            "10938/10938 [==============================] - 20s 2ms/step - loss: 0.0018 - accuracy: 0.9997\n",
            "Epoch 67/100\n",
            "10938/10938 [==============================] - 20s 2ms/step - loss: 0.0019 - accuracy: 0.9997\n",
            "Epoch 68/100\n",
            "10938/10938 [==============================] - 20s 2ms/step - loss: 0.0018 - accuracy: 0.9997\n",
            "Epoch 69/100\n",
            "10938/10938 [==============================] - 20s 2ms/step - loss: 0.0019 - accuracy: 0.9997\n",
            "Epoch 70/100\n",
            "10938/10938 [==============================] - 20s 2ms/step - loss: 0.0018 - accuracy: 0.9996\n",
            "Epoch 71/100\n",
            "10938/10938 [==============================] - 20s 2ms/step - loss: 0.0018 - accuracy: 0.9997\n",
            "Epoch 72/100\n",
            "10938/10938 [==============================] - 20s 2ms/step - loss: 0.0019 - accuracy: 0.9996\n",
            "Epoch 73/100\n",
            "10938/10938 [==============================] - 20s 2ms/step - loss: 0.0019 - accuracy: 0.9997\n",
            "Epoch 74/100\n",
            "10938/10938 [==============================] - 20s 2ms/step - loss: 0.0018 - accuracy: 0.9997\n",
            "Epoch 75/100\n",
            "10938/10938 [==============================] - 20s 2ms/step - loss: 0.0018 - accuracy: 0.9997\n",
            "Epoch 76/100\n",
            "10938/10938 [==============================] - 20s 2ms/step - loss: 0.0018 - accuracy: 0.9997\n",
            "Epoch 77/100\n",
            "10938/10938 [==============================] - 20s 2ms/step - loss: 0.0018 - accuracy: 0.9997\n",
            "Epoch 78/100\n",
            "10938/10938 [==============================] - 20s 2ms/step - loss: 0.0018 - accuracy: 0.9997\n",
            "Epoch 79/100\n",
            "10938/10938 [==============================] - 20s 2ms/step - loss: 0.0019 - accuracy: 0.9997\n",
            "Epoch 80/100\n",
            "10938/10938 [==============================] - 20s 2ms/step - loss: 0.0018 - accuracy: 0.9997\n",
            "Epoch 81/100\n",
            "10938/10938 [==============================] - 20s 2ms/step - loss: 0.0018 - accuracy: 0.9997\n",
            "Epoch 82/100\n",
            "10938/10938 [==============================] - 20s 2ms/step - loss: 0.0018 - accuracy: 0.9997\n",
            "Epoch 83/100\n",
            "10938/10938 [==============================] - 20s 2ms/step - loss: 0.0018 - accuracy: 0.9997\n",
            "Epoch 84/100\n",
            "10938/10938 [==============================] - 20s 2ms/step - loss: 0.0018 - accuracy: 0.9997\n",
            "Epoch 85/100\n",
            "10938/10938 [==============================] - 20s 2ms/step - loss: 0.0018 - accuracy: 0.9997\n",
            "Epoch 86/100\n",
            "10938/10938 [==============================] - 21s 2ms/step - loss: 0.0018 - accuracy: 0.9997\n",
            "Epoch 87/100\n",
            "10938/10938 [==============================] - 21s 2ms/step - loss: 0.0018 - accuracy: 0.9997\n",
            "Epoch 88/100\n",
            "10938/10938 [==============================] - 21s 2ms/step - loss: 0.0018 - accuracy: 0.9997\n",
            "Epoch 89/100\n",
            "10938/10938 [==============================] - 21s 2ms/step - loss: 0.0018 - accuracy: 0.9997\n",
            "Epoch 90/100\n",
            "10938/10938 [==============================] - 20s 2ms/step - loss: 0.0018 - accuracy: 0.9997\n",
            "Epoch 91/100\n",
            "10938/10938 [==============================] - 20s 2ms/step - loss: 0.0018 - accuracy: 0.9997\n",
            "Epoch 92/100\n",
            "10938/10938 [==============================] - 20s 2ms/step - loss: 0.0018 - accuracy: 0.9997\n",
            "Epoch 93/100\n",
            "10938/10938 [==============================] - 20s 2ms/step - loss: 0.0018 - accuracy: 0.9997\n",
            "Epoch 94/100\n",
            "10938/10938 [==============================] - 20s 2ms/step - loss: 0.0018 - accuracy: 0.9997\n",
            "Epoch 95/100\n",
            "10938/10938 [==============================] - 20s 2ms/step - loss: 0.0018 - accuracy: 0.9997\n",
            "Epoch 96/100\n",
            "10938/10938 [==============================] - 20s 2ms/step - loss: 0.0018 - accuracy: 0.9997\n",
            "Epoch 97/100\n",
            "10938/10938 [==============================] - 19s 2ms/step - loss: 0.0018 - accuracy: 0.9997\n",
            "Epoch 98/100\n",
            "10938/10938 [==============================] - 20s 2ms/step - loss: 0.0018 - accuracy: 0.9997\n",
            "Epoch 99/100\n",
            "10938/10938 [==============================] - 20s 2ms/step - loss: 0.0018 - accuracy: 0.9997\n",
            "Epoch 100/100\n",
            "10938/10938 [==============================] - 20s 2ms/step - loss: 0.0018 - accuracy: 0.9997\n"
          ]
        },
        {
          "output_type": "execute_result",
          "data": {
            "text/plain": [
              "<keras.callbacks.History at 0x7f9b19b14dd0>"
            ]
          },
          "metadata": {},
          "execution_count": 124
        }
      ]
    },
    {
      "cell_type": "code",
      "source": [
        "y_pn = model1.predict(x_test)"
      ],
      "metadata": {
        "id": "u_OoKwjmJdov"
      },
      "execution_count": 125,
      "outputs": []
    },
    {
      "cell_type": "code",
      "source": [
        " y_prn = []\n",
        "for i in y_pn:\n",
        "  if i>0.5:\n",
        "    y_prn.append(1)  \n",
        "  else:\n",
        "    y_prn.append(0)"
      ],
      "metadata": {
        "id": "C0sWplqGMZHV"
      },
      "execution_count": 126,
      "outputs": []
    },
    {
      "cell_type": "code",
      "source": [
        "recall_score(y_test,y_prn)"
      ],
      "metadata": {
        "colab": {
          "base_uri": "https://localhost:8080/"
        },
        "id": "46t7DMbZBrUn",
        "outputId": "33049435-6055-4e9d-f8ae-10c0b6c99545"
      },
      "execution_count": 127,
      "outputs": [
        {
          "output_type": "execute_result",
          "data": {
            "text/plain": [
              "0.27419354838709675"
            ]
          },
          "metadata": {},
          "execution_count": 127
        }
      ]
    },
    {
      "cell_type": "code",
      "source": [
        "print('Model: Neural Networks')\n",
        "cmm = confusion_matrix(y_test,y_prn)\n",
        "sns.heatmap(cmm, annot=True, fmt='d')\n",
        "plt.show()"
      ],
      "metadata": {
        "colab": {
          "base_uri": "https://localhost:8080/",
          "height": 445
        },
        "id": "Bh-6X70LQFMp",
        "outputId": "772bf719-92e2-4085-b686-ea543fdb03ef"
      },
      "execution_count": 128,
      "outputs": [
        {
          "output_type": "stream",
          "name": "stdout",
          "text": [
            "Model: Neural Networks\n"
          ]
        },
        {
          "output_type": "display_data",
          "data": {
            "text/plain": [
              "<Figure size 720x504 with 2 Axes>"
            ],
            "image/png": "[encoded data removed]"
          },
          "metadata": {
            "needs_background": "light"
          }
        }
      ]
    },
    {
      "cell_type": "markdown",
      "source": [
        "Predicted Fraud: 0/61"
      ],
      "metadata": {
        "id": "YiG-z6kWRo6t"
      }
    },
    {
      "cell_type": "code",
      "source": [
        "df"
      ],
      "metadata": {
        "id": "-IHphioIJxtb"
      },
      "execution_count": null,
      "outputs": []
    },
    {
      "cell_type": "markdown",
      "source": [
        "AS, we compared many ML classifiers to see which one will be best for the detection of the fraud. Although, the model accuracy score was very high for all the models, which is a clear sign of an **imbalaned class**. So, the names of the ML models according to their best **AUC scores** are:"
      ],
      "metadata": {
        "id": "ZsUDk_n4Pbya"
      }
    },
    {
      "cell_type": "markdown",
      "source": [
        "(i)  Gradiant Boost\n",
        "\n",
        "(ii)  Random Forest\n",
        "\n",
        "(iii)  Xg Boost \n",
        "\n",
        "(iv) Ada Boost\n",
        "\n",
        "(v) SVM"
      ],
      "metadata": {
        "id": "UvXwDlwtP_Ci"
      }
    },
    {
      "cell_type": "markdown",
      "source": [
        "# Conclusions"
      ],
      "metadata": {
        "id": "lV5H4Lb_0961"
      }
    },
    {
      "cell_type": "markdown",
      "source": [
        "Thus, we can use '**Gradiant Boost**' to detect the fraudalent transaction for this dataset. This model will ensure that maxmimum fraud transactions are detected, while keeping in mind that we are minimizing the declaration of a normal transtion as fradulant."
      ],
      "metadata": {
        "id": "PQTjMQVMRPFS"
      }
    },
    {
      "cell_type": "markdown",
      "source": [
        "While updating the infrastructure, the company should protect its old data, like it should keep the 'features names' very secret on which the fraud detection is being made. If new features are being added, then a Principal Component Analysis (PCA) to make best choices. This should also be compared to the old model for chosing a better model. "
      ],
      "metadata": {
        "id": "mUJyYEOkwzxY"
      }
    },
    {
      "cell_type": "markdown",
      "source": [
        "# Note\n",
        "\n",
        "AS the dataset is very large and due to constrains of the Goggle Colab, a sample of the original data has been used for the model building and analysis. "
      ],
      "metadata": {
        "id": "giRtjmH11hp6"
      }
    }
  ]
}
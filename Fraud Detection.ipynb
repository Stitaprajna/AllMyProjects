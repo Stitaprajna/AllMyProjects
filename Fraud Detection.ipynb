{
  "nbformat": 4,
  "nbformat_minor": 0,
  "metadata": {
    "colab": {
      "name": "Fraud Detection",
      "provenance": [],
      "collapsed_sections": [
        "UPzALemh_DT9"
      ],
      "authorship_tag": "ABX9TyMaeR0iBo5XVvCENqUNwgcM",
      "include_colab_link": true
    },
    "kernelspec": {
      "name": "python3",
      "display_name": "Python 3"
    },
    "language_info": {
      "name": "python"
    }
  },
  "cells": [
    {
      "cell_type": "markdown",
      "metadata": {
        "id": "view-in-github",
        "colab_type": "text"
      },
      "source": [
        "<a href=\"https://colab.research.google.com/github/Stitaprajna/AllMyProjects/blob/main/Fraud%20Detection.ipynb\" target=\"_parent\"><img src=\"https://colab.research.google.com/assets/colab-badge.svg\" alt=\"Open In Colab\"/></a>"
      ]
    },
    {
      "cell_type": "code",
      "execution_count": 158,
      "metadata": {
        "id": "7dSjguqQaLwK"
      },
      "outputs": [],
      "source": [
        "import pandas as pd\n",
        "import numpy as np\n",
        "import seaborn as sns\n",
        "import matplotlib.pyplot as plt\n"
      ]
    },
    {
      "cell_type": "code",
      "source": [
        "df = pd.read_csv('/Fraud1.csv')\n",
        "df.head()\n"
      ],
      "metadata": {
        "colab": {
          "base_uri": "https://localhost:8080/",
          "height": 206
        },
        "id": "WzIjyZs3bLDP",
        "outputId": "e75839a6-3b43-42b4-871f-6b198b5b104f"
      },
      "execution_count": 159,
      "outputs": [
        {
          "output_type": "execute_result",
          "data": {
            "text/plain": [
              "   Unnamed: 0  step      type   amount     nameOrig  oldbalanceOrg  \\\n",
              "0           0     1  TRANSFER    181.0  C1305486145          181.0   \n",
              "1           1     1  CASH_OUT    181.0   C840083671          181.0   \n",
              "2           2     1  TRANSFER   2806.0  C1420196421         2806.0   \n",
              "3           3     1  CASH_OUT   2806.0  C2101527076         2806.0   \n",
              "4           4     1  TRANSFER  20128.0   C137533655        20128.0   \n",
              "\n",
              "   newbalanceOrig     nameDest  oldbalanceDest  newbalanceDest  isFraud  \\\n",
              "0             0.0   C553264065             0.0             0.0        1   \n",
              "1             0.0    C38997010         21182.0             0.0        1   \n",
              "2             0.0   C972765878             0.0             0.0        1   \n",
              "3             0.0  C1007251739         26202.0             0.0        1   \n",
              "4             0.0  C1848415041             0.0             0.0        1   \n",
              "\n",
              "   isFlaggedFraud  \n",
              "0               0  \n",
              "1               0  \n",
              "2               0  \n",
              "3               0  \n",
              "4               0  "
            ],
            "text/html": [
              "\n",
              "  <div id=\"df-1be39ad1-4c2b-4615-a0d5-7ae542a12a7b\">\n",
              "    <div class=\"colab-df-container\">\n",
              "      <div>\n",
              "<style scoped>\n",
              "    .dataframe tbody tr th:only-of-type {\n",
              "        vertical-align: middle;\n",
              "    }\n",
              "\n",
              "    .dataframe tbody tr th {\n",
              "        vertical-align: top;\n",
              "    }\n",
              "\n",
              "    .dataframe thead th {\n",
              "        text-align: right;\n",
              "    }\n",
              "</style>\n",
              "<table border=\"1\" class=\"dataframe\">\n",
              "  <thead>\n",
              "    <tr style=\"text-align: right;\">\n",
              "      <th></th>\n",
              "      <th>Unnamed: 0</th>\n",
              "      <th>step</th>\n",
              "      <th>type</th>\n",
              "      <th>amount</th>\n",
              "      <th>nameOrig</th>\n",
              "      <th>oldbalanceOrg</th>\n",
              "      <th>newbalanceOrig</th>\n",
              "      <th>nameDest</th>\n",
              "      <th>oldbalanceDest</th>\n",
              "      <th>newbalanceDest</th>\n",
              "      <th>isFraud</th>\n",
              "      <th>isFlaggedFraud</th>\n",
              "    </tr>\n",
              "  </thead>\n",
              "  <tbody>\n",
              "    <tr>\n",
              "      <th>0</th>\n",
              "      <td>0</td>\n",
              "      <td>1</td>\n",
              "      <td>TRANSFER</td>\n",
              "      <td>181.0</td>\n",
              "      <td>C1305486145</td>\n",
              "      <td>181.0</td>\n",
              "      <td>0.0</td>\n",
              "      <td>C553264065</td>\n",
              "      <td>0.0</td>\n",
              "      <td>0.0</td>\n",
              "      <td>1</td>\n",
              "      <td>0</td>\n",
              "    </tr>\n",
              "    <tr>\n",
              "      <th>1</th>\n",
              "      <td>1</td>\n",
              "      <td>1</td>\n",
              "      <td>CASH_OUT</td>\n",
              "      <td>181.0</td>\n",
              "      <td>C840083671</td>\n",
              "      <td>181.0</td>\n",
              "      <td>0.0</td>\n",
              "      <td>C38997010</td>\n",
              "      <td>21182.0</td>\n",
              "      <td>0.0</td>\n",
              "      <td>1</td>\n",
              "      <td>0</td>\n",
              "    </tr>\n",
              "    <tr>\n",
              "      <th>2</th>\n",
              "      <td>2</td>\n",
              "      <td>1</td>\n",
              "      <td>TRANSFER</td>\n",
              "      <td>2806.0</td>\n",
              "      <td>C1420196421</td>\n",
              "      <td>2806.0</td>\n",
              "      <td>0.0</td>\n",
              "      <td>C972765878</td>\n",
              "      <td>0.0</td>\n",
              "      <td>0.0</td>\n",
              "      <td>1</td>\n",
              "      <td>0</td>\n",
              "    </tr>\n",
              "    <tr>\n",
              "      <th>3</th>\n",
              "      <td>3</td>\n",
              "      <td>1</td>\n",
              "      <td>CASH_OUT</td>\n",
              "      <td>2806.0</td>\n",
              "      <td>C2101527076</td>\n",
              "      <td>2806.0</td>\n",
              "      <td>0.0</td>\n",
              "      <td>C1007251739</td>\n",
              "      <td>26202.0</td>\n",
              "      <td>0.0</td>\n",
              "      <td>1</td>\n",
              "      <td>0</td>\n",
              "    </tr>\n",
              "    <tr>\n",
              "      <th>4</th>\n",
              "      <td>4</td>\n",
              "      <td>1</td>\n",
              "      <td>TRANSFER</td>\n",
              "      <td>20128.0</td>\n",
              "      <td>C137533655</td>\n",
              "      <td>20128.0</td>\n",
              "      <td>0.0</td>\n",
              "      <td>C1848415041</td>\n",
              "      <td>0.0</td>\n",
              "      <td>0.0</td>\n",
              "      <td>1</td>\n",
              "      <td>0</td>\n",
              "    </tr>\n",
              "  </tbody>\n",
              "</table>\n",
              "</div>\n",
              "      <button class=\"colab-df-convert\" onclick=\"convertToInteractive('df-1be39ad1-4c2b-4615-a0d5-7ae542a12a7b')\"\n",
              "              title=\"Convert this dataframe to an interactive table.\"\n",
              "              style=\"display:none;\">\n",
              "        \n",
              "  <svg xmlns=\"http://www.w3.org/2000/svg\" height=\"24px\"viewBox=\"0 0 24 24\"\n",
              "       width=\"24px\">\n",
              "    <path d=\"M0 0h24v24H0V0z\" fill=\"none\"/>\n",
              "    <path d=\"M18.56 5.44l.94 2.06.94-2.06 2.06-.94-2.06-.94-.94-2.06-.94 2.06-2.06.94zm-11 1L8.5 8.5l.94-2.06 2.06-.94-2.06-.94L8.5 2.5l-.94 2.06-2.06.94zm10 10l.94 2.06.94-2.06 2.06-.94-2.06-.94-.94-2.06-.94 2.06-2.06.94z\"/><path d=\"M17.41 7.96l-1.37-1.37c-.4-.4-.92-.59-1.43-.59-.52 0-1.04.2-1.43.59L10.3 9.45l-7.72 7.72c-.78.78-.78 2.05 0 2.83L4 21.41c.39.39.9.59 1.41.59.51 0 1.02-.2 1.41-.59l7.78-7.78 2.81-2.81c.8-.78.8-2.07 0-2.86zM5.41 20L4 18.59l7.72-7.72 1.47 1.35L5.41 20z\"/>\n",
              "  </svg>\n",
              "      </button>\n",
              "      \n",
              "  <style>\n",
              "    .colab-df-container {\n",
              "      display:flex;\n",
              "      flex-wrap:wrap;\n",
              "      gap: 12px;\n",
              "    }\n",
              "\n",
              "    .colab-df-convert {\n",
              "      background-color: #E8F0FE;\n",
              "      border: none;\n",
              "      border-radius: 50%;\n",
              "      cursor: pointer;\n",
              "      display: none;\n",
              "      fill: #1967D2;\n",
              "      height: 32px;\n",
              "      padding: 0 0 0 0;\n",
              "      width: 32px;\n",
              "    }\n",
              "\n",
              "    .colab-df-convert:hover {\n",
              "      background-color: #E2EBFA;\n",
              "      box-shadow: 0px 1px 2px rgba(60, 64, 67, 0.3), 0px 1px 3px 1px rgba(60, 64, 67, 0.15);\n",
              "      fill: #174EA6;\n",
              "    }\n",
              "\n",
              "    [theme=dark] .colab-df-convert {\n",
              "      background-color: #3B4455;\n",
              "      fill: #D2E3FC;\n",
              "    }\n",
              "\n",
              "    [theme=dark] .colab-df-convert:hover {\n",
              "      background-color: #434B5C;\n",
              "      box-shadow: 0px 1px 3px 1px rgba(0, 0, 0, 0.15);\n",
              "      filter: drop-shadow(0px 1px 2px rgba(0, 0, 0, 0.3));\n",
              "      fill: #FFFFFF;\n",
              "    }\n",
              "  </style>\n",
              "\n",
              "      <script>\n",
              "        const buttonEl =\n",
              "          document.querySelector('#df-1be39ad1-4c2b-4615-a0d5-7ae542a12a7b button.colab-df-convert');\n",
              "        buttonEl.style.display =\n",
              "          google.colab.kernel.accessAllowed ? 'block' : 'none';\n",
              "\n",
              "        async function convertToInteractive(key) {\n",
              "          const element = document.querySelector('#df-1be39ad1-4c2b-4615-a0d5-7ae542a12a7b');\n",
              "          const dataTable =\n",
              "            await google.colab.kernel.invokeFunction('convertToInteractive',\n",
              "                                                     [key], {});\n",
              "          if (!dataTable) return;\n",
              "\n",
              "          const docLinkHtml = 'Like what you see? Visit the ' +\n",
              "            '<a target=\"_blank\" href=https://colab.research.google.com/notebooks/data_table.ipynb>data table notebook</a>'\n",
              "            + ' to learn more about interactive tables.';\n",
              "          element.innerHTML = '';\n",
              "          dataTable['output_type'] = 'display_data';\n",
              "          await google.colab.output.renderOutput(dataTable, element);\n",
              "          const docLink = document.createElement('div');\n",
              "          docLink.innerHTML = docLinkHtml;\n",
              "          element.appendChild(docLink);\n",
              "        }\n",
              "      </script>\n",
              "    </div>\n",
              "  </div>\n",
              "  "
            ]
          },
          "metadata": {},
          "execution_count": 159
        }
      ]
    },
    {
      "cell_type": "code",
      "source": [
        "\n",
        "df.drop('Unnamed: 0',axis=1,inplace=True)"
      ],
      "metadata": {
        "id": "E44WvWigg0XD"
      },
      "execution_count": 160,
      "outputs": []
    },
    {
      "cell_type": "code",
      "source": [
        "df.step.value_counts()\n",
        "sns.histplot(df.step)\n",
        "plt.rcParams['figure.figsize'] = [10,7]"
      ],
      "metadata": {
        "id": "hj_1QP0_05S1",
        "outputId": "f1a3c8df-fee8-46a3-8496-00c85deadc02",
        "colab": {
          "base_uri": "https://localhost:8080/",
          "height": 442
        }
      },
      "execution_count": 161,
      "outputs": [
        {
          "output_type": "display_data",
          "data": {
            "text/plain": [
              "<Figure size 720x504 with 1 Axes>"
            ],
            "image/png": "[encoded data removed]"
          },
          "metadata": {
            "needs_background": "light"
          }
        }
      ]
    },
    {
      "cell_type": "code",
      "source": [
        "sns.barplot(x = 'type', y = 'amount', data=df)\n",
        "plt.show()"
      ],
      "metadata": {
        "id": "F6wvKlI5ot7X",
        "outputId": "1bfac5a0-e9af-4728-abff-352194f39d26",
        "colab": {
          "base_uri": "https://localhost:8080/",
          "height": 454
        }
      },
      "execution_count": 162,
      "outputs": [
        {
          "output_type": "display_data",
          "data": {
            "text/plain": [
              "<Figure size 720x504 with 1 Axes>"
            ],
            "image/png": "[encoded data removed]"
          },
          "metadata": {
            "needs_background": "light"
          }
        }
      ]
    },
    {
      "cell_type": "markdown",
      "source": [
        "So, most likely the 'Transfer' contains the fraud transactions because it very large in number."
      ],
      "metadata": {
        "id": "e2efsOTeRsIo"
      }
    },
    {
      "cell_type": "code",
      "source": [
        "df.isnull().sum()     # Checking for any missing data"
      ],
      "metadata": {
        "colab": {
          "base_uri": "https://localhost:8080/"
        },
        "id": "R8V9aHpfdxPV",
        "outputId": "f81a77a0-c6a6-4ab4-82d9-3e1483d3714e"
      },
      "execution_count": 163,
      "outputs": [
        {
          "output_type": "execute_result",
          "data": {
            "text/plain": [
              "step              0\n",
              "type              0\n",
              "amount            0\n",
              "nameOrig          0\n",
              "oldbalanceOrg     0\n",
              "newbalanceOrig    0\n",
              "nameDest          0\n",
              "oldbalanceDest    0\n",
              "newbalanceDest    0\n",
              "isFraud           0\n",
              "isFlaggedFraud    0\n",
              "dtype: int64"
            ]
          },
          "metadata": {},
          "execution_count": 163
        }
      ]
    },
    {
      "cell_type": "code",
      "source": [
        "df.dtypes"
      ],
      "metadata": {
        "colab": {
          "base_uri": "https://localhost:8080/"
        },
        "id": "z21EpxNxYxpp",
        "outputId": "00974cda-12c4-4431-b77e-fd505678cf41"
      },
      "execution_count": 164,
      "outputs": [
        {
          "output_type": "execute_result",
          "data": {
            "text/plain": [
              "step                int64\n",
              "type               object\n",
              "amount            float64\n",
              "nameOrig           object\n",
              "oldbalanceOrg     float64\n",
              "newbalanceOrig    float64\n",
              "nameDest           object\n",
              "oldbalanceDest    float64\n",
              "newbalanceDest    float64\n",
              "isFraud             int64\n",
              "isFlaggedFraud      int64\n",
              "dtype: object"
            ]
          },
          "metadata": {},
          "execution_count": 164
        }
      ]
    },
    {
      "cell_type": "code",
      "source": [
        "df = df.dropna()      # Droping all NaN values"
      ],
      "metadata": {
        "id": "szKh2Vm1d7FJ"
      },
      "execution_count": 165,
      "outputs": []
    },
    {
      "cell_type": "code",
      "source": [
        "df.amount.describe()  # Describes various Statistical factors"
      ],
      "metadata": {
        "colab": {
          "base_uri": "https://localhost:8080/"
        },
        "id": "iU1I1Kraz00V",
        "outputId": "6d85728e-1e31-46f1-a1b2-4279ab40d82f"
      },
      "execution_count": 166,
      "outputs": [
        {
          "output_type": "execute_result",
          "data": {
            "text/plain": [
              "count    1.882500e+04\n",
              "mean     7.394670e+05\n",
              "std      1.751749e+06\n",
              "min      0.000000e+00\n",
              "25%      3.097123e+04\n",
              "50%      1.538701e+05\n",
              "75%      4.563609e+05\n",
              "max      1.954829e+07\n",
              "Name: amount, dtype: float64"
            ]
          },
          "metadata": {},
          "execution_count": 166
        }
      ]
    },
    {
      "cell_type": "markdown",
      "source": [
        "# Detecting Outliers through visualisations"
      ],
      "metadata": {
        "id": "ddj_u2mf0D8w"
      }
    },
    {
      "cell_type": "markdown",
      "source": [
        "In the above scatter plot we can see that some of the data point are away from other data points. Thus, these points are the anomaly and most likely these are the 'Fraud' transactions. But, we can't say much from such a plot and will need a deep analysis."
      ],
      "metadata": {
        "id": "3Mg-nLC_0ZYq"
      }
    },
    {
      "cell_type": "code",
      "source": [
        "import warnings\n",
        "warnings.simplefilter(action='ignore', category=FutureWarning)\n",
        "dff = df[df.amount!=0]\n",
        "p = sns.distplot(np.log(dff['amount'])).set(title='Checking the Skewness of the data')  # Highly Right Skewed Data\n",
        "#plt.ylim([0,10**(-8)])\n",
        "#plt.xlim(0,3*10**7)\n",
        "plt.rcParams['figure.figsize'] = [10,10]"
      ],
      "metadata": {
        "colab": {
          "base_uri": "https://localhost:8080/",
          "height": 458
        },
        "id": "sdxtYBtf0iJS",
        "outputId": "868689b5-6d9b-47cb-9626-29848b10be20"
      },
      "execution_count": 167,
      "outputs": [
        {
          "output_type": "display_data",
          "data": {
            "text/plain": [
              "<Figure size 720x504 with 1 Axes>"
            ],
            "image/png": "[encoded data removed]"
          },
          "metadata": {
            "needs_background": "light"
          }
        }
      ]
    },
    {
      "cell_type": "markdown",
      "source": [
        "The tail of the amount of transaction distribuation is towards right, so this might be a 'Right Skewed Gaussian Data'. Lets find out at the skewness."
      ],
      "metadata": {
        "id": "9iPlKUY_0zOC"
      }
    },
    {
      "cell_type": "code",
      "source": [
        "from scipy.stats import skew\n",
        "skew(df.amount)"
      ],
      "metadata": {
        "id": "RqNIOqiqiYqU",
        "outputId": "11713460-9bda-4700-e904-11217a4b3c5b",
        "colab": {
          "base_uri": "https://localhost:8080/"
        }
      },
      "execution_count": 168,
      "outputs": [
        {
          "output_type": "execute_result",
          "data": {
            "text/plain": [
              "3.902007725875123"
            ]
          },
          "metadata": {},
          "execution_count": 168
        }
      ]
    },
    {
      "cell_type": "code",
      "source": [
        "sns.boxplot(np.log(df.amount))\n",
        "plt.show()\n",
        "plt.rcParams['figure.figsize'] = [6,6]"
      ],
      "metadata": {
        "id": "9hDQOLDWi-cu",
        "outputId": "b04f0737-87fd-4b69-cd2a-ea89b2c88bf2",
        "colab": {
          "base_uri": "https://localhost:8080/",
          "height": 641
        }
      },
      "execution_count": 169,
      "outputs": [
        {
          "output_type": "stream",
          "name": "stderr",
          "text": [
            "/usr/local/lib/python3.7/dist-packages/pandas/core/arraylike.py:364: RuntimeWarning: divide by zero encountered in log\n",
            "  result = getattr(ufunc, method)(*inputs, **kwargs)\n"
          ]
        },
        {
          "output_type": "display_data",
          "data": {
            "text/plain": [
              "<Figure size 720x720 with 1 Axes>"
            ],
            "image/png": "[encoded data removed]"
          },
          "metadata": {
            "needs_background": "light"
          }
        }
      ]
    },
    {
      "cell_type": "code",
      "source": [
        "df['isFraud'].value_counts()"
      ],
      "metadata": {
        "colab": {
          "base_uri": "https://localhost:8080/"
        },
        "id": "1cIHrADf04iH",
        "outputId": "5e193827-3b18-420b-f495-34df4ee08e0b"
      },
      "execution_count": 170,
      "outputs": [
        {
          "output_type": "execute_result",
          "data": {
            "text/plain": [
              "0    10612\n",
              "1     8213\n",
              "Name: isFraud, dtype: int64"
            ]
          },
          "metadata": {},
          "execution_count": 170
        }
      ]
    },
    {
      "cell_type": "code",
      "source": [
        "sns.histplot(df['isFraud'])"
      ],
      "metadata": {
        "colab": {
          "base_uri": "https://localhost:8080/",
          "height": 405
        },
        "id": "CmYdFfA_44z9",
        "outputId": "6d865b70-7727-4702-8a98-6b6469431d2f"
      },
      "execution_count": 171,
      "outputs": [
        {
          "output_type": "execute_result",
          "data": {
            "text/plain": [
              "<matplotlib.axes._subplots.AxesSubplot at 0x7fca0902b390>"
            ]
          },
          "metadata": {},
          "execution_count": 171
        },
        {
          "output_type": "display_data",
          "data": {
            "text/plain": [
              "<Figure size 432x432 with 1 Axes>"
            ],
            "image/png": "[encoded data removed]"
          },
          "metadata": {
            "needs_background": "light"
          }
        }
      ]
    },
    {
      "cell_type": "markdown",
      "source": [
        "As, the number of fraud transactions are very less as compared to the normal transactions, this is an **Imbalanced Class**. Thus, accuracy score of any model will be very high and comapreble to the '**Dummy Classifier**'."
      ],
      "metadata": {
        "id": "fflEPXyKUj8s"
      }
    },
    {
      "cell_type": "code",
      "source": [
        "# Preprocessing and Cleaning Process\n",
        "from sklearn.preprocessing import MinMaxScaler\n",
        "Fraud = df[df['isFraud'] == 1]    \n",
        "Normal = df[df['isFraud']==0]\n",
        "df1 = df.copy()\n",
        "df1 = pd.get_dummies(df1,columns=['type'])\n",
        "df2 = df1.copy()\n",
        "df2.drop(['nameOrig','nameDest'],axis=1,inplace=True)\n",
        "x = df2.drop(['isFraud','isFlaggedFraud'],axis=1)\n",
        "scaler = MinMaxScaler()\n",
        "x1 = scaler.fit_transform(x)\n",
        "y = df2.isFraud"
      ],
      "metadata": {
        "id": "7_4D5bTNblhZ"
      },
      "execution_count": 172,
      "outputs": []
    },
    {
      "cell_type": "code",
      "source": [
        "x = pd.DataFrame(x1, columns=x.columns)"
      ],
      "metadata": {
        "id": "sQLV0B6O0wFM"
      },
      "execution_count": 173,
      "outputs": []
    },
    {
      "cell_type": "code",
      "source": [
        "x.head()"
      ],
      "metadata": {
        "id": "fiKtwpwA7Tsc",
        "outputId": "edbcf33f-836c-4c09-f0fd-e6aab4172339",
        "colab": {
          "base_uri": "https://localhost:8080/",
          "height": 206
        }
      },
      "execution_count": 174,
      "outputs": [
        {
          "output_type": "execute_result",
          "data": {
            "text/plain": [
              "   step    amount  oldbalanceOrg  newbalanceOrig  oldbalanceDest  \\\n",
              "0   0.0  0.000009       0.000003             0.0        0.000000   \n",
              "1   0.0  0.000009       0.000003             0.0        0.000090   \n",
              "2   0.0  0.000144       0.000047             0.0        0.000000   \n",
              "3   0.0  0.000144       0.000047             0.0        0.000111   \n",
              "4   0.0  0.001030       0.000338             0.0        0.000000   \n",
              "\n",
              "   newbalanceDest  type_CASH_IN  type_CASH_OUT  type_DEBIT  type_PAYMENT  \\\n",
              "0             0.0           0.0            0.0         0.0           0.0   \n",
              "1             0.0           0.0            1.0         0.0           0.0   \n",
              "2             0.0           0.0            0.0         0.0           0.0   \n",
              "3             0.0           0.0            1.0         0.0           0.0   \n",
              "4             0.0           0.0            0.0         0.0           0.0   \n",
              "\n",
              "   type_TRANSFER  \n",
              "0            1.0  \n",
              "1            0.0  \n",
              "2            1.0  \n",
              "3            0.0  \n",
              "4            1.0  "
            ],
            "text/html": [
              "\n",
              "  <div id=\"df-554c1f07-e502-40cd-a326-be362666f21f\">\n",
              "    <div class=\"colab-df-container\">\n",
              "      <div>\n",
              "<style scoped>\n",
              "    .dataframe tbody tr th:only-of-type {\n",
              "        vertical-align: middle;\n",
              "    }\n",
              "\n",
              "    .dataframe tbody tr th {\n",
              "        vertical-align: top;\n",
              "    }\n",
              "\n",
              "    .dataframe thead th {\n",
              "        text-align: right;\n",
              "    }\n",
              "</style>\n",
              "<table border=\"1\" class=\"dataframe\">\n",
              "  <thead>\n",
              "    <tr style=\"text-align: right;\">\n",
              "      <th></th>\n",
              "      <th>step</th>\n",
              "      <th>amount</th>\n",
              "      <th>oldbalanceOrg</th>\n",
              "      <th>newbalanceOrig</th>\n",
              "      <th>oldbalanceDest</th>\n",
              "      <th>newbalanceDest</th>\n",
              "      <th>type_CASH_IN</th>\n",
              "      <th>type_CASH_OUT</th>\n",
              "      <th>type_DEBIT</th>\n",
              "      <th>type_PAYMENT</th>\n",
              "      <th>type_TRANSFER</th>\n",
              "    </tr>\n",
              "  </thead>\n",
              "  <tbody>\n",
              "    <tr>\n",
              "      <th>0</th>\n",
              "      <td>0.0</td>\n",
              "      <td>0.000009</td>\n",
              "      <td>0.000003</td>\n",
              "      <td>0.0</td>\n",
              "      <td>0.000000</td>\n",
              "      <td>0.0</td>\n",
              "      <td>0.0</td>\n",
              "      <td>0.0</td>\n",
              "      <td>0.0</td>\n",
              "      <td>0.0</td>\n",
              "      <td>1.0</td>\n",
              "    </tr>\n",
              "    <tr>\n",
              "      <th>1</th>\n",
              "      <td>0.0</td>\n",
              "      <td>0.000009</td>\n",
              "      <td>0.000003</td>\n",
              "      <td>0.0</td>\n",
              "      <td>0.000090</td>\n",
              "      <td>0.0</td>\n",
              "      <td>0.0</td>\n",
              "      <td>1.0</td>\n",
              "      <td>0.0</td>\n",
              "      <td>0.0</td>\n",
              "      <td>0.0</td>\n",
              "    </tr>\n",
              "    <tr>\n",
              "      <th>2</th>\n",
              "      <td>0.0</td>\n",
              "      <td>0.000144</td>\n",
              "      <td>0.000047</td>\n",
              "      <td>0.0</td>\n",
              "      <td>0.000000</td>\n",
              "      <td>0.0</td>\n",
              "      <td>0.0</td>\n",
              "      <td>0.0</td>\n",
              "      <td>0.0</td>\n",
              "      <td>0.0</td>\n",
              "      <td>1.0</td>\n",
              "    </tr>\n",
              "    <tr>\n",
              "      <th>3</th>\n",
              "      <td>0.0</td>\n",
              "      <td>0.000144</td>\n",
              "      <td>0.000047</td>\n",
              "      <td>0.0</td>\n",
              "      <td>0.000111</td>\n",
              "      <td>0.0</td>\n",
              "      <td>0.0</td>\n",
              "      <td>1.0</td>\n",
              "      <td>0.0</td>\n",
              "      <td>0.0</td>\n",
              "      <td>0.0</td>\n",
              "    </tr>\n",
              "    <tr>\n",
              "      <th>4</th>\n",
              "      <td>0.0</td>\n",
              "      <td>0.001030</td>\n",
              "      <td>0.000338</td>\n",
              "      <td>0.0</td>\n",
              "      <td>0.000000</td>\n",
              "      <td>0.0</td>\n",
              "      <td>0.0</td>\n",
              "      <td>0.0</td>\n",
              "      <td>0.0</td>\n",
              "      <td>0.0</td>\n",
              "      <td>1.0</td>\n",
              "    </tr>\n",
              "  </tbody>\n",
              "</table>\n",
              "</div>\n",
              "      <button class=\"colab-df-convert\" onclick=\"convertToInteractive('df-554c1f07-e502-40cd-a326-be362666f21f')\"\n",
              "              title=\"Convert this dataframe to an interactive table.\"\n",
              "              style=\"display:none;\">\n",
              "        \n",
              "  <svg xmlns=\"http://www.w3.org/2000/svg\" height=\"24px\"viewBox=\"0 0 24 24\"\n",
              "       width=\"24px\">\n",
              "    <path d=\"M0 0h24v24H0V0z\" fill=\"none\"/>\n",
              "    <path d=\"M18.56 5.44l.94 2.06.94-2.06 2.06-.94-2.06-.94-.94-2.06-.94 2.06-2.06.94zm-11 1L8.5 8.5l.94-2.06 2.06-.94-2.06-.94L8.5 2.5l-.94 2.06-2.06.94zm10 10l.94 2.06.94-2.06 2.06-.94-2.06-.94-.94-2.06-.94 2.06-2.06.94z\"/><path d=\"M17.41 7.96l-1.37-1.37c-.4-.4-.92-.59-1.43-.59-.52 0-1.04.2-1.43.59L10.3 9.45l-7.72 7.72c-.78.78-.78 2.05 0 2.83L4 21.41c.39.39.9.59 1.41.59.51 0 1.02-.2 1.41-.59l7.78-7.78 2.81-2.81c.8-.78.8-2.07 0-2.86zM5.41 20L4 18.59l7.72-7.72 1.47 1.35L5.41 20z\"/>\n",
              "  </svg>\n",
              "      </button>\n",
              "      \n",
              "  <style>\n",
              "    .colab-df-container {\n",
              "      display:flex;\n",
              "      flex-wrap:wrap;\n",
              "      gap: 12px;\n",
              "    }\n",
              "\n",
              "    .colab-df-convert {\n",
              "      background-color: #E8F0FE;\n",
              "      border: none;\n",
              "      border-radius: 50%;\n",
              "      cursor: pointer;\n",
              "      display: none;\n",
              "      fill: #1967D2;\n",
              "      height: 32px;\n",
              "      padding: 0 0 0 0;\n",
              "      width: 32px;\n",
              "    }\n",
              "\n",
              "    .colab-df-convert:hover {\n",
              "      background-color: #E2EBFA;\n",
              "      box-shadow: 0px 1px 2px rgba(60, 64, 67, 0.3), 0px 1px 3px 1px rgba(60, 64, 67, 0.15);\n",
              "      fill: #174EA6;\n",
              "    }\n",
              "\n",
              "    [theme=dark] .colab-df-convert {\n",
              "      background-color: #3B4455;\n",
              "      fill: #D2E3FC;\n",
              "    }\n",
              "\n",
              "    [theme=dark] .colab-df-convert:hover {\n",
              "      background-color: #434B5C;\n",
              "      box-shadow: 0px 1px 3px 1px rgba(0, 0, 0, 0.15);\n",
              "      filter: drop-shadow(0px 1px 2px rgba(0, 0, 0, 0.3));\n",
              "      fill: #FFFFFF;\n",
              "    }\n",
              "  </style>\n",
              "\n",
              "      <script>\n",
              "        const buttonEl =\n",
              "          document.querySelector('#df-554c1f07-e502-40cd-a326-be362666f21f button.colab-df-convert');\n",
              "        buttonEl.style.display =\n",
              "          google.colab.kernel.accessAllowed ? 'block' : 'none';\n",
              "\n",
              "        async function convertToInteractive(key) {\n",
              "          const element = document.querySelector('#df-554c1f07-e502-40cd-a326-be362666f21f');\n",
              "          const dataTable =\n",
              "            await google.colab.kernel.invokeFunction('convertToInteractive',\n",
              "                                                     [key], {});\n",
              "          if (!dataTable) return;\n",
              "\n",
              "          const docLinkHtml = 'Like what you see? Visit the ' +\n",
              "            '<a target=\"_blank\" href=https://colab.research.google.com/notebooks/data_table.ipynb>data table notebook</a>'\n",
              "            + ' to learn more about interactive tables.';\n",
              "          element.innerHTML = '';\n",
              "          dataTable['output_type'] = 'display_data';\n",
              "          await google.colab.output.renderOutput(dataTable, element);\n",
              "          const docLink = document.createElement('div');\n",
              "          docLink.innerHTML = docLinkHtml;\n",
              "          element.appendChild(docLink);\n",
              "        }\n",
              "      </script>\n",
              "    </div>\n",
              "  </div>\n",
              "  "
            ]
          },
          "metadata": {},
          "execution_count": 174
        }
      ]
    },
    {
      "cell_type": "code",
      "source": [
        "change = ['step','type_CASH_IN','type_CASH_OUT',\t'type_DEBIT',\t'type_PAYMENT',\t'type_TRANSFER']\n",
        " \n",
        "    \n",
        "for i in change:\n",
        "  x[i] = x[i].apply(lambda x: int(x))"
      ],
      "metadata": {
        "id": "OUr77GDa6vQS"
      },
      "execution_count": 175,
      "outputs": []
    },
    {
      "cell_type": "code",
      "source": [
        "x.head()"
      ],
      "metadata": {
        "id": "iuD8XemP_tev",
        "outputId": "d545a65d-921e-40cd-eeeb-8a121dc8a1ce",
        "colab": {
          "base_uri": "https://localhost:8080/",
          "height": 206
        }
      },
      "execution_count": 176,
      "outputs": [
        {
          "output_type": "execute_result",
          "data": {
            "text/plain": [
              "   step    amount  oldbalanceOrg  newbalanceOrig  oldbalanceDest  \\\n",
              "0     0  0.000009       0.000003             0.0        0.000000   \n",
              "1     0  0.000009       0.000003             0.0        0.000090   \n",
              "2     0  0.000144       0.000047             0.0        0.000000   \n",
              "3     0  0.000144       0.000047             0.0        0.000111   \n",
              "4     0  0.001030       0.000338             0.0        0.000000   \n",
              "\n",
              "   newbalanceDest  type_CASH_IN  type_CASH_OUT  type_DEBIT  type_PAYMENT  \\\n",
              "0             0.0             0              0           0             0   \n",
              "1             0.0             0              1           0             0   \n",
              "2             0.0             0              0           0             0   \n",
              "3             0.0             0              1           0             0   \n",
              "4             0.0             0              0           0             0   \n",
              "\n",
              "   type_TRANSFER  \n",
              "0              1  \n",
              "1              0  \n",
              "2              1  \n",
              "3              0  \n",
              "4              1  "
            ],
            "text/html": [
              "\n",
              "  <div id=\"df-74cb49dc-ba6f-4082-9f24-6254ff8fca21\">\n",
              "    <div class=\"colab-df-container\">\n",
              "      <div>\n",
              "<style scoped>\n",
              "    .dataframe tbody tr th:only-of-type {\n",
              "        vertical-align: middle;\n",
              "    }\n",
              "\n",
              "    .dataframe tbody tr th {\n",
              "        vertical-align: top;\n",
              "    }\n",
              "\n",
              "    .dataframe thead th {\n",
              "        text-align: right;\n",
              "    }\n",
              "</style>\n",
              "<table border=\"1\" class=\"dataframe\">\n",
              "  <thead>\n",
              "    <tr style=\"text-align: right;\">\n",
              "      <th></th>\n",
              "      <th>step</th>\n",
              "      <th>amount</th>\n",
              "      <th>oldbalanceOrg</th>\n",
              "      <th>newbalanceOrig</th>\n",
              "      <th>oldbalanceDest</th>\n",
              "      <th>newbalanceDest</th>\n",
              "      <th>type_CASH_IN</th>\n",
              "      <th>type_CASH_OUT</th>\n",
              "      <th>type_DEBIT</th>\n",
              "      <th>type_PAYMENT</th>\n",
              "      <th>type_TRANSFER</th>\n",
              "    </tr>\n",
              "  </thead>\n",
              "  <tbody>\n",
              "    <tr>\n",
              "      <th>0</th>\n",
              "      <td>0</td>\n",
              "      <td>0.000009</td>\n",
              "      <td>0.000003</td>\n",
              "      <td>0.0</td>\n",
              "      <td>0.000000</td>\n",
              "      <td>0.0</td>\n",
              "      <td>0</td>\n",
              "      <td>0</td>\n",
              "      <td>0</td>\n",
              "      <td>0</td>\n",
              "      <td>1</td>\n",
              "    </tr>\n",
              "    <tr>\n",
              "      <th>1</th>\n",
              "      <td>0</td>\n",
              "      <td>0.000009</td>\n",
              "      <td>0.000003</td>\n",
              "      <td>0.0</td>\n",
              "      <td>0.000090</td>\n",
              "      <td>0.0</td>\n",
              "      <td>0</td>\n",
              "      <td>1</td>\n",
              "      <td>0</td>\n",
              "      <td>0</td>\n",
              "      <td>0</td>\n",
              "    </tr>\n",
              "    <tr>\n",
              "      <th>2</th>\n",
              "      <td>0</td>\n",
              "      <td>0.000144</td>\n",
              "      <td>0.000047</td>\n",
              "      <td>0.0</td>\n",
              "      <td>0.000000</td>\n",
              "      <td>0.0</td>\n",
              "      <td>0</td>\n",
              "      <td>0</td>\n",
              "      <td>0</td>\n",
              "      <td>0</td>\n",
              "      <td>1</td>\n",
              "    </tr>\n",
              "    <tr>\n",
              "      <th>3</th>\n",
              "      <td>0</td>\n",
              "      <td>0.000144</td>\n",
              "      <td>0.000047</td>\n",
              "      <td>0.0</td>\n",
              "      <td>0.000111</td>\n",
              "      <td>0.0</td>\n",
              "      <td>0</td>\n",
              "      <td>1</td>\n",
              "      <td>0</td>\n",
              "      <td>0</td>\n",
              "      <td>0</td>\n",
              "    </tr>\n",
              "    <tr>\n",
              "      <th>4</th>\n",
              "      <td>0</td>\n",
              "      <td>0.001030</td>\n",
              "      <td>0.000338</td>\n",
              "      <td>0.0</td>\n",
              "      <td>0.000000</td>\n",
              "      <td>0.0</td>\n",
              "      <td>0</td>\n",
              "      <td>0</td>\n",
              "      <td>0</td>\n",
              "      <td>0</td>\n",
              "      <td>1</td>\n",
              "    </tr>\n",
              "  </tbody>\n",
              "</table>\n",
              "</div>\n",
              "      <button class=\"colab-df-convert\" onclick=\"convertToInteractive('df-74cb49dc-ba6f-4082-9f24-6254ff8fca21')\"\n",
              "              title=\"Convert this dataframe to an interactive table.\"\n",
              "              style=\"display:none;\">\n",
              "        \n",
              "  <svg xmlns=\"http://www.w3.org/2000/svg\" height=\"24px\"viewBox=\"0 0 24 24\"\n",
              "       width=\"24px\">\n",
              "    <path d=\"M0 0h24v24H0V0z\" fill=\"none\"/>\n",
              "    <path d=\"M18.56 5.44l.94 2.06.94-2.06 2.06-.94-2.06-.94-.94-2.06-.94 2.06-2.06.94zm-11 1L8.5 8.5l.94-2.06 2.06-.94-2.06-.94L8.5 2.5l-.94 2.06-2.06.94zm10 10l.94 2.06.94-2.06 2.06-.94-2.06-.94-.94-2.06-.94 2.06-2.06.94z\"/><path d=\"M17.41 7.96l-1.37-1.37c-.4-.4-.92-.59-1.43-.59-.52 0-1.04.2-1.43.59L10.3 9.45l-7.72 7.72c-.78.78-.78 2.05 0 2.83L4 21.41c.39.39.9.59 1.41.59.51 0 1.02-.2 1.41-.59l7.78-7.78 2.81-2.81c.8-.78.8-2.07 0-2.86zM5.41 20L4 18.59l7.72-7.72 1.47 1.35L5.41 20z\"/>\n",
              "  </svg>\n",
              "      </button>\n",
              "      \n",
              "  <style>\n",
              "    .colab-df-container {\n",
              "      display:flex;\n",
              "      flex-wrap:wrap;\n",
              "      gap: 12px;\n",
              "    }\n",
              "\n",
              "    .colab-df-convert {\n",
              "      background-color: #E8F0FE;\n",
              "      border: none;\n",
              "      border-radius: 50%;\n",
              "      cursor: pointer;\n",
              "      display: none;\n",
              "      fill: #1967D2;\n",
              "      height: 32px;\n",
              "      padding: 0 0 0 0;\n",
              "      width: 32px;\n",
              "    }\n",
              "\n",
              "    .colab-df-convert:hover {\n",
              "      background-color: #E2EBFA;\n",
              "      box-shadow: 0px 1px 2px rgba(60, 64, 67, 0.3), 0px 1px 3px 1px rgba(60, 64, 67, 0.15);\n",
              "      fill: #174EA6;\n",
              "    }\n",
              "\n",
              "    [theme=dark] .colab-df-convert {\n",
              "      background-color: #3B4455;\n",
              "      fill: #D2E3FC;\n",
              "    }\n",
              "\n",
              "    [theme=dark] .colab-df-convert:hover {\n",
              "      background-color: #434B5C;\n",
              "      box-shadow: 0px 1px 3px 1px rgba(0, 0, 0, 0.15);\n",
              "      filter: drop-shadow(0px 1px 2px rgba(0, 0, 0, 0.3));\n",
              "      fill: #FFFFFF;\n",
              "    }\n",
              "  </style>\n",
              "\n",
              "      <script>\n",
              "        const buttonEl =\n",
              "          document.querySelector('#df-74cb49dc-ba6f-4082-9f24-6254ff8fca21 button.colab-df-convert');\n",
              "        buttonEl.style.display =\n",
              "          google.colab.kernel.accessAllowed ? 'block' : 'none';\n",
              "\n",
              "        async function convertToInteractive(key) {\n",
              "          const element = document.querySelector('#df-74cb49dc-ba6f-4082-9f24-6254ff8fca21');\n",
              "          const dataTable =\n",
              "            await google.colab.kernel.invokeFunction('convertToInteractive',\n",
              "                                                     [key], {});\n",
              "          if (!dataTable) return;\n",
              "\n",
              "          const docLinkHtml = 'Like what you see? Visit the ' +\n",
              "            '<a target=\"_blank\" href=https://colab.research.google.com/notebooks/data_table.ipynb>data table notebook</a>'\n",
              "            + ' to learn more about interactive tables.';\n",
              "          element.innerHTML = '';\n",
              "          dataTable['output_type'] = 'display_data';\n",
              "          await google.colab.output.renderOutput(dataTable, element);\n",
              "          const docLink = document.createElement('div');\n",
              "          docLink.innerHTML = docLinkHtml;\n",
              "          element.appendChild(docLink);\n",
              "        }\n",
              "      </script>\n",
              "    </div>\n",
              "  </div>\n",
              "  "
            ]
          },
          "metadata": {},
          "execution_count": 176
        }
      ]
    },
    {
      "cell_type": "markdown",
      "source": [
        "# Statistical measures of the Fraud  & Normal transactions"
      ],
      "metadata": {
        "id": "5YfkwfwtULGt"
      }
    },
    {
      "cell_type": "code",
      "source": [
        "Fraud.amount.describe()"
      ],
      "metadata": {
        "colab": {
          "base_uri": "https://localhost:8080/"
        },
        "id": "IiZGIChM1gys",
        "outputId": "6a3b70a7-09ca-4055-9b6b-5dcc94ceb96a"
      },
      "execution_count": 177,
      "outputs": [
        {
          "output_type": "execute_result",
          "data": {
            "text/plain": [
              "count    8.213000e+03\n",
              "mean     1.467967e+06\n",
              "std      2.404253e+06\n",
              "min      0.000000e+00\n",
              "25%      1.270913e+05\n",
              "50%      4.414234e+05\n",
              "75%      1.517771e+06\n",
              "max      1.000000e+07\n",
              "Name: amount, dtype: float64"
            ]
          },
          "metadata": {},
          "execution_count": 177
        }
      ]
    },
    {
      "cell_type": "code",
      "source": [
        "Normal.amount.describe()"
      ],
      "metadata": {
        "colab": {
          "base_uri": "https://localhost:8080/"
        },
        "id": "A5PjO0Gf1nTP",
        "outputId": "20e42234-6021-4c56-f909-50b91752d2b4"
      },
      "execution_count": 178,
      "outputs": [
        {
          "output_type": "execute_result",
          "data": {
            "text/plain": [
              "count    1.061200e+04\n",
              "mean     1.756551e+05\n",
              "std      4.914422e+05\n",
              "min      6.440000e+00\n",
              "25%      1.346005e+04\n",
              "50%      7.351642e+04\n",
              "75%      2.049134e+05\n",
              "max      1.954829e+07\n",
              "Name: amount, dtype: float64"
            ]
          },
          "metadata": {},
          "execution_count": 178
        }
      ]
    },
    {
      "cell_type": "markdown",
      "source": [
        "# Checking the amounts for Fraud vs Normal transations"
      ],
      "metadata": {
        "id": "c-OLQ9A21vrq"
      }
    },
    {
      "cell_type": "code",
      "source": [
        "f, (ax1, ax2) = plt.subplots(2, 1, sharex=True) \n",
        "f.suptitle('Amount per transaction by class')\n",
        "bins = 100\n",
        "ax1.hist(np.log(dff[dff.isFraud==0].amount), bins = bins,alpha=0.75)\n",
        "ax1.set_title('Fraud')\n",
        "ax2.hist(np.log(Normal.amount), bins = bins,alpha=0.75)\n",
        "ax2.set_title('Normal')\n",
        "plt.xlabel('Amount')\n",
        "plt.ylabel('Number of Transactions')\n",
        "plt.yscale('log')\n",
        "plt.rcParams['figure.figsize'] = [10, 7]\n",
        "#plt.grid(True)\n",
        "#ax1.grid(True)\n",
        "plt.xlim([0,None])\n",
        "plt.show()"
      ],
      "metadata": {
        "colab": {
          "base_uri": "https://localhost:8080/",
          "height": 431
        },
        "id": "ykiON28710w4",
        "outputId": "73c12736-810c-4ef6-da4c-def7059fdfa7"
      },
      "execution_count": 179,
      "outputs": [
        {
          "output_type": "display_data",
          "data": {
            "text/plain": [
              "<Figure size 432x432 with 2 Axes>"
            ],
            "image/png": "[encoded data removed]"
          },
          "metadata": {
            "needs_background": "light"
          }
        }
      ]
    },
    {
      "cell_type": "markdown",
      "source": [
        "The above plot compares the amount of 'Normal' vs 'Fraud' transactions. This shows fraudalent transactions are less in counts, but still have statistical significance."
      ],
      "metadata": {
        "id": "Kc6nxokJ2GYW"
      }
    },
    {
      "cell_type": "markdown",
      "source": [
        "# Model Selection Process"
      ],
      "metadata": {
        "id": "EF2FFbbr3KPq"
      }
    },
    {
      "cell_type": "markdown",
      "source": [
        "So, as we can see that this dataset contains Categorical as well as Numeric data, it will be good to use a \n",
        "**'Descision Tree Classifier'**. But, we have many optimised versions of the 'Descision Tree Classifier', we will use them one by one any evalute the best model upon the performance metrics."
      ],
      "metadata": {
        "id": "hbupnK-v3ODK"
      }
    },
    {
      "cell_type": "code",
      "source": [
        "from sklearn.model_selection import train_test_split\n",
        "from sklearn.ensemble import IsolationForest, RandomForestClassifier\n",
        "from sklearn.neighbors import LocalOutlierFactor\n",
        "from sklearn.svm import SVC\n",
        "from sklearn.ensemble import GradientBoostingClassifier\n",
        "from xgboost import XGBClassifier\n",
        "from sklearn.ensemble import AdaBoostClassifier"
      ],
      "metadata": {
        "id": "ny1lzIsGcAvy"
      },
      "execution_count": 180,
      "outputs": []
    },
    {
      "cell_type": "code",
      "source": [
        "x_train, x_test, y_train, y_test = train_test_split(x,y, test_size=0.3)           # Diving the dataset into training and testing dataset"
      ],
      "metadata": {
        "id": "WPllDgQgcG0E"
      },
      "execution_count": 181,
      "outputs": []
    },
    {
      "cell_type": "code",
      "source": [
        "y_test.value_counts()"
      ],
      "metadata": {
        "id": "pmTOiijXmm9t",
        "outputId": "9f01a28c-7685-4d61-da8e-70fb2880c473",
        "colab": {
          "base_uri": "https://localhost:8080/"
        }
      },
      "execution_count": 182,
      "outputs": [
        {
          "output_type": "execute_result",
          "data": {
            "text/plain": [
              "0    3163\n",
              "1    2485\n",
              "Name: isFraud, dtype: int64"
            ]
          },
          "metadata": {},
          "execution_count": 182
        }
      ]
    },
    {
      "cell_type": "code",
      "source": [
        "outlier_fraction = len(Fraud)/len(Normal)"
      ],
      "metadata": {
        "id": "D0ZVjmOMcORd"
      },
      "execution_count": 183,
      "outputs": []
    },
    {
      "cell_type": "code",
      "source": [
        "Isf = IsolationForest(max_samples=len(x_train), verbose=0, n_estimators=100)\n",
        "lof = LocalOutlierFactor()\n",
        "svm = SVC()\n",
        "rf = RandomForestClassifier()\n",
        "gb = GradientBoostingClassifier()\n",
        "xg = XGBClassifier()\n",
        "Ada = AdaBoostClassifier()"
      ],
      "metadata": {
        "id": "D9n-5sECcV1U"
      },
      "execution_count": 238,
      "outputs": []
    },
    {
      "cell_type": "code",
      "source": [
        "y_prec = lof.fit_predict(x_test)\n",
        "Isf.fit(x_train,y_train)\n",
        "y_pred = Isf.predict(x_test)\n",
        "svm.fit(x_train,y_train)\n",
        "y_pred[y_pred == 1] = 0\n",
        "y_pred[y_pred == -1] = 1"
      ],
      "metadata": {
        "id": "uX42b9G0caPY"
      },
      "execution_count": 239,
      "outputs": []
    },
    {
      "cell_type": "markdown",
      "source": [
        "# Choosing the right evaluation Metrics"
      ],
      "metadata": {
        "id": "NTiP23Bq558j"
      }
    },
    {
      "cell_type": "markdown",
      "source": [
        "We have to choose a different evaluation matrics other than the '**Accuracy**'. This is because, in an imbalanced dataset, the **'Accuracy Score'** might not be meaningfull or might not help in specific instances. For, this particular instance, we would like\n",
        "to detect the 'Fraudlent' transactions, by keeping in mind that no '**Normal**' transaction is refered as '**Fraudlent**'. Also, no '**Fraudlent**' transaction should be refered as '**Noraml**'. These are also called the '**Type-I Error** and  '**Type-II Error** in statistics.\n",
        "         "
      ],
      "metadata": {
        "id": "DjbDn9JK5wTi"
      }
    },
    {
      "cell_type": "markdown",
      "source": [
        "  # Prescision, Recall & Area Under Curve (AUC)\n",
        "  '**Precesion**' and '**Recall**' are the evaluation metrics very usefull for specific purposes. '**Precesion**' is the ratio of '**True Positive**' and the sum of both '**True** **Positive**' and '**False** **Positive**'. Here, the '**True Positive**' is **Fraud Detection**. Similarly, in 'Recall' instead of '**False Positive**' it is '**False Negetive**'. Now, by keeping a '**Descision Thersold**', we will get different values of the both. And, if we plot them, we get a curve also known as the '**ROC**'. The area under this curve is important, because it's a measure of the desirable values of the both 'Precesion' and 'Recall'. This is also called the **Area Under Curve (AUC)**. "
      ],
      "metadata": {
        "id": "UPzALemh_DT9"
      }
    },
    {
      "cell_type": "markdown",
      "source": [
        "# Choosing the best model w.r.t the AUC score"
      ],
      "metadata": {
        "id": "DOOTJF7rOhUZ"
      }
    },
    {
      "cell_type": "code",
      "source": [
        "from sklearn.metrics import classification_report,accuracy_score,roc_auc_score,precision_score, confusion_matrix,recall_score"
      ],
      "metadata": {
        "id": "MoTYCPr6egY-"
      },
      "execution_count": 186,
      "outputs": []
    },
    {
      "cell_type": "code",
      "source": [
        "# Local Outlier Factor\n",
        "y_prec[y_prec == 1] = 0\n",
        "y_prec[y_prec == -1] = 1   "
      ],
      "metadata": {
        "id": "tZ7MkZ_tSuBW"
      },
      "execution_count": 244,
      "outputs": []
    },
    {
      "cell_type": "code",
      "source": [
        "y_presvm = svm.predict(x_test)  # SVM \n",
        "recall_score(y_test,y_presvm)"
      ],
      "metadata": {
        "colab": {
          "base_uri": "https://localhost:8080/"
        },
        "id": "G1UhO4Zvc3-0",
        "outputId": "47478368-0827-4451-bde6-4017e4ee27c8"
      },
      "execution_count": 188,
      "outputs": [
        {
          "output_type": "execute_result",
          "data": {
            "text/plain": [
              "0.7030181086519115"
            ]
          },
          "metadata": {},
          "execution_count": 188
        }
      ]
    },
    {
      "cell_type": "code",
      "source": [
        "print('Model: SVM')\n",
        "\n",
        "cm11 = confusion_matrix(y_test,y_presvm)\n",
        "print('Accuracy:', svm.score(x_test, y_test))\n",
        "sns.heatmap(cm11,annot=True,fmt='d')\n",
        "plt.show()"
      ],
      "metadata": {
        "colab": {
          "base_uri": "https://localhost:8080/",
          "height": 463
        },
        "id": "wsq8jAsN5eTv",
        "outputId": "6fa54858-3534-45ee-c2fd-d32d557937d2"
      },
      "execution_count": 240,
      "outputs": [
        {
          "output_type": "stream",
          "name": "stdout",
          "text": [
            "Model: SVM\n",
            "Accuracy: 0.8302053824362606\n"
          ]
        },
        {
          "output_type": "display_data",
          "data": {
            "text/plain": [
              "<Figure size 720x504 with 2 Axes>"
            ],
            "image/png": "[encoded data removed]"
          },
          "metadata": {
            "needs_background": "light"
          }
        }
      ]
    },
    {
      "cell_type": "markdown",
      "source": [
        "Predicted Fraud: 0/61"
      ],
      "metadata": {
        "id": "7VBD4ribRgSM"
      }
    },
    {
      "cell_type": "code",
      "source": [
        "precision_score(y_test,y_pred)    # Isolation Forestb"
      ],
      "metadata": {
        "colab": {
          "base_uri": "https://localhost:8080/"
        },
        "id": "fChyL327fdpP",
        "outputId": "b046db3b-f11b-46b3-ec74-1bf809392d0c"
      },
      "execution_count": 190,
      "outputs": [
        {
          "output_type": "execute_result",
          "data": {
            "text/plain": [
              "0.35121951219512193"
            ]
          },
          "metadata": {},
          "execution_count": 190
        }
      ]
    },
    {
      "cell_type": "code",
      "source": [
        "print('Model: Isolation Forest')\n",
        "cm1 = confusion_matrix(y_test,y_pred)\n",
        "sns.heatmap(cm1,annot=True, fmt='d')\n",
        "plt.show()"
      ],
      "metadata": {
        "colab": {
          "base_uri": "https://localhost:8080/",
          "height": 445
        },
        "id": "PJqAdvMiRSdb",
        "outputId": "188f12d5-31ea-48c1-9d06-03a687683c82"
      },
      "execution_count": 242,
      "outputs": [
        {
          "output_type": "stream",
          "name": "stdout",
          "text": [
            "Model: Isolation Forest\n"
          ]
        },
        {
          "output_type": "display_data",
          "data": {
            "text/plain": [
              "<Figure size 720x504 with 2 Axes>"
            ],
            "image/png": "[encoded data removed]"
          },
          "metadata": {
            "needs_background": "light"
          }
        }
      ]
    },
    {
      "cell_type": "markdown",
      "source": [
        "Predicted Fraud: 7/61"
      ],
      "metadata": {
        "id": "24gryyQ4RbZb"
      }
    },
    {
      "cell_type": "code",
      "source": [
        "precision_score(y_test, y_prec)   # Local Outlier Factor"
      ],
      "metadata": {
        "colab": {
          "base_uri": "https://localhost:8080/"
        },
        "id": "rudZyXmIf27Y",
        "outputId": "acb51f7b-3ff8-4a23-8377-f2d91808ab53"
      },
      "execution_count": 192,
      "outputs": [
        {
          "output_type": "execute_result",
          "data": {
            "text/plain": [
              "0.24861878453038674"
            ]
          },
          "metadata": {},
          "execution_count": 192
        }
      ]
    },
    {
      "cell_type": "code",
      "source": [
        "print('Model: Local outlier Factor')\n",
        "cm1 = confusion_matrix(y_test,y_prec)\n",
        "sns.heatmap(cm1,annot=True, fmt='d')\n",
        "plt.show()"
      ],
      "metadata": {
        "colab": {
          "base_uri": "https://localhost:8080/",
          "height": 445
        },
        "id": "DcqRHiH8R72q",
        "outputId": "d48a1730-a71c-4657-d836-d505b96d52e5"
      },
      "execution_count": 245,
      "outputs": [
        {
          "output_type": "stream",
          "name": "stdout",
          "text": [
            "Model: Local outlier Factor\n"
          ]
        },
        {
          "output_type": "display_data",
          "data": {
            "text/plain": [
              "<Figure size 720x504 with 2 Axes>"
            ],
            "image/png": "[encoded data removed]"
          },
          "metadata": {
            "needs_background": "light"
          }
        }
      ]
    },
    {
      "cell_type": "markdown",
      "source": [
        "Predicted Fraud: 12/61"
      ],
      "metadata": {
        "id": "ElwoO0aWRWTl"
      }
    },
    {
      "cell_type": "code",
      "source": [
        "rf.fit(x_train,y_train)         # Random Forest\n",
        "y_prerf = rf.predict(x_test)"
      ],
      "metadata": {
        "id": "q2DOFmEugiD_"
      },
      "execution_count": 271,
      "outputs": []
    },
    {
      "cell_type": "code",
      "source": [
        "# Random Forest \n",
        "precision_score(y_test,y_prerf)   "
      ],
      "metadata": {
        "colab": {
          "base_uri": "https://localhost:8080/"
        },
        "id": "haa60MZRgh5n",
        "outputId": "f8f29f4a-58fe-45fb-b6e7-2291d18893da"
      },
      "execution_count": 272,
      "outputs": [
        {
          "output_type": "execute_result",
          "data": {
            "text/plain": [
              "0.9896124650419497"
            ]
          },
          "metadata": {},
          "execution_count": 272
        }
      ]
    },
    {
      "cell_type": "code",
      "source": [
        "print('Model: Random Forest')\n",
        "print('Accuracy:', rf.score(x_test, y_test))\n",
        "print('Precision:', precision_score(y_test,y_prerf) )\n",
        "cm1 = confusion_matrix(y_test,y_prerf)\n",
        "sns.heatmap(cm1,annot=True, fmt='d')\n",
        "plt.show()"
      ],
      "metadata": {
        "colab": {
          "base_uri": "https://localhost:8080/",
          "height": 480
        },
        "id": "aPHUupU0Sd2S",
        "outputId": "3d660aef-3196-49ce-adc0-b312171f5c87"
      },
      "execution_count": 273,
      "outputs": [
        {
          "output_type": "stream",
          "name": "stdout",
          "text": [
            "Model: Random Forest\n",
            "Accuracy: 0.9939801699716714\n",
            "Precision: 0.9896124650419497\n"
          ]
        },
        {
          "output_type": "display_data",
          "data": {
            "text/plain": [
              "<Figure size 720x504 with 2 Axes>"
            ],
            "image/png": "[encoded data removed]"
          },
          "metadata": {
            "needs_background": "light"
          }
        }
      ]
    },
    {
      "cell_type": "markdown",
      "source": [
        "Predicted Fraud: 9/61"
      ],
      "metadata": {
        "id": "uRYe4g4iRRSt"
      }
    },
    {
      "cell_type": "code",
      "source": [
        "gb.fit(x_train,y_train)         # Gradiant Boost\n",
        "y_pregb = gb.predict(x_test)    "
      ],
      "metadata": {
        "id": "oEED6NjBlaU6"
      },
      "execution_count": 197,
      "outputs": []
    },
    {
      "cell_type": "code",
      "source": [
        "precision_score(y_test,y_pregb)    # gradiant Boost  "
      ],
      "metadata": {
        "colab": {
          "base_uri": "https://localhost:8080/"
        },
        "id": "uqYwEC9fnYjy",
        "outputId": "a6719e20-1363-4aea-983d-4008693c7fd7"
      },
      "execution_count": 198,
      "outputs": [
        {
          "output_type": "execute_result",
          "data": {
            "text/plain": [
              "0.9782951854775059"
            ]
          },
          "metadata": {},
          "execution_count": 198
        }
      ]
    },
    {
      "cell_type": "code",
      "source": [
        "print('Model: Gradiant Boost')\n",
        "print('Accuracy:', gb.score(x_test, y_test))\n",
        "cm1 = confusion_matrix(y_test,y_pregb)\n",
        "sns.heatmap(cm1,annot=True, fmt='d')\n",
        "plt.show()"
      ],
      "metadata": {
        "colab": {
          "base_uri": "https://localhost:8080/",
          "height": 463
        },
        "id": "KVmCMPZ8StLr",
        "outputId": "54a117c6-7f9f-41ac-cc07-ca00c9e33e63"
      },
      "execution_count": 234,
      "outputs": [
        {
          "output_type": "stream",
          "name": "stdout",
          "text": [
            "Model: Gradiant Boost\n",
            "Accuracy: 0.9891997167138811\n"
          ]
        },
        {
          "output_type": "display_data",
          "data": {
            "text/plain": [
              "<Figure size 720x504 with 2 Axes>"
            ],
            "image/png": "[encoded data removed]"
          },
          "metadata": {
            "needs_background": "light"
          }
        }
      ]
    },
    {
      "cell_type": "markdown",
      "source": [
        "Predicted Fraud: 8/61"
      ],
      "metadata": {
        "id": "4M56BMEZRBw5"
      }
    },
    {
      "cell_type": "code",
      "source": [
        "xg.fit(x_train,y_train)          # Xg Boost\n",
        "y_prexg = xg.predict(x_test)"
      ],
      "metadata": {
        "id": "_7pEjkVXwNts"
      },
      "execution_count": 200,
      "outputs": []
    },
    {
      "cell_type": "code",
      "source": [
        "recall_score(y_test,y_prexg)    # Xg Boost (2nd Best Score)"
      ],
      "metadata": {
        "colab": {
          "base_uri": "https://localhost:8080/"
        },
        "id": "f8953OXUxZvR",
        "outputId": "c31c5f31-7a7b-45c8-ce57-0d35699f7df2"
      },
      "execution_count": 201,
      "outputs": [
        {
          "output_type": "execute_result",
          "data": {
            "text/plain": [
              "0.9967806841046277"
            ]
          },
          "metadata": {},
          "execution_count": 201
        }
      ]
    },
    {
      "cell_type": "code",
      "source": [
        "print('Model: Xg Boost')\n",
        "print('Accuracy:', xg.score(x_test, y_test))\n",
        "cm6 = confusion_matrix(y_test,y_prexg)\n",
        "sns.heatmap(cm6,annot=True, fmt='d')\n",
        "plt.show()"
      ],
      "metadata": {
        "colab": {
          "base_uri": "https://localhost:8080/",
          "height": 463
        },
        "id": "jX5kk5RMS4KJ",
        "outputId": "ddcf7676-0cce-4d5b-e6cf-d916741adb56"
      },
      "execution_count": 233,
      "outputs": [
        {
          "output_type": "stream",
          "name": "stdout",
          "text": [
            "Model: Xg Boost\n",
            "Accuracy: 0.988314447592068\n"
          ]
        },
        {
          "output_type": "display_data",
          "data": {
            "text/plain": [
              "<Figure size 720x504 with 2 Axes>"
            ],
            "image/png": "[encoded data removed]"
          },
          "metadata": {
            "needs_background": "light"
          }
        }
      ]
    },
    {
      "cell_type": "markdown",
      "source": [
        " Predicted Fraud: 3/61"
      ],
      "metadata": {
        "id": "HvF5SErUQ1YV"
      }
    },
    {
      "cell_type": "code",
      "source": [
        "Ada.fit(x_train,y_train)          # Ada Boost\n",
        "y_preaba = Ada.predict(x_test)"
      ],
      "metadata": {
        "id": "xJ2FErM0AZ88"
      },
      "execution_count": 247,
      "outputs": []
    },
    {
      "cell_type": "code",
      "source": [
        "precision_score(y_test,y_preaba)    # Ada Boost (3rd Best Score)"
      ],
      "metadata": {
        "colab": {
          "base_uri": "https://localhost:8080/"
        },
        "id": "A22rIYTiBSE2",
        "outputId": "1e52d079-bd73-4f6a-e055-2c0b2baad1f9"
      },
      "execution_count": 248,
      "outputs": [
        {
          "output_type": "execute_result",
          "data": {
            "text/plain": [
              "0.9594807238394965"
            ]
          },
          "metadata": {},
          "execution_count": 248
        }
      ]
    },
    {
      "cell_type": "code",
      "source": [
        "print('Model: Ada Boost')\n",
        "print('Accuracy:', Ada.score(x_test, y_test))\n",
        "cm8 = confusion_matrix(y_test,y_preaba)\n",
        "sns.heatmap(cm8,annot=True, fmt='d')\n",
        "plt.show()"
      ],
      "metadata": {
        "colab": {
          "base_uri": "https://localhost:8080/",
          "height": 463
        },
        "id": "DPDREZzoTGhO",
        "outputId": "7a56980e-825d-4972-d475-9b239bd2acb0"
      },
      "execution_count": 249,
      "outputs": [
        {
          "output_type": "stream",
          "name": "stdout",
          "text": [
            "Model: Ada Boost\n",
            "Accuracy: 0.9736189801699717\n"
          ]
        },
        {
          "output_type": "display_data",
          "data": {
            "text/plain": [
              "<Figure size 720x504 with 2 Axes>"
            ],
            "image/png": "[encoded data removed]"
          },
          "metadata": {
            "needs_background": "light"
          }
        }
      ]
    },
    {
      "cell_type": "code",
      "source": [
        "# Neural Networks\n",
        "from tensorflow import keras\n",
        "\n",
        "model1 = keras.Sequential([\n",
        "keras.layers.Dense(11, input_shape=(11,),activation='relu'),\n",
        "#keras.layers.Dropout(0.2),\n",
        "keras.layers.Dense(8,activation='relu'),\n",
        "#keras.layers.Dropout(0.1),\n",
        "keras.layers.Dense(5,activation='relu'),\n",
        "#keras.layers.Dropout(0.1),\n",
        "#keras.layers.Dense(3,activation='relu'),\n",
        "#keras.layers.Dropout(0.1),\n",
        "keras.layers.Dense(1,activation='sigmoid')])\n",
        "\n",
        "model1.compile(\n",
        "    optimizer='adam',\n",
        "    loss='binary_crossentropy',\n",
        "    metrics=['accuracy']\n",
        ")\n",
        "model1.fit(x_train, y_train, epochs=100)"
      ],
      "metadata": {
        "colab": {
          "base_uri": "https://localhost:8080/"
        },
        "id": "KXzDM2Tl6kxe",
        "outputId": "e6ab7b1f-c394-4f23-c806-a281adfedc1a"
      },
      "execution_count": 263,
      "outputs": [
        {
          "output_type": "stream",
          "name": "stdout",
          "text": [
            "Epoch 1/100\n",
            "412/412 [==============================] - 1s 2ms/step - loss: 0.4875 - accuracy: 0.7353\n",
            "Epoch 2/100\n",
            "412/412 [==============================] - 1s 2ms/step - loss: 0.3753 - accuracy: 0.8177\n",
            "Epoch 3/100\n",
            "412/412 [==============================] - 1s 2ms/step - loss: 0.3467 - accuracy: 0.8390\n",
            "Epoch 4/100\n",
            "412/412 [==============================] - 1s 2ms/step - loss: 0.3242 - accuracy: 0.8460\n",
            "Epoch 5/100\n",
            "412/412 [==============================] - 1s 2ms/step - loss: 0.3045 - accuracy: 0.8546\n",
            "Epoch 6/100\n",
            "412/412 [==============================] - 1s 2ms/step - loss: 0.2861 - accuracy: 0.8633\n",
            "Epoch 7/100\n",
            "412/412 [==============================] - 1s 2ms/step - loss: 0.2709 - accuracy: 0.8704\n",
            "Epoch 8/100\n",
            "412/412 [==============================] - 1s 2ms/step - loss: 0.2573 - accuracy: 0.8820\n",
            "Epoch 9/100\n",
            "412/412 [==============================] - 1s 2ms/step - loss: 0.2458 - accuracy: 0.8894\n",
            "Epoch 10/100\n",
            "412/412 [==============================] - 1s 2ms/step - loss: 0.2361 - accuracy: 0.8938\n",
            "Epoch 11/100\n",
            "412/412 [==============================] - 1s 2ms/step - loss: 0.2226 - accuracy: 0.9034\n",
            "Epoch 12/100\n",
            "412/412 [==============================] - 1s 2ms/step - loss: 0.2127 - accuracy: 0.9057\n",
            "Epoch 13/100\n",
            "412/412 [==============================] - 1s 2ms/step - loss: 0.2047 - accuracy: 0.9127\n",
            "Epoch 14/100\n",
            "412/412 [==============================] - 1s 2ms/step - loss: 0.1947 - accuracy: 0.9160\n",
            "Epoch 15/100\n",
            "412/412 [==============================] - 1s 2ms/step - loss: 0.1856 - accuracy: 0.9197\n",
            "Epoch 16/100\n",
            "412/412 [==============================] - 1s 2ms/step - loss: 0.1805 - accuracy: 0.9205\n",
            "Epoch 17/100\n",
            "412/412 [==============================] - 1s 2ms/step - loss: 0.1726 - accuracy: 0.9265\n",
            "Epoch 18/100\n",
            "412/412 [==============================] - 1s 2ms/step - loss: 0.1682 - accuracy: 0.9272\n",
            "Epoch 19/100\n",
            "412/412 [==============================] - 1s 2ms/step - loss: 0.1595 - accuracy: 0.9318\n",
            "Epoch 20/100\n",
            "412/412 [==============================] - 1s 2ms/step - loss: 0.1549 - accuracy: 0.9365\n",
            "Epoch 21/100\n",
            "412/412 [==============================] - 1s 2ms/step - loss: 0.1522 - accuracy: 0.9367\n",
            "Epoch 22/100\n",
            "412/412 [==============================] - 1s 2ms/step - loss: 0.1456 - accuracy: 0.9388\n",
            "Epoch 23/100\n",
            "412/412 [==============================] - 1s 2ms/step - loss: 0.1429 - accuracy: 0.9415\n",
            "Epoch 24/100\n",
            "412/412 [==============================] - 1s 2ms/step - loss: 0.1371 - accuracy: 0.9457\n",
            "Epoch 25/100\n",
            "412/412 [==============================] - 1s 2ms/step - loss: 0.1335 - accuracy: 0.9466\n",
            "Epoch 26/100\n",
            "412/412 [==============================] - 1s 2ms/step - loss: 0.1302 - accuracy: 0.9492\n",
            "Epoch 27/100\n",
            "412/412 [==============================] - 1s 2ms/step - loss: 0.1272 - accuracy: 0.9500\n",
            "Epoch 28/100\n",
            "412/412 [==============================] - 1s 2ms/step - loss: 0.1250 - accuracy: 0.9518\n",
            "Epoch 29/100\n",
            "412/412 [==============================] - 1s 2ms/step - loss: 0.1221 - accuracy: 0.9548\n",
            "Epoch 30/100\n",
            "412/412 [==============================] - 1s 2ms/step - loss: 0.1185 - accuracy: 0.9550\n",
            "Epoch 31/100\n",
            "412/412 [==============================] - 1s 2ms/step - loss: 0.1169 - accuracy: 0.9558\n",
            "Epoch 32/100\n",
            "412/412 [==============================] - 1s 2ms/step - loss: 0.1136 - accuracy: 0.9573\n",
            "Epoch 33/100\n",
            "412/412 [==============================] - 1s 2ms/step - loss: 0.1124 - accuracy: 0.9568\n",
            "Epoch 34/100\n",
            "412/412 [==============================] - 1s 2ms/step - loss: 0.1112 - accuracy: 0.9573\n",
            "Epoch 35/100\n",
            "412/412 [==============================] - 1s 2ms/step - loss: 0.1073 - accuracy: 0.9605\n",
            "Epoch 36/100\n",
            "412/412 [==============================] - 1s 2ms/step - loss: 0.1102 - accuracy: 0.9570\n",
            "Epoch 37/100\n",
            "412/412 [==============================] - 1s 2ms/step - loss: 0.1075 - accuracy: 0.9599\n",
            "Epoch 38/100\n",
            "412/412 [==============================] - 1s 2ms/step - loss: 0.1042 - accuracy: 0.9603\n",
            "Epoch 39/100\n",
            "412/412 [==============================] - 1s 2ms/step - loss: 0.1025 - accuracy: 0.9643\n",
            "Epoch 40/100\n",
            "412/412 [==============================] - 1s 2ms/step - loss: 0.1022 - accuracy: 0.9616\n",
            "Epoch 41/100\n",
            "412/412 [==============================] - 1s 2ms/step - loss: 0.0998 - accuracy: 0.9624\n",
            "Epoch 42/100\n",
            "412/412 [==============================] - 1s 2ms/step - loss: 0.0974 - accuracy: 0.9672\n",
            "Epoch 43/100\n",
            "412/412 [==============================] - 1s 2ms/step - loss: 0.0971 - accuracy: 0.9640\n",
            "Epoch 44/100\n",
            "412/412 [==============================] - 1s 2ms/step - loss: 0.0961 - accuracy: 0.9650\n",
            "Epoch 45/100\n",
            "412/412 [==============================] - 1s 2ms/step - loss: 0.0949 - accuracy: 0.9654\n",
            "Epoch 46/100\n",
            "412/412 [==============================] - 1s 2ms/step - loss: 0.0984 - accuracy: 0.9631\n",
            "Epoch 47/100\n",
            "412/412 [==============================] - 1s 2ms/step - loss: 0.0936 - accuracy: 0.9656\n",
            "Epoch 48/100\n",
            "412/412 [==============================] - 1s 2ms/step - loss: 0.0919 - accuracy: 0.9672\n",
            "Epoch 49/100\n",
            "412/412 [==============================] - 1s 2ms/step - loss: 0.0892 - accuracy: 0.9682\n",
            "Epoch 50/100\n",
            "412/412 [==============================] - 1s 2ms/step - loss: 0.0914 - accuracy: 0.9663\n",
            "Epoch 51/100\n",
            "412/412 [==============================] - 1s 2ms/step - loss: 0.0928 - accuracy: 0.9656\n",
            "Epoch 52/100\n",
            "412/412 [==============================] - 1s 2ms/step - loss: 0.0890 - accuracy: 0.9684\n",
            "Epoch 53/100\n",
            "412/412 [==============================] - 1s 2ms/step - loss: 0.0868 - accuracy: 0.9701\n",
            "Epoch 54/100\n",
            "412/412 [==============================] - 1s 2ms/step - loss: 0.0875 - accuracy: 0.9684\n",
            "Epoch 55/100\n",
            "412/412 [==============================] - 1s 2ms/step - loss: 0.0866 - accuracy: 0.9696\n",
            "Epoch 56/100\n",
            "412/412 [==============================] - 1s 2ms/step - loss: 0.0872 - accuracy: 0.9682\n",
            "Epoch 57/100\n",
            "412/412 [==============================] - 1s 2ms/step - loss: 0.0946 - accuracy: 0.9634\n",
            "Epoch 58/100\n",
            "412/412 [==============================] - 1s 2ms/step - loss: 0.0832 - accuracy: 0.9718\n",
            "Epoch 59/100\n",
            "412/412 [==============================] - 1s 2ms/step - loss: 0.0869 - accuracy: 0.9672\n",
            "Epoch 60/100\n",
            "412/412 [==============================] - 1s 2ms/step - loss: 0.0809 - accuracy: 0.9726\n",
            "Epoch 61/100\n",
            "412/412 [==============================] - 1s 2ms/step - loss: 0.0814 - accuracy: 0.9712\n",
            "Epoch 62/100\n",
            "412/412 [==============================] - 1s 2ms/step - loss: 0.0866 - accuracy: 0.9679\n",
            "Epoch 63/100\n",
            "412/412 [==============================] - 1s 2ms/step - loss: 0.0788 - accuracy: 0.9737\n",
            "Epoch 64/100\n",
            "412/412 [==============================] - 1s 2ms/step - loss: 0.0810 - accuracy: 0.9721\n",
            "Epoch 65/100\n",
            "412/412 [==============================] - 1s 2ms/step - loss: 0.0786 - accuracy: 0.9725\n",
            "Epoch 66/100\n",
            "412/412 [==============================] - 1s 2ms/step - loss: 0.0798 - accuracy: 0.9710\n",
            "Epoch 67/100\n",
            "412/412 [==============================] - 1s 2ms/step - loss: 0.0812 - accuracy: 0.9702\n",
            "Epoch 68/100\n",
            "412/412 [==============================] - 1s 2ms/step - loss: 0.0824 - accuracy: 0.9693\n",
            "Epoch 69/100\n",
            "412/412 [==============================] - 1s 2ms/step - loss: 0.0745 - accuracy: 0.9752\n",
            "Epoch 70/100\n",
            "412/412 [==============================] - 1s 2ms/step - loss: 0.0783 - accuracy: 0.9709\n",
            "Epoch 71/100\n",
            "412/412 [==============================] - 1s 2ms/step - loss: 0.0766 - accuracy: 0.9731\n",
            "Epoch 72/100\n",
            "412/412 [==============================] - 1s 2ms/step - loss: 0.0786 - accuracy: 0.9718\n",
            "Epoch 73/100\n",
            "412/412 [==============================] - 1s 2ms/step - loss: 0.0744 - accuracy: 0.9742\n",
            "Epoch 74/100\n",
            "412/412 [==============================] - 1s 2ms/step - loss: 0.0747 - accuracy: 0.9731\n",
            "Epoch 75/100\n",
            "412/412 [==============================] - 1s 2ms/step - loss: 0.0755 - accuracy: 0.9728\n",
            "Epoch 76/100\n",
            "412/412 [==============================] - 1s 2ms/step - loss: 0.0767 - accuracy: 0.9726\n",
            "Epoch 77/100\n",
            "412/412 [==============================] - 1s 2ms/step - loss: 0.0738 - accuracy: 0.9730\n",
            "Epoch 78/100\n",
            "412/412 [==============================] - 1s 2ms/step - loss: 0.0697 - accuracy: 0.9759\n",
            "Epoch 79/100\n",
            "412/412 [==============================] - 1s 2ms/step - loss: 0.0707 - accuracy: 0.9755\n",
            "Epoch 80/100\n",
            "412/412 [==============================] - 1s 2ms/step - loss: 0.0702 - accuracy: 0.9747\n",
            "Epoch 81/100\n",
            "412/412 [==============================] - 1s 2ms/step - loss: 0.0700 - accuracy: 0.9756\n",
            "Epoch 82/100\n",
            "412/412 [==============================] - 1s 2ms/step - loss: 0.0816 - accuracy: 0.9675\n",
            "Epoch 83/100\n",
            "412/412 [==============================] - 1s 2ms/step - loss: 0.0690 - accuracy: 0.9753\n",
            "Epoch 84/100\n",
            "412/412 [==============================] - 1s 2ms/step - loss: 0.0660 - accuracy: 0.9763\n",
            "Epoch 85/100\n",
            "412/412 [==============================] - 1s 2ms/step - loss: 0.0686 - accuracy: 0.9750\n",
            "Epoch 86/100\n",
            "412/412 [==============================] - 1s 2ms/step - loss: 0.0732 - accuracy: 0.9718\n",
            "Epoch 87/100\n",
            "412/412 [==============================] - 1s 2ms/step - loss: 0.0681 - accuracy: 0.9762\n",
            "Epoch 88/100\n",
            "412/412 [==============================] - 1s 2ms/step - loss: 0.0690 - accuracy: 0.9765\n",
            "Epoch 89/100\n",
            "412/412 [==============================] - 1s 2ms/step - loss: 0.0645 - accuracy: 0.9794\n",
            "Epoch 90/100\n",
            "412/412 [==============================] - 1s 2ms/step - loss: 0.0702 - accuracy: 0.9753\n",
            "Epoch 91/100\n",
            "412/412 [==============================] - 1s 2ms/step - loss: 0.0662 - accuracy: 0.9778\n",
            "Epoch 92/100\n",
            "412/412 [==============================] - 1s 2ms/step - loss: 0.0657 - accuracy: 0.9781\n",
            "Epoch 93/100\n",
            "412/412 [==============================] - 1s 2ms/step - loss: 0.0736 - accuracy: 0.9720\n",
            "Epoch 94/100\n",
            "412/412 [==============================] - 1s 2ms/step - loss: 0.0649 - accuracy: 0.9781\n",
            "Epoch 95/100\n",
            "412/412 [==============================] - 1s 2ms/step - loss: 0.0636 - accuracy: 0.9784\n",
            "Epoch 96/100\n",
            "412/412 [==============================] - 1s 2ms/step - loss: 0.0666 - accuracy: 0.9758\n",
            "Epoch 97/100\n",
            "412/412 [==============================] - 1s 2ms/step - loss: 0.0681 - accuracy: 0.9757\n",
            "Epoch 98/100\n",
            "412/412 [==============================] - 1s 2ms/step - loss: 0.0675 - accuracy: 0.9769\n",
            "Epoch 99/100\n",
            "412/412 [==============================] - 1s 2ms/step - loss: 0.0658 - accuracy: 0.9768\n",
            "Epoch 100/100\n",
            "412/412 [==============================] - 1s 2ms/step - loss: 0.0623 - accuracy: 0.9803\n"
          ]
        },
        {
          "output_type": "execute_result",
          "data": {
            "text/plain": [
              "<keras.callbacks.History at 0x7fca0e91c450>"
            ]
          },
          "metadata": {},
          "execution_count": 263
        }
      ]
    },
    {
      "cell_type": "code",
      "source": [
        "model1.evaluate(x_test, y_test)"
      ],
      "metadata": {
        "id": "ew2Efh1GGQzj",
        "outputId": "c0f07ed3-a850-477e-fb9c-4b3726ed59c7",
        "colab": {
          "base_uri": "https://localhost:8080/"
        }
      },
      "execution_count": 264,
      "outputs": [
        {
          "output_type": "stream",
          "name": "stdout",
          "text": [
            "177/177 [==============================] - 0s 2ms/step - loss: 0.0526 - accuracy: 0.9892\n"
          ]
        },
        {
          "output_type": "execute_result",
          "data": {
            "text/plain": [
              "[0.0526481457054615, 0.989199697971344]"
            ]
          },
          "metadata": {},
          "execution_count": 264
        }
      ]
    },
    {
      "cell_type": "code",
      "source": [
        "y_pn = model1.predict(x_test)"
      ],
      "metadata": {
        "id": "u_OoKwjmJdov"
      },
      "execution_count": 265,
      "outputs": []
    },
    {
      "cell_type": "code",
      "source": [
        " y_prn = []\n",
        "for i in y_pn:\n",
        "  if i>0.5:\n",
        "    y_prn.append(1)  \n",
        "  else:\n",
        "    y_prn.append(0)"
      ],
      "metadata": {
        "id": "C0sWplqGMZHV"
      },
      "execution_count": 266,
      "outputs": []
    },
    {
      "cell_type": "code",
      "source": [
        "precision_score(y_test,y_prn)"
      ],
      "metadata": {
        "colab": {
          "base_uri": "https://localhost:8080/"
        },
        "id": "46t7DMbZBrUn",
        "outputId": "2c68bcd2-4eef-42e6-d5e4-8245a002e8c7"
      },
      "execution_count": 267,
      "outputs": [
        {
          "output_type": "execute_result",
          "data": {
            "text/plain": [
              "0.9794303797468354"
            ]
          },
          "metadata": {},
          "execution_count": 267
        }
      ]
    },
    {
      "cell_type": "code",
      "source": [
        "print('Model: Neural Networks')\n",
        "print('Precision:',precision_score(y_test,y_prn))\n",
        "cmm = confusion_matrix(y_test,y_prn)\n",
        "sns.heatmap(cmm, annot=True, fmt='d')\n",
        "plt.show()"
      ],
      "metadata": {
        "colab": {
          "base_uri": "https://localhost:8080/",
          "height": 463
        },
        "id": "Bh-6X70LQFMp",
        "outputId": "40a35441-ba7a-477c-c91e-9bcaae73c975"
      },
      "execution_count": 274,
      "outputs": [
        {
          "output_type": "stream",
          "name": "stdout",
          "text": [
            "Model: Neural Networks\n",
            "Precision: 0.9794303797468354\n"
          ]
        },
        {
          "output_type": "display_data",
          "data": {
            "text/plain": [
              "<Figure size 720x504 with 2 Axes>"
            ],
            "image/png": "[encoded data removed]"
          },
          "metadata": {
            "needs_background": "light"
          }
        }
      ]
    },
    {
      "cell_type": "markdown",
      "source": [
        "Predicted Fraud: 0/61"
      ],
      "metadata": {
        "id": "YiG-z6kWRo6t"
      }
    },
    {
      "cell_type": "code",
      "source": [
        "df"
      ],
      "metadata": {
        "id": "-IHphioIJxtb",
        "outputId": "3c9622de-cf34-49f9-9d2e-d79b6eb4ee9c",
        "colab": {
          "base_uri": "https://localhost:8080/",
          "height": 424
        }
      },
      "execution_count": 212,
      "outputs": [
        {
          "output_type": "execute_result",
          "data": {
            "text/plain": [
              "       step      type     amount     nameOrig  oldbalanceOrg  newbalanceOrig  \\\n",
              "0         1  TRANSFER     181.00  C1305486145         181.00            0.00   \n",
              "1         1  CASH_OUT     181.00   C840083671         181.00            0.00   \n",
              "2         1  TRANSFER    2806.00  C1420196421        2806.00            0.00   \n",
              "3         1  CASH_OUT    2806.00  C2101527076        2806.00            0.00   \n",
              "4         1  TRANSFER   20128.00   C137533655       20128.00            0.00   \n",
              "...     ...       ...        ...          ...            ...             ...   \n",
              "18820   403  CASH_OUT   16971.21  C1304107248           0.00            0.00   \n",
              "18821   599  CASH_OUT  244427.31   C618233129           0.00            0.00   \n",
              "18822   346   CASH_IN  316416.17  C1975369261     2731519.61      3047935.77   \n",
              "18823   183  CASH_OUT   36850.21   C647402964           0.00            0.00   \n",
              "18824   304  CASH_OUT   87276.21   C433810441       14016.00            0.00   \n",
              "\n",
              "          nameDest  oldbalanceDest  newbalanceDest  isFraud  isFlaggedFraud  \n",
              "0       C553264065            0.00            0.00        1               0  \n",
              "1        C38997010        21182.00            0.00        1               0  \n",
              "2       C972765878            0.00            0.00        1               0  \n",
              "3      C1007251739        26202.00            0.00        1               0  \n",
              "4      C1848415041            0.00            0.00        1               0  \n",
              "...            ...             ...             ...      ...             ...  \n",
              "18820   C946391772       416282.79       433253.99        0               0  \n",
              "18821  C2023401262      1705234.90      1949662.21        0               0  \n",
              "18822   C724164228      1083263.94       766847.77        0               0  \n",
              "18823   C953475799       884986.80       921837.01        0               0  \n",
              "18824   C486612639            0.00        87276.21        0               0  \n",
              "\n",
              "[18825 rows x 11 columns]"
            ],
            "text/html": [
              "\n",
              "  <div id=\"df-582e67db-9f3e-4f2e-8e95-349c7535183a\">\n",
              "    <div class=\"colab-df-container\">\n",
              "      <div>\n",
              "<style scoped>\n",
              "    .dataframe tbody tr th:only-of-type {\n",
              "        vertical-align: middle;\n",
              "    }\n",
              "\n",
              "    .dataframe tbody tr th {\n",
              "        vertical-align: top;\n",
              "    }\n",
              "\n",
              "    .dataframe thead th {\n",
              "        text-align: right;\n",
              "    }\n",
              "</style>\n",
              "<table border=\"1\" class=\"dataframe\">\n",
              "  <thead>\n",
              "    <tr style=\"text-align: right;\">\n",
              "      <th></th>\n",
              "      <th>step</th>\n",
              "      <th>type</th>\n",
              "      <th>amount</th>\n",
              "      <th>nameOrig</th>\n",
              "      <th>oldbalanceOrg</th>\n",
              "      <th>newbalanceOrig</th>\n",
              "      <th>nameDest</th>\n",
              "      <th>oldbalanceDest</th>\n",
              "      <th>newbalanceDest</th>\n",
              "      <th>isFraud</th>\n",
              "      <th>isFlaggedFraud</th>\n",
              "    </tr>\n",
              "  </thead>\n",
              "  <tbody>\n",
              "    <tr>\n",
              "      <th>0</th>\n",
              "      <td>1</td>\n",
              "      <td>TRANSFER</td>\n",
              "      <td>181.00</td>\n",
              "      <td>C1305486145</td>\n",
              "      <td>181.00</td>\n",
              "      <td>0.00</td>\n",
              "      <td>C553264065</td>\n",
              "      <td>0.00</td>\n",
              "      <td>0.00</td>\n",
              "      <td>1</td>\n",
              "      <td>0</td>\n",
              "    </tr>\n",
              "    <tr>\n",
              "      <th>1</th>\n",
              "      <td>1</td>\n",
              "      <td>CASH_OUT</td>\n",
              "      <td>181.00</td>\n",
              "      <td>C840083671</td>\n",
              "      <td>181.00</td>\n",
              "      <td>0.00</td>\n",
              "      <td>C38997010</td>\n",
              "      <td>21182.00</td>\n",
              "      <td>0.00</td>\n",
              "      <td>1</td>\n",
              "      <td>0</td>\n",
              "    </tr>\n",
              "    <tr>\n",
              "      <th>2</th>\n",
              "      <td>1</td>\n",
              "      <td>TRANSFER</td>\n",
              "      <td>2806.00</td>\n",
              "      <td>C1420196421</td>\n",
              "      <td>2806.00</td>\n",
              "      <td>0.00</td>\n",
              "      <td>C972765878</td>\n",
              "      <td>0.00</td>\n",
              "      <td>0.00</td>\n",
              "      <td>1</td>\n",
              "      <td>0</td>\n",
              "    </tr>\n",
              "    <tr>\n",
              "      <th>3</th>\n",
              "      <td>1</td>\n",
              "      <td>CASH_OUT</td>\n",
              "      <td>2806.00</td>\n",
              "      <td>C2101527076</td>\n",
              "      <td>2806.00</td>\n",
              "      <td>0.00</td>\n",
              "      <td>C1007251739</td>\n",
              "      <td>26202.00</td>\n",
              "      <td>0.00</td>\n",
              "      <td>1</td>\n",
              "      <td>0</td>\n",
              "    </tr>\n",
              "    <tr>\n",
              "      <th>4</th>\n",
              "      <td>1</td>\n",
              "      <td>TRANSFER</td>\n",
              "      <td>20128.00</td>\n",
              "      <td>C137533655</td>\n",
              "      <td>20128.00</td>\n",
              "      <td>0.00</td>\n",
              "      <td>C1848415041</td>\n",
              "      <td>0.00</td>\n",
              "      <td>0.00</td>\n",
              "      <td>1</td>\n",
              "      <td>0</td>\n",
              "    </tr>\n",
              "    <tr>\n",
              "      <th>...</th>\n",
              "      <td>...</td>\n",
              "      <td>...</td>\n",
              "      <td>...</td>\n",
              "      <td>...</td>\n",
              "      <td>...</td>\n",
              "      <td>...</td>\n",
              "      <td>...</td>\n",
              "      <td>...</td>\n",
              "      <td>...</td>\n",
              "      <td>...</td>\n",
              "      <td>...</td>\n",
              "    </tr>\n",
              "    <tr>\n",
              "      <th>18820</th>\n",
              "      <td>403</td>\n",
              "      <td>CASH_OUT</td>\n",
              "      <td>16971.21</td>\n",
              "      <td>C1304107248</td>\n",
              "      <td>0.00</td>\n",
              "      <td>0.00</td>\n",
              "      <td>C946391772</td>\n",
              "      <td>416282.79</td>\n",
              "      <td>433253.99</td>\n",
              "      <td>0</td>\n",
              "      <td>0</td>\n",
              "    </tr>\n",
              "    <tr>\n",
              "      <th>18821</th>\n",
              "      <td>599</td>\n",
              "      <td>CASH_OUT</td>\n",
              "      <td>244427.31</td>\n",
              "      <td>C618233129</td>\n",
              "      <td>0.00</td>\n",
              "      <td>0.00</td>\n",
              "      <td>C2023401262</td>\n",
              "      <td>1705234.90</td>\n",
              "      <td>1949662.21</td>\n",
              "      <td>0</td>\n",
              "      <td>0</td>\n",
              "    </tr>\n",
              "    <tr>\n",
              "      <th>18822</th>\n",
              "      <td>346</td>\n",
              "      <td>CASH_IN</td>\n",
              "      <td>316416.17</td>\n",
              "      <td>C1975369261</td>\n",
              "      <td>2731519.61</td>\n",
              "      <td>3047935.77</td>\n",
              "      <td>C724164228</td>\n",
              "      <td>1083263.94</td>\n",
              "      <td>766847.77</td>\n",
              "      <td>0</td>\n",
              "      <td>0</td>\n",
              "    </tr>\n",
              "    <tr>\n",
              "      <th>18823</th>\n",
              "      <td>183</td>\n",
              "      <td>CASH_OUT</td>\n",
              "      <td>36850.21</td>\n",
              "      <td>C647402964</td>\n",
              "      <td>0.00</td>\n",
              "      <td>0.00</td>\n",
              "      <td>C953475799</td>\n",
              "      <td>884986.80</td>\n",
              "      <td>921837.01</td>\n",
              "      <td>0</td>\n",
              "      <td>0</td>\n",
              "    </tr>\n",
              "    <tr>\n",
              "      <th>18824</th>\n",
              "      <td>304</td>\n",
              "      <td>CASH_OUT</td>\n",
              "      <td>87276.21</td>\n",
              "      <td>C433810441</td>\n",
              "      <td>14016.00</td>\n",
              "      <td>0.00</td>\n",
              "      <td>C486612639</td>\n",
              "      <td>0.00</td>\n",
              "      <td>87276.21</td>\n",
              "      <td>0</td>\n",
              "      <td>0</td>\n",
              "    </tr>\n",
              "  </tbody>\n",
              "</table>\n",
              "<p>18825 rows × 11 columns</p>\n",
              "</div>\n",
              "      <button class=\"colab-df-convert\" onclick=\"convertToInteractive('df-582e67db-9f3e-4f2e-8e95-349c7535183a')\"\n",
              "              title=\"Convert this dataframe to an interactive table.\"\n",
              "              style=\"display:none;\">\n",
              "        \n",
              "  <svg xmlns=\"http://www.w3.org/2000/svg\" height=\"24px\"viewBox=\"0 0 24 24\"\n",
              "       width=\"24px\">\n",
              "    <path d=\"M0 0h24v24H0V0z\" fill=\"none\"/>\n",
              "    <path d=\"M18.56 5.44l.94 2.06.94-2.06 2.06-.94-2.06-.94-.94-2.06-.94 2.06-2.06.94zm-11 1L8.5 8.5l.94-2.06 2.06-.94-2.06-.94L8.5 2.5l-.94 2.06-2.06.94zm10 10l.94 2.06.94-2.06 2.06-.94-2.06-.94-.94-2.06-.94 2.06-2.06.94z\"/><path d=\"M17.41 7.96l-1.37-1.37c-.4-.4-.92-.59-1.43-.59-.52 0-1.04.2-1.43.59L10.3 9.45l-7.72 7.72c-.78.78-.78 2.05 0 2.83L4 21.41c.39.39.9.59 1.41.59.51 0 1.02-.2 1.41-.59l7.78-7.78 2.81-2.81c.8-.78.8-2.07 0-2.86zM5.41 20L4 18.59l7.72-7.72 1.47 1.35L5.41 20z\"/>\n",
              "  </svg>\n",
              "      </button>\n",
              "      \n",
              "  <style>\n",
              "    .colab-df-container {\n",
              "      display:flex;\n",
              "      flex-wrap:wrap;\n",
              "      gap: 12px;\n",
              "    }\n",
              "\n",
              "    .colab-df-convert {\n",
              "      background-color: #E8F0FE;\n",
              "      border: none;\n",
              "      border-radius: 50%;\n",
              "      cursor: pointer;\n",
              "      display: none;\n",
              "      fill: #1967D2;\n",
              "      height: 32px;\n",
              "      padding: 0 0 0 0;\n",
              "      width: 32px;\n",
              "    }\n",
              "\n",
              "    .colab-df-convert:hover {\n",
              "      background-color: #E2EBFA;\n",
              "      box-shadow: 0px 1px 2px rgba(60, 64, 67, 0.3), 0px 1px 3px 1px rgba(60, 64, 67, 0.15);\n",
              "      fill: #174EA6;\n",
              "    }\n",
              "\n",
              "    [theme=dark] .colab-df-convert {\n",
              "      background-color: #3B4455;\n",
              "      fill: #D2E3FC;\n",
              "    }\n",
              "\n",
              "    [theme=dark] .colab-df-convert:hover {\n",
              "      background-color: #434B5C;\n",
              "      box-shadow: 0px 1px 3px 1px rgba(0, 0, 0, 0.15);\n",
              "      filter: drop-shadow(0px 1px 2px rgba(0, 0, 0, 0.3));\n",
              "      fill: #FFFFFF;\n",
              "    }\n",
              "  </style>\n",
              "\n",
              "      <script>\n",
              "        const buttonEl =\n",
              "          document.querySelector('#df-582e67db-9f3e-4f2e-8e95-349c7535183a button.colab-df-convert');\n",
              "        buttonEl.style.display =\n",
              "          google.colab.kernel.accessAllowed ? 'block' : 'none';\n",
              "\n",
              "        async function convertToInteractive(key) {\n",
              "          const element = document.querySelector('#df-582e67db-9f3e-4f2e-8e95-349c7535183a');\n",
              "          const dataTable =\n",
              "            await google.colab.kernel.invokeFunction('convertToInteractive',\n",
              "                                                     [key], {});\n",
              "          if (!dataTable) return;\n",
              "\n",
              "          const docLinkHtml = 'Like what you see? Visit the ' +\n",
              "            '<a target=\"_blank\" href=https://colab.research.google.com/notebooks/data_table.ipynb>data table notebook</a>'\n",
              "            + ' to learn more about interactive tables.';\n",
              "          element.innerHTML = '';\n",
              "          dataTable['output_type'] = 'display_data';\n",
              "          await google.colab.output.renderOutput(dataTable, element);\n",
              "          const docLink = document.createElement('div');\n",
              "          docLink.innerHTML = docLinkHtml;\n",
              "          element.appendChild(docLink);\n",
              "        }\n",
              "      </script>\n",
              "    </div>\n",
              "  </div>\n",
              "  "
            ]
          },
          "metadata": {},
          "execution_count": 212
        }
      ]
    },
    {
      "cell_type": "markdown",
      "source": [
        "AS, we compared many ML classifiers to see which one will be best for the detection of the fraud. Although, the model accuracy score was very high for all the models, which is a clear sign of an **imbalaned class**. So, the names of the ML models according to their best **AUC scores** are:"
      ],
      "metadata": {
        "id": "ZsUDk_n4Pbya"
      }
    },
    {
      "cell_type": "markdown",
      "source": [
        "(i)  Gradiant Boost\n",
        "\n",
        "(ii)  Random Forest\n",
        "\n",
        "(iii)  Xg Boost \n",
        "\n",
        "(iv) Ada Boost\n",
        "\n",
        "(v) SVM"
      ],
      "metadata": {
        "id": "UvXwDlwtP_Ci"
      }
    },
    {
      "cell_type": "markdown",
      "source": [
        "# Conclusions"
      ],
      "metadata": {
        "id": "lV5H4Lb_0961"
      }
    },
    {
      "cell_type": "markdown",
      "source": [
        "Thus, we can use '**Gradiant Boost**' to detect the fraudalent transaction for this dataset. This model will ensure that maxmimum fraud transactions are detected, while keeping in mind that we are minimizing the declaration of a normal transtion as fradulant."
      ],
      "metadata": {
        "id": "PQTjMQVMRPFS"
      }
    },
    {
      "cell_type": "markdown",
      "source": [
        "While updating the infrastructure, the company should protect its old data, like it should keep the 'features names' very secret on which the fraud detection is being made. If new features are being added, then a Principal Component Analysis (PCA) to make best choices. This should also be compared to the old model for chosing a better model. "
      ],
      "metadata": {
        "id": "mUJyYEOkwzxY"
      }
    },
    {
      "cell_type": "markdown",
      "source": [
        "# Note\n",
        "\n",
        "AS the dataset is very large and due to constrains of the Goggle Colab, a sample of the original data has been used for the model building and analysis. "
      ],
      "metadata": {
        "id": "giRtjmH11hp6"
      }
    }
  ]
}
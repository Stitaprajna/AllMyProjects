{
 "cells": [
  {
   "cell_type": "code",
   "execution_count": 1,
   "metadata": {
    "id": "4KvIAjQnbwTX"
   },
   "outputs": [],
   "source": [
    "import numpy as np\n",
    "import pandas as pd\n",
    "import seaborn as sns\n",
    "import matplotlib.pyplot as plt"
   ]
  },
  {
   "cell_type": "code",
   "execution_count": 2,
   "metadata": {
    "id": "9sPp30NBbwTZ"
   },
   "outputs": [],
   "source": [
    "df = pd.read_csv(r'C:\\Users\\laptop\\Desktop\\DataScience\\Employee_Dataset.csv\\Salary_Dataset_with_Extra_Features.csv')"
   ]
  },
  {
   "cell_type": "code",
   "execution_count": 3,
   "metadata": {
    "colab": {
     "base_uri": "https://localhost:8080/",
     "height": 206
    },
    "id": "g3penk5TbwTZ",
    "outputId": "97d43aa6-e0ba-4aaf-ed01-229c4b472096",
    "scrolled": true
   },
   "outputs": [
    {
     "data": {
      "text/html": [
       "<div>\n",
       "<style scoped>\n",
       "    .dataframe tbody tr th:only-of-type {\n",
       "        vertical-align: middle;\n",
       "    }\n",
       "\n",
       "    .dataframe tbody tr th {\n",
       "        vertical-align: top;\n",
       "    }\n",
       "\n",
       "    .dataframe thead th {\n",
       "        text-align: right;\n",
       "    }\n",
       "</style>\n",
       "<table border=\"1\" class=\"dataframe\">\n",
       "  <thead>\n",
       "    <tr style=\"text-align: right;\">\n",
       "      <th></th>\n",
       "      <th>Rating</th>\n",
       "      <th>Company Name</th>\n",
       "      <th>Job Title</th>\n",
       "      <th>Salary</th>\n",
       "      <th>Salaries Reported</th>\n",
       "      <th>Location</th>\n",
       "      <th>Employment Status</th>\n",
       "      <th>Job Roles</th>\n",
       "    </tr>\n",
       "  </thead>\n",
       "  <tbody>\n",
       "    <tr>\n",
       "      <th>0</th>\n",
       "      <td>3.8</td>\n",
       "      <td>Sasken</td>\n",
       "      <td>Android Developer</td>\n",
       "      <td>400000</td>\n",
       "      <td>3</td>\n",
       "      <td>Bangalore</td>\n",
       "      <td>Full Time</td>\n",
       "      <td>Android</td>\n",
       "    </tr>\n",
       "    <tr>\n",
       "      <th>1</th>\n",
       "      <td>4.5</td>\n",
       "      <td>Advanced Millennium Technologies</td>\n",
       "      <td>Android Developer</td>\n",
       "      <td>400000</td>\n",
       "      <td>3</td>\n",
       "      <td>Bangalore</td>\n",
       "      <td>Full Time</td>\n",
       "      <td>Android</td>\n",
       "    </tr>\n",
       "    <tr>\n",
       "      <th>2</th>\n",
       "      <td>4.0</td>\n",
       "      <td>Unacademy</td>\n",
       "      <td>Android Developer</td>\n",
       "      <td>1000000</td>\n",
       "      <td>3</td>\n",
       "      <td>Bangalore</td>\n",
       "      <td>Full Time</td>\n",
       "      <td>Android</td>\n",
       "    </tr>\n",
       "    <tr>\n",
       "      <th>3</th>\n",
       "      <td>3.8</td>\n",
       "      <td>SnapBizz Cloudtech</td>\n",
       "      <td>Android Developer</td>\n",
       "      <td>300000</td>\n",
       "      <td>3</td>\n",
       "      <td>Bangalore</td>\n",
       "      <td>Full Time</td>\n",
       "      <td>Android</td>\n",
       "    </tr>\n",
       "    <tr>\n",
       "      <th>4</th>\n",
       "      <td>4.4</td>\n",
       "      <td>Appoids Tech Solutions</td>\n",
       "      <td>Android Developer</td>\n",
       "      <td>600000</td>\n",
       "      <td>3</td>\n",
       "      <td>Bangalore</td>\n",
       "      <td>Full Time</td>\n",
       "      <td>Android</td>\n",
       "    </tr>\n",
       "  </tbody>\n",
       "</table>\n",
       "</div>"
      ],
      "text/plain": [
       "   Rating                      Company Name          Job Title   Salary  \\\n",
       "0     3.8                            Sasken  Android Developer   400000   \n",
       "1     4.5  Advanced Millennium Technologies  Android Developer   400000   \n",
       "2     4.0                         Unacademy  Android Developer  1000000   \n",
       "3     3.8                SnapBizz Cloudtech  Android Developer   300000   \n",
       "4     4.4            Appoids Tech Solutions  Android Developer   600000   \n",
       "\n",
       "   Salaries Reported   Location Employment Status Job Roles  \n",
       "0                  3  Bangalore         Full Time   Android  \n",
       "1                  3  Bangalore         Full Time   Android  \n",
       "2                  3  Bangalore         Full Time   Android  \n",
       "3                  3  Bangalore         Full Time   Android  \n",
       "4                  3  Bangalore         Full Time   Android  "
      ]
     },
     "execution_count": 3,
     "metadata": {},
     "output_type": "execute_result"
    }
   ],
   "source": [
    "df.head()"
   ]
  },
  {
   "cell_type": "code",
   "execution_count": 4,
   "metadata": {
    "colab": {
     "base_uri": "https://localhost:8080/"
    },
    "id": "q5J53mRXbwTa",
    "outputId": "6dea074d-106d-42bb-a1d6-487be75de6cb"
   },
   "outputs": [
    {
     "data": {
      "text/plain": [
       "(22770, 8)"
      ]
     },
     "execution_count": 4,
     "metadata": {},
     "output_type": "execute_result"
    }
   ],
   "source": [
    "df.shape"
   ]
  },
  {
   "cell_type": "code",
   "execution_count": 5,
   "metadata": {
    "colab": {
     "base_uri": "https://localhost:8080/"
    },
    "id": "qYIuDo6NbwTb",
    "outputId": "b7406341-d00e-48c5-ccc6-91a5ea82c765"
   },
   "outputs": [
    {
     "data": {
      "text/plain": [
       "Rating               0\n",
       "Company Name         0\n",
       "Job Title            0\n",
       "Salary               0\n",
       "Salaries Reported    0\n",
       "Location             0\n",
       "Employment Status    0\n",
       "Job Roles            0\n",
       "dtype: int64"
      ]
     },
     "execution_count": 5,
     "metadata": {},
     "output_type": "execute_result"
    }
   ],
   "source": [
    "df.isnull().sum()"
   ]
  },
  {
   "cell_type": "code",
   "execution_count": 6,
   "metadata": {
    "colab": {
     "base_uri": "https://localhost:8080/"
    },
    "id": "wIKJwALTbwTb",
    "outputId": "c2592b65-31b9-4107-8981-f714e3203b55",
    "scrolled": true
   },
   "outputs": [
    {
     "data": {
      "text/plain": [
       "Rating               float64\n",
       "Company Name          object\n",
       "Job Title             object\n",
       "Salary                 int64\n",
       "Salaries Reported      int64\n",
       "Location              object\n",
       "Employment Status     object\n",
       "Job Roles             object\n",
       "dtype: object"
      ]
     },
     "execution_count": 6,
     "metadata": {},
     "output_type": "execute_result"
    }
   ],
   "source": [
    "df.dtypes"
   ]
  },
  {
   "cell_type": "markdown",
   "metadata": {
    "id": "F7j9arxMbwTb"
   },
   "source": [
    "# Data Cleaning"
   ]
  },
  {
   "cell_type": "code",
   "execution_count": 7,
   "metadata": {
    "id": "lUj3FKAqbwTc"
   },
   "outputs": [],
   "source": [
    "# Here we are trying to aggrigate the top parent Companies by employees.\n",
    "df['Company Name'] = df['Company Name'].str.replace('Tata Consultancy Services','TCS')\n",
    "df['Company Name'] = df['Company Name'].apply(lambda x: 'Infosys' if 'Infosys' in x else x)\n",
    "df['Company Name'] = df['Company Name'].apply(lambda x: 'Accenture' if 'Accenture' in x else x)\n",
    "df['Company Name'] = df['Company Name'].apply(lambda x:'Amazon' if 'Amazon' in x else x)\n",
    "df['Company Name'] = df['Company Name'].apply(lambda x: 'HCL' if 'HCL' in x else x) \n",
    "df['Company Name'] = df['Company Name'].apply(lambda x: 'IBM' if 'IBM' in x else x)\n",
    "df['Company Name'] = df['Company Name'].apply(lambda x: 'Google' if 'Google' in x else x)\n",
    "df['Company Name'] = df['Company Name'].apply(lambda x: 'Cognizant' if 'Cognizant' in x else x)"
   ]
  },
  {
   "cell_type": "code",
   "execution_count": 8,
   "metadata": {
    "id": "cVJkZ8nabwTd",
    "scrolled": true
   },
   "outputs": [],
   "source": [
    "# Removing outliers from data\n",
    "df = df[df['Company Name'] != '(no)name']\n",
    "df = df[~df['Company Name'].isin(['-','....','Fresher'])]"
   ]
  },
  {
   "cell_type": "code",
   "execution_count": 9,
   "metadata": {
    "id": "wLU6He-mbwTd",
    "scrolled": true
   },
   "outputs": [],
   "source": [
    "# Removing only numbers from company names\n",
    "fdi = []\n",
    "for i in df['Company Name']:\n",
    "    if int(i.isnumeric()):\n",
    "        fdi.append(i)\n",
    "fdi = np.unique(fdi)"
   ]
  },
  {
   "cell_type": "code",
   "execution_count": 10,
   "metadata": {
    "colab": {
     "base_uri": "https://localhost:8080/"
    },
    "id": "nl-OPTdnbwTe",
    "outputId": "86d6a460-3ed9-4130-d71a-a56d6efcf0ff"
   },
   "outputs": [
    {
     "data": {
      "text/plain": [
       "array(['10', '17544', '1985', '2018', '660000', '700'], dtype='<U6')"
      ]
     },
     "execution_count": 10,
     "metadata": {},
     "output_type": "execute_result"
    }
   ],
   "source": [
    "fdi"
   ]
  },
  {
   "cell_type": "code",
   "execution_count": 11,
   "metadata": {
    "id": "CxUSlIJpbwTe"
   },
   "outputs": [],
   "source": [
    "df = df[~df['Company Name'].isin(fdi)]"
   ]
  },
  {
   "cell_type": "markdown",
   "metadata": {
    "id": "AkoPO8XObwTe"
   },
   "source": [
    "# Univariate Analysis"
   ]
  },
  {
   "cell_type": "markdown",
   "metadata": {
    "id": "UaXKLcVcbwTf"
   },
   "source": [
    "## 1.Company Name"
   ]
  },
  {
   "cell_type": "code",
   "execution_count": 86,
   "metadata": {
    "colab": {
     "base_uri": "https://localhost:8080/",
     "height": 363
    },
    "id": "Tdn-pX1wbwTf",
    "outputId": "40d473bb-1f21-4656-813a-f2afcb875b9f",
    "scrolled": true
   },
   "outputs": [
    {
     "data": {
      "text/html": [
       "<div>\n",
       "<style scoped>\n",
       "    .dataframe tbody tr th:only-of-type {\n",
       "        vertical-align: middle;\n",
       "    }\n",
       "\n",
       "    .dataframe tbody tr th {\n",
       "        vertical-align: top;\n",
       "    }\n",
       "\n",
       "    .dataframe thead th {\n",
       "        text-align: right;\n",
       "    }\n",
       "</style>\n",
       "<table border=\"1\" class=\"dataframe\">\n",
       "  <thead>\n",
       "    <tr style=\"text-align: right;\">\n",
       "      <th></th>\n",
       "      <th>Company Name</th>\n",
       "    </tr>\n",
       "  </thead>\n",
       "  <tbody>\n",
       "    <tr>\n",
       "      <th>TCS</th>\n",
       "      <td>313</td>\n",
       "    </tr>\n",
       "    <tr>\n",
       "      <th>Infosys</th>\n",
       "      <td>208</td>\n",
       "    </tr>\n",
       "    <tr>\n",
       "      <th>Amazon</th>\n",
       "      <td>203</td>\n",
       "    </tr>\n",
       "    <tr>\n",
       "      <th>Cognizant</th>\n",
       "      <td>159</td>\n",
       "    </tr>\n",
       "    <tr>\n",
       "      <th>Accenture</th>\n",
       "      <td>152</td>\n",
       "    </tr>\n",
       "    <tr>\n",
       "      <th>IBM</th>\n",
       "      <td>135</td>\n",
       "    </tr>\n",
       "    <tr>\n",
       "      <th>HCL</th>\n",
       "      <td>132</td>\n",
       "    </tr>\n",
       "    <tr>\n",
       "      <th>Wipro</th>\n",
       "      <td>122</td>\n",
       "    </tr>\n",
       "    <tr>\n",
       "      <th>Capgemini</th>\n",
       "      <td>101</td>\n",
       "    </tr>\n",
       "    <tr>\n",
       "      <th>Microsoft</th>\n",
       "      <td>96</td>\n",
       "    </tr>\n",
       "    <tr>\n",
       "      <th>Google</th>\n",
       "      <td>85</td>\n",
       "    </tr>\n",
       "  </tbody>\n",
       "</table>\n",
       "</div>"
      ],
      "text/plain": [
       "           Company Name\n",
       "TCS                 313\n",
       "Infosys             208\n",
       "Amazon              203\n",
       "Cognizant           159\n",
       "Accenture           152\n",
       "IBM                 135\n",
       "HCL                 132\n",
       "Wipro               122\n",
       "Capgemini           101\n",
       "Microsoft            96\n",
       "Google               85"
      ]
     },
     "execution_count": 86,
     "metadata": {},
     "output_type": "execute_result"
    }
   ],
   "source": [
    "# Top 10 company names by employees\n",
    "de = df['Company Name'].value_counts()\n",
    "ddee = pd.DataFrame(de).head(11)      \n",
    "ddee "
   ]
  },
  {
   "cell_type": "code",
   "execution_count": 13,
   "metadata": {
    "colab": {
     "base_uri": "https://localhost:8080/"
    },
    "id": "fkyshIQcbwTf",
    "outputId": "a29609a4-0622-4424-94cb-05dc1b49d506"
   },
   "outputs": [
    {
     "data": {
      "text/plain": [
       "11208"
      ]
     },
     "execution_count": 13,
     "metadata": {},
     "output_type": "execute_result"
    }
   ],
   "source": [
    "len(df['Company Name'].unique())"
   ]
  },
  {
   "cell_type": "markdown",
   "metadata": {
    "id": "l3H4WyIsbwTg"
   },
   "source": [
    "## 2.Job Title"
   ]
  },
  {
   "cell_type": "code",
   "execution_count": 14,
   "metadata": {
    "colab": {
     "base_uri": "https://localhost:8080/"
    },
    "id": "efAgeVI0bwTg",
    "outputId": "8e42817f-7fae-4138-c2ef-aceed1a20d8b"
   },
   "outputs": [
    {
     "data": {
      "text/plain": [
       "1076"
      ]
     },
     "execution_count": 14,
     "metadata": {},
     "output_type": "execute_result"
    }
   ],
   "source": [
    "len(df['Job Title'].unique())"
   ]
  },
  {
   "cell_type": "code",
   "execution_count": 15,
   "metadata": {
    "colab": {
     "base_uri": "https://localhost:8080/",
     "height": 206
    },
    "id": "FZ3VAHJTbwTg",
    "outputId": "bd5c8cd8-5867-4301-e5e0-82087d11d812",
    "scrolled": false
   },
   "outputs": [
    {
     "data": {
      "text/html": [
       "<div>\n",
       "<style scoped>\n",
       "    .dataframe tbody tr th:only-of-type {\n",
       "        vertical-align: middle;\n",
       "    }\n",
       "\n",
       "    .dataframe tbody tr th {\n",
       "        vertical-align: top;\n",
       "    }\n",
       "\n",
       "    .dataframe thead th {\n",
       "        text-align: right;\n",
       "    }\n",
       "</style>\n",
       "<table border=\"1\" class=\"dataframe\">\n",
       "  <thead>\n",
       "    <tr style=\"text-align: right;\">\n",
       "      <th></th>\n",
       "      <th>Job Title</th>\n",
       "    </tr>\n",
       "  </thead>\n",
       "  <tbody>\n",
       "    <tr>\n",
       "      <th>Software Development Engineer</th>\n",
       "      <td>2343</td>\n",
       "    </tr>\n",
       "    <tr>\n",
       "      <th>Android Developer</th>\n",
       "      <td>2027</td>\n",
       "    </tr>\n",
       "    <tr>\n",
       "      <th>Software Development Engineer (SDE)</th>\n",
       "      <td>1604</td>\n",
       "    </tr>\n",
       "    <tr>\n",
       "      <th>Front End Developer</th>\n",
       "      <td>1404</td>\n",
       "    </tr>\n",
       "    <tr>\n",
       "      <th>Test Engineer</th>\n",
       "      <td>1308</td>\n",
       "    </tr>\n",
       "  </tbody>\n",
       "</table>\n",
       "</div>"
      ],
      "text/plain": [
       "                                     Job Title\n",
       "Software Development Engineer             2343\n",
       "Android Developer                         2027\n",
       "Software Development Engineer (SDE)       1604\n",
       "Front End Developer                       1404\n",
       "Test Engineer                             1308"
      ]
     },
     "execution_count": 15,
     "metadata": {},
     "output_type": "execute_result"
    }
   ],
   "source": [
    "de1 = df['Job Title'].value_counts()\n",
    "pd.DataFrame(de1).head()    # Top 5 Job Titles by counts"
   ]
  },
  {
   "cell_type": "markdown",
   "metadata": {
    "id": "UjtoIjsBbwTg"
   },
   "source": [
    "## 3.Location"
   ]
  },
  {
   "cell_type": "code",
   "execution_count": 16,
   "metadata": {
    "colab": {
     "base_uri": "https://localhost:8080/"
    },
    "id": "D_ImiJO2bwTh",
    "outputId": "c3c768e9-1d76-4e60-8cc7-fdfa44389708"
   },
   "outputs": [
    {
     "data": {
      "text/plain": [
       "array(['Bangalore', 'Chennai', 'Hyderabad', 'New Delhi', 'Pune', 'Jaipur',\n",
       "       'Kerala', 'Kolkata', 'Madhya Pradesh', 'Mumbai'], dtype=object)"
      ]
     },
     "execution_count": 16,
     "metadata": {},
     "output_type": "execute_result"
    }
   ],
   "source": [
    "# Name of differnt cities present in the dataset\n",
    "df['Location'].unique()          "
   ]
  },
  {
   "cell_type": "code",
   "execution_count": 17,
   "metadata": {
    "colab": {
     "base_uri": "https://localhost:8080/",
     "height": 363
    },
    "id": "H4GvYXkjbwTh",
    "outputId": "5545d9fd-ccb3-4190-cb13-132dcd5d64cd",
    "scrolled": true
   },
   "outputs": [
    {
     "data": {
      "text/html": [
       "<div>\n",
       "<style scoped>\n",
       "    .dataframe tbody tr th:only-of-type {\n",
       "        vertical-align: middle;\n",
       "    }\n",
       "\n",
       "    .dataframe tbody tr th {\n",
       "        vertical-align: top;\n",
       "    }\n",
       "\n",
       "    .dataframe thead th {\n",
       "        text-align: right;\n",
       "    }\n",
       "</style>\n",
       "<table border=\"1\" class=\"dataframe\">\n",
       "  <thead>\n",
       "    <tr style=\"text-align: right;\">\n",
       "      <th></th>\n",
       "      <th>Location</th>\n",
       "    </tr>\n",
       "  </thead>\n",
       "  <tbody>\n",
       "    <tr>\n",
       "      <th>Bangalore</th>\n",
       "      <td>8227</td>\n",
       "    </tr>\n",
       "    <tr>\n",
       "      <th>Hyderabad</th>\n",
       "      <td>4431</td>\n",
       "    </tr>\n",
       "    <tr>\n",
       "      <th>New Delhi</th>\n",
       "      <td>4166</td>\n",
       "    </tr>\n",
       "    <tr>\n",
       "      <th>Chennai</th>\n",
       "      <td>2437</td>\n",
       "    </tr>\n",
       "    <tr>\n",
       "      <th>Pune</th>\n",
       "      <td>2127</td>\n",
       "    </tr>\n",
       "    <tr>\n",
       "      <th>Mumbai</th>\n",
       "      <td>746</td>\n",
       "    </tr>\n",
       "    <tr>\n",
       "      <th>Kolkata</th>\n",
       "      <td>177</td>\n",
       "    </tr>\n",
       "    <tr>\n",
       "      <th>Madhya Pradesh</th>\n",
       "      <td>155</td>\n",
       "    </tr>\n",
       "    <tr>\n",
       "      <th>Kerala</th>\n",
       "      <td>107</td>\n",
       "    </tr>\n",
       "    <tr>\n",
       "      <th>Jaipur</th>\n",
       "      <td>80</td>\n",
       "    </tr>\n",
       "  </tbody>\n",
       "</table>\n",
       "</div>"
      ],
      "text/plain": [
       "                Location\n",
       "Bangalore           8227\n",
       "Hyderabad           4431\n",
       "New Delhi           4166\n",
       "Chennai             2437\n",
       "Pune                2127\n",
       "Mumbai               746\n",
       "Kolkata              177\n",
       "Madhya Pradesh       155\n",
       "Kerala               107\n",
       "Jaipur                80"
      ]
     },
     "execution_count": 17,
     "metadata": {},
     "output_type": "execute_result"
    }
   ],
   "source": [
    "# Population of developers in different parts of India\n",
    "d2 = df['Location'].value_counts()\n",
    "pd.DataFrame(d2)"
   ]
  },
  {
   "cell_type": "code",
   "execution_count": 18,
   "metadata": {
    "id": "V8YEHVqHbwTh"
   },
   "outputs": [],
   "source": [
    "f1 = []\n",
    "f2 = []\n",
    "for keys in d2.index:\n",
    "    f1.append(keys)\n",
    "    f2.append(d2[keys])\n"
   ]
  },
  {
   "cell_type": "code",
   "execution_count": 19,
   "metadata": {
    "colab": {
     "base_uri": "https://localhost:8080/",
     "height": 458
    },
    "id": "N4EsoLNwbwTi",
    "outputId": "de60de0c-bdf3-46aa-d51e-9938777ae89f",
    "scrolled": false
   },
   "outputs": [
    {
     "data": {
      "image/png": "[encoded data removed]",
      "text/plain": [
       "<Figure size 432x288 with 1 Axes>"
      ]
     },
     "metadata": {
      "needs_background": "light"
     },
     "output_type": "display_data"
    }
   ],
   "source": [
    "sns.barplot(x=f1, y=f2)\n",
    "plt.xlabel('Cities')\n",
    "plt.ylabel('Population of Developers')\n",
    "plt.title('Various Cities ranked by the population of developers')\n",
    "plt.rcParams['figure.figsize'] = [12,7]\n",
    "plt.show()"
   ]
  },
  {
   "cell_type": "markdown",
   "metadata": {
    "id": "3oBujUYgbwTi"
   },
   "source": [
    "So, most of the developers live in Bangalore and least in Jaipur. The median salary of both might not show same trends."
   ]
  },
  {
   "cell_type": "markdown",
   "metadata": {
    "id": "3aP-ZZgobwTi"
   },
   "source": [
    "## 4.Job Roles"
   ]
  },
  {
   "cell_type": "code",
   "execution_count": 20,
   "metadata": {
    "colab": {
     "base_uri": "https://localhost:8080/"
    },
    "id": "iqwFLxKTbwTi",
    "outputId": "d427746a-fee5-4915-ed12-9a87e07f98e2"
   },
   "outputs": [
    {
     "data": {
      "text/plain": [
       "array(['Android', 'Backend', 'Database', 'Frontend', 'IOS', 'Java',\n",
       "       'Mobile', 'SDE', 'Python', 'Web', 'Testing'], dtype=object)"
      ]
     },
     "execution_count": 20,
     "metadata": {},
     "output_type": "execute_result"
    }
   ],
   "source": [
    "# Different Job Roles\n",
    "df['Job Roles'].unique()"
   ]
  },
  {
   "cell_type": "code",
   "execution_count": 21,
   "metadata": {
    "colab": {
     "base_uri": "https://localhost:8080/",
     "height": 394
    },
    "id": "XvUgDUh3bwTj",
    "outputId": "805cde87-7d0c-46cd-cafd-a746b1df5345",
    "scrolled": true
   },
   "outputs": [
    {
     "data": {
      "text/html": [
       "<div>\n",
       "<style scoped>\n",
       "    .dataframe tbody tr th:only-of-type {\n",
       "        vertical-align: middle;\n",
       "    }\n",
       "\n",
       "    .dataframe tbody tr th {\n",
       "        vertical-align: top;\n",
       "    }\n",
       "\n",
       "    .dataframe thead th {\n",
       "        text-align: right;\n",
       "    }\n",
       "</style>\n",
       "<table border=\"1\" class=\"dataframe\">\n",
       "  <thead>\n",
       "    <tr style=\"text-align: right;\">\n",
       "      <th></th>\n",
       "      <th>Job Roles</th>\n",
       "    </tr>\n",
       "  </thead>\n",
       "  <tbody>\n",
       "    <tr>\n",
       "      <th>SDE</th>\n",
       "      <td>8151</td>\n",
       "    </tr>\n",
       "    <tr>\n",
       "      <th>Android</th>\n",
       "      <td>2942</td>\n",
       "    </tr>\n",
       "    <tr>\n",
       "      <th>Frontend</th>\n",
       "      <td>2149</td>\n",
       "    </tr>\n",
       "    <tr>\n",
       "      <th>Java</th>\n",
       "      <td>1834</td>\n",
       "    </tr>\n",
       "    <tr>\n",
       "      <th>Testing</th>\n",
       "      <td>1734</td>\n",
       "    </tr>\n",
       "    <tr>\n",
       "      <th>IOS</th>\n",
       "      <td>1631</td>\n",
       "    </tr>\n",
       "    <tr>\n",
       "      <th>Backend</th>\n",
       "      <td>1190</td>\n",
       "    </tr>\n",
       "    <tr>\n",
       "      <th>Web</th>\n",
       "      <td>993</td>\n",
       "    </tr>\n",
       "    <tr>\n",
       "      <th>Python</th>\n",
       "      <td>922</td>\n",
       "    </tr>\n",
       "    <tr>\n",
       "      <th>Database</th>\n",
       "      <td>863</td>\n",
       "    </tr>\n",
       "    <tr>\n",
       "      <th>Mobile</th>\n",
       "      <td>244</td>\n",
       "    </tr>\n",
       "  </tbody>\n",
       "</table>\n",
       "</div>"
      ],
      "text/plain": [
       "          Job Roles\n",
       "SDE            8151\n",
       "Android        2942\n",
       "Frontend       2149\n",
       "Java           1834\n",
       "Testing        1734\n",
       "IOS            1631\n",
       "Backend        1190\n",
       "Web             993\n",
       "Python          922\n",
       "Database        863\n",
       "Mobile          244"
      ]
     },
     "execution_count": 21,
     "metadata": {},
     "output_type": "execute_result"
    }
   ],
   "source": [
    "# Population of different Job roles\n",
    "d1 = df['Job Roles'].value_counts()\n",
    "pd.DataFrame(d1)"
   ]
  },
  {
   "cell_type": "code",
   "execution_count": 22,
   "metadata": {
    "id": "TCR79Xo9bwTj"
   },
   "outputs": [],
   "source": [
    "D = []\n",
    "D1 = []\n",
    "for key in d1.index:\n",
    "    D.append(key)\n",
    "    D1.append(d1[key])"
   ]
  },
  {
   "cell_type": "code",
   "execution_count": 23,
   "metadata": {
    "colab": {
     "base_uri": "https://localhost:8080/",
     "height": 458
    },
    "id": "q8pMOCn3bwTj",
    "outputId": "735079ad-4e2b-45d2-d7e9-45c78b85a2b8",
    "scrolled": false
   },
   "outputs": [
    {
     "data": {
      "image/png": "[encoded data removed]",
      "text/plain": [
       "<Figure size 864x504 with 1 Axes>"
      ]
     },
     "metadata": {
      "needs_background": "light"
     },
     "output_type": "display_data"
    }
   ],
   "source": [
    "sns.barplot(x=D, y=D1)\n",
    "plt.rcParams['figure.figsize'] = [12,7]\n",
    "plt.xlabel('Job Roles')\n",
    "plt.ylabel('Population of Developers')\n",
    "plt.title('Various job roles ranked by the developers')\n",
    "plt.show()"
   ]
  },
  {
   "cell_type": "markdown",
   "metadata": {
    "id": "00D9zEfUbwTj"
   },
   "source": [
    "So, most of the developers do SDE jobs. The salary of SDEs might show high sample variance, due to large sample size."
   ]
  },
  {
   "cell_type": "markdown",
   "metadata": {
    "id": "GQ77AogabwTj"
   },
   "source": [
    "## 5.Salary"
   ]
  },
  {
   "cell_type": "code",
   "execution_count": 24,
   "metadata": {
    "colab": {
     "base_uri": "https://localhost:8080/",
     "height": 300
    },
    "id": "eDJlYrOlbwTk",
    "outputId": "d7d2dec2-22d2-4553-d9a8-58a6aff7f302",
    "scrolled": false
   },
   "outputs": [
    {
     "data": {
      "text/html": [
       "<div>\n",
       "<style scoped>\n",
       "    .dataframe tbody tr th:only-of-type {\n",
       "        vertical-align: middle;\n",
       "    }\n",
       "\n",
       "    .dataframe tbody tr th {\n",
       "        vertical-align: top;\n",
       "    }\n",
       "\n",
       "    .dataframe thead th {\n",
       "        text-align: right;\n",
       "    }\n",
       "</style>\n",
       "<table border=\"1\" class=\"dataframe\">\n",
       "  <thead>\n",
       "    <tr style=\"text-align: right;\">\n",
       "      <th></th>\n",
       "      <th>Salary</th>\n",
       "    </tr>\n",
       "  </thead>\n",
       "  <tbody>\n",
       "    <tr>\n",
       "      <th>count</th>\n",
       "      <td>2.265300e+04</td>\n",
       "    </tr>\n",
       "    <tr>\n",
       "      <th>mean</th>\n",
       "      <td>6.968073e+05</td>\n",
       "    </tr>\n",
       "    <tr>\n",
       "      <th>std</th>\n",
       "      <td>8.860057e+05</td>\n",
       "    </tr>\n",
       "    <tr>\n",
       "      <th>min</th>\n",
       "      <td>2.112000e+03</td>\n",
       "    </tr>\n",
       "    <tr>\n",
       "      <th>25%</th>\n",
       "      <td>3.000000e+05</td>\n",
       "    </tr>\n",
       "    <tr>\n",
       "      <th>50%</th>\n",
       "      <td>5.000000e+05</td>\n",
       "    </tr>\n",
       "    <tr>\n",
       "      <th>75%</th>\n",
       "      <td>9.000000e+05</td>\n",
       "    </tr>\n",
       "    <tr>\n",
       "      <th>max</th>\n",
       "      <td>9.000000e+07</td>\n",
       "    </tr>\n",
       "  </tbody>\n",
       "</table>\n",
       "</div>"
      ],
      "text/plain": [
       "             Salary\n",
       "count  2.265300e+04\n",
       "mean   6.968073e+05\n",
       "std    8.860057e+05\n",
       "min    2.112000e+03\n",
       "25%    3.000000e+05\n",
       "50%    5.000000e+05\n",
       "75%    9.000000e+05\n",
       "max    9.000000e+07"
      ]
     },
     "execution_count": 24,
     "metadata": {},
     "output_type": "execute_result"
    }
   ],
   "source": [
    "d = df['Salary'].describe()\n",
    "pd.DataFrame(d)"
   ]
  },
  {
   "cell_type": "markdown",
   "metadata": {
    "id": "oBGMON1EbwTk"
   },
   "source": [
    "As the Mean $>>$ Median, clearly this is a 'Right-Skewed' Distribution. This is not a very unexpected result, because the median salary of a very large population is mostly likely towards the lower side. "
   ]
  },
  {
   "cell_type": "code",
   "execution_count": 25,
   "metadata": {
    "colab": {
     "base_uri": "https://localhost:8080/"
    },
    "id": "KVLpx9ifbwTk",
    "outputId": "9d9dd4b3-ff9e-49b0-fd7f-638623d7c9d8",
    "scrolled": true
   },
   "outputs": [
    {
     "name": "stdout",
     "output_type": "stream",
     "text": [
      "Skewness is 46.77595029608785\n"
     ]
    }
   ],
   "source": [
    "from scipy.stats import skew\n",
    "print('Skewness is',skew(df['Salary']))"
   ]
  },
  {
   "cell_type": "markdown",
   "metadata": {
    "id": "OhrsvodIbwTk"
   },
   "source": [
    "So, as the skewness $>> 1$, this confirms that its a 'Right-Skewed' distribution. Thus, we will use the 'Log-transformation' to transform the data. "
   ]
  },
  {
   "cell_type": "code",
   "execution_count": 26,
   "metadata": {
    "colab": {
     "base_uri": "https://localhost:8080/",
     "height": 404
    },
    "id": "oTCtMgSRbwTl",
    "outputId": "cfa159ae-4427-4625-b7be-d055d774181b",
    "scrolled": false
   },
   "outputs": [
    {
     "data": {
      "image/png": "[encoded data removed]",
      "text/plain": [
       "<Figure size 864x504 with 1 Axes>"
      ]
     },
     "metadata": {
      "needs_background": "light"
     },
     "output_type": "display_data"
    }
   ],
   "source": [
    "import warnings\n",
    "warnings.simplefilter(action='ignore', category=FutureWarning)\n",
    "sns.boxplot(np.log(df['Salary']))\n",
    "plt.rcParams['figure.figsize'] = [7,6]\n",
    "plt.title('Boxplot of Salary distribution after log transformation')\n",
    "plt.show()\n"
   ]
  },
  {
   "cell_type": "markdown",
   "metadata": {
    "id": "jc30BEQjbwTl"
   },
   "source": [
    "The boxplot shows how the 'log-transformation' made the distribution Normal.The outliers are both in left and right side of the median salary represented by the dots."
   ]
  },
  {
   "cell_type": "code",
   "execution_count": 27,
   "metadata": {
    "colab": {
     "base_uri": "https://localhost:8080/",
     "height": 458
    },
    "id": "0WUD4fyMbwTl",
    "outputId": "f617b82c-2756-4e9e-f328-6f4db2f69d7a",
    "scrolled": false
   },
   "outputs": [
    {
     "data": {
      "image/png": "[encoded data removed]",
      "text/plain": [
       "<Figure size 504x432 with 1 Axes>"
      ]
     },
     "metadata": {
      "needs_background": "light"
     },
     "output_type": "display_data"
    }
   ],
   "source": [
    "sns.distplot(np.log(df['Salary']),kde=True)\n",
    "plt.rcParams['figure.figsize'] = [12,7]\n",
    "plt.title('Salary Distribution after log transformation')\n",
    "plt.show()"
   ]
  },
  {
   "cell_type": "markdown",
   "metadata": {
    "id": "vlxm21xhbwTl"
   },
   "source": [
    "This distribution is very close to Normal, and the skewness is also removed after the transformation. Thus, we can use this distribution for 'Hypothesis Testing'."
   ]
  },
  {
   "cell_type": "markdown",
   "metadata": {
    "id": "voNXQOxpbwTl"
   },
   "source": [
    "## 6.Rating"
   ]
  },
  {
   "cell_type": "code",
   "execution_count": 28,
   "metadata": {
    "colab": {
     "base_uri": "https://localhost:8080/",
     "height": 300
    },
    "id": "dT5y6d-DbwTm",
    "outputId": "f07851f2-01f5-46b3-c85a-2e9ff0d42113",
    "scrolled": true
   },
   "outputs": [
    {
     "data": {
      "text/html": [
       "<div>\n",
       "<style scoped>\n",
       "    .dataframe tbody tr th:only-of-type {\n",
       "        vertical-align: middle;\n",
       "    }\n",
       "\n",
       "    .dataframe tbody tr th {\n",
       "        vertical-align: top;\n",
       "    }\n",
       "\n",
       "    .dataframe thead th {\n",
       "        text-align: right;\n",
       "    }\n",
       "</style>\n",
       "<table border=\"1\" class=\"dataframe\">\n",
       "  <thead>\n",
       "    <tr style=\"text-align: right;\">\n",
       "      <th></th>\n",
       "      <th>Rating</th>\n",
       "    </tr>\n",
       "  </thead>\n",
       "  <tbody>\n",
       "    <tr>\n",
       "      <th>count</th>\n",
       "      <td>22653.000000</td>\n",
       "    </tr>\n",
       "    <tr>\n",
       "      <th>mean</th>\n",
       "      <td>3.917124</td>\n",
       "    </tr>\n",
       "    <tr>\n",
       "      <th>std</th>\n",
       "      <td>0.520700</td>\n",
       "    </tr>\n",
       "    <tr>\n",
       "      <th>min</th>\n",
       "      <td>1.000000</td>\n",
       "    </tr>\n",
       "    <tr>\n",
       "      <th>25%</th>\n",
       "      <td>3.700000</td>\n",
       "    </tr>\n",
       "    <tr>\n",
       "      <th>50%</th>\n",
       "      <td>3.900000</td>\n",
       "    </tr>\n",
       "    <tr>\n",
       "      <th>75%</th>\n",
       "      <td>4.200000</td>\n",
       "    </tr>\n",
       "    <tr>\n",
       "      <th>max</th>\n",
       "      <td>5.000000</td>\n",
       "    </tr>\n",
       "  </tbody>\n",
       "</table>\n",
       "</div>"
      ],
      "text/plain": [
       "             Rating\n",
       "count  22653.000000\n",
       "mean       3.917124\n",
       "std        0.520700\n",
       "min        1.000000\n",
       "25%        3.700000\n",
       "50%        3.900000\n",
       "75%        4.200000\n",
       "max        5.000000"
      ]
     },
     "execution_count": 28,
     "metadata": {},
     "output_type": "execute_result"
    }
   ],
   "source": [
    "d = df['Rating'].describe()\n",
    "pd.DataFrame(d)"
   ]
  },
  {
   "cell_type": "code",
   "execution_count": 29,
   "metadata": {
    "colab": {
     "base_uri": "https://localhost:8080/"
    },
    "id": "flYr4QEdbwTm",
    "outputId": "463be51d-5eb7-4ae7-82b6-6c75e081be6c"
   },
   "outputs": [
    {
     "name": "stdout",
     "output_type": "stream",
     "text": [
      "Skewness is -1.0080950998038918 , so its a Negetive-Skewed distribution.\n"
     ]
    }
   ],
   "source": [
    "print('Skewness is',skew(df['Rating']),', so its a Negetive-Skewed distribution.')"
   ]
  },
  {
   "cell_type": "code",
   "execution_count": 30,
   "metadata": {
    "colab": {
     "base_uri": "https://localhost:8080/",
     "height": 295
    },
    "id": "dv10F9_cbwTm",
    "outputId": "8d9da5dc-0c18-4740-e8d7-c610590761f6"
   },
   "outputs": [
    {
     "data": {
      "image/png": "[encoded data removed]",
      "text/plain": [
       "<Figure size 864x504 with 1 Axes>"
      ]
     },
     "metadata": {
      "needs_background": "light"
     },
     "output_type": "display_data"
    }
   ],
   "source": [
    "import seaborn as sns\n",
    "import matplotlib.pyplot as plt\n",
    "sns.boxplot(np.log(df['Rating']))\n",
    "plt.rcParams['figure.figsize'] = [8,4]\n",
    "plt.title('Boxplot of Ratings distribution after log transformation')\n",
    "plt.show()"
   ]
  },
  {
   "cell_type": "markdown",
   "metadata": {
    "id": "vG99wXj7bwTm"
   },
   "source": [
    "The boxplot shows how the 'Rating' is balanced and the outliers are present in the left-side of the median."
   ]
  },
  {
   "cell_type": "code",
   "execution_count": 31,
   "metadata": {
    "colab": {
     "base_uri": "https://localhost:8080/",
     "height": 458
    },
    "id": "YeR1R097bwTm",
    "outputId": "1ca70cff-3538-4f96-aea4-c680522bf4c7"
   },
   "outputs": [
    {
     "data": {
      "image/png": "[encoded data removed]",
      "text/plain": [
       "<Figure size 576x288 with 1 Axes>"
      ]
     },
     "metadata": {
      "needs_background": "light"
     },
     "output_type": "display_data"
    }
   ],
   "source": [
    "sns.distplot(np.log(df['Rating']))\n",
    "plt.rcParams['figure.figsize'] = [12,6]\n",
    "plt.title('Ratings distribution after log transformation')\n",
    "plt.show()"
   ]
  },
  {
   "cell_type": "markdown",
   "metadata": {
    "id": "X2LcJmqYbwTn"
   },
   "source": [
    "Thus, the distribution is almost Normal if we ignore the left tail, which consists of only a fraction of the data. Thus, it will follow all the assumptions of a Normal Distribution and can be used for 'Hypothesis Testing'."
   ]
  },
  {
   "cell_type": "markdown",
   "metadata": {
    "id": "YPby4p3tbwTn"
   },
   "source": [
    "## 7.Salaries Reported"
   ]
  },
  {
   "cell_type": "code",
   "execution_count": 32,
   "metadata": {
    "colab": {
     "base_uri": "https://localhost:8080/"
    },
    "id": "VZJWMMejbwTn",
    "outputId": "9b0f5a05-885c-453f-e88e-735b664eb3de",
    "scrolled": false
   },
   "outputs": [
    {
     "data": {
      "text/plain": [
       "array([  3,   2,   1,   5,   4,   6,   8,  11,   9,  30,  19,  35,  17,\n",
       "         7,  43,  24,  21,  15,  14,  13,  12,  10,  26,  29,  18,  16,\n",
       "        84,  38,  36,  20, 291,  23, 353,  40,  60, 162,  68,  33,  45,\n",
       "        73, 135, 100,  22,  75,  37,  34,  65, 115,  28, 186,  41,  31,\n",
       "       188, 149,  77,  76,  52,  39,  83,  25, 361,  42, 280,  74,  44,\n",
       "       331,  70,  50,  48, 263, 116, 106, 103,  98,  91,  80,  71,  64,\n",
       "        51,  46,  32,  27], dtype=int64)"
      ]
     },
     "execution_count": 32,
     "metadata": {},
     "output_type": "execute_result"
    }
   ],
   "source": [
    "df['Salaries Reported'].unique()"
   ]
  },
  {
   "cell_type": "code",
   "execution_count": 33,
   "metadata": {
    "colab": {
     "base_uri": "https://localhost:8080/",
     "height": 404
    },
    "id": "0cPczxs6bwTn",
    "outputId": "dc6b1924-6091-43fe-a10d-f32f0f68a505"
   },
   "outputs": [
    {
     "data": {
      "image/png": "[encoded data removed]",
      "text/plain": [
       "<Figure size 864x432 with 1 Axes>"
      ]
     },
     "metadata": {
      "needs_background": "light"
     },
     "output_type": "display_data"
    }
   ],
   "source": [
    "sns.distplot(np.log(df['Salaries Reported']))\n",
    "plt.title('Salaries Reported after log transformation')\n",
    "plt.rcParams['figure.figsize'] = [12,6]"
   ]
  },
  {
   "cell_type": "markdown",
   "metadata": {
    "id": "Lm_2vwxnbwTn"
   },
   "source": [
    "Even after 'log-transformation' this distribution is not very close to Normal, so we can't use it for 'Hypothesis Testing'. "
   ]
  },
  {
   "cell_type": "markdown",
   "metadata": {
    "id": "bhwH6edabwTn"
   },
   "source": [
    "## 8.Employment Status"
   ]
  },
  {
   "cell_type": "code",
   "execution_count": 34,
   "metadata": {
    "colab": {
     "base_uri": "https://localhost:8080/",
     "height": 175
    },
    "id": "YfDtcLaibwTn",
    "outputId": "445da86c-8b2a-4682-ff88-5c39e4254045"
   },
   "outputs": [
    {
     "data": {
      "text/html": [
       "<div>\n",
       "<style scoped>\n",
       "    .dataframe tbody tr th:only-of-type {\n",
       "        vertical-align: middle;\n",
       "    }\n",
       "\n",
       "    .dataframe tbody tr th {\n",
       "        vertical-align: top;\n",
       "    }\n",
       "\n",
       "    .dataframe thead th {\n",
       "        text-align: right;\n",
       "    }\n",
       "</style>\n",
       "<table border=\"1\" class=\"dataframe\">\n",
       "  <thead>\n",
       "    <tr style=\"text-align: right;\">\n",
       "      <th></th>\n",
       "      <th>Employment Status</th>\n",
       "    </tr>\n",
       "  </thead>\n",
       "  <tbody>\n",
       "    <tr>\n",
       "      <th>Full Time</th>\n",
       "      <td>19983</td>\n",
       "    </tr>\n",
       "    <tr>\n",
       "      <th>Intern</th>\n",
       "      <td>2090</td>\n",
       "    </tr>\n",
       "    <tr>\n",
       "      <th>Contractor</th>\n",
       "      <td>548</td>\n",
       "    </tr>\n",
       "    <tr>\n",
       "      <th>Trainee</th>\n",
       "      <td>32</td>\n",
       "    </tr>\n",
       "  </tbody>\n",
       "</table>\n",
       "</div>"
      ],
      "text/plain": [
       "            Employment Status\n",
       "Full Time               19983\n",
       "Intern                   2090\n",
       "Contractor                548\n",
       "Trainee                    32"
      ]
     },
     "execution_count": 34,
     "metadata": {},
     "output_type": "execute_result"
    }
   ],
   "source": [
    "Dt = df['Employment Status'].value_counts()\n",
    "pd.DataFrame(Dt)"
   ]
  },
  {
   "cell_type": "code",
   "execution_count": 35,
   "metadata": {
    "id": "Fwl_wC1DbwTo"
   },
   "outputs": [],
   "source": [
    "f00 = []\n",
    "f01 = []\n",
    "for keys in Dt.index:\n",
    "    f00.append(keys)\n",
    "    f01.append(Dt[keys])"
   ]
  },
  {
   "cell_type": "code",
   "execution_count": 36,
   "metadata": {
    "colab": {
     "base_uri": "https://localhost:8080/",
     "height": 350
    },
    "id": "rB06UylZbwTo",
    "outputId": "f1a8753c-c33a-4bb3-f387-1fee9a060b7c",
    "scrolled": false
   },
   "outputs": [
    {
     "data": {
      "image/png": "[encoded data removed]",
      "text/plain": [
       "<Figure size 864x432 with 1 Axes>"
      ]
     },
     "metadata": {
      "needs_background": "light"
     },
     "output_type": "display_data"
    }
   ],
   "source": [
    "sns.barplot(x=f00, y=f01)\n",
    "plt.rcParams['figure.figsize'] = [5,5]\n",
    "plt.xlabel('Employment Status')\n",
    "plt.ylabel('Population of Developers')\n",
    "plt.title('Employment Status of various employees')\n",
    "plt.show()"
   ]
  },
  {
   "cell_type": "markdown",
   "metadata": {
    "id": "gav8ixOobwTo"
   },
   "source": [
    "So, most of the employees are Full Time and the others are mostly interns. The salary of Full Time employees might higher than the rest. "
   ]
  },
  {
   "cell_type": "markdown",
   "metadata": {
    "id": "TYWeKUsvbwTo"
   },
   "source": [
    "# Hypothesis"
   ]
  },
  {
   "cell_type": "markdown",
   "metadata": {
    "id": "5VJS_4fObwTo"
   },
   "source": [
    "Here are below the list of 'Hypothesis' that we have built, and lets prove them one-by-one in the following order as: "
   ]
  },
  {
   "cell_type": "markdown",
   "metadata": {
    "id": "naia9gh1bwTo"
   },
   "source": [
    "### $1^{st}$ Hypothesis : Most of the SDEs live in Bangalore.\n"
   ]
  },
  {
   "cell_type": "markdown",
   "metadata": {
    "id": "l7M27OMvbwTp"
   },
   "source": [
    "###   $2^{nd}$ Hypothesis :  Among the cities, developers living in Jaipur have the lowest income."
   ]
  },
  {
   "cell_type": "markdown",
   "metadata": {
    "id": "HVcNoxIKbwTp"
   },
   "source": [
    "###  $3^{rd}$ Hypothesis : Developers using Java in roles have higher salary than Python. "
   ]
  },
  {
   "cell_type": "markdown",
   "metadata": {
    "id": "J9_sjAqkbwTp"
   },
   "source": [
    "###  $4^{th}$ Hypothesis : Microsoft developers living in Hyderabad get more salary than Bangalore."
   ]
  },
  {
   "cell_type": "markdown",
   "metadata": {
    "id": "7YnJI-AXbwTp"
   },
   "source": [
    "### ***Note:\n",
    "As, we saw in the previous section that continuous features of the data is skewed. Thus, we have do a transformation to make them Normal. This is required because for 'Hypothesis testing', we assume that our distribtion is Normal. Thus, we will do a 'Log-transformation' to make it normal and use this data for further analysis. We will also assume that the samples used for comparisons are independent of each other."
   ]
  },
  {
   "cell_type": "markdown",
   "metadata": {
    "id": "ttJxEhqGbwTp"
   },
   "source": [
    "### Common terms used:\n",
    "$H_0 = $ Null Hypothesis, $H_A = $  Alternate Hypothesis, $\\alpha = $ Significance Level, $\\sigma = $ Standard Deviation "
   ]
  },
  {
   "cell_type": "markdown",
   "metadata": {
    "id": "tt37YmgybwTq"
   },
   "source": [
    "# $1^{st}$ Hypothesis "
   ]
  },
  {
   "cell_type": "markdown",
   "metadata": {
    "id": "YNcFf53rbwTq"
   },
   "source": [
    "### Statement : Most of the SDEs live in Bangalore.  "
   ]
  },
  {
   "cell_type": "markdown",
   "metadata": {
    "id": "yv69OZDCbwTq"
   },
   "source": [
    "### Aim:\n",
    " We have get the numbers in each region of India and then compare them. The numbers are single values here, so no chance of getting a distribution."
   ]
  },
  {
   "cell_type": "code",
   "execution_count": 37,
   "metadata": {
    "id": "dbs55awgbwTq"
   },
   "outputs": [],
   "source": [
    "D_sde = df[df['Job Roles'] == 'SDE']"
   ]
  },
  {
   "cell_type": "code",
   "execution_count": 38,
   "metadata": {
    "colab": {
     "base_uri": "https://localhost:8080/",
     "height": 363
    },
    "id": "ANi9O7sDbwTq",
    "outputId": "41793bb4-cd56-49c0-c4f2-cd34c4b5272a"
   },
   "outputs": [
    {
     "data": {
      "text/html": [
       "<div>\n",
       "<style scoped>\n",
       "    .dataframe tbody tr th:only-of-type {\n",
       "        vertical-align: middle;\n",
       "    }\n",
       "\n",
       "    .dataframe tbody tr th {\n",
       "        vertical-align: top;\n",
       "    }\n",
       "\n",
       "    .dataframe thead th {\n",
       "        text-align: right;\n",
       "    }\n",
       "</style>\n",
       "<table border=\"1\" class=\"dataframe\">\n",
       "  <thead>\n",
       "    <tr style=\"text-align: right;\">\n",
       "      <th></th>\n",
       "      <th>Counts</th>\n",
       "    </tr>\n",
       "  </thead>\n",
       "  <tbody>\n",
       "    <tr>\n",
       "      <th>Bangalore</th>\n",
       "      <td>1981</td>\n",
       "    </tr>\n",
       "    <tr>\n",
       "      <th>New Delhi</th>\n",
       "      <td>1691</td>\n",
       "    </tr>\n",
       "    <tr>\n",
       "      <th>Hyderabad</th>\n",
       "      <td>1479</td>\n",
       "    </tr>\n",
       "    <tr>\n",
       "      <th>Pune</th>\n",
       "      <td>1070</td>\n",
       "    </tr>\n",
       "    <tr>\n",
       "      <th>Mumbai</th>\n",
       "      <td>744</td>\n",
       "    </tr>\n",
       "    <tr>\n",
       "      <th>Chennai</th>\n",
       "      <td>668</td>\n",
       "    </tr>\n",
       "    <tr>\n",
       "      <th>Kolkata</th>\n",
       "      <td>176</td>\n",
       "    </tr>\n",
       "    <tr>\n",
       "      <th>Madhya Pradesh</th>\n",
       "      <td>155</td>\n",
       "    </tr>\n",
       "    <tr>\n",
       "      <th>Kerala</th>\n",
       "      <td>107</td>\n",
       "    </tr>\n",
       "    <tr>\n",
       "      <th>Jaipur</th>\n",
       "      <td>80</td>\n",
       "    </tr>\n",
       "  </tbody>\n",
       "</table>\n",
       "</div>"
      ],
      "text/plain": [
       "                Counts\n",
       "Bangalore         1981\n",
       "New Delhi         1691\n",
       "Hyderabad         1479\n",
       "Pune              1070\n",
       "Mumbai             744\n",
       "Chennai            668\n",
       "Kolkata            176\n",
       "Madhya Pradesh     155\n",
       "Kerala             107\n",
       "Jaipur              80"
      ]
     },
     "execution_count": 38,
     "metadata": {},
     "output_type": "execute_result"
    }
   ],
   "source": [
    "D_s = D_sde['Location'].value_counts()\n",
    "D_ss = pd.DataFrame(D_s)\n",
    "D_ss.rename(columns={'Location':'Counts'})"
   ]
  },
  {
   "cell_type": "code",
   "execution_count": 39,
   "metadata": {
    "id": "1jItxj5MbwTq"
   },
   "outputs": [],
   "source": [
    "D_e = []\n",
    "D_f = []\n",
    "for key in D_s.index:\n",
    "    D_e.append(key)\n",
    "    D_f.append(D_s[key])"
   ]
  },
  {
   "cell_type": "code",
   "execution_count": 40,
   "metadata": {
    "colab": {
     "base_uri": "https://localhost:8080/",
     "height": 458
    },
    "id": "kMhvm_9qbwTq",
    "outputId": "3e33b3aa-9c1f-4b67-bd0b-4606e501ec4b"
   },
   "outputs": [
    {
     "data": {
      "image/png": "[encoded data removed]",
      "text/plain": [
       "<Figure size 360x360 with 1 Axes>"
      ]
     },
     "metadata": {
      "needs_background": "light"
     },
     "output_type": "display_data"
    }
   ],
   "source": [
    "sns.barplot(x=D_e, y=D_f)\n",
    "plt.rcParams['figure.figsize'] = [12,7]\n",
    "plt.title('SDEs living in different parts of India')\n",
    "plt.xlabel('Cities')\n",
    "plt.ylabel('Population of Developers')\n",
    "plt.show()"
   ]
  },
  {
   "cell_type": "markdown",
   "metadata": {
    "id": "tl6w-17EbwTr"
   },
   "source": [
    "### Result:\n",
    "### So, clearly SDEs are mostly populated in Bangalore. And, as because the counts of developers don't form a distribution, so we can't do a 'Hypothesis Testing' here. With enough evidence from the 'Bar Plot', we can accept the hypothesis."
   ]
  },
  {
   "cell_type": "markdown",
   "metadata": {
    "id": "rYHINRZgbwTr"
   },
   "source": [
    "# $2^{nd}$ Hypothesis "
   ]
  },
  {
   "cell_type": "markdown",
   "metadata": {
    "id": "LY10L50HbwTr"
   },
   "source": [
    " ### Statement: Among the cities, developers living in Jaipur have the lowest income."
   ]
  },
  {
   "cell_type": "code",
   "execution_count": 41,
   "metadata": {
    "id": "NgPbrj33bwTr"
   },
   "outputs": [],
   "source": [
    "DF = df.copy()\n",
    "DF['Salary'] = np.log(DF['Salary'])"
   ]
  },
  {
   "cell_type": "markdown",
   "metadata": {
    "id": "QjlAV2UqbwTr"
   },
   "source": [
    "## One-way Anova test "
   ]
  },
  {
   "cell_type": "markdown",
   "metadata": {
    "id": "UUTM0bL8bwTr"
   },
   "source": [
    "$H_0$ : The Mean salaries of the developers living in differnt parts of India is same.\n",
    "\n",
    "$H_A$ : Then Mean salaries of the developers living in different parts of India vary.\n",
    "\n",
    "$\\alpha = 0.05$"
   ]
  },
  {
   "cell_type": "markdown",
   "metadata": {
    "id": "LhsmN-0UbwTs"
   },
   "source": [
    "### Aim:\n",
    " So, to find out whether we can reject the null hypothesis, we have to compare the mean salaries of each of the cities. Lets try a 'One-way ANOVA test'. In ANOVA-test, we assume that sample variances ($\\sigma^2$) is the same. Lets do the ANOVA-test and at the last we will find out whether our assumption holds on."
   ]
  },
  {
   "cell_type": "code",
   "execution_count": 42,
   "metadata": {
    "id": "fYoL_KWXbwTs"
   },
   "outputs": [],
   "source": [
    "import statsmodels.formula.api as smf\n",
    "from statsmodels.formula.api import ols\n",
    "from statsmodels.stats.anova import anova_lm "
   ]
  },
  {
   "cell_type": "code",
   "execution_count": 43,
   "metadata": {
    "colab": {
     "base_uri": "https://localhost:8080/",
     "height": 112
    },
    "id": "JEVlZXFUbwTs",
    "outputId": "21c0ff34-80e0-4e80-d88e-8a87bcb6befb",
    "scrolled": false
   },
   "outputs": [
    {
     "data": {
      "text/html": [
       "<div>\n",
       "<style scoped>\n",
       "    .dataframe tbody tr th:only-of-type {\n",
       "        vertical-align: middle;\n",
       "    }\n",
       "\n",
       "    .dataframe tbody tr th {\n",
       "        vertical-align: top;\n",
       "    }\n",
       "\n",
       "    .dataframe thead th {\n",
       "        text-align: right;\n",
       "    }\n",
       "</style>\n",
       "<table border=\"1\" class=\"dataframe\">\n",
       "  <thead>\n",
       "    <tr style=\"text-align: right;\">\n",
       "      <th></th>\n",
       "      <th>sum_sq</th>\n",
       "      <th>df</th>\n",
       "      <th>F</th>\n",
       "      <th>PR(&gt;F)</th>\n",
       "    </tr>\n",
       "  </thead>\n",
       "  <tbody>\n",
       "    <tr>\n",
       "      <th>C(Location)</th>\n",
       "      <td>178.207233</td>\n",
       "      <td>9.0</td>\n",
       "      <td>29.108704</td>\n",
       "      <td>5.996131e-51</td>\n",
       "    </tr>\n",
       "    <tr>\n",
       "      <th>Residual</th>\n",
       "      <td>15402.595839</td>\n",
       "      <td>22643.0</td>\n",
       "      <td>NaN</td>\n",
       "      <td>NaN</td>\n",
       "    </tr>\n",
       "  </tbody>\n",
       "</table>\n",
       "</div>"
      ],
      "text/plain": [
       "                   sum_sq       df          F        PR(>F)\n",
       "C(Location)    178.207233      9.0  29.108704  5.996131e-51\n",
       "Residual     15402.595839  22643.0        NaN           NaN"
      ]
     },
     "execution_count": 43,
     "metadata": {},
     "output_type": "execute_result"
    }
   ],
   "source": [
    "model = smf.ols('Salary ~ C(Location)', data=DF).fit()\n",
    "anova_lm(model, typ=2)"
   ]
  },
  {
   "cell_type": "markdown",
   "metadata": {
    "id": "embLRfwWbwTs"
   },
   "source": [
    "### As, the p-value is of the order $10^{-52} << \\alpha$, thus the sample has a 'Statistical Significance'. Thus, we reject the null hypothesis and conclude that the mean salaries of people living across in different parts of India varies. Now, our task is to find out how mean salary in 'Jaipur' varies with other parts. For that we will do a 'Tukey test'."
   ]
  },
  {
   "cell_type": "markdown",
   "metadata": {
    "id": "CbLUq6iPbwTs"
   },
   "source": [
    "## Tukey test for pairwise mean difference"
   ]
  },
  {
   "cell_type": "markdown",
   "metadata": {
    "id": "4yFAtyCObwTs"
   },
   "source": [
    "Tukey test will determine the pairwise difference between the Mean Salaries of various regions of India. It will also give signification level. We will especially look at the differences in means with respect to 'Jaipur'. If we get the mean differnce positive in any observation, then we can conclude that our hypothesis holds."
   ]
  },
  {
   "cell_type": "code",
   "execution_count": 44,
   "metadata": {
    "id": "L9IwoHr-bwTs"
   },
   "outputs": [],
   "source": [
    "import statsmodels.stats.multicomp as multi"
   ]
  },
  {
   "cell_type": "code",
   "execution_count": 45,
   "metadata": {
    "colab": {
     "base_uri": "https://localhost:8080/"
    },
    "id": "iNCQ55pvbwTt",
    "outputId": "da11f43b-426c-4afb-a144-7e859ba84967"
   },
   "outputs": [
    {
     "name": "stdout",
     "output_type": "stream",
     "text": [
      "        Multiple Comparison of Means - Tukey HSD, FWER=0.05         \n",
      "====================================================================\n",
      "    group1         group2     meandiff p-adj   lower   upper  reject\n",
      "--------------------------------------------------------------------\n",
      "     Bangalore        Chennai  -0.1834  0.001 -0.2436 -0.1232   True\n",
      "     Bangalore      Hyderabad   -0.061 0.0029 -0.1096 -0.0124   True\n",
      "     Bangalore         Jaipur  -0.0717    0.9 -0.3649  0.2215  False\n",
      "     Bangalore         Kerala  -0.1619 0.5743 -0.4158   0.092  False\n",
      "     Bangalore        Kolkata  -0.1034 0.8003 -0.3016  0.0949  False\n",
      "     Bangalore Madhya Pradesh  -0.1698 0.2475 -0.3814  0.0418  False\n",
      "     Bangalore         Mumbai   0.3052  0.001  0.2055   0.405   True\n",
      "     Bangalore      New Delhi  -0.1103  0.001 -0.1599 -0.0607   True\n",
      "     Bangalore           Pune  -0.0627 0.0561 -0.1262  0.0008  False\n",
      "       Chennai      Hyderabad   0.1224  0.001  0.0566  0.1882   True\n",
      "       Chennai         Jaipur   0.1117    0.9 -0.1848  0.4083  False\n",
      "       Chennai         Kerala   0.0215    0.9 -0.2362  0.2793  False\n",
      "       Chennai        Kolkata   0.0801    0.9 -0.1231  0.2832  False\n",
      "       Chennai Madhya Pradesh   0.0137    0.9 -0.2025  0.2298  False\n",
      "       Chennai         Mumbai   0.4887  0.001  0.3795  0.5979   True\n",
      "       Chennai      New Delhi   0.0731 0.0182  0.0066  0.1397   True\n",
      "       Chennai           Pune   0.1207  0.001  0.0433  0.1981   True\n",
      "     Hyderabad         Jaipur  -0.0107    0.9 -0.3051  0.2837  False\n",
      "     Hyderabad         Kerala  -0.1009    0.9 -0.3562  0.1544  False\n",
      "     Hyderabad        Kolkata  -0.0424    0.9 -0.2424  0.1577  False\n",
      "     Hyderabad Madhya Pradesh  -0.1088 0.8222  -0.322  0.1045  False\n",
      "     Hyderabad         Mumbai   0.3662  0.001   0.263  0.4695   True\n",
      "     Hyderabad      New Delhi  -0.0493 0.1471 -0.1056   0.007  False\n",
      "     Hyderabad           Pune  -0.0017    0.9 -0.0706  0.0671  False\n",
      "        Jaipur         Kerala  -0.0902    0.9 -0.4759  0.2955  False\n",
      "        Jaipur        Kolkata  -0.0317    0.9 -0.3832  0.3199  False\n",
      "        Jaipur Madhya Pradesh  -0.0981    0.9 -0.4573  0.2612  False\n",
      "        Jaipur         Mumbai   0.3769 0.0041  0.0699  0.6839   True\n",
      "        Jaipur      New Delhi  -0.0386    0.9 -0.3331   0.256  False\n",
      "        Jaipur           Pune    0.009    0.9 -0.2882  0.3062  False\n",
      "        Kerala        Kolkata   0.0585    0.9  -0.261  0.3781  False\n",
      "        Kerala Madhya Pradesh  -0.0079    0.9 -0.3359  0.3201  False\n",
      "        Kerala         Mumbai   0.4671  0.001  0.1974  0.7369   True\n",
      "        Kerala      New Delhi   0.0516    0.9 -0.2039  0.3071  False\n",
      "        Kerala           Pune   0.0992    0.9 -0.1594  0.3577  False\n",
      "       Kolkata Madhya Pradesh  -0.0664    0.9 -0.3535  0.2207  False\n",
      "       Kolkata         Mumbai   0.4086  0.001  0.1904  0.6268   True\n",
      "       Kolkata      New Delhi  -0.0069    0.9 -0.2072  0.1934  False\n",
      "       Kolkata           Pune   0.0406    0.9 -0.1635  0.2448  False\n",
      "Madhya Pradesh         Mumbai    0.475  0.001  0.2447  0.7054   True\n",
      "Madhya Pradesh      New Delhi   0.0595    0.9  -0.154   0.273  False\n",
      "Madhya Pradesh           Pune   0.1071 0.8553 -0.1101  0.3242  False\n",
      "        Mumbai      New Delhi  -0.4155  0.001 -0.5193 -0.3118   True\n",
      "        Mumbai           Pune   -0.368  0.001  -0.479 -0.2569   True\n",
      "     New Delhi           Pune   0.0476 0.4835  -0.022  0.1171  False\n",
      "--------------------------------------------------------------------\n"
     ]
    }
   ],
   "source": [
    "result = multi.MultiComparison(np.log(df['Salary']), df['Location'])\n",
    "results = result.tukeyhsd()\n",
    "print(results)"
   ]
  },
  {
   "cell_type": "markdown",
   "metadata": {
    "id": "JwfI3_HdbwTt"
   },
   "source": [
    "Actually, here the 'meandiff' is being found by (group2 - group1). Now, if we carefully look at the above table, we can find\n",
    "many negetive values of meandiff where Jaipur is in 'group1'. That clearly states that mean salary of developers in Jaipur is not the lowest. Next, we will check the validity of our assumption."
   ]
  },
  {
   "cell_type": "markdown",
   "metadata": {
    "id": "dI21KEWebwTt"
   },
   "source": [
    "## Checking the Validity of equal $\\sigma^2$ in ANOVA by Levene Test"
   ]
  },
  {
   "cell_type": "code",
   "execution_count": 46,
   "metadata": {
    "id": "fYXBXeZibwTt"
   },
   "outputs": [],
   "source": [
    "d_ba = DF[DF['Location'] == 'Bangalore'].Salary\n",
    "d_ch = DF[DF['Location'] == 'Chennai'].Salary\n",
    "d_hy = DF[DF['Location'] == 'Hyderabad'].Salary\n",
    "d_nd = DF[DF['Location'] == 'New Delhi'].Salary\n",
    "d_pu = DF[DF['Location'] == 'Pune'].Salary\n",
    "d_jp = DF[DF['Location'] == 'Jaipur'].Salary\n",
    "d_ke = DF[DF['Location'] == 'Kerala'].Salary\n",
    "d_ko = DF[DF['Location'] == 'Kolkata'].Salary\n",
    "d_mp = DF[DF['Location'] == 'Madhya Pradesh'].Salary\n",
    "d_mu = DF[DF['Location'] == 'Mumbai'].Salary"
   ]
  },
  {
   "cell_type": "code",
   "execution_count": 47,
   "metadata": {
    "colab": {
     "base_uri": "https://localhost:8080/"
    },
    "id": "GGDdpl4fbwTt",
    "outputId": "69a3b757-3cfd-4a2a-b4b1-3ee568825536"
   },
   "outputs": [
    {
     "name": "stdout",
     "output_type": "stream",
     "text": [
      "statistic = 6.153443135585623\n",
      "p-value = 1.0574497199476448e-08\n"
     ]
    }
   ],
   "source": [
    "import scipy.stats as stats\n",
    "statistic, pvalue = stats.levene(d_ba,d_ch,d_hy,d_nd,d_pu,d_jp,d_ke,d_ko,d_mp,d_mu)\n",
    "print('statistic =',statistic)\n",
    "print('p-value =', pvalue)"
   ]
  },
  {
   "cell_type": "markdown",
   "metadata": {
    "id": "uB_IUmW3bwTt"
   },
   "source": [
    "As, the p-value $<< \\alpha$, that means the equal variance ($\\sigma^2$) assumption is not correct. Thus, unfortunately the ANOVA test fails. This might be because the salary distributions across different parts of India should have unequal variances. Let's look at the actual data and see what we get."
   ]
  },
  {
   "cell_type": "code",
   "execution_count": 48,
   "metadata": {
    "colab": {
     "base_uri": "https://localhost:8080/",
     "height": 458
    },
    "id": "jmANKuB5bwTu",
    "outputId": "2375a05f-873e-436e-b8de-d634d66eb768",
    "scrolled": false
   },
   "outputs": [
    {
     "data": {
      "image/png": "[encoded data removed]",
      "text/plain": [
       "<Figure size 864x504 with 1 Axes>"
      ]
     },
     "metadata": {
      "needs_background": "light"
     },
     "output_type": "display_data"
    }
   ],
   "source": [
    "sns.distplot(d_ba, label='Bangalore',hist=False)\n",
    "sns.distplot(d_ch,label='Chennai', hist=False)\n",
    "sns.distplot(d_hy,label='Hyderabad', hist=False)\n",
    "sns.distplot(d_mu,label='Mumbai', hist=False)\n",
    "sns.distplot(d_jp,label='Jaipur' ,hist=False)\n",
    "sns.distplot(d_ko,label='Kolkata', hist=False)\n",
    "sns.distplot(d_ke,label='Kerala' ,hist=False)\n",
    "sns.distplot(d_mp,label='MP' ,hist=False)\n",
    "sns.distplot(d_pu,label='Pune' ,hist=False)\n",
    "sns.distplot(d_nd,label='New Delhi' ,hist=False)\n",
    "plt.legend()\n",
    "plt.title('Salary distribution region wise in India')\n",
    "plt.rcParams['figure.figsize'] = [15,8]\n",
    "plt.show()"
   ]
  },
  {
   "cell_type": "markdown",
   "metadata": {
    "id": "MwP3jDsSbwTu"
   },
   "source": [
    "The Standard Deviation ($\\sigma$) as predicted by the 'Levene Test' is different for many cities. This is the reason why the ANOVA test failed. The diffrence in median salaries can be better visualized using a box-plot and lets do that next."
   ]
  },
  {
   "cell_type": "code",
   "execution_count": 49,
   "metadata": {
    "colab": {
     "base_uri": "https://localhost:8080/",
     "height": 513
    },
    "id": "wSRUnqKKbwTu",
    "outputId": "58d6b6c4-08b5-4594-f05e-1f1eae542118",
    "scrolled": false
   },
   "outputs": [
    {
     "data": {
      "image/png": "[encoded data removed]",
      "text/plain": [
       "<Figure size 1080x576 with 1 Axes>"
      ]
     },
     "metadata": {
      "needs_background": "light"
     },
     "output_type": "display_data"
    }
   ],
   "source": [
    "sns.boxplot(y='Salary', x='Location', data=DF)\n",
    "plt.rcParams['figure.figsize'] = [15,8]\n",
    "plt.title('Comparing Median Salaries of developers across India')\n",
    "plt.show()"
   ]
  },
  {
   "cell_type": "markdown",
   "metadata": {
    "id": "s7z3ivfLbwTu"
   },
   "source": [
    "### Result:\n",
    "### Finally, we conclude that although the number of developers in  'Jaipur'  are less, but the median Salary of people is not the lowest. Infact the median salary of 'Jaipur' is close to that of Bangalore. So, we reject this hypothesis. "
   ]
  },
  {
   "cell_type": "markdown",
   "metadata": {
    "id": "xXbpIsQsbwTu"
   },
   "source": [
    "# $3^{rd}$ Hypothesis "
   ]
  },
  {
   "cell_type": "markdown",
   "metadata": {
    "id": "pDP5Gf6abwTu"
   },
   "source": [
    "### Statement: The Java developers have higher salary as compared to the Python.\n",
    "\n"
   ]
  },
  {
   "cell_type": "code",
   "execution_count": 50,
   "metadata": {
    "id": "NYC91SeUbwTv"
   },
   "outputs": [],
   "source": [
    "D12 = DF[DF['Job Roles'].isin(['Java','Python'])]"
   ]
  },
  {
   "cell_type": "code",
   "execution_count": 51,
   "metadata": {
    "colab": {
     "base_uri": "https://localhost:8080/",
     "height": 300
    },
    "id": "BtuGpef5bwTv",
    "outputId": "08501ad7-8fc5-452f-c912-8479320d2215"
   },
   "outputs": [
    {
     "data": {
      "text/html": [
       "<div>\n",
       "<style scoped>\n",
       "    .dataframe tbody tr th:only-of-type {\n",
       "        vertical-align: middle;\n",
       "    }\n",
       "\n",
       "    .dataframe tbody tr th {\n",
       "        vertical-align: top;\n",
       "    }\n",
       "\n",
       "    .dataframe thead th {\n",
       "        text-align: right;\n",
       "    }\n",
       "</style>\n",
       "<table border=\"1\" class=\"dataframe\">\n",
       "  <thead>\n",
       "    <tr style=\"text-align: right;\">\n",
       "      <th></th>\n",
       "      <th>Salary</th>\n",
       "    </tr>\n",
       "  </thead>\n",
       "  <tbody>\n",
       "    <tr>\n",
       "      <th>count</th>\n",
       "      <td>1834.000000</td>\n",
       "    </tr>\n",
       "    <tr>\n",
       "      <th>mean</th>\n",
       "      <td>12.942229</td>\n",
       "    </tr>\n",
       "    <tr>\n",
       "      <th>std</th>\n",
       "      <td>0.754228</td>\n",
       "    </tr>\n",
       "    <tr>\n",
       "      <th>min</th>\n",
       "      <td>9.041685</td>\n",
       "    </tr>\n",
       "    <tr>\n",
       "      <th>25%</th>\n",
       "      <td>12.448814</td>\n",
       "    </tr>\n",
       "    <tr>\n",
       "      <th>50%</th>\n",
       "      <td>12.899220</td>\n",
       "    </tr>\n",
       "    <tr>\n",
       "      <th>75%</th>\n",
       "      <td>13.458836</td>\n",
       "    </tr>\n",
       "    <tr>\n",
       "      <th>max</th>\n",
       "      <td>16.118096</td>\n",
       "    </tr>\n",
       "  </tbody>\n",
       "</table>\n",
       "</div>"
      ],
      "text/plain": [
       "            Salary\n",
       "count  1834.000000\n",
       "mean     12.942229\n",
       "std       0.754228\n",
       "min       9.041685\n",
       "25%      12.448814\n",
       "50%      12.899220\n",
       "75%      13.458836\n",
       "max      16.118096"
      ]
     },
     "execution_count": 51,
     "metadata": {},
     "output_type": "execute_result"
    }
   ],
   "source": [
    "r1 = D12[D12['Job Roles']=='Java'].Salary.describe()\n",
    "pd.DataFrame(r1)"
   ]
  },
  {
   "cell_type": "code",
   "execution_count": 52,
   "metadata": {
    "colab": {
     "base_uri": "https://localhost:8080/",
     "height": 300
    },
    "id": "MdhieMQ-bwTv",
    "outputId": "227aac5b-f0e3-44ca-a762-c5e97fb1432d",
    "scrolled": false
   },
   "outputs": [
    {
     "data": {
      "text/html": [
       "<div>\n",
       "<style scoped>\n",
       "    .dataframe tbody tr th:only-of-type {\n",
       "        vertical-align: middle;\n",
       "    }\n",
       "\n",
       "    .dataframe tbody tr th {\n",
       "        vertical-align: top;\n",
       "    }\n",
       "\n",
       "    .dataframe thead th {\n",
       "        text-align: right;\n",
       "    }\n",
       "</style>\n",
       "<table border=\"1\" class=\"dataframe\">\n",
       "  <thead>\n",
       "    <tr style=\"text-align: right;\">\n",
       "      <th></th>\n",
       "      <th>Salary</th>\n",
       "    </tr>\n",
       "  </thead>\n",
       "  <tbody>\n",
       "    <tr>\n",
       "      <th>count</th>\n",
       "      <td>922.000000</td>\n",
       "    </tr>\n",
       "    <tr>\n",
       "      <th>mean</th>\n",
       "      <td>12.851564</td>\n",
       "    </tr>\n",
       "    <tr>\n",
       "      <th>std</th>\n",
       "      <td>0.712488</td>\n",
       "    </tr>\n",
       "    <tr>\n",
       "      <th>min</th>\n",
       "      <td>10.085809</td>\n",
       "    </tr>\n",
       "    <tr>\n",
       "      <th>25%</th>\n",
       "      <td>12.388394</td>\n",
       "    </tr>\n",
       "    <tr>\n",
       "      <th>50%</th>\n",
       "      <td>12.899220</td>\n",
       "    </tr>\n",
       "    <tr>\n",
       "      <th>75%</th>\n",
       "      <td>13.304685</td>\n",
       "    </tr>\n",
       "    <tr>\n",
       "      <th>max</th>\n",
       "      <td>15.747032</td>\n",
       "    </tr>\n",
       "  </tbody>\n",
       "</table>\n",
       "</div>"
      ],
      "text/plain": [
       "           Salary\n",
       "count  922.000000\n",
       "mean    12.851564\n",
       "std      0.712488\n",
       "min     10.085809\n",
       "25%     12.388394\n",
       "50%     12.899220\n",
       "75%     13.304685\n",
       "max     15.747032"
      ]
     },
     "execution_count": 52,
     "metadata": {},
     "output_type": "execute_result"
    }
   ],
   "source": [
    "r2 = D12[D12['Job Roles']=='Python'].Salary.describe()\n",
    "pd.DataFrame(r2)"
   ]
  },
  {
   "cell_type": "markdown",
   "metadata": {
    "id": "yWxUgNLMbwTv"
   },
   "source": [
    "## Two-Sampled Z-Test"
   ]
  },
  {
   "cell_type": "markdown",
   "metadata": {
    "id": "2E8cm3u2bwTv"
   },
   "source": [
    "$H_{0}$ : The Java developers have similar salary as compared to the Python.\n",
    "\n",
    "$H_{A}$ : The Java developers have different salary as compared to the Python.\n",
    "\n",
    "$\\alpha = 0.05$  "
   ]
  },
  {
   "cell_type": "markdown",
   "metadata": {
    "id": "IoekiyDXbwTv"
   },
   "source": [
    "### Aim:\n",
    "Here, we have $2$ samples, so to compare their mean, we will do a '2-Sample Z-Test'. As, the sample is large, so 'Z-test' will be a good test statistic. If we get the p-value lower that $\\alpha$, then the effect is real and the result is statistically significant."
   ]
  },
  {
   "cell_type": "code",
   "execution_count": 53,
   "metadata": {
    "id": "eRFFLjGobwTv"
   },
   "outputs": [],
   "source": [
    "numbers = np.array([1858, 947])\n",
    "SalarySum = np.array([12.938991,12.842961])"
   ]
  },
  {
   "cell_type": "code",
   "execution_count": 54,
   "metadata": {
    "id": "AuQDAz0dbwTw"
   },
   "outputs": [],
   "source": [
    "from statsmodels.stats.proportion import proportions_ztest"
   ]
  },
  {
   "cell_type": "code",
   "execution_count": 55,
   "metadata": {
    "colab": {
     "base_uri": "https://localhost:8080/"
    },
    "id": "L7wI9vy-bwTw",
    "outputId": "7e191176-95e0-419b-c665-d2ac36e8c9ee",
    "scrolled": true
   },
   "outputs": [
    {
     "name": "stdout",
     "output_type": "stream",
     "text": [
      "Z-score =  -1.731586061450352\n",
      "p-value =  0.08334728970277286\n"
     ]
    }
   ],
   "source": [
    "Z_value, p_value = proportions_ztest(SalarySum,numbers)\n",
    "print('Z-score = ', Z_value)\n",
    "print('p-value = ', p_value)"
   ]
  },
  {
   "cell_type": "markdown",
   "metadata": {
    "id": "TkaJk7TnbwTw"
   },
   "source": [
    "\n",
    "### The p-value is about $0.0833 > \\alpha$, so we can't reject the null hypothesis. That means the developers using Java in roles have similar salary as that of Python'. Next, lets look at the distributions of both of them."
   ]
  },
  {
   "cell_type": "code",
   "execution_count": 110,
   "metadata": {
    "colab": {
     "base_uri": "https://localhost:8080/",
     "height": 350
    },
    "id": "r4Z4XoCDbwTw",
    "outputId": "f5527692-e0cc-4013-9d9a-c38e777a6778"
   },
   "outputs": [
    {
     "data": {
      "image/png": "[encoded data removed]",
      "text/plain": [
       "<Figure size 504x360 with 1 Axes>"
      ]
     },
     "metadata": {
      "needs_background": "light"
     },
     "output_type": "display_data"
    }
   ],
   "source": [
    "sns.distplot(D12[D12['Job Roles']=='Java'].Salary, label='Java' ,hist=False)\n",
    "sns.distplot(D12[D12['Job Roles']=='Python'].Salary, label='Python' ,hist=False)\n",
    "plt.rcParams['figure.figsize'] = [8,5]\n",
    "plt.title('Comparing the distributions of Java and Python')\n",
    "plt.show()"
   ]
  },
  {
   "cell_type": "markdown",
   "metadata": {
    "id": "tk6g4RgzbwTw"
   },
   "source": [
    "### Result:\n",
    "### We reject the hypothesis that the Java developers have higher salary as compared to the Python. Just the number of people doing Java development is more than Python. The above plot supports this."
   ]
  },
  {
   "cell_type": "markdown",
   "metadata": {
    "id": "Wg3g8GjVbwTw"
   },
   "source": [
    "# $4^{th}$ Hypothesis"
   ]
  },
  {
   "cell_type": "markdown",
   "metadata": {
    "id": "cjaIkB4tbwTw"
   },
   "source": [
    "### Statement: Microsoft developers living in Hyderabad get more salary than Bangalore.\n",
    "\n"
   ]
  },
  {
   "cell_type": "code",
   "execution_count": 57,
   "metadata": {
    "id": "qD5LgsXgbwTx"
   },
   "outputs": [],
   "source": [
    "D13 = DF[DF['Location'].isin(['Bangalore','Hyderabad'])] \n",
    "D33 = D13[D13['Company Name']=='Microsoft']\n",
    "x11 = D33[D33['Location']=='Bangalore'].Salary\n",
    "x12 = D33[D33['Location']=='Hyderabad'].Salary"
   ]
  },
  {
   "cell_type": "code",
   "execution_count": 58,
   "metadata": {
    "colab": {
     "base_uri": "https://localhost:8080/",
     "height": 300
    },
    "id": "B9t_SpkYbwTx",
    "outputId": "20bf4b75-3d50-468c-f0c0-56dc36f19c26"
   },
   "outputs": [
    {
     "data": {
      "text/html": [
       "<div>\n",
       "<style scoped>\n",
       "    .dataframe tbody tr th:only-of-type {\n",
       "        vertical-align: middle;\n",
       "    }\n",
       "\n",
       "    .dataframe tbody tr th {\n",
       "        vertical-align: top;\n",
       "    }\n",
       "\n",
       "    .dataframe thead th {\n",
       "        text-align: right;\n",
       "    }\n",
       "</style>\n",
       "<table border=\"1\" class=\"dataframe\">\n",
       "  <thead>\n",
       "    <tr style=\"text-align: right;\">\n",
       "      <th></th>\n",
       "      <th>Hyderabad (Salary)</th>\n",
       "    </tr>\n",
       "  </thead>\n",
       "  <tbody>\n",
       "    <tr>\n",
       "      <th>count</th>\n",
       "      <td>47.000000</td>\n",
       "    </tr>\n",
       "    <tr>\n",
       "      <th>mean</th>\n",
       "      <td>13.930937</td>\n",
       "    </tr>\n",
       "    <tr>\n",
       "      <th>std</th>\n",
       "      <td>1.078638</td>\n",
       "    </tr>\n",
       "    <tr>\n",
       "      <th>min</th>\n",
       "      <td>9.392662</td>\n",
       "    </tr>\n",
       "    <tr>\n",
       "      <th>25%</th>\n",
       "      <td>13.570704</td>\n",
       "    </tr>\n",
       "    <tr>\n",
       "      <th>50%</th>\n",
       "      <td>14.151983</td>\n",
       "    </tr>\n",
       "    <tr>\n",
       "      <th>75%</th>\n",
       "      <td>14.603968</td>\n",
       "    </tr>\n",
       "    <tr>\n",
       "      <th>max</th>\n",
       "      <td>15.201805</td>\n",
       "    </tr>\n",
       "  </tbody>\n",
       "</table>\n",
       "</div>"
      ],
      "text/plain": [
       "       Hyderabad (Salary)\n",
       "count           47.000000\n",
       "mean            13.930937\n",
       "std              1.078638\n",
       "min              9.392662\n",
       "25%             13.570704\n",
       "50%             14.151983\n",
       "75%             14.603968\n",
       "max             15.201805"
      ]
     },
     "execution_count": 58,
     "metadata": {},
     "output_type": "execute_result"
    }
   ],
   "source": [
    "d_112 = x12.describe()\n",
    "dddd = pd.DataFrame(d_112)\n",
    "dddd.rename(columns={'Salary': 'Hyderabad (Salary)'})"
   ]
  },
  {
   "cell_type": "code",
   "execution_count": 59,
   "metadata": {
    "colab": {
     "base_uri": "https://localhost:8080/",
     "height": 300
    },
    "id": "3DHmSsc-bwTx",
    "outputId": "8a606d16-75f6-4ce0-c99b-e8e34c09d61d"
   },
   "outputs": [
    {
     "data": {
      "text/html": [
       "<div>\n",
       "<style scoped>\n",
       "    .dataframe tbody tr th:only-of-type {\n",
       "        vertical-align: middle;\n",
       "    }\n",
       "\n",
       "    .dataframe tbody tr th {\n",
       "        vertical-align: top;\n",
       "    }\n",
       "\n",
       "    .dataframe thead th {\n",
       "        text-align: right;\n",
       "    }\n",
       "</style>\n",
       "<table border=\"1\" class=\"dataframe\">\n",
       "  <thead>\n",
       "    <tr style=\"text-align: right;\">\n",
       "      <th></th>\n",
       "      <th>Bangalore (Salary)</th>\n",
       "    </tr>\n",
       "  </thead>\n",
       "  <tbody>\n",
       "    <tr>\n",
       "      <th>count</th>\n",
       "      <td>20.000000</td>\n",
       "    </tr>\n",
       "    <tr>\n",
       "      <th>mean</th>\n",
       "      <td>13.911496</td>\n",
       "    </tr>\n",
       "    <tr>\n",
       "      <th>std</th>\n",
       "      <td>0.778606</td>\n",
       "    </tr>\n",
       "    <tr>\n",
       "      <th>min</th>\n",
       "      <td>11.512925</td>\n",
       "    </tr>\n",
       "    <tr>\n",
       "      <th>25%</th>\n",
       "      <td>13.777073</td>\n",
       "    </tr>\n",
       "    <tr>\n",
       "      <th>50%</th>\n",
       "      <td>13.994348</td>\n",
       "    </tr>\n",
       "    <tr>\n",
       "      <th>75%</th>\n",
       "      <td>14.353498</td>\n",
       "    </tr>\n",
       "    <tr>\n",
       "      <th>max</th>\n",
       "      <td>15.009433</td>\n",
       "    </tr>\n",
       "  </tbody>\n",
       "</table>\n",
       "</div>"
      ],
      "text/plain": [
       "       Bangalore (Salary)\n",
       "count           20.000000\n",
       "mean            13.911496\n",
       "std              0.778606\n",
       "min             11.512925\n",
       "25%             13.777073\n",
       "50%             13.994348\n",
       "75%             14.353498\n",
       "max             15.009433"
      ]
     },
     "execution_count": 59,
     "metadata": {},
     "output_type": "execute_result"
    }
   ],
   "source": [
    "d_113 = x11.describe()\n",
    "ddd = pd.DataFrame(d_113)\n",
    "ddd.rename(columns={'Salary': 'Bangalore (Salary)'})"
   ]
  },
  {
   "cell_type": "markdown",
   "metadata": {
    "id": "DZDU07dMbwTx"
   },
   "source": [
    "## Two-Sampled Z-Test"
   ]
  },
  {
   "cell_type": "markdown",
   "metadata": {
    "id": "jsce1oTpbwTx"
   },
   "source": [
    "$H_0$ : Employees working in Microsoft are equally paid in Hyderabad and Bangalore.\n",
    "\n",
    "$H_A$ : Microsoft employees working in Hyderabad as paid differently than that of Bangalore.\n",
    "\n",
    "$\\alpha = 0.05$ "
   ]
  },
  {
   "cell_type": "markdown",
   "metadata": {
    "id": "Kk-Iv_C9bwTx"
   },
   "source": [
    "### Aim:\n",
    "Here, we will again do a 'Two-Sample Z-Test', but to convince oureself we will also do a 'Two-Sample t-Test'. This is because as the sample size is small, and $\\geq$ 20, so we must try both.\n"
   ]
  },
  {
   "cell_type": "code",
   "execution_count": 60,
   "metadata": {
    "id": "4K805R_ubwTx"
   },
   "outputs": [],
   "source": [
    "nods = np.array([47,20])\n",
    "total_salary = np.array([13.930937,13.911496])"
   ]
  },
  {
   "cell_type": "code",
   "execution_count": 61,
   "metadata": {
    "colab": {
     "base_uri": "https://localhost:8080/"
    },
    "id": "u01OC8rVbwTy",
    "outputId": "41caaab8-3b0b-4125-dc26-80312bde9181"
   },
   "outputs": [
    {
     "name": "stdout",
     "output_type": "stream",
     "text": [
      "The z-score is -3.0338900083814746\n",
      "The p-value is 0.0024142243307232326\n"
     ]
    }
   ],
   "source": [
    "z_score, p_value = proportions_ztest(total_salary,nods)\n",
    "print('The z-score is',z_score)\n",
    "print('The p-value is', p_value)"
   ]
  },
  {
   "cell_type": "markdown",
   "metadata": {
    "id": "FTQfW_5sbwTy"
   },
   "source": [
    "## Two-Sampled t-Test**"
   ]
  },
  {
   "cell_type": "code",
   "execution_count": 62,
   "metadata": {
    "colab": {
     "base_uri": "https://localhost:8080/"
    },
    "id": "oX05e9yrbwTy",
    "outputId": "14239a84-0ad4-45ad-a05a-af72e551fd01"
   },
   "outputs": [
    {
     "name": "stdout",
     "output_type": "stream",
     "text": [
      "The z-score is -1.450279883308087\n",
      "The p-value is 0.28404691204022814\n"
     ]
    }
   ],
   "source": [
    "from scipy.stats import ttest_ind\n",
    "z_score, p_value = ttest_ind(total_salary,nods)\n",
    "print('The z-score is',z_score)\n",
    "print('The p-value is', p_value)"
   ]
  },
  {
   "cell_type": "markdown",
   "metadata": {
    "id": "s23qLeaTbwTy"
   },
   "source": [
    "\n",
    "### The p-value for 'Z-Test' is around $0.0024 < \\alpha $, that means the result has 'Statistical Significance'. So, we have enough evidence to reject the null hypothesis. That means the mean salary of Microsoft employees for the Hyderabad and Bangalore are different. But, the 't-Test' gives the opposite result, thus lets compare it with the actual data."
   ]
  },
  {
   "cell_type": "code",
   "execution_count": 63,
   "metadata": {
    "colab": {
     "base_uri": "https://localhost:8080/",
     "height": 350
    },
    "id": "Bcw4v3tkbwTy",
    "outputId": "9758a228-7627-48b2-f068-a9b1abafe9ba",
    "scrolled": false
   },
   "outputs": [
    {
     "data": {
      "image/png": "[encoded data removed]",
      "text/plain": [
       "<Figure size 576x360 with 1 Axes>"
      ]
     },
     "metadata": {
      "needs_background": "light"
     },
     "output_type": "display_data"
    }
   ],
   "source": [
    "sns.boxplot(x ='Location', y='Salary', data=D33)\n",
    "plt.rcParams['figure.figsize'] = [8,5]\n",
    "plt.title('Microsoft paying in Hyderabad vs Bangalore')\n",
    "plt.show()"
   ]
  },
  {
   "cell_type": "markdown",
   "metadata": {
    "id": "AY7TTPLtbwTy"
   },
   "source": [
    "The box-plot clearly shows that the median salary of Microsoft employees in Hyderabad is more than that of Bangalore. This, is what the 'Two-Sample Z-Test' predicted. Thus, the results predicted by the 't-Test' is not correct. Lets next look at how the distributions look at such less sample size."
   ]
  },
  {
   "cell_type": "code",
   "execution_count": 64,
   "metadata": {
    "colab": {
     "base_uri": "https://localhost:8080/",
     "height": 350
    },
    "id": "NxlDXSGsbwTy",
    "outputId": "49689a14-ed24-44a8-8889-20c0e6d0ccb1"
   },
   "outputs": [
    {
     "data": {
      "image/png": "[encoded data removed]",
      "text/plain": [
       "<Figure size 576x360 with 1 Axes>"
      ]
     },
     "metadata": {
      "needs_background": "light"
     },
     "output_type": "display_data"
    }
   ],
   "source": [
    "sns.distplot(x11, label='Bangalore', hist=False)\n",
    "sns.distplot(x12, label='Hyderabad', hist=False)\n",
    "plt.rcParams['figure.figsize'] = [8,5]\n",
    "plt.title('Salary distribution of Banglore and Hyderabad')\n",
    "plt.legend()\n",
    "plt.show()"
   ]
  },
  {
   "cell_type": "markdown",
   "metadata": {
    "id": "bm42eRVBbwTz"
   },
   "source": [
    "### Result:\n",
    "### We, accept the hypothesis that the Microsoft employees living in Hyderabad are being paid more than Bangalore. Although, the sample size is small but still it distributions are Normal, and 'Z-Test' holds well."
   ]
  },
  {
   "cell_type": "markdown",
   "metadata": {
    "id": "jSV3KldTbwTz"
   },
   "source": [
    "# Pearson's Correlation Coefficient Matrix"
   ]
  },
  {
   "cell_type": "markdown",
   "metadata": {
    "id": "oGHeJ-tnbwTz"
   },
   "source": [
    "The Pearson's Correlation Coefficient only reflects the 'Linear' relationship between the two continuous variables. Here, in this dataframe we have only three such features that are continuous namely: Salary, Rating and Salary reported. Lets find out the correlation coeffcient matrices of three such combinations."
   ]
  },
  {
   "cell_type": "markdown",
   "metadata": {
    "id": "HVfy94VgbwTz"
   },
   "source": [
    "## 1.Salary vs Rating"
   ]
  },
  {
   "cell_type": "code",
   "execution_count": 65,
   "metadata": {
    "colab": {
     "base_uri": "https://localhost:8080/"
    },
    "id": "ZIKC2-cZbwTz",
    "outputId": "c5b5bb21-a708-419d-b46c-458bf5e38a87"
   },
   "outputs": [
    {
     "data": {
      "text/plain": [
       "array([[1.        , 0.04779641],\n",
       "       [0.04779641, 1.        ]])"
      ]
     },
     "execution_count": 65,
     "metadata": {},
     "output_type": "execute_result"
    }
   ],
   "source": [
    "np.corrcoef(np.log(df['Salary']),np.log(df['Rating']))"
   ]
  },
  {
   "cell_type": "code",
   "execution_count": 66,
   "metadata": {
    "colab": {
     "base_uri": "https://localhost:8080/",
     "height": 404
    },
    "id": "IVwYhUFqbwTz",
    "outputId": "cbbeb4a5-7fe5-40ea-b802-9825018a25b7",
    "scrolled": false
   },
   "outputs": [
    {
     "data": {
      "image/png": "[encoded data removed]",
      "text/plain": [
       "<Figure size 576x360 with 1 Axes>"
      ]
     },
     "metadata": {
      "needs_background": "light"
     },
     "output_type": "display_data"
    }
   ],
   "source": [
    "plt.scatter(np.log(df['Rating']),np.log(df['Salary']))\n",
    "plt.rcParams['figure.figsize'] = [14,6]\n",
    "plt.xlabel('Rating')\n",
    "plt.ylabel('Salary')\n",
    "plt.title('Scatter-plot of Salary vs Rating')\n",
    "plt.show()"
   ]
  },
  {
   "cell_type": "markdown",
   "metadata": {
    "id": "O-RfhrDXbwT0"
   },
   "source": [
    "### Conclusion:\n",
    "As, correlation coefficient is very low, thus it does not show any linear relationship. For some regions its linear up and others its linear down. In some regions it shows how the 'Salary' increases by keeping the 'Rating' constant and vice versa. Thus, in total there is no significant correlation. "
   ]
  },
  {
   "cell_type": "markdown",
   "metadata": {
    "id": "IxnHZBzgbwT0"
   },
   "source": [
    "## 2.Salary vs Salaries Reported"
   ]
  },
  {
   "cell_type": "code",
   "execution_count": 67,
   "metadata": {
    "colab": {
     "base_uri": "https://localhost:8080/"
    },
    "id": "O5WQkdfFbwT0",
    "outputId": "59a56a31-63d7-42ec-8ba4-2513dda92a20"
   },
   "outputs": [
    {
     "data": {
      "text/plain": [
       "array([[ 1.        , -0.01852447],\n",
       "       [-0.01852447,  1.        ]])"
      ]
     },
     "execution_count": 67,
     "metadata": {},
     "output_type": "execute_result"
    }
   ],
   "source": [
    "np.corrcoef(np.log(df['Salary']),np.log(df['Salaries Reported']))"
   ]
  },
  {
   "cell_type": "code",
   "execution_count": 68,
   "metadata": {
    "colab": {
     "base_uri": "https://localhost:8080/",
     "height": 404
    },
    "id": "iwamBPXZbwT0",
    "outputId": "99ec5f34-1cd4-4910-df0d-d7a6ba9e6607",
    "scrolled": false
   },
   "outputs": [
    {
     "data": {
      "image/png": "[encoded data removed]",
      "text/plain": [
       "<Figure size 1008x432 with 1 Axes>"
      ]
     },
     "metadata": {
      "needs_background": "light"
     },
     "output_type": "display_data"
    }
   ],
   "source": [
    "plt.scatter(np.log(df['Salary']),np.log(df['Salaries Reported']))\n",
    "plt.rcParams['figure.figsize'] = [14,6]\n",
    "plt.xlabel('Salaries Reported')\n",
    "plt.ylabel('Salary')\n",
    "plt.title('Scatter-plot of Salary vs Salaries Reported')\n",
    "plt.show()"
   ]
  },
  {
   "cell_type": "markdown",
   "metadata": {
    "id": "OU90mHYWbwT0"
   },
   "source": [
    "### Conclusion:\n",
    "Here the Correlation Coefficient is negetive but very small, so there is no linear behaviour between them. By looking at the plot, we can see in many case when 'salary Reported' increases keeping the 'Salary' constant and vice-versa. This also supports the idea that they don't have much coreelation. "
   ]
  },
  {
   "cell_type": "markdown",
   "metadata": {
    "id": "WUVXYxv6bwT0"
   },
   "source": [
    "## 3.Rating vs Salaries Reported"
   ]
  },
  {
   "cell_type": "code",
   "execution_count": 69,
   "metadata": {
    "colab": {
     "base_uri": "https://localhost:8080/"
    },
    "id": "vbdv6JtPbwT0",
    "outputId": "508a81de-da1f-4580-f13d-9405d712178e"
   },
   "outputs": [
    {
     "data": {
      "text/plain": [
       "array([[1.        , 0.02091221],\n",
       "       [0.02091221, 1.        ]])"
      ]
     },
     "execution_count": 69,
     "metadata": {},
     "output_type": "execute_result"
    }
   ],
   "source": [
    "np.corrcoef(np.log(df['Rating']),np.log(df['Salaries Reported']))"
   ]
  },
  {
   "cell_type": "code",
   "execution_count": 70,
   "metadata": {
    "colab": {
     "base_uri": "https://localhost:8080/",
     "height": 404
    },
    "id": "O9rXobpTbwT1",
    "outputId": "44ddba95-57b9-46ae-caa1-6335af6ff005",
    "scrolled": false
   },
   "outputs": [
    {
     "data": {
      "image/png": "[encoded data removed]",
      "text/plain": [
       "<Figure size 1008x432 with 1 Axes>"
      ]
     },
     "metadata": {
      "needs_background": "light"
     },
     "output_type": "display_data"
    }
   ],
   "source": [
    "plt.scatter(np.log(df['Rating']),np.log(df['Salaries Reported']))\n",
    "plt.rcParams['figure.figsize'] = [14,6]\n",
    "plt.xlabel('Salaries Reported')\n",
    "plt.ylabel('Rating')\n",
    "plt.title('Scatter-plot of Rating vs Salaries Reported')\n",
    "plt.show()"
   ]
  },
  {
   "cell_type": "markdown",
   "metadata": {
    "id": "ThZ1EMM0bwT1"
   },
   "source": [
    "### Conclusion:\n",
    "Here, the Correlation Coefficient is positive but very small, thus no linear trend is expected. This is also reflected in the scatter-plot, as when the 'Rating' increases, the 'Salaries Reported' remains same and vice versa. "
   ]
  },
  {
   "cell_type": "markdown",
   "metadata": {},
   "source": [
    "# Some extra insights"
   ]
  },
  {
   "cell_type": "markdown",
   "metadata": {},
   "source": [
    "## Location"
   ]
  },
  {
   "cell_type": "code",
   "execution_count": 71,
   "metadata": {},
   "outputs": [
    {
     "data": {
      "text/html": [
       "<div>\n",
       "<style scoped>\n",
       "    .dataframe tbody tr th:only-of-type {\n",
       "        vertical-align: middle;\n",
       "    }\n",
       "\n",
       "    .dataframe tbody tr th {\n",
       "        vertical-align: top;\n",
       "    }\n",
       "\n",
       "    .dataframe thead th {\n",
       "        text-align: right;\n",
       "    }\n",
       "</style>\n",
       "<table border=\"1\" class=\"dataframe\">\n",
       "  <thead>\n",
       "    <tr style=\"text-align: right;\">\n",
       "      <th></th>\n",
       "      <th>Salary</th>\n",
       "    </tr>\n",
       "  </thead>\n",
       "  <tbody>\n",
       "    <tr>\n",
       "      <th>count</th>\n",
       "      <td>8.227000e+03</td>\n",
       "    </tr>\n",
       "    <tr>\n",
       "      <th>mean</th>\n",
       "      <td>7.365826e+05</td>\n",
       "    </tr>\n",
       "    <tr>\n",
       "      <th>std</th>\n",
       "      <td>6.846221e+05</td>\n",
       "    </tr>\n",
       "    <tr>\n",
       "      <th>min</th>\n",
       "      <td>2.112000e+03</td>\n",
       "    </tr>\n",
       "    <tr>\n",
       "      <th>25%</th>\n",
       "      <td>3.000000e+05</td>\n",
       "    </tr>\n",
       "    <tr>\n",
       "      <th>50%</th>\n",
       "      <td>5.000000e+05</td>\n",
       "    </tr>\n",
       "    <tr>\n",
       "      <th>75%</th>\n",
       "      <td>1.000000e+06</td>\n",
       "    </tr>\n",
       "    <tr>\n",
       "      <th>max</th>\n",
       "      <td>1.000000e+07</td>\n",
       "    </tr>\n",
       "  </tbody>\n",
       "</table>\n",
       "</div>"
      ],
      "text/plain": [
       "             Salary\n",
       "count  8.227000e+03\n",
       "mean   7.365826e+05\n",
       "std    6.846221e+05\n",
       "min    2.112000e+03\n",
       "25%    3.000000e+05\n",
       "50%    5.000000e+05\n",
       "75%    1.000000e+06\n",
       "max    1.000000e+07"
      ]
     },
     "execution_count": 71,
     "metadata": {},
     "output_type": "execute_result"
    }
   ],
   "source": [
    "tyt1 = df[df['Location'].isin(['Bangalore'])].Salary.describe()\n",
    "pd.DataFrame(tyt1)"
   ]
  },
  {
   "cell_type": "code",
   "execution_count": 72,
   "metadata": {},
   "outputs": [
    {
     "data": {
      "text/html": [
       "<div>\n",
       "<style scoped>\n",
       "    .dataframe tbody tr th:only-of-type {\n",
       "        vertical-align: middle;\n",
       "    }\n",
       "\n",
       "    .dataframe tbody tr th {\n",
       "        vertical-align: top;\n",
       "    }\n",
       "\n",
       "    .dataframe thead th {\n",
       "        text-align: right;\n",
       "    }\n",
       "</style>\n",
       "<table border=\"1\" class=\"dataframe\">\n",
       "  <thead>\n",
       "    <tr style=\"text-align: right;\">\n",
       "      <th></th>\n",
       "      <th>Salary</th>\n",
       "    </tr>\n",
       "  </thead>\n",
       "  <tbody>\n",
       "    <tr>\n",
       "      <th>count</th>\n",
       "      <td>7.460000e+02</td>\n",
       "    </tr>\n",
       "    <tr>\n",
       "      <th>mean</th>\n",
       "      <td>9.616945e+05</td>\n",
       "    </tr>\n",
       "    <tr>\n",
       "      <th>std</th>\n",
       "      <td>8.456556e+05</td>\n",
       "    </tr>\n",
       "    <tr>\n",
       "      <th>min</th>\n",
       "      <td>1.200000e+04</td>\n",
       "    </tr>\n",
       "    <tr>\n",
       "      <th>25%</th>\n",
       "      <td>4.000000e+05</td>\n",
       "    </tr>\n",
       "    <tr>\n",
       "      <th>50%</th>\n",
       "      <td>7.040000e+05</td>\n",
       "    </tr>\n",
       "    <tr>\n",
       "      <th>75%</th>\n",
       "      <td>1.200000e+06</td>\n",
       "    </tr>\n",
       "    <tr>\n",
       "      <th>max</th>\n",
       "      <td>9.800000e+06</td>\n",
       "    </tr>\n",
       "  </tbody>\n",
       "</table>\n",
       "</div>"
      ],
      "text/plain": [
       "             Salary\n",
       "count  7.460000e+02\n",
       "mean   9.616945e+05\n",
       "std    8.456556e+05\n",
       "min    1.200000e+04\n",
       "25%    4.000000e+05\n",
       "50%    7.040000e+05\n",
       "75%    1.200000e+06\n",
       "max    9.800000e+06"
      ]
     },
     "execution_count": 72,
     "metadata": {},
     "output_type": "execute_result"
    }
   ],
   "source": [
    "tyt2 = df[df['Location'].isin(['Mumbai'])].Salary.describe()\n",
    "pd.DataFrame(tyt2)"
   ]
  },
  {
   "cell_type": "code",
   "execution_count": 73,
   "metadata": {},
   "outputs": [
    {
     "data": {
      "text/html": [
       "<div>\n",
       "<style scoped>\n",
       "    .dataframe tbody tr th:only-of-type {\n",
       "        vertical-align: middle;\n",
       "    }\n",
       "\n",
       "    .dataframe tbody tr th {\n",
       "        vertical-align: top;\n",
       "    }\n",
       "\n",
       "    .dataframe thead th {\n",
       "        text-align: right;\n",
       "    }\n",
       "</style>\n",
       "<table border=\"1\" class=\"dataframe\">\n",
       "  <thead>\n",
       "    <tr style=\"text-align: right;\">\n",
       "      <th></th>\n",
       "      <th>Salary</th>\n",
       "    </tr>\n",
       "  </thead>\n",
       "  <tbody>\n",
       "    <tr>\n",
       "      <th>count</th>\n",
       "      <td>8.000000e+01</td>\n",
       "    </tr>\n",
       "    <tr>\n",
       "      <th>mean</th>\n",
       "      <td>6.347500e+05</td>\n",
       "    </tr>\n",
       "    <tr>\n",
       "      <th>std</th>\n",
       "      <td>4.758409e+05</td>\n",
       "    </tr>\n",
       "    <tr>\n",
       "      <th>min</th>\n",
       "      <td>3.600000e+04</td>\n",
       "    </tr>\n",
       "    <tr>\n",
       "      <th>25%</th>\n",
       "      <td>3.000000e+05</td>\n",
       "    </tr>\n",
       "    <tr>\n",
       "      <th>50%</th>\n",
       "      <td>5.000000e+05</td>\n",
       "    </tr>\n",
       "    <tr>\n",
       "      <th>75%</th>\n",
       "      <td>8.250000e+05</td>\n",
       "    </tr>\n",
       "    <tr>\n",
       "      <th>max</th>\n",
       "      <td>2.500000e+06</td>\n",
       "    </tr>\n",
       "  </tbody>\n",
       "</table>\n",
       "</div>"
      ],
      "text/plain": [
       "             Salary\n",
       "count  8.000000e+01\n",
       "mean   6.347500e+05\n",
       "std    4.758409e+05\n",
       "min    3.600000e+04\n",
       "25%    3.000000e+05\n",
       "50%    5.000000e+05\n",
       "75%    8.250000e+05\n",
       "max    2.500000e+06"
      ]
     },
     "execution_count": 73,
     "metadata": {},
     "output_type": "execute_result"
    }
   ],
   "source": [
    "tyt3 = df[df['Location'].isin(['Jaipur'])].Salary.describe()\n",
    "pd.DataFrame(tyt3)"
   ]
  },
  {
   "cell_type": "code",
   "execution_count": 74,
   "metadata": {
    "scrolled": true
   },
   "outputs": [
    {
     "data": {
      "text/html": [
       "<div>\n",
       "<style scoped>\n",
       "    .dataframe tbody tr th:only-of-type {\n",
       "        vertical-align: middle;\n",
       "    }\n",
       "\n",
       "    .dataframe tbody tr th {\n",
       "        vertical-align: top;\n",
       "    }\n",
       "\n",
       "    .dataframe thead th {\n",
       "        text-align: right;\n",
       "    }\n",
       "</style>\n",
       "<table border=\"1\" class=\"dataframe\">\n",
       "  <thead>\n",
       "    <tr style=\"text-align: right;\">\n",
       "      <th></th>\n",
       "      <th>Salary</th>\n",
       "    </tr>\n",
       "  </thead>\n",
       "  <tbody>\n",
       "    <tr>\n",
       "      <th>count</th>\n",
       "      <td>2.437000e+03</td>\n",
       "    </tr>\n",
       "    <tr>\n",
       "      <th>mean</th>\n",
       "      <td>5.871857e+05</td>\n",
       "    </tr>\n",
       "    <tr>\n",
       "      <th>std</th>\n",
       "      <td>5.450216e+05</td>\n",
       "    </tr>\n",
       "    <tr>\n",
       "      <th>min</th>\n",
       "      <td>1.200000e+04</td>\n",
       "    </tr>\n",
       "    <tr>\n",
       "      <th>25%</th>\n",
       "      <td>2.520000e+05</td>\n",
       "    </tr>\n",
       "    <tr>\n",
       "      <th>50%</th>\n",
       "      <td>4.000000e+05</td>\n",
       "    </tr>\n",
       "    <tr>\n",
       "      <th>75%</th>\n",
       "      <td>7.000000e+05</td>\n",
       "    </tr>\n",
       "    <tr>\n",
       "      <th>max</th>\n",
       "      <td>1.000000e+07</td>\n",
       "    </tr>\n",
       "  </tbody>\n",
       "</table>\n",
       "</div>"
      ],
      "text/plain": [
       "             Salary\n",
       "count  2.437000e+03\n",
       "mean   5.871857e+05\n",
       "std    5.450216e+05\n",
       "min    1.200000e+04\n",
       "25%    2.520000e+05\n",
       "50%    4.000000e+05\n",
       "75%    7.000000e+05\n",
       "max    1.000000e+07"
      ]
     },
     "execution_count": 74,
     "metadata": {},
     "output_type": "execute_result"
    }
   ],
   "source": [
    "tyt4 = df[df['Location'].isin(['Chennai'])].Salary.describe()\n",
    "pd.DataFrame(tyt4)"
   ]
  },
  {
   "cell_type": "markdown",
   "metadata": {},
   "source": [
    " ### Region Wise insights:\n",
    " \n",
    "1. Most of the developers live in Bangalore and with a median salary of 5 LPA.\n",
    "2.  Mumbai is the city with the highest median salary of 7 LPA.\n",
    "3. Jaipur is the place where least developers leave with also a median salary of 5 LPA.\n",
    "4. Chennai is the place with the lowest median salary of 4 LPA.\n"
   ]
  },
  {
   "cell_type": "markdown",
   "metadata": {},
   "source": [
    "## Job Roles"
   ]
  },
  {
   "cell_type": "code",
   "execution_count": 75,
   "metadata": {},
   "outputs": [
    {
     "data": {
      "text/html": [
       "<div>\n",
       "<style scoped>\n",
       "    .dataframe tbody tr th:only-of-type {\n",
       "        vertical-align: middle;\n",
       "    }\n",
       "\n",
       "    .dataframe tbody tr th {\n",
       "        vertical-align: top;\n",
       "    }\n",
       "\n",
       "    .dataframe thead th {\n",
       "        text-align: right;\n",
       "    }\n",
       "</style>\n",
       "<table border=\"1\" class=\"dataframe\">\n",
       "  <thead>\n",
       "    <tr style=\"text-align: right;\">\n",
       "      <th></th>\n",
       "      <th>Salary</th>\n",
       "    </tr>\n",
       "  </thead>\n",
       "  <tbody>\n",
       "    <tr>\n",
       "      <th>count</th>\n",
       "      <td>8.151000e+03</td>\n",
       "    </tr>\n",
       "    <tr>\n",
       "      <th>mean</th>\n",
       "      <td>8.551023e+05</td>\n",
       "    </tr>\n",
       "    <tr>\n",
       "      <th>std</th>\n",
       "      <td>1.234722e+06</td>\n",
       "    </tr>\n",
       "    <tr>\n",
       "      <th>min</th>\n",
       "      <td>1.200000e+04</td>\n",
       "    </tr>\n",
       "    <tr>\n",
       "      <th>25%</th>\n",
       "      <td>3.870000e+05</td>\n",
       "    </tr>\n",
       "    <tr>\n",
       "      <th>50%</th>\n",
       "      <td>6.720000e+05</td>\n",
       "    </tr>\n",
       "    <tr>\n",
       "      <th>75%</th>\n",
       "      <td>1.100000e+06</td>\n",
       "    </tr>\n",
       "    <tr>\n",
       "      <th>max</th>\n",
       "      <td>9.000000e+07</td>\n",
       "    </tr>\n",
       "  </tbody>\n",
       "</table>\n",
       "</div>"
      ],
      "text/plain": [
       "             Salary\n",
       "count  8.151000e+03\n",
       "mean   8.551023e+05\n",
       "std    1.234722e+06\n",
       "min    1.200000e+04\n",
       "25%    3.870000e+05\n",
       "50%    6.720000e+05\n",
       "75%    1.100000e+06\n",
       "max    9.000000e+07"
      ]
     },
     "execution_count": 75,
     "metadata": {},
     "output_type": "execute_result"
    }
   ],
   "source": [
    "tyt5 = df[df['Job Roles'].isin(['SDE'])].Salary.describe()\n",
    "pd.DataFrame(tyt5)"
   ]
  },
  {
   "cell_type": "code",
   "execution_count": 119,
   "metadata": {},
   "outputs": [
    {
     "data": {
      "image/png": "[encoded data removed]",
      "text/plain": [
       "<Figure size 1008x576 with 1 Axes>"
      ]
     },
     "metadata": {
      "needs_background": "light"
     },
     "output_type": "display_data"
    }
   ],
   "source": [
    "sns.boxplot(x='Job Roles',y='Salary',data=DF)\n",
    "plt.rcParams['figure.figsize'] = [14,8]\n",
    "plt.title('Job roles vs Salary')\n",
    "plt.show()"
   ]
  },
  {
   "cell_type": "code",
   "execution_count": 77,
   "metadata": {},
   "outputs": [
    {
     "data": {
      "text/html": [
       "<div>\n",
       "<style scoped>\n",
       "    .dataframe tbody tr th:only-of-type {\n",
       "        vertical-align: middle;\n",
       "    }\n",
       "\n",
       "    .dataframe tbody tr th {\n",
       "        vertical-align: top;\n",
       "    }\n",
       "\n",
       "    .dataframe thead th {\n",
       "        text-align: right;\n",
       "    }\n",
       "</style>\n",
       "<table border=\"1\" class=\"dataframe\">\n",
       "  <thead>\n",
       "    <tr style=\"text-align: right;\">\n",
       "      <th></th>\n",
       "      <th>Salary</th>\n",
       "    </tr>\n",
       "  </thead>\n",
       "  <tbody>\n",
       "    <tr>\n",
       "      <th>count</th>\n",
       "      <td>8.630000e+02</td>\n",
       "    </tr>\n",
       "    <tr>\n",
       "      <th>mean</th>\n",
       "      <td>9.596468e+05</td>\n",
       "    </tr>\n",
       "    <tr>\n",
       "      <th>std</th>\n",
       "      <td>8.158439e+05</td>\n",
       "    </tr>\n",
       "    <tr>\n",
       "      <th>min</th>\n",
       "      <td>1.000000e+05</td>\n",
       "    </tr>\n",
       "    <tr>\n",
       "      <th>25%</th>\n",
       "      <td>5.000000e+05</td>\n",
       "    </tr>\n",
       "    <tr>\n",
       "      <th>50%</th>\n",
       "      <td>7.000000e+05</td>\n",
       "    </tr>\n",
       "    <tr>\n",
       "      <th>75%</th>\n",
       "      <td>1.200000e+06</td>\n",
       "    </tr>\n",
       "    <tr>\n",
       "      <th>max</th>\n",
       "      <td>1.000000e+07</td>\n",
       "    </tr>\n",
       "  </tbody>\n",
       "</table>\n",
       "</div>"
      ],
      "text/plain": [
       "             Salary\n",
       "count  8.630000e+02\n",
       "mean   9.596468e+05\n",
       "std    8.158439e+05\n",
       "min    1.000000e+05\n",
       "25%    5.000000e+05\n",
       "50%    7.000000e+05\n",
       "75%    1.200000e+06\n",
       "max    1.000000e+07"
      ]
     },
     "execution_count": 77,
     "metadata": {},
     "output_type": "execute_result"
    }
   ],
   "source": [
    "tyt6 = df[df['Job Roles'].isin(['Database'])].Salary.describe()\n",
    "pd.DataFrame(tyt6)"
   ]
  },
  {
   "cell_type": "code",
   "execution_count": 78,
   "metadata": {},
   "outputs": [
    {
     "data": {
      "text/html": [
       "<div>\n",
       "<style scoped>\n",
       "    .dataframe tbody tr th:only-of-type {\n",
       "        vertical-align: middle;\n",
       "    }\n",
       "\n",
       "    .dataframe tbody tr th {\n",
       "        vertical-align: top;\n",
       "    }\n",
       "\n",
       "    .dataframe thead th {\n",
       "        text-align: right;\n",
       "    }\n",
       "</style>\n",
       "<table border=\"1\" class=\"dataframe\">\n",
       "  <thead>\n",
       "    <tr style=\"text-align: right;\">\n",
       "      <th></th>\n",
       "      <th>Salary</th>\n",
       "    </tr>\n",
       "  </thead>\n",
       "  <tbody>\n",
       "    <tr>\n",
       "      <th>count</th>\n",
       "      <td>1.190000e+03</td>\n",
       "    </tr>\n",
       "    <tr>\n",
       "      <th>mean</th>\n",
       "      <td>7.494241e+05</td>\n",
       "    </tr>\n",
       "    <tr>\n",
       "      <th>std</th>\n",
       "      <td>7.286335e+05</td>\n",
       "    </tr>\n",
       "    <tr>\n",
       "      <th>min</th>\n",
       "      <td>2.400000e+04</td>\n",
       "    </tr>\n",
       "    <tr>\n",
       "      <th>25%</th>\n",
       "      <td>2.550000e+05</td>\n",
       "    </tr>\n",
       "    <tr>\n",
       "      <th>50%</th>\n",
       "      <td>5.000000e+05</td>\n",
       "    </tr>\n",
       "    <tr>\n",
       "      <th>75%</th>\n",
       "      <td>1.000000e+06</td>\n",
       "    </tr>\n",
       "    <tr>\n",
       "      <th>max</th>\n",
       "      <td>5.200000e+06</td>\n",
       "    </tr>\n",
       "  </tbody>\n",
       "</table>\n",
       "</div>"
      ],
      "text/plain": [
       "             Salary\n",
       "count  1.190000e+03\n",
       "mean   7.494241e+05\n",
       "std    7.286335e+05\n",
       "min    2.400000e+04\n",
       "25%    2.550000e+05\n",
       "50%    5.000000e+05\n",
       "75%    1.000000e+06\n",
       "max    5.200000e+06"
      ]
     },
     "execution_count": 78,
     "metadata": {},
     "output_type": "execute_result"
    }
   ],
   "source": [
    "tyt7 = df[df['Job Roles'].isin(['Backend'])].Salary.describe()\n",
    "pd.DataFrame(tyt7)"
   ]
  },
  {
   "cell_type": "code",
   "execution_count": 79,
   "metadata": {},
   "outputs": [
    {
     "data": {
      "text/html": [
       "<div>\n",
       "<style scoped>\n",
       "    .dataframe tbody tr th:only-of-type {\n",
       "        vertical-align: middle;\n",
       "    }\n",
       "\n",
       "    .dataframe tbody tr th {\n",
       "        vertical-align: top;\n",
       "    }\n",
       "\n",
       "    .dataframe thead th {\n",
       "        text-align: right;\n",
       "    }\n",
       "</style>\n",
       "<table border=\"1\" class=\"dataframe\">\n",
       "  <thead>\n",
       "    <tr style=\"text-align: right;\">\n",
       "      <th></th>\n",
       "      <th>Salary</th>\n",
       "    </tr>\n",
       "  </thead>\n",
       "  <tbody>\n",
       "    <tr>\n",
       "      <th>count</th>\n",
       "      <td>9.930000e+02</td>\n",
       "    </tr>\n",
       "    <tr>\n",
       "      <th>mean</th>\n",
       "      <td>4.164758e+05</td>\n",
       "    </tr>\n",
       "    <tr>\n",
       "      <th>std</th>\n",
       "      <td>3.598394e+05</td>\n",
       "    </tr>\n",
       "    <tr>\n",
       "      <th>min</th>\n",
       "      <td>2.112000e+03</td>\n",
       "    </tr>\n",
       "    <tr>\n",
       "      <th>25%</th>\n",
       "      <td>2.000000e+05</td>\n",
       "    </tr>\n",
       "    <tr>\n",
       "      <th>50%</th>\n",
       "      <td>3.000000e+05</td>\n",
       "    </tr>\n",
       "    <tr>\n",
       "      <th>75%</th>\n",
       "      <td>5.000000e+05</td>\n",
       "    </tr>\n",
       "    <tr>\n",
       "      <th>max</th>\n",
       "      <td>4.400000e+06</td>\n",
       "    </tr>\n",
       "  </tbody>\n",
       "</table>\n",
       "</div>"
      ],
      "text/plain": [
       "             Salary\n",
       "count  9.930000e+02\n",
       "mean   4.164758e+05\n",
       "std    3.598394e+05\n",
       "min    2.112000e+03\n",
       "25%    2.000000e+05\n",
       "50%    3.000000e+05\n",
       "75%    5.000000e+05\n",
       "max    4.400000e+06"
      ]
     },
     "execution_count": 79,
     "metadata": {},
     "output_type": "execute_result"
    }
   ],
   "source": [
    "tyt8 = df[df['Job Roles'].isin(['Web'])].Salary.describe()\n",
    "pd.DataFrame(tyt8)"
   ]
  },
  {
   "cell_type": "markdown",
   "metadata": {},
   "source": [
    "### Job Roles wise insights:\n",
    "1. Developers working on Database have the highest median salary of 7 LPA, with the least variance. They are among the most highly paid developers.\n",
    "2. Most of the developers work as SDEs with a median salary of 6.7 LPA, which is also the 2nd highest salary.\n",
    "3. Backend developers have quite spread salary distribution, this also the situation for Mobile developers.\n",
    "4. Web developers have the lowest median salary of 3 LPA."
   ]
  },
  {
   "cell_type": "markdown",
   "metadata": {},
   "source": [
    "## Company"
   ]
  },
  {
   "cell_type": "code",
   "execution_count": 112,
   "metadata": {},
   "outputs": [
    {
     "data": {
      "text/html": [
       "<div>\n",
       "<style scoped>\n",
       "    .dataframe tbody tr th:only-of-type {\n",
       "        vertical-align: middle;\n",
       "    }\n",
       "\n",
       "    .dataframe tbody tr th {\n",
       "        vertical-align: top;\n",
       "    }\n",
       "\n",
       "    .dataframe thead th {\n",
       "        text-align: right;\n",
       "    }\n",
       "</style>\n",
       "<table border=\"1\" class=\"dataframe\">\n",
       "  <thead>\n",
       "    <tr style=\"text-align: right;\">\n",
       "      <th></th>\n",
       "      <th>Salary</th>\n",
       "    </tr>\n",
       "  </thead>\n",
       "  <tbody>\n",
       "    <tr>\n",
       "      <th>count</th>\n",
       "      <td>3.130000e+02</td>\n",
       "    </tr>\n",
       "    <tr>\n",
       "      <th>mean</th>\n",
       "      <td>5.023035e+05</td>\n",
       "    </tr>\n",
       "    <tr>\n",
       "      <th>std</th>\n",
       "      <td>5.457402e+05</td>\n",
       "    </tr>\n",
       "    <tr>\n",
       "      <th>min</th>\n",
       "      <td>2.400000e+04</td>\n",
       "    </tr>\n",
       "    <tr>\n",
       "      <th>25%</th>\n",
       "      <td>2.880000e+05</td>\n",
       "    </tr>\n",
       "    <tr>\n",
       "      <th>50%</th>\n",
       "      <td>4.000000e+05</td>\n",
       "    </tr>\n",
       "    <tr>\n",
       "      <th>75%</th>\n",
       "      <td>6.000000e+05</td>\n",
       "    </tr>\n",
       "    <tr>\n",
       "      <th>max</th>\n",
       "      <td>8.000000e+06</td>\n",
       "    </tr>\n",
       "  </tbody>\n",
       "</table>\n",
       "</div>"
      ],
      "text/plain": [
       "             Salary\n",
       "count  3.130000e+02\n",
       "mean   5.023035e+05\n",
       "std    5.457402e+05\n",
       "min    2.400000e+04\n",
       "25%    2.880000e+05\n",
       "50%    4.000000e+05\n",
       "75%    6.000000e+05\n",
       "max    8.000000e+06"
      ]
     },
     "execution_count": 112,
     "metadata": {},
     "output_type": "execute_result"
    }
   ],
   "source": [
    "tyt9 = df[df['Company Name'].isin(['TCS'])].Salary.describe()\n",
    "pd.DataFrame(tyt9)"
   ]
  },
  {
   "cell_type": "code",
   "execution_count": 81,
   "metadata": {},
   "outputs": [
    {
     "data": {
      "text/plain": [
       "Index(['TCS', 'Infosys', 'Amazon', 'Cognizant', 'Accenture', 'IBM', 'HCL',\n",
       "       'Wipro', 'Capgemini', 'Microsoft'],\n",
       "      dtype='object')"
      ]
     },
     "execution_count": 81,
     "metadata": {},
     "output_type": "execute_result"
    }
   ],
   "source": [
    "ddee.index"
   ]
  },
  {
   "cell_type": "code",
   "execution_count": 98,
   "metadata": {},
   "outputs": [],
   "source": [
    "DFi = DF[DF['Company Name'].isin(ddee.index)]"
   ]
  },
  {
   "cell_type": "code",
   "execution_count": 88,
   "metadata": {},
   "outputs": [
    {
     "data": {
      "image/png": "[encoded data removed]",
      "text/plain": [
       "<Figure size 1152x504 with 1 Axes>"
      ]
     },
     "metadata": {
      "needs_background": "light"
     },
     "output_type": "display_data"
    }
   ],
   "source": [
    "sns.boxplot(x='Company Name', y='Salary', data=DFi)\n",
    "plt.rcParams['figure.figsize'] = [16,7]\n",
    "plt.title('Comapnies vs Salary')\n",
    "plt.show()"
   ]
  },
  {
   "cell_type": "code",
   "execution_count": 114,
   "metadata": {},
   "outputs": [
    {
     "data": {
      "text/html": [
       "<div>\n",
       "<style scoped>\n",
       "    .dataframe tbody tr th:only-of-type {\n",
       "        vertical-align: middle;\n",
       "    }\n",
       "\n",
       "    .dataframe tbody tr th {\n",
       "        vertical-align: top;\n",
       "    }\n",
       "\n",
       "    .dataframe thead th {\n",
       "        text-align: right;\n",
       "    }\n",
       "</style>\n",
       "<table border=\"1\" class=\"dataframe\">\n",
       "  <thead>\n",
       "    <tr style=\"text-align: right;\">\n",
       "      <th></th>\n",
       "      <th>Salary</th>\n",
       "    </tr>\n",
       "  </thead>\n",
       "  <tbody>\n",
       "    <tr>\n",
       "      <th>count</th>\n",
       "      <td>9.600000e+01</td>\n",
       "    </tr>\n",
       "    <tr>\n",
       "      <th>mean</th>\n",
       "      <td>1.444882e+06</td>\n",
       "    </tr>\n",
       "    <tr>\n",
       "      <th>std</th>\n",
       "      <td>9.745901e+05</td>\n",
       "    </tr>\n",
       "    <tr>\n",
       "      <th>min</th>\n",
       "      <td>1.200000e+04</td>\n",
       "    </tr>\n",
       "    <tr>\n",
       "      <th>25%</th>\n",
       "      <td>6.810000e+05</td>\n",
       "    </tr>\n",
       "    <tr>\n",
       "      <th>50%</th>\n",
       "      <td>1.200000e+06</td>\n",
       "    </tr>\n",
       "    <tr>\n",
       "      <th>75%</th>\n",
       "      <td>2.025000e+06</td>\n",
       "    </tr>\n",
       "    <tr>\n",
       "      <th>max</th>\n",
       "      <td>4.300000e+06</td>\n",
       "    </tr>\n",
       "  </tbody>\n",
       "</table>\n",
       "</div>"
      ],
      "text/plain": [
       "             Salary\n",
       "count  9.600000e+01\n",
       "mean   1.444882e+06\n",
       "std    9.745901e+05\n",
       "min    1.200000e+04\n",
       "25%    6.810000e+05\n",
       "50%    1.200000e+06\n",
       "75%    2.025000e+06\n",
       "max    4.300000e+06"
      ]
     },
     "execution_count": 114,
     "metadata": {},
     "output_type": "execute_result"
    }
   ],
   "source": [
    "tyt10 = df[df['Company Name'].isin(['Microsoft'])].Salary.describe()\n",
    "pd.DataFrame(tyt10)"
   ]
  },
  {
   "cell_type": "code",
   "execution_count": 115,
   "metadata": {},
   "outputs": [
    {
     "data": {
      "text/html": [
       "<div>\n",
       "<style scoped>\n",
       "    .dataframe tbody tr th:only-of-type {\n",
       "        vertical-align: middle;\n",
       "    }\n",
       "\n",
       "    .dataframe tbody tr th {\n",
       "        vertical-align: top;\n",
       "    }\n",
       "\n",
       "    .dataframe thead th {\n",
       "        text-align: right;\n",
       "    }\n",
       "</style>\n",
       "<table border=\"1\" class=\"dataframe\">\n",
       "  <thead>\n",
       "    <tr style=\"text-align: right;\">\n",
       "      <th></th>\n",
       "      <th>Salary</th>\n",
       "    </tr>\n",
       "  </thead>\n",
       "  <tbody>\n",
       "    <tr>\n",
       "      <th>count</th>\n",
       "      <td>2.030000e+02</td>\n",
       "    </tr>\n",
       "    <tr>\n",
       "      <th>mean</th>\n",
       "      <td>1.189699e+06</td>\n",
       "    </tr>\n",
       "    <tr>\n",
       "      <th>std</th>\n",
       "      <td>1.187718e+06</td>\n",
       "    </tr>\n",
       "    <tr>\n",
       "      <th>min</th>\n",
       "      <td>3.379200e+04</td>\n",
       "    </tr>\n",
       "    <tr>\n",
       "      <th>25%</th>\n",
       "      <td>4.000000e+05</td>\n",
       "    </tr>\n",
       "    <tr>\n",
       "      <th>50%</th>\n",
       "      <td>9.600000e+05</td>\n",
       "    </tr>\n",
       "    <tr>\n",
       "      <th>75%</th>\n",
       "      <td>1.500000e+06</td>\n",
       "    </tr>\n",
       "    <tr>\n",
       "      <th>max</th>\n",
       "      <td>9.850000e+06</td>\n",
       "    </tr>\n",
       "  </tbody>\n",
       "</table>\n",
       "</div>"
      ],
      "text/plain": [
       "             Salary\n",
       "count  2.030000e+02\n",
       "mean   1.189699e+06\n",
       "std    1.187718e+06\n",
       "min    3.379200e+04\n",
       "25%    4.000000e+05\n",
       "50%    9.600000e+05\n",
       "75%    1.500000e+06\n",
       "max    9.850000e+06"
      ]
     },
     "execution_count": 115,
     "metadata": {},
     "output_type": "execute_result"
    }
   ],
   "source": [
    "tyt11 = df[df['Company Name'].isin(['Amazon'])].Salary.describe()\n",
    "pd.DataFrame(tyt11)"
   ]
  },
  {
   "cell_type": "code",
   "execution_count": 116,
   "metadata": {},
   "outputs": [
    {
     "data": {
      "text/html": [
       "<div>\n",
       "<style scoped>\n",
       "    .dataframe tbody tr th:only-of-type {\n",
       "        vertical-align: middle;\n",
       "    }\n",
       "\n",
       "    .dataframe tbody tr th {\n",
       "        vertical-align: top;\n",
       "    }\n",
       "\n",
       "    .dataframe thead th {\n",
       "        text-align: right;\n",
       "    }\n",
       "</style>\n",
       "<table border=\"1\" class=\"dataframe\">\n",
       "  <thead>\n",
       "    <tr style=\"text-align: right;\">\n",
       "      <th></th>\n",
       "      <th>Salary</th>\n",
       "    </tr>\n",
       "  </thead>\n",
       "  <tbody>\n",
       "    <tr>\n",
       "      <th>count</th>\n",
       "      <td>8.500000e+01</td>\n",
       "    </tr>\n",
       "    <tr>\n",
       "      <th>mean</th>\n",
       "      <td>9.111531e+05</td>\n",
       "    </tr>\n",
       "    <tr>\n",
       "      <th>std</th>\n",
       "      <td>9.231722e+05</td>\n",
       "    </tr>\n",
       "    <tr>\n",
       "      <th>min</th>\n",
       "      <td>6.124800e+04</td>\n",
       "    </tr>\n",
       "    <tr>\n",
       "      <th>25%</th>\n",
       "      <td>2.880000e+05</td>\n",
       "    </tr>\n",
       "    <tr>\n",
       "      <th>50%</th>\n",
       "      <td>5.760000e+05</td>\n",
       "    </tr>\n",
       "    <tr>\n",
       "      <th>75%</th>\n",
       "      <td>1.200000e+06</td>\n",
       "    </tr>\n",
       "    <tr>\n",
       "      <th>max</th>\n",
       "      <td>5.100000e+06</td>\n",
       "    </tr>\n",
       "  </tbody>\n",
       "</table>\n",
       "</div>"
      ],
      "text/plain": [
       "             Salary\n",
       "count  8.500000e+01\n",
       "mean   9.111531e+05\n",
       "std    9.231722e+05\n",
       "min    6.124800e+04\n",
       "25%    2.880000e+05\n",
       "50%    5.760000e+05\n",
       "75%    1.200000e+06\n",
       "max    5.100000e+06"
      ]
     },
     "execution_count": 116,
     "metadata": {},
     "output_type": "execute_result"
    }
   ],
   "source": [
    "tyt12 = df[df['Company Name'].isin(['Google'])].Salary.describe()\n",
    "pd.DataFrame(tyt12)"
   ]
  },
  {
   "cell_type": "code",
   "execution_count": 117,
   "metadata": {},
   "outputs": [
    {
     "data": {
      "text/html": [
       "<div>\n",
       "<style scoped>\n",
       "    .dataframe tbody tr th:only-of-type {\n",
       "        vertical-align: middle;\n",
       "    }\n",
       "\n",
       "    .dataframe tbody tr th {\n",
       "        vertical-align: top;\n",
       "    }\n",
       "\n",
       "    .dataframe thead th {\n",
       "        text-align: right;\n",
       "    }\n",
       "</style>\n",
       "<table border=\"1\" class=\"dataframe\">\n",
       "  <thead>\n",
       "    <tr style=\"text-align: right;\">\n",
       "      <th></th>\n",
       "      <th>Salary</th>\n",
       "    </tr>\n",
       "  </thead>\n",
       "  <tbody>\n",
       "    <tr>\n",
       "      <th>count</th>\n",
       "      <td>1.010000e+02</td>\n",
       "    </tr>\n",
       "    <tr>\n",
       "      <th>mean</th>\n",
       "      <td>5.279010e+05</td>\n",
       "    </tr>\n",
       "    <tr>\n",
       "      <th>std</th>\n",
       "      <td>4.074538e+05</td>\n",
       "    </tr>\n",
       "    <tr>\n",
       "      <th>min</th>\n",
       "      <td>1.000000e+05</td>\n",
       "    </tr>\n",
       "    <tr>\n",
       "      <th>25%</th>\n",
       "      <td>3.000000e+05</td>\n",
       "    </tr>\n",
       "    <tr>\n",
       "      <th>50%</th>\n",
       "      <td>4.000000e+05</td>\n",
       "    </tr>\n",
       "    <tr>\n",
       "      <th>75%</th>\n",
       "      <td>6.000000e+05</td>\n",
       "    </tr>\n",
       "    <tr>\n",
       "      <th>max</th>\n",
       "      <td>2.200000e+06</td>\n",
       "    </tr>\n",
       "  </tbody>\n",
       "</table>\n",
       "</div>"
      ],
      "text/plain": [
       "             Salary\n",
       "count  1.010000e+02\n",
       "mean   5.279010e+05\n",
       "std    4.074538e+05\n",
       "min    1.000000e+05\n",
       "25%    3.000000e+05\n",
       "50%    4.000000e+05\n",
       "75%    6.000000e+05\n",
       "max    2.200000e+06"
      ]
     },
     "execution_count": 117,
     "metadata": {},
     "output_type": "execute_result"
    }
   ],
   "source": [
    "tyt13 = df[df['Company Name'].isin(['Capgemini'])].Salary.describe()\n",
    "pd.DataFrame(tyt13)"
   ]
  },
  {
   "cell_type": "code",
   "execution_count": 107,
   "metadata": {},
   "outputs": [
    {
     "data": {
      "image/png": "[encoded data removed]",
      "text/plain": [
       "<Figure size 1152x504 with 1 Axes>"
      ]
     },
     "metadata": {
      "needs_background": "light"
     },
     "output_type": "display_data"
    }
   ],
   "source": [
    "sns.barplot(x='Company Name', y='Rating', data=DFi)\n",
    "plt.title('Companies vs Ratings')\n",
    "plt.show()"
   ]
  },
  {
   "cell_type": "markdown",
   "metadata": {},
   "source": [
    "### Company wise insights:\n",
    "1. TCS has the most number of employees with a median salary of 4 LPA.\n",
    "2. Developers working in Microsoft have the highest median salary of 12 LPA, followed by Amazon and Google with a median salary of 9.6 LPA and 5.8 LPA.\n",
    "3. Developers working in TCS, Infosys, Wipro and Capgemini all have the lowest median salary of 4 LPA.\n",
    "4. Employees of Microsoft and Google have higher ratings than other companies. Infosys employees have the lowest ratings."
   ]
  }
 ],
 "metadata": {
  "colab": {
   "collapsed_sections": [],
   "name": "Untitled2.ipynb",
   "provenance": []
  },
  "kernelspec": {
   "display_name": "Python 3 (ipykernel)",
   "language": "python",
   "name": "python3"
  },
  "language_info": {
   "codemirror_mode": {
    "name": "ipython",
    "version": 3
   },
   "file_extension": ".py",
   "mimetype": "text/x-python",
   "name": "python",
   "nbconvert_exporter": "python",
   "pygments_lexer": "ipython3",
   "version": "3.7.3"
  }
 },
 "nbformat": 4,
 "nbformat_minor": 1
}

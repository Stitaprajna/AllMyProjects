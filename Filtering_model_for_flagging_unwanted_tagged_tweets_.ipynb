{
  "cells": [
    {
      "cell_type": "markdown",
      "metadata": {
        "id": "view-in-github",
        "colab_type": "text"
      },
      "source": [
        "<a href=\"https://colab.research.google.com/github/Stitaprajna/AllMyProjects/blob/main/Filtering_model_for_flagging_unwanted_tagged_tweets_.ipynb\" target=\"_parent\"><img src=\"https://colab.research.google.com/assets/colab-badge.svg\" alt=\"Open In Colab\"/></a>"
      ]
    },
    {
      "cell_type": "code",
      "execution_count": null,
      "metadata": {
        "id": "OHi6Yat3Ffiv"
      },
      "outputs": [],
      "source": [
        "import pandas as pd\n",
        "import numpy as np\n",
        "import warnings\n",
        "from pandas.core.common import SettingWithCopyWarning\n",
        "%matplotlib inline\n",
        "import re\n",
        "import seaborn as sns\n",
        "import matplotlib.pyplot as plt\n",
        "warnings.simplefilter(action=\"ignore\", category=SettingWithCopyWarning)\n",
        "warnings.simplefilter(action=\"ignore\", category=FutureWarning)"
      ]
    },
    {
      "cell_type": "code",
      "execution_count": null,
      "metadata": {
        "id": "pc5S1_3DFfi1"
      },
      "outputs": [],
      "source": [
        "df = pd.read_csv(r'C:\\Users\\laptop\\Downloads\\ml tasks\\ml_tasks\\ml_task_2\\twcs\\twcs.csv')"
      ]
    },
    {
      "cell_type": "code",
      "execution_count": null,
      "metadata": {
        "id": "vD0QPrHSFfi2",
        "outputId": "6af6b46e-1c3a-4cac-b50c-b6b0eed899fd"
      },
      "outputs": [
        {
          "data": {
            "text/plain": [
              "2811774"
            ]
          },
          "execution_count": 3,
          "metadata": {},
          "output_type": "execute_result"
        }
      ],
      "source": [
        "len(df)"
      ]
    },
    {
      "cell_type": "markdown",
      "metadata": {
        "id": "sjEsrSJSHUMA"
      },
      "source": [
        "# Preprocessing, Data Analysis & Feature Engineering"
      ]
    },
    {
      "cell_type": "markdown",
      "metadata": {
        "id": "uHy9k9veHgcm"
      },
      "source": [
        "#### Separating Inbound & non-Inbound tweets"
      ]
    },
    {
      "cell_type": "code",
      "execution_count": null,
      "metadata": {
        "id": "d_ql3gfoFfi3"
      },
      "outputs": [],
      "source": [
        "dict = {}\n",
        "for i in range(len(df.inbound.unique())):\n",
        "    dict[df.inbound.unique()[i]] = i"
      ]
    },
    {
      "cell_type": "code",
      "execution_count": null,
      "metadata": {
        "id": "olXcMXNZFfi4",
        "outputId": "e5d95157-47b6-4408-b3dc-be0bbbd2ed34"
      },
      "outputs": [
        {
          "data": {
            "text/plain": [
              "{False: 0, True: 1}"
            ]
          },
          "execution_count": 5,
          "metadata": {},
          "output_type": "execute_result"
        }
      ],
      "source": [
        "dict "
      ]
    },
    {
      "cell_type": "code",
      "execution_count": null,
      "metadata": {
        "id": "iwkqvCxZFfi5"
      },
      "outputs": [],
      "source": [
        "df.inbound = df.inbound.map(dict)"
      ]
    },
    {
      "cell_type": "code",
      "execution_count": null,
      "metadata": {
        "id": "m5RTyuOhFfi6",
        "outputId": "78f1aa6b-e90c-4699-fe4c-f918f30952c6"
      },
      "outputs": [
        {
          "data": {
            "text/html": [
              "<div>\n",
              "<style scoped>\n",
              "    .dataframe tbody tr th:only-of-type {\n",
              "        vertical-align: middle;\n",
              "    }\n",
              "\n",
              "    .dataframe tbody tr th {\n",
              "        vertical-align: top;\n",
              "    }\n",
              "\n",
              "    .dataframe thead th {\n",
              "        text-align: right;\n",
              "    }\n",
              "</style>\n",
              "<table border=\"1\" class=\"dataframe\">\n",
              "  <thead>\n",
              "    <tr style=\"text-align: right;\">\n",
              "      <th></th>\n",
              "      <th>Inbound Counts</th>\n",
              "    </tr>\n",
              "  </thead>\n",
              "  <tbody>\n",
              "    <tr>\n",
              "      <th>True</th>\n",
              "      <td>1537843</td>\n",
              "    </tr>\n",
              "    <tr>\n",
              "      <th>False</th>\n",
              "      <td>1273931</td>\n",
              "    </tr>\n",
              "  </tbody>\n",
              "</table>\n",
              "</div>"
            ],
            "text/plain": [
              "       Inbound Counts\n",
              "True          1537843\n",
              "False         1273931"
            ]
          },
          "execution_count": 140,
          "metadata": {},
          "output_type": "execute_result"
        }
      ],
      "source": [
        "gf = pd.DataFrame(df.inbound.value_counts())\n",
        "gf.index = ['True','False']\n",
        "gf.columns = ['Inbound Counts']\n",
        "gf"
      ]
    },
    {
      "cell_type": "code",
      "execution_count": null,
      "metadata": {
        "id": "cy2U6-27Ffi6",
        "outputId": "74accc60-cd44-415c-91f1-319788afd60e"
      },
      "outputs": [
        {
          "data": {
            "image/png": "[encoded data removed]",
            "text/plain": [
              "<Figure size 360x504 with 1 Axes>"
            ]
          },
          "metadata": {},
          "output_type": "display_data"
        }
      ],
      "source": [
        "import seaborn as sns\n",
        "import matplotlib.pyplot as plt\n",
        "sns.barplot(x = gf.index, y = gf['Inbound Counts'])\n",
        "plt.rcParams['figure.figsize'] = [7,7]\n",
        "plt.show()"
      ]
    },
    {
      "cell_type": "markdown",
      "source": [
        "Inbound Tweets are quite more, so people are tagging more in these tweets than companies."
      ],
      "metadata": {
        "id": "Cr8xetk0noed"
      }
    },
    {
      "cell_type": "code",
      "execution_count": null,
      "metadata": {
        "id": "XFRGhS5ZFfi7"
      },
      "outputs": [],
      "source": [
        "df1 = df[df.inbound == 0]  # non-Inbound tweets"
      ]
    },
    {
      "cell_type": "code",
      "execution_count": null,
      "metadata": {
        "id": "32CNLkyrFfi8",
        "outputId": "d33b6c07-d5d5-4633-e9c2-378f54636113",
        "scrolled": false
      },
      "outputs": [
        {
          "data": {
            "text/html": [
              "<div>\n",
              "<style scoped>\n",
              "    .dataframe tbody tr th:only-of-type {\n",
              "        vertical-align: middle;\n",
              "    }\n",
              "\n",
              "    .dataframe tbody tr th {\n",
              "        vertical-align: top;\n",
              "    }\n",
              "\n",
              "    .dataframe thead th {\n",
              "        text-align: right;\n",
              "    }\n",
              "</style>\n",
              "<table border=\"1\" class=\"dataframe\">\n",
              "  <thead>\n",
              "    <tr style=\"text-align: right;\">\n",
              "      <th></th>\n",
              "      <th>tweet_id</th>\n",
              "      <th>author_id</th>\n",
              "      <th>inbound</th>\n",
              "      <th>created_at</th>\n",
              "      <th>text</th>\n",
              "      <th>response_tweet_id</th>\n",
              "      <th>in_response_to_tweet_id</th>\n",
              "    </tr>\n",
              "  </thead>\n",
              "  <tbody>\n",
              "    <tr>\n",
              "      <th>0</th>\n",
              "      <td>1</td>\n",
              "      <td>sprintcare</td>\n",
              "      <td>0</td>\n",
              "      <td>Tue Oct 31 22:10:47 +0000 2017</td>\n",
              "      <td>@115712 I understand. I would like to assist y...</td>\n",
              "      <td>2</td>\n",
              "      <td>3.0</td>\n",
              "    </tr>\n",
              "    <tr>\n",
              "      <th>3</th>\n",
              "      <td>4</td>\n",
              "      <td>sprintcare</td>\n",
              "      <td>0</td>\n",
              "      <td>Tue Oct 31 21:54:49 +0000 2017</td>\n",
              "      <td>@115712 Please send us a Private Message so th...</td>\n",
              "      <td>3</td>\n",
              "      <td>5.0</td>\n",
              "    </tr>\n",
              "    <tr>\n",
              "      <th>5</th>\n",
              "      <td>6</td>\n",
              "      <td>sprintcare</td>\n",
              "      <td>0</td>\n",
              "      <td>Tue Oct 31 21:46:24 +0000 2017</td>\n",
              "      <td>@115712 Can you please send us a private messa...</td>\n",
              "      <td>5,7</td>\n",
              "      <td>8.0</td>\n",
              "    </tr>\n",
              "    <tr>\n",
              "      <th>7</th>\n",
              "      <td>11</td>\n",
              "      <td>sprintcare</td>\n",
              "      <td>0</td>\n",
              "      <td>Tue Oct 31 22:10:35 +0000 2017</td>\n",
              "      <td>@115713 This is saddening to hear. Please shoo...</td>\n",
              "      <td>NaN</td>\n",
              "      <td>12.0</td>\n",
              "    </tr>\n",
              "    <tr>\n",
              "      <th>9</th>\n",
              "      <td>15</td>\n",
              "      <td>sprintcare</td>\n",
              "      <td>0</td>\n",
              "      <td>Tue Oct 31 20:03:31 +0000 2017</td>\n",
              "      <td>@115713 We understand your concerns and we'd l...</td>\n",
              "      <td>12</td>\n",
              "      <td>16.0</td>\n",
              "    </tr>\n",
              "  </tbody>\n",
              "</table>\n",
              "</div>"
            ],
            "text/plain": [
              "   tweet_id   author_id  inbound                      created_at  \\\n",
              "0         1  sprintcare        0  Tue Oct 31 22:10:47 +0000 2017   \n",
              "3         4  sprintcare        0  Tue Oct 31 21:54:49 +0000 2017   \n",
              "5         6  sprintcare        0  Tue Oct 31 21:46:24 +0000 2017   \n",
              "7        11  sprintcare        0  Tue Oct 31 22:10:35 +0000 2017   \n",
              "9        15  sprintcare        0  Tue Oct 31 20:03:31 +0000 2017   \n",
              "\n",
              "                                                text response_tweet_id  \\\n",
              "0  @115712 I understand. I would like to assist y...                 2   \n",
              "3  @115712 Please send us a Private Message so th...                 3   \n",
              "5  @115712 Can you please send us a private messa...               5,7   \n",
              "7  @115713 This is saddening to hear. Please shoo...               NaN   \n",
              "9  @115713 We understand your concerns and we'd l...                12   \n",
              "\n",
              "   in_response_to_tweet_id  \n",
              "0                      3.0  \n",
              "3                      5.0  \n",
              "5                      8.0  \n",
              "7                     12.0  \n",
              "9                     16.0  "
            ]
          },
          "execution_count": 10,
          "metadata": {},
          "output_type": "execute_result"
        }
      ],
      "source": [
        "df1.head()"
      ]
    },
    {
      "cell_type": "code",
      "source": [
        "df1['text'] = df1['text'].apply(lambda x: re.sub('[^0-9@]',' ',x))"
      ],
      "metadata": {
        "id": "n2aYmr4_xqiW"
      },
      "execution_count": null,
      "outputs": []
    },
    {
      "cell_type": "code",
      "execution_count": null,
      "metadata": {
        "id": "XwROtoDLFfi9"
      },
      "outputs": [],
      "source": [
        "df2 = df[df.inbound == 1]               # Inbound Tweets \n",
        "df22 = df2[~df2.text.str.contains('@')] # Inbound Tweets without @\n",
        "df21 = df2[df2.text.str.contains('@')]  # Inbound Tweets with @\n",
        "df22['text'] = df22['text'].apply(lambda x: x.lower()) # Lowering the texts"
      ]
    },
    {
      "cell_type": "markdown",
      "metadata": {
        "id": "JdDVA45fFfi-"
      },
      "source": [
        "## Inbounds Tweets tagged without @"
      ]
    },
    {
      "cell_type": "code",
      "execution_count": null,
      "metadata": {
        "id": "GJGwlzPWFfjA",
        "outputId": "06a0642f-26aa-4194-bb03-39b854e6c367",
        "colab": {
          "base_uri": "https://localhost:8080/",
          "height": 320
        }
      },
      "outputs": [
        {
          "output_type": "execute_result",
          "data": {
            "text/plain": [
              "         tweet_id author_id  inbound                      created_at  \\\n",
              "2756004        29    115716        1  Tue Oct 31 22:01:35 +0000 2017   \n",
              "2756005       272    115770        1  Wed Nov 22 09:14:39 +0000 2017   \n",
              "2756006       293    115769        1  Wed Oct 18 14:07:45 +0000 2017   \n",
              "2756007       325    115792        1  Wed Nov 22 08:55:35 +0000 2017   \n",
              "2756008       348    115798        1  Mon Aug 29 03:20:05 +0000 2011   \n",
              "\n",
              "                                                      text  \\\n",
              "2756004  actually that's a broken link you sent me and ...   \n",
              "2756005                           amazonのfiretvstickが見れない😢   \n",
              "2756006  whoa! come along with lightroom’s own ben ward...   \n",
              "2756007                           amazonプライムビデオ、再生エラーが多いです   \n",
              "2756008  lost your booking number? no worries, just dro...   \n",
              "\n",
              "                                         response_tweet_id  \\\n",
              "2756004                                                 28   \n",
              "2756005                                                269   \n",
              "2756006                                                292   \n",
              "2756007                                                324   \n",
              "2756008  349,350,351,352,347,353,354,355,356,357,358,35...   \n",
              "\n",
              "         in_response_to_tweet_id  flag  \n",
              "2756004                      NaN     1  \n",
              "2756005                      NaN     0  \n",
              "2756006                      NaN     1  \n",
              "2756007                      NaN     0  \n",
              "2756008                      NaN     1  "
            ],
            "text/html": [
              "\n",
              "  <div id=\"df-9da793d3-78b7-497e-9191-9c8d1c275618\">\n",
              "    <div class=\"colab-df-container\">\n",
              "      <div>\n",
              "<style scoped>\n",
              "    .dataframe tbody tr th:only-of-type {\n",
              "        vertical-align: middle;\n",
              "    }\n",
              "\n",
              "    .dataframe tbody tr th {\n",
              "        vertical-align: top;\n",
              "    }\n",
              "\n",
              "    .dataframe thead th {\n",
              "        text-align: right;\n",
              "    }\n",
              "</style>\n",
              "<table border=\"1\" class=\"dataframe\">\n",
              "  <thead>\n",
              "    <tr style=\"text-align: right;\">\n",
              "      <th></th>\n",
              "      <th>tweet_id</th>\n",
              "      <th>author_id</th>\n",
              "      <th>inbound</th>\n",
              "      <th>created_at</th>\n",
              "      <th>text</th>\n",
              "      <th>response_tweet_id</th>\n",
              "      <th>in_response_to_tweet_id</th>\n",
              "      <th>flag</th>\n",
              "    </tr>\n",
              "  </thead>\n",
              "  <tbody>\n",
              "    <tr>\n",
              "      <th>2756004</th>\n",
              "      <td>29</td>\n",
              "      <td>115716</td>\n",
              "      <td>1</td>\n",
              "      <td>Tue Oct 31 22:01:35 +0000 2017</td>\n",
              "      <td>actually that's a broken link you sent me and ...</td>\n",
              "      <td>28</td>\n",
              "      <td>NaN</td>\n",
              "      <td>1</td>\n",
              "    </tr>\n",
              "    <tr>\n",
              "      <th>2756005</th>\n",
              "      <td>272</td>\n",
              "      <td>115770</td>\n",
              "      <td>1</td>\n",
              "      <td>Wed Nov 22 09:14:39 +0000 2017</td>\n",
              "      <td>amazonのfiretvstickが見れない😢</td>\n",
              "      <td>269</td>\n",
              "      <td>NaN</td>\n",
              "      <td>0</td>\n",
              "    </tr>\n",
              "    <tr>\n",
              "      <th>2756006</th>\n",
              "      <td>293</td>\n",
              "      <td>115769</td>\n",
              "      <td>1</td>\n",
              "      <td>Wed Oct 18 14:07:45 +0000 2017</td>\n",
              "      <td>whoa! come along with lightroom’s own ben ward...</td>\n",
              "      <td>292</td>\n",
              "      <td>NaN</td>\n",
              "      <td>1</td>\n",
              "    </tr>\n",
              "    <tr>\n",
              "      <th>2756007</th>\n",
              "      <td>325</td>\n",
              "      <td>115792</td>\n",
              "      <td>1</td>\n",
              "      <td>Wed Nov 22 08:55:35 +0000 2017</td>\n",
              "      <td>amazonプライムビデオ、再生エラーが多いです</td>\n",
              "      <td>324</td>\n",
              "      <td>NaN</td>\n",
              "      <td>0</td>\n",
              "    </tr>\n",
              "    <tr>\n",
              "      <th>2756008</th>\n",
              "      <td>348</td>\n",
              "      <td>115798</td>\n",
              "      <td>1</td>\n",
              "      <td>Mon Aug 29 03:20:05 +0000 2011</td>\n",
              "      <td>lost your booking number? no worries, just dro...</td>\n",
              "      <td>349,350,351,352,347,353,354,355,356,357,358,35...</td>\n",
              "      <td>NaN</td>\n",
              "      <td>1</td>\n",
              "    </tr>\n",
              "  </tbody>\n",
              "</table>\n",
              "</div>\n",
              "      <button class=\"colab-df-convert\" onclick=\"convertToInteractive('df-9da793d3-78b7-497e-9191-9c8d1c275618')\"\n",
              "              title=\"Convert this dataframe to an interactive table.\"\n",
              "              style=\"display:none;\">\n",
              "        \n",
              "  <svg xmlns=\"http://www.w3.org/2000/svg\" height=\"24px\"viewBox=\"0 0 24 24\"\n",
              "       width=\"24px\">\n",
              "    <path d=\"M0 0h24v24H0V0z\" fill=\"none\"/>\n",
              "    <path d=\"M18.56 5.44l.94 2.06.94-2.06 2.06-.94-2.06-.94-.94-2.06-.94 2.06-2.06.94zm-11 1L8.5 8.5l.94-2.06 2.06-.94-2.06-.94L8.5 2.5l-.94 2.06-2.06.94zm10 10l.94 2.06.94-2.06 2.06-.94-2.06-.94-.94-2.06-.94 2.06-2.06.94z\"/><path d=\"M17.41 7.96l-1.37-1.37c-.4-.4-.92-.59-1.43-.59-.52 0-1.04.2-1.43.59L10.3 9.45l-7.72 7.72c-.78.78-.78 2.05 0 2.83L4 21.41c.39.39.9.59 1.41.59.51 0 1.02-.2 1.41-.59l7.78-7.78 2.81-2.81c.8-.78.8-2.07 0-2.86zM5.41 20L4 18.59l7.72-7.72 1.47 1.35L5.41 20z\"/>\n",
              "  </svg>\n",
              "      </button>\n",
              "      \n",
              "  <style>\n",
              "    .colab-df-container {\n",
              "      display:flex;\n",
              "      flex-wrap:wrap;\n",
              "      gap: 12px;\n",
              "    }\n",
              "\n",
              "    .colab-df-convert {\n",
              "      background-color: #E8F0FE;\n",
              "      border: none;\n",
              "      border-radius: 50%;\n",
              "      cursor: pointer;\n",
              "      display: none;\n",
              "      fill: #1967D2;\n",
              "      height: 32px;\n",
              "      padding: 0 0 0 0;\n",
              "      width: 32px;\n",
              "    }\n",
              "\n",
              "    .colab-df-convert:hover {\n",
              "      background-color: #E2EBFA;\n",
              "      box-shadow: 0px 1px 2px rgba(60, 64, 67, 0.3), 0px 1px 3px 1px rgba(60, 64, 67, 0.15);\n",
              "      fill: #174EA6;\n",
              "    }\n",
              "\n",
              "    [theme=dark] .colab-df-convert {\n",
              "      background-color: #3B4455;\n",
              "      fill: #D2E3FC;\n",
              "    }\n",
              "\n",
              "    [theme=dark] .colab-df-convert:hover {\n",
              "      background-color: #434B5C;\n",
              "      box-shadow: 0px 1px 3px 1px rgba(0, 0, 0, 0.15);\n",
              "      filter: drop-shadow(0px 1px 2px rgba(0, 0, 0, 0.3));\n",
              "      fill: #FFFFFF;\n",
              "    }\n",
              "  </style>\n",
              "\n",
              "      <script>\n",
              "        const buttonEl =\n",
              "          document.querySelector('#df-9da793d3-78b7-497e-9191-9c8d1c275618 button.colab-df-convert');\n",
              "        buttonEl.style.display =\n",
              "          google.colab.kernel.accessAllowed ? 'block' : 'none';\n",
              "\n",
              "        async function convertToInteractive(key) {\n",
              "          const element = document.querySelector('#df-9da793d3-78b7-497e-9191-9c8d1c275618');\n",
              "          const dataTable =\n",
              "            await google.colab.kernel.invokeFunction('convertToInteractive',\n",
              "                                                     [key], {});\n",
              "          if (!dataTable) return;\n",
              "\n",
              "          const docLinkHtml = 'Like what you see? Visit the ' +\n",
              "            '<a target=\"_blank\" href=https://colab.research.google.com/notebooks/data_table.ipynb>data table notebook</a>'\n",
              "            + ' to learn more about interactive tables.';\n",
              "          element.innerHTML = '';\n",
              "          dataTable['output_type'] = 'display_data';\n",
              "          await google.colab.output.renderOutput(dataTable, element);\n",
              "          const docLink = document.createElement('div');\n",
              "          docLink.innerHTML = docLinkHtml;\n",
              "          element.appendChild(docLink);\n",
              "        }\n",
              "      </script>\n",
              "    </div>\n",
              "  </div>\n",
              "  "
            ]
          },
          "metadata": {},
          "execution_count": 40
        }
      ],
      "source": [
        "df22.head()"
      ]
    },
    {
      "cell_type": "code",
      "execution_count": null,
      "metadata": {
        "id": "aUEBYdlrFfjB"
      },
      "outputs": [],
      "source": [
        "arr1 = df1.author_id.unique()\n",
        "ar = []\n",
        "for i in arr1:\n",
        "    ar.append(i.lower())"
      ]
    },
    {
      "cell_type": "markdown",
      "metadata": {
        "id": "PMPwUKfAFfjD"
      },
      "source": [
        "#### List of 108 Companies and their Twitter Handles"
      ]
    },
    {
      "cell_type": "code",
      "execution_count": null,
      "metadata": {
        "id": "6gb7QeSfFfjD",
        "outputId": "e53e663c-8734-4cab-8521-f378c9b8073b",
        "colab": {
          "base_uri": "https://localhost:8080/"
        }
      },
      "outputs": [
        {
          "output_type": "execute_result",
          "data": {
            "text/plain": [
              "array(['sprintcare', 'Ask_Spectrum', 'VerizonSupport', 'ChipotleTweets',\n",
              "       'AskPlayStation', 'marksandspencer', 'MicrosoftHelps',\n",
              "       'ATVIAssist', 'AdobeCare', 'AmazonHelp', 'XboxSupport',\n",
              "       'AirbnbHelp', 'nationalrailenq', 'AirAsiaSupport', 'Morrisons',\n",
              "       'NikeSupport', 'AskAmex', 'McDonalds', 'YahooCare', 'AskLyft',\n",
              "       'UPSHelp', 'Delta', 'AppleSupport', 'Uber_Support', 'Tesco',\n",
              "       'SpotifyCares', 'British_Airways', 'comcastcares', 'AmericanAir',\n",
              "       'TMobileHelp', 'VirginTrains', 'SouthwestAir', 'AskeBay',\n",
              "       'hulu_support', 'GWRHelp', 'sainsburys', 'AskPayPal', 'HPSupport',\n",
              "       'ChaseSupport', 'CoxHelp', 'DropboxSupport', 'VirginAtlantic',\n",
              "       'BofA_Help', 'AzureSupport', 'AlaskaAir', 'ArgosHelpers',\n",
              "       'Postmates_Help', 'AskTarget', 'GoDaddyHelp', 'CenturyLinkHelp',\n",
              "       'AskPapaJohns', 'SW_Help', 'askpanera', 'Walmart',\n",
              "       'USCellularCares', 'AsurionCares', 'GloCare', 'idea_cares',\n",
              "       'DoorDash_Help', 'NeweggService', 'VirginAmerica',\n",
              "       'Safaricom_Care', 'DunkinDonuts', 'Ask_WellsFargo', 'O2', 'TfL',\n",
              "       'asksalesforce', 'airtel_care', 'Kimpton', 'AskCiti', 'IHGService',\n",
              "       'LondonMidland', 'JetBlue', 'BoostCare', 'JackBox', 'AldiUK',\n",
              "       'HiltonHelp', 'GooglePlayMusic', 'OfficeSupport', 'KFC_UKI_Help',\n",
              "       'DellCares', 'TwitterSupport', 'GreggsOfficial', 'ATT',\n",
              "       'TacoBellTeam', 'AskRBC', 'ArbysCares', 'NortonSupport',\n",
              "       'AskSeagate', 'sizehelpteam', 'SCsupport', 'MOO', 'AskDSC',\n",
              "       'AskVirginMoney', 'AskRobinhood', 'MTNC_Care', 'AWSSupport',\n",
              "       'VMUcare', 'mediatemplehelp', 'AskTigogh', 'PandoraSupport',\n",
              "       'askvisa', 'OPPOCareIN', 'ask_progressive', 'PearsonSupport',\n",
              "       'CarlsJr', 'HotelTonightCX', 'KeyBank_Help'], dtype=object)"
            ]
          },
          "metadata": {},
          "execution_count": 66
        }
      ],
      "source": [
        "arr1"
      ]
    },
    {
      "cell_type": "markdown",
      "metadata": {
        "id": "8ky-FWcVJ7p9"
      },
      "source": [
        "But, it has been noticed that the people tagging to companies without **@** are using base names of the companies. So, we have to extract the base names of the companies. "
      ]
    },
    {
      "cell_type": "markdown",
      "metadata": {
        "id": "Njud7ZKEJlZe"
      },
      "source": [
        "#### Extracting the base Company names "
      ]
    },
    {
      "cell_type": "code",
      "execution_count": null,
      "metadata": {
        "id": "dUwEJ-cXFfjE"
      },
      "outputs": [],
      "source": [
        "lst1 = []\n",
        "replace = ['care','cares' ,'support','assist','help','helps','support','tweets','ask','service','official']\n",
        "for i in ar:\n",
        "    for j in replace:\n",
        "        if j in i:\n",
        "            lst1.append(i.replace(j,''))"
      ]
    },
    {
      "cell_type": "code",
      "execution_count": null,
      "metadata": {
        "id": "yNlACRm9FfjF",
        "outputId": "de89448a-bf0a-4a9c-9ca3-be3bab544342",
        "colab": {
          "base_uri": "https://localhost:8080/"
        }
      },
      "outputs": [
        {
          "output_type": "execute_result",
          "data": {
            "text/plain": [
              "80"
            ]
          },
          "metadata": {},
          "execution_count": 68
        }
      ],
      "source": [
        "lst2 = []\n",
        "for i in lst1:\n",
        "    if i in lst2:\n",
        "        pass\n",
        "    else:\n",
        "        lst2.append(i)\n",
        "        \n",
        "import re\n",
        "lst3 = []\n",
        "for i in lst2:\n",
        "     lst3.append(re.sub('[^a-z]','',i))        \n",
        "\n",
        "lst3\n",
        "lst4 = []\n",
        "for i in range(len(lst3)-1):\n",
        "    if (lst3[i] == lst3[i+1] + 's'):\n",
        "        lst3[i] = 0\n",
        "    elif (lst3[i+1] == lst3[i] + 's'):\n",
        "        lst3[i+1] = 0\n",
        "\n",
        "lst4 = [i for i in lst3 if i != 0]        \n",
        "        \n",
        "len(lst4)"
      ]
    },
    {
      "cell_type": "code",
      "execution_count": null,
      "metadata": {
        "id": "DxQRWg3uFfjG"
      },
      "outputs": [],
      "source": [
        "a = []\n",
        "for i in ar:\n",
        "    for j in lst4:\n",
        "        if j in i:\n",
        "            a.append(i)\n",
        "            \n",
        "a1 = []\n",
        "for i in a:\n",
        "    if i in a1:\n",
        "        pass\n",
        "    else:\n",
        "        a1.append(i)\n",
        "        \n",
        "a2 = ar.copy()\n",
        "for i in a1:\n",
        "    a2.remove(i)"
      ]
    },
    {
      "cell_type": "code",
      "execution_count": null,
      "metadata": {
        "id": "okDsZNG8FfjH"
      },
      "outputs": [],
      "source": [
        "lst4.extend(a2)"
      ]
    },
    {
      "cell_type": "code",
      "execution_count": null,
      "metadata": {
        "id": "2B4MbTsKFfjH"
      },
      "outputs": [],
      "source": [
        "rem = ['oppocarein','sizehelpteam', 'kfc_uki_help','argosers']\n",
        "for i in rem:\n",
        "    if i not in lst4:\n",
        "        print(i)"
      ]
    },
    {
      "cell_type": "code",
      "execution_count": null,
      "metadata": {
        "id": "NWosApRBFfjI"
      },
      "outputs": [],
      "source": [
        "rem = ['oppocarein','sizehelpteam', 'kfc_uki_help','argosers']\n",
        "for i in rem:\n",
        "    lst4.remove(i)"
      ]
    },
    {
      "cell_type": "code",
      "execution_count": null,
      "metadata": {
        "id": "rydtnMp5FfjI",
        "outputId": "3be16953-d293-433a-bc69-6cab1c63a075",
        "colab": {
          "base_uri": "https://localhost:8080/"
        }
      },
      "outputs": [
        {
          "output_type": "execute_result",
          "data": {
            "text/plain": [
              "108"
            ]
          },
          "metadata": {},
          "execution_count": 73
        }
      ],
      "source": [
        "len(lst4)   ## Number is matching with the List of Companies Twitter Handle"
      ]
    },
    {
      "cell_type": "code",
      "execution_count": null,
      "metadata": {
        "id": "vEN-21inFfjI",
        "outputId": "ce4aa0dc-c246-4a70-fcd0-dcdf5aaea4b1",
        "scrolled": false
      },
      "outputs": [
        {
          "data": {
            "text/html": [
              "<div>\n",
              "<style scoped>\n",
              "    .dataframe tbody tr th:only-of-type {\n",
              "        vertical-align: middle;\n",
              "    }\n",
              "\n",
              "    .dataframe tbody tr th {\n",
              "        vertical-align: top;\n",
              "    }\n",
              "\n",
              "    .dataframe thead th {\n",
              "        text-align: right;\n",
              "    }\n",
              "</style>\n",
              "<table border=\"1\" class=\"dataframe\">\n",
              "  <thead>\n",
              "    <tr style=\"text-align: right;\">\n",
              "      <th></th>\n",
              "      <th>tweet_id</th>\n",
              "      <th>author_id</th>\n",
              "      <th>inbound</th>\n",
              "      <th>created_at</th>\n",
              "      <th>text</th>\n",
              "      <th>response_tweet_id</th>\n",
              "      <th>in_response_to_tweet_id</th>\n",
              "      <th>flag</th>\n",
              "    </tr>\n",
              "  </thead>\n",
              "  <tbody>\n",
              "    <tr>\n",
              "      <th>5</th>\n",
              "      <td>605</td>\n",
              "      <td>115814</td>\n",
              "      <td>1</td>\n",
              "      <td>Tue Oct 31 21:57:56 +0000 2017</td>\n",
              "      <td>whats wrong w/ amazon leavin shit outside like...</td>\n",
              "      <td>604</td>\n",
              "      <td>NaN</td>\n",
              "      <td>0</td>\n",
              "    </tr>\n",
              "    <tr>\n",
              "      <th>19</th>\n",
              "      <td>1690</td>\n",
              "      <td>116080</td>\n",
              "      <td>1</td>\n",
              "      <td>Tue Oct 31 22:01:20 +0000 2017</td>\n",
              "      <td>saved my fucking time by just checking my mail...</td>\n",
              "      <td>1688</td>\n",
              "      <td>1691.0</td>\n",
              "      <td>0</td>\n",
              "    </tr>\n",
              "    <tr>\n",
              "      <th>45</th>\n",
              "      <td>3785</td>\n",
              "      <td>116628</td>\n",
              "      <td>1</td>\n",
              "      <td>Sun Nov 26 00:04:04 +0000 2017</td>\n",
              "      <td>-me erday waiting for ups https://t.co/bxr4od96t1</td>\n",
              "      <td>3784</td>\n",
              "      <td>NaN</td>\n",
              "      <td>0</td>\n",
              "    </tr>\n",
              "    <tr>\n",
              "      <th>256</th>\n",
              "      <td>16257</td>\n",
              "      <td>119568</td>\n",
              "      <td>1</td>\n",
              "      <td>Wed Nov 22 13:54:49 +0000 2017</td>\n",
              "      <td>level with me, ups. you have no idea where my ...</td>\n",
              "      <td>16255</td>\n",
              "      <td>NaN</td>\n",
              "      <td>0</td>\n",
              "    </tr>\n",
              "    <tr>\n",
              "      <th>279</th>\n",
              "      <td>18018</td>\n",
              "      <td>120002</td>\n",
              "      <td>1</td>\n",
              "      <td>Wed Nov 01 03:49:25 +0000 2017</td>\n",
              "      <td>i thought ups would have an easier time delive...</td>\n",
              "      <td>18017</td>\n",
              "      <td>NaN</td>\n",
              "      <td>0</td>\n",
              "    </tr>\n",
              "  </tbody>\n",
              "</table>\n",
              "</div>"
            ],
            "text/plain": [
              "     tweet_id author_id  inbound                      created_at  \\\n",
              "5         605    115814        1  Tue Oct 31 21:57:56 +0000 2017   \n",
              "19       1690    116080        1  Tue Oct 31 22:01:20 +0000 2017   \n",
              "45       3785    116628        1  Sun Nov 26 00:04:04 +0000 2017   \n",
              "256     16257    119568        1  Wed Nov 22 13:54:49 +0000 2017   \n",
              "279     18018    120002        1  Wed Nov 01 03:49:25 +0000 2017   \n",
              "\n",
              "                                                  text response_tweet_id  \\\n",
              "5    whats wrong w/ amazon leavin shit outside like...               604   \n",
              "19   saved my fucking time by just checking my mail...              1688   \n",
              "45   -me erday waiting for ups https://t.co/bxr4od96t1              3784   \n",
              "256  level with me, ups. you have no idea where my ...             16255   \n",
              "279  i thought ups would have an easier time delive...             18017   \n",
              "\n",
              "     in_response_to_tweet_id  flag  \n",
              "5                        NaN     0  \n",
              "19                    1691.0     0  \n",
              "45                       NaN     0  \n",
              "256                      NaN     0  \n",
              "279                      NaN     0  "
            ]
          },
          "execution_count": 165,
          "metadata": {},
          "output_type": "execute_result"
        }
      ],
      "source": [
        "df22[df22.text.str.contains('ups')].head()"
      ]
    },
    {
      "cell_type": "code",
      "execution_count": null,
      "metadata": {
        "id": "qS7r3e-OFfjJ"
      },
      "outputs": [],
      "source": [
        "dict7 = {'hoteltonightcx': 'hoteltonight', 'nationalrailenq':'railway', 'oppoin':'oppo', 'kfcuki':'kfc'}\n",
        "for key,value in dict7.items():\n",
        "    for i in range(len(lst4)):\n",
        "        if lst4[i] == key:\n",
        "            lst4[i] = value            "
      ]
    },
    {
      "cell_type": "markdown",
      "metadata": {
        "id": "AeA7oXNjFfjJ"
      },
      "source": [
        "#### Company tags check in the texts without @ tagging for 108 companies"
      ]
    },
    {
      "cell_type": "code",
      "execution_count": null,
      "metadata": {
        "id": "xAsy-IdPFfjJ",
        "outputId": "e6f566bc-7e3a-454b-f7fa-d6985fa91376",
        "scrolled": false
      },
      "outputs": [
        {
          "name": "stdout",
          "output_type": "stream",
          "text": [
            "True : sprint\n",
            "True : spectrum\n",
            "True : verizon\n",
            "True : chipotle\n",
            "True : playstation\n",
            "True : microsoft\n",
            "True : atvi\n",
            "True : adobe\n",
            "True : amazon\n",
            "True : xbox\n",
            "True : airbnb\n",
            "True : airasia\n",
            "True : nike\n",
            "True : amex\n",
            "True : yahoo\n",
            "True : lyft\n",
            "True : ups\n",
            "True : apple\n",
            "True : uber\n",
            "True : spotify\n",
            "True : comcast\n",
            "True : tmobile\n",
            "True : ebay\n",
            "True : hulu\n",
            "True : gwr\n",
            "True : paypal\n",
            "True : hp\n",
            "True : chase\n",
            "True : cox\n",
            "True : dropbox\n",
            "True : bofa\n",
            "True : azure\n",
            "False : alaair\n",
            "True : postmates\n",
            "True : target\n",
            "True : godaddy\n",
            "True : centurylink\n",
            "True : papajohns\n",
            "True : sw\n",
            "True : panera\n",
            "True : uscellular\n",
            "True : asurion\n",
            "True : glo\n",
            "True : idea\n",
            "True : doordash\n",
            "True : newegg\n",
            "True : safaricom\n",
            "True : wellsfargo\n",
            "True : salesforce\n",
            "True : airtel\n",
            "True : citi\n",
            "True : ihg\n",
            "True : boost\n",
            "True : hilton\n",
            "True : office\n",
            "True : kfc\n",
            "True : dell\n",
            "True : twitter\n",
            "True : greggs\n",
            "True : rbc\n",
            "True : arbys\n",
            "True : norton\n",
            "True : seagate\n",
            "False : sizeteam\n",
            "True : sc\n",
            "True : dsc\n",
            "True : virginmoney\n",
            "True : robinhood\n",
            "True : mtnc\n",
            "True : aws\n",
            "True : vmu\n",
            "True : mediatemple\n",
            "True : tigogh\n",
            "True : pandora\n",
            "True : visa\n",
            "True : oppo\n",
            "True : progressive\n",
            "True : pearson\n",
            "True : keybank\n",
            "True : marksandspencer\n",
            "True : railway\n",
            "True : morrisons\n",
            "True : mcdonalds\n",
            "True : delta\n",
            "True : british_airways\n",
            "True : americanair\n",
            "True : virgintrains\n",
            "True : southwestair\n",
            "True : sainsburys\n",
            "True : virginatlantic\n",
            "True : alaskaair\n",
            "False : argoshelpers\n",
            "True : walmart\n",
            "True : virginamerica\n",
            "False : dunkindonuts\n",
            "True : o2\n",
            "True : tfl\n",
            "True : kimpton\n",
            "False : londonmidland\n",
            "True : jetblue\n",
            "False : jackbox\n",
            "False : aldiuk\n",
            "False : googleplaymusic\n",
            "True : att\n",
            "False : tacobellteam\n",
            "True : moo\n",
            "True : carlsjr\n",
            "True : hoteltonight\n"
          ]
        }
      ],
      "source": [
        "for i in range(len(lst4)):\n",
        "    print(len(df22[df22.text.str.contains(lst4[i])]) != 0,':', lst4[i])"
      ]
    },
    {
      "cell_type": "markdown",
      "metadata": {
        "id": "5hBeSmOuGL5h"
      },
      "source": [
        "#### Flag tweets Counter"
      ]
    },
    {
      "cell_type": "code",
      "execution_count": null,
      "metadata": {
        "id": "-ldBpBGGFfjK"
      },
      "outputs": [],
      "source": [
        "count = 0\n",
        "c = []\n",
        "for j in df22.text:\n",
        "    for i in lst4:\n",
        "        if i not in j:\n",
        "            count = count + 1      \n",
        "    c.append(108 - count)\n",
        "    count = 0\n",
        "\n",
        "flag = []\n",
        "for i in c:\n",
        "    if i > 0:\n",
        "        flag.append(0)\n",
        "    else:\n",
        "        flag.append(1)"
      ]
    },
    {
      "cell_type": "code",
      "execution_count": null,
      "metadata": {
        "id": "ivegdkewFfjK"
      },
      "outputs": [],
      "source": [
        "df22.index = np.arange(0,55770,1)"
      ]
    },
    {
      "cell_type": "code",
      "execution_count": null,
      "metadata": {
        "id": "n5MxRSBsFfjK"
      },
      "outputs": [],
      "source": [
        "df22['flag'] = pd.DataFrame(flag)"
      ]
    },
    {
      "cell_type": "code",
      "execution_count": null,
      "metadata": {
        "id": "TN7IUd31FfjK",
        "outputId": "f8ed5442-7052-46f7-a0f6-f0e3c99d0d96"
      },
      "outputs": [
        {
          "data": {
            "text/html": [
              "<div>\n",
              "<style scoped>\n",
              "    .dataframe tbody tr th:only-of-type {\n",
              "        vertical-align: middle;\n",
              "    }\n",
              "\n",
              "    .dataframe tbody tr th {\n",
              "        vertical-align: top;\n",
              "    }\n",
              "\n",
              "    .dataframe thead th {\n",
              "        text-align: right;\n",
              "    }\n",
              "</style>\n",
              "<table border=\"1\" class=\"dataframe\">\n",
              "  <thead>\n",
              "    <tr style=\"text-align: right;\">\n",
              "      <th></th>\n",
              "      <th>tweet_id</th>\n",
              "      <th>author_id</th>\n",
              "      <th>inbound</th>\n",
              "      <th>created_at</th>\n",
              "      <th>text</th>\n",
              "      <th>response_tweet_id</th>\n",
              "      <th>in_response_to_tweet_id</th>\n",
              "      <th>flag</th>\n",
              "    </tr>\n",
              "  </thead>\n",
              "  <tbody>\n",
              "    <tr>\n",
              "      <th>0</th>\n",
              "      <td>29</td>\n",
              "      <td>115716</td>\n",
              "      <td>1</td>\n",
              "      <td>Tue Oct 31 22:01:35 +0000 2017</td>\n",
              "      <td>actually that's a broken link you sent me and ...</td>\n",
              "      <td>28</td>\n",
              "      <td>NaN</td>\n",
              "      <td>1</td>\n",
              "    </tr>\n",
              "    <tr>\n",
              "      <th>1</th>\n",
              "      <td>272</td>\n",
              "      <td>115770</td>\n",
              "      <td>1</td>\n",
              "      <td>Wed Nov 22 09:14:39 +0000 2017</td>\n",
              "      <td>amazonのfiretvstickが見れない😢</td>\n",
              "      <td>269</td>\n",
              "      <td>NaN</td>\n",
              "      <td>0</td>\n",
              "    </tr>\n",
              "    <tr>\n",
              "      <th>2</th>\n",
              "      <td>293</td>\n",
              "      <td>115769</td>\n",
              "      <td>1</td>\n",
              "      <td>Wed Oct 18 14:07:45 +0000 2017</td>\n",
              "      <td>whoa! come along with lightroom’s own ben ward...</td>\n",
              "      <td>292</td>\n",
              "      <td>NaN</td>\n",
              "      <td>1</td>\n",
              "    </tr>\n",
              "    <tr>\n",
              "      <th>3</th>\n",
              "      <td>325</td>\n",
              "      <td>115792</td>\n",
              "      <td>1</td>\n",
              "      <td>Wed Nov 22 08:55:35 +0000 2017</td>\n",
              "      <td>amazonプライムビデオ、再生エラーが多いです</td>\n",
              "      <td>324</td>\n",
              "      <td>NaN</td>\n",
              "      <td>0</td>\n",
              "    </tr>\n",
              "    <tr>\n",
              "      <th>4</th>\n",
              "      <td>348</td>\n",
              "      <td>115798</td>\n",
              "      <td>1</td>\n",
              "      <td>Mon Aug 29 03:20:05 +0000 2011</td>\n",
              "      <td>lost your booking number? no worries, just dro...</td>\n",
              "      <td>349,350,351,352,347,353,354,355,356,357,358,35...</td>\n",
              "      <td>NaN</td>\n",
              "      <td>1</td>\n",
              "    </tr>\n",
              "  </tbody>\n",
              "</table>\n",
              "</div>"
            ],
            "text/plain": [
              "   tweet_id author_id  inbound                      created_at  \\\n",
              "0        29    115716        1  Tue Oct 31 22:01:35 +0000 2017   \n",
              "1       272    115770        1  Wed Nov 22 09:14:39 +0000 2017   \n",
              "2       293    115769        1  Wed Oct 18 14:07:45 +0000 2017   \n",
              "3       325    115792        1  Wed Nov 22 08:55:35 +0000 2017   \n",
              "4       348    115798        1  Mon Aug 29 03:20:05 +0000 2011   \n",
              "\n",
              "                                                text  \\\n",
              "0  actually that's a broken link you sent me and ...   \n",
              "1                           amazonのfiretvstickが見れない😢   \n",
              "2  whoa! come along with lightroom’s own ben ward...   \n",
              "3                           amazonプライムビデオ、再生エラーが多いです   \n",
              "4  lost your booking number? no worries, just dro...   \n",
              "\n",
              "                                   response_tweet_id  in_response_to_tweet_id  \\\n",
              "0                                                 28                      NaN   \n",
              "1                                                269                      NaN   \n",
              "2                                                292                      NaN   \n",
              "3                                                324                      NaN   \n",
              "4  349,350,351,352,347,353,354,355,356,357,358,35...                      NaN   \n",
              "\n",
              "   flag  \n",
              "0     1  \n",
              "1     0  \n",
              "2     1  \n",
              "3     0  \n",
              "4     1  "
            ]
          },
          "execution_count": 132,
          "metadata": {},
          "output_type": "execute_result"
        }
      ],
      "source": [
        "df22.head()"
      ]
    },
    {
      "cell_type": "code",
      "execution_count": null,
      "metadata": {
        "id": "0DgZrwtfFfjL",
        "outputId": "bf834d8e-14a5-407a-f3d3-60b4e5632fb0",
        "scrolled": true
      },
      "outputs": [
        {
          "data": {
            "text/html": [
              "<div>\n",
              "<style scoped>\n",
              "    .dataframe tbody tr th:only-of-type {\n",
              "        vertical-align: middle;\n",
              "    }\n",
              "\n",
              "    .dataframe tbody tr th {\n",
              "        vertical-align: top;\n",
              "    }\n",
              "\n",
              "    .dataframe thead th {\n",
              "        text-align: right;\n",
              "    }\n",
              "</style>\n",
              "<table border=\"1\" class=\"dataframe\">\n",
              "  <thead>\n",
              "    <tr style=\"text-align: right;\">\n",
              "      <th></th>\n",
              "      <th>No. of Inbounds without @</th>\n",
              "    </tr>\n",
              "  </thead>\n",
              "  <tbody>\n",
              "    <tr>\n",
              "      <th>Tweets tagged to Company</th>\n",
              "      <td>30715</td>\n",
              "    </tr>\n",
              "    <tr>\n",
              "      <th>Tweets to be flagged</th>\n",
              "      <td>25055</td>\n",
              "    </tr>\n",
              "  </tbody>\n",
              "</table>\n",
              "</div>"
            ],
            "text/plain": [
              "                          No. of Inbounds without @\n",
              "Tweets tagged to Company                      30715\n",
              "Tweets to be flagged                          25055"
            ]
          },
          "execution_count": 213,
          "metadata": {},
          "output_type": "execute_result"
        }
      ],
      "source": [
        "de = pd.DataFrame(df22.flag.value_counts())\n",
        "de.index = ['Tweets tagged to Company', 'Tweets to be flagged']\n",
        "de.columns = ['No. of Inbounds without @']\n",
        "de"
      ]
    },
    {
      "cell_type": "code",
      "execution_count": null,
      "metadata": {
        "id": "psrr0c-KFfjL",
        "outputId": "4651bb7c-9dde-43ad-e669-976c17d614b6"
      },
      "outputs": [
        {
          "data": {
            "image/png": "[encoded data removed]",
            "text/plain": [
              "<Figure size 360x504 with 1 Axes>"
            ]
          },
          "metadata": {},
          "output_type": "display_data"
        }
      ],
      "source": [
        "sns.barplot(x = de.index, y = de['No. of Inbounds without @'])\n",
        "plt.rcParams['figure.figsize'] = [5,7]"
      ]
    },
    {
      "cell_type": "markdown",
      "metadata": {
        "id": "hmdkV-LuFfjL"
      },
      "source": [
        "## Inbounds Tweets with tagged @"
      ]
    },
    {
      "cell_type": "code",
      "execution_count": null,
      "metadata": {
        "id": "zXnHGXnNFfjL"
      },
      "outputs": [],
      "source": [
        "# Flag Tweet Counter\n",
        "count = 0\n",
        "c1 = []\n",
        "for j in df21.text:\n",
        "    for i in lst4:\n",
        "        if i not in j:\n",
        "            count = count + 1      \n",
        "    c1.append(108 - count)\n",
        "    count = 0\n",
        "\n",
        "flagg = []\n",
        "for i in c1:\n",
        "  if i > 0:\n",
        "      flagg.append(0)\n",
        "  else:\n",
        "      flagg.append(1)"
      ]
    },
    {
      "cell_type": "code",
      "execution_count": null,
      "metadata": {
        "id": "YwAWr6ZZFfjM"
      },
      "outputs": [],
      "source": [
        "df21.index = np.arange(0,1482073,1) "
      ]
    },
    {
      "cell_type": "code",
      "execution_count": null,
      "metadata": {
        "id": "Ljxlm96NFfjM"
      },
      "outputs": [],
      "source": [
        "df21['flag'] = pd.DataFrame(flagg)    ## creating new column to represent flag tweets "
      ]
    },
    {
      "cell_type": "code",
      "execution_count": null,
      "metadata": {
        "id": "EHJEbXc9FfjM",
        "outputId": "689a4902-601b-4a02-80e6-9eccbbe04fe0",
        "scrolled": true
      },
      "outputs": [
        {
          "data": {
            "text/html": [
              "<div>\n",
              "<style scoped>\n",
              "    .dataframe tbody tr th:only-of-type {\n",
              "        vertical-align: middle;\n",
              "    }\n",
              "\n",
              "    .dataframe tbody tr th {\n",
              "        vertical-align: top;\n",
              "    }\n",
              "\n",
              "    .dataframe thead th {\n",
              "        text-align: right;\n",
              "    }\n",
              "</style>\n",
              "<table border=\"1\" class=\"dataframe\">\n",
              "  <thead>\n",
              "    <tr style=\"text-align: right;\">\n",
              "      <th></th>\n",
              "      <th>tweet_id</th>\n",
              "      <th>author_id</th>\n",
              "      <th>inbound</th>\n",
              "      <th>created_at</th>\n",
              "      <th>text</th>\n",
              "      <th>response_tweet_id</th>\n",
              "      <th>in_response_to_tweet_id</th>\n",
              "      <th>flag</th>\n",
              "    </tr>\n",
              "  </thead>\n",
              "  <tbody>\n",
              "    <tr>\n",
              "      <th>0</th>\n",
              "      <td>2</td>\n",
              "      <td>115712</td>\n",
              "      <td>1</td>\n",
              "      <td>Tue Oct 31 22:11:45 +0000 2017</td>\n",
              "      <td>@sprintcare and how do you propose we do that</td>\n",
              "      <td>NaN</td>\n",
              "      <td>1.0</td>\n",
              "      <td>0</td>\n",
              "    </tr>\n",
              "    <tr>\n",
              "      <th>1</th>\n",
              "      <td>3</td>\n",
              "      <td>115712</td>\n",
              "      <td>1</td>\n",
              "      <td>Tue Oct 31 22:08:27 +0000 2017</td>\n",
              "      <td>@sprintcare I have sent several private messag...</td>\n",
              "      <td>1</td>\n",
              "      <td>4.0</td>\n",
              "      <td>0</td>\n",
              "    </tr>\n",
              "    <tr>\n",
              "      <th>2</th>\n",
              "      <td>5</td>\n",
              "      <td>115712</td>\n",
              "      <td>1</td>\n",
              "      <td>Tue Oct 31 21:49:35 +0000 2017</td>\n",
              "      <td>@sprintcare I did.</td>\n",
              "      <td>4</td>\n",
              "      <td>6.0</td>\n",
              "      <td>0</td>\n",
              "    </tr>\n",
              "    <tr>\n",
              "      <th>3</th>\n",
              "      <td>8</td>\n",
              "      <td>115712</td>\n",
              "      <td>1</td>\n",
              "      <td>Tue Oct 31 21:45:10 +0000 2017</td>\n",
              "      <td>@sprintcare is the worst customer service</td>\n",
              "      <td>9,6,10</td>\n",
              "      <td>NaN</td>\n",
              "      <td>0</td>\n",
              "    </tr>\n",
              "    <tr>\n",
              "      <th>4</th>\n",
              "      <td>12</td>\n",
              "      <td>115713</td>\n",
              "      <td>1</td>\n",
              "      <td>Tue Oct 31 22:04:47 +0000 2017</td>\n",
              "      <td>@sprintcare You gonna magically change your co...</td>\n",
              "      <td>11,13,14</td>\n",
              "      <td>15.0</td>\n",
              "      <td>0</td>\n",
              "    </tr>\n",
              "  </tbody>\n",
              "</table>\n",
              "</div>"
            ],
            "text/plain": [
              "   tweet_id author_id  inbound                      created_at  \\\n",
              "0         2    115712        1  Tue Oct 31 22:11:45 +0000 2017   \n",
              "1         3    115712        1  Tue Oct 31 22:08:27 +0000 2017   \n",
              "2         5    115712        1  Tue Oct 31 21:49:35 +0000 2017   \n",
              "3         8    115712        1  Tue Oct 31 21:45:10 +0000 2017   \n",
              "4        12    115713        1  Tue Oct 31 22:04:47 +0000 2017   \n",
              "\n",
              "                                                text response_tweet_id  \\\n",
              "0      @sprintcare and how do you propose we do that               NaN   \n",
              "1  @sprintcare I have sent several private messag...                 1   \n",
              "2                                 @sprintcare I did.                 4   \n",
              "3          @sprintcare is the worst customer service            9,6,10   \n",
              "4  @sprintcare You gonna magically change your co...          11,13,14   \n",
              "\n",
              "   in_response_to_tweet_id  flag  \n",
              "0                      1.0     0  \n",
              "1                      4.0     0  \n",
              "2                      6.0     0  \n",
              "3                      NaN     0  \n",
              "4                     15.0     0  "
            ]
          },
          "execution_count": 162,
          "metadata": {},
          "output_type": "execute_result"
        }
      ],
      "source": [
        "df21.head()"
      ]
    },
    {
      "cell_type": "code",
      "execution_count": null,
      "metadata": {
        "id": "hLAbZ3_qFfjM",
        "outputId": "2b37d597-22cc-478e-c4ef-e527c298a2c4",
        "scrolled": true
      },
      "outputs": [
        {
          "data": {
            "text/html": [
              "<div>\n",
              "<style scoped>\n",
              "    .dataframe tbody tr th:only-of-type {\n",
              "        vertical-align: middle;\n",
              "    }\n",
              "\n",
              "    .dataframe tbody tr th {\n",
              "        vertical-align: top;\n",
              "    }\n",
              "\n",
              "    .dataframe thead th {\n",
              "        text-align: right;\n",
              "    }\n",
              "</style>\n",
              "<table border=\"1\" class=\"dataframe\">\n",
              "  <thead>\n",
              "    <tr style=\"text-align: right;\">\n",
              "      <th></th>\n",
              "      <th>No. of Inbounds with @</th>\n",
              "    </tr>\n",
              "  </thead>\n",
              "  <tbody>\n",
              "    <tr>\n",
              "      <th>Tweets to be flagged</th>\n",
              "      <td>1120646</td>\n",
              "    </tr>\n",
              "    <tr>\n",
              "      <th>Tweets tagged to Company</th>\n",
              "      <td>361427</td>\n",
              "    </tr>\n",
              "  </tbody>\n",
              "</table>\n",
              "</div>"
            ],
            "text/plain": [
              "                          No. of Inbounds with @\n",
              "Tweets to be flagged                     1120646\n",
              "Tweets tagged to Company                  361427"
            ]
          },
          "execution_count": 211,
          "metadata": {},
          "output_type": "execute_result"
        }
      ],
      "source": [
        "de1 = pd.DataFrame(df21.flag.value_counts())\n",
        "de1.index = ['Tweets to be flagged','Tweets tagged to Company']\n",
        "de1.columns = ['No. of Inbounds with @']\n",
        "de1"
      ]
    },
    {
      "cell_type": "code",
      "execution_count": null,
      "metadata": {
        "id": "rqYy-7oPFfjN",
        "outputId": "eb9cb317-53c4-4302-f442-ffdc74414d87",
        "scrolled": false
      },
      "outputs": [
        {
          "data": {
            "image/png": "[encoded data removed]",
            "text/plain": [
              "<Figure size 360x504 with 1 Axes>"
            ]
          },
          "metadata": {},
          "output_type": "display_data"
        }
      ],
      "source": [
        "sns.barplot(x = de1.index, y = de1['No. of Inbounds with @'])\n",
        "plt.rcParams['figure.figsize'] = [5,7]"
      ]
    },
    {
      "cell_type": "markdown",
      "source": [
        "Thus, most of the tagged tweets are found to be unimportant and should be flagged"
      ],
      "metadata": {
        "id": "nW0lUXOLsY5_"
      }
    },
    {
      "cell_type": "markdown",
      "metadata": {
        "id": "3Go3SifLFfjN"
      },
      "source": [
        "## Combined Inbound Tweets"
      ]
    },
    {
      "cell_type": "code",
      "execution_count": null,
      "metadata": {
        "id": "8j-JS5VwFfjN"
      },
      "outputs": [],
      "source": [
        "df6 = pd.concat([df21,df22],axis=0,ignore_index=True)"
      ]
    },
    {
      "cell_type": "code",
      "execution_count": null,
      "metadata": {
        "id": "9G3ZsQkMFfjN",
        "outputId": "dca47812-86b3-4dd4-acd2-6f7c9ac45d9d"
      },
      "outputs": [
        {
          "data": {
            "text/html": [
              "<div>\n",
              "<style scoped>\n",
              "    .dataframe tbody tr th:only-of-type {\n",
              "        vertical-align: middle;\n",
              "    }\n",
              "\n",
              "    .dataframe tbody tr th {\n",
              "        vertical-align: top;\n",
              "    }\n",
              "\n",
              "    .dataframe thead th {\n",
              "        text-align: right;\n",
              "    }\n",
              "</style>\n",
              "<table border=\"1\" class=\"dataframe\">\n",
              "  <thead>\n",
              "    <tr style=\"text-align: right;\">\n",
              "      <th></th>\n",
              "      <th>tweet_id</th>\n",
              "      <th>author_id</th>\n",
              "      <th>inbound</th>\n",
              "      <th>created_at</th>\n",
              "      <th>text</th>\n",
              "      <th>response_tweet_id</th>\n",
              "      <th>in_response_to_tweet_id</th>\n",
              "      <th>flag</th>\n",
              "    </tr>\n",
              "  </thead>\n",
              "  <tbody>\n",
              "    <tr>\n",
              "      <th>0</th>\n",
              "      <td>2</td>\n",
              "      <td>115712</td>\n",
              "      <td>1</td>\n",
              "      <td>Tue Oct 31 22:11:45 +0000 2017</td>\n",
              "      <td>@sprintcare and how do you propose we do that</td>\n",
              "      <td>NaN</td>\n",
              "      <td>1.0</td>\n",
              "      <td>0</td>\n",
              "    </tr>\n",
              "    <tr>\n",
              "      <th>1</th>\n",
              "      <td>3</td>\n",
              "      <td>115712</td>\n",
              "      <td>1</td>\n",
              "      <td>Tue Oct 31 22:08:27 +0000 2017</td>\n",
              "      <td>@sprintcare I have sent several private messag...</td>\n",
              "      <td>1</td>\n",
              "      <td>4.0</td>\n",
              "      <td>0</td>\n",
              "    </tr>\n",
              "    <tr>\n",
              "      <th>2</th>\n",
              "      <td>5</td>\n",
              "      <td>115712</td>\n",
              "      <td>1</td>\n",
              "      <td>Tue Oct 31 21:49:35 +0000 2017</td>\n",
              "      <td>@sprintcare I did.</td>\n",
              "      <td>4</td>\n",
              "      <td>6.0</td>\n",
              "      <td>0</td>\n",
              "    </tr>\n",
              "    <tr>\n",
              "      <th>3</th>\n",
              "      <td>8</td>\n",
              "      <td>115712</td>\n",
              "      <td>1</td>\n",
              "      <td>Tue Oct 31 21:45:10 +0000 2017</td>\n",
              "      <td>@sprintcare is the worst customer service</td>\n",
              "      <td>9,6,10</td>\n",
              "      <td>NaN</td>\n",
              "      <td>0</td>\n",
              "    </tr>\n",
              "    <tr>\n",
              "      <th>4</th>\n",
              "      <td>12</td>\n",
              "      <td>115713</td>\n",
              "      <td>1</td>\n",
              "      <td>Tue Oct 31 22:04:47 +0000 2017</td>\n",
              "      <td>@sprintcare You gonna magically change your co...</td>\n",
              "      <td>11,13,14</td>\n",
              "      <td>15.0</td>\n",
              "      <td>0</td>\n",
              "    </tr>\n",
              "  </tbody>\n",
              "</table>\n",
              "</div>"
            ],
            "text/plain": [
              "   tweet_id author_id  inbound                      created_at  \\\n",
              "0         2    115712        1  Tue Oct 31 22:11:45 +0000 2017   \n",
              "1         3    115712        1  Tue Oct 31 22:08:27 +0000 2017   \n",
              "2         5    115712        1  Tue Oct 31 21:49:35 +0000 2017   \n",
              "3         8    115712        1  Tue Oct 31 21:45:10 +0000 2017   \n",
              "4        12    115713        1  Tue Oct 31 22:04:47 +0000 2017   \n",
              "\n",
              "                                                text response_tweet_id  \\\n",
              "0      @sprintcare and how do you propose we do that               NaN   \n",
              "1  @sprintcare I have sent several private messag...                 1   \n",
              "2                                 @sprintcare I did.                 4   \n",
              "3          @sprintcare is the worst customer service            9,6,10   \n",
              "4  @sprintcare You gonna magically change your co...          11,13,14   \n",
              "\n",
              "   in_response_to_tweet_id  flag  \n",
              "0                      1.0     0  \n",
              "1                      4.0     0  \n",
              "2                      6.0     0  \n",
              "3                      NaN     0  \n",
              "4                     15.0     0  "
            ]
          },
          "execution_count": 171,
          "metadata": {},
          "output_type": "execute_result"
        }
      ],
      "source": [
        "df6.head()"
      ]
    },
    {
      "cell_type": "code",
      "execution_count": null,
      "metadata": {
        "id": "cOaFjcHlFfjO",
        "outputId": "364e6c19-f228-40e7-84c0-19b9a9f9c22a"
      },
      "outputs": [
        {
          "data": {
            "text/html": [
              "<div>\n",
              "<style scoped>\n",
              "    .dataframe tbody tr th:only-of-type {\n",
              "        vertical-align: middle;\n",
              "    }\n",
              "\n",
              "    .dataframe tbody tr th {\n",
              "        vertical-align: top;\n",
              "    }\n",
              "\n",
              "    .dataframe thead th {\n",
              "        text-align: right;\n",
              "    }\n",
              "</style>\n",
              "<table border=\"1\" class=\"dataframe\">\n",
              "  <thead>\n",
              "    <tr style=\"text-align: right;\">\n",
              "      <th></th>\n",
              "      <th>No. of Inbounds</th>\n",
              "    </tr>\n",
              "  </thead>\n",
              "  <tbody>\n",
              "    <tr>\n",
              "      <th>Tweets to be flagged</th>\n",
              "      <td>1145701</td>\n",
              "    </tr>\n",
              "    <tr>\n",
              "      <th>Tweets tagged to Company</th>\n",
              "      <td>392142</td>\n",
              "    </tr>\n",
              "  </tbody>\n",
              "</table>\n",
              "</div>"
            ],
            "text/plain": [
              "                          No. of Inbounds\n",
              "Tweets to be flagged              1145701\n",
              "Tweets tagged to Company           392142"
            ]
          },
          "execution_count": 209,
          "metadata": {},
          "output_type": "execute_result"
        }
      ],
      "source": [
        "de2 = pd.DataFrame(df6.flag.value_counts())\n",
        "de2.index = ['Tweets to be flagged','Tweets tagged to Company']\n",
        "de2.columns = ['No. of Inbounds']\n",
        "de2"
      ]
    },
    {
      "cell_type": "code",
      "execution_count": null,
      "metadata": {
        "id": "Eq1r4SyZFfjO",
        "outputId": "ab1049f0-e347-4513-d416-2c7e77c0dfb7",
        "scrolled": false
      },
      "outputs": [
        {
          "data": {
            "image/png": "[encoded data removed]",
            "text/plain": [
              "<Figure size 360x504 with 1 Axes>"
            ]
          },
          "metadata": {},
          "output_type": "display_data"
        }
      ],
      "source": [
        "sns.barplot(x = de2.index, y = de2['No. of Inbounds'])\n",
        "plt.rcParams['figure.figsize'] = [5,7]"
      ]
    },
    {
      "cell_type": "markdown",
      "metadata": {
        "id": "-1X87buuFfjO"
      },
      "source": [
        "This is clearly an imbalanced dataset. Suprisingly, the inbound tweets have to be flagged the most."
      ]
    },
    {
      "cell_type": "markdown",
      "metadata": {
        "id": "rP6JPC59FfjO"
      },
      "source": [
        "## Combined all Tweets"
      ]
    },
    {
      "cell_type": "code",
      "execution_count": null,
      "metadata": {
        "id": "VZ3VAedgFfjO"
      },
      "outputs": [],
      "source": [
        "df1['flag'] = 0"
      ]
    },
    {
      "cell_type": "code",
      "execution_count": null,
      "metadata": {
        "id": "UdKalo2hFfjP",
        "outputId": "d6f63b16-8a24-4eb4-d75f-fe1df016c9a2"
      },
      "outputs": [
        {
          "data": {
            "text/html": [
              "<div>\n",
              "<style scoped>\n",
              "    .dataframe tbody tr th:only-of-type {\n",
              "        vertical-align: middle;\n",
              "    }\n",
              "\n",
              "    .dataframe tbody tr th {\n",
              "        vertical-align: top;\n",
              "    }\n",
              "\n",
              "    .dataframe thead th {\n",
              "        text-align: right;\n",
              "    }\n",
              "</style>\n",
              "<table border=\"1\" class=\"dataframe\">\n",
              "  <thead>\n",
              "    <tr style=\"text-align: right;\">\n",
              "      <th></th>\n",
              "      <th>tweet_id</th>\n",
              "      <th>author_id</th>\n",
              "      <th>inbound</th>\n",
              "      <th>created_at</th>\n",
              "      <th>text</th>\n",
              "      <th>response_tweet_id</th>\n",
              "      <th>in_response_to_tweet_id</th>\n",
              "      <th>flag</th>\n",
              "    </tr>\n",
              "  </thead>\n",
              "  <tbody>\n",
              "    <tr>\n",
              "      <th>0</th>\n",
              "      <td>1</td>\n",
              "      <td>sprintcare</td>\n",
              "      <td>0</td>\n",
              "      <td>Tue Oct 31 22:10:47 +0000 2017</td>\n",
              "      <td>@115712 I understand. I would like to assist y...</td>\n",
              "      <td>2</td>\n",
              "      <td>3.0</td>\n",
              "      <td>0</td>\n",
              "    </tr>\n",
              "    <tr>\n",
              "      <th>3</th>\n",
              "      <td>4</td>\n",
              "      <td>sprintcare</td>\n",
              "      <td>0</td>\n",
              "      <td>Tue Oct 31 21:54:49 +0000 2017</td>\n",
              "      <td>@115712 Please send us a Private Message so th...</td>\n",
              "      <td>3</td>\n",
              "      <td>5.0</td>\n",
              "      <td>0</td>\n",
              "    </tr>\n",
              "    <tr>\n",
              "      <th>5</th>\n",
              "      <td>6</td>\n",
              "      <td>sprintcare</td>\n",
              "      <td>0</td>\n",
              "      <td>Tue Oct 31 21:46:24 +0000 2017</td>\n",
              "      <td>@115712 Can you please send us a private messa...</td>\n",
              "      <td>5,7</td>\n",
              "      <td>8.0</td>\n",
              "      <td>0</td>\n",
              "    </tr>\n",
              "    <tr>\n",
              "      <th>7</th>\n",
              "      <td>11</td>\n",
              "      <td>sprintcare</td>\n",
              "      <td>0</td>\n",
              "      <td>Tue Oct 31 22:10:35 +0000 2017</td>\n",
              "      <td>@115713 This is saddening to hear. Please shoo...</td>\n",
              "      <td>NaN</td>\n",
              "      <td>12.0</td>\n",
              "      <td>0</td>\n",
              "    </tr>\n",
              "    <tr>\n",
              "      <th>9</th>\n",
              "      <td>15</td>\n",
              "      <td>sprintcare</td>\n",
              "      <td>0</td>\n",
              "      <td>Tue Oct 31 20:03:31 +0000 2017</td>\n",
              "      <td>@115713 We understand your concerns and we'd l...</td>\n",
              "      <td>12</td>\n",
              "      <td>16.0</td>\n",
              "      <td>0</td>\n",
              "    </tr>\n",
              "  </tbody>\n",
              "</table>\n",
              "</div>"
            ],
            "text/plain": [
              "   tweet_id   author_id  inbound                      created_at  \\\n",
              "0         1  sprintcare        0  Tue Oct 31 22:10:47 +0000 2017   \n",
              "3         4  sprintcare        0  Tue Oct 31 21:54:49 +0000 2017   \n",
              "5         6  sprintcare        0  Tue Oct 31 21:46:24 +0000 2017   \n",
              "7        11  sprintcare        0  Tue Oct 31 22:10:35 +0000 2017   \n",
              "9        15  sprintcare        0  Tue Oct 31 20:03:31 +0000 2017   \n",
              "\n",
              "                                                text response_tweet_id  \\\n",
              "0  @115712 I understand. I would like to assist y...                 2   \n",
              "3  @115712 Please send us a Private Message so th...                 3   \n",
              "5  @115712 Can you please send us a private messa...               5,7   \n",
              "7  @115713 This is saddening to hear. Please shoo...               NaN   \n",
              "9  @115713 We understand your concerns and we'd l...                12   \n",
              "\n",
              "   in_response_to_tweet_id  flag  \n",
              "0                      3.0     0  \n",
              "3                      5.0     0  \n",
              "5                      8.0     0  \n",
              "7                     12.0     0  \n",
              "9                     16.0     0  "
            ]
          },
          "execution_count": 187,
          "metadata": {},
          "output_type": "execute_result"
        }
      ],
      "source": [
        "df1.head()"
      ]
    },
    {
      "cell_type": "code",
      "execution_count": null,
      "metadata": {
        "id": "9XLUVL1hFfjP"
      },
      "outputs": [],
      "source": [
        "df9 = pd.concat([df1,df6],axis=0,ignore_index=True)"
      ]
    },
    {
      "cell_type": "code",
      "execution_count": null,
      "metadata": {
        "id": "3KsAFp__FfjP",
        "outputId": "9ffb6914-2296-4ad7-e8ca-b9a482efd0e0"
      },
      "outputs": [
        {
          "data": {
            "text/html": [
              "<div>\n",
              "<style scoped>\n",
              "    .dataframe tbody tr th:only-of-type {\n",
              "        vertical-align: middle;\n",
              "    }\n",
              "\n",
              "    .dataframe tbody tr th {\n",
              "        vertical-align: top;\n",
              "    }\n",
              "\n",
              "    .dataframe thead th {\n",
              "        text-align: right;\n",
              "    }\n",
              "</style>\n",
              "<table border=\"1\" class=\"dataframe\">\n",
              "  <thead>\n",
              "    <tr style=\"text-align: right;\">\n",
              "      <th></th>\n",
              "      <th>tweet_id</th>\n",
              "      <th>author_id</th>\n",
              "      <th>inbound</th>\n",
              "      <th>created_at</th>\n",
              "      <th>text</th>\n",
              "      <th>response_tweet_id</th>\n",
              "      <th>in_response_to_tweet_id</th>\n",
              "      <th>flag</th>\n",
              "    </tr>\n",
              "  </thead>\n",
              "  <tbody>\n",
              "    <tr>\n",
              "      <th>0</th>\n",
              "      <td>1</td>\n",
              "      <td>sprintcare</td>\n",
              "      <td>0</td>\n",
              "      <td>Tue Oct 31 22:10:47 +0000 2017</td>\n",
              "      <td>@115712 I understand. I would like to assist y...</td>\n",
              "      <td>2</td>\n",
              "      <td>3.0</td>\n",
              "      <td>0</td>\n",
              "    </tr>\n",
              "    <tr>\n",
              "      <th>1</th>\n",
              "      <td>4</td>\n",
              "      <td>sprintcare</td>\n",
              "      <td>0</td>\n",
              "      <td>Tue Oct 31 21:54:49 +0000 2017</td>\n",
              "      <td>@115712 Please send us a Private Message so th...</td>\n",
              "      <td>3</td>\n",
              "      <td>5.0</td>\n",
              "      <td>0</td>\n",
              "    </tr>\n",
              "    <tr>\n",
              "      <th>2</th>\n",
              "      <td>6</td>\n",
              "      <td>sprintcare</td>\n",
              "      <td>0</td>\n",
              "      <td>Tue Oct 31 21:46:24 +0000 2017</td>\n",
              "      <td>@115712 Can you please send us a private messa...</td>\n",
              "      <td>5,7</td>\n",
              "      <td>8.0</td>\n",
              "      <td>0</td>\n",
              "    </tr>\n",
              "    <tr>\n",
              "      <th>3</th>\n",
              "      <td>11</td>\n",
              "      <td>sprintcare</td>\n",
              "      <td>0</td>\n",
              "      <td>Tue Oct 31 22:10:35 +0000 2017</td>\n",
              "      <td>@115713 This is saddening to hear. Please shoo...</td>\n",
              "      <td>NaN</td>\n",
              "      <td>12.0</td>\n",
              "      <td>0</td>\n",
              "    </tr>\n",
              "    <tr>\n",
              "      <th>4</th>\n",
              "      <td>15</td>\n",
              "      <td>sprintcare</td>\n",
              "      <td>0</td>\n",
              "      <td>Tue Oct 31 20:03:31 +0000 2017</td>\n",
              "      <td>@115713 We understand your concerns and we'd l...</td>\n",
              "      <td>12</td>\n",
              "      <td>16.0</td>\n",
              "      <td>0</td>\n",
              "    </tr>\n",
              "  </tbody>\n",
              "</table>\n",
              "</div>"
            ],
            "text/plain": [
              "   tweet_id   author_id  inbound                      created_at  \\\n",
              "0         1  sprintcare        0  Tue Oct 31 22:10:47 +0000 2017   \n",
              "1         4  sprintcare        0  Tue Oct 31 21:54:49 +0000 2017   \n",
              "2         6  sprintcare        0  Tue Oct 31 21:46:24 +0000 2017   \n",
              "3        11  sprintcare        0  Tue Oct 31 22:10:35 +0000 2017   \n",
              "4        15  sprintcare        0  Tue Oct 31 20:03:31 +0000 2017   \n",
              "\n",
              "                                                text response_tweet_id  \\\n",
              "0  @115712 I understand. I would like to assist y...                 2   \n",
              "1  @115712 Please send us a Private Message so th...                 3   \n",
              "2  @115712 Can you please send us a private messa...               5,7   \n",
              "3  @115713 This is saddening to hear. Please shoo...               NaN   \n",
              "4  @115713 We understand your concerns and we'd l...                12   \n",
              "\n",
              "   in_response_to_tweet_id  flag  \n",
              "0                      3.0     0  \n",
              "1                      5.0     0  \n",
              "2                      8.0     0  \n",
              "3                     12.0     0  \n",
              "4                     16.0     0  "
            ]
          },
          "execution_count": 189,
          "metadata": {},
          "output_type": "execute_result"
        }
      ],
      "source": [
        "df9.head()"
      ]
    },
    {
      "cell_type": "code",
      "execution_count": null,
      "metadata": {
        "id": "O-9w4fhRFfjP",
        "outputId": "4804bea0-d11d-4b59-9ecb-d3974c843ea9"
      },
      "outputs": [
        {
          "data": {
            "text/html": [
              "<div>\n",
              "<style scoped>\n",
              "    .dataframe tbody tr th:only-of-type {\n",
              "        vertical-align: middle;\n",
              "    }\n",
              "\n",
              "    .dataframe tbody tr th {\n",
              "        vertical-align: top;\n",
              "    }\n",
              "\n",
              "    .dataframe thead th {\n",
              "        text-align: right;\n",
              "    }\n",
              "</style>\n",
              "<table border=\"1\" class=\"dataframe\">\n",
              "  <thead>\n",
              "    <tr style=\"text-align: right;\">\n",
              "      <th></th>\n",
              "      <th>Total Counts</th>\n",
              "    </tr>\n",
              "  </thead>\n",
              "  <tbody>\n",
              "    <tr>\n",
              "      <th>Tweets tagged to Companies</th>\n",
              "      <td>1666073</td>\n",
              "    </tr>\n",
              "    <tr>\n",
              "      <th>Tweets to be flagged</th>\n",
              "      <td>1145701</td>\n",
              "    </tr>\n",
              "  </tbody>\n",
              "</table>\n",
              "</div>"
            ],
            "text/plain": [
              "                            Total Counts\n",
              "Tweets tagged to Companies       1666073\n",
              "Tweets to be flagged             1145701"
            ]
          },
          "execution_count": 215,
          "metadata": {},
          "output_type": "execute_result"
        }
      ],
      "source": [
        "de3 = pd.DataFrame(df9.flag.value_counts())\n",
        "de3.index = ['Tweets tagged to Companies', 'Tweets to be flagged']\n",
        "de3.columns = ['Total Counts']\n",
        "de3"
      ]
    },
    {
      "cell_type": "code",
      "execution_count": null,
      "metadata": {
        "id": "YpGccNU2FfjP",
        "outputId": "cae1e03a-b759-4311-f58c-6b354731b013"
      },
      "outputs": [
        {
          "data": {
            "image/png": "[encoded data removed]",
            "text/plain": [
              "<Figure size 360x504 with 1 Axes>"
            ]
          },
          "metadata": {},
          "output_type": "display_data"
        }
      ],
      "source": [
        "sns.barplot(x = de3.index, y = de3['Total Counts'])\n",
        "plt.rcParams['figure.figsize'] = [5,7]"
      ]
    },
    {
      "cell_type": "markdown",
      "metadata": {
        "id": "E9K84e-ZFfjP"
      },
      "source": [
        " As, there ratio is $2:3$ between both of them, thus is this not that imbalanced. We, can perform Machine Learning/ Deep Learning classification tasks next without sampling methods. "
      ]
    },
    {
      "cell_type": "markdown",
      "source": [
        "## Search Model to finding a Tweet to be flagged with known tagging (108 Comapanies)"
      ],
      "metadata": {
        "id": "c_JIAO42jNs6"
      }
    },
    {
      "cell_type": "code",
      "source": [
        "def tweet_flag_detector(text):\n",
        "  # Flag Tweet Counter\n",
        "  count = 0\n",
        "  c1 = []\n",
        "  for j in text:\n",
        "    for i in lst4:\n",
        "      if i not in j:\n",
        "        count = count + 1      \n",
        "    c1.append(108 - count)\n",
        "    count = 0\n",
        "\n",
        "  flagg = []\n",
        "  for i in c1:\n",
        "    if i > 0:\n",
        "      flagg.append(0)\n",
        "    else:\n",
        "      flagg.append(1)\n",
        "  return flagg   \n",
        "\n",
        "  #if c1[0] == 0:\n",
        "    #return 'No action needed'\n",
        "  #else:\n",
        "    #return 'Flag this tweet'"
      ],
      "metadata": {
        "id": "uV41ntonjOce"
      },
      "execution_count": null,
      "outputs": []
    },
    {
      "cell_type": "markdown",
      "source": [
        "#### Checking the Performance of the Search Model"
      ],
      "metadata": {
        "id": "_X44tMYuTJki"
      }
    },
    {
      "cell_type": "code",
      "source": [
        "pred = tweet_flag_detector(df11[df11.inbound == 1]['text'])\n",
        "accuracy_score(df11[df11.inbound == 1]['flag'],pred)"
      ],
      "metadata": {
        "colab": {
          "base_uri": "https://localhost:8080/"
        },
        "id": "HSytR1KjGAeE",
        "outputId": "98638071-14aa-4469-d2d2-cc87625b4369"
      },
      "execution_count": null,
      "outputs": [
        {
          "output_type": "execute_result",
          "data": {
            "text/plain": [
              "0.4479533228825852"
            ]
          },
          "metadata": {},
          "execution_count": 104
        }
      ]
    },
    {
      "cell_type": "markdown",
      "metadata": {
        "id": "0HpmoRQFGCTx"
      },
      "source": [
        "# Model Building for prediction of Tweets with unknown tagging & Author ID"
      ]
    },
    {
      "cell_type": "code",
      "execution_count": null,
      "metadata": {
        "id": "juaacUj0K8ma"
      },
      "outputs": [],
      "source": [
        "from google.colab import drive\n",
        "drive.mount('/content/drive')"
      ]
    },
    {
      "cell_type": "code",
      "execution_count": null,
      "metadata": {
        "id": "efxYUyxiLKJc"
      },
      "outputs": [],
      "source": [
        "df9 = pd.read_csv('/content/drive/MyDrive/twitter.csv')"
      ]
    },
    {
      "cell_type": "code",
      "execution_count": null,
      "metadata": {
        "id": "UD_PpgM3SQfY"
      },
      "outputs": [],
      "source": [
        "df9.drop('Unnamed: 0',axis=1,inplace=True)"
      ]
    },
    {
      "cell_type": "code",
      "execution_count": null,
      "metadata": {
        "colab": {
          "base_uri": "https://localhost:8080/",
          "height": 206
        },
        "id": "OkZw3PbQLlmD",
        "outputId": "0c6bdaa5-7ec8-4aeb-f342-f27d7c392350"
      },
      "outputs": [
        {
          "output_type": "execute_result",
          "data": {
            "text/plain": [
              "   tweet_id   author_id  inbound                      created_at  \\\n",
              "0         1  sprintcare        0  Tue Oct 31 22:10:47 +0000 2017   \n",
              "1         4  sprintcare        0  Tue Oct 31 21:54:49 +0000 2017   \n",
              "2         6  sprintcare        0  Tue Oct 31 21:46:24 +0000 2017   \n",
              "3        11  sprintcare        0  Tue Oct 31 22:10:35 +0000 2017   \n",
              "4        15  sprintcare        0  Tue Oct 31 20:03:31 +0000 2017   \n",
              "\n",
              "                                                text response_tweet_id  \\\n",
              "0  @115712 I understand. I would like to assist y...                 2   \n",
              "1  @115712 Please send us a Private Message so th...                 3   \n",
              "2  @115712 Can you please send us a private messa...               5,7   \n",
              "3  @115713 This is saddening to hear. Please shoo...               NaN   \n",
              "4  @115713 We understand your concerns and we'd l...                12   \n",
              "\n",
              "   in_response_to_tweet_id  flag  \n",
              "0                      3.0     0  \n",
              "1                      5.0     0  \n",
              "2                      8.0     0  \n",
              "3                     12.0     0  \n",
              "4                     16.0     0  "
            ],
            "text/html": [
              "\n",
              "  <div id=\"df-97d87dcd-d9b4-4f6d-b918-84d8fd7432be\">\n",
              "    <div class=\"colab-df-container\">\n",
              "      <div>\n",
              "<style scoped>\n",
              "    .dataframe tbody tr th:only-of-type {\n",
              "        vertical-align: middle;\n",
              "    }\n",
              "\n",
              "    .dataframe tbody tr th {\n",
              "        vertical-align: top;\n",
              "    }\n",
              "\n",
              "    .dataframe thead th {\n",
              "        text-align: right;\n",
              "    }\n",
              "</style>\n",
              "<table border=\"1\" class=\"dataframe\">\n",
              "  <thead>\n",
              "    <tr style=\"text-align: right;\">\n",
              "      <th></th>\n",
              "      <th>tweet_id</th>\n",
              "      <th>author_id</th>\n",
              "      <th>inbound</th>\n",
              "      <th>created_at</th>\n",
              "      <th>text</th>\n",
              "      <th>response_tweet_id</th>\n",
              "      <th>in_response_to_tweet_id</th>\n",
              "      <th>flag</th>\n",
              "    </tr>\n",
              "  </thead>\n",
              "  <tbody>\n",
              "    <tr>\n",
              "      <th>0</th>\n",
              "      <td>1</td>\n",
              "      <td>sprintcare</td>\n",
              "      <td>0</td>\n",
              "      <td>Tue Oct 31 22:10:47 +0000 2017</td>\n",
              "      <td>@115712 I understand. I would like to assist y...</td>\n",
              "      <td>2</td>\n",
              "      <td>3.0</td>\n",
              "      <td>0</td>\n",
              "    </tr>\n",
              "    <tr>\n",
              "      <th>1</th>\n",
              "      <td>4</td>\n",
              "      <td>sprintcare</td>\n",
              "      <td>0</td>\n",
              "      <td>Tue Oct 31 21:54:49 +0000 2017</td>\n",
              "      <td>@115712 Please send us a Private Message so th...</td>\n",
              "      <td>3</td>\n",
              "      <td>5.0</td>\n",
              "      <td>0</td>\n",
              "    </tr>\n",
              "    <tr>\n",
              "      <th>2</th>\n",
              "      <td>6</td>\n",
              "      <td>sprintcare</td>\n",
              "      <td>0</td>\n",
              "      <td>Tue Oct 31 21:46:24 +0000 2017</td>\n",
              "      <td>@115712 Can you please send us a private messa...</td>\n",
              "      <td>5,7</td>\n",
              "      <td>8.0</td>\n",
              "      <td>0</td>\n",
              "    </tr>\n",
              "    <tr>\n",
              "      <th>3</th>\n",
              "      <td>11</td>\n",
              "      <td>sprintcare</td>\n",
              "      <td>0</td>\n",
              "      <td>Tue Oct 31 22:10:35 +0000 2017</td>\n",
              "      <td>@115713 This is saddening to hear. Please shoo...</td>\n",
              "      <td>NaN</td>\n",
              "      <td>12.0</td>\n",
              "      <td>0</td>\n",
              "    </tr>\n",
              "    <tr>\n",
              "      <th>4</th>\n",
              "      <td>15</td>\n",
              "      <td>sprintcare</td>\n",
              "      <td>0</td>\n",
              "      <td>Tue Oct 31 20:03:31 +0000 2017</td>\n",
              "      <td>@115713 We understand your concerns and we'd l...</td>\n",
              "      <td>12</td>\n",
              "      <td>16.0</td>\n",
              "      <td>0</td>\n",
              "    </tr>\n",
              "  </tbody>\n",
              "</table>\n",
              "</div>\n",
              "      <button class=\"colab-df-convert\" onclick=\"convertToInteractive('df-97d87dcd-d9b4-4f6d-b918-84d8fd7432be')\"\n",
              "              title=\"Convert this dataframe to an interactive table.\"\n",
              "              style=\"display:none;\">\n",
              "        \n",
              "  <svg xmlns=\"http://www.w3.org/2000/svg\" height=\"24px\"viewBox=\"0 0 24 24\"\n",
              "       width=\"24px\">\n",
              "    <path d=\"M0 0h24v24H0V0z\" fill=\"none\"/>\n",
              "    <path d=\"M18.56 5.44l.94 2.06.94-2.06 2.06-.94-2.06-.94-.94-2.06-.94 2.06-2.06.94zm-11 1L8.5 8.5l.94-2.06 2.06-.94-2.06-.94L8.5 2.5l-.94 2.06-2.06.94zm10 10l.94 2.06.94-2.06 2.06-.94-2.06-.94-.94-2.06-.94 2.06-2.06.94z\"/><path d=\"M17.41 7.96l-1.37-1.37c-.4-.4-.92-.59-1.43-.59-.52 0-1.04.2-1.43.59L10.3 9.45l-7.72 7.72c-.78.78-.78 2.05 0 2.83L4 21.41c.39.39.9.59 1.41.59.51 0 1.02-.2 1.41-.59l7.78-7.78 2.81-2.81c.8-.78.8-2.07 0-2.86zM5.41 20L4 18.59l7.72-7.72 1.47 1.35L5.41 20z\"/>\n",
              "  </svg>\n",
              "      </button>\n",
              "      \n",
              "  <style>\n",
              "    .colab-df-container {\n",
              "      display:flex;\n",
              "      flex-wrap:wrap;\n",
              "      gap: 12px;\n",
              "    }\n",
              "\n",
              "    .colab-df-convert {\n",
              "      background-color: #E8F0FE;\n",
              "      border: none;\n",
              "      border-radius: 50%;\n",
              "      cursor: pointer;\n",
              "      display: none;\n",
              "      fill: #1967D2;\n",
              "      height: 32px;\n",
              "      padding: 0 0 0 0;\n",
              "      width: 32px;\n",
              "    }\n",
              "\n",
              "    .colab-df-convert:hover {\n",
              "      background-color: #E2EBFA;\n",
              "      box-shadow: 0px 1px 2px rgba(60, 64, 67, 0.3), 0px 1px 3px 1px rgba(60, 64, 67, 0.15);\n",
              "      fill: #174EA6;\n",
              "    }\n",
              "\n",
              "    [theme=dark] .colab-df-convert {\n",
              "      background-color: #3B4455;\n",
              "      fill: #D2E3FC;\n",
              "    }\n",
              "\n",
              "    [theme=dark] .colab-df-convert:hover {\n",
              "      background-color: #434B5C;\n",
              "      box-shadow: 0px 1px 3px 1px rgba(0, 0, 0, 0.15);\n",
              "      filter: drop-shadow(0px 1px 2px rgba(0, 0, 0, 0.3));\n",
              "      fill: #FFFFFF;\n",
              "    }\n",
              "  </style>\n",
              "\n",
              "      <script>\n",
              "        const buttonEl =\n",
              "          document.querySelector('#df-97d87dcd-d9b4-4f6d-b918-84d8fd7432be button.colab-df-convert');\n",
              "        buttonEl.style.display =\n",
              "          google.colab.kernel.accessAllowed ? 'block' : 'none';\n",
              "\n",
              "        async function convertToInteractive(key) {\n",
              "          const element = document.querySelector('#df-97d87dcd-d9b4-4f6d-b918-84d8fd7432be');\n",
              "          const dataTable =\n",
              "            await google.colab.kernel.invokeFunction('convertToInteractive',\n",
              "                                                     [key], {});\n",
              "          if (!dataTable) return;\n",
              "\n",
              "          const docLinkHtml = 'Like what you see? Visit the ' +\n",
              "            '<a target=\"_blank\" href=https://colab.research.google.com/notebooks/data_table.ipynb>data table notebook</a>'\n",
              "            + ' to learn more about interactive tables.';\n",
              "          element.innerHTML = '';\n",
              "          dataTable['output_type'] = 'display_data';\n",
              "          await google.colab.output.renderOutput(dataTable, element);\n",
              "          const docLink = document.createElement('div');\n",
              "          docLink.innerHTML = docLinkHtml;\n",
              "          element.appendChild(docLink);\n",
              "        }\n",
              "      </script>\n",
              "    </div>\n",
              "  </div>\n",
              "  "
            ]
          },
          "metadata": {},
          "execution_count": 7
        }
      ],
      "source": [
        "df9.head()"
      ]
    },
    {
      "cell_type": "code",
      "execution_count": null,
      "metadata": {
        "id": "GJ8wxPwiSOlr"
      },
      "outputs": [],
      "source": [
        "token = []\n",
        "for i in df9.text:\n",
        "  token.append(len(i.split()))"
      ]
    },
    {
      "cell_type": "code",
      "execution_count": null,
      "metadata": {
        "colab": {
          "base_uri": "https://localhost:8080/",
          "height": 466
        },
        "id": "iA-G_cZJUOw8",
        "outputId": "e4ebb3c1-ba3d-42df-8bab-73d4396908fd"
      },
      "outputs": [
        {
          "output_type": "display_data",
          "data": {
            "text/plain": [
              "<Figure size 720x504 with 1 Axes>"
            ],
            "image/png": "[encoded data removed]"
          },
          "metadata": {
            "needs_background": "light"
          }
        }
      ],
      "source": [
        "sns.distplot(token)\n",
        "plt.rcParams['figure.figsize'] = [10,7]\n",
        "plt.title('Token density of the Tweets', size=20)\n",
        "plt.xlabel('Text size', size=13)\n",
        "plt.show()"
      ]
    },
    {
      "cell_type": "markdown",
      "metadata": {
        "id": "vpC3F56Cd4eV"
      },
      "source": [
        "Thus, most of the sentences have $20$ words and the sentences have the highest word counts close to $140$. So, we can choose a maximum padding of $150 - 200$ for tokenization of each sentence."
      ]
    },
    {
      "cell_type": "markdown",
      "source": [
        "#### Text Preprocessing"
      ],
      "metadata": {
        "id": "qcPC4V5nKVCx"
      }
    },
    {
      "cell_type": "code",
      "execution_count": null,
      "metadata": {
        "id": "XUiBiSTpLuNA"
      },
      "outputs": [],
      "source": [
        "from sklearn.model_selection import train_test_split\n",
        "from sklearn.metrics import accuracy_score, recall_score, precision_score, f1_score, confusion_matrix, classification_report"
      ]
    },
    {
      "cell_type": "code",
      "execution_count": null,
      "metadata": {
        "id": "WsP3RCqJO4bA"
      },
      "outputs": [],
      "source": [
        "### Changing the object type to string type  \n",
        "df9['text'] = df9['text'].apply(lambda x: str(x))\n",
        "df9['author_id'] = df9['author_id'].apply(lambda x: str(x))"
      ]
    },
    {
      "cell_type": "code",
      "source": [
        "df10 = df9.iloc[:,[1,2,4,-1]]"
      ],
      "metadata": {
        "id": "tNDcOP3Vp0P9"
      },
      "execution_count": null,
      "outputs": []
    },
    {
      "cell_type": "code",
      "source": [
        "import re\n",
        "df10['text'] = df10['text'].apply(lambda x: re.sub('[^a-zA-Z0-9@]',' ',x))\n",
        "df10['text'] = df10['text'].apply(lambda x: x.lower())"
      ],
      "metadata": {
        "id": "higFkwbo2D3C"
      },
      "execution_count": null,
      "outputs": []
    },
    {
      "cell_type": "code",
      "source": [
        "df10.head()"
      ],
      "metadata": {
        "colab": {
          "base_uri": "https://localhost:8080/",
          "height": 206
        },
        "id": "ac_9pM4r2Ryr",
        "outputId": "6732b423-824b-4bdd-e3fb-998e384445b7"
      },
      "execution_count": null,
      "outputs": [
        {
          "output_type": "execute_result",
          "data": {
            "text/plain": [
              "    author_id  inbound                                               text  \\\n",
              "0  sprintcare        0  @115712 i understand  i would like to assist y...   \n",
              "1  sprintcare        0  @115712 please send us a private message so th...   \n",
              "2  sprintcare        0  @115712 can you please send us a private messa...   \n",
              "3  sprintcare        0  @115713 this is saddening to hear  please shoo...   \n",
              "4  sprintcare        0  @115713 we understand your concerns and we d l...   \n",
              "\n",
              "   flag  \n",
              "0     0  \n",
              "1     0  \n",
              "2     0  \n",
              "3     0  \n",
              "4     0  "
            ],
            "text/html": [
              "\n",
              "  <div id=\"df-2847d7f8-72cc-48a6-87f3-c6f677b4f9d8\">\n",
              "    <div class=\"colab-df-container\">\n",
              "      <div>\n",
              "<style scoped>\n",
              "    .dataframe tbody tr th:only-of-type {\n",
              "        vertical-align: middle;\n",
              "    }\n",
              "\n",
              "    .dataframe tbody tr th {\n",
              "        vertical-align: top;\n",
              "    }\n",
              "\n",
              "    .dataframe thead th {\n",
              "        text-align: right;\n",
              "    }\n",
              "</style>\n",
              "<table border=\"1\" class=\"dataframe\">\n",
              "  <thead>\n",
              "    <tr style=\"text-align: right;\">\n",
              "      <th></th>\n",
              "      <th>author_id</th>\n",
              "      <th>inbound</th>\n",
              "      <th>text</th>\n",
              "      <th>flag</th>\n",
              "    </tr>\n",
              "  </thead>\n",
              "  <tbody>\n",
              "    <tr>\n",
              "      <th>0</th>\n",
              "      <td>sprintcare</td>\n",
              "      <td>0</td>\n",
              "      <td>@115712 i understand  i would like to assist y...</td>\n",
              "      <td>0</td>\n",
              "    </tr>\n",
              "    <tr>\n",
              "      <th>1</th>\n",
              "      <td>sprintcare</td>\n",
              "      <td>0</td>\n",
              "      <td>@115712 please send us a private message so th...</td>\n",
              "      <td>0</td>\n",
              "    </tr>\n",
              "    <tr>\n",
              "      <th>2</th>\n",
              "      <td>sprintcare</td>\n",
              "      <td>0</td>\n",
              "      <td>@115712 can you please send us a private messa...</td>\n",
              "      <td>0</td>\n",
              "    </tr>\n",
              "    <tr>\n",
              "      <th>3</th>\n",
              "      <td>sprintcare</td>\n",
              "      <td>0</td>\n",
              "      <td>@115713 this is saddening to hear  please shoo...</td>\n",
              "      <td>0</td>\n",
              "    </tr>\n",
              "    <tr>\n",
              "      <th>4</th>\n",
              "      <td>sprintcare</td>\n",
              "      <td>0</td>\n",
              "      <td>@115713 we understand your concerns and we d l...</td>\n",
              "      <td>0</td>\n",
              "    </tr>\n",
              "  </tbody>\n",
              "</table>\n",
              "</div>\n",
              "      <button class=\"colab-df-convert\" onclick=\"convertToInteractive('df-2847d7f8-72cc-48a6-87f3-c6f677b4f9d8')\"\n",
              "              title=\"Convert this dataframe to an interactive table.\"\n",
              "              style=\"display:none;\">\n",
              "        \n",
              "  <svg xmlns=\"http://www.w3.org/2000/svg\" height=\"24px\"viewBox=\"0 0 24 24\"\n",
              "       width=\"24px\">\n",
              "    <path d=\"M0 0h24v24H0V0z\" fill=\"none\"/>\n",
              "    <path d=\"M18.56 5.44l.94 2.06.94-2.06 2.06-.94-2.06-.94-.94-2.06-.94 2.06-2.06.94zm-11 1L8.5 8.5l.94-2.06 2.06-.94-2.06-.94L8.5 2.5l-.94 2.06-2.06.94zm10 10l.94 2.06.94-2.06 2.06-.94-2.06-.94-.94-2.06-.94 2.06-2.06.94z\"/><path d=\"M17.41 7.96l-1.37-1.37c-.4-.4-.92-.59-1.43-.59-.52 0-1.04.2-1.43.59L10.3 9.45l-7.72 7.72c-.78.78-.78 2.05 0 2.83L4 21.41c.39.39.9.59 1.41.59.51 0 1.02-.2 1.41-.59l7.78-7.78 2.81-2.81c.8-.78.8-2.07 0-2.86zM5.41 20L4 18.59l7.72-7.72 1.47 1.35L5.41 20z\"/>\n",
              "  </svg>\n",
              "      </button>\n",
              "      \n",
              "  <style>\n",
              "    .colab-df-container {\n",
              "      display:flex;\n",
              "      flex-wrap:wrap;\n",
              "      gap: 12px;\n",
              "    }\n",
              "\n",
              "    .colab-df-convert {\n",
              "      background-color: #E8F0FE;\n",
              "      border: none;\n",
              "      border-radius: 50%;\n",
              "      cursor: pointer;\n",
              "      display: none;\n",
              "      fill: #1967D2;\n",
              "      height: 32px;\n",
              "      padding: 0 0 0 0;\n",
              "      width: 32px;\n",
              "    }\n",
              "\n",
              "    .colab-df-convert:hover {\n",
              "      background-color: #E2EBFA;\n",
              "      box-shadow: 0px 1px 2px rgba(60, 64, 67, 0.3), 0px 1px 3px 1px rgba(60, 64, 67, 0.15);\n",
              "      fill: #174EA6;\n",
              "    }\n",
              "\n",
              "    [theme=dark] .colab-df-convert {\n",
              "      background-color: #3B4455;\n",
              "      fill: #D2E3FC;\n",
              "    }\n",
              "\n",
              "    [theme=dark] .colab-df-convert:hover {\n",
              "      background-color: #434B5C;\n",
              "      box-shadow: 0px 1px 3px 1px rgba(0, 0, 0, 0.15);\n",
              "      filter: drop-shadow(0px 1px 2px rgba(0, 0, 0, 0.3));\n",
              "      fill: #FFFFFF;\n",
              "    }\n",
              "  </style>\n",
              "\n",
              "      <script>\n",
              "        const buttonEl =\n",
              "          document.querySelector('#df-2847d7f8-72cc-48a6-87f3-c6f677b4f9d8 button.colab-df-convert');\n",
              "        buttonEl.style.display =\n",
              "          google.colab.kernel.accessAllowed ? 'block' : 'none';\n",
              "\n",
              "        async function convertToInteractive(key) {\n",
              "          const element = document.querySelector('#df-2847d7f8-72cc-48a6-87f3-c6f677b4f9d8');\n",
              "          const dataTable =\n",
              "            await google.colab.kernel.invokeFunction('convertToInteractive',\n",
              "                                                     [key], {});\n",
              "          if (!dataTable) return;\n",
              "\n",
              "          const docLinkHtml = 'Like what you see? Visit the ' +\n",
              "            '<a target=\"_blank\" href=https://colab.research.google.com/notebooks/data_table.ipynb>data table notebook</a>'\n",
              "            + ' to learn more about interactive tables.';\n",
              "          element.innerHTML = '';\n",
              "          dataTable['output_type'] = 'display_data';\n",
              "          await google.colab.output.renderOutput(dataTable, element);\n",
              "          const docLink = document.createElement('div');\n",
              "          docLink.innerHTML = docLinkHtml;\n",
              "          element.appendChild(docLink);\n",
              "        }\n",
              "      </script>\n",
              "    </div>\n",
              "  </div>\n",
              "  "
            ]
          },
          "metadata": {},
          "execution_count": 8
        }
      ]
    },
    {
      "cell_type": "code",
      "source": [
        "import nltk\n",
        "import re\n",
        "from nltk.corpus import stopwords\n",
        "from nltk.stem.porter import PorterStemmer\n",
        "ps = PorterStemmer()\n",
        "nltk.download('stopwords')"
      ],
      "metadata": {
        "colab": {
          "base_uri": "https://localhost:8080/"
        },
        "id": "VI_0Dy3qU2F_",
        "outputId": "62664f60-b041-4e95-d594-ae78abb18ddf"
      },
      "execution_count": null,
      "outputs": [
        {
          "output_type": "stream",
          "name": "stderr",
          "text": [
            "[nltk_data] Downloading package stopwords to /root/nltk_data...\n",
            "[nltk_data]   Package stopwords is already up-to-date!\n"
          ]
        },
        {
          "output_type": "execute_result",
          "data": {
            "text/plain": [
              "True"
            ]
          },
          "metadata": {},
          "execution_count": 9
        }
      ]
    },
    {
      "cell_type": "code",
      "source": [
        "df21 = df10[df10.inbound == 0]\n",
        "df21['text'] = df21['text'].apply(lambda x: re.sub('[^0-9@]',' ',x))"
      ],
      "metadata": {
        "id": "YK1PQjj-lETe"
      },
      "execution_count": null,
      "outputs": []
    },
    {
      "cell_type": "code",
      "source": [
        "df23 = df10[df10.inbound == 1]\n",
        "df23['text'] = df23['text'].apply(lambda x: re.sub('[^a-z@]',' ',x))"
      ],
      "metadata": {
        "id": "icK2LlwEngGY"
      },
      "execution_count": null,
      "outputs": []
    },
    {
      "cell_type": "code",
      "source": [
        "df10 = pd.concat([df23, df21], axis=0, ignore_index=True)"
      ],
      "metadata": {
        "id": "5yMB2C5FmNoj"
      },
      "execution_count": null,
      "outputs": []
    },
    {
      "cell_type": "code",
      "source": [
        "df10.head()"
      ],
      "metadata": {
        "colab": {
          "base_uri": "https://localhost:8080/",
          "height": 206
        },
        "id": "aiOOeMnOm3Zj",
        "outputId": "0a696e79-dc39-401d-e90d-410823c92d8d"
      },
      "execution_count": null,
      "outputs": [
        {
          "output_type": "execute_result",
          "data": {
            "text/plain": [
              "  author_id  inbound                                               text  flag\n",
              "0    115712        1      @sprintcare and how do you propose we do that     0\n",
              "1    115712        1  @sprintcare i have sent several private messag...     0\n",
              "2    115712        1                                 @sprintcare i did      0\n",
              "3    115712        1          @sprintcare is the worst customer service     0\n",
              "4    115713        1  @sprintcare you gonna magically change your co...     0"
            ],
            "text/html": [
              "\n",
              "  <div id=\"df-35ec3572-b53d-4c98-9086-bbf76f676725\">\n",
              "    <div class=\"colab-df-container\">\n",
              "      <div>\n",
              "<style scoped>\n",
              "    .dataframe tbody tr th:only-of-type {\n",
              "        vertical-align: middle;\n",
              "    }\n",
              "\n",
              "    .dataframe tbody tr th {\n",
              "        vertical-align: top;\n",
              "    }\n",
              "\n",
              "    .dataframe thead th {\n",
              "        text-align: right;\n",
              "    }\n",
              "</style>\n",
              "<table border=\"1\" class=\"dataframe\">\n",
              "  <thead>\n",
              "    <tr style=\"text-align: right;\">\n",
              "      <th></th>\n",
              "      <th>author_id</th>\n",
              "      <th>inbound</th>\n",
              "      <th>text</th>\n",
              "      <th>flag</th>\n",
              "    </tr>\n",
              "  </thead>\n",
              "  <tbody>\n",
              "    <tr>\n",
              "      <th>0</th>\n",
              "      <td>115712</td>\n",
              "      <td>1</td>\n",
              "      <td>@sprintcare and how do you propose we do that</td>\n",
              "      <td>0</td>\n",
              "    </tr>\n",
              "    <tr>\n",
              "      <th>1</th>\n",
              "      <td>115712</td>\n",
              "      <td>1</td>\n",
              "      <td>@sprintcare i have sent several private messag...</td>\n",
              "      <td>0</td>\n",
              "    </tr>\n",
              "    <tr>\n",
              "      <th>2</th>\n",
              "      <td>115712</td>\n",
              "      <td>1</td>\n",
              "      <td>@sprintcare i did</td>\n",
              "      <td>0</td>\n",
              "    </tr>\n",
              "    <tr>\n",
              "      <th>3</th>\n",
              "      <td>115712</td>\n",
              "      <td>1</td>\n",
              "      <td>@sprintcare is the worst customer service</td>\n",
              "      <td>0</td>\n",
              "    </tr>\n",
              "    <tr>\n",
              "      <th>4</th>\n",
              "      <td>115713</td>\n",
              "      <td>1</td>\n",
              "      <td>@sprintcare you gonna magically change your co...</td>\n",
              "      <td>0</td>\n",
              "    </tr>\n",
              "  </tbody>\n",
              "</table>\n",
              "</div>\n",
              "      <button class=\"colab-df-convert\" onclick=\"convertToInteractive('df-35ec3572-b53d-4c98-9086-bbf76f676725')\"\n",
              "              title=\"Convert this dataframe to an interactive table.\"\n",
              "              style=\"display:none;\">\n",
              "        \n",
              "  <svg xmlns=\"http://www.w3.org/2000/svg\" height=\"24px\"viewBox=\"0 0 24 24\"\n",
              "       width=\"24px\">\n",
              "    <path d=\"M0 0h24v24H0V0z\" fill=\"none\"/>\n",
              "    <path d=\"M18.56 5.44l.94 2.06.94-2.06 2.06-.94-2.06-.94-.94-2.06-.94 2.06-2.06.94zm-11 1L8.5 8.5l.94-2.06 2.06-.94-2.06-.94L8.5 2.5l-.94 2.06-2.06.94zm10 10l.94 2.06.94-2.06 2.06-.94-2.06-.94-.94-2.06-.94 2.06-2.06.94z\"/><path d=\"M17.41 7.96l-1.37-1.37c-.4-.4-.92-.59-1.43-.59-.52 0-1.04.2-1.43.59L10.3 9.45l-7.72 7.72c-.78.78-.78 2.05 0 2.83L4 21.41c.39.39.9.59 1.41.59.51 0 1.02-.2 1.41-.59l7.78-7.78 2.81-2.81c.8-.78.8-2.07 0-2.86zM5.41 20L4 18.59l7.72-7.72 1.47 1.35L5.41 20z\"/>\n",
              "  </svg>\n",
              "      </button>\n",
              "      \n",
              "  <style>\n",
              "    .colab-df-container {\n",
              "      display:flex;\n",
              "      flex-wrap:wrap;\n",
              "      gap: 12px;\n",
              "    }\n",
              "\n",
              "    .colab-df-convert {\n",
              "      background-color: #E8F0FE;\n",
              "      border: none;\n",
              "      border-radius: 50%;\n",
              "      cursor: pointer;\n",
              "      display: none;\n",
              "      fill: #1967D2;\n",
              "      height: 32px;\n",
              "      padding: 0 0 0 0;\n",
              "      width: 32px;\n",
              "    }\n",
              "\n",
              "    .colab-df-convert:hover {\n",
              "      background-color: #E2EBFA;\n",
              "      box-shadow: 0px 1px 2px rgba(60, 64, 67, 0.3), 0px 1px 3px 1px rgba(60, 64, 67, 0.15);\n",
              "      fill: #174EA6;\n",
              "    }\n",
              "\n",
              "    [theme=dark] .colab-df-convert {\n",
              "      background-color: #3B4455;\n",
              "      fill: #D2E3FC;\n",
              "    }\n",
              "\n",
              "    [theme=dark] .colab-df-convert:hover {\n",
              "      background-color: #434B5C;\n",
              "      box-shadow: 0px 1px 3px 1px rgba(0, 0, 0, 0.15);\n",
              "      filter: drop-shadow(0px 1px 2px rgba(0, 0, 0, 0.3));\n",
              "      fill: #FFFFFF;\n",
              "    }\n",
              "  </style>\n",
              "\n",
              "      <script>\n",
              "        const buttonEl =\n",
              "          document.querySelector('#df-35ec3572-b53d-4c98-9086-bbf76f676725 button.colab-df-convert');\n",
              "        buttonEl.style.display =\n",
              "          google.colab.kernel.accessAllowed ? 'block' : 'none';\n",
              "\n",
              "        async function convertToInteractive(key) {\n",
              "          const element = document.querySelector('#df-35ec3572-b53d-4c98-9086-bbf76f676725');\n",
              "          const dataTable =\n",
              "            await google.colab.kernel.invokeFunction('convertToInteractive',\n",
              "                                                     [key], {});\n",
              "          if (!dataTable) return;\n",
              "\n",
              "          const docLinkHtml = 'Like what you see? Visit the ' +\n",
              "            '<a target=\"_blank\" href=https://colab.research.google.com/notebooks/data_table.ipynb>data table notebook</a>'\n",
              "            + ' to learn more about interactive tables.';\n",
              "          element.innerHTML = '';\n",
              "          dataTable['output_type'] = 'display_data';\n",
              "          await google.colab.output.renderOutput(dataTable, element);\n",
              "          const docLink = document.createElement('div');\n",
              "          docLink.innerHTML = docLinkHtml;\n",
              "          element.appendChild(docLink);\n",
              "        }\n",
              "      </script>\n",
              "    </div>\n",
              "  </div>\n",
              "  "
            ]
          },
          "metadata": {},
          "execution_count": 16
        }
      ]
    },
    {
      "cell_type": "code",
      "source": [
        "from sklearn.feature_extraction.text import CountVectorizer, TfidfVectorizer"
      ],
      "metadata": {
        "id": "ZkitgU0SRJud"
      },
      "execution_count": null,
      "outputs": []
    },
    {
      "cell_type": "code",
      "source": [
        "df11 = df10.sample(frac=0.1)"
      ],
      "metadata": {
        "id": "XhV-A4a2auoi"
      },
      "execution_count": null,
      "outputs": []
    },
    {
      "cell_type": "code",
      "source": [
        "df11.flag.value_counts()"
      ],
      "metadata": {
        "colab": {
          "base_uri": "https://localhost:8080/"
        },
        "id": "5OAnFXsda21w",
        "outputId": "f24e5550-4d41-44d2-b858-6c5bb7040289"
      },
      "execution_count": null,
      "outputs": [
        {
          "output_type": "execute_result",
          "data": {
            "text/plain": [
              "0    166714\n",
              "1    114463\n",
              "Name: flag, dtype: int64"
            ]
          },
          "metadata": {},
          "execution_count": 15
        }
      ]
    },
    {
      "cell_type": "code",
      "execution_count": null,
      "metadata": {
        "id": "Eugzn8oRJTM9"
      },
      "outputs": [],
      "source": [
        "corpus = []\n",
        "for i in df11['text']:\n",
        "  review = i.split()\n",
        "  review = [ps.stem(word) for word in review if not word in set(stopwords.words('english'))]\n",
        "  review = ' '.join(review)\n",
        "  corpus.append(review)"
      ]
    },
    {
      "cell_type": "code",
      "source": [
        "import gc\n",
        "gc.collect()"
      ],
      "metadata": {
        "colab": {
          "base_uri": "https://localhost:8080/"
        },
        "id": "7w_SNRtTZxHv",
        "outputId": "42edb36e-a2ea-4260-fd88-39b7b5c90a60"
      },
      "execution_count": null,
      "outputs": [
        {
          "output_type": "execute_result",
          "data": {
            "text/plain": [
              "44"
            ]
          },
          "metadata": {},
          "execution_count": 25
        }
      ]
    },
    {
      "cell_type": "markdown",
      "source": [
        "##### Function for Plotting the Confusion Matrix"
      ],
      "metadata": {
        "id": "pm7mnbhslv4I"
      }
    },
    {
      "cell_type": "code",
      "execution_count": null,
      "metadata": {
        "id": "peRJV2nVROjb"
      },
      "outputs": [],
      "source": [
        "def plot_confusion_matrix(model,x_test,y_test):\n",
        "  y_pred = model.predict(x_test)\n",
        "  cm = confusion_matrix(y_test,y_pred)\n",
        "  sns.heatmap(cm,annot=True,fmt='d')\n",
        "  plt.xlabel('Predicted')\n",
        "  plt.ylabel('True')\n",
        "  plt.title('Confusion Matrix')\n",
        "  plt.show()"
      ]
    },
    {
      "cell_type": "markdown",
      "metadata": {
        "id": "hdk30Gh2Rnb6"
      },
      "source": [
        "## Multinomial Naive Bayes"
      ]
    },
    {
      "cell_type": "markdown",
      "source": [
        "#### Creating the Word vectors based on Monograms"
      ],
      "metadata": {
        "id": "8X_F2YKPHwCk"
      }
    },
    {
      "cell_type": "code",
      "execution_count": null,
      "metadata": {
        "id": "FHLzCrvWROXc"
      },
      "outputs": [],
      "source": [
        "cv = CountVectorizer(max_features=1000) \n",
        "X = cv.fit_transform(list(df11.text)).toarray()"
      ]
    },
    {
      "cell_type": "code",
      "execution_count": null,
      "metadata": {
        "id": "9x1Z-9jESk2m"
      },
      "outputs": [],
      "source": [
        "x_train, x_test, y_train, y_test = train_test_split(X,df11.iloc[:,-1], test_size=0.3)"
      ]
    },
    {
      "cell_type": "code",
      "execution_count": null,
      "metadata": {
        "id": "fnmMvUazROHG"
      },
      "outputs": [],
      "source": [
        "from sklearn.naive_bayes import MultinomialNB\n",
        "naive_bayes = MultinomialNB()\n",
        "model = naive_bayes.fit(x_train,list(y_train))"
      ]
    },
    {
      "cell_type": "code",
      "execution_count": null,
      "metadata": {
        "colab": {
          "base_uri": "https://localhost:8080/"
        },
        "id": "peKWnKS5XAG3",
        "outputId": "372224b9-d39e-486b-8a4b-4b4226ce23ab"
      },
      "outputs": [
        {
          "output_type": "execute_result",
          "data": {
            "text/plain": [
              "0.872383052374517"
            ]
          },
          "metadata": {},
          "execution_count": 26
        }
      ],
      "source": [
        "model.score(x_test,list(y_test))"
      ]
    },
    {
      "cell_type": "code",
      "execution_count": null,
      "metadata": {
        "colab": {
          "base_uri": "https://localhost:8080/",
          "height": 350
        },
        "id": "JdEi9jJNSXsV",
        "outputId": "9d06983b-8138-4fa9-b2a7-fe02d664f0ca"
      },
      "outputs": [
        {
          "output_type": "display_data",
          "data": {
            "text/plain": [
              "<Figure size 504x360 with 2 Axes>"
            ],
            "image/png": "[encoded data removed]"
          },
          "metadata": {
            "needs_background": "light"
          }
        }
      ],
      "source": [
        "plot_confusion_matrix(model,x_test,list(y_test))\n",
        "plt.rcParams['figure.figsize'] = [7,5]"
      ]
    },
    {
      "cell_type": "markdown",
      "source": [
        "The Confusion Matrix is shown here by a density plot, the blakish it is the less in number. Here, the diagonal elements are the correctly predicted and the color is lighter, so this model can be considered as a good classifier. The Type-I and Type-II errors are still less in number."
      ],
      "metadata": {
        "id": "ZULizzRj3Acx"
      }
    },
    {
      "cell_type": "markdown",
      "source": [
        "#### Classification Report:"
      ],
      "metadata": {
        "id": "ESwith875xcp"
      }
    },
    {
      "cell_type": "code",
      "source": [
        "from sklearn.metrics import classification_report\n",
        "y_pred = model.predict(x_test)\n",
        "print(classification_report(y_test,y_pred))"
      ],
      "metadata": {
        "colab": {
          "base_uri": "https://localhost:8080/"
        },
        "id": "Bx4i4WMNgNyV",
        "outputId": "cb0fe1e8-2849-41e3-cb8f-4e4ee92d5764"
      },
      "execution_count": null,
      "outputs": [
        {
          "output_type": "stream",
          "name": "stdout",
          "text": [
            "              precision    recall  f1-score   support\n",
            "\n",
            "           0       0.86      0.94      0.90     50180\n",
            "           1       0.89      0.78      0.83     34174\n",
            "\n",
            "    accuracy                           0.87     84354\n",
            "   macro avg       0.88      0.86      0.86     84354\n",
            "weighted avg       0.87      0.87      0.87     84354\n",
            "\n"
          ]
        }
      ]
    },
    {
      "cell_type": "markdown",
      "source": [
        " #### Results:\n",
        " **The f-score is in between $0.83-0.9$, thus this model is performing good on binary text classification. We can expect better results.**"
      ],
      "metadata": {
        "id": "3mux1YOUndOW"
      }
    },
    {
      "cell_type": "markdown",
      "source": [
        "## Random Forest Classifier"
      ],
      "metadata": {
        "id": "0ntadFtzjPJj"
      }
    },
    {
      "cell_type": "code",
      "source": [
        "from sklearn.ensemble import RandomForestClassifier\n",
        "rf = RandomForestClassifier()\n",
        "rf.fit(x_train,y_train)"
      ],
      "metadata": {
        "colab": {
          "base_uri": "https://localhost:8080/"
        },
        "id": "o7uRxP6djCDj",
        "outputId": "532898d3-9219-4624-ed17-217e3cf67e2a"
      },
      "execution_count": null,
      "outputs": [
        {
          "output_type": "execute_result",
          "data": {
            "text/plain": [
              "RandomForestClassifier()"
            ]
          },
          "metadata": {},
          "execution_count": 94
        }
      ]
    },
    {
      "cell_type": "code",
      "source": [
        "rf.score(x_test, y_test)"
      ],
      "metadata": {
        "colab": {
          "base_uri": "https://localhost:8080/"
        },
        "id": "iPfUUAhcjcop",
        "outputId": "abb3f862-0a10-4a6f-cb60-ac219694eb45"
      },
      "execution_count": null,
      "outputs": [
        {
          "output_type": "execute_result",
          "data": {
            "text/plain": [
              "0.9334827038433269"
            ]
          },
          "metadata": {},
          "execution_count": 49
        }
      ]
    },
    {
      "cell_type": "markdown",
      "source": [
        "The accuracy is around $93.3\\%$, that means out model is able to classify the tweets to be flagged or not. This shows the effeciency of the **bagged** model towards binary text classification.  "
      ],
      "metadata": {
        "id": "kcmWyYWTtnSI"
      }
    },
    {
      "cell_type": "code",
      "source": [
        "plot_confusion_matrix(rf,x_test,list(y_test))"
      ],
      "metadata": {
        "colab": {
          "base_uri": "https://localhost:8080/",
          "height": 350
        },
        "id": "mmnPGv7Akj_3",
        "outputId": "b348c447-ecef-4c33-a60b-d320e7df0390"
      },
      "execution_count": null,
      "outputs": [
        {
          "output_type": "display_data",
          "data": {
            "text/plain": [
              "<Figure size 504x360 with 2 Axes>"
            ],
            "image/png": "[encoded data removed]"
          },
          "metadata": {
            "needs_background": "light"
          }
        }
      ]
    },
    {
      "cell_type": "markdown",
      "source": [
        "The Confusion Matrix shows how many predictions are correct or not. Here, the diagonal elements are the correctly predicted, whereas the off-diagnoal elements are not correctly predicted. The off-diagonal terms are called **Type-I** and **Type-II** errors. "
      ],
      "metadata": {
        "id": "8v8TD3ajukVQ"
      }
    },
    {
      "cell_type": "markdown",
      "source": [
        "#### Classification Report:"
      ],
      "metadata": {
        "id": "tNYe88CE5rt_"
      }
    },
    {
      "cell_type": "code",
      "source": [
        "y_pred2 = rf.predict(x_test)\n",
        "print(classification_report(y_test,y_pred2))"
      ],
      "metadata": {
        "colab": {
          "base_uri": "https://localhost:8080/"
        },
        "id": "fFuQyK1Ilegn",
        "outputId": "10ca24d3-6b1d-478d-f88c-0954f91f4720"
      },
      "execution_count": null,
      "outputs": [
        {
          "output_type": "stream",
          "name": "stdout",
          "text": [
            "              precision    recall  f1-score   support\n",
            "\n",
            "           0       0.99      0.90      0.94     50180\n",
            "           1       0.87      0.98      0.92     34174\n",
            "\n",
            "    accuracy                           0.93     84354\n",
            "   macro avg       0.93      0.94      0.93     84354\n",
            "weighted avg       0.94      0.93      0.93     84354\n",
            "\n"
          ]
        }
      ]
    },
    {
      "cell_type": "markdown",
      "source": [
        "#### Results:\n",
        "**The f1-score is in range $0.92-0.94$, thus its performing better than Multinomail Naive Bayes. We can say that this model has $92\\%$ percent accuracy over detecting the flagged text.** "
      ],
      "metadata": {
        "id": "KEabmvHgoMnu"
      }
    },
    {
      "cell_type": "markdown",
      "source": [
        "## Gradiant Boosting"
      ],
      "metadata": {
        "id": "UkAW3zxSrkNr"
      }
    },
    {
      "cell_type": "code",
      "source": [
        "from sklearn.ensemble import GradientBoostingClassifier\n",
        "gb = GradientBoostingClassifier()\n",
        "gb.fit(x_train, y_train)"
      ],
      "metadata": {
        "colab": {
          "base_uri": "https://localhost:8080/"
        },
        "id": "hIXPEfygpoVl",
        "outputId": "c64cc164-758c-484d-d7ab-d7e49dc3c5e1"
      },
      "execution_count": null,
      "outputs": [
        {
          "output_type": "execute_result",
          "data": {
            "text/plain": [
              "GradientBoostingClassifier()"
            ]
          },
          "metadata": {},
          "execution_count": 26
        }
      ]
    },
    {
      "cell_type": "code",
      "source": [
        "gb.score(x_test, y_test)"
      ],
      "metadata": {
        "colab": {
          "base_uri": "https://localhost:8080/"
        },
        "id": "bNgCfrczvWX5",
        "outputId": "b02aade0-1d2b-4939-a215-7bf4e22e1938"
      },
      "execution_count": null,
      "outputs": [
        {
          "output_type": "execute_result",
          "data": {
            "text/plain": [
              "0.8382293667164569"
            ]
          },
          "metadata": {},
          "execution_count": 27
        }
      ]
    },
    {
      "cell_type": "code",
      "source": [
        "plot_confusion_matrix(gb,x_test,list(y_test))\n",
        "plt.rcParams['figure.figsize'] = [7,5]"
      ],
      "metadata": {
        "colab": {
          "base_uri": "https://localhost:8080/",
          "height": 350
        },
        "id": "eU1mfWZWvctH",
        "outputId": "4025e561-3087-4099-a863-7555a4767f6a"
      },
      "execution_count": null,
      "outputs": [
        {
          "output_type": "display_data",
          "data": {
            "text/plain": [
              "<Figure size 504x360 with 2 Axes>"
            ],
            "image/png": "[encoded data removed]"
          },
          "metadata": {
            "needs_background": "light"
          }
        }
      ]
    },
    {
      "cell_type": "markdown",
      "source": [
        "The Confusion matrix for this model is not as good as **Random Forest**, as the off-diagonal elements are more in number. This means here we have more **Type-I and Type-II error** and thus we expect lesser **f1-score**."
      ],
      "metadata": {
        "id": "YXqxfaoP4_PS"
      }
    },
    {
      "cell_type": "markdown",
      "source": [
        "#### Classification Report"
      ],
      "metadata": {
        "id": "xFSQZcFm5mw2"
      }
    },
    {
      "cell_type": "code",
      "source": [
        "y_pred3 = gb.predict(x_test)\n",
        "print(classification_report(y_test,y_pred3))"
      ],
      "metadata": {
        "colab": {
          "base_uri": "https://localhost:8080/"
        },
        "id": "mcql3gXNv_C_",
        "outputId": "7647f6ce-80d8-4151-f341-7e8385178cea"
      },
      "execution_count": null,
      "outputs": [
        {
          "output_type": "stream",
          "name": "stdout",
          "text": [
            "              precision    recall  f1-score   support\n",
            "\n",
            "           0       0.84      0.90      0.87     50047\n",
            "           1       0.84      0.75      0.79     34307\n",
            "\n",
            "    accuracy                           0.84     84354\n",
            "   macro avg       0.84      0.82      0.83     84354\n",
            "weighted avg       0.84      0.84      0.84     84354\n",
            "\n"
          ]
        }
      ]
    },
    {
      "cell_type": "markdown",
      "source": [
        "#### Results:\n",
        "**The f1-score is in the range $0.79-0.87$, so the difference is huge for predicting the flaggged and not flagged. This is not the best model, because of the same**."
      ],
      "metadata": {
        "id": "NOynxkVt2Kdb"
      }
    },
    {
      "cell_type": "markdown",
      "source": [
        "## Ada Boost"
      ],
      "metadata": {
        "id": "i6ju71B4wq0B"
      }
    },
    {
      "cell_type": "code",
      "source": [
        "from sklearn.ensemble import AdaBoostClassifier\n",
        "ada = AdaBoostClassifier()\n",
        "ada.fit(x_train, y_train)"
      ],
      "metadata": {
        "colab": {
          "base_uri": "https://localhost:8080/"
        },
        "id": "cl-Z4zRywksO",
        "outputId": "818231a9-748e-4a0a-d1a0-e1d465e756a1"
      },
      "execution_count": null,
      "outputs": [
        {
          "output_type": "execute_result",
          "data": {
            "text/plain": [
              "AdaBoostClassifier()"
            ]
          },
          "metadata": {},
          "execution_count": 38
        }
      ]
    },
    {
      "cell_type": "code",
      "source": [
        "ada.score(x_test, y_test)"
      ],
      "metadata": {
        "colab": {
          "base_uri": "https://localhost:8080/"
        },
        "id": "LJE8tkU4w539",
        "outputId": "b134a9ae-068b-4f4e-9fc6-d862950b1e65"
      },
      "execution_count": null,
      "outputs": [
        {
          "output_type": "execute_result",
          "data": {
            "text/plain": [
              "0.8438841074519288"
            ]
          },
          "metadata": {},
          "execution_count": 39
        }
      ]
    },
    {
      "cell_type": "code",
      "source": [
        "plot_confusion_matrix(ada,x_test,list(y_test))\n",
        "plt.rcParams['figure.figsize'] = [7,5]"
      ],
      "metadata": {
        "colab": {
          "base_uri": "https://localhost:8080/",
          "height": 350
        },
        "id": "pkRlQs751twn",
        "outputId": "d94b6a5c-b651-416f-d8ad-6382e41ae56d"
      },
      "execution_count": null,
      "outputs": [
        {
          "output_type": "display_data",
          "data": {
            "text/plain": [
              "<Figure size 504x360 with 2 Axes>"
            ],
            "image/png": "[encoded data removed]"
          },
          "metadata": {
            "needs_background": "light"
          }
        }
      ]
    },
    {
      "cell_type": "code",
      "source": [
        "y_pred4 = ada.predict(x_test)\n",
        "print(classification_report(y_test,y_pred4))"
      ],
      "metadata": {
        "colab": {
          "base_uri": "https://localhost:8080/"
        },
        "id": "a43hGnYexjJn",
        "outputId": "a1b60ce8-f4a2-4bf6-d309-83a723973bfb"
      },
      "execution_count": null,
      "outputs": [
        {
          "output_type": "stream",
          "name": "stdout",
          "text": [
            "              precision    recall  f1-score   support\n",
            "\n",
            "           0       0.83      0.92      0.87     50047\n",
            "           1       0.86      0.73      0.79     34307\n",
            "\n",
            "    accuracy                           0.84     84354\n",
            "   macro avg       0.85      0.83      0.83     84354\n",
            "weighted avg       0.85      0.84      0.84     84354\n",
            "\n"
          ]
        }
      ]
    },
    {
      "cell_type": "markdown",
      "source": [
        "####Results:\n",
        "**The f1-score is not very different from 'Gradiant Boost', so we expect similar accuracy for both of them. The perform is not bad but we can expect better f1-score from other models**."
      ],
      "metadata": {
        "id": "QzuTfY9o1C7U"
      }
    },
    {
      "cell_type": "markdown",
      "source": [
        "## Majority Voting Ensemble Technique "
      ],
      "metadata": {
        "id": "w3XocxXoz-zl"
      }
    },
    {
      "cell_type": "code",
      "source": [
        "from sklearn.ensemble import VotingClassifier, RandomForestClassifier\n",
        "from sklearn.naive_bayes import MultinomialNB \n",
        "c1 = AdaBoostClassifier()\n",
        "c2 = GradientBoostingClassifier()\n",
        "c3 = MultinomialNB()\n",
        "c4 = RandomForestClassifier()\n",
        "estimators = [('Ada',c1),('Random Forest',c4),('Gradiant Boost', c2),('Naive',c3)]\n",
        "ensbl = VotingClassifier(estimators = estimators, voting = 'hard')\n",
        "ensbl.fit(x_train,y_train)\n",
        "pre_v = ensbl.predict(x_test)"
      ],
      "metadata": {
        "id": "T9w1deqmz3q8"
      },
      "execution_count": null,
      "outputs": []
    },
    {
      "cell_type": "code",
      "source": [
        "ensbl.score(x_test,y_test)"
      ],
      "metadata": {
        "colab": {
          "base_uri": "https://localhost:8080/"
        },
        "id": "0nTz8DTI6Cmq",
        "outputId": "6ad47a80-381a-4753-a916-3b70f66fce38"
      },
      "execution_count": null,
      "outputs": [
        {
          "output_type": "execute_result",
          "data": {
            "text/plain": [
              "0.8606349432154966"
            ]
          },
          "metadata": {},
          "execution_count": 46
        }
      ]
    },
    {
      "cell_type": "code",
      "source": [
        "plot_confusion_matrix(ensbl,x_test,list(y_test))\n",
        "plt.rcParams['figure.figsize'] = [7,5]"
      ],
      "metadata": {
        "colab": {
          "base_uri": "https://localhost:8080/",
          "height": 350
        },
        "id": "9iuG8axNHfiN",
        "outputId": "a226201f-fade-4022-d51f-5e4cd9bd3a46"
      },
      "execution_count": null,
      "outputs": [
        {
          "output_type": "display_data",
          "data": {
            "text/plain": [
              "<Figure size 504x360 with 2 Axes>"
            ],
            "image/png": "[encoded data removed]"
          },
          "metadata": {
            "needs_background": "light"
          }
        }
      ]
    },
    {
      "cell_type": "markdown",
      "source": [
        "#### Classification Report "
      ],
      "metadata": {
        "id": "rFD5yItKHWKa"
      }
    },
    {
      "cell_type": "code",
      "source": [
        "print(classification_report(y_test,pre_v))"
      ],
      "metadata": {
        "colab": {
          "base_uri": "https://localhost:8080/"
        },
        "id": "LoTtzXsH6ZAi",
        "outputId": "6e5cc9c4-4ce5-41ac-8ce3-d21fe93bde2c"
      },
      "execution_count": null,
      "outputs": [
        {
          "output_type": "stream",
          "name": "stdout",
          "text": [
            "              precision    recall  f1-score   support\n",
            "\n",
            "           0       0.85      0.92      0.89     50047\n",
            "           1       0.87      0.77      0.82     34307\n",
            "\n",
            "    accuracy                           0.86     84354\n",
            "   macro avg       0.86      0.85      0.85     84354\n",
            "weighted avg       0.86      0.86      0.86     84354\n",
            "\n"
          ]
        }
      ]
    },
    {
      "cell_type": "markdown",
      "source": [
        "#### Results:\n",
        "**The best f1-score in here is $0.86$ which is baised towards 'boosted' models, than the 'bagged' model. This makes our model little underfitted. We can include only one of the 'boosted' model to improve the overall accuracy**. "
      ],
      "metadata": {
        "id": "D1UgjfyQI6eP"
      }
    },
    {
      "cell_type": "markdown",
      "source": [
        "## Comparing different models based on performance"
      ],
      "metadata": {
        "id": "bE-Hwuh9HD3A"
      }
    },
    {
      "cell_type": "code",
      "source": [
        "list1 = [ 0.84, 0.84, 0.86 ,0.87, 0.93]\n",
        "list2 = ['Ada Boost','Gradiant Boost','Majority Voting','Naive Bayes', 'Random Forest']\n",
        "sns.barplot(y = list1, x = list2)\n",
        "plt.ylim([0.8,0.95])\n",
        "plt.ylabel('F1-Score',size=13)\n",
        "plt.xlabel('Models',size=13)\n",
        "plt.rcParams['figure.figsize'] = [10,7]\n",
        "plt.title('Performance Plot',size=20)\n",
        "plt.show()"
      ],
      "metadata": {
        "colab": {
          "base_uri": "https://localhost:8080/",
          "height": 466
        },
        "id": "2BQLx3sk6y6f",
        "outputId": "401f93ed-477b-4e0e-a038-94fb70bea4ac"
      },
      "execution_count": null,
      "outputs": [
        {
          "output_type": "display_data",
          "data": {
            "text/plain": [
              "<Figure size 720x504 with 1 Axes>"
            ],
            "image/png": "[encoded data removed]"
          },
          "metadata": {
            "needs_background": "light"
          }
        }
      ]
    },
    {
      "cell_type": "markdown",
      "source": [
        "### Final Result:\n",
        "**The 'Random Forest Classifier' is the best model as per the test data, but this mayn't always perform best. So, we will also save  'Majority Voting Model', beacause average-model can be handy for generalization**."
      ],
      "metadata": {
        "id": "eNruhP9jPua1"
      }
    },
    {
      "cell_type": "markdown",
      "source": [
        "## Saving the models"
      ],
      "metadata": {
        "id": "5QFLeqPXO5sv"
      }
    },
    {
      "cell_type": "code",
      "source": [
        "### Saving the best model\n",
        "import pickle \n",
        "with open('Twitter_rf', 'wb') as files:\n",
        "    pickle.dump(rf, files)"
      ],
      "metadata": {
        "id": "Aq4HkW4MH3vl"
      },
      "execution_count": null,
      "outputs": []
    },
    {
      "cell_type": "code",
      "source": [
        "### Saving the average model\n",
        "with open('Twitter_mv', 'wb') as files:\n",
        "    pickle.dump(ensbl, files)"
      ],
      "metadata": {
        "id": "dvkPFH5PPAVL"
      },
      "execution_count": null,
      "outputs": []
    }
  ],
  "metadata": {
    "colab": {
      "collapsed_sections": [],
      "provenance": [],
      "include_colab_link": true
    },
    "gpuClass": "standard",
    "kernelspec": {
      "display_name": "Python 3 (ipykernel)",
      "language": "python",
      "name": "python3"
    },
    "language_info": {
      "codemirror_mode": {
        "name": "ipython",
        "version": 3
      },
      "file_extension": ".py",
      "mimetype": "text/x-python",
      "name": "python",
      "nbconvert_exporter": "python",
      "pygments_lexer": "ipython3",
      "version": "3.7.3"
    }
  },
  "nbformat": 4,
  "nbformat_minor": 0
}
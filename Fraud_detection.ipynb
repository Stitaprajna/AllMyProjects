{
 "cells": [
  {
   "cell_type": "code",
   "execution_count": 1,
   "metadata": {},
   "outputs": [],
   "source": [
    "import pandas as pd\n",
    "import numpy as np\n",
    "import seaborn as sns"
   ]
  },
  {
   "cell_type": "code",
   "execution_count": 2,
   "metadata": {
    "scrolled": false
   },
   "outputs": [
    {
     "data": {
      "text/html": [
       "<div>\n",
       "<style scoped>\n",
       "    .dataframe tbody tr th:only-of-type {\n",
       "        vertical-align: middle;\n",
       "    }\n",
       "\n",
       "    .dataframe tbody tr th {\n",
       "        vertical-align: top;\n",
       "    }\n",
       "\n",
       "    .dataframe thead th {\n",
       "        text-align: right;\n",
       "    }\n",
       "</style>\n",
       "<table border=\"1\" class=\"dataframe\">\n",
       "  <thead>\n",
       "    <tr style=\"text-align: right;\">\n",
       "      <th></th>\n",
       "      <th>step</th>\n",
       "      <th>type</th>\n",
       "      <th>amount</th>\n",
       "      <th>nameOrig</th>\n",
       "      <th>oldbalanceOrg</th>\n",
       "      <th>newbalanceOrig</th>\n",
       "      <th>nameDest</th>\n",
       "      <th>oldbalanceDest</th>\n",
       "      <th>newbalanceDest</th>\n",
       "      <th>isFraud</th>\n",
       "      <th>isFlaggedFraud</th>\n",
       "    </tr>\n",
       "  </thead>\n",
       "  <tbody>\n",
       "    <tr>\n",
       "      <th>0</th>\n",
       "      <td>1</td>\n",
       "      <td>PAYMENT</td>\n",
       "      <td>9839.64</td>\n",
       "      <td>C1231006815</td>\n",
       "      <td>170136.0</td>\n",
       "      <td>160296.36</td>\n",
       "      <td>M1979787155</td>\n",
       "      <td>0.0</td>\n",
       "      <td>0.0</td>\n",
       "      <td>0</td>\n",
       "      <td>0</td>\n",
       "    </tr>\n",
       "    <tr>\n",
       "      <th>1</th>\n",
       "      <td>1</td>\n",
       "      <td>PAYMENT</td>\n",
       "      <td>1864.28</td>\n",
       "      <td>C1666544295</td>\n",
       "      <td>21249.0</td>\n",
       "      <td>19384.72</td>\n",
       "      <td>M2044282225</td>\n",
       "      <td>0.0</td>\n",
       "      <td>0.0</td>\n",
       "      <td>0</td>\n",
       "      <td>0</td>\n",
       "    </tr>\n",
       "    <tr>\n",
       "      <th>2</th>\n",
       "      <td>1</td>\n",
       "      <td>TRANSFER</td>\n",
       "      <td>181.00</td>\n",
       "      <td>C1305486145</td>\n",
       "      <td>181.0</td>\n",
       "      <td>0.00</td>\n",
       "      <td>C553264065</td>\n",
       "      <td>0.0</td>\n",
       "      <td>0.0</td>\n",
       "      <td>1</td>\n",
       "      <td>0</td>\n",
       "    </tr>\n",
       "    <tr>\n",
       "      <th>3</th>\n",
       "      <td>1</td>\n",
       "      <td>CASH_OUT</td>\n",
       "      <td>181.00</td>\n",
       "      <td>C840083671</td>\n",
       "      <td>181.0</td>\n",
       "      <td>0.00</td>\n",
       "      <td>C38997010</td>\n",
       "      <td>21182.0</td>\n",
       "      <td>0.0</td>\n",
       "      <td>1</td>\n",
       "      <td>0</td>\n",
       "    </tr>\n",
       "    <tr>\n",
       "      <th>4</th>\n",
       "      <td>1</td>\n",
       "      <td>PAYMENT</td>\n",
       "      <td>11668.14</td>\n",
       "      <td>C2048537720</td>\n",
       "      <td>41554.0</td>\n",
       "      <td>29885.86</td>\n",
       "      <td>M1230701703</td>\n",
       "      <td>0.0</td>\n",
       "      <td>0.0</td>\n",
       "      <td>0</td>\n",
       "      <td>0</td>\n",
       "    </tr>\n",
       "  </tbody>\n",
       "</table>\n",
       "</div>"
      ],
      "text/plain": [
       "   step      type    amount     nameOrig  oldbalanceOrg  newbalanceOrig  \\\n",
       "0     1   PAYMENT   9839.64  C1231006815       170136.0       160296.36   \n",
       "1     1   PAYMENT   1864.28  C1666544295        21249.0        19384.72   \n",
       "2     1  TRANSFER    181.00  C1305486145          181.0            0.00   \n",
       "3     1  CASH_OUT    181.00   C840083671          181.0            0.00   \n",
       "4     1   PAYMENT  11668.14  C2048537720        41554.0        29885.86   \n",
       "\n",
       "      nameDest  oldbalanceDest  newbalanceDest  isFraud  isFlaggedFraud  \n",
       "0  M1979787155             0.0             0.0        0               0  \n",
       "1  M2044282225             0.0             0.0        0               0  \n",
       "2   C553264065             0.0             0.0        1               0  \n",
       "3    C38997010         21182.0             0.0        1               0  \n",
       "4  M1230701703             0.0             0.0        0               0  "
      ]
     },
     "execution_count": 2,
     "metadata": {},
     "output_type": "execute_result"
    }
   ],
   "source": [
    "dF = pd.read_csv(r'C:\\Users\\laptop\\Desktop\\DataScience\\Fraud.csv')\n",
    "dF.head()"
   ]
  },
  {
   "cell_type": "code",
   "execution_count": 3,
   "metadata": {
    "scrolled": false
   },
   "outputs": [
    {
     "data": {
      "text/plain": [
       "step              0\n",
       "type              0\n",
       "amount            0\n",
       "nameOrig          0\n",
       "oldbalanceOrg     0\n",
       "newbalanceOrig    0\n",
       "nameDest          0\n",
       "oldbalanceDest    0\n",
       "newbalanceDest    0\n",
       "isFraud           0\n",
       "isFlaggedFraud    0\n",
       "dtype: int64"
      ]
     },
     "execution_count": 3,
     "metadata": {},
     "output_type": "execute_result"
    }
   ],
   "source": [
    "dF.isnull().sum()        # Checking for any missing data"
   ]
  },
  {
   "cell_type": "code",
   "execution_count": 4,
   "metadata": {
    "scrolled": true
   },
   "outputs": [
    {
     "data": {
      "text/plain": [
       "count    6.362620e+06\n",
       "mean     1.798619e+05\n",
       "std      6.038582e+05\n",
       "min      0.000000e+00\n",
       "25%      1.338957e+04\n",
       "50%      7.487194e+04\n",
       "75%      2.087215e+05\n",
       "max      9.244552e+07\n",
       "Name: amount, dtype: float64"
      ]
     },
     "execution_count": 4,
     "metadata": {},
     "output_type": "execute_result"
    }
   ],
   "source": [
    "dF.amount.describe()  # Describes various Statistical factors"
   ]
  },
  {
   "cell_type": "code",
   "execution_count": 5,
   "metadata": {},
   "outputs": [],
   "source": [
    "df1 = dF[dF.isFraud ==1]"
   ]
  },
  {
   "cell_type": "code",
   "execution_count": 6,
   "metadata": {
    "scrolled": true
   },
   "outputs": [
    {
     "data": {
      "text/plain": [
       "8213"
      ]
     },
     "execution_count": 6,
     "metadata": {},
     "output_type": "execute_result"
    }
   ],
   "source": [
    "len(df1)"
   ]
  },
  {
   "cell_type": "markdown",
   "metadata": {},
   "source": [
    "## Handelling the imbalanced dataset"
   ]
  },
  {
   "cell_type": "markdown",
   "metadata": {},
   "source": [
    "We will down sample the the dataset which is creating imbalance. This will be done by choosing randomly datapoints counts nearing to counts of the former. This also called 'Down Sampleling'."
   ]
  },
  {
   "cell_type": "code",
   "execution_count": 7,
   "metadata": {},
   "outputs": [],
   "source": [
    "df2 = dF[dF.isFraud == 0]"
   ]
  },
  {
   "cell_type": "code",
   "execution_count": 8,
   "metadata": {},
   "outputs": [],
   "source": [
    "DF = df2.sample(frac=0.00167)"
   ]
  },
  {
   "cell_type": "code",
   "execution_count": 9,
   "metadata": {},
   "outputs": [],
   "source": [
    "df4 = pd.concat([df1,DF],axis=0,ignore_index=True)"
   ]
  },
  {
   "cell_type": "code",
   "execution_count": 10,
   "metadata": {},
   "outputs": [
    {
     "data": {
      "text/html": [
       "<div>\n",
       "<style scoped>\n",
       "    .dataframe tbody tr th:only-of-type {\n",
       "        vertical-align: middle;\n",
       "    }\n",
       "\n",
       "    .dataframe tbody tr th {\n",
       "        vertical-align: top;\n",
       "    }\n",
       "\n",
       "    .dataframe thead th {\n",
       "        text-align: right;\n",
       "    }\n",
       "</style>\n",
       "<table border=\"1\" class=\"dataframe\">\n",
       "  <thead>\n",
       "    <tr style=\"text-align: right;\">\n",
       "      <th></th>\n",
       "      <th>step</th>\n",
       "      <th>type</th>\n",
       "      <th>amount</th>\n",
       "      <th>nameOrig</th>\n",
       "      <th>oldbalanceOrg</th>\n",
       "      <th>newbalanceOrig</th>\n",
       "      <th>nameDest</th>\n",
       "      <th>oldbalanceDest</th>\n",
       "      <th>newbalanceDest</th>\n",
       "      <th>isFraud</th>\n",
       "      <th>isFlaggedFraud</th>\n",
       "    </tr>\n",
       "  </thead>\n",
       "  <tbody>\n",
       "    <tr>\n",
       "      <th>0</th>\n",
       "      <td>1</td>\n",
       "      <td>TRANSFER</td>\n",
       "      <td>181.0</td>\n",
       "      <td>C1305486145</td>\n",
       "      <td>181.0</td>\n",
       "      <td>0.0</td>\n",
       "      <td>C553264065</td>\n",
       "      <td>0.0</td>\n",
       "      <td>0.0</td>\n",
       "      <td>1</td>\n",
       "      <td>0</td>\n",
       "    </tr>\n",
       "    <tr>\n",
       "      <th>1</th>\n",
       "      <td>1</td>\n",
       "      <td>CASH_OUT</td>\n",
       "      <td>181.0</td>\n",
       "      <td>C840083671</td>\n",
       "      <td>181.0</td>\n",
       "      <td>0.0</td>\n",
       "      <td>C38997010</td>\n",
       "      <td>21182.0</td>\n",
       "      <td>0.0</td>\n",
       "      <td>1</td>\n",
       "      <td>0</td>\n",
       "    </tr>\n",
       "    <tr>\n",
       "      <th>2</th>\n",
       "      <td>1</td>\n",
       "      <td>TRANSFER</td>\n",
       "      <td>2806.0</td>\n",
       "      <td>C1420196421</td>\n",
       "      <td>2806.0</td>\n",
       "      <td>0.0</td>\n",
       "      <td>C972765878</td>\n",
       "      <td>0.0</td>\n",
       "      <td>0.0</td>\n",
       "      <td>1</td>\n",
       "      <td>0</td>\n",
       "    </tr>\n",
       "    <tr>\n",
       "      <th>3</th>\n",
       "      <td>1</td>\n",
       "      <td>CASH_OUT</td>\n",
       "      <td>2806.0</td>\n",
       "      <td>C2101527076</td>\n",
       "      <td>2806.0</td>\n",
       "      <td>0.0</td>\n",
       "      <td>C1007251739</td>\n",
       "      <td>26202.0</td>\n",
       "      <td>0.0</td>\n",
       "      <td>1</td>\n",
       "      <td>0</td>\n",
       "    </tr>\n",
       "    <tr>\n",
       "      <th>4</th>\n",
       "      <td>1</td>\n",
       "      <td>TRANSFER</td>\n",
       "      <td>20128.0</td>\n",
       "      <td>C137533655</td>\n",
       "      <td>20128.0</td>\n",
       "      <td>0.0</td>\n",
       "      <td>C1848415041</td>\n",
       "      <td>0.0</td>\n",
       "      <td>0.0</td>\n",
       "      <td>1</td>\n",
       "      <td>0</td>\n",
       "    </tr>\n",
       "  </tbody>\n",
       "</table>\n",
       "</div>"
      ],
      "text/plain": [
       "   step      type   amount     nameOrig  oldbalanceOrg  newbalanceOrig  \\\n",
       "0     1  TRANSFER    181.0  C1305486145          181.0             0.0   \n",
       "1     1  CASH_OUT    181.0   C840083671          181.0             0.0   \n",
       "2     1  TRANSFER   2806.0  C1420196421         2806.0             0.0   \n",
       "3     1  CASH_OUT   2806.0  C2101527076         2806.0             0.0   \n",
       "4     1  TRANSFER  20128.0   C137533655        20128.0             0.0   \n",
       "\n",
       "      nameDest  oldbalanceDest  newbalanceDest  isFraud  isFlaggedFraud  \n",
       "0   C553264065             0.0             0.0        1               0  \n",
       "1    C38997010         21182.0             0.0        1               0  \n",
       "2   C972765878             0.0             0.0        1               0  \n",
       "3  C1007251739         26202.0             0.0        1               0  \n",
       "4  C1848415041             0.0             0.0        1               0  "
      ]
     },
     "execution_count": 10,
     "metadata": {},
     "output_type": "execute_result"
    }
   ],
   "source": [
    "df4.head()"
   ]
  },
  {
   "cell_type": "code",
   "execution_count": 11,
   "metadata": {},
   "outputs": [],
   "source": [
    "df4.to_csv('Fraud1.csv')"
   ]
  },
  {
   "cell_type": "code",
   "execution_count": 12,
   "metadata": {},
   "outputs": [],
   "source": [
    "import matplotlib.pyplot as plt\n",
    "%matplotlib inline"
   ]
  },
  {
   "cell_type": "markdown",
   "metadata": {},
   "source": [
    "# Detecting Outliers through visualisations"
   ]
  },
  {
   "cell_type": "code",
   "execution_count": 13,
   "metadata": {},
   "outputs": [
    {
     "data": {
      "text/html": [
       "<div>\n",
       "<style scoped>\n",
       "    .dataframe tbody tr th:only-of-type {\n",
       "        vertical-align: middle;\n",
       "    }\n",
       "\n",
       "    .dataframe tbody tr th {\n",
       "        vertical-align: top;\n",
       "    }\n",
       "\n",
       "    .dataframe thead th {\n",
       "        text-align: right;\n",
       "    }\n",
       "</style>\n",
       "<table border=\"1\" class=\"dataframe\">\n",
       "  <thead>\n",
       "    <tr style=\"text-align: right;\">\n",
       "      <th></th>\n",
       "      <th>Unnamed: 0</th>\n",
       "      <th>step</th>\n",
       "      <th>type</th>\n",
       "      <th>amount</th>\n",
       "      <th>nameOrig</th>\n",
       "      <th>oldbalanceOrg</th>\n",
       "      <th>newbalanceOrig</th>\n",
       "      <th>nameDest</th>\n",
       "      <th>oldbalanceDest</th>\n",
       "      <th>newbalanceDest</th>\n",
       "      <th>isFraud</th>\n",
       "      <th>isFlaggedFraud</th>\n",
       "    </tr>\n",
       "  </thead>\n",
       "  <tbody>\n",
       "    <tr>\n",
       "      <th>0</th>\n",
       "      <td>0</td>\n",
       "      <td>1</td>\n",
       "      <td>TRANSFER</td>\n",
       "      <td>181.0</td>\n",
       "      <td>C1305486145</td>\n",
       "      <td>181.0</td>\n",
       "      <td>0.0</td>\n",
       "      <td>C553264065</td>\n",
       "      <td>0.0</td>\n",
       "      <td>0.0</td>\n",
       "      <td>1</td>\n",
       "      <td>0</td>\n",
       "    </tr>\n",
       "    <tr>\n",
       "      <th>1</th>\n",
       "      <td>1</td>\n",
       "      <td>1</td>\n",
       "      <td>CASH_OUT</td>\n",
       "      <td>181.0</td>\n",
       "      <td>C840083671</td>\n",
       "      <td>181.0</td>\n",
       "      <td>0.0</td>\n",
       "      <td>C38997010</td>\n",
       "      <td>21182.0</td>\n",
       "      <td>0.0</td>\n",
       "      <td>1</td>\n",
       "      <td>0</td>\n",
       "    </tr>\n",
       "    <tr>\n",
       "      <th>2</th>\n",
       "      <td>2</td>\n",
       "      <td>1</td>\n",
       "      <td>TRANSFER</td>\n",
       "      <td>2806.0</td>\n",
       "      <td>C1420196421</td>\n",
       "      <td>2806.0</td>\n",
       "      <td>0.0</td>\n",
       "      <td>C972765878</td>\n",
       "      <td>0.0</td>\n",
       "      <td>0.0</td>\n",
       "      <td>1</td>\n",
       "      <td>0</td>\n",
       "    </tr>\n",
       "    <tr>\n",
       "      <th>3</th>\n",
       "      <td>3</td>\n",
       "      <td>1</td>\n",
       "      <td>CASH_OUT</td>\n",
       "      <td>2806.0</td>\n",
       "      <td>C2101527076</td>\n",
       "      <td>2806.0</td>\n",
       "      <td>0.0</td>\n",
       "      <td>C1007251739</td>\n",
       "      <td>26202.0</td>\n",
       "      <td>0.0</td>\n",
       "      <td>1</td>\n",
       "      <td>0</td>\n",
       "    </tr>\n",
       "    <tr>\n",
       "      <th>4</th>\n",
       "      <td>4</td>\n",
       "      <td>1</td>\n",
       "      <td>TRANSFER</td>\n",
       "      <td>20128.0</td>\n",
       "      <td>C137533655</td>\n",
       "      <td>20128.0</td>\n",
       "      <td>0.0</td>\n",
       "      <td>C1848415041</td>\n",
       "      <td>0.0</td>\n",
       "      <td>0.0</td>\n",
       "      <td>1</td>\n",
       "      <td>0</td>\n",
       "    </tr>\n",
       "  </tbody>\n",
       "</table>\n",
       "</div>"
      ],
      "text/plain": [
       "   Unnamed: 0  step      type   amount     nameOrig  oldbalanceOrg  \\\n",
       "0           0     1  TRANSFER    181.0  C1305486145          181.0   \n",
       "1           1     1  CASH_OUT    181.0   C840083671          181.0   \n",
       "2           2     1  TRANSFER   2806.0  C1420196421         2806.0   \n",
       "3           3     1  CASH_OUT   2806.0  C2101527076         2806.0   \n",
       "4           4     1  TRANSFER  20128.0   C137533655        20128.0   \n",
       "\n",
       "   newbalanceOrig     nameDest  oldbalanceDest  newbalanceDest  isFraud  \\\n",
       "0             0.0   C553264065             0.0             0.0        1   \n",
       "1             0.0    C38997010         21182.0             0.0        1   \n",
       "2             0.0   C972765878             0.0             0.0        1   \n",
       "3             0.0  C1007251739         26202.0             0.0        1   \n",
       "4             0.0  C1848415041             0.0             0.0        1   \n",
       "\n",
       "   isFlaggedFraud  \n",
       "0               0  \n",
       "1               0  \n",
       "2               0  \n",
       "3               0  \n",
       "4               0  "
      ]
     },
     "execution_count": 13,
     "metadata": {},
     "output_type": "execute_result"
    }
   ],
   "source": [
    "df = pd.read_csv(r'C:\\Users\\laptop\\Fraud1.csv')\n",
    "df.head()"
   ]
  },
  {
   "cell_type": "code",
   "execution_count": 14,
   "metadata": {},
   "outputs": [],
   "source": [
    "df.drop('Unnamed: 0',axis=1,inplace=True)"
   ]
  },
  {
   "cell_type": "code",
   "execution_count": 115,
   "metadata": {},
   "outputs": [
    {
     "data": {
      "image/png": "[encoded data removed]",
      "text/plain": [
       "<Figure size 720x504 with 1 Axes>"
      ]
     },
     "metadata": {
      "needs_background": "light"
     },
     "output_type": "display_data"
    }
   ],
   "source": [
    "df.step.value_counts()\n",
    "sns.histplot(df.step)\n",
    "plt.rcParams['figure.figsize'] = [10,7]"
   ]
  },
  {
   "cell_type": "markdown",
   "metadata": {},
   "source": [
    "The histogram shows that most number of steps are 1, so many prefer simple transaction methods."
   ]
  },
  {
   "cell_type": "code",
   "execution_count": 16,
   "metadata": {},
   "outputs": [
    {
     "data": {
      "image/png": "[encoded data removed]",
      "text/plain": [
       "<Figure size 720x504 with 1 Axes>"
      ]
     },
     "metadata": {
      "needs_background": "light"
     },
     "output_type": "display_data"
    }
   ],
   "source": [
    "sns.barplot(x = 'type', y = 'amount', data=df)\n",
    "plt.show()"
   ]
  },
  {
   "cell_type": "markdown",
   "metadata": {},
   "source": [
    "So, most likely the 'Transfer' contains the fraud transactions because it very large in number. Cash out can also conation fraud transcations."
   ]
  },
  {
   "cell_type": "code",
   "execution_count": 17,
   "metadata": {},
   "outputs": [
    {
     "data": {
      "text/plain": [
       "step              0\n",
       "type              0\n",
       "amount            0\n",
       "nameOrig          0\n",
       "oldbalanceOrg     0\n",
       "newbalanceOrig    0\n",
       "nameDest          0\n",
       "oldbalanceDest    0\n",
       "newbalanceDest    0\n",
       "isFraud           0\n",
       "isFlaggedFraud    0\n",
       "dtype: int64"
      ]
     },
     "execution_count": 17,
     "metadata": {},
     "output_type": "execute_result"
    }
   ],
   "source": [
    "df.isnull().sum()     # Checking for any missing data"
   ]
  },
  {
   "cell_type": "code",
   "execution_count": 18,
   "metadata": {},
   "outputs": [
    {
     "data": {
      "text/plain": [
       "step                int64\n",
       "type               object\n",
       "amount            float64\n",
       "nameOrig           object\n",
       "oldbalanceOrg     float64\n",
       "newbalanceOrig    float64\n",
       "nameDest           object\n",
       "oldbalanceDest    float64\n",
       "newbalanceDest    float64\n",
       "isFraud             int64\n",
       "isFlaggedFraud      int64\n",
       "dtype: object"
      ]
     },
     "execution_count": 18,
     "metadata": {},
     "output_type": "execute_result"
    }
   ],
   "source": [
    "df.dtypes"
   ]
  },
  {
   "cell_type": "code",
   "execution_count": 116,
   "metadata": {},
   "outputs": [
    {
     "data": {
      "text/html": [
       "<div>\n",
       "<style scoped>\n",
       "    .dataframe tbody tr th:only-of-type {\n",
       "        vertical-align: middle;\n",
       "    }\n",
       "\n",
       "    .dataframe tbody tr th {\n",
       "        vertical-align: top;\n",
       "    }\n",
       "\n",
       "    .dataframe thead th {\n",
       "        text-align: right;\n",
       "    }\n",
       "</style>\n",
       "<table border=\"1\" class=\"dataframe\">\n",
       "  <thead>\n",
       "    <tr style=\"text-align: right;\">\n",
       "      <th></th>\n",
       "      <th>amount</th>\n",
       "    </tr>\n",
       "  </thead>\n",
       "  <tbody>\n",
       "    <tr>\n",
       "      <th>count</th>\n",
       "      <td>1.882500e+04</td>\n",
       "    </tr>\n",
       "    <tr>\n",
       "      <th>mean</th>\n",
       "      <td>7.359958e+05</td>\n",
       "    </tr>\n",
       "    <tr>\n",
       "      <th>std</th>\n",
       "      <td>1.747197e+06</td>\n",
       "    </tr>\n",
       "    <tr>\n",
       "      <th>min</th>\n",
       "      <td>0.000000e+00</td>\n",
       "    </tr>\n",
       "    <tr>\n",
       "      <th>25%</th>\n",
       "      <td>2.923734e+04</td>\n",
       "    </tr>\n",
       "    <tr>\n",
       "      <th>50%</th>\n",
       "      <td>1.540523e+05</td>\n",
       "    </tr>\n",
       "    <tr>\n",
       "      <th>75%</th>\n",
       "      <td>4.523885e+05</td>\n",
       "    </tr>\n",
       "    <tr>\n",
       "      <th>max</th>\n",
       "      <td>1.539820e+07</td>\n",
       "    </tr>\n",
       "  </tbody>\n",
       "</table>\n",
       "</div>"
      ],
      "text/plain": [
       "             amount\n",
       "count  1.882500e+04\n",
       "mean   7.359958e+05\n",
       "std    1.747197e+06\n",
       "min    0.000000e+00\n",
       "25%    2.923734e+04\n",
       "50%    1.540523e+05\n",
       "75%    4.523885e+05\n",
       "max    1.539820e+07"
      ]
     },
     "execution_count": 116,
     "metadata": {},
     "output_type": "execute_result"
    }
   ],
   "source": [
    "dffff = df.amount.describe()  # Describes various Statistical factors\n",
    "pd.DataFrame(dffff)"
   ]
  },
  {
   "cell_type": "code",
   "execution_count": 20,
   "metadata": {},
   "outputs": [
    {
     "data": {
      "image/png": "[encoded data removed]",
      "text/plain": [
       "<Figure size 720x504 with 1 Axes>"
      ]
     },
     "metadata": {
      "needs_background": "light"
     },
     "output_type": "display_data"
    }
   ],
   "source": [
    "import warnings\n",
    "warnings.simplefilter(action='ignore', category=FutureWarning)\n",
    "dff = df[df.amount!=0]\n",
    "p = sns.distplot(np.log(dff['amount'])).set(title='Checking the Skewness of the data')  # Highly Right Skewed Data\n",
    "#plt.ylim([0,10**(-8)])\n",
    "#plt.xlim(0,3*10**7)\n",
    "plt.rcParams['figure.figsize'] = [10,10]"
   ]
  },
  {
   "cell_type": "markdown",
   "metadata": {},
   "source": [
    "The tail of the amount of transaction distribuation is towards left, so this a 'Right Skewed Gaussian Data'. In such a dataset, the 'median' is more meaningfull than the 'mean'. Lets calculate the amount of skewness."
   ]
  },
  {
   "cell_type": "code",
   "execution_count": 21,
   "metadata": {},
   "outputs": [
    {
     "data": {
      "text/plain": [
       "3.8804108648778044"
      ]
     },
     "execution_count": 21,
     "metadata": {},
     "output_type": "execute_result"
    }
   ],
   "source": [
    "from scipy.stats import skew\n",
    "skew(df.amount)"
   ]
  },
  {
   "cell_type": "code",
   "execution_count": 120,
   "metadata": {
    "scrolled": false
   },
   "outputs": [
    {
     "data": {
      "image/png": "[encoded data removed]",
      "text/plain": [
       "<Figure size 432x432 with 1 Axes>"
      ]
     },
     "metadata": {
      "needs_background": "light"
     },
     "output_type": "display_data"
    }
   ],
   "source": [
    "fdd = df[df.amount!=0]\n",
    "sns.boxplot(np.log(fdd.amount))\n",
    "plt.show()\n",
    "plt.rcParams['figure.figsize'] = [6,6]"
   ]
  },
  {
   "cell_type": "markdown",
   "metadata": {},
   "source": [
    "Thus, the outliers are in the less amount region, so most probably these are the fraud transactions."
   ]
  },
  {
   "cell_type": "code",
   "execution_count": 23,
   "metadata": {},
   "outputs": [
    {
     "data": {
      "text/plain": [
       "0    10612\n",
       "1     8213\n",
       "Name: isFraud, dtype: int64"
      ]
     },
     "execution_count": 23,
     "metadata": {},
     "output_type": "execute_result"
    }
   ],
   "source": [
    "df['isFraud'].value_counts()"
   ]
  },
  {
   "cell_type": "code",
   "execution_count": 121,
   "metadata": {
    "scrolled": false
   },
   "outputs": [
    {
     "data": {
      "image/png": "[encoded data removed]",
      "text/plain": [
       "<Figure size 432x432 with 1 Axes>"
      ]
     },
     "metadata": {
      "needs_background": "light"
     },
     "output_type": "display_data"
    }
   ],
   "source": [
    "sns.histplot(df['isFraud'])\n",
    "plt.show()"
   ]
  },
  {
   "cell_type": "markdown",
   "metadata": {},
   "source": [
    "So, we removed the imbalance in the dataset quiet a lot. Now, we can apply our ML and DL models, but before that we need to rescale the numerical data. "
   ]
  },
  {
   "cell_type": "markdown",
   "metadata": {},
   "source": [
    "## Scaling the Continous data using min max scaling"
   ]
  },
  {
   "cell_type": "code",
   "execution_count": 25,
   "metadata": {},
   "outputs": [],
   "source": [
    "from sklearn.preprocessing import MinMaxScaler\n",
    "Fraud = df[df['isFraud'] == 1]    \n",
    "Normal = df[df['isFraud']==0]\n",
    "df1 = df.copy()\n",
    "df1 = pd.get_dummies(df1,columns=['type'])\n",
    "df2 = df1.copy()\n",
    "df2.drop(['nameOrig','nameDest'],axis=1,inplace=True)\n",
    "x = df2.drop(['isFraud','isFlaggedFraud'],axis=1)\n",
    "scaler = MinMaxScaler()\n",
    "x1 = scaler.fit_transform(x)\n",
    "y = df2.isFraud"
   ]
  },
  {
   "cell_type": "code",
   "execution_count": 26,
   "metadata": {},
   "outputs": [],
   "source": [
    "x = pd.DataFrame(x1, columns=x.columns)"
   ]
  },
  {
   "cell_type": "code",
   "execution_count": 27,
   "metadata": {},
   "outputs": [
    {
     "data": {
      "text/html": [
       "<div>\n",
       "<style scoped>\n",
       "    .dataframe tbody tr th:only-of-type {\n",
       "        vertical-align: middle;\n",
       "    }\n",
       "\n",
       "    .dataframe tbody tr th {\n",
       "        vertical-align: top;\n",
       "    }\n",
       "\n",
       "    .dataframe thead th {\n",
       "        text-align: right;\n",
       "    }\n",
       "</style>\n",
       "<table border=\"1\" class=\"dataframe\">\n",
       "  <thead>\n",
       "    <tr style=\"text-align: right;\">\n",
       "      <th></th>\n",
       "      <th>step</th>\n",
       "      <th>amount</th>\n",
       "      <th>oldbalanceOrg</th>\n",
       "      <th>newbalanceOrig</th>\n",
       "      <th>oldbalanceDest</th>\n",
       "      <th>newbalanceDest</th>\n",
       "      <th>type_CASH_IN</th>\n",
       "      <th>type_CASH_OUT</th>\n",
       "      <th>type_DEBIT</th>\n",
       "      <th>type_PAYMENT</th>\n",
       "      <th>type_TRANSFER</th>\n",
       "    </tr>\n",
       "  </thead>\n",
       "  <tbody>\n",
       "    <tr>\n",
       "      <th>0</th>\n",
       "      <td>0.0</td>\n",
       "      <td>0.000012</td>\n",
       "      <td>0.000003</td>\n",
       "      <td>0.0</td>\n",
       "      <td>0.000000</td>\n",
       "      <td>0.0</td>\n",
       "      <td>0.0</td>\n",
       "      <td>0.0</td>\n",
       "      <td>0.0</td>\n",
       "      <td>0.0</td>\n",
       "      <td>1.0</td>\n",
       "    </tr>\n",
       "    <tr>\n",
       "      <th>1</th>\n",
       "      <td>0.0</td>\n",
       "      <td>0.000012</td>\n",
       "      <td>0.000003</td>\n",
       "      <td>0.0</td>\n",
       "      <td>0.000090</td>\n",
       "      <td>0.0</td>\n",
       "      <td>0.0</td>\n",
       "      <td>1.0</td>\n",
       "      <td>0.0</td>\n",
       "      <td>0.0</td>\n",
       "      <td>0.0</td>\n",
       "    </tr>\n",
       "    <tr>\n",
       "      <th>2</th>\n",
       "      <td>0.0</td>\n",
       "      <td>0.000182</td>\n",
       "      <td>0.000047</td>\n",
       "      <td>0.0</td>\n",
       "      <td>0.000000</td>\n",
       "      <td>0.0</td>\n",
       "      <td>0.0</td>\n",
       "      <td>0.0</td>\n",
       "      <td>0.0</td>\n",
       "      <td>0.0</td>\n",
       "      <td>1.0</td>\n",
       "    </tr>\n",
       "    <tr>\n",
       "      <th>3</th>\n",
       "      <td>0.0</td>\n",
       "      <td>0.000182</td>\n",
       "      <td>0.000047</td>\n",
       "      <td>0.0</td>\n",
       "      <td>0.000111</td>\n",
       "      <td>0.0</td>\n",
       "      <td>0.0</td>\n",
       "      <td>1.0</td>\n",
       "      <td>0.0</td>\n",
       "      <td>0.0</td>\n",
       "      <td>0.0</td>\n",
       "    </tr>\n",
       "    <tr>\n",
       "      <th>4</th>\n",
       "      <td>0.0</td>\n",
       "      <td>0.001307</td>\n",
       "      <td>0.000338</td>\n",
       "      <td>0.0</td>\n",
       "      <td>0.000000</td>\n",
       "      <td>0.0</td>\n",
       "      <td>0.0</td>\n",
       "      <td>0.0</td>\n",
       "      <td>0.0</td>\n",
       "      <td>0.0</td>\n",
       "      <td>1.0</td>\n",
       "    </tr>\n",
       "  </tbody>\n",
       "</table>\n",
       "</div>"
      ],
      "text/plain": [
       "   step    amount  oldbalanceOrg  newbalanceOrig  oldbalanceDest  \\\n",
       "0   0.0  0.000012       0.000003             0.0        0.000000   \n",
       "1   0.0  0.000012       0.000003             0.0        0.000090   \n",
       "2   0.0  0.000182       0.000047             0.0        0.000000   \n",
       "3   0.0  0.000182       0.000047             0.0        0.000111   \n",
       "4   0.0  0.001307       0.000338             0.0        0.000000   \n",
       "\n",
       "   newbalanceDest  type_CASH_IN  type_CASH_OUT  type_DEBIT  type_PAYMENT  \\\n",
       "0             0.0           0.0            0.0         0.0           0.0   \n",
       "1             0.0           0.0            1.0         0.0           0.0   \n",
       "2             0.0           0.0            0.0         0.0           0.0   \n",
       "3             0.0           0.0            1.0         0.0           0.0   \n",
       "4             0.0           0.0            0.0         0.0           0.0   \n",
       "\n",
       "   type_TRANSFER  \n",
       "0            1.0  \n",
       "1            0.0  \n",
       "2            1.0  \n",
       "3            0.0  \n",
       "4            1.0  "
      ]
     },
     "execution_count": 27,
     "metadata": {},
     "output_type": "execute_result"
    }
   ],
   "source": [
    "x.head()"
   ]
  },
  {
   "cell_type": "code",
   "execution_count": 28,
   "metadata": {},
   "outputs": [],
   "source": [
    "change = ['step','type_CASH_IN','type_CASH_OUT',\t'type_DEBIT',\t'type_PAYMENT',\t'type_TRANSFER']\n",
    " \n",
    "    \n",
    "for i in change:\n",
    "    x[i] = x[i].apply(lambda x: int(x))"
   ]
  },
  {
   "cell_type": "code",
   "execution_count": 29,
   "metadata": {},
   "outputs": [
    {
     "data": {
      "text/html": [
       "<div>\n",
       "<style scoped>\n",
       "    .dataframe tbody tr th:only-of-type {\n",
       "        vertical-align: middle;\n",
       "    }\n",
       "\n",
       "    .dataframe tbody tr th {\n",
       "        vertical-align: top;\n",
       "    }\n",
       "\n",
       "    .dataframe thead th {\n",
       "        text-align: right;\n",
       "    }\n",
       "</style>\n",
       "<table border=\"1\" class=\"dataframe\">\n",
       "  <thead>\n",
       "    <tr style=\"text-align: right;\">\n",
       "      <th></th>\n",
       "      <th>step</th>\n",
       "      <th>amount</th>\n",
       "      <th>oldbalanceOrg</th>\n",
       "      <th>newbalanceOrig</th>\n",
       "      <th>oldbalanceDest</th>\n",
       "      <th>newbalanceDest</th>\n",
       "      <th>type_CASH_IN</th>\n",
       "      <th>type_CASH_OUT</th>\n",
       "      <th>type_DEBIT</th>\n",
       "      <th>type_PAYMENT</th>\n",
       "      <th>type_TRANSFER</th>\n",
       "    </tr>\n",
       "  </thead>\n",
       "  <tbody>\n",
       "    <tr>\n",
       "      <th>0</th>\n",
       "      <td>0</td>\n",
       "      <td>0.000012</td>\n",
       "      <td>0.000003</td>\n",
       "      <td>0.0</td>\n",
       "      <td>0.000000</td>\n",
       "      <td>0.0</td>\n",
       "      <td>0</td>\n",
       "      <td>0</td>\n",
       "      <td>0</td>\n",
       "      <td>0</td>\n",
       "      <td>1</td>\n",
       "    </tr>\n",
       "    <tr>\n",
       "      <th>1</th>\n",
       "      <td>0</td>\n",
       "      <td>0.000012</td>\n",
       "      <td>0.000003</td>\n",
       "      <td>0.0</td>\n",
       "      <td>0.000090</td>\n",
       "      <td>0.0</td>\n",
       "      <td>0</td>\n",
       "      <td>1</td>\n",
       "      <td>0</td>\n",
       "      <td>0</td>\n",
       "      <td>0</td>\n",
       "    </tr>\n",
       "    <tr>\n",
       "      <th>2</th>\n",
       "      <td>0</td>\n",
       "      <td>0.000182</td>\n",
       "      <td>0.000047</td>\n",
       "      <td>0.0</td>\n",
       "      <td>0.000000</td>\n",
       "      <td>0.0</td>\n",
       "      <td>0</td>\n",
       "      <td>0</td>\n",
       "      <td>0</td>\n",
       "      <td>0</td>\n",
       "      <td>1</td>\n",
       "    </tr>\n",
       "    <tr>\n",
       "      <th>3</th>\n",
       "      <td>0</td>\n",
       "      <td>0.000182</td>\n",
       "      <td>0.000047</td>\n",
       "      <td>0.0</td>\n",
       "      <td>0.000111</td>\n",
       "      <td>0.0</td>\n",
       "      <td>0</td>\n",
       "      <td>1</td>\n",
       "      <td>0</td>\n",
       "      <td>0</td>\n",
       "      <td>0</td>\n",
       "    </tr>\n",
       "    <tr>\n",
       "      <th>4</th>\n",
       "      <td>0</td>\n",
       "      <td>0.001307</td>\n",
       "      <td>0.000338</td>\n",
       "      <td>0.0</td>\n",
       "      <td>0.000000</td>\n",
       "      <td>0.0</td>\n",
       "      <td>0</td>\n",
       "      <td>0</td>\n",
       "      <td>0</td>\n",
       "      <td>0</td>\n",
       "      <td>1</td>\n",
       "    </tr>\n",
       "  </tbody>\n",
       "</table>\n",
       "</div>"
      ],
      "text/plain": [
       "   step    amount  oldbalanceOrg  newbalanceOrig  oldbalanceDest  \\\n",
       "0     0  0.000012       0.000003             0.0        0.000000   \n",
       "1     0  0.000012       0.000003             0.0        0.000090   \n",
       "2     0  0.000182       0.000047             0.0        0.000000   \n",
       "3     0  0.000182       0.000047             0.0        0.000111   \n",
       "4     0  0.001307       0.000338             0.0        0.000000   \n",
       "\n",
       "   newbalanceDest  type_CASH_IN  type_CASH_OUT  type_DEBIT  type_PAYMENT  \\\n",
       "0             0.0             0              0           0             0   \n",
       "1             0.0             0              1           0             0   \n",
       "2             0.0             0              0           0             0   \n",
       "3             0.0             0              1           0             0   \n",
       "4             0.0             0              0           0             0   \n",
       "\n",
       "   type_TRANSFER  \n",
       "0              1  \n",
       "1              0  \n",
       "2              1  \n",
       "3              0  \n",
       "4              1  "
      ]
     },
     "execution_count": 29,
     "metadata": {},
     "output_type": "execute_result"
    }
   ],
   "source": [
    "x.head()"
   ]
  },
  {
   "cell_type": "markdown",
   "metadata": {},
   "source": [
    "### Statistical measures of the Fraud & Normal transactions"
   ]
  },
  {
   "cell_type": "code",
   "execution_count": 30,
   "metadata": {},
   "outputs": [
    {
     "data": {
      "text/plain": [
       "count    8.213000e+03\n",
       "mean     1.467967e+06\n",
       "std      2.404253e+06\n",
       "min      0.000000e+00\n",
       "25%      1.270913e+05\n",
       "50%      4.414234e+05\n",
       "75%      1.517771e+06\n",
       "max      1.000000e+07\n",
       "Name: amount, dtype: float64"
      ]
     },
     "execution_count": 30,
     "metadata": {},
     "output_type": "execute_result"
    }
   ],
   "source": [
    "Fraud.amount.describe()"
   ]
  },
  {
   "cell_type": "code",
   "execution_count": 31,
   "metadata": {},
   "outputs": [
    {
     "data": {
      "text/plain": [
       "count    1.061200e+04\n",
       "mean     1.694973e+05\n",
       "std      4.542072e+05\n",
       "min      1.120000e+00\n",
       "25%      1.307477e+04\n",
       "50%      6.997889e+04\n",
       "75%      2.052441e+05\n",
       "max      1.539820e+07\n",
       "Name: amount, dtype: float64"
      ]
     },
     "execution_count": 31,
     "metadata": {},
     "output_type": "execute_result"
    }
   ],
   "source": [
    "Normal.amount.describe()"
   ]
  },
  {
   "cell_type": "code",
   "execution_count": 32,
   "metadata": {},
   "outputs": [
    {
     "data": {
      "image/png": "[encoded data removed]",
      "text/plain": [
       "<Figure size 432x432 with 2 Axes>"
      ]
     },
     "metadata": {
      "needs_background": "light"
     },
     "output_type": "display_data"
    }
   ],
   "source": [
    "f, (ax1, ax2) = plt.subplots(2, 1, sharex=True) \n",
    "f.suptitle('Amount per transaction by class')\n",
    "bins = 100\n",
    "ax1.hist(np.log(dff[dff.isFraud==0].amount), bins = bins,alpha=0.75)\n",
    "ax1.set_title('Fraud')\n",
    "ax2.hist(np.log(Normal.amount), bins = bins,alpha=0.75)\n",
    "ax2.set_title('Normal')\n",
    "plt.xlabel('Amount')\n",
    "plt.ylabel('Number of Transactions')\n",
    "plt.yscale('log')\n",
    "plt.rcParams['figure.figsize'] = [10, 7]\n",
    "#plt.grid(True)\n",
    "#ax1.grid(True)\n",
    "plt.xlim([0,None])\n",
    "plt.show()"
   ]
  },
  {
   "cell_type": "markdown",
   "metadata": {},
   "source": [
    "The above plot compares the amount of 'Normal' vs 'Fraud' transactions. This shows fraudalent transactions are less in amounts, but they cannot be separated using 'Anomaly detection', because the the norml data is mixed with it."
   ]
  },
  {
   "cell_type": "markdown",
   "metadata": {},
   "source": [
    "## Model Selection Process"
   ]
  },
  {
   "cell_type": "markdown",
   "metadata": {},
   "source": [
    "So, as we can see that this dataset contains Categorical as well as Numeric data, it will be good to use a 'Descision Tree Classifier'. But, we have many optimised versions of the 'Descision Tree Classifier', we will use them one by one any evalute the best model upon the performance metrics. We, will also use 'Artificial Neural Networks' to do this.\n",
    "\n"
   ]
  },
  {
   "cell_type": "code",
   "execution_count": 33,
   "metadata": {},
   "outputs": [],
   "source": [
    "from sklearn.model_selection import train_test_split\n",
    "from sklearn.ensemble import IsolationForest, RandomForestClassifier\n",
    "from sklearn.neighbors import LocalOutlierFactor\n",
    "from sklearn.svm import SVC\n",
    "from sklearn.ensemble import GradientBoostingClassifier\n",
    "from xgboost import XGBClassifier\n",
    "from sklearn.ensemble import AdaBoostClassifier"
   ]
  },
  {
   "cell_type": "code",
   "execution_count": 34,
   "metadata": {},
   "outputs": [],
   "source": [
    "x_train, x_test, y_train, y_test = train_test_split(x,y, test_size=0.3)           # Diving the dataset into training and testing dataset"
   ]
  },
  {
   "cell_type": "code",
   "execution_count": 35,
   "metadata": {
    "scrolled": true
   },
   "outputs": [
    {
     "data": {
      "text/plain": [
       "0    3122\n",
       "1    2526\n",
       "Name: isFraud, dtype: int64"
      ]
     },
     "execution_count": 35,
     "metadata": {},
     "output_type": "execute_result"
    }
   ],
   "source": [
    "y_test.value_counts()"
   ]
  },
  {
   "cell_type": "code",
   "execution_count": 124,
   "metadata": {
    "scrolled": false
   },
   "outputs": [
    {
     "data": {
      "image/png": "[encoded data removed]",
      "text/plain": [
       "<Figure size 432x432 with 1 Axes>"
      ]
     },
     "metadata": {
      "needs_background": "light"
     },
     "output_type": "display_data"
    }
   ],
   "source": [
    "sns.histplot(y_test)\n",
    "plt.show()"
   ]
  },
  {
   "cell_type": "code",
   "execution_count": 36,
   "metadata": {},
   "outputs": [],
   "source": [
    "outlier_fraction = len(Fraud)/len(Normal)"
   ]
  },
  {
   "cell_type": "code",
   "execution_count": 59,
   "metadata": {},
   "outputs": [],
   "source": [
    "Isf = IsolationForest(max_samples=len(x_train), contamination = 0.01,verbose=0, n_estimators=100)\n",
    "lof = LocalOutlierFactor(contamination = 0.01)\n",
    "svm = SVC()\n",
    "rf = RandomForestClassifier()\n",
    "gb = GradientBoostingClassifier()\n",
    "xg = XGBClassifier()\n",
    "Ada = AdaBoostClassifier()"
   ]
  },
  {
   "cell_type": "code",
   "execution_count": 61,
   "metadata": {},
   "outputs": [],
   "source": [
    "y_prec = lof.fit_predict(x_test)\n",
    "Isf.fit(x_train,y_train)\n",
    "y_pred = Isf.predict(x_test)\n",
    "svm.fit(x_train,y_train)\n",
    "y_pred[y_pred == 1] = 0\n",
    "y_pred[y_pred == -1] = 1"
   ]
  },
  {
   "cell_type": "markdown",
   "metadata": {},
   "source": [
    "### Choosing the right evaluation Metrics\n",
    "\n",
    "We have to also use other evaluation matrics along with the 'Accuracy'. This is because our aim is to predict fraud transactions. For, this particular instance, we would like to detect the 'Fraudlent' transactions, by keeping in mind that no 'Normal' transaction is refered as 'Fraudlent'. Also, no 'Fraudlent' transaction should be refered as 'Normal'. These are also called the 'Type-I Error and 'Type-II Error in statistics."
   ]
  },
  {
   "cell_type": "markdown",
   "metadata": {},
   "source": [
    "### Prescision, Recall & Area Under Curve (AUC)\n",
    "\n",
    "'Precesion' and 'Recall' are the evaluation metrics very usefull for specific purposes. 'Precesion' is the ratio of 'True Positive' and the sum of both 'True Positive' and 'False Positive'. Here, the 'True Positive' is Fraud Detection. Similarly, in 'Recall' instead of 'False Positive' it is 'False Negetive'. Now, by keeping a 'Descision Thersold', we will get different values of the both. And, if we plot them, we get a curve also known as the 'ROC'. The area under this curve is important, because it's a measure of the desirable values of the both 'Precesion' and 'Recall'. This is also called the Area Under Curve (AUC)."
   ]
  },
  {
   "cell_type": "markdown",
   "metadata": {},
   "source": [
    "## Choosing the best model w.r.t the AUC score"
   ]
  },
  {
   "cell_type": "code",
   "execution_count": 39,
   "metadata": {},
   "outputs": [],
   "source": [
    "from sklearn.metrics import classification_report,accuracy_score,roc_auc_score,precision_score, confusion_matrix,recall_score"
   ]
  },
  {
   "cell_type": "code",
   "execution_count": 111,
   "metadata": {},
   "outputs": [],
   "source": [
    "# Local Outlier Factor\n",
    "y_prec[y_prec == 1] = 0\n",
    "y_prec[y_prec == -1] = 1"
   ]
  },
  {
   "cell_type": "code",
   "execution_count": 102,
   "metadata": {},
   "outputs": [
    {
     "name": "stdout",
     "output_type": "stream",
     "text": [
      "Model: SVM\n",
      "Accuracy: 0.8275495750708215\n",
      "Precision: 0.8770651117589893\n",
      "AUC: 0.8167653457215998\n"
     ]
    },
    {
     "data": {
      "image/png": "[encoded data removed]",
      "text/plain": [
       "<Figure size 720x504 with 2 Axes>"
      ]
     },
     "metadata": {
      "needs_background": "light"
     },
     "output_type": "display_data"
    }
   ],
   "source": [
    "print('Model: SVM')\n",
    "y_presvm = svm.predict(x_test)\n",
    "cm11 = confusion_matrix(y_test,y_presvm)\n",
    "print('Accuracy:', svm.score(x_test, y_test))\n",
    "print('Precision:', precision_score(y_test, y_presvm))\n",
    "print('AUC:', roc_auc_score(y_test, y_presvm) )\n",
    "sns.heatmap(cm11,annot=True,fmt='d')\n",
    "plt.show()"
   ]
  },
  {
   "cell_type": "code",
   "execution_count": 114,
   "metadata": {},
   "outputs": [
    {
     "name": "stdout",
     "output_type": "stream",
     "text": [
      "Model: Isolation Forest\n",
      "AUC: 0.49639381438801994\n"
     ]
    },
    {
     "data": {
      "image/png": "[encoded data removed]",
      "text/plain": [
       "<Figure size 720x504 with 2 Axes>"
      ]
     },
     "metadata": {
      "needs_background": "light"
     },
     "output_type": "display_data"
    }
   ],
   "source": [
    "print('Model: Isolation Forest')\n",
    "#print('Precision:', precision_score(y_test,y_pred)\n",
    "print('AUC:',roc_auc_score(y_test,y_pred))\n",
    "cm1 = confusion_matrix(y_test,y_pred)\n",
    "sns.heatmap(cm1,annot=True, fmt='d')\n",
    "plt.show()"
   ]
  },
  {
   "cell_type": "code",
   "execution_count": 113,
   "metadata": {},
   "outputs": [
    {
     "name": "stdout",
     "output_type": "stream",
     "text": [
      "Model: Local outlier Factor\n",
      "AUC: 0.5\n"
     ]
    },
    {
     "data": {
      "image/png": "[encoded data removed]",
      "text/plain": [
       "<Figure size 720x504 with 2 Axes>"
      ]
     },
     "metadata": {
      "needs_background": "light"
     },
     "output_type": "display_data"
    }
   ],
   "source": [
    "print('Model: Local outlier Factor')\n",
    "#print('Accuracy:', lof.predict(x_test, y_test) )\n",
    "#print('Precision:', precision_score(y_test, y_prec))\n",
    "print('AUC:', roc_auc_score(y_test, y_prec) )\n",
    "cm1 = confusion_matrix(y_test,y_prec)\n",
    "sns.heatmap(cm1,annot=True, fmt='d')\n",
    "plt.show()"
   ]
  },
  {
   "cell_type": "code",
   "execution_count": 77,
   "metadata": {},
   "outputs": [],
   "source": [
    "rf.fit(x_train,y_train)         # Random Forest\n",
    "y_prerf = rf.predict(x_test)"
   ]
  },
  {
   "cell_type": "code",
   "execution_count": 80,
   "metadata": {},
   "outputs": [
    {
     "name": "stdout",
     "output_type": "stream",
     "text": [
      "Model: Random Forest\n",
      "Accuracy: 0.9916784702549575\n",
      "Precision: 0.9855072463768116\n",
      "AUC: 0.992094897245457\n"
     ]
    },
    {
     "data": {
      "image/png": "[encoded data removed]",
      "text/plain": [
       "<Figure size 720x504 with 2 Axes>"
      ]
     },
     "metadata": {
      "needs_background": "light"
     },
     "output_type": "display_data"
    }
   ],
   "source": [
    "print('Model: Random Forest')\n",
    "print('Accuracy:', rf.score(x_test, y_test))\n",
    "print('Precision:', precision_score(y_test,y_prerf) )\n",
    "print('AUC:',roc_auc_score(y_test,y_prerf))\n",
    "cm1 = confusion_matrix(y_test,y_prerf)\n",
    "sns.heatmap(cm1,annot=True, fmt='d')\n",
    "plt.show()"
   ]
  },
  {
   "cell_type": "code",
   "execution_count": 82,
   "metadata": {},
   "outputs": [],
   "source": [
    "gb.fit(x_train,y_train)         # Gradiant Boost\n",
    "y_pregb = gb.predict(x_test)"
   ]
  },
  {
   "cell_type": "code",
   "execution_count": 88,
   "metadata": {},
   "outputs": [
    {
     "name": "stdout",
     "output_type": "stream",
     "text": [
      "Model: Gradiant Boost\n",
      "Accuracy: 0.9872521246458924\n",
      "Precision: 0.9770606531881804\n",
      "AUC: 0.9879776905702793\n"
     ]
    },
    {
     "data": {
      "image/png": "[encoded data removed]",
      "text/plain": [
       "<Figure size 720x504 with 2 Axes>"
      ]
     },
     "metadata": {
      "needs_background": "light"
     },
     "output_type": "display_data"
    }
   ],
   "source": [
    "print('Model: Gradiant Boost')\n",
    "print('Accuracy:', (gb.score(x_test, y_test)))\n",
    "print('Precision:', precision_score(y_test,y_pregb) )\n",
    "print('AUC:',roc_auc_score(y_test,y_pregb ))\n",
    "cm1 = confusion_matrix(y_test,y_pregb)\n",
    "sns.heatmap(cm1,annot=True, fmt='d')\n",
    "plt.show()"
   ]
  },
  {
   "cell_type": "code",
   "execution_count": 89,
   "metadata": {},
   "outputs": [],
   "source": [
    "xg.fit(x_train,y_train)          # Xg Boost\n",
    "y_prexg = xg.predict(x_test)"
   ]
  },
  {
   "cell_type": "code",
   "execution_count": 91,
   "metadata": {},
   "outputs": [
    {
     "name": "stdout",
     "output_type": "stream",
     "text": [
      "Model: Xg Boost\n",
      "Accuracy: 0.9946883852691218\n",
      "Precision: 0.9909520062942565\n",
      "AUC: 0.9949308739398532\n"
     ]
    },
    {
     "data": {
      "image/png": "[encoded data removed]",
      "text/plain": [
       "<Figure size 720x504 with 2 Axes>"
      ]
     },
     "metadata": {
      "needs_background": "light"
     },
     "output_type": "display_data"
    }
   ],
   "source": [
    "print('Model: Xg Boost')\n",
    "print('Accuracy:', xg.score(x_test, y_test))\n",
    "print('Precision:', precision_score(y_test,y_prexg))\n",
    "print('AUC:',roc_auc_score(y_test,y_prexg ))\n",
    "cm6 = confusion_matrix(y_test,y_prexg)\n",
    "sns.heatmap(cm6,annot=True, fmt='d')\n",
    "plt.show()"
   ]
  },
  {
   "cell_type": "code",
   "execution_count": 93,
   "metadata": {},
   "outputs": [],
   "source": [
    "Ada.fit(x_train,y_train)          # Ada Boost\n",
    "y_preaba = Ada.predict(x_test)"
   ]
  },
  {
   "cell_type": "code",
   "execution_count": 95,
   "metadata": {},
   "outputs": [
    {
     "name": "stdout",
     "output_type": "stream",
     "text": [
      "Model: Ada Boost\n",
      "Accuracy: 0.9714943342776204\n",
      "Precision: 0.9567400540749325\n",
      "AUC: 0.9723636512112594\n"
     ]
    },
    {
     "data": {
      "image/png": "[encoded data removed]",
      "text/plain": [
       "<Figure size 720x504 with 2 Axes>"
      ]
     },
     "metadata": {
      "needs_background": "light"
     },
     "output_type": "display_data"
    }
   ],
   "source": [
    "print('Model: Ada Boost')\n",
    "print('Accuracy:', Ada.score(x_test, y_test))\n",
    "print('Precision:', precision_score(y_test,y_preaba) )\n",
    "print('AUC:',roc_auc_score(y_test,y_preaba ))\n",
    "cm8 = confusion_matrix(y_test,y_preaba)\n",
    "sns.heatmap(cm8,annot=True, fmt='d')\n",
    "plt.show()"
   ]
  },
  {
   "cell_type": "code",
   "execution_count": 54,
   "metadata": {
    "scrolled": false
   },
   "outputs": [
    {
     "name": "stdout",
     "output_type": "stream",
     "text": [
      "Epoch 1/100\n",
      "412/412 [==============================] - 4s 2ms/step - loss: 0.5375 - accuracy: 0.7759\n",
      "Epoch 2/100\n",
      "412/412 [==============================] - 1s 2ms/step - loss: 0.3669 - accuracy: 0.8311\n",
      "Epoch 3/100\n",
      "412/412 [==============================] - 1s 1ms/step - loss: 0.3455 - accuracy: 0.8421\n",
      "Epoch 4/100\n",
      "412/412 [==============================] - 1s 1ms/step - loss: 0.3345 - accuracy: 0.8463\n",
      "Epoch 5/100\n",
      "412/412 [==============================] - 1s 2ms/step - loss: 0.3266 - accuracy: 0.8497\n",
      "Epoch 6/100\n",
      "412/412 [==============================] - 1s 1ms/step - loss: 0.3190 - accuracy: 0.8525\n",
      "Epoch 7/100\n",
      "412/412 [==============================] - 1s 1ms/step - loss: 0.3116 - accuracy: 0.8510\n",
      "Epoch 8/100\n",
      "412/412 [==============================] - 1s 1ms/step - loss: 0.3017 - accuracy: 0.8576\n",
      "Epoch 9/100\n",
      "412/412 [==============================] - 1s 1ms/step - loss: 0.2910 - accuracy: 0.8632\n",
      "Epoch 10/100\n",
      "412/412 [==============================] - 1s 1ms/step - loss: 0.2775 - accuracy: 0.8704\n",
      "Epoch 11/100\n",
      "412/412 [==============================] - 1s 1ms/step - loss: 0.2597 - accuracy: 0.8805\n",
      "Epoch 12/100\n",
      "412/412 [==============================] - 1s 1ms/step - loss: 0.2428 - accuracy: 0.8922\n",
      "Epoch 13/100\n",
      "412/412 [==============================] - 1s 1ms/step - loss: 0.2243 - accuracy: 0.9046\n",
      "Epoch 14/100\n",
      "412/412 [==============================] - 1s 1ms/step - loss: 0.2097 - accuracy: 0.9093\n",
      "Epoch 15/100\n",
      "412/412 [==============================] - 1s 1ms/step - loss: 0.1967 - accuracy: 0.9139\n",
      "Epoch 16/100\n",
      "412/412 [==============================] - 1s 1ms/step - loss: 0.1869 - accuracy: 0.9186\n",
      "Epoch 17/100\n",
      "412/412 [==============================] - 1s 1ms/step - loss: 0.1784 - accuracy: 0.9218\n",
      "Epoch 18/100\n",
      "412/412 [==============================] - 1s 1ms/step - loss: 0.1682 - accuracy: 0.9268\n",
      "Epoch 19/100\n",
      "412/412 [==============================] - 1s 1ms/step - loss: 0.1639 - accuracy: 0.9286\n",
      "Epoch 20/100\n",
      "412/412 [==============================] - 1s 1ms/step - loss: 0.1598 - accuracy: 0.9300\n",
      "Epoch 21/100\n",
      "412/412 [==============================] - 1s 1ms/step - loss: 0.1538 - accuracy: 0.9352\n",
      "Epoch 22/100\n",
      "412/412 [==============================] - 1s 1ms/step - loss: 0.1548 - accuracy: 0.9347\n",
      "Epoch 23/100\n",
      "412/412 [==============================] - 1s 1ms/step - loss: 0.1488 - accuracy: 0.9384\n",
      "Epoch 24/100\n",
      "412/412 [==============================] - 1s 1ms/step - loss: 0.1453 - accuracy: 0.9388\n",
      "Epoch 25/100\n",
      "412/412 [==============================] - 1s 1ms/step - loss: 0.1486 - accuracy: 0.9373\n",
      "Epoch 26/100\n",
      "412/412 [==============================] - 1s 1ms/step - loss: 0.1417 - accuracy: 0.9404\n",
      "Epoch 27/100\n",
      "412/412 [==============================] - 1s 1ms/step - loss: 0.1415 - accuracy: 0.9367\n",
      "Epoch 28/100\n",
      "412/412 [==============================] - 1s 2ms/step - loss: 0.1374 - accuracy: 0.9430\n",
      "Epoch 29/100\n",
      "412/412 [==============================] - 1s 1ms/step - loss: 0.1415 - accuracy: 0.9388\n",
      "Epoch 30/100\n",
      "412/412 [==============================] - 1s 1ms/step - loss: 0.1322 - accuracy: 0.9460\n",
      "Epoch 31/100\n",
      "412/412 [==============================] - 1s 1ms/step - loss: 0.1333 - accuracy: 0.9450\n",
      "Epoch 32/100\n",
      "412/412 [==============================] - 1s 1ms/step - loss: 0.1290 - accuracy: 0.9463\n",
      "Epoch 33/100\n",
      "412/412 [==============================] - 1s 1ms/step - loss: 0.1285 - accuracy: 0.9478\n",
      "Epoch 34/100\n",
      "412/412 [==============================] - 1s 1ms/step - loss: 0.1267 - accuracy: 0.9494\n",
      "Epoch 35/100\n",
      "412/412 [==============================] - 1s 1ms/step - loss: 0.1237 - accuracy: 0.9505\n",
      "Epoch 36/100\n",
      "412/412 [==============================] - 1s 1ms/step - loss: 0.1225 - accuracy: 0.9550\n",
      "Epoch 37/100\n",
      "412/412 [==============================] - 1s 1ms/step - loss: 0.1186 - accuracy: 0.9543\n",
      "Epoch 38/100\n",
      "412/412 [==============================] - 1s 1ms/step - loss: 0.1190 - accuracy: 0.9537\n",
      "Epoch 39/100\n",
      "412/412 [==============================] - 1s 1ms/step - loss: 0.1167 - accuracy: 0.9548\n",
      "Epoch 40/100\n",
      "412/412 [==============================] - 1s 1ms/step - loss: 0.1149 - accuracy: 0.9573\n",
      "Epoch 41/100\n",
      "412/412 [==============================] - 1s 1ms/step - loss: 0.1126 - accuracy: 0.9573\n",
      "Epoch 42/100\n",
      "412/412 [==============================] - 1s 1ms/step - loss: 0.1119 - accuracy: 0.9571\n",
      "Epoch 43/100\n",
      "412/412 [==============================] - 1s 1ms/step - loss: 0.1097 - accuracy: 0.9586\n",
      "Epoch 44/100\n",
      "412/412 [==============================] - 1s 1ms/step - loss: 0.1081 - accuracy: 0.9592\n",
      "Epoch 45/100\n",
      "412/412 [==============================] - 1s 1ms/step - loss: 0.1064 - accuracy: 0.9612\n",
      "Epoch 46/100\n",
      "412/412 [==============================] - 1s 1ms/step - loss: 0.1039 - accuracy: 0.9609\n",
      "Epoch 47/100\n",
      "412/412 [==============================] - 1s 1ms/step - loss: 0.1039 - accuracy: 0.9617\n",
      "Epoch 48/100\n",
      "412/412 [==============================] - 0s 1ms/step - loss: 0.1019 - accuracy: 0.9629\n",
      "Epoch 49/100\n",
      "412/412 [==============================] - 0s 1ms/step - loss: 0.1025 - accuracy: 0.9610\n",
      "Epoch 50/100\n",
      "412/412 [==============================] - 1s 1ms/step - loss: 0.1039 - accuracy: 0.9602\n",
      "Epoch 51/100\n",
      "412/412 [==============================] - 1s 1ms/step - loss: 0.0982 - accuracy: 0.9638\n",
      "Epoch 52/100\n",
      "412/412 [==============================] - 1s 1ms/step - loss: 0.1004 - accuracy: 0.9637\n",
      "Epoch 53/100\n",
      "412/412 [==============================] - 1s 1ms/step - loss: 0.1056 - accuracy: 0.9570\n",
      "Epoch 54/100\n",
      "412/412 [==============================] - 1s 1ms/step - loss: 0.0968 - accuracy: 0.9621\n",
      "Epoch 55/100\n",
      "412/412 [==============================] - 1s 1ms/step - loss: 0.0954 - accuracy: 0.9655\n",
      "Epoch 56/100\n",
      "412/412 [==============================] - 1s 1ms/step - loss: 0.0982 - accuracy: 0.9627\n",
      "Epoch 57/100\n",
      "412/412 [==============================] - 1s 1ms/step - loss: 0.0951 - accuracy: 0.9658\n",
      "Epoch 58/100\n",
      "412/412 [==============================] - 1s 1ms/step - loss: 0.0945 - accuracy: 0.9653\n",
      "Epoch 59/100\n",
      "412/412 [==============================] - 1s 2ms/step - loss: 0.0975 - accuracy: 0.9628\n",
      "Epoch 60/100\n",
      "412/412 [==============================] - 1s 1ms/step - loss: 0.0950 - accuracy: 0.9636\n",
      "Epoch 61/100\n",
      "412/412 [==============================] - 1s 2ms/step - loss: 0.0918 - accuracy: 0.9658\n",
      "Epoch 62/100\n",
      "412/412 [==============================] - 1s 2ms/step - loss: 0.0911 - accuracy: 0.9674\n",
      "Epoch 63/100\n",
      "412/412 [==============================] - 1s 1ms/step - loss: 0.0915 - accuracy: 0.9660\n",
      "Epoch 64/100\n",
      "412/412 [==============================] - 1s 1ms/step - loss: 0.0926 - accuracy: 0.9667\n",
      "Epoch 65/100\n",
      "412/412 [==============================] - 1s 1ms/step - loss: 0.0957 - accuracy: 0.9633\n",
      "Epoch 66/100\n",
      "412/412 [==============================] - 1s 1ms/step - loss: 0.0883 - accuracy: 0.9681\n",
      "Epoch 67/100\n",
      "412/412 [==============================] - 1s 1ms/step - loss: 0.0914 - accuracy: 0.9654\n",
      "Epoch 68/100\n",
      "412/412 [==============================] - 1s 1ms/step - loss: 0.0901 - accuracy: 0.9654\n",
      "Epoch 69/100\n",
      "412/412 [==============================] - 1s 1ms/step - loss: 0.0896 - accuracy: 0.9667\n",
      "Epoch 70/100\n",
      "412/412 [==============================] - 1s 1ms/step - loss: 0.0900 - accuracy: 0.9671\n",
      "Epoch 71/100\n",
      "412/412 [==============================] - 1s 1ms/step - loss: 0.0864 - accuracy: 0.9712\n",
      "Epoch 72/100\n",
      "412/412 [==============================] - 1s 1ms/step - loss: 0.0889 - accuracy: 0.9657\n",
      "Epoch 73/100\n",
      "412/412 [==============================] - 1s 1ms/step - loss: 0.0858 - accuracy: 0.9704\n",
      "Epoch 74/100\n",
      "412/412 [==============================] - 1s 2ms/step - loss: 0.0865 - accuracy: 0.9690\n",
      "Epoch 75/100\n",
      "412/412 [==============================] - 1s 1ms/step - loss: 0.0879 - accuracy: 0.9665\n",
      "Epoch 76/100\n",
      "412/412 [==============================] - 1s 1ms/step - loss: 0.0876 - accuracy: 0.9662\n",
      "Epoch 77/100\n",
      "412/412 [==============================] - 1s 1ms/step - loss: 0.0848 - accuracy: 0.9687\n",
      "Epoch 78/100\n",
      "412/412 [==============================] - 1s 1ms/step - loss: 0.0848 - accuracy: 0.9683\n",
      "Epoch 79/100\n",
      "412/412 [==============================] - 1s 1ms/step - loss: 0.0822 - accuracy: 0.9714\n",
      "Epoch 80/100\n",
      "412/412 [==============================] - 1s 1ms/step - loss: 0.0835 - accuracy: 0.9699\n",
      "Epoch 81/100\n",
      "412/412 [==============================] - 1s 1ms/step - loss: 0.0866 - accuracy: 0.9693\n",
      "Epoch 82/100\n",
      "412/412 [==============================] - 1s 1ms/step - loss: 0.0839 - accuracy: 0.9682\n",
      "Epoch 83/100\n",
      "412/412 [==============================] - 1s 1ms/step - loss: 0.0842 - accuracy: 0.9703\n",
      "Epoch 84/100\n",
      "412/412 [==============================] - 1s 1ms/step - loss: 0.0840 - accuracy: 0.9688\n",
      "Epoch 85/100\n",
      "412/412 [==============================] - 1s 2ms/step - loss: 0.0885 - accuracy: 0.9649\n",
      "Epoch 86/100\n",
      "412/412 [==============================] - 1s 2ms/step - loss: 0.0839 - accuracy: 0.9692\n",
      "Epoch 87/100\n",
      "412/412 [==============================] - 1s 1ms/step - loss: 0.0811 - accuracy: 0.9708\n",
      "Epoch 88/100\n",
      "412/412 [==============================] - 1s 1ms/step - loss: 0.0805 - accuracy: 0.9715\n",
      "Epoch 89/100\n",
      "412/412 [==============================] - 1s 1ms/step - loss: 0.0846 - accuracy: 0.9681\n",
      "Epoch 90/100\n",
      "412/412 [==============================] - 1s 1ms/step - loss: 0.0786 - accuracy: 0.9718\n",
      "Epoch 91/100\n",
      "412/412 [==============================] - 1s 1ms/step - loss: 0.0773 - accuracy: 0.9721\n",
      "Epoch 92/100\n",
      "412/412 [==============================] - 1s 1ms/step - loss: 0.0762 - accuracy: 0.9736\n",
      "Epoch 93/100\n",
      "412/412 [==============================] - 1s 1ms/step - loss: 0.0805 - accuracy: 0.9703\n",
      "Epoch 94/100\n",
      "412/412 [==============================] - 1s 1ms/step - loss: 0.0767 - accuracy: 0.9735\n",
      "Epoch 95/100\n",
      "412/412 [==============================] - 1s 1ms/step - loss: 0.0778 - accuracy: 0.9713\n",
      "Epoch 96/100\n",
      "412/412 [==============================] - 1s 1ms/step - loss: 0.0772 - accuracy: 0.9722\n",
      "Epoch 97/100\n",
      "412/412 [==============================] - 1s 1ms/step - loss: 0.0734 - accuracy: 0.9755\n",
      "Epoch 98/100\n",
      "412/412 [==============================] - 1s 1ms/step - loss: 0.0757 - accuracy: 0.9721\n",
      "Epoch 99/100\n",
      "412/412 [==============================] - 1s 1ms/step - loss: 0.0756 - accuracy: 0.9730\n",
      "Epoch 100/100\n",
      "412/412 [==============================] - 1s 1ms/step - loss: 0.0809 - accuracy: 0.9705\n"
     ]
    },
    {
     "data": {
      "text/plain": [
       "<keras.callbacks.History at 0x26a32733978>"
      ]
     },
     "execution_count": 54,
     "metadata": {},
     "output_type": "execute_result"
    }
   ],
   "source": [
    "# Neural Networks\n",
    "from tensorflow import keras\n",
    "\n",
    "model1 = keras.Sequential([\n",
    "keras.layers.Dense(11, input_shape=(11,),activation='relu'),\n",
    "#keras.layers.Dropout(0.2),\n",
    "keras.layers.Dense(8,activation='relu'),\n",
    "#keras.layers.Dropout(0.1),\n",
    "keras.layers.Dense(5,activation='relu'),\n",
    "#keras.layers.Dropout(0.1),\n",
    "#keras.layers.Dense(3,activation='relu'),\n",
    "#keras.layers.Dropout(0.1),\n",
    "keras.layers.Dense(1,activation='sigmoid')])\n",
    "\n",
    "model1.compile(\n",
    "    optimizer='adam',\n",
    "    loss='binary_crossentropy',\n",
    "    metrics=['accuracy']\n",
    ")\n",
    "model1.fit(x_train, y_train, epochs=100)"
   ]
  },
  {
   "cell_type": "code",
   "execution_count": 57,
   "metadata": {},
   "outputs": [
    {
     "name": "stdout",
     "output_type": "stream",
     "text": [
      "177/177 [==============================] - 0s 858us/step\n"
     ]
    }
   ],
   "source": [
    "y_pn = model1.predict(x_test)\n",
    "y_prn = []\n",
    "for i in y_pn:\n",
    "    if i>0.5:\n",
    "        y_prn.append(1)  \n",
    "    else:\n",
    "        y_prn.append(0)"
   ]
  },
  {
   "cell_type": "code",
   "execution_count": 100,
   "metadata": {},
   "outputs": [
    {
     "name": "stdout",
     "output_type": "stream",
     "text": [
      "177/177 [==============================] - 0s 1ms/step - loss: 0.0697 - accuracy: 0.9809\n"
     ]
    },
    {
     "data": {
      "text/plain": [
       "[0.06973718851804733, 0.9808781743049622]"
      ]
     },
     "execution_count": 100,
     "metadata": {},
     "output_type": "execute_result"
    }
   ],
   "source": [
    "model1.evaluate(x_test, y_test)"
   ]
  },
  {
   "cell_type": "code",
   "execution_count": 101,
   "metadata": {},
   "outputs": [
    {
     "name": "stdout",
     "output_type": "stream",
     "text": [
      "Model: Neural Networks\n",
      "Accuracy: 0.9809\n",
      "Precision: 0.965\n",
      "AUC: 0.9820610050097817\n"
     ]
    },
    {
     "data": {
      "image/png": "[encoded data removed]",
      "text/plain": [
       "<Figure size 720x504 with 2 Axes>"
      ]
     },
     "metadata": {
      "needs_background": "light"
     },
     "output_type": "display_data"
    }
   ],
   "source": [
    "print('Model: Neural Networks')\n",
    "print('Accuracy: 0.9809')\n",
    "print('Precision:',precision_score(y_test,y_prn))\n",
    "print('AUC:',roc_auc_score(y_test,y_prn ))\n",
    "cmm = confusion_matrix(y_test,y_prn)\n",
    "sns.heatmap(cmm, annot=True, fmt='d')\n",
    "plt.show()"
   ]
  },
  {
   "cell_type": "markdown",
   "metadata": {},
   "source": [
    "AS, we compared many ML classifiers to see which one will be best for the detection of the fraud. Although, the model accuracy score was very high for all the models, which is a clear sign of an imbalaned class. So, the names of the ML models according to their best AUC scores are:\n",
    "\n",
    "(i) Xg Boost (0.995)\n",
    "\n",
    "(ii) Random Forest (0.992)\n",
    "\n",
    "(iii) Gadiant Boost (0.987)\n",
    "\n",
    "(iv) Neural Networks (0.982)\n",
    "\n",
    "(v) Ada Boost (0.972)"
   ]
  },
  {
   "cell_type": "markdown",
   "metadata": {},
   "source": [
    "Neural Networks would have been performed better if the dataset would have been huge. Even building a highly complex model by increasing the number of layers, we are not much benifited. "
   ]
  }
 ],
 "metadata": {
  "kernelspec": {
   "display_name": "Python 3 (ipykernel)",
   "language": "python",
   "name": "python3"
  },
  "language_info": {
   "codemirror_mode": {
    "name": "ipython",
    "version": 3
   },
   "file_extension": ".py",
   "mimetype": "text/x-python",
   "name": "python",
   "nbconvert_exporter": "python",
   "pygments_lexer": "ipython3",
   "version": "3.7.3"
  }
 },
 "nbformat": 4,
 "nbformat_minor": 2
}

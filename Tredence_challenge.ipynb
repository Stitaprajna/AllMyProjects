{
 "cells": [
  {
   "cell_type": "code",
   "execution_count": 1,
   "metadata": {},
   "outputs": [],
   "source": [
    "import numpy as np\n",
    "import pandas as pd\n",
    "import matplotlib.pyplot as plt"
   ]
  },
  {
   "cell_type": "code",
   "execution_count": 2,
   "metadata": {
    "scrolled": false
   },
   "outputs": [
    {
     "data": {
      "text/html": [
       "<div>\n",
       "<style scoped>\n",
       "    .dataframe tbody tr th:only-of-type {\n",
       "        vertical-align: middle;\n",
       "    }\n",
       "\n",
       "    .dataframe tbody tr th {\n",
       "        vertical-align: top;\n",
       "    }\n",
       "\n",
       "    .dataframe thead th {\n",
       "        text-align: right;\n",
       "    }\n",
       "</style>\n",
       "<table border=\"1\" class=\"dataframe\">\n",
       "  <thead>\n",
       "    <tr style=\"text-align: right;\">\n",
       "      <th></th>\n",
       "      <th>ID</th>\n",
       "      <th>date</th>\n",
       "      <th>warehouse_ID</th>\n",
       "      <th>Latitude</th>\n",
       "      <th>Longitude</th>\n",
       "      <th>Product_Type</th>\n",
       "      <th>year</th>\n",
       "      <th>month</th>\n",
       "      <th>is_weekend</th>\n",
       "      <th>is_warehouse_closed</th>\n",
       "      <th>daily_dispatch_count</th>\n",
       "      <th>weekly_dispatch_count</th>\n",
       "    </tr>\n",
       "  </thead>\n",
       "  <tbody>\n",
       "    <tr>\n",
       "      <th>0</th>\n",
       "      <td>0x2710</td>\n",
       "      <td>2017-01-01</td>\n",
       "      <td>WH_0x3e9</td>\n",
       "      <td>41.681471</td>\n",
       "      <td>-72.794746</td>\n",
       "      <td>Type_A</td>\n",
       "      <td>2017</td>\n",
       "      <td>January</td>\n",
       "      <td>Yes</td>\n",
       "      <td>No</td>\n",
       "      <td>5.5</td>\n",
       "      <td>5.5</td>\n",
       "    </tr>\n",
       "    <tr>\n",
       "      <th>1</th>\n",
       "      <td>0x33e6</td>\n",
       "      <td>2017-01-01</td>\n",
       "      <td>WH_0x3ea</td>\n",
       "      <td>38.749077</td>\n",
       "      <td>-105.183060</td>\n",
       "      <td>Type_A</td>\n",
       "      <td>2017</td>\n",
       "      <td>January</td>\n",
       "      <td>Yes</td>\n",
       "      <td>No</td>\n",
       "      <td>6.1</td>\n",
       "      <td>6.1</td>\n",
       "    </tr>\n",
       "    <tr>\n",
       "      <th>2</th>\n",
       "      <td>0x2711</td>\n",
       "      <td>2017-01-02</td>\n",
       "      <td>WH_0x3e9</td>\n",
       "      <td>41.681471</td>\n",
       "      <td>-72.794746</td>\n",
       "      <td>Type_A</td>\n",
       "      <td>2017</td>\n",
       "      <td>January</td>\n",
       "      <td>No</td>\n",
       "      <td>No</td>\n",
       "      <td>4.8</td>\n",
       "      <td>NaN</td>\n",
       "    </tr>\n",
       "    <tr>\n",
       "      <th>3</th>\n",
       "      <td>0x33e7</td>\n",
       "      <td>2017-01-02</td>\n",
       "      <td>WH_0x3ea</td>\n",
       "      <td>38.749077</td>\n",
       "      <td>-105.183060</td>\n",
       "      <td>Type_A</td>\n",
       "      <td>2017</td>\n",
       "      <td>January</td>\n",
       "      <td>No</td>\n",
       "      <td>No</td>\n",
       "      <td>6.7</td>\n",
       "      <td>NaN</td>\n",
       "    </tr>\n",
       "    <tr>\n",
       "      <th>4</th>\n",
       "      <td>0x2712</td>\n",
       "      <td>2017-01-03</td>\n",
       "      <td>WH_0x3e9</td>\n",
       "      <td>41.681471</td>\n",
       "      <td>-72.794746</td>\n",
       "      <td>Type_A</td>\n",
       "      <td>2017</td>\n",
       "      <td>January</td>\n",
       "      <td>No</td>\n",
       "      <td>No</td>\n",
       "      <td>5.8</td>\n",
       "      <td>NaN</td>\n",
       "    </tr>\n",
       "  </tbody>\n",
       "</table>\n",
       "</div>"
      ],
      "text/plain": [
       "       ID        date warehouse_ID   Latitude   Longitude Product_Type  year  \\\n",
       "0  0x2710  2017-01-01     WH_0x3e9  41.681471  -72.794746       Type_A  2017   \n",
       "1  0x33e6  2017-01-01     WH_0x3ea  38.749077 -105.183060       Type_A  2017   \n",
       "2  0x2711  2017-01-02     WH_0x3e9  41.681471  -72.794746       Type_A  2017   \n",
       "3  0x33e7  2017-01-02     WH_0x3ea  38.749077 -105.183060       Type_A  2017   \n",
       "4  0x2712  2017-01-03     WH_0x3e9  41.681471  -72.794746       Type_A  2017   \n",
       "\n",
       "     month is_weekend is_warehouse_closed  daily_dispatch_count  \\\n",
       "0  January        Yes                  No                   5.5   \n",
       "1  January        Yes                  No                   6.1   \n",
       "2  January         No                  No                   4.8   \n",
       "3  January         No                  No                   6.7   \n",
       "4  January         No                  No                   5.8   \n",
       "\n",
       "   weekly_dispatch_count  \n",
       "0                    5.5  \n",
       "1                    6.1  \n",
       "2                    NaN  \n",
       "3                    NaN  \n",
       "4                    NaN  "
      ]
     },
     "execution_count": 2,
     "metadata": {},
     "output_type": "execute_result"
    }
   ],
   "source": [
    "df = pd.read_csv(r'C:\\Users\\laptop\\Downloads\\cc2dca92b57d11ec\\dataset\\train.csv')\n",
    "df.head()"
   ]
  },
  {
   "cell_type": "code",
   "execution_count": 3,
   "metadata": {
    "scrolled": true
   },
   "outputs": [
    {
     "name": "stdout",
     "output_type": "stream",
     "text": [
      "<class 'pandas.core.frame.DataFrame'>\n",
      "RangeIndex: 16644 entries, 0 to 16643\n",
      "Data columns (total 12 columns):\n",
      "ID                       16644 non-null object\n",
      "date                     16644 non-null object\n",
      "warehouse_ID             16644 non-null object\n",
      "Latitude                 16312 non-null float64\n",
      "Longitude                16228 non-null float64\n",
      "Product_Type             16644 non-null object\n",
      "year                     16644 non-null int64\n",
      "month                    16644 non-null object\n",
      "is_weekend               16145 non-null object\n",
      "is_warehouse_closed      16478 non-null object\n",
      "daily_dispatch_count     16644 non-null float64\n",
      "weekly_dispatch_count    2372 non-null float64\n",
      "dtypes: float64(4), int64(1), object(7)\n",
      "memory usage: 1.5+ MB\n"
     ]
    }
   ],
   "source": [
    "df.info()    #Checking the datetime format of the date column "
   ]
  },
  {
   "cell_type": "code",
   "execution_count": 4,
   "metadata": {},
   "outputs": [],
   "source": [
    "df['date'] = pd.to_datetime(df['date'])"
   ]
  },
  {
   "cell_type": "code",
   "execution_count": 5,
   "metadata": {},
   "outputs": [
    {
     "data": {
      "text/plain": [
       "ID                           0\n",
       "date                         0\n",
       "warehouse_ID                 0\n",
       "Latitude                   332\n",
       "Longitude                  416\n",
       "Product_Type                 0\n",
       "year                         0\n",
       "month                        0\n",
       "is_weekend                 499\n",
       "is_warehouse_closed        166\n",
       "daily_dispatch_count         0\n",
       "weekly_dispatch_count    14272\n",
       "dtype: int64"
      ]
     },
     "execution_count": 5,
     "metadata": {},
     "output_type": "execute_result"
    }
   ],
   "source": [
    "df.isnull().sum()"
   ]
  },
  {
   "cell_type": "code",
   "execution_count": 6,
   "metadata": {
    "scrolled": true
   },
   "outputs": [
    {
     "data": {
      "text/plain": [
       "16644"
      ]
     },
     "execution_count": 6,
     "metadata": {},
     "output_type": "execute_result"
    }
   ],
   "source": [
    "len(df)"
   ]
  },
  {
   "cell_type": "code",
   "execution_count": 7,
   "metadata": {},
   "outputs": [],
   "source": [
    "df['day'] = df['date'].dt.day     # Adding a day column, an extra information"
   ]
  },
  {
   "cell_type": "code",
   "execution_count": 8,
   "metadata": {},
   "outputs": [],
   "source": [
    "df['month'] = df['date'].dt.month   # Changing the month as strings to numbers"
   ]
  },
  {
   "cell_type": "code",
   "execution_count": 9,
   "metadata": {
    "scrolled": true
   },
   "outputs": [
    {
     "data": {
      "text/html": [
       "<div>\n",
       "<style scoped>\n",
       "    .dataframe tbody tr th:only-of-type {\n",
       "        vertical-align: middle;\n",
       "    }\n",
       "\n",
       "    .dataframe tbody tr th {\n",
       "        vertical-align: top;\n",
       "    }\n",
       "\n",
       "    .dataframe thead th {\n",
       "        text-align: right;\n",
       "    }\n",
       "</style>\n",
       "<table border=\"1\" class=\"dataframe\">\n",
       "  <thead>\n",
       "    <tr style=\"text-align: right;\">\n",
       "      <th></th>\n",
       "      <th>ID</th>\n",
       "      <th>date</th>\n",
       "      <th>warehouse_ID</th>\n",
       "      <th>Latitude</th>\n",
       "      <th>Longitude</th>\n",
       "      <th>Product_Type</th>\n",
       "      <th>year</th>\n",
       "      <th>month</th>\n",
       "      <th>is_weekend</th>\n",
       "      <th>is_warehouse_closed</th>\n",
       "      <th>daily_dispatch_count</th>\n",
       "      <th>weekly_dispatch_count</th>\n",
       "      <th>day</th>\n",
       "    </tr>\n",
       "  </thead>\n",
       "  <tbody>\n",
       "    <tr>\n",
       "      <th>0</th>\n",
       "      <td>0x2710</td>\n",
       "      <td>2017-01-01</td>\n",
       "      <td>WH_0x3e9</td>\n",
       "      <td>41.681471</td>\n",
       "      <td>-72.794746</td>\n",
       "      <td>Type_A</td>\n",
       "      <td>2017</td>\n",
       "      <td>1</td>\n",
       "      <td>Yes</td>\n",
       "      <td>No</td>\n",
       "      <td>5.5</td>\n",
       "      <td>5.5</td>\n",
       "      <td>1</td>\n",
       "    </tr>\n",
       "    <tr>\n",
       "      <th>1</th>\n",
       "      <td>0x33e6</td>\n",
       "      <td>2017-01-01</td>\n",
       "      <td>WH_0x3ea</td>\n",
       "      <td>38.749077</td>\n",
       "      <td>-105.183060</td>\n",
       "      <td>Type_A</td>\n",
       "      <td>2017</td>\n",
       "      <td>1</td>\n",
       "      <td>Yes</td>\n",
       "      <td>No</td>\n",
       "      <td>6.1</td>\n",
       "      <td>6.1</td>\n",
       "      <td>1</td>\n",
       "    </tr>\n",
       "    <tr>\n",
       "      <th>2</th>\n",
       "      <td>0x2711</td>\n",
       "      <td>2017-01-02</td>\n",
       "      <td>WH_0x3e9</td>\n",
       "      <td>41.681471</td>\n",
       "      <td>-72.794746</td>\n",
       "      <td>Type_A</td>\n",
       "      <td>2017</td>\n",
       "      <td>1</td>\n",
       "      <td>No</td>\n",
       "      <td>No</td>\n",
       "      <td>4.8</td>\n",
       "      <td>NaN</td>\n",
       "      <td>2</td>\n",
       "    </tr>\n",
       "    <tr>\n",
       "      <th>3</th>\n",
       "      <td>0x33e7</td>\n",
       "      <td>2017-01-02</td>\n",
       "      <td>WH_0x3ea</td>\n",
       "      <td>38.749077</td>\n",
       "      <td>-105.183060</td>\n",
       "      <td>Type_A</td>\n",
       "      <td>2017</td>\n",
       "      <td>1</td>\n",
       "      <td>No</td>\n",
       "      <td>No</td>\n",
       "      <td>6.7</td>\n",
       "      <td>NaN</td>\n",
       "      <td>2</td>\n",
       "    </tr>\n",
       "    <tr>\n",
       "      <th>4</th>\n",
       "      <td>0x2712</td>\n",
       "      <td>2017-01-03</td>\n",
       "      <td>WH_0x3e9</td>\n",
       "      <td>41.681471</td>\n",
       "      <td>-72.794746</td>\n",
       "      <td>Type_A</td>\n",
       "      <td>2017</td>\n",
       "      <td>1</td>\n",
       "      <td>No</td>\n",
       "      <td>No</td>\n",
       "      <td>5.8</td>\n",
       "      <td>NaN</td>\n",
       "      <td>3</td>\n",
       "    </tr>\n",
       "  </tbody>\n",
       "</table>\n",
       "</div>"
      ],
      "text/plain": [
       "       ID       date warehouse_ID   Latitude   Longitude Product_Type  year  \\\n",
       "0  0x2710 2017-01-01     WH_0x3e9  41.681471  -72.794746       Type_A  2017   \n",
       "1  0x33e6 2017-01-01     WH_0x3ea  38.749077 -105.183060       Type_A  2017   \n",
       "2  0x2711 2017-01-02     WH_0x3e9  41.681471  -72.794746       Type_A  2017   \n",
       "3  0x33e7 2017-01-02     WH_0x3ea  38.749077 -105.183060       Type_A  2017   \n",
       "4  0x2712 2017-01-03     WH_0x3e9  41.681471  -72.794746       Type_A  2017   \n",
       "\n",
       "   month is_weekend is_warehouse_closed  daily_dispatch_count  \\\n",
       "0      1        Yes                  No                   5.5   \n",
       "1      1        Yes                  No                   6.1   \n",
       "2      1         No                  No                   4.8   \n",
       "3      1         No                  No                   6.7   \n",
       "4      1         No                  No                   5.8   \n",
       "\n",
       "   weekly_dispatch_count  day  \n",
       "0                    5.5    1  \n",
       "1                    6.1    1  \n",
       "2                    NaN    2  \n",
       "3                    NaN    2  \n",
       "4                    NaN    3  "
      ]
     },
     "execution_count": 9,
     "metadata": {},
     "output_type": "execute_result"
    }
   ],
   "source": [
    "df.head()"
   ]
  },
  {
   "cell_type": "code",
   "execution_count": 10,
   "metadata": {},
   "outputs": [
    {
     "data": {
      "text/plain": [
       "array([41.681471, 38.749077,       nan, 35.67897 , 34.361664, 25.750156,\n",
       "       30.189375, 41.611603, 48.692551, 37.915825, 61.600803])"
      ]
     },
     "execution_count": 10,
     "metadata": {},
     "output_type": "execute_result"
    }
   ],
   "source": [
    "df.Latitude.unique()   "
   ]
  },
  {
   "cell_type": "code",
   "execution_count": 11,
   "metadata": {
    "scrolled": true
   },
   "outputs": [
    {
     "data": {
      "text/plain": [
       "array([ -72.794746, -105.18306 ,         nan, -109.067413,  -86.305595,\n",
       "        -80.27964 ,  -82.648254,  -87.551186, -116.319862,  -89.829262,\n",
       "       -149.125259])"
      ]
     },
     "execution_count": 11,
     "metadata": {},
     "output_type": "execute_result"
    }
   ],
   "source": [
    "df.Longitude.unique()"
   ]
  },
  {
   "cell_type": "markdown",
   "metadata": {},
   "source": [
    "Thus, we can see that the dataset have only 10 pairs of (Latitude, Longitude). So, we don't need any Regression model to fit them. We, will group them assign the NaNs to the value according to the pairs. If we find both pairs to be null, we will perform a diiferent statergy to fill them."
   ]
  },
  {
   "cell_type": "code",
   "execution_count": 12,
   "metadata": {},
   "outputs": [],
   "source": [
    "df['Latitude'] = df['Latitude'].fillna(0)\n",
    "df['Longitude'] = df['Longitude'].fillna(0)"
   ]
  },
  {
   "cell_type": "code",
   "execution_count": 13,
   "metadata": {},
   "outputs": [],
   "source": [
    " # All the unique Latitude and Longitude values are listed here\n",
    "    \n",
    "la = [41.681471, 38.749077, 35.67897 , 34.361664, 25.750156, 30.189375,\n",
    "       41.611603, 37.915825, 48.692551, 61.600803]                 \n",
    "lo = [-72.794746, -105.18306 , -109.067413,  -86.305595,  -80.27964 ,\n",
    "        -82.648254,  -87.551186,  -89.829262, -116.319862, -149.125259]"
   ]
  },
  {
   "cell_type": "code",
   "execution_count": 14,
   "metadata": {},
   "outputs": [],
   "source": [
    "L1 = list(df['Latitude'])\n",
    "L1 = [round(x,6) for x in L1]\n",
    "L2 = list(df['Longitude'])\n",
    "L2 = [round(x,6) for x in L2]"
   ]
  },
  {
   "cell_type": "code",
   "execution_count": 15,
   "metadata": {},
   "outputs": [],
   "source": [
    "for i,j in zip(range(len(L1)), range(len(L2))):\n",
    "    for k,l in zip(range(len(la)),range(len(lo))):\n",
    "        if L1[i] == 0 and L2[j] == lo[l]:\n",
    "            L1[i] = la[k]\n",
    "        elif L1[i] == la[k] and L2[j] == 0:\n",
    "            L2[j] = lo[l]"
   ]
  },
  {
   "cell_type": "code",
   "execution_count": 16,
   "metadata": {},
   "outputs": [],
   "source": [
    "df = df.reset_index(drop=True)\n",
    "df['Latitude'] = pd.DataFrame(L1)\n",
    "df['Longitude'] = pd.DataFrame(L2)"
   ]
  },
  {
   "cell_type": "code",
   "execution_count": 17,
   "metadata": {
    "scrolled": true
   },
   "outputs": [
    {
     "data": {
      "text/html": [
       "<div>\n",
       "<style scoped>\n",
       "    .dataframe tbody tr th:only-of-type {\n",
       "        vertical-align: middle;\n",
       "    }\n",
       "\n",
       "    .dataframe tbody tr th {\n",
       "        vertical-align: top;\n",
       "    }\n",
       "\n",
       "    .dataframe thead th {\n",
       "        text-align: right;\n",
       "    }\n",
       "</style>\n",
       "<table border=\"1\" class=\"dataframe\">\n",
       "  <thead>\n",
       "    <tr style=\"text-align: right;\">\n",
       "      <th></th>\n",
       "      <th>ID</th>\n",
       "      <th>date</th>\n",
       "      <th>warehouse_ID</th>\n",
       "      <th>Latitude</th>\n",
       "      <th>Longitude</th>\n",
       "      <th>Product_Type</th>\n",
       "      <th>year</th>\n",
       "      <th>month</th>\n",
       "      <th>is_weekend</th>\n",
       "      <th>is_warehouse_closed</th>\n",
       "      <th>daily_dispatch_count</th>\n",
       "      <th>weekly_dispatch_count</th>\n",
       "      <th>day</th>\n",
       "    </tr>\n",
       "  </thead>\n",
       "  <tbody>\n",
       "    <tr>\n",
       "      <th>0</th>\n",
       "      <td>0x2710</td>\n",
       "      <td>2017-01-01</td>\n",
       "      <td>WH_0x3e9</td>\n",
       "      <td>41.681471</td>\n",
       "      <td>-72.794746</td>\n",
       "      <td>Type_A</td>\n",
       "      <td>2017</td>\n",
       "      <td>1</td>\n",
       "      <td>Yes</td>\n",
       "      <td>No</td>\n",
       "      <td>5.5</td>\n",
       "      <td>5.5</td>\n",
       "      <td>1</td>\n",
       "    </tr>\n",
       "    <tr>\n",
       "      <th>1</th>\n",
       "      <td>0x33e6</td>\n",
       "      <td>2017-01-01</td>\n",
       "      <td>WH_0x3ea</td>\n",
       "      <td>38.749077</td>\n",
       "      <td>-105.183060</td>\n",
       "      <td>Type_A</td>\n",
       "      <td>2017</td>\n",
       "      <td>1</td>\n",
       "      <td>Yes</td>\n",
       "      <td>No</td>\n",
       "      <td>6.1</td>\n",
       "      <td>6.1</td>\n",
       "      <td>1</td>\n",
       "    </tr>\n",
       "    <tr>\n",
       "      <th>2</th>\n",
       "      <td>0x2711</td>\n",
       "      <td>2017-01-02</td>\n",
       "      <td>WH_0x3e9</td>\n",
       "      <td>41.681471</td>\n",
       "      <td>-72.794746</td>\n",
       "      <td>Type_A</td>\n",
       "      <td>2017</td>\n",
       "      <td>1</td>\n",
       "      <td>No</td>\n",
       "      <td>No</td>\n",
       "      <td>4.8</td>\n",
       "      <td>NaN</td>\n",
       "      <td>2</td>\n",
       "    </tr>\n",
       "    <tr>\n",
       "      <th>3</th>\n",
       "      <td>0x33e7</td>\n",
       "      <td>2017-01-02</td>\n",
       "      <td>WH_0x3ea</td>\n",
       "      <td>38.749077</td>\n",
       "      <td>-105.183060</td>\n",
       "      <td>Type_A</td>\n",
       "      <td>2017</td>\n",
       "      <td>1</td>\n",
       "      <td>No</td>\n",
       "      <td>No</td>\n",
       "      <td>6.7</td>\n",
       "      <td>NaN</td>\n",
       "      <td>2</td>\n",
       "    </tr>\n",
       "    <tr>\n",
       "      <th>4</th>\n",
       "      <td>0x2712</td>\n",
       "      <td>2017-01-03</td>\n",
       "      <td>WH_0x3e9</td>\n",
       "      <td>41.681471</td>\n",
       "      <td>-72.794746</td>\n",
       "      <td>Type_A</td>\n",
       "      <td>2017</td>\n",
       "      <td>1</td>\n",
       "      <td>No</td>\n",
       "      <td>No</td>\n",
       "      <td>5.8</td>\n",
       "      <td>NaN</td>\n",
       "      <td>3</td>\n",
       "    </tr>\n",
       "  </tbody>\n",
       "</table>\n",
       "</div>"
      ],
      "text/plain": [
       "       ID       date warehouse_ID   Latitude   Longitude Product_Type  year  \\\n",
       "0  0x2710 2017-01-01     WH_0x3e9  41.681471  -72.794746       Type_A  2017   \n",
       "1  0x33e6 2017-01-01     WH_0x3ea  38.749077 -105.183060       Type_A  2017   \n",
       "2  0x2711 2017-01-02     WH_0x3e9  41.681471  -72.794746       Type_A  2017   \n",
       "3  0x33e7 2017-01-02     WH_0x3ea  38.749077 -105.183060       Type_A  2017   \n",
       "4  0x2712 2017-01-03     WH_0x3e9  41.681471  -72.794746       Type_A  2017   \n",
       "\n",
       "   month is_weekend is_warehouse_closed  daily_dispatch_count  \\\n",
       "0      1        Yes                  No                   5.5   \n",
       "1      1        Yes                  No                   6.1   \n",
       "2      1         No                  No                   4.8   \n",
       "3      1         No                  No                   6.7   \n",
       "4      1         No                  No                   5.8   \n",
       "\n",
       "   weekly_dispatch_count  day  \n",
       "0                    5.5    1  \n",
       "1                    6.1    1  \n",
       "2                    NaN    2  \n",
       "3                    NaN    2  \n",
       "4                    NaN    3  "
      ]
     },
     "execution_count": 17,
     "metadata": {},
     "output_type": "execute_result"
    }
   ],
   "source": [
    "df.head()"
   ]
  },
  {
   "cell_type": "code",
   "execution_count": 18,
   "metadata": {
    "scrolled": true
   },
   "outputs": [
    {
     "data": {
      "text/plain": [
       "ID                           0\n",
       "date                         0\n",
       "warehouse_ID                 0\n",
       "Latitude                     0\n",
       "Longitude                    0\n",
       "Product_Type                 0\n",
       "year                         0\n",
       "month                        0\n",
       "is_weekend                 499\n",
       "is_warehouse_closed        166\n",
       "daily_dispatch_count         0\n",
       "weekly_dispatch_count    14272\n",
       "day                          0\n",
       "dtype: int64"
      ]
     },
     "execution_count": 18,
     "metadata": {},
     "output_type": "execute_result"
    }
   ],
   "source": [
    "df.isnull().sum()"
   ]
  },
  {
   "cell_type": "code",
   "execution_count": 19,
   "metadata": {},
   "outputs": [],
   "source": [
    "df['is_weekend'] = df['is_weekend'].fillna(0)"
   ]
  },
  {
   "cell_type": "code",
   "execution_count": 20,
   "metadata": {},
   "outputs": [],
   "source": [
    "g1 = list(df['is_weekend'])"
   ]
  },
  {
   "cell_type": "code",
   "execution_count": 21,
   "metadata": {},
   "outputs": [],
   "source": [
    "for i in range(len(g1)):\n",
    "    if i%2 == 0 and g1[i] == 0:\n",
    "        g1[i] = g1[i+1]\n",
    "    elif i%2 != 0 and g1[i] == 0:\n",
    "        g1[i] = g1[i-1]"
   ]
  },
  {
   "cell_type": "code",
   "execution_count": 22,
   "metadata": {
    "scrolled": true
   },
   "outputs": [
    {
     "name": "stdout",
     "output_type": "stream",
     "text": [
      "370\n",
      "371\n",
      "7320\n",
      "7321\n",
      "7690\n",
      "7691\n",
      "8794\n",
      "8795\n",
      "10542\n",
      "10543\n",
      "12712\n",
      "12713\n",
      "14874\n",
      "14875\n",
      "15222\n",
      "15223\n"
     ]
    }
   ],
   "source": [
    "for i in range(len(g1)):\n",
    "    if g1[i] == 0.0:\n",
    "        print(i)\n",
    "        \n",
    "# 0's actaully mean that, its unknown if it's a weekend or not, for all the observations for that day. so will filter them out.                         "
   ]
  },
  {
   "cell_type": "code",
   "execution_count": 23,
   "metadata": {},
   "outputs": [],
   "source": [
    "df['is_weekend'] = pd.DataFrame(g1)"
   ]
  },
  {
   "cell_type": "code",
   "execution_count": 24,
   "metadata": {},
   "outputs": [
    {
     "data": {
      "text/plain": [
       "ID                           0\n",
       "date                         0\n",
       "warehouse_ID                 0\n",
       "Latitude                     0\n",
       "Longitude                    0\n",
       "Product_Type                 0\n",
       "year                         0\n",
       "month                        0\n",
       "is_weekend                   0\n",
       "is_warehouse_closed        166\n",
       "daily_dispatch_count         0\n",
       "weekly_dispatch_count    14272\n",
       "day                          0\n",
       "dtype: int64"
      ]
     },
     "execution_count": 24,
     "metadata": {},
     "output_type": "execute_result"
    }
   ],
   "source": [
    "df.isnull().sum()"
   ]
  },
  {
   "cell_type": "code",
   "execution_count": 25,
   "metadata": {},
   "outputs": [
    {
     "data": {
      "text/plain": [
       "15365"
      ]
     },
     "execution_count": 25,
     "metadata": {},
     "output_type": "execute_result"
    }
   ],
   "source": [
    "len(df[df['is_warehouse_closed']=='No'])"
   ]
  },
  {
   "cell_type": "code",
   "execution_count": 26,
   "metadata": {},
   "outputs": [
    {
     "data": {
      "text/plain": [
       "1113"
      ]
     },
     "execution_count": 26,
     "metadata": {},
     "output_type": "execute_result"
    }
   ],
   "source": [
    "len(df[df['is_warehouse_closed']=='Yes'])"
   ]
  },
  {
   "cell_type": "markdown",
   "metadata": {},
   "source": [
    "So, more than 93% of the known days the 'Warehouse' is not closed. Thus, we can safely assume that most the days (166 days = 1%) in which data is unavaliable, the 'Warehouse' is not closed."
   ]
  },
  {
   "cell_type": "code",
   "execution_count": 32,
   "metadata": {},
   "outputs": [],
   "source": [
    "df['is_warehouse_closed'] = df['is_warehouse_closed'].apply(lambda x: 'No' if pd.isnull(x) else x)"
   ]
  },
  {
   "cell_type": "code",
   "execution_count": 34,
   "metadata": {},
   "outputs": [
    {
     "data": {
      "text/plain": [
       "ID                           0\n",
       "date                         0\n",
       "warehouse_ID                 0\n",
       "Latitude                     0\n",
       "Longitude                    0\n",
       "Product_Type                 0\n",
       "year                         0\n",
       "month                        0\n",
       "is_weekend                   0\n",
       "is_warehouse_closed          0\n",
       "daily_dispatch_count         0\n",
       "weekly_dispatch_count    14272\n",
       "day                          0\n",
       "dtype: int64"
      ]
     },
     "execution_count": 34,
     "metadata": {},
     "output_type": "execute_result"
    }
   ],
   "source": [
    "df.isnull().sum()"
   ]
  },
  {
   "cell_type": "code",
   "execution_count": 62,
   "metadata": {},
   "outputs": [],
   "source": [
    "df.to_csv('raw_data.csv')"
   ]
  },
  {
   "cell_type": "code",
   "execution_count": 58,
   "metadata": {},
   "outputs": [],
   "source": [
    "df = df[df['Latitude'] != 0.0]"
   ]
  },
  {
   "cell_type": "code",
   "execution_count": 60,
   "metadata": {
    "scrolled": true
   },
   "outputs": [],
   "source": [
    "df = df[df['is_weekend'] !=0.0]"
   ]
  },
  {
   "cell_type": "code",
   "execution_count": 61,
   "metadata": {},
   "outputs": [
    {
     "data": {
      "text/plain": [
       "16616"
      ]
     },
     "execution_count": 61,
     "metadata": {},
     "output_type": "execute_result"
    }
   ],
   "source": [
    "len(df)"
   ]
  },
  {
   "cell_type": "markdown",
   "metadata": {},
   "source": [
    "# Handelling the missing values from the target Dataset\n",
    "At first, we have to handle the 14272 missing datasets out of the 16644, from the target value. There are several common ways of handelling the missing datasets listed as:\n",
    "\n",
    "(i)   Removimg the rows with missing datasets, which is not possible here because we will lose about 86% of the data.\n",
    "\n",
    "(ii)  Using statistical measures like Mean, Median & Mode to fill the missing values. The mode way been used previously, but in Regression it might not help.\n",
    "\n",
    "(iii) Selecting a Machine Learning model to predict the missing values. This will be the best choice for a highly accurate model and let's see if we can use it. \n",
    "\n",
    "(iv) Using a Clustering technique, but this is not applicable here, because it can't used for a 'Regression problem'."
   ]
  },
  {
   "cell_type": "code",
   "execution_count": 63,
   "metadata": {},
   "outputs": [],
   "source": [
    "test = df[df['weekly_dispatch_count'].isnull()]"
   ]
  },
  {
   "cell_type": "code",
   "execution_count": 64,
   "metadata": {},
   "outputs": [],
   "source": [
    "train = df.dropna(subset=['weekly_dispatch_count'])"
   ]
  },
  {
   "cell_type": "code",
   "execution_count": 65,
   "metadata": {},
   "outputs": [
    {
     "data": {
      "text/plain": [
       "2370"
      ]
     },
     "execution_count": 65,
     "metadata": {},
     "output_type": "execute_result"
    }
   ],
   "source": [
    "len(train)"
   ]
  },
  {
   "cell_type": "code",
   "execution_count": 66,
   "metadata": {
    "scrolled": true
   },
   "outputs": [
    {
     "data": {
      "text/html": [
       "<div>\n",
       "<style scoped>\n",
       "    .dataframe tbody tr th:only-of-type {\n",
       "        vertical-align: middle;\n",
       "    }\n",
       "\n",
       "    .dataframe tbody tr th {\n",
       "        vertical-align: top;\n",
       "    }\n",
       "\n",
       "    .dataframe thead th {\n",
       "        text-align: right;\n",
       "    }\n",
       "</style>\n",
       "<table border=\"1\" class=\"dataframe\">\n",
       "  <thead>\n",
       "    <tr style=\"text-align: right;\">\n",
       "      <th></th>\n",
       "      <th>ID</th>\n",
       "      <th>date</th>\n",
       "      <th>warehouse_ID</th>\n",
       "      <th>Latitude</th>\n",
       "      <th>Longitude</th>\n",
       "      <th>Product_Type</th>\n",
       "      <th>year</th>\n",
       "      <th>month</th>\n",
       "      <th>is_weekend</th>\n",
       "      <th>is_warehouse_closed</th>\n",
       "      <th>daily_dispatch_count</th>\n",
       "      <th>weekly_dispatch_count</th>\n",
       "      <th>day</th>\n",
       "    </tr>\n",
       "  </thead>\n",
       "  <tbody>\n",
       "    <tr>\n",
       "      <th>0</th>\n",
       "      <td>0x2710</td>\n",
       "      <td>2017-01-01</td>\n",
       "      <td>WH_0x3e9</td>\n",
       "      <td>41.681471</td>\n",
       "      <td>-72.794746</td>\n",
       "      <td>Type_A</td>\n",
       "      <td>2017</td>\n",
       "      <td>1</td>\n",
       "      <td>Yes</td>\n",
       "      <td>No</td>\n",
       "      <td>5.5</td>\n",
       "      <td>5.5</td>\n",
       "      <td>1</td>\n",
       "    </tr>\n",
       "    <tr>\n",
       "      <th>1</th>\n",
       "      <td>0x33e6</td>\n",
       "      <td>2017-01-01</td>\n",
       "      <td>WH_0x3ea</td>\n",
       "      <td>38.749077</td>\n",
       "      <td>-105.183060</td>\n",
       "      <td>Type_A</td>\n",
       "      <td>2017</td>\n",
       "      <td>1</td>\n",
       "      <td>Yes</td>\n",
       "      <td>No</td>\n",
       "      <td>6.1</td>\n",
       "      <td>6.1</td>\n",
       "      <td>1</td>\n",
       "    </tr>\n",
       "    <tr>\n",
       "      <th>14</th>\n",
       "      <td>0x2717</td>\n",
       "      <td>2017-01-08</td>\n",
       "      <td>WH_0x3e9</td>\n",
       "      <td>41.681471</td>\n",
       "      <td>-72.794746</td>\n",
       "      <td>Type_A</td>\n",
       "      <td>2017</td>\n",
       "      <td>1</td>\n",
       "      <td>Yes</td>\n",
       "      <td>No</td>\n",
       "      <td>4.5</td>\n",
       "      <td>37.1</td>\n",
       "      <td>8</td>\n",
       "    </tr>\n",
       "    <tr>\n",
       "      <th>15</th>\n",
       "      <td>0x33ed</td>\n",
       "      <td>2017-01-08</td>\n",
       "      <td>WH_0x3ea</td>\n",
       "      <td>38.749077</td>\n",
       "      <td>-105.183060</td>\n",
       "      <td>Type_A</td>\n",
       "      <td>2017</td>\n",
       "      <td>1</td>\n",
       "      <td>Yes</td>\n",
       "      <td>No</td>\n",
       "      <td>6.5</td>\n",
       "      <td>48.3</td>\n",
       "      <td>8</td>\n",
       "    </tr>\n",
       "    <tr>\n",
       "      <th>28</th>\n",
       "      <td>0x271e</td>\n",
       "      <td>2017-01-15</td>\n",
       "      <td>WH_0x3e9</td>\n",
       "      <td>41.681471</td>\n",
       "      <td>-72.794746</td>\n",
       "      <td>Type_A</td>\n",
       "      <td>2017</td>\n",
       "      <td>1</td>\n",
       "      <td>Yes</td>\n",
       "      <td>No</td>\n",
       "      <td>4.6</td>\n",
       "      <td>37.5</td>\n",
       "      <td>15</td>\n",
       "    </tr>\n",
       "  </tbody>\n",
       "</table>\n",
       "</div>"
      ],
      "text/plain": [
       "        ID       date warehouse_ID   Latitude   Longitude Product_Type  year  \\\n",
       "0   0x2710 2017-01-01     WH_0x3e9  41.681471  -72.794746       Type_A  2017   \n",
       "1   0x33e6 2017-01-01     WH_0x3ea  38.749077 -105.183060       Type_A  2017   \n",
       "14  0x2717 2017-01-08     WH_0x3e9  41.681471  -72.794746       Type_A  2017   \n",
       "15  0x33ed 2017-01-08     WH_0x3ea  38.749077 -105.183060       Type_A  2017   \n",
       "28  0x271e 2017-01-15     WH_0x3e9  41.681471  -72.794746       Type_A  2017   \n",
       "\n",
       "    month is_weekend is_warehouse_closed  daily_dispatch_count  \\\n",
       "0       1        Yes                  No                   5.5   \n",
       "1       1        Yes                  No                   6.1   \n",
       "14      1        Yes                  No                   4.5   \n",
       "15      1        Yes                  No                   6.5   \n",
       "28      1        Yes                  No                   4.6   \n",
       "\n",
       "    weekly_dispatch_count  day  \n",
       "0                     5.5    1  \n",
       "1                     6.1    1  \n",
       "14                   37.1    8  \n",
       "15                   48.3    8  \n",
       "28                   37.5   15  "
      ]
     },
     "execution_count": 66,
     "metadata": {},
     "output_type": "execute_result"
    }
   ],
   "source": [
    "train.head()"
   ]
  },
  {
   "cell_type": "code",
   "execution_count": 68,
   "metadata": {},
   "outputs": [],
   "source": [
    "Train1 = train.drop(['weekly_dispatch_count','ID','date'],axis=1)"
   ]
  },
  {
   "cell_type": "code",
   "execution_count": 69,
   "metadata": {},
   "outputs": [
    {
     "data": {
      "text/plain": [
       "warehouse_ID            0\n",
       "Latitude                0\n",
       "Longitude               0\n",
       "Product_Type            0\n",
       "year                    0\n",
       "month                   0\n",
       "is_weekend              0\n",
       "is_warehouse_closed     0\n",
       "daily_dispatch_count    0\n",
       "day                     0\n",
       "dtype: int64"
      ]
     },
     "execution_count": 69,
     "metadata": {},
     "output_type": "execute_result"
    }
   ],
   "source": [
    "Train1.isnull().sum()"
   ]
  },
  {
   "cell_type": "markdown",
   "metadata": {},
   "source": [
    "# Dummy variables classification\n",
    " \n",
    "  All the Dummy variables Warehouse_id, is_weekend, is_warehouse_closed and Product_Type are of 'Nominal' type, so we have to use 'get_dummies' feature of pandas.\n",
    "            \n",
    "            \n",
    "           "
   ]
  },
  {
   "cell_type": "code",
   "execution_count": 70,
   "metadata": {},
   "outputs": [],
   "source": [
    "Train1 = pd.get_dummies(Train1,columns=['warehouse_ID', 'is_weekend', 'is_warehouse_closed', 'Product_Type'])"
   ]
  },
  {
   "cell_type": "code",
   "execution_count": 72,
   "metadata": {},
   "outputs": [
    {
     "data": {
      "text/plain": [
       "(2370, 13)"
      ]
     },
     "execution_count": 72,
     "metadata": {},
     "output_type": "execute_result"
    }
   ],
   "source": [
    "np.shape(train)"
   ]
  },
  {
   "cell_type": "code",
   "execution_count": 73,
   "metadata": {},
   "outputs": [],
   "source": [
    "y = train['weekly_dispatch_count']"
   ]
  },
  {
   "cell_type": "code",
   "execution_count": 202,
   "metadata": {},
   "outputs": [],
   "source": [
    "# As, we have to forcast the 'daily_dispatch_count' also, that means this also a dependent variable. Thus, we need to drop it.\n",
    "x = Train1.drop('daily_dispatch_count',axis=1)"
   ]
  },
  {
   "cell_type": "code",
   "execution_count": 203,
   "metadata": {
    "scrolled": true
   },
   "outputs": [
    {
     "data": {
      "text/html": [
       "<div>\n",
       "<style scoped>\n",
       "    .dataframe tbody tr th:only-of-type {\n",
       "        vertical-align: middle;\n",
       "    }\n",
       "\n",
       "    .dataframe tbody tr th {\n",
       "        vertical-align: top;\n",
       "    }\n",
       "\n",
       "    .dataframe thead th {\n",
       "        text-align: right;\n",
       "    }\n",
       "</style>\n",
       "<table border=\"1\" class=\"dataframe\">\n",
       "  <thead>\n",
       "    <tr style=\"text-align: right;\">\n",
       "      <th></th>\n",
       "      <th>Latitude</th>\n",
       "      <th>Longitude</th>\n",
       "      <th>year</th>\n",
       "      <th>month</th>\n",
       "      <th>day</th>\n",
       "      <th>warehouse_ID_WH_0x3e9</th>\n",
       "      <th>warehouse_ID_WH_0x3ea</th>\n",
       "      <th>warehouse_ID_WH_0x3eb</th>\n",
       "      <th>warehouse_ID_WH_0x3ec</th>\n",
       "      <th>warehouse_ID_WH_0x3ed</th>\n",
       "      <th>warehouse_ID_WH_0x3ee</th>\n",
       "      <th>warehouse_ID_WH_0x3ef</th>\n",
       "      <th>warehouse_ID_WH_0x3f0</th>\n",
       "      <th>warehouse_ID_WH_0x3f1</th>\n",
       "      <th>warehouse_ID_WH_0x3f2</th>\n",
       "      <th>is_weekend_Yes</th>\n",
       "      <th>is_warehouse_closed_No</th>\n",
       "      <th>is_warehouse_closed_Yes</th>\n",
       "      <th>Product_Type_Type_A</th>\n",
       "      <th>Product_Type_Type_B</th>\n",
       "    </tr>\n",
       "  </thead>\n",
       "  <tbody>\n",
       "    <tr>\n",
       "      <th>0</th>\n",
       "      <td>41.681471</td>\n",
       "      <td>-72.794746</td>\n",
       "      <td>2017</td>\n",
       "      <td>1</td>\n",
       "      <td>1</td>\n",
       "      <td>1</td>\n",
       "      <td>0</td>\n",
       "      <td>0</td>\n",
       "      <td>0</td>\n",
       "      <td>0</td>\n",
       "      <td>0</td>\n",
       "      <td>0</td>\n",
       "      <td>0</td>\n",
       "      <td>0</td>\n",
       "      <td>0</td>\n",
       "      <td>1</td>\n",
       "      <td>1</td>\n",
       "      <td>0</td>\n",
       "      <td>1</td>\n",
       "      <td>0</td>\n",
       "    </tr>\n",
       "    <tr>\n",
       "      <th>1</th>\n",
       "      <td>38.749077</td>\n",
       "      <td>-105.183060</td>\n",
       "      <td>2017</td>\n",
       "      <td>1</td>\n",
       "      <td>1</td>\n",
       "      <td>0</td>\n",
       "      <td>1</td>\n",
       "      <td>0</td>\n",
       "      <td>0</td>\n",
       "      <td>0</td>\n",
       "      <td>0</td>\n",
       "      <td>0</td>\n",
       "      <td>0</td>\n",
       "      <td>0</td>\n",
       "      <td>0</td>\n",
       "      <td>1</td>\n",
       "      <td>1</td>\n",
       "      <td>0</td>\n",
       "      <td>1</td>\n",
       "      <td>0</td>\n",
       "    </tr>\n",
       "    <tr>\n",
       "      <th>14</th>\n",
       "      <td>41.681471</td>\n",
       "      <td>-72.794746</td>\n",
       "      <td>2017</td>\n",
       "      <td>1</td>\n",
       "      <td>8</td>\n",
       "      <td>1</td>\n",
       "      <td>0</td>\n",
       "      <td>0</td>\n",
       "      <td>0</td>\n",
       "      <td>0</td>\n",
       "      <td>0</td>\n",
       "      <td>0</td>\n",
       "      <td>0</td>\n",
       "      <td>0</td>\n",
       "      <td>0</td>\n",
       "      <td>1</td>\n",
       "      <td>1</td>\n",
       "      <td>0</td>\n",
       "      <td>1</td>\n",
       "      <td>0</td>\n",
       "    </tr>\n",
       "    <tr>\n",
       "      <th>15</th>\n",
       "      <td>38.749077</td>\n",
       "      <td>-105.183060</td>\n",
       "      <td>2017</td>\n",
       "      <td>1</td>\n",
       "      <td>8</td>\n",
       "      <td>0</td>\n",
       "      <td>1</td>\n",
       "      <td>0</td>\n",
       "      <td>0</td>\n",
       "      <td>0</td>\n",
       "      <td>0</td>\n",
       "      <td>0</td>\n",
       "      <td>0</td>\n",
       "      <td>0</td>\n",
       "      <td>0</td>\n",
       "      <td>1</td>\n",
       "      <td>1</td>\n",
       "      <td>0</td>\n",
       "      <td>1</td>\n",
       "      <td>0</td>\n",
       "    </tr>\n",
       "    <tr>\n",
       "      <th>28</th>\n",
       "      <td>41.681471</td>\n",
       "      <td>-72.794746</td>\n",
       "      <td>2017</td>\n",
       "      <td>1</td>\n",
       "      <td>15</td>\n",
       "      <td>1</td>\n",
       "      <td>0</td>\n",
       "      <td>0</td>\n",
       "      <td>0</td>\n",
       "      <td>0</td>\n",
       "      <td>0</td>\n",
       "      <td>0</td>\n",
       "      <td>0</td>\n",
       "      <td>0</td>\n",
       "      <td>0</td>\n",
       "      <td>1</td>\n",
       "      <td>1</td>\n",
       "      <td>0</td>\n",
       "      <td>1</td>\n",
       "      <td>0</td>\n",
       "    </tr>\n",
       "  </tbody>\n",
       "</table>\n",
       "</div>"
      ],
      "text/plain": [
       "     Latitude   Longitude  year  month  day  warehouse_ID_WH_0x3e9  \\\n",
       "0   41.681471  -72.794746  2017      1    1                      1   \n",
       "1   38.749077 -105.183060  2017      1    1                      0   \n",
       "14  41.681471  -72.794746  2017      1    8                      1   \n",
       "15  38.749077 -105.183060  2017      1    8                      0   \n",
       "28  41.681471  -72.794746  2017      1   15                      1   \n",
       "\n",
       "    warehouse_ID_WH_0x3ea  warehouse_ID_WH_0x3eb  warehouse_ID_WH_0x3ec  \\\n",
       "0                       0                      0                      0   \n",
       "1                       1                      0                      0   \n",
       "14                      0                      0                      0   \n",
       "15                      1                      0                      0   \n",
       "28                      0                      0                      0   \n",
       "\n",
       "    warehouse_ID_WH_0x3ed  warehouse_ID_WH_0x3ee  warehouse_ID_WH_0x3ef  \\\n",
       "0                       0                      0                      0   \n",
       "1                       0                      0                      0   \n",
       "14                      0                      0                      0   \n",
       "15                      0                      0                      0   \n",
       "28                      0                      0                      0   \n",
       "\n",
       "    warehouse_ID_WH_0x3f0  warehouse_ID_WH_0x3f1  warehouse_ID_WH_0x3f2  \\\n",
       "0                       0                      0                      0   \n",
       "1                       0                      0                      0   \n",
       "14                      0                      0                      0   \n",
       "15                      0                      0                      0   \n",
       "28                      0                      0                      0   \n",
       "\n",
       "    is_weekend_Yes  is_warehouse_closed_No  is_warehouse_closed_Yes  \\\n",
       "0                1                       1                        0   \n",
       "1                1                       1                        0   \n",
       "14               1                       1                        0   \n",
       "15               1                       1                        0   \n",
       "28               1                       1                        0   \n",
       "\n",
       "    Product_Type_Type_A  Product_Type_Type_B  \n",
       "0                     1                    0  \n",
       "1                     1                    0  \n",
       "14                    1                    0  \n",
       "15                    1                    0  \n",
       "28                    1                    0  "
      ]
     },
     "execution_count": 203,
     "metadata": {},
     "output_type": "execute_result"
    }
   ],
   "source": [
    "x.head()"
   ]
  },
  {
   "cell_type": "markdown",
   "metadata": {},
   "source": [
    "# Choosing the most effective Machine Learning Regression model\n",
    "Here, as we have a mixture of the Continous, Binary and Categorical Features, it will good to use a 'Descision Tree Regressor' or a'Random Forest Regressor' for fitting the training and testing data to deploy the model. "
   ]
  },
  {
   "cell_type": "code",
   "execution_count": 204,
   "metadata": {},
   "outputs": [],
   "source": [
    "from sklearn.tree import DecisionTreeRegressor\n",
    "from sklearn.ensemble import RandomForestRegressor\n",
    "from sklearn.model_selection import train_test_split"
   ]
  },
  {
   "cell_type": "code",
   "execution_count": 205,
   "metadata": {},
   "outputs": [],
   "source": [
    "x_train, x_test, y_train, y_test = train_test_split(x,y, test_size=0.2)"
   ]
  },
  {
   "cell_type": "code",
   "execution_count": 227,
   "metadata": {},
   "outputs": [
    {
     "data": {
      "text/plain": [
       "DecisionTreeRegressor(max_depth=7)"
      ]
     },
     "execution_count": 227,
     "metadata": {},
     "output_type": "execute_result"
    }
   ],
   "source": [
    "Dreg = DecisionTreeRegressor(max_depth=7)\n",
    "Dreg.fit(x_train, y_train)"
   ]
  },
  {
   "cell_type": "code",
   "execution_count": 238,
   "metadata": {},
   "outputs": [
    {
     "data": {
      "text/plain": [
       "0.9308230738983577"
      ]
     },
     "execution_count": 238,
     "metadata": {},
     "output_type": "execute_result"
    }
   ],
   "source": [
    "Dreg.score(x_test,y_test)"
   ]
  },
  {
   "cell_type": "code",
   "execution_count": 239,
   "metadata": {},
   "outputs": [
    {
     "data": {
      "text/plain": [
       "0.9488644132037247"
      ]
     },
     "execution_count": 239,
     "metadata": {},
     "output_type": "execute_result"
    }
   ],
   "source": [
    "Dreg.score(x_train, y_train)"
   ]
  },
  {
   "cell_type": "code",
   "execution_count": 224,
   "metadata": {},
   "outputs": [
    {
     "data": {
      "text/plain": [
       "RandomForestRegressor(max_depth=7, n_estimators=1000)"
      ]
     },
     "execution_count": 224,
     "metadata": {},
     "output_type": "execute_result"
    }
   ],
   "source": [
    "rreg = RandomForestRegressor(n_estimators=1000, max_depth=7)\n",
    "rreg.fit(x_train,y_train)"
   ]
  },
  {
   "cell_type": "code",
   "execution_count": 240,
   "metadata": {},
   "outputs": [
    {
     "data": {
      "text/plain": [
       "0.941496668444141"
      ]
     },
     "execution_count": 240,
     "metadata": {},
     "output_type": "execute_result"
    }
   ],
   "source": [
    "rreg.score(x_test,y_test)"
   ]
  },
  {
   "cell_type": "code",
   "execution_count": 241,
   "metadata": {
    "scrolled": true
   },
   "outputs": [
    {
     "data": {
      "text/plain": [
       "0.9591437728823201"
      ]
     },
     "execution_count": 241,
     "metadata": {},
     "output_type": "execute_result"
    }
   ],
   "source": [
    "rreg.score(x_train, y_train)"
   ]
  },
  {
   "cell_type": "markdown",
   "metadata": {},
   "source": [
    "The (x_test, y_test) score is very high for the 'Random Forest Regressor' and, also there is not much overfitting present in \n",
    "the model. But, on the grounds of accuracy score we observ that, the 'Random Forest Regressor' performs better than the 'Descision Tree Regressor'.  This is why, we will use the 'Random Forest Regressor' model for predicting the\n",
    " missing values for the 'weekly_dispatch_count'."
   ]
  },
  {
   "cell_type": "code",
   "execution_count": null,
   "metadata": {},
   "outputs": [],
   "source": []
  },
  {
   "cell_type": "markdown",
   "metadata": {},
   "source": [
    "# Handelling the created 'test' data "
   ]
  },
  {
   "cell_type": "code",
   "execution_count": 91,
   "metadata": {},
   "outputs": [
    {
     "data": {
      "text/plain": [
       "ID                           0\n",
       "date                         0\n",
       "warehouse_ID                 0\n",
       "Latitude                     0\n",
       "Longitude                    0\n",
       "Product_Type                 0\n",
       "year                         0\n",
       "month                        0\n",
       "is_weekend                   0\n",
       "is_warehouse_closed          0\n",
       "daily_dispatch_count         0\n",
       "weekly_dispatch_count    14246\n",
       "day                          0\n",
       "dtype: int64"
      ]
     },
     "execution_count": 91,
     "metadata": {},
     "output_type": "execute_result"
    }
   ],
   "source": [
    "test.isnull().sum()         #Checking the NaN values "
   ]
  },
  {
   "cell_type": "code",
   "execution_count": 92,
   "metadata": {},
   "outputs": [
    {
     "name": "stderr",
     "output_type": "stream",
     "text": [
      "C:\\Users\\laptop\\Anaconda31\\lib\\site-packages\\pandas\\core\\frame.py:3940: SettingWithCopyWarning: \n",
      "A value is trying to be set on a copy of a slice from a DataFrame\n",
      "\n",
      "See the caveats in the documentation: http://pandas.pydata.org/pandas-docs/stable/indexing.html#indexing-view-versus-copy\n",
      "  errors=errors)\n"
     ]
    }
   ],
   "source": [
    "test.drop('weekly_dispatch_count',axis = 1, inplace=True)"
   ]
  },
  {
   "cell_type": "code",
   "execution_count": 93,
   "metadata": {
    "scrolled": true
   },
   "outputs": [
    {
     "data": {
      "text/html": [
       "<div>\n",
       "<style scoped>\n",
       "    .dataframe tbody tr th:only-of-type {\n",
       "        vertical-align: middle;\n",
       "    }\n",
       "\n",
       "    .dataframe tbody tr th {\n",
       "        vertical-align: top;\n",
       "    }\n",
       "\n",
       "    .dataframe thead th {\n",
       "        text-align: right;\n",
       "    }\n",
       "</style>\n",
       "<table border=\"1\" class=\"dataframe\">\n",
       "  <thead>\n",
       "    <tr style=\"text-align: right;\">\n",
       "      <th></th>\n",
       "      <th>ID</th>\n",
       "      <th>date</th>\n",
       "      <th>warehouse_ID</th>\n",
       "      <th>Latitude</th>\n",
       "      <th>Longitude</th>\n",
       "      <th>Product_Type</th>\n",
       "      <th>year</th>\n",
       "      <th>month</th>\n",
       "      <th>is_weekend</th>\n",
       "      <th>is_warehouse_closed</th>\n",
       "      <th>daily_dispatch_count</th>\n",
       "      <th>day</th>\n",
       "    </tr>\n",
       "  </thead>\n",
       "  <tbody>\n",
       "    <tr>\n",
       "      <th>2</th>\n",
       "      <td>0x2711</td>\n",
       "      <td>2017-01-02</td>\n",
       "      <td>WH_0x3e9</td>\n",
       "      <td>41.681471</td>\n",
       "      <td>-72.794746</td>\n",
       "      <td>Type_A</td>\n",
       "      <td>2017</td>\n",
       "      <td>1</td>\n",
       "      <td>No</td>\n",
       "      <td>No</td>\n",
       "      <td>4.8</td>\n",
       "      <td>2</td>\n",
       "    </tr>\n",
       "    <tr>\n",
       "      <th>3</th>\n",
       "      <td>0x33e7</td>\n",
       "      <td>2017-01-02</td>\n",
       "      <td>WH_0x3ea</td>\n",
       "      <td>38.749077</td>\n",
       "      <td>-105.183060</td>\n",
       "      <td>Type_A</td>\n",
       "      <td>2017</td>\n",
       "      <td>1</td>\n",
       "      <td>No</td>\n",
       "      <td>No</td>\n",
       "      <td>6.7</td>\n",
       "      <td>2</td>\n",
       "    </tr>\n",
       "    <tr>\n",
       "      <th>4</th>\n",
       "      <td>0x2712</td>\n",
       "      <td>2017-01-03</td>\n",
       "      <td>WH_0x3e9</td>\n",
       "      <td>41.681471</td>\n",
       "      <td>-72.794746</td>\n",
       "      <td>Type_A</td>\n",
       "      <td>2017</td>\n",
       "      <td>1</td>\n",
       "      <td>No</td>\n",
       "      <td>No</td>\n",
       "      <td>5.8</td>\n",
       "      <td>3</td>\n",
       "    </tr>\n",
       "    <tr>\n",
       "      <th>5</th>\n",
       "      <td>0x33e8</td>\n",
       "      <td>2017-01-03</td>\n",
       "      <td>WH_0x3ea</td>\n",
       "      <td>38.749077</td>\n",
       "      <td>-105.183060</td>\n",
       "      <td>Type_A</td>\n",
       "      <td>2017</td>\n",
       "      <td>1</td>\n",
       "      <td>No</td>\n",
       "      <td>No</td>\n",
       "      <td>8.1</td>\n",
       "      <td>3</td>\n",
       "    </tr>\n",
       "    <tr>\n",
       "      <th>6</th>\n",
       "      <td>0x2713</td>\n",
       "      <td>2017-01-04</td>\n",
       "      <td>WH_0x3e9</td>\n",
       "      <td>41.681471</td>\n",
       "      <td>-72.794746</td>\n",
       "      <td>Type_A</td>\n",
       "      <td>2017</td>\n",
       "      <td>1</td>\n",
       "      <td>No</td>\n",
       "      <td>No</td>\n",
       "      <td>6.6</td>\n",
       "      <td>4</td>\n",
       "    </tr>\n",
       "  </tbody>\n",
       "</table>\n",
       "</div>"
      ],
      "text/plain": [
       "       ID       date warehouse_ID   Latitude   Longitude Product_Type  year  \\\n",
       "2  0x2711 2017-01-02     WH_0x3e9  41.681471  -72.794746       Type_A  2017   \n",
       "3  0x33e7 2017-01-02     WH_0x3ea  38.749077 -105.183060       Type_A  2017   \n",
       "4  0x2712 2017-01-03     WH_0x3e9  41.681471  -72.794746       Type_A  2017   \n",
       "5  0x33e8 2017-01-03     WH_0x3ea  38.749077 -105.183060       Type_A  2017   \n",
       "6  0x2713 2017-01-04     WH_0x3e9  41.681471  -72.794746       Type_A  2017   \n",
       "\n",
       "   month is_weekend is_warehouse_closed  daily_dispatch_count  day  \n",
       "2      1         No                  No                   4.8    2  \n",
       "3      1         No                  No                   6.7    2  \n",
       "4      1         No                  No                   5.8    3  \n",
       "5      1         No                  No                   8.1    3  \n",
       "6      1         No                  No                   6.6    4  "
      ]
     },
     "execution_count": 93,
     "metadata": {},
     "output_type": "execute_result"
    }
   ],
   "source": [
    "test.head()"
   ]
  },
  {
   "cell_type": "code",
   "execution_count": 94,
   "metadata": {},
   "outputs": [],
   "source": [
    "test1 = pd.get_dummies(test, columns=['warehouse_ID', 'is_weekend', 'is_warehouse_closed', 'Product_Type'])"
   ]
  },
  {
   "cell_type": "code",
   "execution_count": 95,
   "metadata": {},
   "outputs": [],
   "source": [
    "test1 = test1.drop(['date','ID'],axis=1)"
   ]
  },
  {
   "cell_type": "code",
   "execution_count": 230,
   "metadata": {},
   "outputs": [],
   "source": [
    "test1 = test1.drop('daily_dispatch_count',axis=1)"
   ]
  },
  {
   "cell_type": "code",
   "execution_count": 231,
   "metadata": {},
   "outputs": [
    {
     "data": {
      "text/html": [
       "<div>\n",
       "<style scoped>\n",
       "    .dataframe tbody tr th:only-of-type {\n",
       "        vertical-align: middle;\n",
       "    }\n",
       "\n",
       "    .dataframe tbody tr th {\n",
       "        vertical-align: top;\n",
       "    }\n",
       "\n",
       "    .dataframe thead th {\n",
       "        text-align: right;\n",
       "    }\n",
       "</style>\n",
       "<table border=\"1\" class=\"dataframe\">\n",
       "  <thead>\n",
       "    <tr style=\"text-align: right;\">\n",
       "      <th></th>\n",
       "      <th>Latitude</th>\n",
       "      <th>Longitude</th>\n",
       "      <th>year</th>\n",
       "      <th>month</th>\n",
       "      <th>day</th>\n",
       "      <th>warehouse_ID_WH_0x3e9</th>\n",
       "      <th>warehouse_ID_WH_0x3ea</th>\n",
       "      <th>warehouse_ID_WH_0x3eb</th>\n",
       "      <th>warehouse_ID_WH_0x3ec</th>\n",
       "      <th>warehouse_ID_WH_0x3ed</th>\n",
       "      <th>warehouse_ID_WH_0x3ee</th>\n",
       "      <th>warehouse_ID_WH_0x3ef</th>\n",
       "      <th>warehouse_ID_WH_0x3f0</th>\n",
       "      <th>warehouse_ID_WH_0x3f1</th>\n",
       "      <th>warehouse_ID_WH_0x3f2</th>\n",
       "      <th>is_weekend_Yes</th>\n",
       "      <th>is_warehouse_closed_No</th>\n",
       "      <th>is_warehouse_closed_Yes</th>\n",
       "      <th>Product_Type_Type_A</th>\n",
       "      <th>Product_Type_Type_B</th>\n",
       "    </tr>\n",
       "  </thead>\n",
       "  <tbody>\n",
       "    <tr>\n",
       "      <th>2</th>\n",
       "      <td>41.681471</td>\n",
       "      <td>-72.794746</td>\n",
       "      <td>2017</td>\n",
       "      <td>1</td>\n",
       "      <td>2</td>\n",
       "      <td>1</td>\n",
       "      <td>0</td>\n",
       "      <td>0</td>\n",
       "      <td>0</td>\n",
       "      <td>0</td>\n",
       "      <td>0</td>\n",
       "      <td>0</td>\n",
       "      <td>0</td>\n",
       "      <td>0</td>\n",
       "      <td>0</td>\n",
       "      <td>0</td>\n",
       "      <td>1</td>\n",
       "      <td>0</td>\n",
       "      <td>1</td>\n",
       "      <td>0</td>\n",
       "    </tr>\n",
       "    <tr>\n",
       "      <th>3</th>\n",
       "      <td>38.749077</td>\n",
       "      <td>-105.183060</td>\n",
       "      <td>2017</td>\n",
       "      <td>1</td>\n",
       "      <td>2</td>\n",
       "      <td>0</td>\n",
       "      <td>1</td>\n",
       "      <td>0</td>\n",
       "      <td>0</td>\n",
       "      <td>0</td>\n",
       "      <td>0</td>\n",
       "      <td>0</td>\n",
       "      <td>0</td>\n",
       "      <td>0</td>\n",
       "      <td>0</td>\n",
       "      <td>0</td>\n",
       "      <td>1</td>\n",
       "      <td>0</td>\n",
       "      <td>1</td>\n",
       "      <td>0</td>\n",
       "    </tr>\n",
       "    <tr>\n",
       "      <th>4</th>\n",
       "      <td>41.681471</td>\n",
       "      <td>-72.794746</td>\n",
       "      <td>2017</td>\n",
       "      <td>1</td>\n",
       "      <td>3</td>\n",
       "      <td>1</td>\n",
       "      <td>0</td>\n",
       "      <td>0</td>\n",
       "      <td>0</td>\n",
       "      <td>0</td>\n",
       "      <td>0</td>\n",
       "      <td>0</td>\n",
       "      <td>0</td>\n",
       "      <td>0</td>\n",
       "      <td>0</td>\n",
       "      <td>0</td>\n",
       "      <td>1</td>\n",
       "      <td>0</td>\n",
       "      <td>1</td>\n",
       "      <td>0</td>\n",
       "    </tr>\n",
       "    <tr>\n",
       "      <th>5</th>\n",
       "      <td>38.749077</td>\n",
       "      <td>-105.183060</td>\n",
       "      <td>2017</td>\n",
       "      <td>1</td>\n",
       "      <td>3</td>\n",
       "      <td>0</td>\n",
       "      <td>1</td>\n",
       "      <td>0</td>\n",
       "      <td>0</td>\n",
       "      <td>0</td>\n",
       "      <td>0</td>\n",
       "      <td>0</td>\n",
       "      <td>0</td>\n",
       "      <td>0</td>\n",
       "      <td>0</td>\n",
       "      <td>0</td>\n",
       "      <td>1</td>\n",
       "      <td>0</td>\n",
       "      <td>1</td>\n",
       "      <td>0</td>\n",
       "    </tr>\n",
       "    <tr>\n",
       "      <th>6</th>\n",
       "      <td>41.681471</td>\n",
       "      <td>-72.794746</td>\n",
       "      <td>2017</td>\n",
       "      <td>1</td>\n",
       "      <td>4</td>\n",
       "      <td>1</td>\n",
       "      <td>0</td>\n",
       "      <td>0</td>\n",
       "      <td>0</td>\n",
       "      <td>0</td>\n",
       "      <td>0</td>\n",
       "      <td>0</td>\n",
       "      <td>0</td>\n",
       "      <td>0</td>\n",
       "      <td>0</td>\n",
       "      <td>0</td>\n",
       "      <td>1</td>\n",
       "      <td>0</td>\n",
       "      <td>1</td>\n",
       "      <td>0</td>\n",
       "    </tr>\n",
       "  </tbody>\n",
       "</table>\n",
       "</div>"
      ],
      "text/plain": [
       "    Latitude   Longitude  year  month  day  warehouse_ID_WH_0x3e9  \\\n",
       "2  41.681471  -72.794746  2017      1    2                      1   \n",
       "3  38.749077 -105.183060  2017      1    2                      0   \n",
       "4  41.681471  -72.794746  2017      1    3                      1   \n",
       "5  38.749077 -105.183060  2017      1    3                      0   \n",
       "6  41.681471  -72.794746  2017      1    4                      1   \n",
       "\n",
       "   warehouse_ID_WH_0x3ea  warehouse_ID_WH_0x3eb  warehouse_ID_WH_0x3ec  \\\n",
       "2                      0                      0                      0   \n",
       "3                      1                      0                      0   \n",
       "4                      0                      0                      0   \n",
       "5                      1                      0                      0   \n",
       "6                      0                      0                      0   \n",
       "\n",
       "   warehouse_ID_WH_0x3ed  warehouse_ID_WH_0x3ee  warehouse_ID_WH_0x3ef  \\\n",
       "2                      0                      0                      0   \n",
       "3                      0                      0                      0   \n",
       "4                      0                      0                      0   \n",
       "5                      0                      0                      0   \n",
       "6                      0                      0                      0   \n",
       "\n",
       "   warehouse_ID_WH_0x3f0  warehouse_ID_WH_0x3f1  warehouse_ID_WH_0x3f2  \\\n",
       "2                      0                      0                      0   \n",
       "3                      0                      0                      0   \n",
       "4                      0                      0                      0   \n",
       "5                      0                      0                      0   \n",
       "6                      0                      0                      0   \n",
       "\n",
       "   is_weekend_Yes  is_warehouse_closed_No  is_warehouse_closed_Yes  \\\n",
       "2               0                       1                        0   \n",
       "3               0                       1                        0   \n",
       "4               0                       1                        0   \n",
       "5               0                       1                        0   \n",
       "6               0                       1                        0   \n",
       "\n",
       "   Product_Type_Type_A  Product_Type_Type_B  \n",
       "2                    1                    0  \n",
       "3                    1                    0  \n",
       "4                    1                    0  \n",
       "5                    1                    0  \n",
       "6                    1                    0  "
      ]
     },
     "execution_count": 231,
     "metadata": {},
     "output_type": "execute_result"
    }
   ],
   "source": [
    "test1.head()"
   ]
  },
  {
   "cell_type": "code",
   "execution_count": 232,
   "metadata": {},
   "outputs": [
    {
     "data": {
      "text/plain": [
       "Index(['Latitude', 'Longitude', 'year', 'month', 'day',\n",
       "       'warehouse_ID_WH_0x3e9', 'warehouse_ID_WH_0x3ea',\n",
       "       'warehouse_ID_WH_0x3eb', 'warehouse_ID_WH_0x3ec',\n",
       "       'warehouse_ID_WH_0x3ed', 'warehouse_ID_WH_0x3ee',\n",
       "       'warehouse_ID_WH_0x3ef', 'warehouse_ID_WH_0x3f0',\n",
       "       'warehouse_ID_WH_0x3f1', 'warehouse_ID_WH_0x3f2', 'is_weekend_Yes',\n",
       "       'is_warehouse_closed_No', 'is_warehouse_closed_Yes',\n",
       "       'Product_Type_Type_A', 'Product_Type_Type_B'],\n",
       "      dtype='object')"
      ]
     },
     "execution_count": 232,
     "metadata": {},
     "output_type": "execute_result"
    }
   ],
   "source": [
    "test1.columns"
   ]
  },
  {
   "cell_type": "code",
   "execution_count": 233,
   "metadata": {},
   "outputs": [
    {
     "data": {
      "text/plain": [
       "Index(['Latitude', 'Longitude', 'year', 'month', 'daily_dispatch_count', 'day',\n",
       "       'warehouse_ID_WH_0x3e9', 'warehouse_ID_WH_0x3ea',\n",
       "       'warehouse_ID_WH_0x3eb', 'warehouse_ID_WH_0x3ec',\n",
       "       'warehouse_ID_WH_0x3ed', 'warehouse_ID_WH_0x3ee',\n",
       "       'warehouse_ID_WH_0x3ef', 'warehouse_ID_WH_0x3f0',\n",
       "       'warehouse_ID_WH_0x3f1', 'warehouse_ID_WH_0x3f2', 'is_weekend_Yes',\n",
       "       'is_warehouse_closed_No', 'is_warehouse_closed_Yes',\n",
       "       'Product_Type_Type_A', 'Product_Type_Type_B'],\n",
       "      dtype='object')"
      ]
     },
     "execution_count": 233,
     "metadata": {},
     "output_type": "execute_result"
    }
   ],
   "source": [
    "test1.drop(['is_weekend_No'],axis=1,inplace=True)\n",
    "Train1.columns"
   ]
  },
  {
   "cell_type": "markdown",
   "metadata": {},
   "source": [
    "Unfortunately, in the 'train' data the avaliable 'weekly_dispatch_count' is only for the weekends, so will we have to remove \n",
    "an extra column from the 'test1'. This will make the columns identical for both 'Train1' and 'test1'.\n"
   ]
  },
  {
   "cell_type": "code",
   "execution_count": 235,
   "metadata": {},
   "outputs": [
    {
     "data": {
      "text/plain": [
       "Latitude                   0\n",
       "Longitude                  0\n",
       "year                       0\n",
       "month                      0\n",
       "day                        0\n",
       "warehouse_ID_WH_0x3e9      0\n",
       "warehouse_ID_WH_0x3ea      0\n",
       "warehouse_ID_WH_0x3eb      0\n",
       "warehouse_ID_WH_0x3ec      0\n",
       "warehouse_ID_WH_0x3ed      0\n",
       "warehouse_ID_WH_0x3ee      0\n",
       "warehouse_ID_WH_0x3ef      0\n",
       "warehouse_ID_WH_0x3f0      0\n",
       "warehouse_ID_WH_0x3f1      0\n",
       "warehouse_ID_WH_0x3f2      0\n",
       "is_weekend_Yes             0\n",
       "is_warehouse_closed_No     0\n",
       "is_warehouse_closed_Yes    0\n",
       "Product_Type_Type_A        0\n",
       "Product_Type_Type_B        0\n",
       "dtype: int64"
      ]
     },
     "execution_count": 235,
     "metadata": {},
     "output_type": "execute_result"
    }
   ],
   "source": [
    "test1.isnull().sum()              #Checking if there are still any NaN values."
   ]
  },
  {
   "cell_type": "code",
   "execution_count": 101,
   "metadata": {},
   "outputs": [],
   "source": [
    "test_v = test1.copy()"
   ]
  },
  {
   "cell_type": "code",
   "execution_count": 242,
   "metadata": {},
   "outputs": [
    {
     "data": {
      "text/plain": [
       "array([18.02917926, 22.520098  , 36.69789834, ..., 10.40076044,\n",
       "       36.08640785, 10.10563867])"
      ]
     },
     "execution_count": 242,
     "metadata": {},
     "output_type": "execute_result"
    }
   ],
   "source": [
    "weekly = rreg.predict(test1)\n",
    "weekly"
   ]
  },
  {
   "cell_type": "code",
   "execution_count": 243,
   "metadata": {
    "scrolled": true
   },
   "outputs": [
    {
     "data": {
      "text/plain": [
       "array([ 5.5       ,  6.1       , 33.75      , ..., 10.48888889,\n",
       "       31.36      , 10.48888889])"
      ]
     },
     "execution_count": 243,
     "metadata": {},
     "output_type": "execute_result"
    }
   ],
   "source": [
    "Dreg.predict(test1)"
   ]
  },
  {
   "cell_type": "markdown",
   "metadata": {},
   "source": [
    "From the above values, we can conclude that the predicted output for both the values are not very different. But we will \n",
    "choose the best model here."
   ]
  },
  {
   "cell_type": "code",
   "execution_count": 244,
   "metadata": {},
   "outputs": [],
   "source": [
    "f1 =pd.DataFrame(weekly)"
   ]
  },
  {
   "cell_type": "code",
   "execution_count": 245,
   "metadata": {},
   "outputs": [],
   "source": [
    "f1.rename(columns={0:'weekly_dispatch_count'}, inplace=True)"
   ]
  },
  {
   "cell_type": "code",
   "execution_count": 246,
   "metadata": {},
   "outputs": [
    {
     "data": {
      "text/plain": [
       "Index(['Latitude', 'Longitude', 'year', 'month', 'daily_dispatch_count', 'day',\n",
       "       'warehouse_ID_WH_0x3e9', 'warehouse_ID_WH_0x3ea',\n",
       "       'warehouse_ID_WH_0x3eb', 'warehouse_ID_WH_0x3ec',\n",
       "       'warehouse_ID_WH_0x3ed', 'warehouse_ID_WH_0x3ee',\n",
       "       'warehouse_ID_WH_0x3ef', 'warehouse_ID_WH_0x3f0',\n",
       "       'warehouse_ID_WH_0x3f1', 'warehouse_ID_WH_0x3f2', 'is_weekend_Yes',\n",
       "       'is_warehouse_closed_No', 'is_warehouse_closed_Yes',\n",
       "       'Product_Type_Type_A', 'Product_Type_Type_B'],\n",
       "      dtype='object')"
      ]
     },
     "execution_count": 246,
     "metadata": {},
     "output_type": "execute_result"
    }
   ],
   "source": [
    "test_v.columns"
   ]
  },
  {
   "cell_type": "code",
   "execution_count": 247,
   "metadata": {},
   "outputs": [
    {
     "data": {
      "text/plain": [
       "Index(['Latitude', 'Longitude', 'year', 'month', 'daily_dispatch_count', 'day',\n",
       "       'warehouse_ID_WH_0x3e9', 'warehouse_ID_WH_0x3ea',\n",
       "       'warehouse_ID_WH_0x3eb', 'warehouse_ID_WH_0x3ec',\n",
       "       'warehouse_ID_WH_0x3ed', 'warehouse_ID_WH_0x3ee',\n",
       "       'warehouse_ID_WH_0x3ef', 'warehouse_ID_WH_0x3f0',\n",
       "       'warehouse_ID_WH_0x3f1', 'warehouse_ID_WH_0x3f2', 'is_weekend_Yes',\n",
       "       'is_warehouse_closed_No', 'is_warehouse_closed_Yes',\n",
       "       'Product_Type_Type_A', 'Product_Type_Type_B'],\n",
       "      dtype='object')"
      ]
     },
     "execution_count": 247,
     "metadata": {},
     "output_type": "execute_result"
    }
   ],
   "source": [
    "Train1.columns"
   ]
  },
  {
   "cell_type": "code",
   "execution_count": 248,
   "metadata": {},
   "outputs": [],
   "source": [
    "train_p = pd.concat([Train1,test_v], sort=False, ignore_index=True)"
   ]
  },
  {
   "cell_type": "code",
   "execution_count": 249,
   "metadata": {},
   "outputs": [],
   "source": [
    "f2 = pd.DataFrame(y)"
   ]
  },
  {
   "cell_type": "code",
   "execution_count": 250,
   "metadata": {},
   "outputs": [],
   "source": [
    "train_pf = pd.concat([f2,f1], ignore_index=True)"
   ]
  },
  {
   "cell_type": "code",
   "execution_count": 251,
   "metadata": {
    "scrolled": true
   },
   "outputs": [
    {
     "data": {
      "text/html": [
       "<div>\n",
       "<style scoped>\n",
       "    .dataframe tbody tr th:only-of-type {\n",
       "        vertical-align: middle;\n",
       "    }\n",
       "\n",
       "    .dataframe tbody tr th {\n",
       "        vertical-align: top;\n",
       "    }\n",
       "\n",
       "    .dataframe thead th {\n",
       "        text-align: right;\n",
       "    }\n",
       "</style>\n",
       "<table border=\"1\" class=\"dataframe\">\n",
       "  <thead>\n",
       "    <tr style=\"text-align: right;\">\n",
       "      <th></th>\n",
       "      <th>weekly_dispatch_count</th>\n",
       "    </tr>\n",
       "  </thead>\n",
       "  <tbody>\n",
       "    <tr>\n",
       "      <th>0</th>\n",
       "      <td>5.5</td>\n",
       "    </tr>\n",
       "    <tr>\n",
       "      <th>1</th>\n",
       "      <td>6.1</td>\n",
       "    </tr>\n",
       "    <tr>\n",
       "      <th>14</th>\n",
       "      <td>37.1</td>\n",
       "    </tr>\n",
       "    <tr>\n",
       "      <th>15</th>\n",
       "      <td>48.3</td>\n",
       "    </tr>\n",
       "    <tr>\n",
       "      <th>28</th>\n",
       "      <td>37.5</td>\n",
       "    </tr>\n",
       "  </tbody>\n",
       "</table>\n",
       "</div>"
      ],
      "text/plain": [
       "    weekly_dispatch_count\n",
       "0                     5.5\n",
       "1                     6.1\n",
       "14                   37.1\n",
       "15                   48.3\n",
       "28                   37.5"
      ]
     },
     "execution_count": 251,
     "metadata": {},
     "output_type": "execute_result"
    }
   ],
   "source": [
    "f2.head()"
   ]
  },
  {
   "cell_type": "code",
   "execution_count": 252,
   "metadata": {},
   "outputs": [
    {
     "data": {
      "text/plain": [
       "16616"
      ]
     },
     "execution_count": 252,
     "metadata": {},
     "output_type": "execute_result"
    }
   ],
   "source": [
    "len(train_pf)"
   ]
  },
  {
   "cell_type": "code",
   "execution_count": 253,
   "metadata": {},
   "outputs": [
    {
     "data": {
      "text/plain": [
       "16616"
      ]
     },
     "execution_count": 253,
     "metadata": {},
     "output_type": "execute_result"
    }
   ],
   "source": [
    "len(train_p)"
   ]
  },
  {
   "cell_type": "code",
   "execution_count": 254,
   "metadata": {},
   "outputs": [],
   "source": [
    "train_f = pd.concat([train_p,train_pf],axis=1)"
   ]
  },
  {
   "cell_type": "code",
   "execution_count": 255,
   "metadata": {},
   "outputs": [],
   "source": [
    "train_f.to_csv('train_f.csv')                          #This file will be used for the 2nd half of the project "
   ]
  },
  {
   "cell_type": "code",
   "execution_count": 256,
   "metadata": {},
   "outputs": [
    {
     "data": {
      "text/plain": [
       "16616"
      ]
     },
     "execution_count": 256,
     "metadata": {},
     "output_type": "execute_result"
    }
   ],
   "source": [
    "len(train_f)"
   ]
  },
  {
   "cell_type": "markdown",
   "metadata": {},
   "source": [
    "So, we have sucessfully reconstructed the input 'train' data, with by filling most of the values and dropping only around 1% of the 'NaN' values. "
   ]
  },
  {
   "cell_type": "markdown",
   "metadata": {},
   "source": [
    "#   PART 2"
   ]
  },
  {
   "cell_type": "code",
   "execution_count": 257,
   "metadata": {
    "scrolled": false
   },
   "outputs": [
    {
     "data": {
      "text/html": [
       "<div>\n",
       "<style scoped>\n",
       "    .dataframe tbody tr th:only-of-type {\n",
       "        vertical-align: middle;\n",
       "    }\n",
       "\n",
       "    .dataframe tbody tr th {\n",
       "        vertical-align: top;\n",
       "    }\n",
       "\n",
       "    .dataframe thead th {\n",
       "        text-align: right;\n",
       "    }\n",
       "</style>\n",
       "<table border=\"1\" class=\"dataframe\">\n",
       "  <thead>\n",
       "    <tr style=\"text-align: right;\">\n",
       "      <th></th>\n",
       "      <th>Unnamed: 0</th>\n",
       "      <th>Latitude</th>\n",
       "      <th>Longitude</th>\n",
       "      <th>year</th>\n",
       "      <th>month</th>\n",
       "      <th>daily_dispatch_count</th>\n",
       "      <th>day</th>\n",
       "      <th>warehouse_ID_WH_0x3e9</th>\n",
       "      <th>warehouse_ID_WH_0x3ea</th>\n",
       "      <th>warehouse_ID_WH_0x3eb</th>\n",
       "      <th>...</th>\n",
       "      <th>warehouse_ID_WH_0x3ef</th>\n",
       "      <th>warehouse_ID_WH_0x3f0</th>\n",
       "      <th>warehouse_ID_WH_0x3f1</th>\n",
       "      <th>warehouse_ID_WH_0x3f2</th>\n",
       "      <th>is_weekend_Yes</th>\n",
       "      <th>is_warehouse_closed_No</th>\n",
       "      <th>is_warehouse_closed_Yes</th>\n",
       "      <th>Product_Type_Type_A</th>\n",
       "      <th>Product_Type_Type_B</th>\n",
       "      <th>weekly_dispatch_count</th>\n",
       "    </tr>\n",
       "  </thead>\n",
       "  <tbody>\n",
       "    <tr>\n",
       "      <th>0</th>\n",
       "      <td>0</td>\n",
       "      <td>41.681471</td>\n",
       "      <td>-72.794746</td>\n",
       "      <td>2017</td>\n",
       "      <td>1</td>\n",
       "      <td>5.5</td>\n",
       "      <td>1</td>\n",
       "      <td>1</td>\n",
       "      <td>0</td>\n",
       "      <td>0</td>\n",
       "      <td>...</td>\n",
       "      <td>0</td>\n",
       "      <td>0</td>\n",
       "      <td>0</td>\n",
       "      <td>0</td>\n",
       "      <td>1</td>\n",
       "      <td>1</td>\n",
       "      <td>0</td>\n",
       "      <td>1</td>\n",
       "      <td>0</td>\n",
       "      <td>5.5</td>\n",
       "    </tr>\n",
       "    <tr>\n",
       "      <th>1</th>\n",
       "      <td>1</td>\n",
       "      <td>38.749077</td>\n",
       "      <td>-105.183060</td>\n",
       "      <td>2017</td>\n",
       "      <td>1</td>\n",
       "      <td>6.1</td>\n",
       "      <td>1</td>\n",
       "      <td>0</td>\n",
       "      <td>1</td>\n",
       "      <td>0</td>\n",
       "      <td>...</td>\n",
       "      <td>0</td>\n",
       "      <td>0</td>\n",
       "      <td>0</td>\n",
       "      <td>0</td>\n",
       "      <td>1</td>\n",
       "      <td>1</td>\n",
       "      <td>0</td>\n",
       "      <td>1</td>\n",
       "      <td>0</td>\n",
       "      <td>6.1</td>\n",
       "    </tr>\n",
       "    <tr>\n",
       "      <th>2</th>\n",
       "      <td>2</td>\n",
       "      <td>41.681471</td>\n",
       "      <td>-72.794746</td>\n",
       "      <td>2017</td>\n",
       "      <td>1</td>\n",
       "      <td>4.5</td>\n",
       "      <td>8</td>\n",
       "      <td>1</td>\n",
       "      <td>0</td>\n",
       "      <td>0</td>\n",
       "      <td>...</td>\n",
       "      <td>0</td>\n",
       "      <td>0</td>\n",
       "      <td>0</td>\n",
       "      <td>0</td>\n",
       "      <td>1</td>\n",
       "      <td>1</td>\n",
       "      <td>0</td>\n",
       "      <td>1</td>\n",
       "      <td>0</td>\n",
       "      <td>37.1</td>\n",
       "    </tr>\n",
       "    <tr>\n",
       "      <th>3</th>\n",
       "      <td>3</td>\n",
       "      <td>38.749077</td>\n",
       "      <td>-105.183060</td>\n",
       "      <td>2017</td>\n",
       "      <td>1</td>\n",
       "      <td>6.5</td>\n",
       "      <td>8</td>\n",
       "      <td>0</td>\n",
       "      <td>1</td>\n",
       "      <td>0</td>\n",
       "      <td>...</td>\n",
       "      <td>0</td>\n",
       "      <td>0</td>\n",
       "      <td>0</td>\n",
       "      <td>0</td>\n",
       "      <td>1</td>\n",
       "      <td>1</td>\n",
       "      <td>0</td>\n",
       "      <td>1</td>\n",
       "      <td>0</td>\n",
       "      <td>48.3</td>\n",
       "    </tr>\n",
       "    <tr>\n",
       "      <th>4</th>\n",
       "      <td>4</td>\n",
       "      <td>41.681471</td>\n",
       "      <td>-72.794746</td>\n",
       "      <td>2017</td>\n",
       "      <td>1</td>\n",
       "      <td>4.6</td>\n",
       "      <td>15</td>\n",
       "      <td>1</td>\n",
       "      <td>0</td>\n",
       "      <td>0</td>\n",
       "      <td>...</td>\n",
       "      <td>0</td>\n",
       "      <td>0</td>\n",
       "      <td>0</td>\n",
       "      <td>0</td>\n",
       "      <td>1</td>\n",
       "      <td>1</td>\n",
       "      <td>0</td>\n",
       "      <td>1</td>\n",
       "      <td>0</td>\n",
       "      <td>37.5</td>\n",
       "    </tr>\n",
       "  </tbody>\n",
       "</table>\n",
       "<p>5 rows × 23 columns</p>\n",
       "</div>"
      ],
      "text/plain": [
       "   Unnamed: 0   Latitude   Longitude  year  month  daily_dispatch_count  day  \\\n",
       "0           0  41.681471  -72.794746  2017      1                   5.5    1   \n",
       "1           1  38.749077 -105.183060  2017      1                   6.1    1   \n",
       "2           2  41.681471  -72.794746  2017      1                   4.5    8   \n",
       "3           3  38.749077 -105.183060  2017      1                   6.5    8   \n",
       "4           4  41.681471  -72.794746  2017      1                   4.6   15   \n",
       "\n",
       "   warehouse_ID_WH_0x3e9  warehouse_ID_WH_0x3ea  warehouse_ID_WH_0x3eb  ...  \\\n",
       "0                      1                      0                      0  ...   \n",
       "1                      0                      1                      0  ...   \n",
       "2                      1                      0                      0  ...   \n",
       "3                      0                      1                      0  ...   \n",
       "4                      1                      0                      0  ...   \n",
       "\n",
       "   warehouse_ID_WH_0x3ef  warehouse_ID_WH_0x3f0  warehouse_ID_WH_0x3f1  \\\n",
       "0                      0                      0                      0   \n",
       "1                      0                      0                      0   \n",
       "2                      0                      0                      0   \n",
       "3                      0                      0                      0   \n",
       "4                      0                      0                      0   \n",
       "\n",
       "   warehouse_ID_WH_0x3f2  is_weekend_Yes  is_warehouse_closed_No  \\\n",
       "0                      0               1                       1   \n",
       "1                      0               1                       1   \n",
       "2                      0               1                       1   \n",
       "3                      0               1                       1   \n",
       "4                      0               1                       1   \n",
       "\n",
       "   is_warehouse_closed_Yes  Product_Type_Type_A  Product_Type_Type_B  \\\n",
       "0                        0                    1                    0   \n",
       "1                        0                    1                    0   \n",
       "2                        0                    1                    0   \n",
       "3                        0                    1                    0   \n",
       "4                        0                    1                    0   \n",
       "\n",
       "   weekly_dispatch_count  \n",
       "0                    5.5  \n",
       "1                    6.1  \n",
       "2                   37.1  \n",
       "3                   48.3  \n",
       "4                   37.5  \n",
       "\n",
       "[5 rows x 23 columns]"
      ]
     },
     "execution_count": 257,
     "metadata": {},
     "output_type": "execute_result"
    }
   ],
   "source": [
    "d = pd.read_csv(r'C:\\Users\\laptop\\train_f.csv')\n",
    "d.head()"
   ]
  },
  {
   "cell_type": "code",
   "execution_count": 258,
   "metadata": {},
   "outputs": [],
   "source": [
    "d1 = d.drop('Unnamed: 0',axis=1)"
   ]
  },
  {
   "cell_type": "code",
   "execution_count": 259,
   "metadata": {},
   "outputs": [],
   "source": [
    "from sklearn.tree import DecisionTreeRegressor\n",
    "from sklearn.ensemble import RandomForestRegressor\n",
    "from sklearn.model_selection import train_test_split\n",
    "from sklearn.multioutput import MultiOutputRegressor"
   ]
  },
  {
   "cell_type": "code",
   "execution_count": 260,
   "metadata": {},
   "outputs": [],
   "source": [
    "X = d1.drop(['daily_dispatch_count','weekly_dispatch_count'],axis=1)\n",
    "Y = d1[['daily_dispatch_count','weekly_dispatch_count']]"
   ]
  },
  {
   "cell_type": "code",
   "execution_count": 261,
   "metadata": {},
   "outputs": [],
   "source": [
    "X_train, X_test, Y_train,Y_test = train_test_split(X,Y,test_size=0.2)"
   ]
  },
  {
   "cell_type": "code",
   "execution_count": 262,
   "metadata": {},
   "outputs": [
    {
     "data": {
      "text/plain": [
       "13292"
      ]
     },
     "execution_count": 262,
     "metadata": {},
     "output_type": "execute_result"
    }
   ],
   "source": [
    "len(X_train)"
   ]
  },
  {
   "cell_type": "code",
   "execution_count": 263,
   "metadata": {},
   "outputs": [
    {
     "data": {
      "text/plain": [
       "3324"
      ]
     },
     "execution_count": 263,
     "metadata": {},
     "output_type": "execute_result"
    }
   ],
   "source": [
    "len(X_test)"
   ]
  },
  {
   "cell_type": "code",
   "execution_count": 280,
   "metadata": {},
   "outputs": [
    {
     "data": {
      "text/plain": [
       "DecisionTreeRegressor(max_depth=9)"
      ]
     },
     "execution_count": 280,
     "metadata": {},
     "output_type": "execute_result"
    }
   ],
   "source": [
    "Dreg1 = DecisionTreeRegressor(max_depth=9)\n",
    "Dreg1.fit(X_train, Y_train)"
   ]
  },
  {
   "cell_type": "code",
   "execution_count": 281,
   "metadata": {},
   "outputs": [
    {
     "data": {
      "text/plain": [
       "0.9009609506814049"
      ]
     },
     "execution_count": 281,
     "metadata": {},
     "output_type": "execute_result"
    }
   ],
   "source": [
    "Dreg1.score(X_test,Y_test)"
   ]
  },
  {
   "cell_type": "code",
   "execution_count": 282,
   "metadata": {},
   "outputs": [
    {
     "data": {
      "text/plain": [
       "0.9108284972547076"
      ]
     },
     "execution_count": 282,
     "metadata": {},
     "output_type": "execute_result"
    }
   ],
   "source": [
    "Dreg1.score(X_train,Y_train)"
   ]
  },
  {
   "cell_type": "code",
   "execution_count": 331,
   "metadata": {},
   "outputs": [
    {
     "data": {
      "text/plain": [
       "RandomForestRegressor(max_depth=9, n_estimators=500)"
      ]
     },
     "execution_count": 331,
     "metadata": {},
     "output_type": "execute_result"
    }
   ],
   "source": [
    "rreg1 = RandomForestRegressor(n_estimators = 500, max_depth=9)\n",
    "rreg1.fit(X_train,Y_train)"
   ]
  },
  {
   "cell_type": "code",
   "execution_count": 332,
   "metadata": {},
   "outputs": [
    {
     "data": {
      "text/plain": [
       "0.9050941581074322"
      ]
     },
     "execution_count": 332,
     "metadata": {},
     "output_type": "execute_result"
    }
   ],
   "source": [
    "rreg1.score(X_test,Y_test)"
   ]
  },
  {
   "cell_type": "code",
   "execution_count": 333,
   "metadata": {},
   "outputs": [
    {
     "data": {
      "text/plain": [
       "0.9144524545155854"
      ]
     },
     "execution_count": 333,
     "metadata": {},
     "output_type": "execute_result"
    }
   ],
   "source": [
    "rreg1.score(X_train,Y_train)"
   ]
  },
  {
   "cell_type": "markdown",
   "metadata": {},
   "source": [
    "   # Handelling 'Test' Dataset"
   ]
  },
  {
   "cell_type": "code",
   "execution_count": 297,
   "metadata": {
    "scrolled": false
   },
   "outputs": [
    {
     "data": {
      "text/html": [
       "<div>\n",
       "<style scoped>\n",
       "    .dataframe tbody tr th:only-of-type {\n",
       "        vertical-align: middle;\n",
       "    }\n",
       "\n",
       "    .dataframe tbody tr th {\n",
       "        vertical-align: top;\n",
       "    }\n",
       "\n",
       "    .dataframe thead th {\n",
       "        text-align: right;\n",
       "    }\n",
       "</style>\n",
       "<table border=\"1\" class=\"dataframe\">\n",
       "  <thead>\n",
       "    <tr style=\"text-align: right;\">\n",
       "      <th></th>\n",
       "      <th>ID</th>\n",
       "      <th>date</th>\n",
       "      <th>warehouse_ID</th>\n",
       "      <th>Latitude</th>\n",
       "      <th>Longitude</th>\n",
       "      <th>Product_Type</th>\n",
       "      <th>year</th>\n",
       "      <th>month</th>\n",
       "      <th>is_weekend</th>\n",
       "      <th>is_warehouse_closed</th>\n",
       "    </tr>\n",
       "  </thead>\n",
       "  <tbody>\n",
       "    <tr>\n",
       "      <th>0</th>\n",
       "      <td>0x31fc</td>\n",
       "      <td>2021-05-01</td>\n",
       "      <td>WH_0x3e9</td>\n",
       "      <td>41.681471</td>\n",
       "      <td>NaN</td>\n",
       "      <td>Type_A</td>\n",
       "      <td>2021</td>\n",
       "      <td>May</td>\n",
       "      <td>NaN</td>\n",
       "      <td>No</td>\n",
       "    </tr>\n",
       "    <tr>\n",
       "      <th>1</th>\n",
       "      <td>0x31fd</td>\n",
       "      <td>2021-05-01</td>\n",
       "      <td>WH_0x3e9</td>\n",
       "      <td>41.681471</td>\n",
       "      <td>NaN</td>\n",
       "      <td>Type_B</td>\n",
       "      <td>2021</td>\n",
       "      <td>May</td>\n",
       "      <td>Yes</td>\n",
       "      <td>No</td>\n",
       "    </tr>\n",
       "    <tr>\n",
       "      <th>2</th>\n",
       "      <td>0x3ed2</td>\n",
       "      <td>2021-05-01</td>\n",
       "      <td>WH_0x3ea</td>\n",
       "      <td>38.749077</td>\n",
       "      <td>-105.183060</td>\n",
       "      <td>Type_A</td>\n",
       "      <td>2021</td>\n",
       "      <td>May</td>\n",
       "      <td>Yes</td>\n",
       "      <td>No</td>\n",
       "    </tr>\n",
       "    <tr>\n",
       "      <th>3</th>\n",
       "      <td>0x3ed3</td>\n",
       "      <td>2021-05-01</td>\n",
       "      <td>WH_0x3ea</td>\n",
       "      <td>38.749077</td>\n",
       "      <td>-105.183060</td>\n",
       "      <td>Type_B</td>\n",
       "      <td>2021</td>\n",
       "      <td>May</td>\n",
       "      <td>Yes</td>\n",
       "      <td>No</td>\n",
       "    </tr>\n",
       "    <tr>\n",
       "      <th>4</th>\n",
       "      <td>0x4a3a</td>\n",
       "      <td>2021-05-01</td>\n",
       "      <td>WH_0x3eb</td>\n",
       "      <td>35.678970</td>\n",
       "      <td>-109.067413</td>\n",
       "      <td>Type_A</td>\n",
       "      <td>2021</td>\n",
       "      <td>May</td>\n",
       "      <td>Yes</td>\n",
       "      <td>Yes</td>\n",
       "    </tr>\n",
       "  </tbody>\n",
       "</table>\n",
       "</div>"
      ],
      "text/plain": [
       "       ID        date warehouse_ID   Latitude   Longitude Product_Type  year  \\\n",
       "0  0x31fc  2021-05-01     WH_0x3e9  41.681471         NaN       Type_A  2021   \n",
       "1  0x31fd  2021-05-01     WH_0x3e9  41.681471         NaN       Type_B  2021   \n",
       "2  0x3ed2  2021-05-01     WH_0x3ea  38.749077 -105.183060       Type_A  2021   \n",
       "3  0x3ed3  2021-05-01     WH_0x3ea  38.749077 -105.183060       Type_B  2021   \n",
       "4  0x4a3a  2021-05-01     WH_0x3eb  35.678970 -109.067413       Type_A  2021   \n",
       "\n",
       "  month is_weekend is_warehouse_closed  \n",
       "0   May        NaN                  No  \n",
       "1   May        Yes                  No  \n",
       "2   May        Yes                  No  \n",
       "3   May        Yes                  No  \n",
       "4   May        Yes                 Yes  "
      ]
     },
     "execution_count": 297,
     "metadata": {},
     "output_type": "execute_result"
    }
   ],
   "source": [
    "d2 = pd.read_csv(r'C:\\Users\\laptop\\Downloads\\cc2dca92b57d11ec\\dataset\\test.csv')\n",
    "d2.head()"
   ]
  },
  {
   "cell_type": "code",
   "execution_count": 298,
   "metadata": {},
   "outputs": [
    {
     "data": {
      "text/plain": [
       "4900"
      ]
     },
     "execution_count": 298,
     "metadata": {},
     "output_type": "execute_result"
    }
   ],
   "source": [
    "len(d2)"
   ]
  },
  {
   "cell_type": "code",
   "execution_count": 299,
   "metadata": {},
   "outputs": [
    {
     "data": {
      "text/plain": [
       "ID                       0\n",
       "date                     0\n",
       "warehouse_ID             0\n",
       "Latitude                98\n",
       "Longitude              122\n",
       "Product_Type             0\n",
       "year                     0\n",
       "month                    0\n",
       "is_weekend             147\n",
       "is_warehouse_closed     49\n",
       "dtype: int64"
      ]
     },
     "execution_count": 299,
     "metadata": {},
     "output_type": "execute_result"
    }
   ],
   "source": [
    "d2.isnull().sum()"
   ]
  },
  {
   "cell_type": "code",
   "execution_count": 300,
   "metadata": {},
   "outputs": [
    {
     "data": {
      "text/html": [
       "<div>\n",
       "<style scoped>\n",
       "    .dataframe tbody tr th:only-of-type {\n",
       "        vertical-align: middle;\n",
       "    }\n",
       "\n",
       "    .dataframe tbody tr th {\n",
       "        vertical-align: top;\n",
       "    }\n",
       "\n",
       "    .dataframe thead th {\n",
       "        text-align: right;\n",
       "    }\n",
       "</style>\n",
       "<table border=\"1\" class=\"dataframe\">\n",
       "  <thead>\n",
       "    <tr style=\"text-align: right;\">\n",
       "      <th></th>\n",
       "      <th>ID</th>\n",
       "      <th>weekly_dispatch_count</th>\n",
       "    </tr>\n",
       "  </thead>\n",
       "  <tbody>\n",
       "    <tr>\n",
       "      <th>0</th>\n",
       "      <td>0x31fe</td>\n",
       "      <td>NaN</td>\n",
       "    </tr>\n",
       "    <tr>\n",
       "      <th>1</th>\n",
       "      <td>0x31ff</td>\n",
       "      <td>NaN</td>\n",
       "    </tr>\n",
       "    <tr>\n",
       "      <th>2</th>\n",
       "      <td>0x3ed4</td>\n",
       "      <td>NaN</td>\n",
       "    </tr>\n",
       "    <tr>\n",
       "      <th>3</th>\n",
       "      <td>0x3ed5</td>\n",
       "      <td>NaN</td>\n",
       "    </tr>\n",
       "    <tr>\n",
       "      <th>4</th>\n",
       "      <td>0x4a3c</td>\n",
       "      <td>NaN</td>\n",
       "    </tr>\n",
       "  </tbody>\n",
       "</table>\n",
       "</div>"
      ],
      "text/plain": [
       "       ID  weekly_dispatch_count\n",
       "0  0x31fe                    NaN\n",
       "1  0x31ff                    NaN\n",
       "2  0x3ed4                    NaN\n",
       "3  0x3ed5                    NaN\n",
       "4  0x4a3c                    NaN"
      ]
     },
     "execution_count": 300,
     "metadata": {},
     "output_type": "execute_result"
    }
   ],
   "source": [
    "d3 = pd.read_csv(r'C:\\Users\\laptop\\Downloads\\cc2dca92b57d11ec\\dataset\\submission_weekly.csv')\n",
    "d3.head()"
   ]
  },
  {
   "cell_type": "code",
   "execution_count": 301,
   "metadata": {},
   "outputs": [
    {
     "data": {
      "text/plain": [
       "(700, 2)"
      ]
     },
     "execution_count": 301,
     "metadata": {},
     "output_type": "execute_result"
    }
   ],
   "source": [
    "np.shape(d3)"
   ]
  },
  {
   "cell_type": "code",
   "execution_count": 302,
   "metadata": {},
   "outputs": [],
   "source": [
    "d4 = d2[d2['ID'].isin(d3['ID'])]  # For selecting the rows for which we have to forcast"
   ]
  },
  {
   "cell_type": "code",
   "execution_count": 303,
   "metadata": {
    "scrolled": true
   },
   "outputs": [
    {
     "data": {
      "text/html": [
       "<div>\n",
       "<style scoped>\n",
       "    .dataframe tbody tr th:only-of-type {\n",
       "        vertical-align: middle;\n",
       "    }\n",
       "\n",
       "    .dataframe tbody tr th {\n",
       "        vertical-align: top;\n",
       "    }\n",
       "\n",
       "    .dataframe thead th {\n",
       "        text-align: right;\n",
       "    }\n",
       "</style>\n",
       "<table border=\"1\" class=\"dataframe\">\n",
       "  <thead>\n",
       "    <tr style=\"text-align: right;\">\n",
       "      <th></th>\n",
       "      <th>ID</th>\n",
       "      <th>date</th>\n",
       "      <th>warehouse_ID</th>\n",
       "      <th>Latitude</th>\n",
       "      <th>Longitude</th>\n",
       "      <th>Product_Type</th>\n",
       "      <th>year</th>\n",
       "      <th>month</th>\n",
       "      <th>is_weekend</th>\n",
       "      <th>is_warehouse_closed</th>\n",
       "    </tr>\n",
       "  </thead>\n",
       "  <tbody>\n",
       "    <tr>\n",
       "      <th>20</th>\n",
       "      <td>0x31fe</td>\n",
       "      <td>2021-05-02</td>\n",
       "      <td>WH_0x3e9</td>\n",
       "      <td>41.681471</td>\n",
       "      <td>-72.794746</td>\n",
       "      <td>Type_A</td>\n",
       "      <td>2021</td>\n",
       "      <td>May</td>\n",
       "      <td>Yes</td>\n",
       "      <td>No</td>\n",
       "    </tr>\n",
       "    <tr>\n",
       "      <th>21</th>\n",
       "      <td>0x31ff</td>\n",
       "      <td>2021-05-02</td>\n",
       "      <td>WH_0x3e9</td>\n",
       "      <td>41.681471</td>\n",
       "      <td>-72.794746</td>\n",
       "      <td>Type_B</td>\n",
       "      <td>2021</td>\n",
       "      <td>May</td>\n",
       "      <td>Yes</td>\n",
       "      <td>No</td>\n",
       "    </tr>\n",
       "    <tr>\n",
       "      <th>22</th>\n",
       "      <td>0x3ed4</td>\n",
       "      <td>2021-05-02</td>\n",
       "      <td>WH_0x3ea</td>\n",
       "      <td>38.749077</td>\n",
       "      <td>-105.183060</td>\n",
       "      <td>Type_A</td>\n",
       "      <td>2021</td>\n",
       "      <td>May</td>\n",
       "      <td>Yes</td>\n",
       "      <td>No</td>\n",
       "    </tr>\n",
       "    <tr>\n",
       "      <th>23</th>\n",
       "      <td>0x3ed5</td>\n",
       "      <td>2021-05-02</td>\n",
       "      <td>WH_0x3ea</td>\n",
       "      <td>38.749077</td>\n",
       "      <td>-105.183060</td>\n",
       "      <td>Type_B</td>\n",
       "      <td>2021</td>\n",
       "      <td>May</td>\n",
       "      <td>Yes</td>\n",
       "      <td>No</td>\n",
       "    </tr>\n",
       "    <tr>\n",
       "      <th>24</th>\n",
       "      <td>0x4a3c</td>\n",
       "      <td>2021-05-02</td>\n",
       "      <td>WH_0x3eb</td>\n",
       "      <td>35.678970</td>\n",
       "      <td>-109.067413</td>\n",
       "      <td>Type_A</td>\n",
       "      <td>2021</td>\n",
       "      <td>May</td>\n",
       "      <td>Yes</td>\n",
       "      <td>No</td>\n",
       "    </tr>\n",
       "  </tbody>\n",
       "</table>\n",
       "</div>"
      ],
      "text/plain": [
       "        ID        date warehouse_ID   Latitude   Longitude Product_Type  year  \\\n",
       "20  0x31fe  2021-05-02     WH_0x3e9  41.681471  -72.794746       Type_A  2021   \n",
       "21  0x31ff  2021-05-02     WH_0x3e9  41.681471  -72.794746       Type_B  2021   \n",
       "22  0x3ed4  2021-05-02     WH_0x3ea  38.749077 -105.183060       Type_A  2021   \n",
       "23  0x3ed5  2021-05-02     WH_0x3ea  38.749077 -105.183060       Type_B  2021   \n",
       "24  0x4a3c  2021-05-02     WH_0x3eb  35.678970 -109.067413       Type_A  2021   \n",
       "\n",
       "   month is_weekend is_warehouse_closed  \n",
       "20   May        Yes                  No  \n",
       "21   May        Yes                  No  \n",
       "22   May        Yes                  No  \n",
       "23   May        Yes                  No  \n",
       "24   May        Yes                  No  "
      ]
     },
     "execution_count": 303,
     "metadata": {},
     "output_type": "execute_result"
    }
   ],
   "source": [
    "d4.head()"
   ]
  },
  {
   "cell_type": "code",
   "execution_count": 304,
   "metadata": {
    "scrolled": false
   },
   "outputs": [
    {
     "name": "stderr",
     "output_type": "stream",
     "text": [
      "C:\\Users\\laptop\\Anaconda31\\lib\\site-packages\\ipykernel_launcher.py:1: SettingWithCopyWarning: \n",
      "A value is trying to be set on a copy of a slice from a DataFrame.\n",
      "Try using .loc[row_indexer,col_indexer] = value instead\n",
      "\n",
      "See the caveats in the documentation: http://pandas.pydata.org/pandas-docs/stable/indexing.html#indexing-view-versus-copy\n",
      "  \"\"\"Entry point for launching an IPython kernel.\n",
      "C:\\Users\\laptop\\Anaconda31\\lib\\site-packages\\ipykernel_launcher.py:2: SettingWithCopyWarning: \n",
      "A value is trying to be set on a copy of a slice from a DataFrame.\n",
      "Try using .loc[row_indexer,col_indexer] = value instead\n",
      "\n",
      "See the caveats in the documentation: http://pandas.pydata.org/pandas-docs/stable/indexing.html#indexing-view-versus-copy\n",
      "  \n",
      "C:\\Users\\laptop\\Anaconda31\\lib\\site-packages\\ipykernel_launcher.py:3: SettingWithCopyWarning: \n",
      "A value is trying to be set on a copy of a slice from a DataFrame.\n",
      "Try using .loc[row_indexer,col_indexer] = value instead\n",
      "\n",
      "See the caveats in the documentation: http://pandas.pydata.org/pandas-docs/stable/indexing.html#indexing-view-versus-copy\n",
      "  This is separate from the ipykernel package so we can avoid doing imports until\n"
     ]
    }
   ],
   "source": [
    "d4['date'] = pd.to_datetime(d4['date'])\n",
    "d4['month'] = d4['date'].dt.month\n",
    "d4['day'] = d4['date'].dt.day\n",
    "d4 = d4.drop('date',axis=1)"
   ]
  },
  {
   "cell_type": "code",
   "execution_count": 305,
   "metadata": {},
   "outputs": [
    {
     "data": {
      "text/html": [
       "<div>\n",
       "<style scoped>\n",
       "    .dataframe tbody tr th:only-of-type {\n",
       "        vertical-align: middle;\n",
       "    }\n",
       "\n",
       "    .dataframe tbody tr th {\n",
       "        vertical-align: top;\n",
       "    }\n",
       "\n",
       "    .dataframe thead th {\n",
       "        text-align: right;\n",
       "    }\n",
       "</style>\n",
       "<table border=\"1\" class=\"dataframe\">\n",
       "  <thead>\n",
       "    <tr style=\"text-align: right;\">\n",
       "      <th></th>\n",
       "      <th>ID</th>\n",
       "      <th>warehouse_ID</th>\n",
       "      <th>Latitude</th>\n",
       "      <th>Longitude</th>\n",
       "      <th>Product_Type</th>\n",
       "      <th>year</th>\n",
       "      <th>month</th>\n",
       "      <th>is_weekend</th>\n",
       "      <th>is_warehouse_closed</th>\n",
       "      <th>day</th>\n",
       "    </tr>\n",
       "  </thead>\n",
       "  <tbody>\n",
       "    <tr>\n",
       "      <th>20</th>\n",
       "      <td>0x31fe</td>\n",
       "      <td>WH_0x3e9</td>\n",
       "      <td>41.681471</td>\n",
       "      <td>-72.794746</td>\n",
       "      <td>Type_A</td>\n",
       "      <td>2021</td>\n",
       "      <td>5</td>\n",
       "      <td>Yes</td>\n",
       "      <td>No</td>\n",
       "      <td>2</td>\n",
       "    </tr>\n",
       "    <tr>\n",
       "      <th>21</th>\n",
       "      <td>0x31ff</td>\n",
       "      <td>WH_0x3e9</td>\n",
       "      <td>41.681471</td>\n",
       "      <td>-72.794746</td>\n",
       "      <td>Type_B</td>\n",
       "      <td>2021</td>\n",
       "      <td>5</td>\n",
       "      <td>Yes</td>\n",
       "      <td>No</td>\n",
       "      <td>2</td>\n",
       "    </tr>\n",
       "    <tr>\n",
       "      <th>22</th>\n",
       "      <td>0x3ed4</td>\n",
       "      <td>WH_0x3ea</td>\n",
       "      <td>38.749077</td>\n",
       "      <td>-105.183060</td>\n",
       "      <td>Type_A</td>\n",
       "      <td>2021</td>\n",
       "      <td>5</td>\n",
       "      <td>Yes</td>\n",
       "      <td>No</td>\n",
       "      <td>2</td>\n",
       "    </tr>\n",
       "    <tr>\n",
       "      <th>23</th>\n",
       "      <td>0x3ed5</td>\n",
       "      <td>WH_0x3ea</td>\n",
       "      <td>38.749077</td>\n",
       "      <td>-105.183060</td>\n",
       "      <td>Type_B</td>\n",
       "      <td>2021</td>\n",
       "      <td>5</td>\n",
       "      <td>Yes</td>\n",
       "      <td>No</td>\n",
       "      <td>2</td>\n",
       "    </tr>\n",
       "    <tr>\n",
       "      <th>24</th>\n",
       "      <td>0x4a3c</td>\n",
       "      <td>WH_0x3eb</td>\n",
       "      <td>35.678970</td>\n",
       "      <td>-109.067413</td>\n",
       "      <td>Type_A</td>\n",
       "      <td>2021</td>\n",
       "      <td>5</td>\n",
       "      <td>Yes</td>\n",
       "      <td>No</td>\n",
       "      <td>2</td>\n",
       "    </tr>\n",
       "  </tbody>\n",
       "</table>\n",
       "</div>"
      ],
      "text/plain": [
       "        ID warehouse_ID   Latitude   Longitude Product_Type  year  month  \\\n",
       "20  0x31fe     WH_0x3e9  41.681471  -72.794746       Type_A  2021      5   \n",
       "21  0x31ff     WH_0x3e9  41.681471  -72.794746       Type_B  2021      5   \n",
       "22  0x3ed4     WH_0x3ea  38.749077 -105.183060       Type_A  2021      5   \n",
       "23  0x3ed5     WH_0x3ea  38.749077 -105.183060       Type_B  2021      5   \n",
       "24  0x4a3c     WH_0x3eb  35.678970 -109.067413       Type_A  2021      5   \n",
       "\n",
       "   is_weekend is_warehouse_closed  day  \n",
       "20        Yes                  No    2  \n",
       "21        Yes                  No    2  \n",
       "22        Yes                  No    2  \n",
       "23        Yes                  No    2  \n",
       "24        Yes                  No    2  "
      ]
     },
     "execution_count": 305,
     "metadata": {},
     "output_type": "execute_result"
    }
   ],
   "source": [
    "d4.head()"
   ]
  },
  {
   "cell_type": "code",
   "execution_count": 306,
   "metadata": {
    "scrolled": true
   },
   "outputs": [
    {
     "data": {
      "text/plain": [
       "ID                      0\n",
       "warehouse_ID            0\n",
       "Latitude               13\n",
       "Longitude              11\n",
       "Product_Type            0\n",
       "year                    0\n",
       "month                   0\n",
       "is_weekend             20\n",
       "is_warehouse_closed     7\n",
       "day                     0\n",
       "dtype: int64"
      ]
     },
     "execution_count": 306,
     "metadata": {},
     "output_type": "execute_result"
    }
   ],
   "source": [
    "d4.isnull().sum()"
   ]
  },
  {
   "cell_type": "code",
   "execution_count": 307,
   "metadata": {},
   "outputs": [],
   "source": [
    "d4.to_csv('check111.csv')          #Cheking the values in excel"
   ]
  },
  {
   "cell_type": "code",
   "execution_count": 308,
   "metadata": {},
   "outputs": [
    {
     "data": {
      "text/plain": [
       "array([41.681471, 38.749077, 35.67897 , 34.361664, 25.750156, 30.189375,\n",
       "       41.611603, 37.915825, 48.692551, 61.600803,       nan])"
      ]
     },
     "execution_count": 308,
     "metadata": {},
     "output_type": "execute_result"
    }
   ],
   "source": [
    "d4.Latitude.unique()"
   ]
  },
  {
   "cell_type": "code",
   "execution_count": 309,
   "metadata": {},
   "outputs": [
    {
     "data": {
      "text/plain": [
       "array([ -72.794746, -105.18306 , -109.067413,  -86.305595,  -80.27964 ,\n",
       "        -82.648254,  -87.551186,  -89.829262, -116.319862, -149.125259,\n",
       "               nan])"
      ]
     },
     "execution_count": 309,
     "metadata": {},
     "output_type": "execute_result"
    }
   ],
   "source": [
    "d4.Longitude.unique()"
   ]
  },
  {
   "cell_type": "code",
   "execution_count": 310,
   "metadata": {},
   "outputs": [],
   "source": [
    "la = [41.681471, 38.749077, 35.67897 , 34.361664, 25.750156, 30.189375,\n",
    "       41.611603, 37.915825, 48.692551, 61.600803]\n",
    "lo = [-72.794746, -105.18306 , -109.067413,  -86.305595,  -80.27964 ,\n",
    "        -82.648254,  -87.551186,  -89.829262, -116.319862, -149.125259]"
   ]
  },
  {
   "cell_type": "code",
   "execution_count": 311,
   "metadata": {},
   "outputs": [],
   "source": [
    "d4['Latitude'] = d4['Latitude'].fillna(0)\n",
    "d4['Longitude'] = d4['Longitude'].fillna(0)"
   ]
  },
  {
   "cell_type": "code",
   "execution_count": 312,
   "metadata": {
    "scrolled": true
   },
   "outputs": [],
   "source": [
    "l1 = list(d4['Latitude'])\n",
    "l1 = [round(x,6) for x in l1]\n",
    "l2 = list(d4['Longitude'])\n",
    "l2 = [round(x,6) for x in l2]\n"
   ]
  },
  {
   "cell_type": "code",
   "execution_count": 313,
   "metadata": {},
   "outputs": [],
   "source": [
    "for i,j in zip(range(len(l1)), range(len(l2))):\n",
    "    for k,l in zip(range(len(la)),range(len(lo))):\n",
    "        if l1[i] == 0 and l2[j] == lo[l]:\n",
    "            l1[i] = la[k]\n",
    "        elif l1[i] == la[k] and l2[j] == 0:\n",
    "            l2[j] = lo[l]"
   ]
  },
  {
   "cell_type": "code",
   "execution_count": 314,
   "metadata": {},
   "outputs": [],
   "source": [
    "d4['is_weekend'] = 'Yes'"
   ]
  },
  {
   "cell_type": "code",
   "execution_count": 315,
   "metadata": {},
   "outputs": [],
   "source": [
    "d4 = d4.reset_index(drop=True)\n",
    "d4['Latitude'] = pd.DataFrame(l1)\n",
    "d4['Longitude'] = pd.DataFrame(l2)\n"
   ]
  },
  {
   "cell_type": "code",
   "execution_count": 316,
   "metadata": {},
   "outputs": [
    {
     "data": {
      "text/html": [
       "<div>\n",
       "<style scoped>\n",
       "    .dataframe tbody tr th:only-of-type {\n",
       "        vertical-align: middle;\n",
       "    }\n",
       "\n",
       "    .dataframe tbody tr th {\n",
       "        vertical-align: top;\n",
       "    }\n",
       "\n",
       "    .dataframe thead th {\n",
       "        text-align: right;\n",
       "    }\n",
       "</style>\n",
       "<table border=\"1\" class=\"dataframe\">\n",
       "  <thead>\n",
       "    <tr style=\"text-align: right;\">\n",
       "      <th></th>\n",
       "      <th>ID</th>\n",
       "      <th>warehouse_ID</th>\n",
       "      <th>Latitude</th>\n",
       "      <th>Longitude</th>\n",
       "      <th>Product_Type</th>\n",
       "      <th>year</th>\n",
       "      <th>month</th>\n",
       "      <th>is_weekend</th>\n",
       "      <th>is_warehouse_closed</th>\n",
       "      <th>day</th>\n",
       "    </tr>\n",
       "  </thead>\n",
       "  <tbody>\n",
       "    <tr>\n",
       "      <th>0</th>\n",
       "      <td>0x31fe</td>\n",
       "      <td>WH_0x3e9</td>\n",
       "      <td>41.681471</td>\n",
       "      <td>-72.794746</td>\n",
       "      <td>Type_A</td>\n",
       "      <td>2021</td>\n",
       "      <td>5</td>\n",
       "      <td>Yes</td>\n",
       "      <td>No</td>\n",
       "      <td>2</td>\n",
       "    </tr>\n",
       "    <tr>\n",
       "      <th>1</th>\n",
       "      <td>0x31ff</td>\n",
       "      <td>WH_0x3e9</td>\n",
       "      <td>41.681471</td>\n",
       "      <td>-72.794746</td>\n",
       "      <td>Type_B</td>\n",
       "      <td>2021</td>\n",
       "      <td>5</td>\n",
       "      <td>Yes</td>\n",
       "      <td>No</td>\n",
       "      <td>2</td>\n",
       "    </tr>\n",
       "    <tr>\n",
       "      <th>2</th>\n",
       "      <td>0x3ed4</td>\n",
       "      <td>WH_0x3ea</td>\n",
       "      <td>38.749077</td>\n",
       "      <td>-105.183060</td>\n",
       "      <td>Type_A</td>\n",
       "      <td>2021</td>\n",
       "      <td>5</td>\n",
       "      <td>Yes</td>\n",
       "      <td>No</td>\n",
       "      <td>2</td>\n",
       "    </tr>\n",
       "    <tr>\n",
       "      <th>3</th>\n",
       "      <td>0x3ed5</td>\n",
       "      <td>WH_0x3ea</td>\n",
       "      <td>38.749077</td>\n",
       "      <td>-105.183060</td>\n",
       "      <td>Type_B</td>\n",
       "      <td>2021</td>\n",
       "      <td>5</td>\n",
       "      <td>Yes</td>\n",
       "      <td>No</td>\n",
       "      <td>2</td>\n",
       "    </tr>\n",
       "    <tr>\n",
       "      <th>4</th>\n",
       "      <td>0x4a3c</td>\n",
       "      <td>WH_0x3eb</td>\n",
       "      <td>35.678970</td>\n",
       "      <td>-109.067413</td>\n",
       "      <td>Type_A</td>\n",
       "      <td>2021</td>\n",
       "      <td>5</td>\n",
       "      <td>Yes</td>\n",
       "      <td>No</td>\n",
       "      <td>2</td>\n",
       "    </tr>\n",
       "  </tbody>\n",
       "</table>\n",
       "</div>"
      ],
      "text/plain": [
       "       ID warehouse_ID   Latitude   Longitude Product_Type  year  month  \\\n",
       "0  0x31fe     WH_0x3e9  41.681471  -72.794746       Type_A  2021      5   \n",
       "1  0x31ff     WH_0x3e9  41.681471  -72.794746       Type_B  2021      5   \n",
       "2  0x3ed4     WH_0x3ea  38.749077 -105.183060       Type_A  2021      5   \n",
       "3  0x3ed5     WH_0x3ea  38.749077 -105.183060       Type_B  2021      5   \n",
       "4  0x4a3c     WH_0x3eb  35.678970 -109.067413       Type_A  2021      5   \n",
       "\n",
       "  is_weekend is_warehouse_closed  day  \n",
       "0        Yes                  No    2  \n",
       "1        Yes                  No    2  \n",
       "2        Yes                  No    2  \n",
       "3        Yes                  No    2  \n",
       "4        Yes                  No    2  "
      ]
     },
     "execution_count": 316,
     "metadata": {},
     "output_type": "execute_result"
    }
   ],
   "source": [
    "d4.head()"
   ]
  },
  {
   "cell_type": "code",
   "execution_count": 317,
   "metadata": {},
   "outputs": [
    {
     "data": {
      "text/plain": [
       "ID                     0\n",
       "warehouse_ID           0\n",
       "Latitude               0\n",
       "Longitude              0\n",
       "Product_Type           0\n",
       "year                   0\n",
       "month                  0\n",
       "is_weekend             0\n",
       "is_warehouse_closed    7\n",
       "day                    0\n",
       "dtype: int64"
      ]
     },
     "execution_count": 317,
     "metadata": {},
     "output_type": "execute_result"
    }
   ],
   "source": [
    "d4.isnull().sum()"
   ]
  },
  {
   "cell_type": "code",
   "execution_count": 319,
   "metadata": {},
   "outputs": [],
   "source": [
    "d4.to_csv('new_data.csv')"
   ]
  },
  {
   "cell_type": "code",
   "execution_count": 320,
   "metadata": {},
   "outputs": [
    {
     "data": {
      "text/plain": [
       "160"
      ]
     },
     "execution_count": 320,
     "metadata": {},
     "output_type": "execute_result"
    }
   ],
   "source": [
    "len(d4[d4['is_warehouse_closed'] == 'Yes'])"
   ]
  },
  {
   "cell_type": "code",
   "execution_count": 321,
   "metadata": {},
   "outputs": [
    {
     "data": {
      "text/plain": [
       "533"
      ]
     },
     "execution_count": 321,
     "metadata": {},
     "output_type": "execute_result"
    }
   ],
   "source": [
    "len(d4[d4['is_warehouse_closed'] == 'No'])"
   ]
  },
  {
   "cell_type": "markdown",
   "metadata": {},
   "source": [
    "Here, again about 77% of the cases are for the 'Warehouse' not closed in the weekend. This is why, we will set the 7 unknown \n",
    "values to 'No', which is about 1% of the data. This is the 'Mode' filling NaN method that we have already used before.  "
   ]
  },
  {
   "cell_type": "code",
   "execution_count": 322,
   "metadata": {},
   "outputs": [],
   "source": [
    "d4['is_warehouse_closed'] = d4['is_warehouse_closed'].apply(lambda x: 'No' if pd.isnull(x) else x)"
   ]
  },
  {
   "cell_type": "code",
   "execution_count": 323,
   "metadata": {},
   "outputs": [
    {
     "data": {
      "text/plain": [
       "ID                     0\n",
       "warehouse_ID           0\n",
       "Latitude               0\n",
       "Longitude              0\n",
       "Product_Type           0\n",
       "year                   0\n",
       "month                  0\n",
       "is_weekend             0\n",
       "is_warehouse_closed    0\n",
       "day                    0\n",
       "dtype: int64"
      ]
     },
     "execution_count": 323,
     "metadata": {},
     "output_type": "execute_result"
    }
   ],
   "source": [
    "d4.isnull().sum()"
   ]
  },
  {
   "cell_type": "code",
   "execution_count": 325,
   "metadata": {},
   "outputs": [],
   "source": [
    "d5 = d4.copy()\n",
    "d5 = pd.get_dummies(d5,columns=['warehouse_ID', 'is_weekend', 'is_warehouse_closed', 'Product_Type'])"
   ]
  },
  {
   "cell_type": "code",
   "execution_count": 326,
   "metadata": {},
   "outputs": [
    {
     "data": {
      "text/html": [
       "<div>\n",
       "<style scoped>\n",
       "    .dataframe tbody tr th:only-of-type {\n",
       "        vertical-align: middle;\n",
       "    }\n",
       "\n",
       "    .dataframe tbody tr th {\n",
       "        vertical-align: top;\n",
       "    }\n",
       "\n",
       "    .dataframe thead th {\n",
       "        text-align: right;\n",
       "    }\n",
       "</style>\n",
       "<table border=\"1\" class=\"dataframe\">\n",
       "  <thead>\n",
       "    <tr style=\"text-align: right;\">\n",
       "      <th></th>\n",
       "      <th>ID</th>\n",
       "      <th>Latitude</th>\n",
       "      <th>Longitude</th>\n",
       "      <th>year</th>\n",
       "      <th>month</th>\n",
       "      <th>day</th>\n",
       "      <th>warehouse_ID_WH_0x3e9</th>\n",
       "      <th>warehouse_ID_WH_0x3ea</th>\n",
       "      <th>warehouse_ID_WH_0x3eb</th>\n",
       "      <th>warehouse_ID_WH_0x3ec</th>\n",
       "      <th>...</th>\n",
       "      <th>warehouse_ID_WH_0x3ee</th>\n",
       "      <th>warehouse_ID_WH_0x3ef</th>\n",
       "      <th>warehouse_ID_WH_0x3f0</th>\n",
       "      <th>warehouse_ID_WH_0x3f1</th>\n",
       "      <th>warehouse_ID_WH_0x3f2</th>\n",
       "      <th>is_weekend_Yes</th>\n",
       "      <th>is_warehouse_closed_No</th>\n",
       "      <th>is_warehouse_closed_Yes</th>\n",
       "      <th>Product_Type_Type_A</th>\n",
       "      <th>Product_Type_Type_B</th>\n",
       "    </tr>\n",
       "  </thead>\n",
       "  <tbody>\n",
       "    <tr>\n",
       "      <th>0</th>\n",
       "      <td>0x31fe</td>\n",
       "      <td>41.681471</td>\n",
       "      <td>-72.794746</td>\n",
       "      <td>2021</td>\n",
       "      <td>5</td>\n",
       "      <td>2</td>\n",
       "      <td>1</td>\n",
       "      <td>0</td>\n",
       "      <td>0</td>\n",
       "      <td>0</td>\n",
       "      <td>...</td>\n",
       "      <td>0</td>\n",
       "      <td>0</td>\n",
       "      <td>0</td>\n",
       "      <td>0</td>\n",
       "      <td>0</td>\n",
       "      <td>1</td>\n",
       "      <td>1</td>\n",
       "      <td>0</td>\n",
       "      <td>1</td>\n",
       "      <td>0</td>\n",
       "    </tr>\n",
       "    <tr>\n",
       "      <th>1</th>\n",
       "      <td>0x31ff</td>\n",
       "      <td>41.681471</td>\n",
       "      <td>-72.794746</td>\n",
       "      <td>2021</td>\n",
       "      <td>5</td>\n",
       "      <td>2</td>\n",
       "      <td>1</td>\n",
       "      <td>0</td>\n",
       "      <td>0</td>\n",
       "      <td>0</td>\n",
       "      <td>...</td>\n",
       "      <td>0</td>\n",
       "      <td>0</td>\n",
       "      <td>0</td>\n",
       "      <td>0</td>\n",
       "      <td>0</td>\n",
       "      <td>1</td>\n",
       "      <td>1</td>\n",
       "      <td>0</td>\n",
       "      <td>0</td>\n",
       "      <td>1</td>\n",
       "    </tr>\n",
       "    <tr>\n",
       "      <th>2</th>\n",
       "      <td>0x3ed4</td>\n",
       "      <td>38.749077</td>\n",
       "      <td>-105.183060</td>\n",
       "      <td>2021</td>\n",
       "      <td>5</td>\n",
       "      <td>2</td>\n",
       "      <td>0</td>\n",
       "      <td>1</td>\n",
       "      <td>0</td>\n",
       "      <td>0</td>\n",
       "      <td>...</td>\n",
       "      <td>0</td>\n",
       "      <td>0</td>\n",
       "      <td>0</td>\n",
       "      <td>0</td>\n",
       "      <td>0</td>\n",
       "      <td>1</td>\n",
       "      <td>1</td>\n",
       "      <td>0</td>\n",
       "      <td>1</td>\n",
       "      <td>0</td>\n",
       "    </tr>\n",
       "    <tr>\n",
       "      <th>3</th>\n",
       "      <td>0x3ed5</td>\n",
       "      <td>38.749077</td>\n",
       "      <td>-105.183060</td>\n",
       "      <td>2021</td>\n",
       "      <td>5</td>\n",
       "      <td>2</td>\n",
       "      <td>0</td>\n",
       "      <td>1</td>\n",
       "      <td>0</td>\n",
       "      <td>0</td>\n",
       "      <td>...</td>\n",
       "      <td>0</td>\n",
       "      <td>0</td>\n",
       "      <td>0</td>\n",
       "      <td>0</td>\n",
       "      <td>0</td>\n",
       "      <td>1</td>\n",
       "      <td>1</td>\n",
       "      <td>0</td>\n",
       "      <td>0</td>\n",
       "      <td>1</td>\n",
       "    </tr>\n",
       "    <tr>\n",
       "      <th>4</th>\n",
       "      <td>0x4a3c</td>\n",
       "      <td>35.678970</td>\n",
       "      <td>-109.067413</td>\n",
       "      <td>2021</td>\n",
       "      <td>5</td>\n",
       "      <td>2</td>\n",
       "      <td>0</td>\n",
       "      <td>0</td>\n",
       "      <td>1</td>\n",
       "      <td>0</td>\n",
       "      <td>...</td>\n",
       "      <td>0</td>\n",
       "      <td>0</td>\n",
       "      <td>0</td>\n",
       "      <td>0</td>\n",
       "      <td>0</td>\n",
       "      <td>1</td>\n",
       "      <td>1</td>\n",
       "      <td>0</td>\n",
       "      <td>1</td>\n",
       "      <td>0</td>\n",
       "    </tr>\n",
       "  </tbody>\n",
       "</table>\n",
       "<p>5 rows × 21 columns</p>\n",
       "</div>"
      ],
      "text/plain": [
       "       ID   Latitude   Longitude  year  month  day  warehouse_ID_WH_0x3e9  \\\n",
       "0  0x31fe  41.681471  -72.794746  2021      5    2                      1   \n",
       "1  0x31ff  41.681471  -72.794746  2021      5    2                      1   \n",
       "2  0x3ed4  38.749077 -105.183060  2021      5    2                      0   \n",
       "3  0x3ed5  38.749077 -105.183060  2021      5    2                      0   \n",
       "4  0x4a3c  35.678970 -109.067413  2021      5    2                      0   \n",
       "\n",
       "   warehouse_ID_WH_0x3ea  warehouse_ID_WH_0x3eb  warehouse_ID_WH_0x3ec  ...  \\\n",
       "0                      0                      0                      0  ...   \n",
       "1                      0                      0                      0  ...   \n",
       "2                      1                      0                      0  ...   \n",
       "3                      1                      0                      0  ...   \n",
       "4                      0                      1                      0  ...   \n",
       "\n",
       "   warehouse_ID_WH_0x3ee  warehouse_ID_WH_0x3ef  warehouse_ID_WH_0x3f0  \\\n",
       "0                      0                      0                      0   \n",
       "1                      0                      0                      0   \n",
       "2                      0                      0                      0   \n",
       "3                      0                      0                      0   \n",
       "4                      0                      0                      0   \n",
       "\n",
       "   warehouse_ID_WH_0x3f1  warehouse_ID_WH_0x3f2  is_weekend_Yes  \\\n",
       "0                      0                      0               1   \n",
       "1                      0                      0               1   \n",
       "2                      0                      0               1   \n",
       "3                      0                      0               1   \n",
       "4                      0                      0               1   \n",
       "\n",
       "   is_warehouse_closed_No  is_warehouse_closed_Yes  Product_Type_Type_A  \\\n",
       "0                       1                        0                    1   \n",
       "1                       1                        0                    0   \n",
       "2                       1                        0                    1   \n",
       "3                       1                        0                    0   \n",
       "4                       1                        0                    1   \n",
       "\n",
       "   Product_Type_Type_B  \n",
       "0                    0  \n",
       "1                    1  \n",
       "2                    0  \n",
       "3                    1  \n",
       "4                    0  \n",
       "\n",
       "[5 rows x 21 columns]"
      ]
     },
     "execution_count": 326,
     "metadata": {},
     "output_type": "execute_result"
    }
   ],
   "source": [
    "d5.head()"
   ]
  },
  {
   "cell_type": "code",
   "execution_count": 327,
   "metadata": {},
   "outputs": [],
   "source": [
    "d5 = d5.drop('ID',axis=1)"
   ]
  },
  {
   "cell_type": "code",
   "execution_count": 334,
   "metadata": {},
   "outputs": [],
   "source": [
    "forecast = rreg1.predict(d5)"
   ]
  },
  {
   "cell_type": "code",
   "execution_count": 335,
   "metadata": {},
   "outputs": [
    {
     "data": {
      "text/plain": [
       "array([[ 4.14124279, 24.20595371],\n",
       "       [ 1.93296863,  9.12075999],\n",
       "       [ 6.47218442, 42.47365237],\n",
       "       ...,\n",
       "       [ 0.04686155, 11.29254965],\n",
       "       [ 5.78855466, 40.49834774],\n",
       "       [ 0.05013933, 11.12162886]])"
      ]
     },
     "execution_count": 335,
     "metadata": {},
     "output_type": "execute_result"
    }
   ],
   "source": [
    "forecast"
   ]
  },
  {
   "cell_type": "code",
   "execution_count": 339,
   "metadata": {},
   "outputs": [],
   "source": [
    "d6 = pd.DataFrame(forecast)\n",
    "d6.rename(columns={0:'daily_dispatch_count', 1: 'weekly_dispatch_count'},inplace=True)"
   ]
  },
  {
   "cell_type": "code",
   "execution_count": 341,
   "metadata": {},
   "outputs": [],
   "source": [
    "d7 = pd.concat([d4,d6],axis=1)"
   ]
  },
  {
   "cell_type": "code",
   "execution_count": 353,
   "metadata": {},
   "outputs": [],
   "source": [
    "d8 = d7[['ID','weekly_dispatch_count']]"
   ]
  },
  {
   "cell_type": "code",
   "execution_count": 349,
   "metadata": {},
   "outputs": [],
   "source": []
  },
  {
   "cell_type": "code",
   "execution_count": 354,
   "metadata": {
    "scrolled": false
   },
   "outputs": [],
   "source": [
    "d8.to_csv('submission.csv')"
   ]
  },
  {
   "cell_type": "code",
   "execution_count": null,
   "metadata": {},
   "outputs": [],
   "source": []
  }
 ],
 "metadata": {
  "kernelspec": {
   "display_name": "Python 3 (ipykernel)",
   "language": "python",
   "name": "python3"
  },
  "language_info": {
   "codemirror_mode": {
    "name": "ipython",
    "version": 3
   },
   "file_extension": ".py",
   "mimetype": "text/x-python",
   "name": "python",
   "nbconvert_exporter": "python",
   "pygments_lexer": "ipython3",
   "version": "3.7.3"
  }
 },
 "nbformat": 4,
 "nbformat_minor": 2
}

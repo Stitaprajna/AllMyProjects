{
 "cells": [
  {
   "cell_type": "markdown",
   "metadata": {},
   "source": [
    "## Question 1."
   ]
  },
  {
   "cell_type": "markdown",
   "metadata": {},
   "source": [
    "### (i) Considering uncertainties / covariance for both the objects"
   ]
  },
  {
   "cell_type": "markdown",
   "metadata": {},
   "source": [
    "So, here we are given with two position vectors representing the **Primary** & **Secondary** objects respectively and with the **Covariance Matrix** which gives the uncertainties. So, here we will take advantage of the **Linear Algebra**, which gives the direction and projection of Square-Matrix, such that we can decompose our problem into only few dimensions."
   ]
  },
  {
   "cell_type": "markdown",
   "metadata": {},
   "source": [
    "#### Singular Value Decomposition (SVD) & Principal Component Analysis (PCA) of the Covariance Matrix"
   ]
  },
  {
   "cell_type": "code",
   "execution_count": 177,
   "metadata": {
    "scrolled": true
   },
   "outputs": [
    {
     "name": "stdout",
     "output_type": "stream",
     "text": [
      "Eigenvalues of Covariance Matrix of Primary object: [10000.  2500.]\n",
      "Eigenvectors of Covariance Matrix of Primary Object: [[1. 0.]\n",
      " [0. 1.]]\n",
      "Eigenvalues of Covariance Matrix of Secondary Object: [  625. 10000.]\n",
      "Eigenvectors of Covariance Matrix of Secondary Object: [[1. 0.]\n",
      " [0. 1.]]\n"
     ]
    }
   ],
   "source": [
    "import numpy as np\n",
    "p_cm = np.array([[10000,0],[0,2500]]) # Primary object Confusion Matrix\n",
    "s_cm = np.array([[625,0],[0,10000]])  # Secondary object Confusion Matrix\n",
    "eigvalue_p, eigenvec_p = np.linalg.eig(p_cm)\n",
    "eigvalue_s, eigenvec_s = np.linalg.eig(s_cm)\n",
    "print('Eigenvalues of Covariance Matrix of Primary object:',eigvalue_p)\n",
    "print('Eigenvectors of Covariance Matrix of Primary Object:', eigenvec_p)\n",
    "print('Eigenvalues of Covariance Matrix of Secondary Object:', eigvalue_s)\n",
    "print('Eigenvectors of Covariance Matrix of Secondary Object:',eigenvec_s)"
   ]
  },
  {
   "cell_type": "markdown",
   "metadata": {},
   "source": [
    "##### Finding the directions & uncertainties"
   ]
  },
  {
   "cell_type": "markdown",
   "metadata": {},
   "source": [
    "Thus, for both **Primary** and **Secondary** objects we get two direction in which maximum variation occurs. So, instead of considering all other directions, we will exclusively work along these directions. Thus, we decompose our problem into just two directions, which also called **Principal Components**. And, the process is called **Singular Value Decomposition** or **SVD** .Now, if we see carefully the directions are nothing but **x** and **y** axes such that: **y** is $[0,1]^T$ and **x** is $[1,0]^T$. And, the eigenvalues are nothing but the uncertainties or standard deviation about the mean. We, will denote them by $\\sigma_{px}$, $\\sigma_{px}$, $\\sigma_{sx}$, $\\sigma_{sx}$."
   ]
  },
  {
   "cell_type": "markdown",
   "metadata": {},
   "source": [
    "So, finally we get the Standard Deviations as:\n",
    "\n",
    "$2\\sigma_{px} = 10,000$, $2\\sigma_{py} = 2,500$\n",
    "\n",
    "$2\\sigma_{sx} = 625$, $2\\sigma_{sy} = 10,000$"
   ]
  },
  {
   "cell_type": "markdown",
   "metadata": {},
   "source": [
    "** As, discussed above we will focus on the x and y axes. And,as given that the diameter of the objects is $1$ m, so we assume that the **least count** for the position of both of them is $1$ m. Thus, the sample size should be about $200$, so that both the error ellipse can be covered. Certainly, for such a sample size the '**Normal Approximation**' is quite valid and we can proceed with the '**2-Sample Z-test**'.  "
   ]
  },
  {
   "cell_type": "markdown",
   "metadata": {},
   "source": [
    "#### Two-Tailed Two-Sample Z-test\n",
    "\n",
    "##### $1^{st}$ Hypothesis"
   ]
  },
  {
   "cell_type": "markdown",
   "metadata": {},
   "source": [
    "$H_0$: The x-coordinates of Primary and Secondary object coincides.\n",
    "\n",
    "$H_A$: The x-coordinates of Primary and Secondary object differs.\n",
    "\n",
    "$\\alpha = 0.05$"
   ]
  },
  {
   "cell_type": "code",
   "execution_count": 179,
   "metadata": {},
   "outputs": [
    {
     "name": "stdout",
     "output_type": "stream",
     "text": [
      "px = 0.8879709477319754\n"
     ]
    }
   ],
   "source": [
    "import scipy.stats\n",
    "z1 = (200-150)/((5000)**2/200 + (625/2)**2/100)**0.5\n",
    "p_1 = scipy.stats.norm.sf(abs(z1))*2\n",
    "print('px = ' + str(p_1))"
   ]
  },
  {
   "cell_type": "markdown",
   "metadata": {},
   "source": [
    "#### So, the Null hyothesis can't be rejected, that means there is a probablity that x-coordinates can be same for both of them."
   ]
  },
  {
   "cell_type": "markdown",
   "metadata": {},
   "source": [
    "##### $2^{nd}$ Hypothesis"
   ]
  },
  {
   "cell_type": "markdown",
   "metadata": {},
   "source": [
    "$H_0$: The y-coordinates of Primary and Secondary object coincides.\n",
    "\n",
    "$H_A$: The y-coordinates of Primary and Secondary object differs.\n",
    "\n",
    "$\\alpha = 0.05$"
   ]
  },
  {
   "cell_type": "code",
   "execution_count": 180,
   "metadata": {},
   "outputs": [
    {
     "name": "stdout",
     "output_type": "stream",
     "text": [
      "py = 0.893929766752772\n"
     ]
    }
   ],
   "source": [
    "z2 = (150-100)/((5000)**2/200 + (2500/2)**2/100)**0.5\n",
    "p_2 = scipy.stats.norm.sf(abs(z2))*2\n",
    "print('py = ' + str(p_2))"
   ]
  },
  {
   "cell_type": "markdown",
   "metadata": {},
   "source": [
    "#### So, the Null hyothesis can't be rejected, that means there is a probablity that y-coordinates can be same for both of them."
   ]
  },
  {
   "cell_type": "markdown",
   "metadata": {},
   "source": [
    "Total Probability of Collision $=$ $2$ - p$_x$ - p$_y$ $=$ $0.218$"
   ]
  },
  {
   "cell_type": "markdown",
   "metadata": {},
   "source": [
    "### Result:\n",
    "\n",
    "#### This is the probability of not having any 'Type-I error', or it means that the this is probability of having the centres coinciding. And, if the centres coincides the collision occurs. Thus, the probability of collision between the two objects at the following instant is $0.218$. In Appendix its $0.21$."
   ]
  },
  {
   "cell_type": "markdown",
   "metadata": {},
   "source": [
    "### (ii) Considering uncertainties / covariance for the primary object only and secondary object covariance is assumed to be unavailable."
   ]
  },
  {
   "cell_type": "markdown",
   "metadata": {},
   "source": [
    "We will use the same hypothesis that where used in the previous section. This time the sample size will be very different. For the primary object, the sample-size will be $100$ points just because as we are not given the Secondary ellipse and not sure in which side of the ellipse there will be collision. But, we know that its only possible in one of the sides of the Primary ellipse. And, as we are not given the Secondary ellipse, so we can only select a sample size of very small number. Here, we will choose the sample size of $20$ . So, instead of doing a '**Z-Test**', we will prefer a '**t-Test**'."
   ]
  },
  {
   "cell_type": "markdown",
   "metadata": {},
   "source": [
    "#### Two-Sample Two-Tailed t-Test\n",
    "\n",
    "##### $1^{st}$ Hypothesis"
   ]
  },
  {
   "cell_type": "markdown",
   "metadata": {},
   "source": [
    "$H_0$: The x-coordinates of Primary and Secondary object coincides.\n",
    "\n",
    "$H_A$: The x-coordinates of Primary and Secondary object differs.\n",
    "\n",
    "$\\alpha = 0.05$"
   ]
  },
  {
   "cell_type": "code",
   "execution_count": 192,
   "metadata": {},
   "outputs": [
    {
     "name": "stdout",
     "output_type": "stream",
     "text": [
      "px = 0.2699919467774166\n"
     ]
    }
   ],
   "source": [
    "nods = np.array([20,100])\n",
    "total_salary = np.array([200,150])\n",
    "from statsmodels.stats.proportion import proportions_ztest\n",
    "z_score, p_value = ttest_ind(total_salary,nods)\n",
    "print('px =',2*p_value)\n",
    "p1 = 2*p_value"
   ]
  },
  {
   "cell_type": "markdown",
   "metadata": {},
   "source": [
    "#### So, the Null hyothesis can't be rejected, that means there is a probablity that x-coordinates can be same for both of them."
   ]
  },
  {
   "cell_type": "markdown",
   "metadata": {},
   "source": [
    "##### $2^{nd}$ Hypothesis"
   ]
  },
  {
   "cell_type": "markdown",
   "metadata": {},
   "source": [
    "$H_0$: The y-coordinates of Primary and Secondary object coincides.\n",
    "\n",
    "$H_A$: The y-coordinates of Primary and Secondary object differs.\n",
    "\n",
    "$\\alpha = 0.05$"
   ]
  },
  {
   "cell_type": "code",
   "execution_count": 190,
   "metadata": {},
   "outputs": [
    {
     "name": "stdout",
     "output_type": "stream",
     "text": [
      "py = 1.5612365455237216\n"
     ]
    }
   ],
   "source": [
    "nods = np.array([20,100])\n",
    "total_salary = np.array([100,50])\n",
    "from statsmodels.stats.proportion import proportions_ztest\n",
    "z_score, P_value = ttest_ind(total_salary,nods)\n",
    "print('py =',str(2*P_value))\n",
    "p2 = 2*P_value"
   ]
  },
  {
   "cell_type": "markdown",
   "metadata": {},
   "source": [
    "#### So, the Null hyothesis can't be rejected, that means there is a probablity that y-coordinates can be same for both of them."
   ]
  },
  {
   "cell_type": "markdown",
   "metadata": {},
   "source": [
    "Total Probability of Collision $=$ $2$ - p$_x$ - p$_y$ $=$ $0.169$"
   ]
  },
  {
   "cell_type": "markdown",
   "metadata": {},
   "source": [
    "#### Result:\n",
    "\n",
    "#### Thus, the probability of collision is around 0.169, this is not much different from the value of the previous section, where both the uncertainties where given. This is also close to the 'Area Method' in the Appendix that is 0.21."
   ]
  },
  {
   "cell_type": "markdown",
   "metadata": {},
   "source": [
    "### 2. Address and briefly explain the validation strategies for the 2D solution defined above"
   ]
  },
  {
   "cell_type": "markdown",
   "metadata": {},
   "source": [
    "To summerise our steps in the above problem as follows:\n",
    "\n",
    "(i) Finding the **Eigenvalues** and **Eignevectors** of the **Covarience Matrix**, to the get the directions of maximum variation, so that we can decompose our analysis to these directions. This step is crutial because, these are directions in which our object is most likely present. And, the amount of deviation, which are the eigenvalues is called as Uncetainty or Standard Deviation. This method is also called as **Principal Component Analysis (PCA)**.\n",
    "\n",
    "(ii) After decomposing the probelm into specific directions, we did a **Hypothesis-testing** to find if our coordinates along these directions are different or same. If they are same, then there will be collision or else no collision. In Hypothesis-testing we have a test-statistics, based on which we find a p-value, which gives the probability of a **Type-I Error** . But, here we expected our  **Null Hypothesis** is True.\n",
    "\n",
    "(iii) This is the main step, where we have to find the total probability of collision. AS, the sample-size chosen was $>20$, we can do a **Z-test** for better results. Also, we prefer a **Two-Tailed Test** here because we can compare the means either way and get a feasible result. \n",
    "\n",
    "(iv) Then in the scenario where only primary uncertainties we did a **t-test**. This is because, due to uncertain situation for Secondary object, we took only a sample-size of $20$. Thus, **t-test** is the only option when we have high uncertainty. "
   ]
  },
  {
   "cell_type": "markdown",
   "metadata": {},
   "source": [
    "### 3. Briefly explain the process of extending the 2D solution to a 3D case"
   ]
  },
  {
   "cell_type": "markdown",
   "metadata": {},
   "source": [
    "For, a $3$D problem of two objects, we will have three directions, instead of two-directions. Thus, the **Covarience Matrix** will $3$x$3$ of the form:\n",
    "\n",
    "$\\Sigma = \\begin{bmatrix} 2\\sigma_{ix} & 0 & 0 \\\\ 0 & 2\\sigma_{iy} & 0 \\\\ 0 & 0 & 2\\sigma{iz} \\end{bmatrix}$  \n",
    "\n",
    "Eignevalues: $2\\sigma_{ix}$, $2\\sigma_{iy}$, $2\\sigma_{iz}$ \n",
    "\n",
    "Eigenvectors: $[1\\;0 \\; 0]^T$, $[0\\;1 \\; 0]^T$, $[0\\;0 \\; 1]^T$\n",
    "\n",
    "z$_x$ = $\\frac{(\\mu_{px} \\;-\\; \\mu_{sx})}{\\sqrt{\\sigma_{px}^2/n_{px} \\;+\\; \\sigma_{sx}^2/n_{sx}}}$,\n",
    "z$_y$ = $\\frac{(\\mu_{py} \\;-\\; \\mu_{sy})}{\\sqrt{\\sigma_{py}^2/n_{py} \\;+\\; \\sigma_{sy}^2/n_{sy}}}$,\n",
    "z$_z$ = $\\frac{(\\mu_{pz} \\;-\\; \\mu_{sz})}{\\sqrt{\\sigma_{pz}^2/n_{pz} \\;+\\; \\sigma_{sz}^2/n_{sz}}}$"
   ]
  },
  {
   "cell_type": "markdown",
   "metadata": {},
   "source": [
    "We have to choose appropriate sample-size for all the directions denoted by n$_{px}$, n$_{py}$, n$_{pz}$,n$_{sx}$, n$_{sy}$, n$_{sz}$. **Python code** for finding out the **p-values** from all of the known **z-values** for a **2-Tailed Test** according to the sample-size as:\n",
    "\n",
    "p$_x$ $=$ scipy.stats.norm.sf(abs(z$_x$))*$2$\n",
    "\n",
    "p$_y$ $=$ scipy.stats.norm.sf(abs(z$_y$))*$2$\n",
    "\n",
    "p$_z$ $=$ scipy.stats.norm.sf(abs(z$_z$))*$2$"
   ]
  },
  {
   "cell_type": "markdown",
   "metadata": {},
   "source": [
    "Total Probability of Collision $=$ $3$ - p$_{x}$ - p$_{y}$ - p$_{z}$"
   ]
  },
  {
   "cell_type": "markdown",
   "metadata": {},
   "source": [
    "If the **Covariance Matrix** is not Diagonal, then we have to diagonlize it and then proceed these steps."
   ]
  },
  {
   "cell_type": "markdown",
   "metadata": {},
   "source": [
    "## Question 2."
   ]
  },
  {
   "cell_type": "markdown",
   "metadata": {},
   "source": [
    "Lets say if we have an state error of $\\delta_{px}$ w.r.t to **x** and $\\delta_{py}$ w.r.t **y** for the **Primary object** such that:"
   ]
  },
  {
   "cell_type": "markdown",
   "metadata": {},
   "source": [
    "$\\text{p}_{vec} = \\begin{bmatrix} 200 + \\delta_{px}\\\\ 100 + \\delta_{py}\\end{bmatrix} = \\begin{bmatrix} 200 \\\\ 100 \\end{bmatrix} + \\begin{bmatrix}  \\delta_{px}\\\\ \\delta_{py}\\end{bmatrix}$"
   ]
  },
  {
   "cell_type": "markdown",
   "metadata": {},
   "source": [
    "Then, the projection of the this error-state along the Covariance Matrix is:\n",
    "\n",
    "$\\begin{bmatrix}10,000 & 0 \\\\ 0 & 2,500 \\end{bmatrix}.\\begin{bmatrix} \\delta_{px}\\\\ \\delta_{py}\\end{bmatrix} = \\begin{bmatrix} 10000\\delta_{px}\\\\ 2500\\delta_{py}\\end{bmatrix} $"
   ]
  },
  {
   "cell_type": "markdown",
   "metadata": {},
   "source": [
    "So, if the projection is an **Eigenstate** of the **Covariance Matrix**, then we confirm that its a error distribution similar to the **Covariance Matrix**. Still, as we can always decompose the state-error vector along the $x$ and $y$ axes such that:"
   ]
  },
  {
   "cell_type": "markdown",
   "metadata": {},
   "source": [
    "$\\begin{bmatrix} \\delta_{px}\\\\ \\delta_{py}\\end{bmatrix} =  \\delta_{px}\\begin{bmatrix}1\\\\ 0\\end{bmatrix} + \\delta_{py}\\begin{bmatrix} 0\\\\ 1\\end{bmatrix}$"
   ]
  },
  {
   "cell_type": "markdown",
   "metadata": {},
   "source": [
    "Thus, if the non-conformity occurs, then we have to decompose our state-error vector into the basis vectors of the **Covariance Matrix**. And, in this way we expect that the state-error vector is a resultant of the **covariance Matrix's Eigenvectors**.  "
   ]
  },
  {
   "cell_type": "markdown",
   "metadata": {},
   "source": [
    "## Appendix: \n",
    "#### (Extra not included in solution just for reference)"
   ]
  },
  {
   "cell_type": "markdown",
   "metadata": {},
   "source": [
    "### Area of Intersection Method"
   ]
  },
  {
   "cell_type": "markdown",
   "metadata": {},
   "source": [
    "As, geometrically the collision happens only when the particles are present in the intersection region. So, we can gain the total probability of collision by the ratio of **Area of Intersction** of the error-ellipses and the **Total Area**. The **Python code** finding these areas and plotting is: "
   ]
  },
  {
   "cell_type": "code",
   "execution_count": 8,
   "metadata": {},
   "outputs": [],
   "source": [
    "from matplotlib import pyplot as plt\n",
    "from shapely.geometry.point import Point\n",
    "from shapely import affinity\n",
    "from matplotlib.patches import Polygon\n",
    "\n",
    "def create_ellipse(center, lengths, angle=0):\n",
    "    circ = Point(center).buffer(1)\n",
    "    ell = affinity.scale(circ, int(lengths[0]), int(lengths[1]))\n",
    "    ellr = affinity.rotate(ell, angle)\n",
    "    return ellr"
   ]
  },
  {
   "cell_type": "code",
   "execution_count": 9,
   "metadata": {},
   "outputs": [],
   "source": [
    "##first ellipse in blue\n",
    "import numpy as np\n",
    "ellipse1 = create_ellipse((150,150),(50,100),0)\n",
    "verts1 = np.array(ellipse1.exterior.coords.xy)\n",
    "patch1 = Polygon(verts1.T, color = 'blue', alpha = 0.5)"
   ]
  },
  {
   "cell_type": "code",
   "execution_count": 10,
   "metadata": {},
   "outputs": [],
   "source": [
    "##second ellipse in red    \n",
    "ellipse2 = create_ellipse((200,100),(100,50),0)\n",
    "verts2 = np.array(ellipse2.exterior.coords.xy)\n",
    "patch2 = Polygon(verts2.T,color = 'red', alpha = 0.5)"
   ]
  },
  {
   "cell_type": "code",
   "execution_count": 5,
   "metadata": {},
   "outputs": [],
   "source": [
    "##the intersect will be outlined in black\n",
    "intersect = ellipse1.intersection(ellipse2)\n",
    "verts3 = np.array(intersect.exterior.coords.xy)\n",
    "patch3 = Polygon(verts3.T, facecolor = 'none', edgecolor = 'black')"
   ]
  },
  {
   "cell_type": "markdown",
   "metadata": {},
   "source": [
    "$\\text{Probability of Collision} = \\frac{\\text{Area of Intersection between the two objects}}{\\text{Area of Primary Ellipse + Area of Secondary Ellipse}} = 0.21$"
   ]
  },
  {
   "cell_type": "code",
   "execution_count": 6,
   "metadata": {},
   "outputs": [
    {
     "data": {
      "image/png": "[encoded data removed]",
      "text/plain": [
       "<Figure size 720x720 with 1 Axes>"
      ]
     },
     "metadata": {
      "needs_background": "light"
     },
     "output_type": "display_data"
    }
   ],
   "source": [
    "## Plotting the ellipses\n",
    "fig,ax = plt.subplots()\n",
    "ax.set_xlim([50,350])\n",
    "ax.set_ylim([0,300])\n",
    "ax.set_aspect('equal')\n",
    "ax.add_patch(patch1)\n",
    "ax.add_patch(patch2)\n",
    "ax.add_patch(patch3)\n",
    "plt.plot(200,100,'bo', label='Cente of Primary Object: (200,150)')\n",
    "plt.plot(150,150,'ro',label='Cente of Secondary Object: (150,150)')\n",
    "plt.rcParams['figure.figsize'] = [10,10]\n",
    "plt.xlabel('X (m)')\n",
    "plt.ylabel('Y (m)')\n",
    "plt.grid(True)\n",
    "plt.legend()\n",
    "plt.title('Primary and Secondary Objects with their Error-Ellipses')\n",
    "plt.show()"
   ]
  },
  {
   "cell_type": "code",
   "execution_count": null,
   "metadata": {},
   "outputs": [],
   "source": []
  }
 ],
 "metadata": {
  "kernelspec": {
   "display_name": "Python 3 (ipykernel)",
   "language": "python",
   "name": "python3"
  },
  "language_info": {
   "codemirror_mode": {
    "name": "ipython",
    "version": 3
   },
   "file_extension": ".py",
   "mimetype": "text/x-python",
   "name": "python",
   "nbconvert_exporter": "python",
   "pygments_lexer": "ipython3",
   "version": "3.7.3"
  }
 },
 "nbformat": 4,
 "nbformat_minor": 2
}

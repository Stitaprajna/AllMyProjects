{
  "nbformat": 4,
  "nbformat_minor": 0,
  "metadata": {
    "colab": {
      "name": "Fake_News_Classifier.ipynb",
      "provenance": [],
      "collapsed_sections": [],
      "authorship_tag": "ABX9TyO2xsXe48v8IMNUxvPnvb40",
      "include_colab_link": true
    },
    "kernelspec": {
      "name": "python3",
      "display_name": "Python 3"
    },
    "language_info": {
      "name": "python"
    },
    "accelerator": "GPU",
    "gpuClass": "standard"
  },
  "cells": [
    {
      "cell_type": "markdown",
      "metadata": {
        "id": "view-in-github",
        "colab_type": "text"
      },
      "source": [
        "<a href=\"https://colab.research.google.com/github/Stitaprajna/AllMyProjects/blob/main/Fake%20News%20Classifier.ipynb\" target=\"_parent\"><img src=\"https://colab.research.google.com/assets/colab-badge.svg\" alt=\"Open In Colab\"/></a>"
      ]
    },
    {
      "cell_type": "markdown",
      "source": [
        "# Fake News Classifier"
      ],
      "metadata": {
        "id": "IbNkl3vsoA-b"
      }
    },
    {
      "cell_type": "code",
      "source": [
        "import pandas as pd"
      ],
      "metadata": {
        "id": "qRJ2rzfDoLQx"
      },
      "execution_count": 2,
      "outputs": []
    },
    {
      "cell_type": "code",
      "source": [
        "df = pd.read_csv('/content/train.csv',nrows=15000)"
      ],
      "metadata": {
        "id": "Jz2bbb1VIEUc"
      },
      "execution_count": 5,
      "outputs": []
    },
    {
      "cell_type": "code",
      "source": [
        "df.head()"
      ],
      "metadata": {
        "colab": {
          "base_uri": "https://localhost:8080/",
          "height": 206
        },
        "id": "bQDGf4WRIpge",
        "outputId": "6d8091b0-19f2-4f01-f1eb-444c0eb600ac"
      },
      "execution_count": 6,
      "outputs": [
        {
          "output_type": "execute_result",
          "data": {
            "text/plain": [
              "   id                                              title              author  \\\n",
              "0   0  House Dem Aide: We Didn’t Even See Comey’s Let...       Darrell Lucus   \n",
              "1   1  FLYNN: Hillary Clinton, Big Woman on Campus - ...     Daniel J. Flynn   \n",
              "2   2                  Why the Truth Might Get You Fired  Consortiumnews.com   \n",
              "3   3  15 Civilians Killed In Single US Airstrike Hav...     Jessica Purkiss   \n",
              "4   4  Iranian woman jailed for fictional unpublished...      Howard Portnoy   \n",
              "\n",
              "                                                text  label  \n",
              "0  House Dem Aide: We Didn’t Even See Comey’s Let...      1  \n",
              "1  Ever get the feeling your life circles the rou...      0  \n",
              "2  Why the Truth Might Get You Fired October 29, ...      1  \n",
              "3  Videos 15 Civilians Killed In Single US Airstr...      1  \n",
              "4  Print \\nAn Iranian woman has been sentenced to...      1  "
            ],
            "text/html": [
              "\n",
              "  <div id=\"df-97417680-82e4-449e-b411-108e948dd0f4\">\n",
              "    <div class=\"colab-df-container\">\n",
              "      <div>\n",
              "<style scoped>\n",
              "    .dataframe tbody tr th:only-of-type {\n",
              "        vertical-align: middle;\n",
              "    }\n",
              "\n",
              "    .dataframe tbody tr th {\n",
              "        vertical-align: top;\n",
              "    }\n",
              "\n",
              "    .dataframe thead th {\n",
              "        text-align: right;\n",
              "    }\n",
              "</style>\n",
              "<table border=\"1\" class=\"dataframe\">\n",
              "  <thead>\n",
              "    <tr style=\"text-align: right;\">\n",
              "      <th></th>\n",
              "      <th>id</th>\n",
              "      <th>title</th>\n",
              "      <th>author</th>\n",
              "      <th>text</th>\n",
              "      <th>label</th>\n",
              "    </tr>\n",
              "  </thead>\n",
              "  <tbody>\n",
              "    <tr>\n",
              "      <th>0</th>\n",
              "      <td>0</td>\n",
              "      <td>House Dem Aide: We Didn’t Even See Comey’s Let...</td>\n",
              "      <td>Darrell Lucus</td>\n",
              "      <td>House Dem Aide: We Didn’t Even See Comey’s Let...</td>\n",
              "      <td>1</td>\n",
              "    </tr>\n",
              "    <tr>\n",
              "      <th>1</th>\n",
              "      <td>1</td>\n",
              "      <td>FLYNN: Hillary Clinton, Big Woman on Campus - ...</td>\n",
              "      <td>Daniel J. Flynn</td>\n",
              "      <td>Ever get the feeling your life circles the rou...</td>\n",
              "      <td>0</td>\n",
              "    </tr>\n",
              "    <tr>\n",
              "      <th>2</th>\n",
              "      <td>2</td>\n",
              "      <td>Why the Truth Might Get You Fired</td>\n",
              "      <td>Consortiumnews.com</td>\n",
              "      <td>Why the Truth Might Get You Fired October 29, ...</td>\n",
              "      <td>1</td>\n",
              "    </tr>\n",
              "    <tr>\n",
              "      <th>3</th>\n",
              "      <td>3</td>\n",
              "      <td>15 Civilians Killed In Single US Airstrike Hav...</td>\n",
              "      <td>Jessica Purkiss</td>\n",
              "      <td>Videos 15 Civilians Killed In Single US Airstr...</td>\n",
              "      <td>1</td>\n",
              "    </tr>\n",
              "    <tr>\n",
              "      <th>4</th>\n",
              "      <td>4</td>\n",
              "      <td>Iranian woman jailed for fictional unpublished...</td>\n",
              "      <td>Howard Portnoy</td>\n",
              "      <td>Print \\nAn Iranian woman has been sentenced to...</td>\n",
              "      <td>1</td>\n",
              "    </tr>\n",
              "  </tbody>\n",
              "</table>\n",
              "</div>\n",
              "      <button class=\"colab-df-convert\" onclick=\"convertToInteractive('df-97417680-82e4-449e-b411-108e948dd0f4')\"\n",
              "              title=\"Convert this dataframe to an interactive table.\"\n",
              "              style=\"display:none;\">\n",
              "        \n",
              "  <svg xmlns=\"http://www.w3.org/2000/svg\" height=\"24px\"viewBox=\"0 0 24 24\"\n",
              "       width=\"24px\">\n",
              "    <path d=\"M0 0h24v24H0V0z\" fill=\"none\"/>\n",
              "    <path d=\"M18.56 5.44l.94 2.06.94-2.06 2.06-.94-2.06-.94-.94-2.06-.94 2.06-2.06.94zm-11 1L8.5 8.5l.94-2.06 2.06-.94-2.06-.94L8.5 2.5l-.94 2.06-2.06.94zm10 10l.94 2.06.94-2.06 2.06-.94-2.06-.94-.94-2.06-.94 2.06-2.06.94z\"/><path d=\"M17.41 7.96l-1.37-1.37c-.4-.4-.92-.59-1.43-.59-.52 0-1.04.2-1.43.59L10.3 9.45l-7.72 7.72c-.78.78-.78 2.05 0 2.83L4 21.41c.39.39.9.59 1.41.59.51 0 1.02-.2 1.41-.59l7.78-7.78 2.81-2.81c.8-.78.8-2.07 0-2.86zM5.41 20L4 18.59l7.72-7.72 1.47 1.35L5.41 20z\"/>\n",
              "  </svg>\n",
              "      </button>\n",
              "      \n",
              "  <style>\n",
              "    .colab-df-container {\n",
              "      display:flex;\n",
              "      flex-wrap:wrap;\n",
              "      gap: 12px;\n",
              "    }\n",
              "\n",
              "    .colab-df-convert {\n",
              "      background-color: #E8F0FE;\n",
              "      border: none;\n",
              "      border-radius: 50%;\n",
              "      cursor: pointer;\n",
              "      display: none;\n",
              "      fill: #1967D2;\n",
              "      height: 32px;\n",
              "      padding: 0 0 0 0;\n",
              "      width: 32px;\n",
              "    }\n",
              "\n",
              "    .colab-df-convert:hover {\n",
              "      background-color: #E2EBFA;\n",
              "      box-shadow: 0px 1px 2px rgba(60, 64, 67, 0.3), 0px 1px 3px 1px rgba(60, 64, 67, 0.15);\n",
              "      fill: #174EA6;\n",
              "    }\n",
              "\n",
              "    [theme=dark] .colab-df-convert {\n",
              "      background-color: #3B4455;\n",
              "      fill: #D2E3FC;\n",
              "    }\n",
              "\n",
              "    [theme=dark] .colab-df-convert:hover {\n",
              "      background-color: #434B5C;\n",
              "      box-shadow: 0px 1px 3px 1px rgba(0, 0, 0, 0.15);\n",
              "      filter: drop-shadow(0px 1px 2px rgba(0, 0, 0, 0.3));\n",
              "      fill: #FFFFFF;\n",
              "    }\n",
              "  </style>\n",
              "\n",
              "      <script>\n",
              "        const buttonEl =\n",
              "          document.querySelector('#df-97417680-82e4-449e-b411-108e948dd0f4 button.colab-df-convert');\n",
              "        buttonEl.style.display =\n",
              "          google.colab.kernel.accessAllowed ? 'block' : 'none';\n",
              "\n",
              "        async function convertToInteractive(key) {\n",
              "          const element = document.querySelector('#df-97417680-82e4-449e-b411-108e948dd0f4');\n",
              "          const dataTable =\n",
              "            await google.colab.kernel.invokeFunction('convertToInteractive',\n",
              "                                                     [key], {});\n",
              "          if (!dataTable) return;\n",
              "\n",
              "          const docLinkHtml = 'Like what you see? Visit the ' +\n",
              "            '<a target=\"_blank\" href=https://colab.research.google.com/notebooks/data_table.ipynb>data table notebook</a>'\n",
              "            + ' to learn more about interactive tables.';\n",
              "          element.innerHTML = '';\n",
              "          dataTable['output_type'] = 'display_data';\n",
              "          await google.colab.output.renderOutput(dataTable, element);\n",
              "          const docLink = document.createElement('div');\n",
              "          docLink.innerHTML = docLinkHtml;\n",
              "          element.appendChild(docLink);\n",
              "        }\n",
              "      </script>\n",
              "    </div>\n",
              "  </div>\n",
              "  "
            ]
          },
          "metadata": {},
          "execution_count": 6
        }
      ]
    },
    {
      "cell_type": "code",
      "source": [
        "df.isnull().sum()"
      ],
      "metadata": {
        "colab": {
          "base_uri": "https://localhost:8080/"
        },
        "id": "3GPJ3ay3OE7j",
        "outputId": "71badeee-e0ae-4974-c77d-f6e2f4978c30"
      },
      "execution_count": 7,
      "outputs": [
        {
          "output_type": "execute_result",
          "data": {
            "text/plain": [
              "id           0\n",
              "title      394\n",
              "author    1422\n",
              "text        33\n",
              "label        0\n",
              "dtype: int64"
            ]
          },
          "metadata": {},
          "execution_count": 7
        }
      ]
    },
    {
      "cell_type": "code",
      "source": [
        "len(df)"
      ],
      "metadata": {
        "colab": {
          "base_uri": "https://localhost:8080/"
        },
        "id": "aBp2WMbDUTYc",
        "outputId": "224a4c1e-2566-4e1f-f8de-acf7499c91b8"
      },
      "execution_count": 8,
      "outputs": [
        {
          "output_type": "execute_result",
          "data": {
            "text/plain": [
              "15000"
            ]
          },
          "metadata": {},
          "execution_count": 8
        }
      ]
    },
    {
      "cell_type": "code",
      "source": [
        "df.groupby('label')['label'].agg('count')"
      ],
      "metadata": {
        "colab": {
          "base_uri": "https://localhost:8080/"
        },
        "id": "-kJB4dhzHSeo",
        "outputId": "990b53f8-64ea-4c9b-c658-dfe277d0de60"
      },
      "execution_count": 9,
      "outputs": [
        {
          "output_type": "execute_result",
          "data": {
            "text/plain": [
              "label\n",
              "0    7501\n",
              "1    7499\n",
              "Name: label, dtype: int64"
            ]
          },
          "metadata": {},
          "execution_count": 9
        }
      ]
    },
    {
      "cell_type": "code",
      "source": [
        "import seaborn as sn\n",
        "DF = df.copy()\n",
        "replace = {0:'Real',1:'fake'}\n",
        "DF['label'] = DF['label'].replace(replace)\n",
        "sn.displot(DF['label'])"
      ],
      "metadata": {
        "colab": {
          "base_uri": "https://localhost:8080/",
          "height": 386
        },
        "id": "aVV8qUIgItDN",
        "outputId": "f0f2b1e0-b472-41d6-9c16-a19f152bb977"
      },
      "execution_count": 10,
      "outputs": [
        {
          "output_type": "execute_result",
          "data": {
            "text/plain": [
              "<seaborn.axisgrid.FacetGrid at 0x7f82f72ff5d0>"
            ]
          },
          "metadata": {},
          "execution_count": 10
        },
        {
          "output_type": "display_data",
          "data": {
            "text/plain": [
              "<Figure size 360x360 with 1 Axes>"
            ],
            "image/png": "[encoded data removed]"
          },
          "metadata": {
            "needs_background": "light"
          }
        }
      ]
    },
    {
      "cell_type": "markdown",
      "source": [
        "This is definitely not an **imbalanced dataset**, so accuracy metric will be a good measure for evaluation."
      ],
      "metadata": {
        "id": "LjNVO3hOJ0y6"
      }
    },
    {
      "cell_type": "markdown",
      "source": [
        "# Using Multinomail Naive-Bayes & Passive-Aggresive Classifier (ML approach)"
      ],
      "metadata": {
        "id": "ar23ayvW8b4y"
      }
    },
    {
      "cell_type": "code",
      "source": [
        "from sklearn.feature_extraction.text import CountVectorizer, TfidfVectorizer, HashingVectorizer"
      ],
      "metadata": {
        "id": "yxD8lazpUXwN"
      },
      "execution_count": 37,
      "outputs": []
    },
    {
      "cell_type": "code",
      "source": [
        "import nltk\n",
        "import re"
      ],
      "metadata": {
        "id": "4DY_-JjsUdBD"
      },
      "execution_count": 38,
      "outputs": []
    },
    {
      "cell_type": "code",
      "source": [
        "df = df.dropna()"
      ],
      "metadata": {
        "id": "EqwLOn4WUjN9"
      },
      "execution_count": 39,
      "outputs": []
    },
    {
      "cell_type": "code",
      "source": [
        "df.reset_index(inplace=True)"
      ],
      "metadata": {
        "id": "pqGHLvRUUmzX"
      },
      "execution_count": 40,
      "outputs": []
    },
    {
      "cell_type": "code",
      "source": [
        "from nltk.corpus import stopwords\n",
        "from nltk.stem.porter import PorterStemmer"
      ],
      "metadata": {
        "id": "YP6UaM3vUqX6"
      },
      "execution_count": 41,
      "outputs": []
    },
    {
      "cell_type": "code",
      "source": [
        "from nltk.stem import WordNetLemmatizer"
      ],
      "metadata": {
        "id": "8jyO-BQjUuNi"
      },
      "execution_count": 42,
      "outputs": []
    },
    {
      "cell_type": "code",
      "source": [
        "lr = WordNetLemmatizer()\n",
        "ps = PorterStemmer()"
      ],
      "metadata": {
        "id": "5sMW65xEU0zP"
      },
      "execution_count": 43,
      "outputs": []
    },
    {
      "cell_type": "markdown",
      "source": [
        "# (i) Using title as feature"
      ],
      "metadata": {
        "id": "kqjzGh2k77wR"
      }
    },
    {
      "cell_type": "code",
      "source": [
        "import nltk\n",
        "nltk.download('stopwords')\n",
        "corpus = []\n",
        "for i in range(len(df)):\n",
        "    review = re.sub('[^a-zA-Z]', ' ', df['title'][i])\n",
        "    review = review.lower()\n",
        "    review = review.split()\n",
        "    review = [ps.stem(str(word)) for word in review if not word in stopwords.words('english')]\n",
        "    review = ' '.join(review)\n",
        "    corpus.append(review)"
      ],
      "metadata": {
        "id": "6rKDhnlbU_ui",
        "outputId": "084c9462-6491-4b0f-d6e8-198e878b9698",
        "colab": {
          "base_uri": "https://localhost:8080/"
        }
      },
      "execution_count": 45,
      "outputs": [
        {
          "output_type": "stream",
          "name": "stderr",
          "text": [
            "[nltk_data] Downloading package stopwords to /root/nltk_data...\n",
            "[nltk_data]   Unzipping corpora/stopwords.zip.\n"
          ]
        }
      ]
    },
    {
      "cell_type": "code",
      "source": [
        "corpus"
      ],
      "metadata": {
        "id": "nPKNvl6SVobi",
        "outputId": "1e3bc312-2697-4849-8077-de8ee044648b",
        "colab": {
          "base_uri": "https://localhost:8080/"
        }
      },
      "execution_count": 46,
      "outputs": [
        {
          "output_type": "execute_result",
          "data": {
            "text/plain": [
              "['hous dem aid even see comey letter jason chaffetz tweet',\n",
              " 'flynn hillari clinton big woman campu breitbart',\n",
              " 'truth might get fire',\n",
              " 'civilian kill singl us airstrik identifi',\n",
              " 'iranian woman jail fiction unpublish stori woman stone death adulteri',\n",
              " 'jacki mason hollywood would love trump bomb north korea lack tran bathroom exclus video breitbart',\n",
              " 'beno hamon win french socialist parti presidenti nomin new york time',\n",
              " 'back channel plan ukrain russia courtesi trump associ new york time',\n",
              " 'obama organ action partner soro link indivis disrupt trump agenda',\n",
              " 'bbc comedi sketch real housew isi caus outrag',\n",
              " 'russian research discov secret nazi militari base treasur hunter arctic photo',\n",
              " 'us offici see link trump russia',\n",
              " 'ye paid govern troll social media blog forum websit',\n",
              " 'major leagu soccer argentin find home success new york time',\n",
              " 'well fargo chief abruptli step new york time',\n",
              " 'anonym donor pay million releas everyon arrest dakota access pipelin',\n",
              " 'fbi close hillari',\n",
              " 'chuck todd buzzfe donald trump polit favor breitbart',\n",
              " 'monica lewinski clinton sex scandal set american crime stori',\n",
              " 'rob reiner trump mental unstabl breitbart',\n",
              " 'abort pill order rise latin american nation zika alert new york time',\n",
              " 'nuke un histor treati ban nuclear weapon',\n",
              " 'exclus islam state support vow shake west follow manchest terrorist massacr breitbart',\n",
              " 'humili hillari tri hide camera caught min ralli',\n",
              " 'andrea tantaro fox news claim retali sex harass complaint new york time',\n",
              " 'hillari clinton becam hawk new york time',\n",
              " 'chuck todd buzzfe eic publish fake news breitbart',\n",
              " 'bori johnson brexit leader fumbl new york time',\n",
              " 'texa oil field rebound price lull job left behind new york time',\n",
              " 'bayer deal monsanto follow agribusi trend rais worri farmer new york time',\n",
              " 'russia move ban jehovah wit extremist new york time',\n",
              " 'still danger zone januari th',\n",
              " 'open thread u elect',\n",
              " 'democrat gutierrez blame chicago gun violenc nra breitbart',\n",
              " 'avoid peanut avoid allergi bad strategi new york time',\n",
              " 'mri show detail imag week unborn babi breitbart',\n",
              " 'best kind milk dairi',\n",
              " 'ryan locht drop speedo usa retail new york time',\n",
              " 'conserv urg session clean obama civil right divis breitbart',\n",
              " 'intern inquiri seal fate roger ail fox new york time',\n",
              " 'press tv debat duff lebanon hezbollah aoun presid video',\n",
              " 'samsung combust galaxi note unveil new smartphon new york time',\n",
              " 'poland vow referendum migrant quota amidst eu pressur public voic heard breitbart',\n",
              " 'spark inner revolut',\n",
              " 'studi half car crash involv driver distract cell phone breitbart',\n",
              " 'trump elect spark individu collect heal',\n",
              " 'ep fade black jimmi church w laura eisenhow restor balanc video',\n",
              " 'cognit true islam book review',\n",
              " 'donald trump win elect biggest miracl us polit histori',\n",
              " 'mind eat way fight bing new york time',\n",
              " 'major potenti impact corpor tax overhaul new york time',\n",
              " 'wonder glp like day elect',\n",
              " 'maker world smallest machin award nobel prize chemistri new york time',\n",
              " 'massiv anti trump protest union squar nyc live stream',\n",
              " 'review lion bring tear lost boy wipe dri googl new york time',\n",
              " 'u gener islam state chemic attack impact u forc',\n",
              " 'juri find oregon standoff defend guilti feder conspiraci gun charg',\n",
              " 'clinton campaign stun fbi reportedli reopen probe hillari clinton email',\n",
              " 'penc speak anti abort ralli new york time',\n",
              " 'berni sander say media trump gutless polit coward',\n",
              " 'make briquett daili wast',\n",
              " 'treason nyt vow reded report',\n",
              " 'dress like woman mean new york time',\n",
              " 'ella brennan still feed lead new orlean new york time',\n",
              " 'press asia agenda obama tread lightli human right new york time',\n",
              " 'democrat percent chanc retak senat new york time',\n",
              " 'judg spank transgend obsess obama lie redflag news',\n",
              " 'u diplomat urg strike assad syria new york time',\n",
              " 'franken call independ investig trump putin crush breitbart',\n",
              " 'louisiana simon bile u presidenti race tuesday even brief new york time',\n",
              " 'turkey threaten open migrant land passag europ row dutch',\n",
              " 'huma weiner dog hillari',\n",
              " 'colin kaepernick start black panther inspir youth camp wow',\n",
              " 'trump immigr polici explain new york time',\n",
              " 'mari tyler moor mourn dick van dyke star new york time',\n",
              " 'poison',\n",
              " 'trump fan ralli across nation support presid new york time',\n",
              " 'fox biz report help bash clinton ralli cover trump pack event day',\n",
              " 'fiction podcast worth listen new york time',\n",
              " 'mike birbiglia tip make small hollywood anywher new york time',\n",
              " 'invest strategist forecast collaps timelin last gasp econom cycl come',\n",
              " 'venezuela muzzl legislatur move closer one man rule new york time',\n",
              " 'whether john mccain mitt romney donald trump democrat alway run war women tactic destroy republican candid',\n",
              " 'breitbart news daili trump boom breitbart',\n",
              " 'white hous confirm gitmo transfer obama leav offic',\n",
              " 'poll voter heard democrat elect candid breitbart',\n",
              " 'migrant confront judgment day old deport order new york time',\n",
              " 'n u yale su retir plan fee new york time',\n",
              " 'technocraci real reason un want control internet',\n",
              " 'american driver regain appetit ga guzzler new york time',\n",
              " 'hillari clinton build million war chest doubl donald trump new york time',\n",
              " 'trump catch sick report snuck interview priceless respons',\n",
              " 'senat contact russian govern week',\n",
              " 'imag perfectli illustr struggl dakota access pipelin',\n",
              " 'washington state take refuge muslim rest countri take refuge muslim breitbart',\n",
              " 'ncaa big keep watch eye texa bathroom bill breitbart',\n",
              " 'massiv espn financi subscrib loss drag disney first quarter sale breitbart',\n",
              " 'megyn kelli contract set expir next year prime big show new york time',\n",
              " 'teacher suspend allow student hit trump pinata cinco de mayo',\n",
              " 'break trump express concern anthoni weiner illeg access classifi info month ago truthfe',\n",
              " 'snap share leap debut investor doubt valu vanish new york time',\n",
              " 'clinton campaign chair dinner top doj offici one day hillari benghazi hear',\n",
              " 'tv seri first femal mlb pitcher can one low rate season breitbart',\n",
              " 'seek best fit women final four return friday sunday new york time',\n",
              " 'propos canadian nation bird ruffl feather new york time',\n",
              " 'review beyonc make lemonad marit strife new york time',\n",
              " 'trump ask sharp increas militari spend offici say new york time',\n",
              " 'waterg smoke gun email discuss clean obama hillari email',\n",
              " 'chapo trap hous new left wing podcast flagrant rip right stuff',\n",
              " 'taiwan respond china send carrier taiwan strait new york time',\n",
              " 'mother octob surpris hous card come tumbl',\n",
              " 'explos assang pilger interview us elect expect riot hillari win',\n",
              " 'telescop ate astronomi track surpass hubbl new york time',\n",
              " 'close afghan pakistani border becom humanitarian crisi new york time',\n",
              " 'tv anchor arriv white hous lunch donald trump breitbart',\n",
              " 'pelosi republican tell trump bring dishonor presid breitbart',\n",
              " 'beauti prehistor world earth wasteland',\n",
              " 'ignor trump news week learn new york time',\n",
              " 'donald trump unveil plan famili bid women vote new york time',\n",
              " 'montana democrat vote bill ban sharia law call repugn breitbart',\n",
              " 'monsanto tribun go happen',\n",
              " 'offici simon bile world best gymnast new york time',\n",
              " 'liter hurt brain read econom idioci emit trumpkin libertarian',\n",
              " 'u n secretari gener complain mass reject global favor nation',\n",
              " 'trump bollywood ad meant sway indian american voter hilari fail video',\n",
              " 'fbi find previous unseen hillari clinton email weiner laptop',\n",
              " 'year american journalist kill conspiraci theori syria proven fact',\n",
              " 'report illeg alien forego food stamp stay trump radar',\n",
              " 'make netherland great hahaha spread worldwid',\n",
              " 'four kill injur jerusalem truck ram terror attack',\n",
              " 'leader salut comrad newt brutal megyn sic kelli beatdown play game',\n",
              " 'student black colleg got beaten mace protest kkk david duke',\n",
              " 'despit strict gun control one child youth shot everi day ontario',\n",
              " 'rise internet fan bulli new york time',\n",
              " 'newli vibrant washington fear trump drain cultur new york time',\n",
              " 'fed hold interest rate steadi plan slower increas new york time',\n",
              " 'battl unesco',\n",
              " 'latest test white hous pull easter egg roll new york time',\n",
              " 'burlesqu dancer fire investig secret servic trump assassin tweet breitbart',\n",
              " 'clinton haiti',\n",
              " 'cuomo christi parallel path top troubl got new york time',\n",
              " 'top place world allow visit',\n",
              " 'new studi link fluorid consumpt hypothyroid weight gain wors',\n",
              " 'jame matti secretari offens',\n",
              " 'black church burn spray paint vote trump',\n",
              " 'sear agre sell craftsman stanley black amp decker rais cash new york time',\n",
              " 'takata chief execut resign financi pressur mount new york time',\n",
              " 'goodby good black sabbath new york time',\n",
              " 'teen geisha doll gang bust arm robberi breitbart',\n",
              " 'mohamad khwei anoth virginia man palestinian american muslim charg terror',\n",
              " 'price obamacar replac nobodi wors financi breitbart',\n",
              " 'va fail properli examin thousand veteran',\n",
              " 'trump famili alreadi sworn secreci fake moon land soon',\n",
              " 'sport writer nfl great jim brown decad civil right work eras say nice thing donald trump breitbart',\n",
              " 'watch tv excus republican skip donald trump convent new york time',\n",
              " 'open letter trump voter told like',\n",
              " 'comment power corpor lobbi quietli back hillari nobodi talk runsinquicksand',\n",
              " 'hijack end peac libyan airlin land malta new york time',\n",
              " 'like girl girl geniu new york time',\n",
              " 'scientist say canadian bacteria fossil may earth oldest new york time',\n",
              " 'pro govern forc advanc syria amid talk u russia cooper new york time',\n",
              " 'cancer agenc fire withhold carcinogen glyphos document',\n",
              " 'work walk minut work new york time',\n",
              " 'steve harvey talk hous presid elect trump new york time',\n",
              " 'coalit u troop fight mosul offens come fire',\n",
              " 'uk citizen war hero get cheap pre fab hous muslim colon get taxpay fund luxuri council home',\n",
              " 'vet fight war fed demand money back illeg refuge keep money',\n",
              " 'mr trump wild ride new york time',\n",
              " 'fbi director comey bamboozl doj congress clinton',\n",
              " 'food natur unclog arteri prevent heart attack',\n",
              " 'death two state solut',\n",
              " 'comment parent date asleep car cop arriv kill facespac',\n",
              " 'donald trump team show sign post elect moder new york time',\n",
              " 'miami beach tri tame raucou street fishbowl drink stay new york time',\n",
              " 'doctor mysteri found dead summit breakthrough cure cancer',\n",
              " 'donald trump unsink candid new york time',\n",
              " 'shock new mock hillari ad campaign warn take us war enlistforh fightforh dieforh',\n",
              " 'exclus famili slain border patrol agent brian terri say eric holder among real crimin respons',\n",
              " 'trump tell report wall work ask israel breitbart',\n",
              " 'america surviv next year',\n",
              " 'commission start press cleveland indian logo new york time',\n",
              " 'un plan implant everyon biometr id drill',\n",
              " 'trump attack senat credibl gorsuch comment new york time',\n",
              " 'clinton advisor lose leak email hillari illeg activ',\n",
              " 'art laffer paul ryan perfect right breitbart',\n",
              " 'donald trump blame econom crash',\n",
              " 'pokemon go player inadvert stop peopl commit suicid japan',\n",
              " 'california senat race tale divers flail g p new york time',\n",
              " 'exclus sourc say megyn kelli would welcom back fox news',\n",
              " 'break preced obama envoy deni extens past inaugur day new york time',\n",
              " 'brexit vote go monti python may offer clue new york time',\n",
              " 'blind mystic predict bad news trump',\n",
              " 'total vet fail left wing snowden fan girl realiti winner get access nsa secret',\n",
              " 'somalia u escal shadow war new york time',\n",
              " 'free care bless victim orlando nightclub attack new york time',\n",
              " 'durabl democrat counti countri could go trump',\n",
              " 'fed challeng rais rate may existenti new york time',\n",
              " 'russia intent attack anyon absurd say vladimir putin',\n",
              " 'f investig errant flight involv harrison ford new york time',\n",
              " 'fed rais key interest rate cite strengthen economi new york time',\n",
              " 'la expresi n lo siguient ya es la utilizada lo siguient en el castellano',\n",
              " 'trump berat news media new strategi need cover new york time',\n",
              " 'u drone strike target taliban leader new york time',\n",
              " 'u intellig expect al qaeda attack monday new york virginia texa',\n",
              " 'told cannabi great revers alzheim',\n",
              " 'report megyn kelli kick nbc show kardashian famili interview',\n",
              " 'local percent may rich think new york time',\n",
              " 'dr david duke mark collett uk collett explain duke trump victori would chang polit forev',\n",
              " 'statement senat well fargo chief deepli sorri new york time',\n",
              " 'cnn statement distanc network buzzfe fake news dossier breitbart',\n",
              " 'c e ponder new game trump rule new york time',\n",
              " 'spicer bradi stolen jersey anoth bad press breitbart',\n",
              " 'scaredi cat investig peopl enjoy fear new york time',\n",
              " 'left vision',\n",
              " 'showdown loom u question chines deal german chip design new york time',\n",
              " 'trump administr take harder tack trade china new york time',\n",
              " 'pew american trust level feder govern plummet histor low breitbart',\n",
              " 'islam state support former nation guardsman plead guilti terror charg virginia',\n",
              " 'spicer report go rais hand like big boy girl breitbart',\n",
              " 'leader applaud gorsuch confirm win pro life movement',\n",
              " 'newstick',\n",
              " 'french vogu march cover featur transgend model new york time',\n",
              " 'trump veer parti line gun control new york time',\n",
              " 'oligarchi prepar groundwork steal elect',\n",
              " 'ya hay reencuentro de operaci n triunfo que edicion de operaci n triunfo',\n",
              " 'chatsworth hous tale five centuri new york time',\n",
              " 'uncomfort love affair donald trump new england patriot new york time',\n",
              " 'john mccain withdraw support donald trump disclosur record new york time',\n",
              " 'strang unend limbo egypt hosni mubarak new york time',\n",
              " 'poverti rose u hous district obama presid',\n",
              " 'huma abedin seek fbi immun deal',\n",
              " 'singl mom escap friend zone one non date time new york time',\n",
              " 'boe suit futur spaceflight new spacesuit design breitbart',\n",
              " 'trump float oliv branch might keep part health law new york time',\n",
              " 'wapo tri compar elizabeth warren break senat rule milo shut violent riot breitbart',\n",
              " 'crumpl school bu leav chattanooga daze new york time',\n",
              " 'die came back life incred messag human',\n",
              " 'fight nation african american museum new york time',\n",
              " 'father manchest suicid bomber arrest libya breitbart',\n",
              " 'secret true leader',\n",
              " 'muslim demand local walk dog public violat sharia disrespect',\n",
              " 'hillari campaign bed pac staff donat k fbi agent wife investig',\n",
              " 'still tri flip elector colleg block trump win',\n",
              " 'al sharpton dem point appeal archi bunker trump voter breitbart',\n",
              " 'think mani doom sayer trump get offic',\n",
              " 'democrat jump session resign band wagon breitbart',\n",
              " 'alt right architect glenn beck open fire alt right grave threat republ audio tweet',\n",
              " 'politic justic protect hillari',\n",
              " 'north carolina satur surpris reel hurrican matthew new york time',\n",
              " 'live love submit memori new york time',\n",
              " 'achiev mind work medit cushion requir new york time',\n",
              " 'world first zero emiss hydrogen power passeng train unveil germani',\n",
              " 'confus chip credit card get line new york time',\n",
              " 'brook trump side foreign leader us presid israel russia breitbart',\n",
              " 'toxic air home get rid natur',\n",
              " 'connecticut reader report record voter registr inspir trump',\n",
              " 'germani react merkel trump visit could lot wors new york time',\n",
              " 'justin rose outduel henrik stenson golf gold medal new york time',\n",
              " 'iceland water cure new york time',\n",
              " 'shorten l train shutdown month new york time',\n",
              " 'time presid decid new york time',\n",
              " 'u n relief offici call crisi aleppo apex horror new york time',\n",
              " 'berkeley treat violent anti speech left like kkk',\n",
              " 'statist propaganda mani syrian us regim chang kill',\n",
              " 'self help guru jame altuch own thing new york time',\n",
              " 'trump religi liberti order give session major leeway breitbart',\n",
              " 'demoledor amparo contra salgado keiko congresista',\n",
              " 'era trump china presid champion econom global new york time',\n",
              " 'sad saga john walker lindh rebel without clue',\n",
              " 'court disagre michigan vote recount new york time',\n",
              " 'berni sander feud democrat leadership heat new york time',\n",
              " 'shortest power explan trump victori ever seen',\n",
              " 'russia look popul far east wimp need appli new york time',\n",
              " 'johnson amend trump vow destroy explain new york time',\n",
              " 'donald trump march life full support',\n",
              " 'polic offici found dead long island suicid suspect new york time',\n",
              " 'radic chang store world global market readi',\n",
              " 'like make showbiz best friend new york time',\n",
              " 'trump nomin neil gorsuch suprem court new york time',\n",
              " 'bidder cast doubt serious mexican border wall project',\n",
              " 'stake us elect',\n",
              " 'israel approv addit fund settlement west bank new york time',\n",
              " 'tx gov abbott sign legisl could put sheriff sanctuari citi jail breitbart',\n",
              " 'donald trump hold thank ralli cincinnati announc pick defens secretari new york time',\n",
              " 'lawmak look bipartisanship health care new york time',\n",
              " 'insid conserv push state amend constitut new york time',\n",
              " 'donald trump tell n r hillari clinton want let violent crimin go free new york time',\n",
              " 'pope franci trump japan tuesday brief new york time',\n",
              " 'mayorsstand day tout support illeg immigr',\n",
              " 'trump campaign celebr',\n",
              " 'democrat drag jeff session confirm fight breitbart',\n",
              " 'break news podesta brother pedo ring mr trump drain swamp v guerrilla economist',\n",
              " 'la frase destacada del debat de investidura',\n",
              " 'confus jihad hirabah build peac world',\n",
              " 'lazi liber journalist smear bannon',\n",
              " 'australia close detent center manu island still accept asylum seeker new york time',\n",
              " 'politico hillari clinton run breitbart',\n",
              " 'giant lynx make ador sound whenev human rub face',\n",
              " 'minnesota cop found guilti philando castil shoot trial',\n",
              " 'million american kill minut',\n",
              " 'wayn madsen cia alway serv interest wall street',\n",
              " 'novemb daili contrarian read',\n",
              " 'flashback report obama campaign rep talk iran hama',\n",
              " 'lesseroftwoevil',\n",
              " 'aya cash first time ate veget new york time',\n",
              " 'trump advis say isra settlement illeg',\n",
              " 'serena william prevail open problem new york time',\n",
              " 'soul man sam moor honor perform trump inaugur',\n",
              " 'ferrel came back bush destroy trump video',\n",
              " 'chines govern concern tough talk trump cabinet breitbart',\n",
              " 'billionair report seiz hong kong hotel taken china new york time',\n",
              " 'easi know link',\n",
              " 'homebodi find ultim home offic new york time',\n",
              " 'ann coulter unload paul ryan deepli unpopular obamacar bill breitbart',\n",
              " 'transgend bathroom debat turn person vermont high school new york time',\n",
              " 'obama hillari want libya gaddafi toppl kill',\n",
              " 'alert former soro associ warn pro wrong gold silver skyrocket like',\n",
              " 'hillari panick fbi weiner email',\n",
              " 'chaotic minut trump defend fine tune machin new york time',\n",
              " 'one polic shift patrol anxiou america new york time',\n",
              " 'fight ghost fascist aid real one',\n",
              " 'monday even brief brexit abort game throne new york time',\n",
              " 'eu increas brexit bill demand billion billion',\n",
              " 'arianna huffington sleep revolut start home new york time',\n",
              " 'iranian missil accident destroy iranian ship aim syria',\n",
              " 'sonoma counti california vote creat largest gmo free zone america',\n",
              " 'fbi comey wikileak intellig porn journal breitbart',\n",
              " 'clare waight keller name first femal design givenchi new york time',\n",
              " 'realiti face black canadian nation shame',\n",
              " 'top nfl draft prospect caleb brantley charg punch woman face breitbart',\n",
              " 'video pacif crest trail associ lavoy finicim murder',\n",
              " 'life lesson man seen death',\n",
              " 'trump g p work win repeal obama health act new york time',\n",
              " 'atlant goldberg confid trump handl matter life death breitbart',\n",
              " 'orthodox rabbi support trump',\n",
              " 'nuclear tension us russia reach danger point',\n",
              " 'gambia join south africa burundi exodu intern crimin court',\n",
              " 'peyton man golf presid trump sunday',\n",
              " 'obama urg donald trump send signal uniti minor group women new york time',\n",
              " 'like miracl woman give birth use ovari frozen sinc childhood new york time',\n",
              " 'uconn recip success run run run new york time',\n",
              " 'assang final afford opportun give statement rape accus',\n",
              " 'hillari puppet show much hillari care god omiss word',\n",
              " 'stock market gone high problem new york time',\n",
              " 'john kerri reject suggest u involv turkey coup new york time',\n",
              " 'trump aid stephen miller u absolut sovereign right determin cannot enter countri breitbart',\n",
              " 'year old russian girl speak languag',\n",
              " 'power corpor lobbi quietli back hillari nobodi talk',\n",
              " 'maintain sunni spirit face hardship new york time',\n",
              " 'rush limbaugh comey fire epic troll trump dem breitbart',\n",
              " 'twitter sue govern block unmask account critic trump new york time',\n",
              " 'warrior resili home cruis cavali new york time',\n",
              " 'comey letter clinton email subject justic dept inquiri new york time',\n",
              " 'spain malta u uk pressur refus allow russian carrier group refuel port',\n",
              " 'review radiohead moon shape pool patient perfection new york time',\n",
              " 'man militar polic stand rock work',\n",
              " 'woman arrest properti land stolen dapl',\n",
              " 'pulitz prize new york time win daili news propublica share public servic award new york time',\n",
              " 'vanquish wit takeov bush clinton attend donald trump inaugur breitbart',\n",
              " 'specul possibl obama pardon edward snowden bow bergdahl chelsea man breitbart',\n",
              " 'cheesi mash potato soul new york time',\n",
              " 'unprincipl wapo editor damn comey critic join',\n",
              " 'nation wreck immigr civil war brew good swede turn muslim migrant violenc rape murder',\n",
              " 'man shot dead offic crucifix gun polic say new york time',\n",
              " 'exclus rep jim jordan trump first day think great start breitbart',\n",
              " 'haley attack syria one presid finest hour breitbart',\n",
              " 'justin bieber defec ador irish fan hotel window',\n",
              " 'cancer agenc fire withhold carcinogen glyphos document',\n",
              " 'gianno caldwel claim hillari care black vote black live',\n",
              " 'isi use ramadan call new terrorist attack new york time',\n",
              " 'daili show mock mahatma blondi megyn kelli nbc debut',\n",
              " 'health care bill failur part art deal breitbart',\n",
              " 'lewandowski comey liar look sign major book deal breitbart',\n",
              " 'kimberli guilfoyl discuss potenti white hous press secretari job interview',\n",
              " 'clinton campaign chairman john podesta invit occult spirit cook dinner marina abramovi',\n",
              " 'obama coalit crumbl leav open trump new york time',\n",
              " 'pregnanc chang brain way may help mother new york time',\n",
              " 'fema open loan window red cross tri shut shelter',\n",
              " 'gaiaport interweb gaia energet strengthen',\n",
              " 'scarborough trump poop pant call modern art breitbart',\n",
              " 'cook invest time work new york time',\n",
              " 'bad news jackson famili woman leak star sick k sex secret',\n",
              " 'gorsuch london republican parti thursday even brief new york time',\n",
              " 'emma morano last person born die breitbart',\n",
              " 'loserpalooza craziest scene anti trump protest breitbart',\n",
              " 'trump victori mean africa',\n",
              " 'vision life mar earth depth new york time',\n",
              " 'obama cancel talk rodrigo dutert philippin say regret slur new york time',\n",
              " 'new jersey increas ga tax end long polit stalem new york time',\n",
              " 'abc manchest attack like inflam anti islam sentiment breitbart',\n",
              " 'hidden plain sight global depopul agenda',\n",
              " 'job american new york time',\n",
              " 'sander ask obama interven dakota access pipelin disput',\n",
              " 'googl add job section search engin includ employ rate breitbart',\n",
              " 'cri jordan meme die new york time',\n",
              " 'dem rep nchez trump use fear muslim immigr promot polici undermin valu breitbart',\n",
              " 'announc saker commun german saker blog vineyard saker',\n",
              " 'shoot victim famili watch gun measur stall new york time',\n",
              " 'imag reveal crash schiaparelli mar lander',\n",
              " 'grassroot coalit share mani question concern betsi devo senat',\n",
              " 'octob daili contrarian read',\n",
              " 'trump inaugur ball work begin play game breitbart',\n",
              " 'trump choic stephen bannon nod anti washington base new york time',\n",
              " 'media outrag white hous exclus fake news breitbart',\n",
              " 'benni morri unten denial ethnic cleans palestin',\n",
              " 'obama hillari clinton pardon could heal divid nation',\n",
              " 'except handl',\n",
              " 'nota conceptu para la presidencia de rusia',\n",
              " 'respons philippin presid fatal blast rais fear new york time',\n",
              " 'david adjay design museum speak differ languag new york time',\n",
              " 'bulletin righteou jew trump rule ruin gop establish etc item',\n",
              " 'britain reduc terror level one notch sever terror cell arrest',\n",
              " 'mute alon never short kind word friend new york time',\n",
              " 'iranian militari command claim rogu nation send elit fighter infiltr us europ',\n",
              " 'account',\n",
              " 'watch muslim student claim non believ kill islam countri breitbart',\n",
              " 'yemen yet anoth fals flag protect saudi us interest middl east new eastern outlook',\n",
              " 'watch muslim palestinian declar follow prophet muhammad kill christian jew',\n",
              " 'street dog kerala call upon superdog krypto rescu human',\n",
              " 'israel track anti govern journalist facebook',\n",
              " 'new alaska law take first step common core',\n",
              " 'key baylor footbal execut demarko butler fire text scandal breitbart',\n",
              " 'calgari airport arriv yyc',\n",
              " 'georg michael wrestl fame frank sinatra advic new york time',\n",
              " 'sharon old laureat sexual scrutin bodi ode new york time',\n",
              " 'blue collar elect shock liber media',\n",
              " 'die new york time',\n",
              " 'polic fire rubber bullet pipelin protest',\n",
              " 'ann coulter hit suppos gay icon kathi griffin isi crib antic',\n",
              " 'contamin food china enter u organ label',\n",
              " 'ten famou peopl read summer new york time',\n",
              " 'hillari clinton knew year ago anthoni weiner pedophil wikileak',\n",
              " 'million stairway nowher far west side new york time',\n",
              " 'cyber war trifl catastroph inform',\n",
              " 'presid putin ask us stop provok russia',\n",
              " 'inquiri cloud de blasio bid come strong manag race new york time',\n",
              " 'us drone strike afghanistan kill wound sever civilian',\n",
              " 'bobbi hutcherson vibraphonist colorist rang sound die new york time',\n",
              " 'amnesti advoc boycott agenc meet pro american advoc invit breitbart',\n",
              " 'project verita robert creamer illeg foreign wire transfer caught tape',\n",
              " 'ex flotu michel obama trump want feed crap kid',\n",
              " 'south sudan slide closer war gunfir rumbl capit new york time',\n",
              " 'nation mood focu group reflect angri divid america',\n",
              " 'bankrupt puerto rico vote u statehood breitbart',\n",
              " 'overwhelm brexit basic new york time',\n",
              " 'seattl gay mayor accus sexual molest teen breitbart',\n",
              " 'gender fluiditi runway new york time',\n",
              " 'us nato attack putin militari drill russia world war red alert kopya',\n",
              " 'new clinton email came underag sex pest anthoni weiner',\n",
              " 'montana bear attack lesson hope surviv first aid new york time',\n",
              " 'best america new york time',\n",
              " 'pecan step pie plate new york time',\n",
              " 'barack obama plagiar tell word matter breitbart',\n",
              " 'lower back ach activ wait new guidelin say new york time',\n",
              " 'sleep hour peopl die new york time',\n",
              " 'veep season episod littl danc new york time',\n",
              " 'dr oz trump offer placebo transpar new york time',\n",
              " 'comment gold medalist wrestler get violent polic cop choos engag deadli forc buck roger',\n",
              " 'one year water orang counti four day breitbart',\n",
              " 'doctor enemi afghan forc target f hospit new york time',\n",
              " 'year old hebrew mention jerusalem found',\n",
              " 'spirit cook disturb podesta email yet warn graphic content',\n",
              " 'donald trump misstep risk put ceil support swing state new york time',\n",
              " 'green parti margaret flower challeng us senat debat maryland undemocrat',\n",
              " 'offic rescu drown deer pool quick think',\n",
              " 'polic suspect punch armi veteran steal servic dog outsid home bronx breitbart',\n",
              " 'yike megyn kelli receiv rude awaken remind replac',\n",
              " 'iran send elit irgc warfight europ unit state prepar battl',\n",
              " 'hillari endors donald trump presid accord wikileak',\n",
              " 'woodward trump dossier garbag document intellig chief apolog trump breitbart',\n",
              " 'emmi nomin traci morgan emot return saturday night live new york time',\n",
              " 'trump pick mick mulvaney south carolina congressman budget director new york time',\n",
              " 'donald trump el primer president naranja de lo estado unido',\n",
              " 'attorney gener loretta lynch plead fifth',\n",
              " 'russia u missil defens pose deep risk secur asia',\n",
              " 'washington plan b syria realli mean',\n",
              " 'upset brexit british jew look germani new york time',\n",
              " 'girl ask boyfriend give iphon use money buy hous',\n",
              " 'amnesti intern slam obama gov kill civilian syria',\n",
              " 'find flock rural writer book club new york time',\n",
              " 'venezuela crisi enter danger phase maduro foe go milit',\n",
              " 'emigr super bloc part viii quasi legal coup hillari clinton inform oper elect',\n",
              " 'could question ask love one vote way new york time',\n",
              " 'bbc ask realli happen clinton haiti',\n",
              " 'trump pick thoma bossert top counterterror advis new york time',\n",
              " 'come unglu',\n",
              " 'trump jr suspici help arizona woman push stall car use photo op video',\n",
              " 'suicid chicago polic offic skyrocket',\n",
              " 'think suv safe shock video',\n",
              " 'peopl tortur kill sufi muslim shrine pakistan',\n",
              " 'comment architectur clever arrang brick man transform heal process architectur clever arrang brick man transform heal process new earth media',\n",
              " 'hybrid war strategi africa introduct',\n",
              " 'julian assang speak prerecord rt interview',\n",
              " 'watch israel love hollywood actor issu major plea america minut rock elect',\n",
              " 'n l donald trump botch independ day moment new york time',\n",
              " 'exclus congresswoman marsha blackburn say elimin net neutral preserv open internet breitbart',\n",
              " 'attach year round greenhous home',\n",
              " 'sheriff clark obama final day obama like tenant evict properti gonna trash place way door video',\n",
              " 'weird ban women iran',\n",
              " 'end game close clinton deep state turn',\n",
              " 'trump fight chanc establish new eastern outlook',\n",
              " 'trade stanc toward china clinton trump signal chill new york time',\n",
              " 'review secret life pet amus miss opportun new york time',\n",
              " 'first case demonetis relat hiv man unprotect sex atm machin',\n",
              " 'thing need know dakota access pipelin protest',\n",
              " 'koch brother battl prevent dark money disclosur south dakota',\n",
              " 'milo berkeley event evacu mask protest light fire storm venu breitbart',\n",
              " 'authoritarian west demon strong popular leader',\n",
              " 'swedish journo sweden collaps without illeg migrant',\n",
              " 'promis internet career vine dead write newsbiscuit cheer',\n",
              " 'iowa trump voter unfaz controversi new york time',\n",
              " 'radic american grown marxist terror group made announc januari th conserv daili post',\n",
              " 'guardian opinion writer trump bannon count terrorist massacr',\n",
              " 'putin pro trump onlin troll spill bean samantha bee',\n",
              " 'along mosul front line desper civilian dug troop fighter new york time',\n",
              " 'second avenu subway open train delay end happi tear new york time',\n",
              " 'year old cher don see top nippl pasti billboard award',\n",
              " 'report stop nine percent illeg alien border crosser would pay trump border wall breitbart',\n",
              " 'ice union issu final warn voter',\n",
              " 'elit new york polic unit rehears terrorist attack new york time',\n",
              " 'trump hollywood star vandal out shameless new video taunt polic seek',\n",
              " 'california today view san francisco lean tower space new york time',\n",
              " 'matthew trump speech putin say america first hitlerian background breitbart',\n",
              " 'vladimir putin valdai intern discuss club shape world tomorrow vladimir putin',\n",
              " 'chines social media rage unit airlin controversi breitbart',\n",
              " 'america better without border',\n",
              " 'chao terror tie make venezuela direct threat usa former un secur council presid say breitbart',\n",
              " 'rick ross documentari video doubl ad checker new york time',\n",
              " 'oil spill pacif ocean sinc last month total ignor',\n",
              " 'podesta mill go dump email',\n",
              " 'thoughtlessli disbeliev conspiraci theori need read',\n",
              " 'dr david duke dr slatteri expos hillari treason trump duke win',\n",
              " 'russian frigat syrian cost blast terrorist hq cruis missil video',\n",
              " 'hillari clinton like covert action stay covert transcript show new york time',\n",
              " 'us kurdish troop involv invad isi capit raqqa',\n",
              " 'awaken human await fulli script end controversi elect day near',\n",
              " 'georg soro back climat march bring celeb nation mall swelter saturday breitbart',\n",
              " 'edward snowden long strang journey hollywood new york time',\n",
              " 'black trump man belong murder cult',\n",
              " 'bill clinton lover call ruthless hillari warden',\n",
              " 'russia cina e arabia saudita domano l egemonia del dollaro di ariel noyola rodr guez',\n",
              " 'third month india cash shortag begin bite new york time',\n",
              " 'one trump administr posit gain popular go shock breitbart',\n",
              " 'bill clinton said white middl class life expect declin obama year',\n",
              " 'furiou eric holder issu dire warn comey partisan smear',\n",
              " 'memo trump action day',\n",
              " 'chao desper thousand flee aleppo amid govern advanc new york time',\n",
              " 'wildfir empti fort mcmurray alberta oil sand region new york time',\n",
              " 'schumer session investig seem violat recus breitbart',\n",
              " 'amid divis march washington seek bring women togeth new york time',\n",
              " 'zoe saldana trump hollywood got cocki becam arrog bulli',\n",
              " 'anti establish trump plan appoint goldman sach georg soro insid',\n",
              " 'cholesterol drug men gonad',\n",
              " 'trump flynn treat unfair fake media illeg leak breitbart',\n",
              " 'california today virtual realiti investig trayvon martin case new york time',\n",
              " 'nearli decad later apolog lynch georgia new york time',\n",
              " 'marcia clark final moment savor emmi new york time',\n",
              " 'brexit speech theresa may outlin clean break u k new york time',\n",
              " 'man hate black men found victim care other new york time',\n",
              " 'michael flynn fail disclos incom russia link entiti new york time',\n",
              " 'feder judg throw convict c sniper four life sentenc',\n",
              " 'donald trump obama thanksgiv weekend brief new york time',\n",
              " '',\n",
              " 'vine celebr life death app clip',\n",
              " 'squatti potti ceo griffin imag divis disturb decis realli',\n",
              " 'thing let go new year',\n",
              " 'comment polic union post pic hillari arrest facebook dan',\n",
              " 'koch brother secretli alli w georg soro hillari clinton',\n",
              " 'trump expand search secretari state new york time',\n",
              " 'teacher yr old wait trump elect go deport muslim',\n",
              " 'cost choic top concern health insur custom new york time',\n",
              " 'shaq announc plan run sheriff breitbart',\n",
              " 'illeg immigr cross border vote',\n",
              " 'pirat fail take helm iceland pirat parti gain mileag enough steadi ship alon',\n",
              " 'billionair build davo new york time',\n",
              " 'run danger alaskan trail new york time',\n",
              " 'la pel cula de su vida descubr que ha llevado siempr un trozo de lechuga entr lo dient',\n",
              " 'dem win congression basebal game give trophi republican steve scalis breitbart',\n",
              " 'franc present strict gun control paper tiger breitbart',\n",
              " 'china russia silk road commod nixon massiv bull market gold silver',\n",
              " 'troubl quarterback johnni manziel appear shop mall sign autograph next super bowl breitbart',\n",
              " 'bob dylan accus lift part nobel prize speech sparknot',\n",
              " 'blimp crash e coli contamin snakebitten u open wit spectat death breitbart',\n",
              " 'public employe shadow world american carnag',\n",
              " 'espn lz granderson justifi think kaepernick blackbal nobodi sign breitbart',\n",
              " 'prescript painkil death drop state legal marijuana',\n",
              " 'low growth world get new york time',\n",
              " 'istanbul donald trump benjamin netanyahu morn brief new york time',\n",
              " 'hitler hillari',\n",
              " 'dalian wanda hollywood event product new york time',\n",
              " 'comment pm water cooler timmi',\n",
              " 'breakdown clinton money machin',\n",
              " 'california forefront climat fight back trump new york time',\n",
              " 'g e year old softwar start new york time',\n",
              " 'hillari clinton hamilton would enough new york time',\n",
              " 'brain concuss children adult know vaccin damag',\n",
              " 'trump great paul craig robert',\n",
              " 'hillari frantic dirti secret implod get wors prison bombshel',\n",
              " 'rent car know rule road new york time',\n",
              " 'impeach polit brazil someth sinist new york time',\n",
              " 'trump interview moder view defi convent new york time',\n",
              " 'review sweetbitt bright light big citi restaur set new york time',\n",
              " 'gonzaga beat south carolina final four shot anoth first new york time',\n",
              " 'gorka trump interventionist command chief noth chang breitbart',\n",
              " 'thank fbi clinton email investig shift poll number significantli trump favor',\n",
              " 'race class dictat republican futur',\n",
              " 'gorsuch scalia lion law judg look law demand prefer breitbart',\n",
              " 'nc state provid student post elect comfort food therapi',\n",
              " 'iraqi troop push mosul kill across iraq',\n",
              " 'pregnant women turn marijuana perhap harm infant new york time',\n",
              " 'biggest winner loser u presidenti elect',\n",
              " 'trump psychic listen word one year ago look happen',\n",
              " 'mccain trump attack press dictat get start breitbart',\n",
              " 'judgment day one reason everi christian jew america vote donald trump',\n",
              " 'coup stolen elect',\n",
              " '',\n",
              " 'thing need know black dakota access pipelin protest',\n",
              " 'germani iraqi asylum seeker convict rape chines student',\n",
              " 'teenag boy knock classmat assault femal teacher face epic',\n",
              " 'take bring hillari clinton justic',\n",
              " 'ice round crimin alien texa capit',\n",
              " 'elect hate grief new stori',\n",
              " 'hillari question michel obama help',\n",
              " 'keith vaz british lawmak quit senior post amid sex drug scandal new york time',\n",
              " 'comment sunday devot whole univers grain sunday devot whole univers grain fellowship mind kommonsentsjan',\n",
              " 'donald trump syria emperor akihito morn brief new york time',\n",
              " 'hell frozen michel obama made hillari destroy move twitter',\n",
              " 'flynn critic call nuclear scientist miss usa dumb diss femin call health care privileg breitbart',\n",
              " 'hampshir colleg student accus assault basketbal player wear hair braid claim cultur appropri breitbart',\n",
              " 'obamamomet toxic legaci rule lawless',\n",
              " 'simon manuel gold rippl beyond pool new york time',\n",
              " 'vote machin program order steal elect',\n",
              " 'redraw tree life scientist discov new bacteria group stun microbi divers underground',\n",
              " 'trump putin destroy isi',\n",
              " 'photo game camera catch glimps possibl antler buck',\n",
              " 'turkey relat europ sink amid quarrel netherland new york time',\n",
              " 'wikileak document reveal unit nation interest ufo video',\n",
              " 'blue state blue deliber politic intimaci',\n",
              " 'clare hollingworth report broke news world war ii die new york time',\n",
              " 'north miami polic offic shoot man aid patient autism new york time',\n",
              " 'path total dictatorship america shadow govern silent coup',\n",
              " 'effort curb polic abus mix record uncertain futur new york time',\n",
              " 'signal major bottom gold silver',\n",
              " 'hey ho old england embrac punk rock year later new york time',\n",
              " 'cano reek genocid theft white privileg say canadian professor',\n",
              " 'illeg immigr advoc pledg resist deport trump',\n",
              " 'cdc scientist confirm donald trump right vaccin autism',\n",
              " 'breitbart news daili drain swamp breitbart',\n",
              " 'trump media frankenstein monster',\n",
              " 'watch toni romo say goodby dalla cowboy instagram video breitbart',\n",
              " 'global far right conspiraci theori buoy trump new york time',\n",
              " 'georgia father convict murder toddler death hot car new york time',\n",
              " 'richard boll die wrote color parachut new york time',\n",
              " 'stranahan steve bannon nail media fight trump breitbart',\n",
              " 'texa elector expect massiv corrupt relat elector colleg vote',\n",
              " 'guilti power nullif counteract govern tyranni',\n",
              " 'trillion new debt day',\n",
              " 'tori councillor say homeless peopl elimin',\n",
              " 'review hillbilli elegi tough love analysi poor back trump new york time',\n",
              " 'crimin chief',\n",
              " 'govern lie movi',\n",
              " 'trump brexit defeat global anyway',\n",
              " 'face congress sport offici begin confront sexual abus new york time',\n",
              " 'airbnb end fight new york citi fine new york time',\n",
              " 'big pharma martin shkreli suspend twitter breitbart',\n",
              " 'next big tech corridor seattl vancouv planner hope new york time',\n",
              " 'evid robot win race american job new york time',\n",
              " 'see africa road new york time',\n",
              " 'happen hip hop hillari goe dead broke brace',\n",
              " 'bill maher high trump state free speech new era new york time',\n",
              " 'l p g tour donald trump complic new york time',\n",
              " 'legend art cashin trump presid new world order gold brexit great depress see panic',\n",
              " 'fl sheriff day goe arrest lot illeg alien prey peopl breitbart',\n",
              " 'donald trump threaten cancel berkeley feder fund riot shut milo event',\n",
              " '',\n",
              " 'bill herz last war world broadcast crew die new york time',\n",
              " 'gari johnson equat syria death caus assad west new york time',\n",
              " 'republican senat bill defund un anti israel resolut',\n",
              " 'rose evanski pioneer women hairstyl die new york time',\n",
              " 'blackston saudi arabia announc billion invest u infrastructur breitbart',\n",
              " 'satur fat heart diseas greatest scam histori medicin',\n",
              " 'dem sen merkley gorsuch nomin court pack scheme turn nomin breitbart',\n",
              " 'four common mistak burn wood',\n",
              " 'push internet privaci rule move statehous new york time',\n",
              " 'madonna gave surpris pop concert support clinton new york time',\n",
              " 'trump support plan anti trump ralli lack tax reform',\n",
              " 'british healthcar offer glimps futur obamacar',\n",
              " 'trump iranian presid rouhani better care breitbart',\n",
              " 'break sec defens carter attempt fool american public veteran caught red hand',\n",
              " 'putin advis take credit trump victori mayb help bit wikileak',\n",
              " 'warren buffett stake suggest appl grown new york time',\n",
              " 'fbi clinton email investig shift poll number significantli trump favor',\n",
              " 'hillari horrifi pic surfac overnight want',\n",
              " 'paul lepag governor main say quit new york time',\n",
              " 'colorado radio station paul martin interview dave hodg elect fraud stand rock',\n",
              " 'bill clinton want call someth complet ridicul hillari elect',\n",
              " 'son death salli mann stage haunt show new york time',\n",
              " 'trump team link russia crisscross washington new york time',\n",
              " 'north korean arrest kill kim jong un half brother new york time',\n",
              " 'surgeon admit mammographi outdat harm women',\n",
              " 'war street pari arm migrant fight run battl french capit',\n",
              " 'oscar voter meryl streep nomin anti trump speech',\n",
              " 'texa enact anti sharia law',\n",
              " 'chicago polic board chair windi citi need feder help turn tide crime breitbart',\n",
              " 'look beyond novemb th song oligarchi doom',\n",
              " 'neil young celebr st birthday perform stand rock',\n",
              " 'exclus amid paul ryan obamacar push mississippi chri mcdaniel prep potenti senat run breitbart',\n",
              " 'boom short list peopl inspir michel obama',\n",
              " 'artist go boycott grammi face fallout fraught award new york time',\n",
              " 'video idiot destroy trump hollywood star get bad news second later',\n",
              " 'elit want global economi collaps',\n",
              " 'best health benefit sweat',\n",
              " 'senat confirm scott pruitt e p head new york time',\n",
              " 'cricket snake crab mix fact fraud new york subway new york time',\n",
              " 'session potenti deputi face stern test russia inquiri new york time',\n",
              " 'suicid squad top box offic second weekend new york time',\n",
              " 'health insur plan rate hike obamacar exchang breitbart',\n",
              " 'look like someon think democrat ohio full manur',\n",
              " 'syrian war report novemb govt forc relaunch offens oper insid outsid aleppo',\n",
              " 'mysteri solv get hillari clinton get movin twitchi com',\n",
              " 'senat narrowli pass rollback obama era auto r rule new york time',\n",
              " 'cramp costli bay area cri build babi build new york time',\n",
              " 'champion optim obama hail clinton polit heir new york time',\n",
              " 'fiona appl releas trump protest chant new york time',\n",
              " 'susan rice u must integr lgbt right gov foreign polici',\n",
              " 'trump organ move avoid possibl conflict interest new york time',\n",
              " 'sweden brink polic forc push break point violenc amid migrant influx',\n",
              " 'comment hemp vs cotton ultim showdown hemp readdress cannabi kuebiko co',\n",
              " 'jare kushner trump son law clear serv advis new york time',\n",
              " 'fisherman face life prison catch worth cocain sell breitbart',\n",
              " 'step ring roll punch new york time',\n",
              " 'adnan sy serial podcast get retrial murder case new york time',\n",
              " 'scientist say weird signal space probabl alien',\n",
              " 'u swimmer disput robberi claim fuel tension brazil new york time',\n",
              " 'way take self care vacat new york time',\n",
              " 'economist sign letter urg america vote donald trump',\n",
              " 'campaign long expens chaotic mayb good thing new york time',\n",
              " 'alien megastructur star target million seti search',\n",
              " 'brazen kill myanmar lawyer came spar militari new york time',\n",
              " 'jane pauley back new york time',\n",
              " 'deutsch bank consid altern pay cash bonu',\n",
              " 'danni dyer footbal foul up dvd second',\n",
              " 'lack oxford comma could cost main compani million overtim disput new york time',\n",
              " 'european parliament committe consid legal right robot breitbart',\n",
              " 'rex tillerson aggress dealmak whose tie russia may prompt scrutini new york time',\n",
              " 'fbi conduct new investig email clinton privat illeg server',\n",
              " 'heart mine us empir cultur industri',\n",
              " 'report megyn trash trump newt murdoch announc replac avail',\n",
              " 'russian scientist track sea lion space',\n",
              " 'seiz definit popul reuter warn us chao come',\n",
              " 'seaworthi readi earli unveil new york time',\n",
              " 'donald trump add k mcfarland nation secur team new york time',\n",
              " 'snowstorm bring wintri mix slush gripe new york time',\n",
              " 'republican wilder tillerson thursday even brief new york time',\n",
              " 'review bryan cranston shine lyndon johnson way new york time',\n",
              " 'samsung urg consum stop use galaxi note batteri fire new york time',\n",
              " 'elect result discuss presidenti elect open thread',\n",
              " 'ag lynch told fbi director comey go public new clinton email investig',\n",
              " 'donald trump rise white ident polit',\n",
              " 'red blue divid six view america new york time',\n",
              " 'franc identifi nd man attack church kill priest new york time',\n",
              " 'dreamer arrest nationwid gang crackdown',\n",
              " 'maxin water american public get weari trump impeach yet breitbart',\n",
              " 'wwn horoscop',\n",
              " 'deport italian mobster caught sneak across u mexico border',\n",
              " 'leak audio hillari clinton push rig palestin elect',\n",
              " 'iranian saudi proxi struggl tore apart middl east new york time',\n",
              " 'lavrov kerri discuss syrian settlement',\n",
              " 'l influenc de usa et de l otan dan le rapport de l ue avec la chine manlio dinucci',\n",
              " 'open border group gird h b fight',\n",
              " 'weinerg expos darker dirtier secret imagin',\n",
              " 'trump elect break chain polit correct',\n",
              " 'whitehous gov take climat page put america first energi plan breitbart',\n",
              " 'iran warn presid elect trump mess sweetheart nuclear deal obama',\n",
              " 'toni perkin trump eo affirm jefferson doctrin separ church state',\n",
              " 'moon fell heaven',\n",
              " 'mom star launch campaign plan parenthood',\n",
              " 'assad lesson aleppo forc work consequ new york time',\n",
              " 'penc bossert bannon demot continu play import polici role breitbart',\n",
              " 'bundi ranch occupi acquit count challeng corrupt bureau land manag',\n",
              " 'report googl face fine billion eu antitrust case breitbart',\n",
              " 'ask thom york write cover quot book',\n",
              " 'internet flasher',\n",
              " 'gretchen carlson suit aim retali discrimin new york time',\n",
              " 'googl launch ai program detect hate speech breitbart',\n",
              " 'poll show hillari lead useless mislead cartoon',\n",
              " 'last second lane merger good traffic new york time',\n",
              " 'macau skip casino embrac past new york time',\n",
              " 'montreal ungainli unlov christma tree new york time',\n",
              " 'photo jupit nasa spacecraft near far new york time',\n",
              " 'trump labor pick andrew puzder critic minimum wage increas new york time',\n",
              " 'nico rosberg take formula one driver titl despit lewi hamilton win abu dhabi new york time',\n",
              " 'sensori isol tank taught brain new york time',\n",
              " 'chelsea handler botch tweet attack trump grandchild',\n",
              " 'report trump move tax reform plan without speaker paul ryan breitbart',\n",
              " 'ag jeff session unveil program acceler deport imprison illeg breitbart',\n",
              " 'former us attorney dc new hillari email probe result revolt insid fbi',\n",
              " 'keep appear ruin former dalla banker new york time',\n",
              " 'sesam seed knee osteoarthr',\n",
              " 'white cop interact black real life',\n",
              " 'pennsylvania republican push ban privat gun sale breitbart',\n",
              " 'review warcraft orc differ domain fight heart new york time',\n",
              " 'good peopl share bad info need fact check click share',\n",
              " 'charit wed registri new york time',\n",
              " 'nypd raid hillari properti found ruin life usa newsflash',\n",
              " 'feinstein gorsuch originalist doctrin realli troubl origin would allow segreg breitbart',\n",
              " 'confront flare obama travel parti reach china new york time',\n",
              " 'reason appli job trump administr',\n",
              " 'thought silver market rig',\n",
              " 'hear agn martin seren john zorn frenzi music new york time',\n",
              " 'must see welcom famili mani hispan american vote donald trump',\n",
              " 'iraqi forc enter western mosul fierc battl isi new york time',\n",
              " 'european futur putin migrant crisi video',\n",
              " 'roll stone defam case magazin report order pay million new york time',\n",
              " 'hillari sick tire suffer weiner backup',\n",
              " 'taiwan itali joe mcknight friday even brief new york time',\n",
              " 'shiit militia say close tal afar turkey warn limit',\n",
              " 'brother clinton campaign chair activ foreign agent saudi arabian payrol',\n",
              " 'must fight trump goe conserv freedom caucu new york time',\n",
              " 'isi kidnap kill least civilian afghanistan',\n",
              " 'hold hillari account',\n",
              " 'break ted cruz call special prosecutor investig hillari truthfe',\n",
              " 'spare gunman charleston churchgoer describ night terror new york time',\n",
              " 'war satur fat harm peopl poor countri shun tradit fat like coconut oil',\n",
              " 'democrat garland mind mobil suprem court fight new york time',\n",
              " 'comment best kind milk dairi best kind milk dairi collect evolut apg editori',\n",
              " 'harri reid blast comey misconduct drop bombshel fbi sit russian trump info',\n",
              " 'nation review conservat inc plan cave even immigr',\n",
              " 'watch thug call us marin pussi bare live tell tale',\n",
              " 'next us presid psycho lesbian plu break news video',\n",
              " 'critic see effort counti town purg minor voter roll new york time',\n",
              " 'even brief hillari clinton donald trump cultur revolut new york time',\n",
              " 'indiana parent lose babi year live jail abus say never happen',\n",
              " 'roll stone paint blue new album new york time',\n",
              " 'uber extend oliv branch local govern data new york time',\n",
              " 'wilder put dutch first brussel africa asylum seeker',\n",
              " 'donald trump good educ enrich mind soul',\n",
              " 'watch brad pitt play afghanistan war gener war machin teaser breitbart',\n",
              " 'two power earthquak strike central itali',\n",
              " 'indoor garden made easi nutritow',\n",
              " 'elizabeth warren defin sleazi hypocrisi',\n",
              " 'rush limbaugh reilli departur natur campaign breitbart',\n",
              " 'museum truste trump donor support group deni climat chang new york time',\n",
              " 'cecil richard credit plan parenthood support stop ahca breitbart',\n",
              " 'switch chip know anymor',\n",
              " 'u conced million payment iran delay prison leverag new york time',\n",
              " 'australia say foil terrorist plot new york time',\n",
              " 'orovil dam state feder govern share blame',\n",
              " 'daili traditionalist jeff schoep nsm',\n",
              " 'michael moor joe blow vote trump ultim f elit human molotov cocktail',\n",
              " 'jaguar owner shahid khan oppos trump immigr ban new york time',\n",
              " 'anti trump advert side bu realli visual clever see motion',\n",
              " 'piano man mani face stranger stori new york time',\n",
              " 'ticket releas harri potter curs child new york time',\n",
              " 'fbi visit man home film us postal distribut center',\n",
              " 'hispan crowd boo marco rubio stage',\n",
              " 'fire tv report receiv thousand sexual violent threat',\n",
              " 'detain illeg alien end day hunger strike',\n",
              " 'break silenc offic testifi kill walter scott new york time',\n",
              " 'illeg immigr allegedli kill park spot',\n",
              " 'presid trump honor littl sister poor first white hous nat l day prayer year breitbart',\n",
              " 'hillari clinton support call recount vote battleground state',\n",
              " 'hbo scrap jon stewart anim comedi seri',\n",
              " 'sentenc murder rare book dealer',\n",
              " 'latest stock market invest book financi market',\n",
              " 'fashion industri ceo support plan parenthood civic respons',\n",
              " 'anti trump protest paid stage craigslist reveal',\n",
              " 'men exercis put damper sex life new york time',\n",
              " 'bake soda coconut oil kill cancer eye open evid',\n",
              " 'trump cite evid suggest susan rice commit crime new york time',\n",
              " 'breitbart news daili gorsuch scotu breitbart',\n",
              " 'hillari arrest',\n",
              " 'siri open smart lock let neighbor walk hous',\n",
              " 'donald trump michael phelp zika tuesday even brief new york time',\n",
              " 'obama furiou fed deplor drop piec gift',\n",
              " 'l mark year sinc rodney king riot breitbart',\n",
              " 'de facto us al qaeda allianc inform',\n",
              " 'cori booker paul rever moment underway russian come breitbart',\n",
              " 'rapper troy ave shot brooklyn new york time',\n",
              " 'seattl judg ignor jihad convict prior impos refuge reform ban breitbart',\n",
              " 'texa student skip school protest arrest violent crimin',\n",
              " 'trump aid tri reassur europ mani wari new york time',\n",
              " 'china trigger next global recess',\n",
              " 'bomb kill baghdad new york time',\n",
              " 'comment black racism martin wright',\n",
              " 'thank fbi clinton email investig shift poll number significantli trump favor',\n",
              " 'u rescu attempt afghanistan miss western hostag hour new york time',\n",
              " 'rick rule look sprott asset manag client money right',\n",
              " 'farm owner arrest protest dakota access pipelin theft land',\n",
              " 'trump pois lift ban c black site prison new york time',\n",
              " 'tesla musk investig solarc congress',\n",
              " 'ridicul stupid thing men keep women',\n",
              " 'press tv duff un condemn moder terrorist',\n",
              " 'nemesi scourg western world',\n",
              " 'trump budget new foundat american great breitbart',\n",
              " 'exclus islam state support vow terror group retak mosul liber',\n",
              " 'roll thunder motorcyclist return c honor pow mia breitbart',\n",
              " 'interest fun fact stethoscop',\n",
              " 'china seek bigger role world stage xi jinp go davo world econom forum new york time',\n",
              " 'veteran prepar join stand rock protest stop dakota access pipelin',\n",
              " 'photo latin america condemn venezuela excess use forc protest breitbart',\n",
              " 'sugar feed cancer cell may even creat',\n",
              " 'john kerri urg ground militari aircraft key area syria new york time',\n",
              " 'outsid money favor hillari clinton rate donald trump new york time',\n",
              " 'fake news new york time target breitbart report truth breitbart',\n",
              " 'blast new yorker examin psycholog shrapnel new york time',\n",
              " 'resist schwarzenegg call grassroot revolut u exit pari agreement',\n",
              " 'virginia offici request u inquiri inmat death jail new york time',\n",
              " 'report voter fraud crash cours',\n",
              " 'associ press report admit fake news stori hillari clinton',\n",
              " 'review garth brook bring rous anthem ballad yanke stadium new york time',\n",
              " 'sicher trainieren beim spin gilt ab sofort helmpflicht',\n",
              " 'everi asset class collaps need look wealth term mani chicken much ga buy',\n",
              " 'review halt catch fire time travel silicon valley dawn new york time',\n",
              " 'obama use religi test favor muslim christian',\n",
              " 'wingsuit flyer vs tree',\n",
              " 'turkey say airport bomber kyrgyzstan russia uzbekistan new york time',\n",
              " 'turmer power artifici drug',\n",
              " 'facebook caught sell target advertis exclud differ race',\n",
              " 'gatlinburg resid return home wildfir destruct new york time',\n",
              " 'year old girl use human bomb nigeria attack',\n",
              " 'shock berkeley poll california voter want democrat work trump breitbart',\n",
              " 'famili terror attack victim sue twitter provid resourc servic isi breitbart',\n",
              " 'philippin leader vow pardon polic accus mayor death new york time',\n",
              " 'fda found manipul media favor big pharma',\n",
              " 'jay h lehr begin end epa',\n",
              " 'imahdi arriv satan practic leader',\n",
              " 'ag session dem sen harri abl rush fast make nervou breitbart',\n",
              " 'u n envoy say u still back palestinian state new york time',\n",
              " 'trump happen',\n",
              " 'japan vote strengthen shinzo abe goal chang constitut new york time',\n",
              " 'trump camp caught cam brag voter suppress women black video',\n",
              " 'chelsea man ask obama cut sentenc time serv new york time',\n",
              " 'red sox broadcast jerri remi think foreign player use translat',\n",
              " 'shi ite militia join iraq mosul attack',\n",
              " 'escap reign super bowl commerci polit prove inescap new york time',\n",
              " 'naval brief novemb th ledahu',\n",
              " 'scandal video footag anonym expos huma hillari',\n",
              " 'jar new level confront conflict hit washington new york time',\n",
              " 'clinton transmit classifi info lawyer',\n",
              " 'hillari russian hack guid american might trump breitbart',\n",
              " 'gener elect campaign suspend wake manchest suicid bomb',\n",
              " 'grand slam father son film smash hit famili',\n",
              " 'venezuela econom crisi mean left fail',\n",
              " 'herd stamped wild boar kill three islam state jihadist breitbart',\n",
              " 'venu mar believ gender often wrong new york time',\n",
              " 'obama pardon list hotel magnat own studio new york time',\n",
              " 'suspect captur ambush style kill two iowa cop',\n",
              " 'megyn sic kelli gowdi triumphantli comment hillari case reopen',\n",
              " 'famili friendli polici friendliest male professor new york time',\n",
              " 'ringo starr anuncia que deja lo beatl',\n",
              " 'war less immin clinton defeat',\n",
              " 'mi chief present russia grow threat british interest',\n",
              " 'washington state upend trump travel ban new york time',\n",
              " 'protect swerv polic chief caught speed get laugh ticket video',\n",
              " 'fake news trump hit mexico explod',\n",
              " 'go wikileak',\n",
              " 'former cia director blame millenni wikileak document breitbart',\n",
              " 'tell stori slaveri new york time',\n",
              " 'live wire dutch elect high turnout expect controversi turkish mosqu poll centr',\n",
              " 'shave mean freedom omar',\n",
              " 'bombshel leak email expos muslim got obama administr',\n",
              " 'nativ american part ten lost tribe jewish peopl',\n",
              " 'blm rapper bill alleg son nasti surpris hillari',\n",
              " 'kevin durant join golden state warrior new york time',\n",
              " 'indian call center becom major center defraud american breitbart',\n",
              " 'congress attorney gener lynch plead fifth secret iran ransom payment',\n",
              " 'lo angel time editori lose trump narcissist demagogu breitbart',\n",
              " 'swirl untruth falsehood call lie lie new york time',\n",
              " 'hillari clinton lead donald trump new hampshir florida poll show new york time',\n",
              " 'gene wilder huma abedin donald trump monday even brief new york time',\n",
              " 'watch blimp crash catch fire us open breitbart',\n",
              " 'toddler loos gun car mother die new york time',\n",
              " 'asian american actor fight visibl ignor new york time',\n",
              " 'mexican feel environ',\n",
              " 'insid donald trump last stand anxiou nomine seek assur new york time',\n",
              " 'park servic name divers nation landmark new york time',\n",
              " 'weiner rise white hous alli disgrac ex congressman hire breitbart',\n",
              " 'trump lose grab musket former congressman readi go full revolut',\n",
              " 'decod north korea claim success nuclear test new york time',\n",
              " 'bill belichick wit list testifi aaron hernandez doubl murder case breitbart',\n",
              " 'l mayor silent citi rise violent crime breitbart',\n",
              " 'theresa may new british prime minist give bori johnson key post new york time',\n",
              " 'donald trump hillari clinton iphon wednesday even brief new york time',\n",
              " 'usa kill million peopl victim nation sinc world war ii',\n",
              " 'polic offic face backlash hillari photo',\n",
              " 'shakespear remain authent bore',\n",
              " 'georgia candid jon ossoff film firm financ facebook fact check funder',\n",
              " 'effort defeat isi u iran imped one anoth new york time',\n",
              " 'rick put bullet trump wilson potu support see scalis shoot bless breitbart',\n",
              " 'western intellig agenc run al qaeda camp north africa',\n",
              " 'trump tell plan parenthood fund stay abort goe new york time',\n",
              " 'comment hillari clinton gun control agenda expos wikileak email braindiseasecalledliber',\n",
              " 'barack obama delay suspend elect hillari forc new fbi email investig',\n",
              " 'donald trump incit feud g p candid flee shadow new york time',\n",
              " 'germani student forc chant allahu akbar punish refus trip mosqu',\n",
              " 'meteor space junk rocket mysteri flash hit siberia',\n",
              " 'trump nation secur advis call russian envoy day sanction impos new york time',\n",
              " 'project verita implic democrat oper claim credit romney video',\n",
              " 'laid american requir zip lip way grow bolder new york time',\n",
              " ...]"
            ]
          },
          "metadata": {},
          "execution_count": 46
        }
      ]
    },
    {
      "cell_type": "code",
      "source": [
        "cv = CountVectorizer(max_features=5000,ngram_range=(1,3))\n",
        "X = cv.fit_transform(corpus).toarray()"
      ],
      "metadata": {
        "id": "l_IOQUm8WjiN"
      },
      "execution_count": 47,
      "outputs": []
    },
    {
      "cell_type": "code",
      "source": [
        "from sklearn.model_selection import train_test_split\n",
        "y = df.label"
      ],
      "metadata": {
        "id": "X2U-mpsSWv4N"
      },
      "execution_count": 48,
      "outputs": []
    },
    {
      "cell_type": "code",
      "source": [
        "x_train,x_test,y_train,y_test = train_test_split(X,y,test_size=0.3,random_state=0)"
      ],
      "metadata": {
        "id": "O-y17umWWxYH"
      },
      "execution_count": 49,
      "outputs": []
    },
    {
      "cell_type": "code",
      "source": [
        "from sklearn.naive_bayes import MultinomialNB\n",
        "naive_bayes = MultinomialNB()\n",
        "model = naive_bayes.fit(x_train,y_train)"
      ],
      "metadata": {
        "id": "9wEawu7lW1Xj"
      },
      "execution_count": 50,
      "outputs": []
    },
    {
      "cell_type": "code",
      "source": [
        "from sklearn import metrics\n",
        "y_pred = model.predict(x_test)\n",
        "cm = metrics.confusion_matrix(y_test,y_pred)\n",
        "import matplotlib.pyplot as plt\n",
        "import seaborn as sn"
      ],
      "metadata": {
        "id": "2w_jfwzvXbG_"
      },
      "execution_count": 51,
      "outputs": []
    },
    {
      "cell_type": "code",
      "source": [
        "print('Model: Multinomial Naive-Bayes')\n",
        "print('Accuracy:',model.score(x_test,y_test))\n",
        "print('Precision:',precision_score(y_test,y_pred))\n",
        "print('AUC:',roc_auc_score(y_test,y_pred ))\n",
        "sn.heatmap(cm,annot=True,fmt='d')\n",
        "plt.xlabel('Predicted')\n",
        "plt.ylabel('True')\n",
        "plt.show()   "
      ],
      "metadata": {
        "colab": {
          "base_uri": "https://localhost:8080/",
          "height": 348
        },
        "id": "xeT0jRQzX2G2",
        "outputId": "aae57928-bdb1-448b-f61a-a8fc4869de9a"
      },
      "execution_count": 53,
      "outputs": [
        {
          "output_type": "stream",
          "name": "stdout",
          "text": [
            "Model: Multinomial Naive-Bayes\n",
            "Accuracy: 0.9072295247724975\n",
            "Precision: 0.881578947368421\n",
            "AUC: 0.9070708374231409\n"
          ]
        },
        {
          "output_type": "display_data",
          "data": {
            "text/plain": [
              "<Figure size 432x288 with 2 Axes>"
            ],
            "image/png": "[encoded data removed]"
          },
          "metadata": {
            "needs_background": "light"
          }
        }
      ]
    },
    {
      "cell_type": "code",
      "source": [
        "# PassiveAgressiveClassifier\n",
        "from sklearn.linear_model import PassiveAggressiveClassifier\n",
        "Passive_Aggressive_model = PassiveAggressiveClassifier()\n",
        "model12 = Passive_Aggressive_model.fit(x_train,y_train)\n",
        "y_pred_PAC = model12.predict(x_test)\n",
        "CM = metrics.confusion_matrix(y_test, y_pred_PAC)"
      ],
      "metadata": {
        "id": "YuF3JjT-X8Dz"
      },
      "execution_count": 54,
      "outputs": []
    },
    {
      "cell_type": "code",
      "source": [
        "print('Model: Passive-Agressive Classifier')\n",
        "print('Accuracy:',model12.score(x_test,y_test))\n",
        "print('Precision:',precision_score(y_test,y_pred))\n",
        "print('AUC:',roc_auc_score(y_test,y_pred))\n",
        "sn.heatmap(CM,annot=True,fmt='d')\n",
        "plt.xlabel('Predicted')\n",
        "plt.ylabel('True')\n",
        "plt.show()"
      ],
      "metadata": {
        "colab": {
          "base_uri": "https://localhost:8080/",
          "height": 348
        },
        "id": "uClZwkAMYeGi",
        "outputId": "0bd1715d-54d5-4b5d-8740-74e1bbd205b6"
      },
      "execution_count": 55,
      "outputs": [
        {
          "output_type": "stream",
          "name": "stdout",
          "text": [
            "Model: Passive-Agressive Classifier\n",
            "Accuracy: 0.9140546006066734\n",
            "Precision: 0.881578947368421\n",
            "AUC: 0.9070708374231409\n"
          ]
        },
        {
          "output_type": "display_data",
          "data": {
            "text/plain": [
              "<Figure size 432x288 with 2 Axes>"
            ],
            "image/png": "[encoded data removed]"
          },
          "metadata": {
            "needs_background": "light"
          }
        }
      ]
    },
    {
      "cell_type": "markdown",
      "source": [
        "# (ii) Using text as a feature instead of title"
      ],
      "metadata": {
        "id": "ZRXBG70bYshP"
      }
    },
    {
      "cell_type": "code",
      "source": [
        "corpus1 = []\n",
        "for i in range(len(df)):\n",
        "    review = re.sub('[^a-zA-Z]', ' ', df['text'][i])\n",
        "    review = review.lower()\n",
        "    review = review.split()\n",
        "    review = [ps.stem(str(word)) for word in review if not word in stopwords.words('english')]\n",
        "    review = ' '.join(review)\n",
        "    corpus1.append(review)"
      ],
      "metadata": {
        "id": "SZ6YRixjYwX1"
      },
      "execution_count": null,
      "outputs": []
    },
    {
      "cell_type": "code",
      "source": [
        "corpus1"
      ],
      "metadata": {
        "id": "8Pu-4Q0NgtXe"
      },
      "execution_count": null,
      "outputs": []
    },
    {
      "cell_type": "code",
      "source": [
        "cv1 = TfidfVectorizer(max_features=5000,ngram_range=(1,3))"
      ],
      "metadata": {
        "id": "CqVb5Atqg3lV"
      },
      "execution_count": null,
      "outputs": []
    },
    {
      "cell_type": "code",
      "source": [
        "x = cv1.fit_transform(corpus1).toarray()"
      ],
      "metadata": {
        "id": "zUWMMpOaiAyC"
      },
      "execution_count": null,
      "outputs": []
    },
    {
      "cell_type": "code",
      "source": [
        "X_train,X_test,Y_train,Y_test = train_test_split(x,y,test_size=0.3,random_state=0)"
      ],
      "metadata": {
        "id": "Uq48zc2njK1-"
      },
      "execution_count": null,
      "outputs": []
    },
    {
      "cell_type": "code",
      "source": [
        "NB = MultinomialNB()\n",
        "model2= NB.fit(X_train,Y_train)"
      ],
      "metadata": {
        "id": "mWXJWkkkj2je"
      },
      "execution_count": null,
      "outputs": []
    },
    {
      "cell_type": "code",
      "source": [
        "model2.score(X_test,Y_test)"
      ],
      "metadata": {
        "colab": {
          "base_uri": "https://localhost:8080/"
        },
        "id": "siT2qk8Dlzk6",
        "outputId": "47219ea7-7540-4066-88e1-2db4142f926f"
      },
      "execution_count": null,
      "outputs": [
        {
          "output_type": "execute_result",
          "data": {
            "text/plain": [
              "0.9017499088589136"
            ]
          },
          "metadata": {},
          "execution_count": 50
        }
      ]
    },
    {
      "cell_type": "code",
      "source": [
        "Y_pred = model2.predict(X_test)\n",
        "cm = metrics.confusion_matrix(Y_test,Y_pred)"
      ],
      "metadata": {
        "id": "Egpcvv0ZnBP-"
      },
      "execution_count": null,
      "outputs": []
    },
    {
      "cell_type": "code",
      "source": [
        "print('Model: Multinomial Naive-Bayes Classifier')\n",
        "print('Accuracy:',model2.score(X_test,Y_test))\n",
        "sn.heatmap(cm,annot=True,fmt='d')\n",
        "plt.xlabel('Predicted')\n",
        "plt.ylabel('True')\n",
        "plt.show()"
      ],
      "metadata": {
        "colab": {
          "base_uri": "https://localhost:8080/",
          "height": 314
        },
        "id": "ePNEkUkk0rXS",
        "outputId": "652d5b8d-1f1d-4f58-8fba-7f37b89ef959"
      },
      "execution_count": null,
      "outputs": [
        {
          "output_type": "stream",
          "name": "stdout",
          "text": [
            "Model: Multinomial Naive-Bayes Classifier\n",
            "Accuracy: 0.9017499088589136\n"
          ]
        },
        {
          "output_type": "display_data",
          "data": {
            "text/plain": [
              "<Figure size 432x288 with 2 Axes>"
            ],
            "image/png": "[encoded data removed]"
          },
          "metadata": {
            "needs_background": "light"
          }
        }
      ]
    },
    {
      "cell_type": "code",
      "source": [
        "# PassiveAgressiveClassifier\n",
        "Passive_Aggressive_model = PassiveAggressiveClassifier()\n",
        "model22 = Passive_Aggressive_model.fit(X_train,Y_train)\n",
        "Y_preD = model22.predict(X_test)\n",
        "CM1 = metrics.confusion_matrix(Y_test, Y_preD)"
      ],
      "metadata": {
        "id": "TWEuwa3e2V94"
      },
      "execution_count": null,
      "outputs": []
    },
    {
      "cell_type": "code",
      "source": [
        "print('Model: Passive-Agressive Classfier')\n",
        "print('Accuracy:',model22.score(X_test,Y_test))\n",
        "sn.heatmap(CM1,annot=True,fmt='d')\n",
        "plt.xlabel('Predicted')\n",
        "plt.ylabel('True')\n",
        "plt.show()"
      ],
      "metadata": {
        "colab": {
          "base_uri": "https://localhost:8080/",
          "height": 314
        },
        "id": "q8XJDA3e-aw6",
        "outputId": "172cfd33-3af5-47a6-d9f3-e6e2b36b987e"
      },
      "execution_count": null,
      "outputs": [
        {
          "output_type": "stream",
          "name": "stdout",
          "text": [
            "Model: Passive-Agressive Classfier\n",
            "Accuracy: 0.949690120306234\n"
          ]
        },
        {
          "output_type": "display_data",
          "data": {
            "text/plain": [
              "<Figure size 432x288 with 2 Axes>"
            ],
            "image/png": "[encoded data removed]"
          },
          "metadata": {
            "needs_background": "light"
          }
        }
      ]
    },
    {
      "cell_type": "markdown",
      "source": [
        "# Using LSTM & Bi-Directional Neural Networks (Deep Learning)"
      ],
      "metadata": {
        "id": "zeN1W_hRlB36"
      }
    },
    {
      "cell_type": "code",
      "source": [
        "y_f = df.label"
      ],
      "metadata": {
        "id": "vxI7IGBmnxcU"
      },
      "execution_count": null,
      "outputs": []
    },
    {
      "cell_type": "code",
      "source": [
        "y_f.shape"
      ],
      "metadata": {
        "colab": {
          "base_uri": "https://localhost:8080/"
        },
        "id": "S_5po9ESunk4",
        "outputId": "43bf3676-ea02-4a81-b428-e94a318bbfa3"
      },
      "execution_count": null,
      "outputs": [
        {
          "output_type": "execute_result",
          "data": {
            "text/plain": [
              "(18285,)"
            ]
          },
          "metadata": {},
          "execution_count": 83
        }
      ]
    },
    {
      "cell_type": "code",
      "source": [
        "from tensorflow.keras.layers import Embedding, LSTM, Dense\n",
        "from tensorflow.keras.preprocessing.sequence import pad_sequences\n",
        "from tensorflow.keras.models import Sequential\n",
        "from tensorflow.keras.preprocessing.text import one_hot"
      ],
      "metadata": {
        "id": "C81B4lRUuqEE"
      },
      "execution_count": null,
      "outputs": []
    },
    {
      "cell_type": "markdown",
      "source": [
        "#(i) Using title for training the model"
      ],
      "metadata": {
        "id": "sF4wNKxcJD0r"
      }
    },
    {
      "cell_type": "code",
      "source": [
        "voc_size=5000"
      ],
      "metadata": {
        "id": "3_MRogXZzEAR"
      },
      "execution_count": null,
      "outputs": []
    },
    {
      "cell_type": "code",
      "source": [
        "one_hot_rep = [one_hot(words,voc_size) for words in corpus] "
      ],
      "metadata": {
        "id": "pNXpgS1V0Dq8"
      },
      "execution_count": null,
      "outputs": []
    },
    {
      "cell_type": "code",
      "source": [
        "one_hot_rep"
      ],
      "metadata": {
        "id": "sCwc6GoC6W4-"
      },
      "execution_count": null,
      "outputs": []
    },
    {
      "cell_type": "code",
      "source": [
        "sent_length = 20\n",
        "embedded_docs = pad_sequences(one_hot_rep, padding = 'pre', maxlen=sent_length)"
      ],
      "metadata": {
        "id": "geOBenxK6uSb"
      },
      "execution_count": null,
      "outputs": []
    },
    {
      "cell_type": "code",
      "source": [
        "embedded_docs"
      ],
      "metadata": {
        "colab": {
          "base_uri": "https://localhost:8080/"
        },
        "id": "r_NFwd48-apX",
        "outputId": "07e2f681-740e-44cc-c51b-5ecebcefdb82"
      },
      "execution_count": null,
      "outputs": [
        {
          "output_type": "execute_result",
          "data": {
            "text/plain": [
              "array([[   0,    0,    0, ...,  126,  268,  705],\n",
              "       [   0,    0,    0, ..., 1928, 4837, 3523],\n",
              "       [   0,    0,    0, ..., 1551, 1963, 2393],\n",
              "       ...,\n",
              "       [   0,    0,    0, ..., 3362, 3506,  142],\n",
              "       [   0,    0,    0, ...,  392, 2168, 4031],\n",
              "       [   0,    0,    0, ..., 2853, 4167,  348]], dtype=int32)"
            ]
          },
          "metadata": {},
          "execution_count": 86
        }
      ]
    },
    {
      "cell_type": "code",
      "source": [
        "embedding_vec_features = 40"
      ],
      "metadata": {
        "id": "CKcLX-ph-ozR"
      },
      "execution_count": null,
      "outputs": []
    },
    {
      "cell_type": "code",
      "source": [
        "# LSTM\n",
        "model = Sequential()\n",
        "model.add(Embedding(voc_size,embedding_vec_features,input_length=sent_length))\n",
        "model.add(LSTM(100))\n",
        "model.add(Dense(1, activation='tanh'))\n",
        "model.compile(loss='binary_crossentropy', optimizer='adam',metrics=['accuracy'])"
      ],
      "metadata": {
        "id": "_VsUehq_EAr3"
      },
      "execution_count": null,
      "outputs": []
    },
    {
      "cell_type": "code",
      "source": [
        "model.summary()"
      ],
      "metadata": {
        "colab": {
          "base_uri": "https://localhost:8080/"
        },
        "id": "ugzAg67qKbfk",
        "outputId": "c6510dc0-d72d-403e-eae1-2a83b4d426ba"
      },
      "execution_count": null,
      "outputs": [
        {
          "output_type": "stream",
          "name": "stdout",
          "text": [
            "Model: \"sequential_1\"\n",
            "_________________________________________________________________\n",
            " Layer (type)                Output Shape              Param #   \n",
            "=================================================================\n",
            " embedding_1 (Embedding)     (None, 20, 40)            200000    \n",
            "                                                                 \n",
            " lstm_1 (LSTM)               (None, 100)               56400     \n",
            "                                                                 \n",
            " dense_1 (Dense)             (None, 1)                 101       \n",
            "                                                                 \n",
            "=================================================================\n",
            "Total params: 256,501\n",
            "Trainable params: 256,501\n",
            "Non-trainable params: 0\n",
            "_________________________________________________________________\n"
          ]
        }
      ]
    },
    {
      "cell_type": "code",
      "source": [
        "import numpy as np\n",
        "x_final = np.array(embedded_docs)\n",
        "y_final = np.array(y_f)"
      ],
      "metadata": {
        "id": "wquMcxm9Kfmi"
      },
      "execution_count": null,
      "outputs": []
    },
    {
      "cell_type": "code",
      "source": [
        "xf_train,xf_test,yf_train,yf_test = train_test_split(x_final,y_final,test_size=0.3,random_state=0)"
      ],
      "metadata": {
        "id": "96-xgw9UM_ra"
      },
      "execution_count": null,
      "outputs": []
    },
    {
      "cell_type": "code",
      "source": [
        "model.fit(xf_train,yf_train,validation_data=(xf_test,yf_test),epochs=10,batch_size=64)"
      ],
      "metadata": {
        "colab": {
          "base_uri": "https://localhost:8080/"
        },
        "id": "EvlcarKvOGk3",
        "outputId": "8ae686ce-ecf5-4dca-e587-59626a69d805"
      },
      "execution_count": null,
      "outputs": [
        {
          "output_type": "stream",
          "name": "stdout",
          "text": [
            "Epoch 1/10\n",
            "200/200 [==============================] - 11s 42ms/step - loss: 0.3808 - accuracy: 0.8270 - val_loss: 0.1973 - val_accuracy: 0.9169\n",
            "Epoch 2/10\n",
            "200/200 [==============================] - 7s 34ms/step - loss: 0.1559 - accuracy: 0.9421 - val_loss: 1.0047 - val_accuracy: 0.6983\n",
            "Epoch 3/10\n",
            "200/200 [==============================] - 7s 35ms/step - loss: 0.1357 - accuracy: 0.9509 - val_loss: 0.2653 - val_accuracy: 0.9242\n",
            "Epoch 4/10\n",
            "200/200 [==============================] - 7s 35ms/step - loss: 0.0927 - accuracy: 0.9707 - val_loss: 0.2899 - val_accuracy: 0.9253\n",
            "Epoch 5/10\n",
            "200/200 [==============================] - 7s 35ms/step - loss: 0.0638 - accuracy: 0.9815 - val_loss: 0.3287 - val_accuracy: 0.9254\n",
            "Epoch 6/10\n",
            "200/200 [==============================] - 7s 35ms/step - loss: 0.0504 - accuracy: 0.9906 - val_loss: 0.5752 - val_accuracy: 0.9140\n",
            "Epoch 7/10\n",
            "200/200 [==============================] - 7s 35ms/step - loss: 0.0387 - accuracy: 0.9945 - val_loss: 0.4879 - val_accuracy: 0.9222\n",
            "Epoch 8/10\n",
            "200/200 [==============================] - 7s 35ms/step - loss: 0.0826 - accuracy: 0.9781 - val_loss: 0.4719 - val_accuracy: 0.9238\n",
            "Epoch 9/10\n",
            "200/200 [==============================] - 7s 35ms/step - loss: 0.1041 - accuracy: 0.9795 - val_loss: 0.6507 - val_accuracy: 0.8901\n",
            "Epoch 10/10\n",
            "200/200 [==============================] - 9s 43ms/step - loss: 0.1151 - accuracy: 0.9645 - val_loss: 0.4059 - val_accuracy: 0.9178\n"
          ]
        },
        {
          "output_type": "execute_result",
          "data": {
            "text/plain": [
              "<keras.callbacks.History at 0x7fa3535b2a50>"
            ]
          },
          "metadata": {},
          "execution_count": 92
        }
      ]
    },
    {
      "cell_type": "markdown",
      "source": [
        "Using an **Activation function** as **'tanh'** will give all values in the range **[-1,1]**. So, we have to set a thersold of **0**, thus values greater than **0** will be classified as **1** and vice versa. "
      ],
      "metadata": {
        "id": "uJOBVijY_n11"
      }
    },
    {
      "cell_type": "code",
      "source": [
        "yf_pred = model.predict(xf_test)\n",
        "classes_x=np.where(yf_pred > 0, 1,0)"
      ],
      "metadata": {
        "id": "R7vzHcxxPDrf"
      },
      "execution_count": null,
      "outputs": []
    },
    {
      "cell_type": "markdown",
      "source": [
        "# Using LSTM:"
      ],
      "metadata": {
        "id": "rvZTQRkxJZPz"
      }
    },
    {
      "cell_type": "code",
      "source": [
        "print('Model: LSTM')\n",
        "print('Accuracy:', metrics.accuracy_score(yf_test,classes_x))\n",
        "Cm = metrics.confusion_matrix(yf_test,classes_x)\n",
        "sn.heatmap(Cm,annot=True,fmt='d')\n",
        "plt.xlabel('Predicted')\n",
        "plt.ylabel('True')\n",
        "plt.title('Confusion Matrix for LSTM')\n",
        "plt.show()"
      ],
      "metadata": {
        "colab": {
          "base_uri": "https://localhost:8080/",
          "height": 330
        },
        "id": "E9tO07j8Pp8C",
        "outputId": "f4c03892-cf97-447c-a3bd-4f027d98b8ff"
      },
      "execution_count": null,
      "outputs": [
        {
          "output_type": "stream",
          "name": "stdout",
          "text": [
            "Model: LSTM\n",
            "Accuracy: 0.917243893547211\n"
          ]
        },
        {
          "output_type": "display_data",
          "data": {
            "text/plain": [
              "<Figure size 432x288 with 2 Axes>"
            ],
            "image/png": "[encoded data removed]"
          },
          "metadata": {
            "needs_background": "light"
          }
        }
      ]
    },
    {
      "cell_type": "code",
      "source": [
        "from tensorflow.keras.layers import Bidirectional, Dropout"
      ],
      "metadata": {
        "id": "tv5MWmO74URR"
      },
      "execution_count": null,
      "outputs": []
    },
    {
      "cell_type": "code",
      "source": [
        "# Bidirectional LSTM\n",
        "model1 = Sequential()\n",
        "model1.add(Embedding(voc_size,embedding_vec_features,input_length=sent_length))\n",
        "model1.add(Bidirectional(LSTM(100)))\n",
        "model1.add(Dropout(0.3))\n",
        "model1.add(Dense(1, activation='tanh'))\n",
        "model1.compile(loss='binary_crossentropy', optimizer='adam',metrics=['accuracy'])"
      ],
      "metadata": {
        "id": "WFMUQtI44V5L"
      },
      "execution_count": null,
      "outputs": []
    },
    {
      "cell_type": "code",
      "source": [
        "model1.summary()"
      ],
      "metadata": {
        "colab": {
          "base_uri": "https://localhost:8080/"
        },
        "id": "AkFDHP934jtV",
        "outputId": "d0ef733c-9177-42af-c0bd-5a65ec030ef1"
      },
      "execution_count": null,
      "outputs": [
        {
          "output_type": "stream",
          "name": "stdout",
          "text": [
            "Model: \"sequential_7\"\n",
            "_________________________________________________________________\n",
            " Layer (type)                Output Shape              Param #   \n",
            "=================================================================\n",
            " embedding_7 (Embedding)     (None, 20, 40)            200000    \n",
            "                                                                 \n",
            " bidirectional_3 (Bidirectio  (None, 200)              112800    \n",
            " nal)                                                            \n",
            "                                                                 \n",
            " dropout_2 (Dropout)         (None, 200)               0         \n",
            "                                                                 \n",
            " dense_3 (Dense)             (None, 1)                 201       \n",
            "                                                                 \n",
            "=================================================================\n",
            "Total params: 313,001\n",
            "Trainable params: 313,001\n",
            "Non-trainable params: 0\n",
            "_________________________________________________________________\n"
          ]
        }
      ]
    },
    {
      "cell_type": "code",
      "source": [
        "model1.fit(xf_train,yf_train,validation_data=(xf_test,yf_test),epochs=10,batch_size=64 )"
      ],
      "metadata": {
        "colab": {
          "base_uri": "https://localhost:8080/"
        },
        "id": "w40NRF9JFPJD",
        "outputId": "8a576769-6a17-4f5f-dde4-c7cecaac784b"
      },
      "execution_count": null,
      "outputs": [
        {
          "output_type": "stream",
          "name": "stdout",
          "text": [
            "Epoch 1/10\n",
            "200/200 [==============================] - 15s 56ms/step - loss: 0.3680 - accuracy: 0.8361 - val_loss: 0.2056 - val_accuracy: 0.9182\n",
            "Epoch 2/10\n",
            "200/200 [==============================] - 10s 50ms/step - loss: 0.1614 - accuracy: 0.9434 - val_loss: 0.2280 - val_accuracy: 0.9218\n",
            "Epoch 3/10\n",
            "200/200 [==============================] - 10s 51ms/step - loss: 0.1170 - accuracy: 0.9624 - val_loss: 0.3055 - val_accuracy: 0.9138\n",
            "Epoch 4/10\n",
            "200/200 [==============================] - 10s 51ms/step - loss: 0.0922 - accuracy: 0.9727 - val_loss: 0.2588 - val_accuracy: 0.9174\n",
            "Epoch 5/10\n",
            "200/200 [==============================] - 10s 51ms/step - loss: 0.0782 - accuracy: 0.9799 - val_loss: 0.3984 - val_accuracy: 0.9163\n",
            "Epoch 6/10\n",
            "200/200 [==============================] - 10s 51ms/step - loss: 0.0579 - accuracy: 0.9884 - val_loss: 0.6687 - val_accuracy: 0.9151\n",
            "Epoch 7/10\n",
            "200/200 [==============================] - 10s 51ms/step - loss: 0.2199 - accuracy: 0.9514 - val_loss: 0.4492 - val_accuracy: 0.9078\n",
            "Epoch 8/10\n",
            "200/200 [==============================] - 10s 51ms/step - loss: 0.2033 - accuracy: 0.9282 - val_loss: 0.3467 - val_accuracy: 0.9163\n",
            "Epoch 9/10\n",
            "200/200 [==============================] - 10s 51ms/step - loss: 0.1112 - accuracy: 0.9674 - val_loss: 0.2569 - val_accuracy: 0.9167\n",
            "Epoch 10/10\n",
            "200/200 [==============================] - 10s 52ms/step - loss: 0.0840 - accuracy: 0.9775 - val_loss: 0.4288 - val_accuracy: 0.9165\n"
          ]
        },
        {
          "output_type": "execute_result",
          "data": {
            "text/plain": [
              "<keras.callbacks.History at 0x7fa353085650>"
            ]
          },
          "metadata": {},
          "execution_count": 111
        }
      ]
    },
    {
      "cell_type": "code",
      "source": [
        "Y_pred = model.predict(xf_test)\n",
        "classes_X = np.where(y_pred>0,1,0)"
      ],
      "metadata": {
        "id": "e6e8eVCKIEN5"
      },
      "execution_count": null,
      "outputs": []
    },
    {
      "cell_type": "markdown",
      "source": [
        "# Using Bi-directional LSTM:"
      ],
      "metadata": {
        "id": "eexfOWaMJklc"
      }
    },
    {
      "cell_type": "code",
      "source": [
        "print('Model: Bidirectional LSTM')\n",
        "print('Accuracy:', metrics.accuracy_score(yf_test,classes_X))\n",
        "Cm = metrics.confusion_matrix(yf_test,classes_x)\n",
        "sn.heatmap(Cm,annot=True,fmt='d')\n",
        "plt.xlabel('Predicted')\n",
        "plt.ylabel('True')\n",
        "plt.title('Confusion Matrix of Bi-directional LSTM')\n",
        "plt.show()"
      ],
      "metadata": {
        "colab": {
          "base_uri": "https://localhost:8080/",
          "height": 330
        },
        "id": "-tytVlfgH4o0",
        "outputId": "99d45d77-dea4-48a3-907d-a3599b6e2fb0"
      },
      "execution_count": null,
      "outputs": [
        {
          "output_type": "stream",
          "name": "stdout",
          "text": [
            "Model: Bidirectional LSTM\n",
            "Accuracy: 0.9017499088589136\n"
          ]
        },
        {
          "output_type": "display_data",
          "data": {
            "text/plain": [
              "<Figure size 432x288 with 2 Axes>"
            ],
            "image/png": "[encoded data removed]"
          },
          "metadata": {
            "needs_background": "light"
          }
        }
      ]
    },
    {
      "cell_type": "markdown",
      "source": [
        "#Using text for training-testing the model"
      ],
      "metadata": {
        "id": "VpS0AFOQJ8fs"
      }
    },
    {
      "cell_type": "code",
      "source": [
        "one_hot_R = [one_hot(word,150000) for word in corpus1]"
      ],
      "metadata": {
        "id": "S5QUHBzbIvCw"
      },
      "execution_count": null,
      "outputs": []
    },
    {
      "cell_type": "code",
      "source": [
        "one_hot_R"
      ],
      "metadata": {
        "id": "lTU3_SR1K5Fj"
      },
      "execution_count": null,
      "outputs": []
    },
    {
      "cell_type": "code",
      "source": [
        "corpus1"
      ],
      "metadata": {
        "id": "pdDfqz-4M7Tq"
      },
      "execution_count": null,
      "outputs": []
    },
    {
      "cell_type": "code",
      "source": [
        "len(max(corpus1, key=len))"
      ],
      "metadata": {
        "colab": {
          "base_uri": "https://localhost:8080/"
        },
        "id": "MA3dCkrgM87a",
        "outputId": "362176f6-fd68-46a9-8756-c76294702e78"
      },
      "execution_count": null,
      "outputs": [
        {
          "output_type": "execute_result",
          "data": {
            "text/plain": [
              "72006"
            ]
          },
          "metadata": {},
          "execution_count": 131
        }
      ]
    },
    {
      "cell_type": "code",
      "source": [
        "len(max(corpus,key=len))"
      ],
      "metadata": {
        "colab": {
          "base_uri": "https://localhost:8080/"
        },
        "id": "PRFgUs1cO1sF",
        "outputId": "df66c469-2223-40b4-d696-fddd3f475167"
      },
      "execution_count": null,
      "outputs": [
        {
          "output_type": "execute_result",
          "data": {
            "text/plain": [
              "299"
            ]
          },
          "metadata": {},
          "execution_count": 130
        }
      ]
    },
    {
      "cell_type": "code",
      "source": [
        "sent_length1 = 4820\n",
        "embedded_doc = pad_sequences(one_hot_R, padding = 'pre', maxlen=sent_length1)"
      ],
      "metadata": {
        "id": "8Sc-1ephPrWX"
      },
      "execution_count": null,
      "outputs": []
    },
    {
      "cell_type": "code",
      "source": [
        "embedded_doc"
      ],
      "metadata": {
        "colab": {
          "base_uri": "https://localhost:8080/"
        },
        "id": "XqxH2fZPR8-1",
        "outputId": "eeebe123-b29f-4224-e07a-7e24f9f5bb96"
      },
      "execution_count": null,
      "outputs": [
        {
          "output_type": "execute_result",
          "data": {
            "text/plain": [
              "array([[     0,      0,      0, ..., 133591,  74493, 103991],\n",
              "       [     0,      0,      0, ...,  29073,  82674,  46572],\n",
              "       [     0,      0,      0, ...,  76239,  46437,  34083],\n",
              "       ...,\n",
              "       [     0,      0,      0, ...,  95551, 138901,  79104],\n",
              "       [     0,      0,      0, ..., 148216,  88451, 139622],\n",
              "       [     0,      0,      0, ..., 111728, 122620,  40370]], dtype=int32)"
            ]
          },
          "metadata": {},
          "execution_count": 135
        }
      ]
    },
    {
      "cell_type": "code",
      "source": [
        "X_final = np.array(embedded_doc)\n",
        "Y_final = np.array(y_f)"
      ],
      "metadata": {
        "id": "u6Ycme3QQLFu"
      },
      "execution_count": null,
      "outputs": []
    },
    {
      "cell_type": "code",
      "source": [
        "Xf_train,Xf_test,Yf_train,Yf_test = train_test_split(X_final,Y_final,test_size=0.3,random_state=0)"
      ],
      "metadata": {
        "id": "wM1YoRXjSSS9"
      },
      "execution_count": null,
      "outputs": []
    },
    {
      "cell_type": "code",
      "source": [
        "# LSTM\n",
        "embedding_vec_features = 9640\n",
        "model21 = Sequential()\n",
        "model21.add(Embedding(voc_size,embedding_vec_features,input_length=sent_length1))\n",
        "model21.add(LSTM(500))\n",
        "model21.add(Dense(1, activation='tanh'))\n",
        "model21.compile(loss='binary_crossentropy', optimizer='adam',metrics=['accuracy'])"
      ],
      "metadata": {
        "id": "r2w0qMrmSmDG"
      },
      "execution_count": null,
      "outputs": []
    },
    {
      "cell_type": "code",
      "source": [
        "model21.fit(Xf_train,Yf_train,validation_data=(Xf_test,Yf_test),epochs=10,batch_size=64)"
      ],
      "metadata": {
        "colab": {
          "base_uri": "https://localhost:8080/",
          "height": 1000
        },
        "id": "PKirVboUS32z",
        "outputId": "21226c66-ab29-474f-e6dc-074159040636"
      },
      "execution_count": null,
      "outputs": [
        {
          "output_type": "stream",
          "name": "stdout",
          "text": [
            "Epoch 1/10\n"
          ]
        },
        {
          "output_type": "error",
          "ename": "InvalidArgumentError",
          "evalue": "ignored",
          "traceback": [
            "\u001b[0;31m---------------------------------------------------------------------------\u001b[0m",
            "\u001b[0;31mInvalidArgumentError\u001b[0m                      Traceback (most recent call last)",
            "\u001b[0;32m<ipython-input-145-05e2a8ad7411>\u001b[0m in \u001b[0;36m<module>\u001b[0;34m()\u001b[0m\n\u001b[0;32m----> 1\u001b[0;31m \u001b[0mmodel21\u001b[0m\u001b[0;34m.\u001b[0m\u001b[0mfit\u001b[0m\u001b[0;34m(\u001b[0m\u001b[0mXf_train\u001b[0m\u001b[0;34m,\u001b[0m\u001b[0mYf_train\u001b[0m\u001b[0;34m,\u001b[0m\u001b[0mvalidation_data\u001b[0m\u001b[0;34m=\u001b[0m\u001b[0;34m(\u001b[0m\u001b[0mXf_test\u001b[0m\u001b[0;34m,\u001b[0m\u001b[0mYf_test\u001b[0m\u001b[0;34m)\u001b[0m\u001b[0;34m,\u001b[0m\u001b[0mepochs\u001b[0m\u001b[0;34m=\u001b[0m\u001b[0;36m10\u001b[0m\u001b[0;34m,\u001b[0m\u001b[0mbatch_size\u001b[0m\u001b[0;34m=\u001b[0m\u001b[0;36m64\u001b[0m\u001b[0;34m)\u001b[0m\u001b[0;34m\u001b[0m\u001b[0;34m\u001b[0m\u001b[0m\n\u001b[0m",
            "\u001b[0;32m/usr/local/lib/python3.7/dist-packages/keras/utils/traceback_utils.py\u001b[0m in \u001b[0;36merror_handler\u001b[0;34m(*args, **kwargs)\u001b[0m\n\u001b[1;32m     65\u001b[0m     \u001b[0;32mexcept\u001b[0m \u001b[0mException\u001b[0m \u001b[0;32mas\u001b[0m \u001b[0me\u001b[0m\u001b[0;34m:\u001b[0m  \u001b[0;31m# pylint: disable=broad-except\u001b[0m\u001b[0;34m\u001b[0m\u001b[0;34m\u001b[0m\u001b[0m\n\u001b[1;32m     66\u001b[0m       \u001b[0mfiltered_tb\u001b[0m \u001b[0;34m=\u001b[0m \u001b[0m_process_traceback_frames\u001b[0m\u001b[0;34m(\u001b[0m\u001b[0me\u001b[0m\u001b[0;34m.\u001b[0m\u001b[0m__traceback__\u001b[0m\u001b[0;34m)\u001b[0m\u001b[0;34m\u001b[0m\u001b[0;34m\u001b[0m\u001b[0m\n\u001b[0;32m---> 67\u001b[0;31m       \u001b[0;32mraise\u001b[0m \u001b[0me\u001b[0m\u001b[0;34m.\u001b[0m\u001b[0mwith_traceback\u001b[0m\u001b[0;34m(\u001b[0m\u001b[0mfiltered_tb\u001b[0m\u001b[0;34m)\u001b[0m \u001b[0;32mfrom\u001b[0m \u001b[0;32mNone\u001b[0m\u001b[0;34m\u001b[0m\u001b[0;34m\u001b[0m\u001b[0m\n\u001b[0m\u001b[1;32m     68\u001b[0m     \u001b[0;32mfinally\u001b[0m\u001b[0;34m:\u001b[0m\u001b[0;34m\u001b[0m\u001b[0;34m\u001b[0m\u001b[0m\n\u001b[1;32m     69\u001b[0m       \u001b[0;32mdel\u001b[0m \u001b[0mfiltered_tb\u001b[0m\u001b[0;34m\u001b[0m\u001b[0;34m\u001b[0m\u001b[0m\n",
            "\u001b[0;32m/usr/local/lib/python3.7/dist-packages/tensorflow/python/eager/execute.py\u001b[0m in \u001b[0;36mquick_execute\u001b[0;34m(op_name, num_outputs, inputs, attrs, ctx, name)\u001b[0m\n\u001b[1;32m     53\u001b[0m     \u001b[0mctx\u001b[0m\u001b[0;34m.\u001b[0m\u001b[0mensure_initialized\u001b[0m\u001b[0;34m(\u001b[0m\u001b[0;34m)\u001b[0m\u001b[0;34m\u001b[0m\u001b[0;34m\u001b[0m\u001b[0m\n\u001b[1;32m     54\u001b[0m     tensors = pywrap_tfe.TFE_Py_Execute(ctx._handle, device_name, op_name,\n\u001b[0;32m---> 55\u001b[0;31m                                         inputs, attrs, num_outputs)\n\u001b[0m\u001b[1;32m     56\u001b[0m   \u001b[0;32mexcept\u001b[0m \u001b[0mcore\u001b[0m\u001b[0;34m.\u001b[0m\u001b[0m_NotOkStatusException\u001b[0m \u001b[0;32mas\u001b[0m \u001b[0me\u001b[0m\u001b[0;34m:\u001b[0m\u001b[0;34m\u001b[0m\u001b[0;34m\u001b[0m\u001b[0m\n\u001b[1;32m     57\u001b[0m     \u001b[0;32mif\u001b[0m \u001b[0mname\u001b[0m \u001b[0;32mis\u001b[0m \u001b[0;32mnot\u001b[0m \u001b[0;32mNone\u001b[0m\u001b[0;34m:\u001b[0m\u001b[0;34m\u001b[0m\u001b[0;34m\u001b[0m\u001b[0m\n",
            "\u001b[0;31mInvalidArgumentError\u001b[0m: Graph execution error:\n\nDetected at node 'sequential_11/embedding_11/embedding_lookup' defined at (most recent call last):\n    File \"/usr/lib/python3.7/runpy.py\", line 193, in _run_module_as_main\n      \"__main__\", mod_spec)\n    File \"/usr/lib/python3.7/runpy.py\", line 85, in _run_code\n      exec(code, run_globals)\n    File \"/usr/local/lib/python3.7/dist-packages/ipykernel_launcher.py\", line 16, in <module>\n      app.launch_new_instance()\n    File \"/usr/local/lib/python3.7/dist-packages/traitlets/config/application.py\", line 846, in launch_instance\n      app.start()\n    File \"/usr/local/lib/python3.7/dist-packages/ipykernel/kernelapp.py\", line 499, in start\n      self.io_loop.start()\n    File \"/usr/local/lib/python3.7/dist-packages/tornado/platform/asyncio.py\", line 132, in start\n      self.asyncio_loop.run_forever()\n    File \"/usr/lib/python3.7/asyncio/base_events.py\", line 541, in run_forever\n      self._run_once()\n    File \"/usr/lib/python3.7/asyncio/base_events.py\", line 1786, in _run_once\n      handle._run()\n    File \"/usr/lib/python3.7/asyncio/events.py\", line 88, in _run\n      self._context.run(self._callback, *self._args)\n    File \"/usr/local/lib/python3.7/dist-packages/tornado/platform/asyncio.py\", line 122, in _handle_events\n      handler_func(fileobj, events)\n    File \"/usr/local/lib/python3.7/dist-packages/tornado/stack_context.py\", line 300, in null_wrapper\n      return fn(*args, **kwargs)\n    File \"/usr/local/lib/python3.7/dist-packages/zmq/eventloop/zmqstream.py\", line 577, in _handle_events\n      self._handle_recv()\n    File \"/usr/local/lib/python3.7/dist-packages/zmq/eventloop/zmqstream.py\", line 606, in _handle_recv\n      self._run_callback(callback, msg)\n    File \"/usr/local/lib/python3.7/dist-packages/zmq/eventloop/zmqstream.py\", line 556, in _run_callback\n      callback(*args, **kwargs)\n    File \"/usr/local/lib/python3.7/dist-packages/tornado/stack_context.py\", line 300, in null_wrapper\n      return fn(*args, **kwargs)\n    File \"/usr/local/lib/python3.7/dist-packages/ipykernel/kernelbase.py\", line 283, in dispatcher\n      return self.dispatch_shell(stream, msg)\n    File \"/usr/local/lib/python3.7/dist-packages/ipykernel/kernelbase.py\", line 233, in dispatch_shell\n      handler(stream, idents, msg)\n    File \"/usr/local/lib/python3.7/dist-packages/ipykernel/kernelbase.py\", line 399, in execute_request\n      user_expressions, allow_stdin)\n    File \"/usr/local/lib/python3.7/dist-packages/ipykernel/ipkernel.py\", line 208, in do_execute\n      res = shell.run_cell(code, store_history=store_history, silent=silent)\n    File \"/usr/local/lib/python3.7/dist-packages/ipykernel/zmqshell.py\", line 537, in run_cell\n      return super(ZMQInteractiveShell, self).run_cell(*args, **kwargs)\n    File \"/usr/local/lib/python3.7/dist-packages/IPython/core/interactiveshell.py\", line 2718, in run_cell\n      interactivity=interactivity, compiler=compiler, result=result)\n    File \"/usr/local/lib/python3.7/dist-packages/IPython/core/interactiveshell.py\", line 2828, in run_ast_nodes\n      if self.run_code(code, result):\n    File \"/usr/local/lib/python3.7/dist-packages/IPython/core/interactiveshell.py\", line 2882, in run_code\n      exec(code_obj, self.user_global_ns, self.user_ns)\n    File \"<ipython-input-143-05e2a8ad7411>\", line 1, in <module>\n      model21.fit(Xf_train,Yf_train,validation_data=(Xf_test,Yf_test),epochs=10,batch_size=64)\n    File \"/usr/local/lib/python3.7/dist-packages/keras/utils/traceback_utils.py\", line 64, in error_handler\n      return fn(*args, **kwargs)\n    File \"/usr/local/lib/python3.7/dist-packages/keras/engine/training.py\", line 1384, in fit\n      tmp_logs = self.train_function(iterator)\n    File \"/usr/local/lib/python3.7/dist-packages/keras/engine/training.py\", line 1021, in train_function\n      return step_function(self, iterator)\n    File \"/usr/local/lib/python3.7/dist-packages/keras/engine/training.py\", line 1010, in step_function\n      outputs = model.distribute_strategy.run(run_step, args=(data,))\n    File \"/usr/local/lib/python3.7/dist-packages/keras/engine/training.py\", line 1000, in run_step\n      outputs = model.train_step(data)\n    File \"/usr/local/lib/python3.7/dist-packages/keras/engine/training.py\", line 859, in train_step\n      y_pred = self(x, training=True)\n    File \"/usr/local/lib/python3.7/dist-packages/keras/utils/traceback_utils.py\", line 64, in error_handler\n      return fn(*args, **kwargs)\n    File \"/usr/local/lib/python3.7/dist-packages/keras/engine/base_layer.py\", line 1096, in __call__\n      outputs = call_fn(inputs, *args, **kwargs)\n    File \"/usr/local/lib/python3.7/dist-packages/keras/utils/traceback_utils.py\", line 92, in error_handler\n      return fn(*args, **kwargs)\n    File \"/usr/local/lib/python3.7/dist-packages/keras/engine/sequential.py\", line 374, in call\n      return super(Sequential, self).call(inputs, training=training, mask=mask)\n    File \"/usr/local/lib/python3.7/dist-packages/keras/engine/functional.py\", line 452, in call\n      inputs, training=training, mask=mask)\n    File \"/usr/local/lib/python3.7/dist-packages/keras/engine/functional.py\", line 589, in _run_internal_graph\n      outputs = node.layer(*args, **kwargs)\n    File \"/usr/local/lib/python3.7/dist-packages/keras/utils/traceback_utils.py\", line 64, in error_handler\n      return fn(*args, **kwargs)\n    File \"/usr/local/lib/python3.7/dist-packages/keras/engine/base_layer.py\", line 1096, in __call__\n      outputs = call_fn(inputs, *args, **kwargs)\n    File \"/usr/local/lib/python3.7/dist-packages/keras/utils/traceback_utils.py\", line 92, in error_handler\n      return fn(*args, **kwargs)\n    File \"/usr/local/lib/python3.7/dist-packages/keras/layers/embeddings.py\", line 197, in call\n      out = tf.nn.embedding_lookup(self.embeddings, inputs)\nNode: 'sequential_11/embedding_11/embedding_lookup'\nindices[56,4694] = 93496 is not in [0, 5000)\n\t [[{{node sequential_11/embedding_11/embedding_lookup}}]] [Op:__inference_train_function_61269]"
          ]
        }
      ]
    },
    {
      "cell_type": "code",
      "source": [
        "import seaborn as sns\n",
        "import matplotlib.pyplot as plt \n",
        "sns.histplot(df.label)\n",
        "plt.show()"
      ],
      "metadata": {
        "id": "qerLBaTDTm_G",
        "outputId": "c776aeea-417f-4d0b-824b-e9ac42a4510d",
        "colab": {
          "base_uri": "https://localhost:8080/",
          "height": 279
        }
      },
      "execution_count": 12,
      "outputs": [
        {
          "output_type": "display_data",
          "data": {
            "text/plain": [
              "<Figure size 432x288 with 1 Axes>"
            ],
            "image/png": "[encoded data removed]"
          },
          "metadata": {
            "needs_background": "light"
          }
        }
      ]
    },
    {
      "cell_type": "code",
      "source": [
        "!pip install tensorflow-gpu"
      ],
      "metadata": {
        "id": "XCfGTp-YTwCU",
        "outputId": "fa517ffa-e939-40d0-884c-2d91962eb503",
        "colab": {
          "base_uri": "https://localhost:8080/"
        }
      },
      "execution_count": 13,
      "outputs": [
        {
          "output_type": "stream",
          "name": "stdout",
          "text": [
            "Looking in indexes: https://pypi.org/simple, https://us-python.pkg.dev/colab-wheels/public/simple/\n",
            "Requirement already satisfied: tensorflow-gpu in /usr/local/lib/python3.7/dist-packages (2.9.1)\n",
            "Requirement already satisfied: tensorflow-io-gcs-filesystem>=0.23.1 in /usr/local/lib/python3.7/dist-packages (from tensorflow-gpu) (0.26.0)\n",
            "Requirement already satisfied: packaging in /usr/local/lib/python3.7/dist-packages (from tensorflow-gpu) (21.3)\n",
            "Requirement already satisfied: h5py>=2.9.0 in /usr/local/lib/python3.7/dist-packages (from tensorflow-gpu) (3.1.0)\n",
            "Requirement already satisfied: setuptools in /usr/local/lib/python3.7/dist-packages (from tensorflow-gpu) (57.4.0)\n",
            "Requirement already satisfied: astunparse>=1.6.0 in /usr/local/lib/python3.7/dist-packages (from tensorflow-gpu) (1.6.3)\n",
            "Requirement already satisfied: opt-einsum>=2.3.2 in /usr/local/lib/python3.7/dist-packages (from tensorflow-gpu) (3.3.0)\n",
            "Requirement already satisfied: keras-preprocessing>=1.1.1 in /usr/local/lib/python3.7/dist-packages (from tensorflow-gpu) (1.1.2)\n",
            "Requirement already satisfied: termcolor>=1.1.0 in /usr/local/lib/python3.7/dist-packages (from tensorflow-gpu) (1.1.0)\n",
            "Requirement already satisfied: typing-extensions>=3.6.6 in /usr/local/lib/python3.7/dist-packages (from tensorflow-gpu) (4.1.1)\n",
            "Requirement already satisfied: libclang>=13.0.0 in /usr/local/lib/python3.7/dist-packages (from tensorflow-gpu) (14.0.1)\n",
            "Requirement already satisfied: tensorflow-estimator<2.10.0,>=2.9.0rc0 in /usr/local/lib/python3.7/dist-packages (from tensorflow-gpu) (2.9.0)\n",
            "Requirement already satisfied: six>=1.12.0 in /usr/local/lib/python3.7/dist-packages (from tensorflow-gpu) (1.15.0)\n",
            "Requirement already satisfied: google-pasta>=0.1.1 in /usr/local/lib/python3.7/dist-packages (from tensorflow-gpu) (0.2.0)\n",
            "Requirement already satisfied: numpy>=1.20 in /usr/local/lib/python3.7/dist-packages (from tensorflow-gpu) (1.21.6)\n",
            "Requirement already satisfied: grpcio<2.0,>=1.24.3 in /usr/local/lib/python3.7/dist-packages (from tensorflow-gpu) (1.47.0)\n",
            "Requirement already satisfied: keras<2.10.0,>=2.9.0rc0 in /usr/local/lib/python3.7/dist-packages (from tensorflow-gpu) (2.9.0)\n",
            "Requirement already satisfied: gast<=0.4.0,>=0.2.1 in /usr/local/lib/python3.7/dist-packages (from tensorflow-gpu) (0.4.0)\n",
            "Requirement already satisfied: flatbuffers<2,>=1.12 in /usr/local/lib/python3.7/dist-packages (from tensorflow-gpu) (1.12)\n",
            "Requirement already satisfied: tensorboard<2.10,>=2.9 in /usr/local/lib/python3.7/dist-packages (from tensorflow-gpu) (2.9.1)\n",
            "Requirement already satisfied: absl-py>=1.0.0 in /usr/local/lib/python3.7/dist-packages (from tensorflow-gpu) (1.2.0)\n",
            "Requirement already satisfied: wrapt>=1.11.0 in /usr/local/lib/python3.7/dist-packages (from tensorflow-gpu) (1.14.1)\n",
            "Requirement already satisfied: protobuf<3.20,>=3.9.2 in /usr/local/lib/python3.7/dist-packages (from tensorflow-gpu) (3.17.3)\n",
            "Requirement already satisfied: wheel<1.0,>=0.23.0 in /usr/local/lib/python3.7/dist-packages (from astunparse>=1.6.0->tensorflow-gpu) (0.37.1)\n",
            "Requirement already satisfied: cached-property in /usr/local/lib/python3.7/dist-packages (from h5py>=2.9.0->tensorflow-gpu) (1.5.2)\n",
            "Requirement already satisfied: google-auth-oauthlib<0.5,>=0.4.1 in /usr/local/lib/python3.7/dist-packages (from tensorboard<2.10,>=2.9->tensorflow-gpu) (0.4.6)\n",
            "Requirement already satisfied: tensorboard-plugin-wit>=1.6.0 in /usr/local/lib/python3.7/dist-packages (from tensorboard<2.10,>=2.9->tensorflow-gpu) (1.8.1)\n",
            "Requirement already satisfied: werkzeug>=1.0.1 in /usr/local/lib/python3.7/dist-packages (from tensorboard<2.10,>=2.9->tensorflow-gpu) (1.0.1)\n",
            "Requirement already satisfied: markdown>=2.6.8 in /usr/local/lib/python3.7/dist-packages (from tensorboard<2.10,>=2.9->tensorflow-gpu) (3.4.1)\n",
            "Requirement already satisfied: tensorboard-data-server<0.7.0,>=0.6.0 in /usr/local/lib/python3.7/dist-packages (from tensorboard<2.10,>=2.9->tensorflow-gpu) (0.6.1)\n",
            "Requirement already satisfied: requests<3,>=2.21.0 in /usr/local/lib/python3.7/dist-packages (from tensorboard<2.10,>=2.9->tensorflow-gpu) (2.23.0)\n",
            "Requirement already satisfied: google-auth<3,>=1.6.3 in /usr/local/lib/python3.7/dist-packages (from tensorboard<2.10,>=2.9->tensorflow-gpu) (1.35.0)\n",
            "Requirement already satisfied: pyasn1-modules>=0.2.1 in /usr/local/lib/python3.7/dist-packages (from google-auth<3,>=1.6.3->tensorboard<2.10,>=2.9->tensorflow-gpu) (0.2.8)\n",
            "Requirement already satisfied: rsa<5,>=3.1.4 in /usr/local/lib/python3.7/dist-packages (from google-auth<3,>=1.6.3->tensorboard<2.10,>=2.9->tensorflow-gpu) (4.9)\n",
            "Requirement already satisfied: cachetools<5.0,>=2.0.0 in /usr/local/lib/python3.7/dist-packages (from google-auth<3,>=1.6.3->tensorboard<2.10,>=2.9->tensorflow-gpu) (4.2.4)\n",
            "Requirement already satisfied: requests-oauthlib>=0.7.0 in /usr/local/lib/python3.7/dist-packages (from google-auth-oauthlib<0.5,>=0.4.1->tensorboard<2.10,>=2.9->tensorflow-gpu) (1.3.1)\n",
            "Requirement already satisfied: importlib-metadata>=4.4 in /usr/local/lib/python3.7/dist-packages (from markdown>=2.6.8->tensorboard<2.10,>=2.9->tensorflow-gpu) (4.12.0)\n",
            "Requirement already satisfied: zipp>=0.5 in /usr/local/lib/python3.7/dist-packages (from importlib-metadata>=4.4->markdown>=2.6.8->tensorboard<2.10,>=2.9->tensorflow-gpu) (3.8.1)\n",
            "Requirement already satisfied: pyasn1<0.5.0,>=0.4.6 in /usr/local/lib/python3.7/dist-packages (from pyasn1-modules>=0.2.1->google-auth<3,>=1.6.3->tensorboard<2.10,>=2.9->tensorflow-gpu) (0.4.8)\n",
            "Requirement already satisfied: urllib3!=1.25.0,!=1.25.1,<1.26,>=1.21.1 in /usr/local/lib/python3.7/dist-packages (from requests<3,>=2.21.0->tensorboard<2.10,>=2.9->tensorflow-gpu) (1.24.3)\n",
            "Requirement already satisfied: idna<3,>=2.5 in /usr/local/lib/python3.7/dist-packages (from requests<3,>=2.21.0->tensorboard<2.10,>=2.9->tensorflow-gpu) (2.10)\n",
            "Requirement already satisfied: certifi>=2017.4.17 in /usr/local/lib/python3.7/dist-packages (from requests<3,>=2.21.0->tensorboard<2.10,>=2.9->tensorflow-gpu) (2022.6.15)\n",
            "Requirement already satisfied: chardet<4,>=3.0.2 in /usr/local/lib/python3.7/dist-packages (from requests<3,>=2.21.0->tensorboard<2.10,>=2.9->tensorflow-gpu) (3.0.4)\n",
            "Requirement already satisfied: oauthlib>=3.0.0 in /usr/local/lib/python3.7/dist-packages (from requests-oauthlib>=0.7.0->google-auth-oauthlib<0.5,>=0.4.1->tensorboard<2.10,>=2.9->tensorflow-gpu) (3.2.0)\n",
            "Requirement already satisfied: pyparsing!=3.0.5,>=2.0.2 in /usr/local/lib/python3.7/dist-packages (from packaging->tensorflow-gpu) (3.0.9)\n"
          ]
        }
      ]
    },
    {
      "cell_type": "code",
      "source": [
        "!nvidia-smi"
      ],
      "metadata": {
        "id": "nHGFN8EUU2wS",
        "outputId": "faba267b-1118-4230-f2e7-f21a69b6db35",
        "colab": {
          "base_uri": "https://localhost:8080/"
        }
      },
      "execution_count": 14,
      "outputs": [
        {
          "output_type": "stream",
          "name": "stdout",
          "text": [
            "Tue Aug  2 07:13:23 2022       \n",
            "+-----------------------------------------------------------------------------+\n",
            "| NVIDIA-SMI 460.32.03    Driver Version: 460.32.03    CUDA Version: 11.2     |\n",
            "|-------------------------------+----------------------+----------------------+\n",
            "| GPU  Name        Persistence-M| Bus-Id        Disp.A | Volatile Uncorr. ECC |\n",
            "| Fan  Temp  Perf  Pwr:Usage/Cap|         Memory-Usage | GPU-Util  Compute M. |\n",
            "|                               |                      |               MIG M. |\n",
            "|===============================+======================+======================|\n",
            "|   0  Tesla T4            Off  | 00000000:00:04.0 Off |                    0 |\n",
            "| N/A   51C    P8     9W /  70W |      0MiB / 15109MiB |      0%      Default |\n",
            "|                               |                      |                  N/A |\n",
            "+-------------------------------+----------------------+----------------------+\n",
            "                                                                               \n",
            "+-----------------------------------------------------------------------------+\n",
            "| Processes:                                                                  |\n",
            "|  GPU   GI   CI        PID   Type   Process name                  GPU Memory |\n",
            "|        ID   ID                                                   Usage      |\n",
            "|=============================================================================|\n",
            "|  No running processes found                                                 |\n",
            "+-----------------------------------------------------------------------------+\n"
          ]
        }
      ]
    },
    {
      "cell_type": "code",
      "source": [
        "!pip install tensorflow_hub \n",
        "!pip install tensorflow_text"
      ],
      "metadata": {
        "id": "huwliZL3VxtB",
        "outputId": "c95f07e3-7d97-4417-af6b-3f7bee7699c7",
        "colab": {
          "base_uri": "https://localhost:8080/"
        }
      },
      "execution_count": 34,
      "outputs": [
        {
          "output_type": "stream",
          "name": "stdout",
          "text": [
            "Looking in indexes: https://pypi.org/simple, https://us-python.pkg.dev/colab-wheels/public/simple/\n",
            "Requirement already satisfied: tensorflow_hub in /usr/local/lib/python3.7/dist-packages (0.12.0)\n",
            "Requirement already satisfied: protobuf>=3.8.0 in /usr/local/lib/python3.7/dist-packages (from tensorflow_hub) (3.17.3)\n",
            "Requirement already satisfied: numpy>=1.12.0 in /usr/local/lib/python3.7/dist-packages (from tensorflow_hub) (1.21.6)\n",
            "Requirement already satisfied: six>=1.9 in /usr/local/lib/python3.7/dist-packages (from protobuf>=3.8.0->tensorflow_hub) (1.15.0)\n",
            "Looking in indexes: https://pypi.org/simple, https://us-python.pkg.dev/colab-wheels/public/simple/\n",
            "Collecting tensorflow_text\n",
            "  Downloading tensorflow_text-2.9.0-cp37-cp37m-manylinux_2_17_x86_64.manylinux2014_x86_64.whl (4.6 MB)\n",
            "\u001b[K     |████████████████████████████████| 4.6 MB 36.2 MB/s \n",
            "\u001b[?25hCollecting tensorflow<2.10,>=2.9.0\n",
            "  Downloading tensorflow-2.9.1-cp37-cp37m-manylinux_2_17_x86_64.manylinux2014_x86_64.whl (511.7 MB)\n",
            "\u001b[K     |████████████████████████████████| 511.7 MB 6.0 kB/s \n",
            "\u001b[?25hRequirement already satisfied: tensorflow-hub>=0.8.0 in /usr/local/lib/python3.7/dist-packages (from tensorflow_text) (0.12.0)\n",
            "Requirement already satisfied: setuptools in /usr/local/lib/python3.7/dist-packages (from tensorflow<2.10,>=2.9.0->tensorflow_text) (57.4.0)\n",
            "Requirement already satisfied: flatbuffers<2,>=1.12 in /usr/local/lib/python3.7/dist-packages (from tensorflow<2.10,>=2.9.0->tensorflow_text) (1.12)\n",
            "Requirement already satisfied: tensorflow-io-gcs-filesystem>=0.23.1 in /usr/local/lib/python3.7/dist-packages (from tensorflow<2.10,>=2.9.0->tensorflow_text) (0.26.0)\n",
            "Requirement already satisfied: typing-extensions>=3.6.6 in /usr/local/lib/python3.7/dist-packages (from tensorflow<2.10,>=2.9.0->tensorflow_text) (4.1.1)\n",
            "Requirement already satisfied: numpy>=1.20 in /usr/local/lib/python3.7/dist-packages (from tensorflow<2.10,>=2.9.0->tensorflow_text) (1.21.6)\n",
            "Requirement already satisfied: wrapt>=1.11.0 in /usr/local/lib/python3.7/dist-packages (from tensorflow<2.10,>=2.9.0->tensorflow_text) (1.14.1)\n",
            "Requirement already satisfied: astunparse>=1.6.0 in /usr/local/lib/python3.7/dist-packages (from tensorflow<2.10,>=2.9.0->tensorflow_text) (1.6.3)\n",
            "Requirement already satisfied: packaging in /usr/local/lib/python3.7/dist-packages (from tensorflow<2.10,>=2.9.0->tensorflow_text) (21.3)\n",
            "Requirement already satisfied: keras<2.10.0,>=2.9.0rc0 in /usr/local/lib/python3.7/dist-packages (from tensorflow<2.10,>=2.9.0->tensorflow_text) (2.9.0)\n",
            "Requirement already satisfied: google-pasta>=0.1.1 in /usr/local/lib/python3.7/dist-packages (from tensorflow<2.10,>=2.9.0->tensorflow_text) (0.2.0)\n",
            "Requirement already satisfied: libclang>=13.0.0 in /usr/local/lib/python3.7/dist-packages (from tensorflow<2.10,>=2.9.0->tensorflow_text) (14.0.1)\n",
            "Requirement already satisfied: gast<=0.4.0,>=0.2.1 in /usr/local/lib/python3.7/dist-packages (from tensorflow<2.10,>=2.9.0->tensorflow_text) (0.4.0)\n",
            "Requirement already satisfied: grpcio<2.0,>=1.24.3 in /usr/local/lib/python3.7/dist-packages (from tensorflow<2.10,>=2.9.0->tensorflow_text) (1.47.0)\n",
            "Requirement already satisfied: h5py>=2.9.0 in /usr/local/lib/python3.7/dist-packages (from tensorflow<2.10,>=2.9.0->tensorflow_text) (3.1.0)\n",
            "Requirement already satisfied: six>=1.12.0 in /usr/local/lib/python3.7/dist-packages (from tensorflow<2.10,>=2.9.0->tensorflow_text) (1.15.0)\n",
            "Requirement already satisfied: termcolor>=1.1.0 in /usr/local/lib/python3.7/dist-packages (from tensorflow<2.10,>=2.9.0->tensorflow_text) (1.1.0)\n",
            "Requirement already satisfied: keras-preprocessing>=1.1.1 in /usr/local/lib/python3.7/dist-packages (from tensorflow<2.10,>=2.9.0->tensorflow_text) (1.1.2)\n",
            "Requirement already satisfied: opt-einsum>=2.3.2 in /usr/local/lib/python3.7/dist-packages (from tensorflow<2.10,>=2.9.0->tensorflow_text) (3.3.0)\n",
            "Requirement already satisfied: tensorboard<2.10,>=2.9 in /usr/local/lib/python3.7/dist-packages (from tensorflow<2.10,>=2.9.0->tensorflow_text) (2.9.1)\n",
            "Requirement already satisfied: protobuf<3.20,>=3.9.2 in /usr/local/lib/python3.7/dist-packages (from tensorflow<2.10,>=2.9.0->tensorflow_text) (3.17.3)\n",
            "Requirement already satisfied: tensorflow-estimator<2.10.0,>=2.9.0rc0 in /usr/local/lib/python3.7/dist-packages (from tensorflow<2.10,>=2.9.0->tensorflow_text) (2.9.0)\n",
            "Requirement already satisfied: absl-py>=1.0.0 in /usr/local/lib/python3.7/dist-packages (from tensorflow<2.10,>=2.9.0->tensorflow_text) (1.2.0)\n",
            "Requirement already satisfied: wheel<1.0,>=0.23.0 in /usr/local/lib/python3.7/dist-packages (from astunparse>=1.6.0->tensorflow<2.10,>=2.9.0->tensorflow_text) (0.37.1)\n",
            "Requirement already satisfied: cached-property in /usr/local/lib/python3.7/dist-packages (from h5py>=2.9.0->tensorflow<2.10,>=2.9.0->tensorflow_text) (1.5.2)\n",
            "Requirement already satisfied: google-auth<3,>=1.6.3 in /usr/local/lib/python3.7/dist-packages (from tensorboard<2.10,>=2.9->tensorflow<2.10,>=2.9.0->tensorflow_text) (1.35.0)\n",
            "Requirement already satisfied: google-auth-oauthlib<0.5,>=0.4.1 in /usr/local/lib/python3.7/dist-packages (from tensorboard<2.10,>=2.9->tensorflow<2.10,>=2.9.0->tensorflow_text) (0.4.6)\n",
            "Requirement already satisfied: tensorboard-plugin-wit>=1.6.0 in /usr/local/lib/python3.7/dist-packages (from tensorboard<2.10,>=2.9->tensorflow<2.10,>=2.9.0->tensorflow_text) (1.8.1)\n",
            "Requirement already satisfied: markdown>=2.6.8 in /usr/local/lib/python3.7/dist-packages (from tensorboard<2.10,>=2.9->tensorflow<2.10,>=2.9.0->tensorflow_text) (3.4.1)\n",
            "Requirement already satisfied: requests<3,>=2.21.0 in /usr/local/lib/python3.7/dist-packages (from tensorboard<2.10,>=2.9->tensorflow<2.10,>=2.9.0->tensorflow_text) (2.23.0)\n",
            "Requirement already satisfied: tensorboard-data-server<0.7.0,>=0.6.0 in /usr/local/lib/python3.7/dist-packages (from tensorboard<2.10,>=2.9->tensorflow<2.10,>=2.9.0->tensorflow_text) (0.6.1)\n",
            "Requirement already satisfied: werkzeug>=1.0.1 in /usr/local/lib/python3.7/dist-packages (from tensorboard<2.10,>=2.9->tensorflow<2.10,>=2.9.0->tensorflow_text) (1.0.1)\n",
            "Requirement already satisfied: cachetools<5.0,>=2.0.0 in /usr/local/lib/python3.7/dist-packages (from google-auth<3,>=1.6.3->tensorboard<2.10,>=2.9->tensorflow<2.10,>=2.9.0->tensorflow_text) (4.2.4)\n",
            "Requirement already satisfied: rsa<5,>=3.1.4 in /usr/local/lib/python3.7/dist-packages (from google-auth<3,>=1.6.3->tensorboard<2.10,>=2.9->tensorflow<2.10,>=2.9.0->tensorflow_text) (4.9)\n",
            "Requirement already satisfied: pyasn1-modules>=0.2.1 in /usr/local/lib/python3.7/dist-packages (from google-auth<3,>=1.6.3->tensorboard<2.10,>=2.9->tensorflow<2.10,>=2.9.0->tensorflow_text) (0.2.8)\n",
            "Requirement already satisfied: requests-oauthlib>=0.7.0 in /usr/local/lib/python3.7/dist-packages (from google-auth-oauthlib<0.5,>=0.4.1->tensorboard<2.10,>=2.9->tensorflow<2.10,>=2.9.0->tensorflow_text) (1.3.1)\n",
            "Requirement already satisfied: importlib-metadata>=4.4 in /usr/local/lib/python3.7/dist-packages (from markdown>=2.6.8->tensorboard<2.10,>=2.9->tensorflow<2.10,>=2.9.0->tensorflow_text) (4.12.0)\n",
            "Requirement already satisfied: zipp>=0.5 in /usr/local/lib/python3.7/dist-packages (from importlib-metadata>=4.4->markdown>=2.6.8->tensorboard<2.10,>=2.9->tensorflow<2.10,>=2.9.0->tensorflow_text) (3.8.1)\n",
            "Requirement already satisfied: pyasn1<0.5.0,>=0.4.6 in /usr/local/lib/python3.7/dist-packages (from pyasn1-modules>=0.2.1->google-auth<3,>=1.6.3->tensorboard<2.10,>=2.9->tensorflow<2.10,>=2.9.0->tensorflow_text) (0.4.8)\n",
            "Requirement already satisfied: urllib3!=1.25.0,!=1.25.1,<1.26,>=1.21.1 in /usr/local/lib/python3.7/dist-packages (from requests<3,>=2.21.0->tensorboard<2.10,>=2.9->tensorflow<2.10,>=2.9.0->tensorflow_text) (1.24.3)\n",
            "Requirement already satisfied: chardet<4,>=3.0.2 in /usr/local/lib/python3.7/dist-packages (from requests<3,>=2.21.0->tensorboard<2.10,>=2.9->tensorflow<2.10,>=2.9.0->tensorflow_text) (3.0.4)\n",
            "Requirement already satisfied: certifi>=2017.4.17 in /usr/local/lib/python3.7/dist-packages (from requests<3,>=2.21.0->tensorboard<2.10,>=2.9->tensorflow<2.10,>=2.9.0->tensorflow_text) (2022.6.15)\n",
            "Requirement already satisfied: idna<3,>=2.5 in /usr/local/lib/python3.7/dist-packages (from requests<3,>=2.21.0->tensorboard<2.10,>=2.9->tensorflow<2.10,>=2.9.0->tensorflow_text) (2.10)\n",
            "Requirement already satisfied: oauthlib>=3.0.0 in /usr/local/lib/python3.7/dist-packages (from requests-oauthlib>=0.7.0->google-auth-oauthlib<0.5,>=0.4.1->tensorboard<2.10,>=2.9->tensorflow<2.10,>=2.9.0->tensorflow_text) (3.2.0)\n",
            "Requirement already satisfied: pyparsing!=3.0.5,>=2.0.2 in /usr/local/lib/python3.7/dist-packages (from packaging->tensorflow<2.10,>=2.9.0->tensorflow_text) (3.0.9)\n",
            "Installing collected packages: tensorflow, tensorflow-text\n",
            "  Attempting uninstall: tensorflow\n",
            "    Found existing installation: tensorflow 2.8.2+zzzcolab20220719082949\n",
            "    Uninstalling tensorflow-2.8.2+zzzcolab20220719082949:\n",
            "      Successfully uninstalled tensorflow-2.8.2+zzzcolab20220719082949\n",
            "Successfully installed tensorflow-2.9.1 tensorflow-text-2.9.0\n"
          ]
        }
      ]
    },
    {
      "cell_type": "code",
      "source": [
        "x11 = df.drop(['id','label'],axis=1)\n",
        "y11 = df['label']\n",
        "from sklearn.model_selection import train_test_split\n",
        "x1_train,x1_test, y1_train, y1_test = train_test_split(x11['text'],y11, test_size=0.3)"
      ],
      "metadata": {
        "id": "cFjadI4ZT4zk"
      },
      "execution_count": 23,
      "outputs": []
    },
    {
      "cell_type": "code",
      "source": [
        "import tensorflow_hub as hub\n",
        "import tensorflow_text as text \n",
        "pre = hub.KerasLayer('https://tfhub.dev/tensorflow/bert_en_uncased_preprocess/3')\n",
        "model = hub.KerasLayer('https://tfhub.dev/tensorflow/bert_en_uncased_L-12_H-768_A-12/4')\n",
        "print('.....')"
      ],
      "metadata": {
        "id": "WQvAcSy6UBAp",
        "outputId": "5710fce7-ffb3-493f-9481-8ac83d2a5437",
        "colab": {
          "base_uri": "https://localhost:8080/"
        }
      },
      "execution_count": 16,
      "outputs": [
        {
          "output_type": "stream",
          "name": "stdout",
          "text": [
            ".....\n"
          ]
        }
      ]
    },
    {
      "cell_type": "code",
      "source": [
        "import tensorflow_hub as hub\n",
        "def bert_embeding(sentence):\n",
        "    prey = pre(sentence)\n",
        "    return model(prey)['pooled_output']"
      ],
      "metadata": {
        "id": "qMsMFQCGUFbp"
      },
      "execution_count": 17,
      "outputs": []
    },
    {
      "cell_type": "code",
      "source": [
        "import tensorflow as tf\n",
        "tf_input = tf.keras.layers.Input(shape=(), dtype = tf.string, name ='input')\n",
        "pre_text = pre(tf_input)\n",
        "output = model(pre_text)\n",
        "\n",
        "l1 = tf.keras.layers.Dropout(0.1)(output['pooled_output'])\n",
        "l = tf.keras.layers.Dense(1, activation='sigmoid', name='output')(l)\n",
        "\n",
        "model = tf.keras.Model(inputs=[tf_input], outputs = [l])"
      ],
      "metadata": {
        "id": "xyjZh7qMUMe_"
      },
      "execution_count": 18,
      "outputs": []
    },
    {
      "cell_type": "code",
      "source": [
        "model.summary()"
      ],
      "metadata": {
        "id": "Ypy1-0mJUNmY",
        "outputId": "15178bee-de09-49a3-e1ba-580cea141da3",
        "colab": {
          "base_uri": "https://localhost:8080/"
        }
      },
      "execution_count": 19,
      "outputs": [
        {
          "output_type": "stream",
          "name": "stdout",
          "text": [
            "Model: \"model\"\n",
            "__________________________________________________________________________________________________\n",
            " Layer (type)                   Output Shape         Param #     Connected to                     \n",
            "==================================================================================================\n",
            " input (InputLayer)             [(None,)]            0           []                               \n",
            "                                                                                                  \n",
            " keras_layer (KerasLayer)       {'input_word_ids':   0           ['input[0][0]']                  \n",
            "                                (None, 128),                                                      \n",
            "                                 'input_type_ids':                                                \n",
            "                                (None, 128),                                                      \n",
            "                                 'input_mask': (Non                                               \n",
            "                                e, 128)}                                                          \n",
            "                                                                                                  \n",
            " keras_layer_1 (KerasLayer)     {'default': (None,   109482241   ['keras_layer[0][0]',            \n",
            "                                768),                             'keras_layer[0][1]',            \n",
            "                                 'pooled_output': (               'keras_layer[0][2]']            \n",
            "                                None, 768),                                                       \n",
            "                                 'encoder_outputs':                                               \n",
            "                                 [(None, 128, 768),                                               \n",
            "                                 (None, 128, 768),                                                \n",
            "                                 (None, 128, 768),                                                \n",
            "                                 (None, 128, 768),                                                \n",
            "                                 (None, 128, 768),                                                \n",
            "                                 (None, 128, 768),                                                \n",
            "                                 (None, 128, 768),                                                \n",
            "                                 (None, 128, 768),                                                \n",
            "                                 (None, 128, 768),                                                \n",
            "                                 (None, 128, 768),                                                \n",
            "                                 (None, 128, 768),                                                \n",
            "                                 (None, 128, 768)],                                               \n",
            "                                 'sequence_output':                                               \n",
            "                                 (None, 128, 768)}                                                \n",
            "                                                                                                  \n",
            " dropout (Dropout)              (None, 768)          0           ['keras_layer_1[0][13]']         \n",
            "                                                                                                  \n",
            " output (Dense)                 (None, 1)            769         ['dropout[0][0]']                \n",
            "                                                                                                  \n",
            "==================================================================================================\n",
            "Total params: 109,483,010\n",
            "Trainable params: 769\n",
            "Non-trainable params: 109,482,241\n",
            "__________________________________________________________________________________________________\n"
          ]
        }
      ]
    },
    {
      "cell_type": "code",
      "source": [
        "METRICS = [\n",
        "      tf.keras.metrics.BinaryAccuracy(name='accuracy'),\n",
        "      tf.keras.metrics.Precision(name='precision'),\n",
        "      tf.keras.metrics.Recall(name='recall')\n",
        "]\n",
        "model.compile(optimizer='adam', loss='binary_crossentropy', metrics=['accuracy'])"
      ],
      "metadata": {
        "id": "_WBuwjWiUTiF"
      },
      "execution_count": 20,
      "outputs": []
    },
    {
      "cell_type": "code",
      "source": [
        "import tensorflow_text as text\n",
        "import numpy as np\n",
        "model.fit(x1_train,y1_train, epochs=50)"
      ],
      "metadata": {
        "id": "o0xPcTmIUXXQ",
        "outputId": "46a9a440-54ca-4104-9008-6233c8a6e624",
        "colab": {
          "base_uri": "https://localhost:8080/"
        }
      },
      "execution_count": 27,
      "outputs": [
        {
          "output_type": "stream",
          "name": "stdout",
          "text": [
            "Epoch 1/50\n",
            "289/289 [==============================] - 102s 351ms/step - loss: 0.3582 - accuracy: 0.8451\n",
            "Epoch 2/50\n",
            "289/289 [==============================] - 102s 353ms/step - loss: 0.3524 - accuracy: 0.8528\n",
            "Epoch 3/50\n",
            "289/289 [==============================] - 102s 354ms/step - loss: 0.3558 - accuracy: 0.8484\n",
            "Epoch 4/50\n",
            "289/289 [==============================] - 102s 354ms/step - loss: 0.3444 - accuracy: 0.8522\n",
            "Epoch 5/50\n",
            "289/289 [==============================] - 102s 352ms/step - loss: 0.3444 - accuracy: 0.8547\n",
            "Epoch 6/50\n",
            "289/289 [==============================] - 102s 354ms/step - loss: 0.3424 - accuracy: 0.8575\n",
            "Epoch 7/50\n",
            "289/289 [==============================] - 102s 354ms/step - loss: 0.3388 - accuracy: 0.8534\n",
            "Epoch 8/50\n",
            "289/289 [==============================] - 102s 354ms/step - loss: 0.3374 - accuracy: 0.8551\n",
            "Epoch 9/50\n",
            "289/289 [==============================] - 102s 354ms/step - loss: 0.3380 - accuracy: 0.8567\n",
            "Epoch 10/50\n",
            "289/289 [==============================] - 102s 353ms/step - loss: 0.3337 - accuracy: 0.8592\n",
            "Epoch 11/50\n",
            "289/289 [==============================] - 102s 355ms/step - loss: 0.3310 - accuracy: 0.8593\n",
            "Epoch 12/50\n",
            "289/289 [==============================] - 102s 353ms/step - loss: 0.3301 - accuracy: 0.8583\n",
            "Epoch 13/50\n",
            "289/289 [==============================] - 102s 353ms/step - loss: 0.3287 - accuracy: 0.8605\n",
            "Epoch 14/50\n",
            "289/289 [==============================] - 102s 352ms/step - loss: 0.3263 - accuracy: 0.8591\n",
            "Epoch 15/50\n",
            "289/289 [==============================] - 102s 354ms/step - loss: 0.3224 - accuracy: 0.8616\n",
            "Epoch 16/50\n",
            "289/289 [==============================] - 103s 357ms/step - loss: 0.3271 - accuracy: 0.8598\n",
            "Epoch 17/50\n",
            "289/289 [==============================] - 103s 357ms/step - loss: 0.3278 - accuracy: 0.8580\n",
            "Epoch 18/50\n",
            "289/289 [==============================] - 103s 358ms/step - loss: 0.3269 - accuracy: 0.8618\n",
            "Epoch 19/50\n",
            "289/289 [==============================] - 103s 356ms/step - loss: 0.3244 - accuracy: 0.8621\n",
            "Epoch 20/50\n",
            "289/289 [==============================] - 103s 357ms/step - loss: 0.3192 - accuracy: 0.8666\n",
            "Epoch 21/50\n",
            "289/289 [==============================] - 103s 358ms/step - loss: 0.3222 - accuracy: 0.8630\n",
            "Epoch 22/50\n",
            "289/289 [==============================] - 103s 357ms/step - loss: 0.3177 - accuracy: 0.8638\n",
            "Epoch 23/50\n",
            "289/289 [==============================] - 103s 357ms/step - loss: 0.3181 - accuracy: 0.8681\n",
            "Epoch 24/50\n",
            "289/289 [==============================] - 103s 358ms/step - loss: 0.3190 - accuracy: 0.8638\n",
            "Epoch 25/50\n",
            "289/289 [==============================] - 103s 357ms/step - loss: 0.3154 - accuracy: 0.8671\n",
            "Epoch 26/50\n",
            "289/289 [==============================] - 103s 357ms/step - loss: 0.3207 - accuracy: 0.8627\n",
            "Epoch 27/50\n",
            "289/289 [==============================] - 104s 358ms/step - loss: 0.3156 - accuracy: 0.8673\n",
            "Epoch 28/50\n",
            "289/289 [==============================] - 103s 356ms/step - loss: 0.3200 - accuracy: 0.8644\n",
            "Epoch 29/50\n",
            "289/289 [==============================] - 103s 357ms/step - loss: 0.3118 - accuracy: 0.8705\n",
            "Epoch 30/50\n",
            "289/289 [==============================] - 103s 357ms/step - loss: 0.3152 - accuracy: 0.8691\n",
            "Epoch 31/50\n",
            "289/289 [==============================] - 103s 357ms/step - loss: 0.3152 - accuracy: 0.8688\n",
            "Epoch 32/50\n",
            "289/289 [==============================] - 103s 356ms/step - loss: 0.3144 - accuracy: 0.8658\n",
            "Epoch 33/50\n",
            "289/289 [==============================] - 103s 357ms/step - loss: 0.3155 - accuracy: 0.8703\n",
            "Epoch 34/50\n",
            "289/289 [==============================] - 103s 358ms/step - loss: 0.3223 - accuracy: 0.8584\n",
            "Epoch 35/50\n",
            "289/289 [==============================] - 103s 358ms/step - loss: 0.3158 - accuracy: 0.8663\n",
            "Epoch 36/50\n",
            "289/289 [==============================] - 103s 356ms/step - loss: 0.3160 - accuracy: 0.8674\n",
            "Epoch 37/50\n",
            "289/289 [==============================] - 103s 357ms/step - loss: 0.3140 - accuracy: 0.8682\n",
            "Epoch 38/50\n",
            "289/289 [==============================] - 103s 357ms/step - loss: 0.3157 - accuracy: 0.8687\n",
            "Epoch 39/50\n",
            "289/289 [==============================] - 103s 358ms/step - loss: 0.3122 - accuracy: 0.8689\n",
            "Epoch 40/50\n",
            "289/289 [==============================] - 103s 357ms/step - loss: 0.3141 - accuracy: 0.8652\n",
            "Epoch 41/50\n",
            "289/289 [==============================] - 103s 357ms/step - loss: 0.3120 - accuracy: 0.8680\n",
            "Epoch 42/50\n",
            "289/289 [==============================] - 110s 382ms/step - loss: 0.3107 - accuracy: 0.8704\n",
            "Epoch 43/50\n",
            "289/289 [==============================] - 104s 361ms/step - loss: 0.3065 - accuracy: 0.8689\n",
            "Epoch 44/50\n",
            "289/289 [==============================] - 103s 358ms/step - loss: 0.3166 - accuracy: 0.8642\n",
            "Epoch 45/50\n",
            "289/289 [==============================] - 103s 357ms/step - loss: 0.3110 - accuracy: 0.8714\n",
            "Epoch 46/50\n",
            "289/289 [==============================] - 103s 358ms/step - loss: 0.3124 - accuracy: 0.8678\n",
            "Epoch 47/50\n",
            "289/289 [==============================] - 103s 358ms/step - loss: 0.3152 - accuracy: 0.8651\n",
            "Epoch 48/50\n",
            "289/289 [==============================] - 103s 358ms/step - loss: 0.3108 - accuracy: 0.8690\n",
            "Epoch 49/50\n",
            "289/289 [==============================] - 103s 358ms/step - loss: 0.3149 - accuracy: 0.8686\n",
            "Epoch 50/50\n",
            "289/289 [==============================] - 103s 357ms/step - loss: 0.3147 - accuracy: 0.8683\n"
          ]
        },
        {
          "output_type": "execute_result",
          "data": {
            "text/plain": [
              "<keras.callbacks.History at 0x7f825a09c490>"
            ]
          },
          "metadata": {},
          "execution_count": 27
        }
      ]
    },
    {
      "cell_type": "code",
      "source": [
        "model.evaluate(x1_test,y1_test)"
      ],
      "metadata": {
        "id": "MUGKUu2tUbBx",
        "outputId": "a54e7180-e5ef-45bb-87c9-cdbb055cb6e4",
        "colab": {
          "base_uri": "https://localhost:8080/"
        }
      },
      "execution_count": 28,
      "outputs": [
        {
          "output_type": "stream",
          "name": "stdout",
          "text": [
            "124/124 [==============================] - 45s 359ms/step - loss: 0.2752 - accuracy: 0.8878\n"
          ]
        },
        {
          "output_type": "execute_result",
          "data": {
            "text/plain": [
              "[0.27524587512016296, 0.8877654075622559]"
            ]
          },
          "metadata": {},
          "execution_count": 28
        }
      ]
    },
    {
      "cell_type": "code",
      "source": [
        "from sklearn.metrics import confusion_matrix\n",
        "y_predict = model.predict(x1_test)"
      ],
      "metadata": {
        "id": "-gZfGtSIUlBQ",
        "outputId": "2283d950-efc9-4244-b365-2c81d8282494",
        "colab": {
          "base_uri": "https://localhost:8080/"
        }
      },
      "execution_count": 29,
      "outputs": [
        {
          "output_type": "stream",
          "name": "stdout",
          "text": [
            "124/124 [==============================] - 54s 433ms/step\n"
          ]
        }
      ]
    },
    {
      "cell_type": "code",
      "source": [
        "y_prn = []\n",
        "for i in y_predict:\n",
        "    if i>0.5:\n",
        "        y_prn.append(1)  \n",
        "    else:\n",
        "        y_prn.append(0)\n",
        "from sklearn.metrics import classification_report,accuracy_score,roc_auc_score,precision_score, confusion_matrix,recall_score\n",
        "print('Model: Neural Networks')\n",
        "print('Accuracy: 0.8878')\n",
        "print('Precision:',precision_score(y1_test,y_prn))\n",
        "print('AUC:',roc_auc_score(y1_test,y_prn ))\n",
        "cmm = confusion_matrix(y1_test,y_prn)\n",
        "sns.heatmap(cmm, annot=True, fmt='d')\n",
        "plt.show()"
      ],
      "metadata": {
        "id": "OtffOHQT2ayo",
        "outputId": "1ec6d030-0c08-4915-eebf-ce3e1bf44b30",
        "colab": {
          "base_uri": "https://localhost:8080/",
          "height": 334
        }
      },
      "execution_count": 35,
      "outputs": [
        {
          "output_type": "stream",
          "name": "stdout",
          "text": [
            "Model: Neural Networks\n",
            "Accuracy: 0.8878\n",
            "Precision: 0.8565169769989047\n",
            "AUC: 0.8886048524617354\n"
          ]
        },
        {
          "output_type": "display_data",
          "data": {
            "text/plain": [
              "<Figure size 432x288 with 2 Axes>"
            ],
            "image/png": "[encoded data removed]"
          },
          "metadata": {
            "needs_background": "light"
          }
        }
      ]
    },
    {
      "cell_type": "code",
      "source": [
        "y1_test.value_counts()"
      ],
      "metadata": {
        "id": "TTUeSRUt32Mk",
        "outputId": "6fafba3a-32e3-4ba8-e985-e5bb96501b9e",
        "colab": {
          "base_uri": "https://localhost:8080/"
        }
      },
      "execution_count": 36,
      "outputs": [
        {
          "output_type": "execute_result",
          "data": {
            "text/plain": [
              "0    2210\n",
              "1    1746\n",
              "Name: label, dtype: int64"
            ]
          },
          "metadata": {},
          "execution_count": 36
        }
      ]
    },
    {
      "cell_type": "code",
      "source": [
        ""
      ],
      "metadata": {
        "id": "XpTkL9uh36cq"
      },
      "execution_count": null,
      "outputs": []
    }
  ]
}
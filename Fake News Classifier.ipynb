{
  "nbformat": 4,
  "nbformat_minor": 0,
  "metadata": {
    "colab": {
      "name": "Fake_News_Classifier.ipynb",
      "provenance": [],
      "collapsed_sections": [],
      "authorship_tag": "ABX9TyNxmMM0uaRkH2cCNsZWOGEf",
      "include_colab_link": true
    },
    "kernelspec": {
      "name": "python3",
      "display_name": "Python 3"
    },
    "language_info": {
      "name": "python"
    },
    "accelerator": "GPU",
    "gpuClass": "standard"
  },
  "cells": [
    {
      "cell_type": "markdown",
      "metadata": {
        "id": "view-in-github",
        "colab_type": "text"
      },
      "source": [
        "<a href=\"https://colab.research.google.com/github/Stitaprajna/AllMyProjects/blob/main/Fake%20News%20Classifier.ipynb\" target=\"_parent\"><img src=\"https://colab.research.google.com/assets/colab-badge.svg\" alt=\"Open In Colab\"/></a>"
      ]
    },
    {
      "cell_type": "markdown",
      "source": [
        "# Fake News Classifier"
      ],
      "metadata": {
        "id": "IbNkl3vsoA-b"
      }
    },
    {
      "cell_type": "code",
      "source": [
        "import pandas as pd"
      ],
      "metadata": {
        "id": "qRJ2rzfDoLQx"
      },
      "execution_count": 2,
      "outputs": []
    },
    {
      "cell_type": "code",
      "source": [
        "df = pd.read_csv('/content/train.csv',encoding = 'utf-8')"
      ],
      "metadata": {
        "id": "Jz2bbb1VIEUc"
      },
      "execution_count": 37,
      "outputs": []
    },
    {
      "cell_type": "code",
      "source": [
        "df.head()"
      ],
      "metadata": {
        "colab": {
          "base_uri": "https://localhost:8080/",
          "height": 206
        },
        "id": "bQDGf4WRIpge",
        "outputId": "e2715647-d1c6-4e06-caeb-ae2c4817369c"
      },
      "execution_count": 38,
      "outputs": [
        {
          "output_type": "execute_result",
          "data": {
            "text/plain": [
              "   id                                              title              author  \\\n",
              "0   0  House Dem Aide: We Didn’t Even See Comey’s Let...       Darrell Lucus   \n",
              "1   1  FLYNN: Hillary Clinton, Big Woman on Campus - ...     Daniel J. Flynn   \n",
              "2   2                  Why the Truth Might Get You Fired  Consortiumnews.com   \n",
              "3   3  15 Civilians Killed In Single US Airstrike Hav...     Jessica Purkiss   \n",
              "4   4  Iranian woman jailed for fictional unpublished...      Howard Portnoy   \n",
              "\n",
              "                                                text  label  \n",
              "0  House Dem Aide: We Didn’t Even See Comey’s Let...      1  \n",
              "1  Ever get the feeling your life circles the rou...      0  \n",
              "2  Why the Truth Might Get You Fired October 29, ...      1  \n",
              "3  Videos 15 Civilians Killed In Single US Airstr...      1  \n",
              "4  Print \\nAn Iranian woman has been sentenced to...      1  "
            ],
            "text/html": [
              "\n",
              "  <div id=\"df-9753a634-4ae1-4427-aec5-de8dc989c60c\">\n",
              "    <div class=\"colab-df-container\">\n",
              "      <div>\n",
              "<style scoped>\n",
              "    .dataframe tbody tr th:only-of-type {\n",
              "        vertical-align: middle;\n",
              "    }\n",
              "\n",
              "    .dataframe tbody tr th {\n",
              "        vertical-align: top;\n",
              "    }\n",
              "\n",
              "    .dataframe thead th {\n",
              "        text-align: right;\n",
              "    }\n",
              "</style>\n",
              "<table border=\"1\" class=\"dataframe\">\n",
              "  <thead>\n",
              "    <tr style=\"text-align: right;\">\n",
              "      <th></th>\n",
              "      <th>id</th>\n",
              "      <th>title</th>\n",
              "      <th>author</th>\n",
              "      <th>text</th>\n",
              "      <th>label</th>\n",
              "    </tr>\n",
              "  </thead>\n",
              "  <tbody>\n",
              "    <tr>\n",
              "      <th>0</th>\n",
              "      <td>0</td>\n",
              "      <td>House Dem Aide: We Didn’t Even See Comey’s Let...</td>\n",
              "      <td>Darrell Lucus</td>\n",
              "      <td>House Dem Aide: We Didn’t Even See Comey’s Let...</td>\n",
              "      <td>1</td>\n",
              "    </tr>\n",
              "    <tr>\n",
              "      <th>1</th>\n",
              "      <td>1</td>\n",
              "      <td>FLYNN: Hillary Clinton, Big Woman on Campus - ...</td>\n",
              "      <td>Daniel J. Flynn</td>\n",
              "      <td>Ever get the feeling your life circles the rou...</td>\n",
              "      <td>0</td>\n",
              "    </tr>\n",
              "    <tr>\n",
              "      <th>2</th>\n",
              "      <td>2</td>\n",
              "      <td>Why the Truth Might Get You Fired</td>\n",
              "      <td>Consortiumnews.com</td>\n",
              "      <td>Why the Truth Might Get You Fired October 29, ...</td>\n",
              "      <td>1</td>\n",
              "    </tr>\n",
              "    <tr>\n",
              "      <th>3</th>\n",
              "      <td>3</td>\n",
              "      <td>15 Civilians Killed In Single US Airstrike Hav...</td>\n",
              "      <td>Jessica Purkiss</td>\n",
              "      <td>Videos 15 Civilians Killed In Single US Airstr...</td>\n",
              "      <td>1</td>\n",
              "    </tr>\n",
              "    <tr>\n",
              "      <th>4</th>\n",
              "      <td>4</td>\n",
              "      <td>Iranian woman jailed for fictional unpublished...</td>\n",
              "      <td>Howard Portnoy</td>\n",
              "      <td>Print \\nAn Iranian woman has been sentenced to...</td>\n",
              "      <td>1</td>\n",
              "    </tr>\n",
              "  </tbody>\n",
              "</table>\n",
              "</div>\n",
              "      <button class=\"colab-df-convert\" onclick=\"convertToInteractive('df-9753a634-4ae1-4427-aec5-de8dc989c60c')\"\n",
              "              title=\"Convert this dataframe to an interactive table.\"\n",
              "              style=\"display:none;\">\n",
              "        \n",
              "  <svg xmlns=\"http://www.w3.org/2000/svg\" height=\"24px\"viewBox=\"0 0 24 24\"\n",
              "       width=\"24px\">\n",
              "    <path d=\"M0 0h24v24H0V0z\" fill=\"none\"/>\n",
              "    <path d=\"M18.56 5.44l.94 2.06.94-2.06 2.06-.94-2.06-.94-.94-2.06-.94 2.06-2.06.94zm-11 1L8.5 8.5l.94-2.06 2.06-.94-2.06-.94L8.5 2.5l-.94 2.06-2.06.94zm10 10l.94 2.06.94-2.06 2.06-.94-2.06-.94-.94-2.06-.94 2.06-2.06.94z\"/><path d=\"M17.41 7.96l-1.37-1.37c-.4-.4-.92-.59-1.43-.59-.52 0-1.04.2-1.43.59L10.3 9.45l-7.72 7.72c-.78.78-.78 2.05 0 2.83L4 21.41c.39.39.9.59 1.41.59.51 0 1.02-.2 1.41-.59l7.78-7.78 2.81-2.81c.8-.78.8-2.07 0-2.86zM5.41 20L4 18.59l7.72-7.72 1.47 1.35L5.41 20z\"/>\n",
              "  </svg>\n",
              "      </button>\n",
              "      \n",
              "  <style>\n",
              "    .colab-df-container {\n",
              "      display:flex;\n",
              "      flex-wrap:wrap;\n",
              "      gap: 12px;\n",
              "    }\n",
              "\n",
              "    .colab-df-convert {\n",
              "      background-color: #E8F0FE;\n",
              "      border: none;\n",
              "      border-radius: 50%;\n",
              "      cursor: pointer;\n",
              "      display: none;\n",
              "      fill: #1967D2;\n",
              "      height: 32px;\n",
              "      padding: 0 0 0 0;\n",
              "      width: 32px;\n",
              "    }\n",
              "\n",
              "    .colab-df-convert:hover {\n",
              "      background-color: #E2EBFA;\n",
              "      box-shadow: 0px 1px 2px rgba(60, 64, 67, 0.3), 0px 1px 3px 1px rgba(60, 64, 67, 0.15);\n",
              "      fill: #174EA6;\n",
              "    }\n",
              "\n",
              "    [theme=dark] .colab-df-convert {\n",
              "      background-color: #3B4455;\n",
              "      fill: #D2E3FC;\n",
              "    }\n",
              "\n",
              "    [theme=dark] .colab-df-convert:hover {\n",
              "      background-color: #434B5C;\n",
              "      box-shadow: 0px 1px 3px 1px rgba(0, 0, 0, 0.15);\n",
              "      filter: drop-shadow(0px 1px 2px rgba(0, 0, 0, 0.3));\n",
              "      fill: #FFFFFF;\n",
              "    }\n",
              "  </style>\n",
              "\n",
              "      <script>\n",
              "        const buttonEl =\n",
              "          document.querySelector('#df-9753a634-4ae1-4427-aec5-de8dc989c60c button.colab-df-convert');\n",
              "        buttonEl.style.display =\n",
              "          google.colab.kernel.accessAllowed ? 'block' : 'none';\n",
              "\n",
              "        async function convertToInteractive(key) {\n",
              "          const element = document.querySelector('#df-9753a634-4ae1-4427-aec5-de8dc989c60c');\n",
              "          const dataTable =\n",
              "            await google.colab.kernel.invokeFunction('convertToInteractive',\n",
              "                                                     [key], {});\n",
              "          if (!dataTable) return;\n",
              "\n",
              "          const docLinkHtml = 'Like what you see? Visit the ' +\n",
              "            '<a target=\"_blank\" href=https://colab.research.google.com/notebooks/data_table.ipynb>data table notebook</a>'\n",
              "            + ' to learn more about interactive tables.';\n",
              "          element.innerHTML = '';\n",
              "          dataTable['output_type'] = 'display_data';\n",
              "          await google.colab.output.renderOutput(dataTable, element);\n",
              "          const docLink = document.createElement('div');\n",
              "          docLink.innerHTML = docLinkHtml;\n",
              "          element.appendChild(docLink);\n",
              "        }\n",
              "      </script>\n",
              "    </div>\n",
              "  </div>\n",
              "  "
            ]
          },
          "metadata": {},
          "execution_count": 38
        }
      ]
    },
    {
      "cell_type": "code",
      "source": [
        "df.isnull().sum()"
      ],
      "metadata": {
        "colab": {
          "base_uri": "https://localhost:8080/"
        },
        "id": "3GPJ3ay3OE7j",
        "outputId": "c0266e99-3365-4237-c11a-0d8b077578bb"
      },
      "execution_count": 39,
      "outputs": [
        {
          "output_type": "execute_result",
          "data": {
            "text/plain": [
              "id           0\n",
              "title      558\n",
              "author    1957\n",
              "text        39\n",
              "label        0\n",
              "dtype: int64"
            ]
          },
          "metadata": {},
          "execution_count": 39
        }
      ]
    },
    {
      "cell_type": "code",
      "source": [
        "df.groupby('label')['label'].agg('count')"
      ],
      "metadata": {
        "colab": {
          "base_uri": "https://localhost:8080/"
        },
        "id": "-kJB4dhzHSeo",
        "outputId": "d6fdac11-d1ee-4695-eba3-6dd6870f0265"
      },
      "execution_count": 40,
      "outputs": [
        {
          "output_type": "execute_result",
          "data": {
            "text/plain": [
              "label\n",
              "0    10387\n",
              "1    10413\n",
              "Name: label, dtype: int64"
            ]
          },
          "metadata": {},
          "execution_count": 40
        }
      ]
    },
    {
      "cell_type": "code",
      "source": [
        "import seaborn as sn\n",
        "import matplotlib.pyplot as plt\n",
        "DF = df.copy()\n",
        "replace = {0:'Real',1:'fake'}\n",
        "DF['label'] = DF['label'].replace(replace)\n",
        "sn.displot(DF['label'])\n",
        "plt.show()"
      ],
      "metadata": {
        "colab": {
          "base_uri": "https://localhost:8080/",
          "height": 369
        },
        "id": "aVV8qUIgItDN",
        "outputId": "a2016f15-c9f4-4905-a9b4-588d9335f055"
      },
      "execution_count": 5,
      "outputs": [
        {
          "output_type": "display_data",
          "data": {
            "text/plain": [
              "<Figure size 360x360 with 1 Axes>"
            ],
            "image/png": "[encoded data removed]"
          },
          "metadata": {
            "needs_background": "light"
          }
        }
      ]
    },
    {
      "cell_type": "markdown",
      "source": [
        "This is definitely not an **imbalanced dataset**, so accuracy metric will be a good measure for evaluation. But, still **AUC** is a good evaluation metrics. So, we will evaluate 'Accuarcy', 'Precision', 'AUC' metric to select the best model."
      ],
      "metadata": {
        "id": "LjNVO3hOJ0y6"
      }
    },
    {
      "cell_type": "markdown",
      "source": [
        "# Using Multinomail Naive-Bayes & Passive-Aggresive Classifier (ML approach)"
      ],
      "metadata": {
        "id": "ar23ayvW8b4y"
      }
    },
    {
      "cell_type": "code",
      "source": [
        "from sklearn.feature_extraction.text import CountVectorizer, TfidfVectorizer, HashingVectorizer"
      ],
      "metadata": {
        "id": "yxD8lazpUXwN"
      },
      "execution_count": 41,
      "outputs": []
    },
    {
      "cell_type": "code",
      "source": [
        "import nltk\n",
        "import re"
      ],
      "metadata": {
        "id": "4DY_-JjsUdBD"
      },
      "execution_count": 42,
      "outputs": []
    },
    {
      "cell_type": "code",
      "source": [
        "df = df.dropna()"
      ],
      "metadata": {
        "id": "EqwLOn4WUjN9"
      },
      "execution_count": 43,
      "outputs": []
    },
    {
      "cell_type": "code",
      "source": [
        "df.reset_index(inplace=True)"
      ],
      "metadata": {
        "id": "pqGHLvRUUmzX"
      },
      "execution_count": 44,
      "outputs": []
    },
    {
      "cell_type": "code",
      "source": [
        "from nltk.corpus import stopwords\n",
        "from nltk.stem.porter import PorterStemmer"
      ],
      "metadata": {
        "id": "YP6UaM3vUqX6"
      },
      "execution_count": 45,
      "outputs": []
    },
    {
      "cell_type": "code",
      "source": [
        "from nltk.stem import WordNetLemmatizer"
      ],
      "metadata": {
        "id": "8jyO-BQjUuNi"
      },
      "execution_count": 46,
      "outputs": []
    },
    {
      "cell_type": "code",
      "source": [
        "lr = WordNetLemmatizer()\n",
        "ps = PorterStemmer()"
      ],
      "metadata": {
        "id": "5sMW65xEU0zP"
      },
      "execution_count": 47,
      "outputs": []
    },
    {
      "cell_type": "code",
      "source": [
        "import nltk\n",
        "nltk.download('stopwords')"
      ],
      "metadata": {
        "id": "B6uYGYpP-nok",
        "outputId": "f272e69c-e7e7-409b-c5d4-7cbe7b8ed23d",
        "colab": {
          "base_uri": "https://localhost:8080/"
        }
      },
      "execution_count": 48,
      "outputs": [
        {
          "output_type": "stream",
          "name": "stderr",
          "text": [
            "[nltk_data] Downloading package stopwords to /root/nltk_data...\n",
            "[nltk_data]   Unzipping corpora/stopwords.zip.\n"
          ]
        },
        {
          "output_type": "execute_result",
          "data": {
            "text/plain": [
              "True"
            ]
          },
          "metadata": {},
          "execution_count": 48
        }
      ]
    },
    {
      "cell_type": "markdown",
      "source": [
        "# (i) Using title as feature"
      ],
      "metadata": {
        "id": "kqjzGh2k77wR"
      }
    },
    {
      "cell_type": "markdown",
      "source": [
        "Here we will use only the 'News Headline' for training and testing. Lets see how the evaluation metrics perform here."
      ],
      "metadata": {
        "id": "H3XVLykt_kFB"
      }
    },
    {
      "cell_type": "markdown",
      "source": [
        "### Naive Bayes"
      ],
      "metadata": {
        "id": "IWHlBNJNzhJF"
      }
    },
    {
      "cell_type": "code",
      "source": [
        "corpus = []\n",
        "for i in range(len(df)):\n",
        "    review = re.sub('[^a-zA-Z]', ' ', df['title'][i])\n",
        "    review = review.lower()\n",
        "    review = review.split()\n",
        "    review = [ps.stem(str(word)) for word in review if not word in stopwords.words('english')]\n",
        "    review = ' '.join(review)\n",
        "    corpus.append(review)"
      ],
      "metadata": {
        "id": "6rKDhnlbU_ui"
      },
      "execution_count": 14,
      "outputs": []
    },
    {
      "cell_type": "code",
      "source": [
        "cv = CountVectorizer(max_features=5000,ngram_range=(1,3))\n",
        "X = cv.fit_transform(corpus).toarray()"
      ],
      "metadata": {
        "id": "l_IOQUm8WjiN"
      },
      "execution_count": 15,
      "outputs": []
    },
    {
      "cell_type": "code",
      "source": [
        "from sklearn.model_selection import train_test_split\n",
        "y = df.label"
      ],
      "metadata": {
        "id": "X2U-mpsSWv4N"
      },
      "execution_count": 16,
      "outputs": []
    },
    {
      "cell_type": "code",
      "source": [
        "x_train,x_test,y_train,y_test = train_test_split(X,y,test_size=0.3,random_state=0)"
      ],
      "metadata": {
        "id": "O-y17umWWxYH"
      },
      "execution_count": 17,
      "outputs": []
    },
    {
      "cell_type": "code",
      "source": [
        "from sklearn.naive_bayes import MultinomialNB\n",
        "naive_bayes = MultinomialNB()\n",
        "model = naive_bayes.fit(x_train,y_train)"
      ],
      "metadata": {
        "id": "9wEawu7lW1Xj"
      },
      "execution_count": 18,
      "outputs": []
    },
    {
      "cell_type": "code",
      "source": [
        "from sklearn import metrics\n",
        "y_pred = model.predict(x_test)\n",
        "cm = metrics.confusion_matrix(y_test,y_pred)\n",
        "import matplotlib.pyplot as plt\n",
        "import seaborn as sn"
      ],
      "metadata": {
        "id": "2w_jfwzvXbG_"
      },
      "execution_count": 19,
      "outputs": []
    },
    {
      "cell_type": "code",
      "source": [
        "print('Model: Multinomial Naive-Bayes')\n",
        "print('Accuracy:',model.score(x_test,y_test))\n",
        "print('Precision:',metrics.precision_score(y_test,y_pred))\n",
        "print('AUC:',metrics.roc_auc_score(y_test,y_pred ))\n",
        "sn.heatmap(cm,annot=True,fmt='d')\n",
        "plt.xlabel('Predicted')\n",
        "plt.ylabel('True')\n",
        "plt.title('Confusion Matrix')\n",
        "plt.show()   "
      ],
      "metadata": {
        "colab": {
          "base_uri": "https://localhost:8080/",
          "height": 364
        },
        "id": "xeT0jRQzX2G2",
        "outputId": "9e2d7c6f-6676-4090-f44e-a4825838520d"
      },
      "execution_count": 20,
      "outputs": [
        {
          "output_type": "stream",
          "name": "stdout",
          "text": [
            "Model: Multinomial Naive-Bayes\n",
            "Accuracy: 0.9017499088589136\n",
            "Precision: 0.8733466933867735\n",
            "AUC: 0.902348183690418\n"
          ]
        },
        {
          "output_type": "display_data",
          "data": {
            "text/plain": [
              "<Figure size 432x288 with 2 Axes>"
            ],
            "image/png": "[encoded data removed]"
          },
          "metadata": {
            "needs_background": "light"
          }
        }
      ]
    },
    {
      "cell_type": "markdown",
      "source": [
        "The result is good but we can perform better, so lets check how the next classifier performs. "
      ],
      "metadata": {
        "id": "ESsSr02-_TVl"
      }
    },
    {
      "cell_type": "markdown",
      "source": [
        "### Passive Aggresive Classifier\n",
        "\n",
        "\n",
        "\n"
      ],
      "metadata": {
        "id": "5dVd6i5kzmXt"
      }
    },
    {
      "cell_type": "code",
      "source": [
        "# PassiveAgressiveClassifier\n",
        "from sklearn.linear_model import PassiveAggressiveClassifier\n",
        "Passive_Aggressive_model = PassiveAggressiveClassifier()\n",
        "model12 = Passive_Aggressive_model.fit(x_train,y_train)\n",
        "y_pred_PAC = model12.predict(x_test)\n",
        "CM = metrics.confusion_matrix(y_test, y_pred_PAC)"
      ],
      "metadata": {
        "id": "YuF3JjT-X8Dz"
      },
      "execution_count": 21,
      "outputs": []
    },
    {
      "cell_type": "code",
      "source": [
        "print('Model: Passive-Agressive Classifier')\n",
        "print('Accuracy:',model12.score(x_test,y_test))\n",
        "print('Precision:',metrics.precision_score(y_test,y_pred))\n",
        "print('AUC:',metrics.roc_auc_score(y_test,y_pred))\n",
        "sn.heatmap(CM,annot=True,fmt='d')\n",
        "plt.xlabel('Predicted')\n",
        "plt.ylabel('True')\n",
        "plt.title('Confusion Matrix')\n",
        "plt.show()"
      ],
      "metadata": {
        "colab": {
          "base_uri": "https://localhost:8080/",
          "height": 364
        },
        "id": "uClZwkAMYeGi",
        "outputId": "bf279563-b0eb-4306-952c-9116eb15b7cc"
      },
      "execution_count": 22,
      "outputs": [
        {
          "output_type": "stream",
          "name": "stdout",
          "text": [
            "Model: Passive-Agressive Classifier\n",
            "Accuracy: 0.9163324826831936\n",
            "Precision: 0.8733466933867735\n",
            "AUC: 0.902348183690418\n"
          ]
        },
        {
          "output_type": "display_data",
          "data": {
            "text/plain": [
              "<Figure size 432x288 with 2 Axes>"
            ],
            "image/png": "[encoded data removed]"
          },
          "metadata": {
            "needs_background": "light"
          }
        }
      ]
    },
    {
      "cell_type": "markdown",
      "source": [
        "The scores are not bad but can be improved. Because this just the 'News Headline', so its not a sufficient data to do the sentiment analysis. The model might perform better when we use whole news for training-testing. "
      ],
      "metadata": {
        "id": "nx52o_BR-NDy"
      }
    },
    {
      "cell_type": "markdown",
      "source": [
        "# (ii) Using text as a feature instead of title"
      ],
      "metadata": {
        "id": "ZRXBG70bYshP"
      }
    },
    {
      "cell_type": "markdown",
      "source": [
        "Here, we are going train-test the whole 'News', and see how the ML models perform here. We will us the ML models and evaluation metrics as used in the previous section."
      ],
      "metadata": {
        "id": "_3V_NfGI-4JD"
      }
    },
    {
      "cell_type": "code",
      "source": [
        "df1 = df.copy()\n",
        "#df1 = df1.sample(5000)\n",
        "df1.reset_index(inplace=True)"
      ],
      "metadata": {
        "id": "tnEMnjS-lxeh"
      },
      "execution_count": 83,
      "outputs": []
    },
    {
      "cell_type": "code",
      "source": [
        "corpus1 = []\n",
        "for i in range(len(df)):\n",
        "    review = re.sub('[^a-zA-Z]', ' ', df['text'][i])\n",
        "    review = review.lower()\n",
        "    review = review.split()\n",
        "    review = [ps.stem(str(word)) for word in review if not word in stopwords.words('english')]\n",
        "    review = ' '.join(review)\n",
        "    corpus1.append(review)"
      ],
      "metadata": {
        "id": "SZ6YRixjYwX1"
      },
      "execution_count": 49,
      "outputs": []
    },
    {
      "cell_type": "code",
      "source": [
        "cv1 = TfidfVectorizer(max_features=5000,ngram_range=(1,3))"
      ],
      "metadata": {
        "id": "CqVb5Atqg3lV"
      },
      "execution_count": 25,
      "outputs": []
    },
    {
      "cell_type": "code",
      "source": [
        "x = cv1.fit_transform(corpus1).toarray()"
      ],
      "metadata": {
        "id": "zUWMMpOaiAyC"
      },
      "execution_count": 26,
      "outputs": []
    },
    {
      "cell_type": "code",
      "source": [
        "Y = df.label\n",
        "X_train,X_test,Y_train,Y_test = train_test_split(x,Y,test_size=0.3,random_state=0)"
      ],
      "metadata": {
        "id": "Uq48zc2njK1-"
      },
      "execution_count": 28,
      "outputs": []
    },
    {
      "cell_type": "markdown",
      "source": [
        "### Naive Bayes"
      ],
      "metadata": {
        "id": "o6DH5TCB0UVQ"
      }
    },
    {
      "cell_type": "code",
      "source": [
        "NB = MultinomialNB()\n",
        "model2= NB.fit(X_train,Y_train)"
      ],
      "metadata": {
        "id": "mWXJWkkkj2je"
      },
      "execution_count": 29,
      "outputs": []
    },
    {
      "cell_type": "code",
      "source": [
        "model2.score(X_test,Y_test)"
      ],
      "metadata": {
        "colab": {
          "base_uri": "https://localhost:8080/"
        },
        "id": "siT2qk8Dlzk6",
        "outputId": "0eb12f99-497a-4e28-97bd-6b1c039ef0b5"
      },
      "execution_count": 30,
      "outputs": [
        {
          "output_type": "execute_result",
          "data": {
            "text/plain": [
              "0.9017499088589136"
            ]
          },
          "metadata": {},
          "execution_count": 30
        }
      ]
    },
    {
      "cell_type": "code",
      "source": [
        "Y_pred = model2.predict(X_test)\n",
        "cm = metrics.confusion_matrix(Y_test,Y_pred)"
      ],
      "metadata": {
        "id": "Egpcvv0ZnBP-"
      },
      "execution_count": 31,
      "outputs": []
    },
    {
      "cell_type": "code",
      "source": [
        "print('Model: Multinomial Naive-Bayes Classifier')\n",
        "print('Accuracy:',model2.score(X_test,Y_test))\n",
        "print('Precision:',metrics.precision_score(Y_test,Y_pred))\n",
        "print('AUC:',metrics.roc_auc_score(Y_test,Y_pred))\n",
        "sn.heatmap(cm,annot=True,fmt='d')\n",
        "plt.xlabel('Predicted')\n",
        "plt.ylabel('True')\n",
        "plt.title('Confusion Matrix')\n",
        "plt.show()"
      ],
      "metadata": {
        "colab": {
          "base_uri": "https://localhost:8080/",
          "height": 364
        },
        "id": "ePNEkUkk0rXS",
        "outputId": "0e0f1271-bb1b-4af1-f7c8-20425e8c1da9"
      },
      "execution_count": 32,
      "outputs": [
        {
          "output_type": "stream",
          "name": "stdout",
          "text": [
            "Model: Multinomial Naive-Bayes Classifier\n",
            "Accuracy: 0.9017499088589136\n",
            "Precision: 0.9367088607594937\n",
            "AUC: 0.8940162542887413\n"
          ]
        },
        {
          "output_type": "display_data",
          "data": {
            "text/plain": [
              "<Figure size 432x288 with 2 Axes>"
            ],
            "image/png": "[encoded data removed]"
          },
          "metadata": {
            "needs_background": "light"
          }
        }
      ]
    },
    {
      "cell_type": "markdown",
      "source": [
        "The results are somewhat better but not much different. So, lets check if the other model performs better."
      ],
      "metadata": {
        "id": "cA3_QoHH_5sT"
      }
    },
    {
      "cell_type": "code",
      "source": [
        "# PassiveAgressiveClassifier\n",
        "Passive_Aggressive_model = PassiveAggressiveClassifier()\n",
        "model22 = Passive_Aggressive_model.fit(X_train,Y_train)\n",
        "Y_preD = model22.predict(X_test)\n",
        "CM1 = metrics.confusion_matrix(Y_test, Y_preD)"
      ],
      "metadata": {
        "id": "TWEuwa3e2V94"
      },
      "execution_count": 33,
      "outputs": []
    },
    {
      "cell_type": "code",
      "source": [
        "print('Model: Passive-Agressive Classfier')\n",
        "print('Accuracy:',model22.score(X_test,Y_test))\n",
        "print('Precision:',metrics.precision_score(Y_test,Y_preD))\n",
        "print('AUC:',metrics.roc_auc_score(Y_test,Y_preD))\n",
        "sn.heatmap(CM1,annot=True,fmt='d')\n",
        "plt.xlabel('Predicted')\n",
        "plt.ylabel('True')\n",
        "plt.title('Confusion Matrix')\n",
        "plt.show()"
      ],
      "metadata": {
        "colab": {
          "base_uri": "https://localhost:8080/",
          "height": 364
        },
        "id": "q8XJDA3e-aw6",
        "outputId": "1f738157-523e-4ac9-84df-d9f8721f3210"
      },
      "execution_count": 34,
      "outputs": [
        {
          "output_type": "stream",
          "name": "stdout",
          "text": [
            "Model: Passive-Agressive Classfier\n",
            "Accuracy: 0.9502369668246445\n",
            "Precision: 0.9429879317519767\n",
            "AUC: 0.949478844369856\n"
          ]
        },
        {
          "output_type": "display_data",
          "data": {
            "text/plain": [
              "<Figure size 432x288 with 2 Axes>"
            ],
            "image/png": "[encoded data removed]"
          },
          "metadata": {
            "needs_background": "light"
          }
        }
      ]
    },
    {
      "cell_type": "markdown",
      "source": [
        "So, the results are quite amazing. We are getting very scores, for all the evaluation metrics. Thus, this model can be used for deployment. But, before that, lets check the how Deep Leaning models like LSTM and BERT perform on this data."
      ],
      "metadata": {
        "id": "5YAMSgOPAdu2"
      }
    },
    {
      "cell_type": "markdown",
      "source": [
        "# Using LSTM & Bi-Directional Neural Networks (Deep Learning)"
      ],
      "metadata": {
        "id": "zeN1W_hRlB36"
      }
    },
    {
      "cell_type": "code",
      "source": [
        "y_f = df.label"
      ],
      "metadata": {
        "id": "vxI7IGBmnxcU"
      },
      "execution_count": 57,
      "outputs": []
    },
    {
      "cell_type": "code",
      "source": [
        "y_f.shape"
      ],
      "metadata": {
        "colab": {
          "base_uri": "https://localhost:8080/"
        },
        "id": "S_5po9ESunk4",
        "outputId": "d329b5c2-3889-4e94-b245-4aff510c519b"
      },
      "execution_count": 48,
      "outputs": [
        {
          "output_type": "execute_result",
          "data": {
            "text/plain": [
              "(18285,)"
            ]
          },
          "metadata": {},
          "execution_count": 48
        }
      ]
    },
    {
      "cell_type": "code",
      "source": [
        "from tensorflow.keras.layers import Embedding, LSTM, Dense\n",
        "from tensorflow.keras.preprocessing.sequence import pad_sequences\n",
        "from tensorflow.keras.models import Sequential\n",
        "from tensorflow.keras.preprocessing.text import one_hot"
      ],
      "metadata": {
        "id": "C81B4lRUuqEE"
      },
      "execution_count": 52,
      "outputs": []
    },
    {
      "cell_type": "markdown",
      "source": [
        "#(i) Using title for training the model"
      ],
      "metadata": {
        "id": "sF4wNKxcJD0r"
      }
    },
    {
      "cell_type": "markdown",
      "source": [
        "### LSTM"
      ],
      "metadata": {
        "id": "THNMZbh9NMD8"
      }
    },
    {
      "cell_type": "code",
      "source": [
        "voc_size=5000"
      ],
      "metadata": {
        "id": "3_MRogXZzEAR"
      },
      "execution_count": 62,
      "outputs": []
    },
    {
      "cell_type": "code",
      "source": [
        "one_hot_rep = [one_hot(words,voc_size) for words in corpus] "
      ],
      "metadata": {
        "id": "pNXpgS1V0Dq8"
      },
      "execution_count": 51,
      "outputs": []
    },
    {
      "cell_type": "code",
      "source": [
        "sent_length = 20\n",
        "embedded_docs = pad_sequences(one_hot_rep, padding = 'pre', maxlen=sent_length)"
      ],
      "metadata": {
        "id": "geOBenxK6uSb"
      },
      "execution_count": 53,
      "outputs": []
    },
    {
      "cell_type": "code",
      "source": [
        "embedded_docs"
      ],
      "metadata": {
        "colab": {
          "base_uri": "https://localhost:8080/"
        },
        "id": "r_NFwd48-apX",
        "outputId": "4af82370-48ae-450d-afbf-592778640bdf"
      },
      "execution_count": 54,
      "outputs": [
        {
          "output_type": "execute_result",
          "data": {
            "text/plain": [
              "array([[   0,    0,    0, ..., 2342, 3791, 3076],\n",
              "       [   0,    0,    0, ..., 4512, 4373, 2964],\n",
              "       [   0,    0,    0, ...,  820, 2645, 1261],\n",
              "       ...,\n",
              "       [   0,    0,    0, ..., 2392, 3568, 3350],\n",
              "       [   0,    0,    0, ...,  269,  765,  108],\n",
              "       [   0,    0,    0, ..., 4478,   13, 1108]], dtype=int32)"
            ]
          },
          "metadata": {},
          "execution_count": 54
        }
      ]
    },
    {
      "cell_type": "code",
      "source": [
        "embedding_vec_features = 40"
      ],
      "metadata": {
        "id": "CKcLX-ph-ozR"
      },
      "execution_count": 55,
      "outputs": []
    },
    {
      "cell_type": "code",
      "source": [
        "# LSTM\n",
        "model = Sequential()\n",
        "model.add(Embedding(voc_size,embedding_vec_features,input_length=sent_length))\n",
        "model.add(LSTM(100))\n",
        "'''model.add(LSTM(100))\n",
        "model.add(LSTM(64))'''\n",
        "model.add(Dropout(0.4))\n",
        "model.add(Dense(25,activation='relu'))\n",
        "model.add(Dropout(0.3) )\n",
        "model.add(Dense(1, activation='tanh'))\n",
        "model.compile(loss='binary_crossentropy', optimizer='adam',metrics=['accuracy'])"
      ],
      "metadata": {
        "id": "_VsUehq_EAr3"
      },
      "execution_count": 107,
      "outputs": []
    },
    {
      "cell_type": "code",
      "source": [
        "model.summary()"
      ],
      "metadata": {
        "colab": {
          "base_uri": "https://localhost:8080/"
        },
        "id": "ugzAg67qKbfk",
        "outputId": "2530cfbc-3551-4a93-d573-978cb0ea3dd6"
      },
      "execution_count": 69,
      "outputs": [
        {
          "output_type": "stream",
          "name": "stdout",
          "text": [
            "Model: \"sequential_4\"\n",
            "_________________________________________________________________\n",
            " Layer (type)                Output Shape              Param #   \n",
            "=================================================================\n",
            " embedding_4 (Embedding)     (None, 20, 40)            200000    \n",
            "                                                                 \n",
            " lstm_4 (LSTM)               (None, 100)               56400     \n",
            "                                                                 \n",
            " dropout_4 (Dropout)         (None, 100)               0         \n",
            "                                                                 \n",
            " dense_2 (Dense)             (None, 25)                2525      \n",
            "                                                                 \n",
            " dropout_5 (Dropout)         (None, 25)                0         \n",
            "                                                                 \n",
            " dense_3 (Dense)             (None, 1)                 26        \n",
            "                                                                 \n",
            "=================================================================\n",
            "Total params: 258,951\n",
            "Trainable params: 258,951\n",
            "Non-trainable params: 0\n",
            "_________________________________________________________________\n"
          ]
        }
      ]
    },
    {
      "cell_type": "code",
      "source": [
        "import numpy as np\n",
        "x_final = np.array(embedded_docs)\n",
        "y_final = np.array(y_f)"
      ],
      "metadata": {
        "id": "wquMcxm9Kfmi"
      },
      "execution_count": 70,
      "outputs": []
    },
    {
      "cell_type": "code",
      "source": [
        "xf_train,xf_test,yf_train,yf_test = train_test_split(x_final,y_final,test_size=0.3,random_state=0)"
      ],
      "metadata": {
        "id": "96-xgw9UM_ra"
      },
      "execution_count": 71,
      "outputs": []
    },
    {
      "cell_type": "code",
      "source": [
        "model.fit(xf_train,yf_train,validation_data=(xf_test,yf_test),epochs=10,batch_size=64)"
      ],
      "metadata": {
        "colab": {
          "base_uri": "https://localhost:8080/"
        },
        "id": "EvlcarKvOGk3",
        "outputId": "0bb8c50f-036b-497d-c4c4-bba66e3b3b3c"
      },
      "execution_count": 73,
      "outputs": [
        {
          "output_type": "stream",
          "name": "stdout",
          "text": [
            "Epoch 1/10\n",
            "200/200 [==============================] - 10s 49ms/step - loss: 0.0687 - accuracy: 0.9809 - val_loss: 0.3012 - val_accuracy: 0.9213\n",
            "Epoch 2/10\n",
            "200/200 [==============================] - 10s 49ms/step - loss: 0.0527 - accuracy: 0.9889 - val_loss: 0.3690 - val_accuracy: 0.9176\n",
            "Epoch 3/10\n",
            "200/200 [==============================] - 9s 47ms/step - loss: 0.0431 - accuracy: 0.9909 - val_loss: 0.4913 - val_accuracy: 0.9156\n",
            "Epoch 4/10\n",
            "200/200 [==============================] - 9s 46ms/step - loss: 0.0321 - accuracy: 0.9951 - val_loss: 0.5977 - val_accuracy: 0.9171\n",
            "Epoch 5/10\n",
            "200/200 [==============================] - 9s 44ms/step - loss: 0.0975 - accuracy: 0.9827 - val_loss: 0.4125 - val_accuracy: 0.9054\n",
            "Epoch 6/10\n",
            "200/200 [==============================] - 8s 42ms/step - loss: 0.0572 - accuracy: 0.9834 - val_loss: 0.4695 - val_accuracy: 0.9141\n",
            "Epoch 7/10\n",
            "200/200 [==============================] - 8s 42ms/step - loss: 0.0279 - accuracy: 0.9959 - val_loss: 0.5716 - val_accuracy: 0.9129\n",
            "Epoch 8/10\n",
            "200/200 [==============================] - 9s 43ms/step - loss: 0.0230 - accuracy: 0.9976 - val_loss: 0.7240 - val_accuracy: 0.9105\n",
            "Epoch 9/10\n",
            "200/200 [==============================] - 9s 43ms/step - loss: 0.0201 - accuracy: 0.9985 - val_loss: 0.7651 - val_accuracy: 0.9121\n",
            "Epoch 10/10\n",
            "200/200 [==============================] - 8s 42ms/step - loss: 0.0189 - accuracy: 0.9987 - val_loss: 0.7745 - val_accuracy: 0.9143\n"
          ]
        },
        {
          "output_type": "execute_result",
          "data": {
            "text/plain": [
              "<keras.callbacks.History at 0x7f43a98eded0>"
            ]
          },
          "metadata": {},
          "execution_count": 73
        }
      ]
    },
    {
      "cell_type": "markdown",
      "source": [
        "Using an **Activation function** as **'tanh'** will give all values in the range **[-1,1]**. So, we have to set a thersold of **0**, thus values greater than **0** will be classified as **1** and vice versa. "
      ],
      "metadata": {
        "id": "uJOBVijY_n11"
      }
    },
    {
      "cell_type": "code",
      "source": [
        "yf_pred = model.predict(xf_test)\n",
        "classes_x=np.where(yf_pred > 0, 1,0)"
      ],
      "metadata": {
        "id": "R7vzHcxxPDrf",
        "outputId": "9aadf842-1267-402b-8869-f8a724a3244e",
        "colab": {
          "base_uri": "https://localhost:8080/"
        }
      },
      "execution_count": 74,
      "outputs": [
        {
          "output_type": "stream",
          "name": "stdout",
          "text": [
            "172/172 [==============================] - 2s 9ms/step\n"
          ]
        }
      ]
    },
    {
      "cell_type": "code",
      "source": [
        "print('Model: LSTM')\n",
        "print('Accuracy:', metrics.accuracy_score(yf_test,classes_x))\n",
        "print('Precision:',metrics.precision_score(Y_test,classes_x))\n",
        "print('AUC:',metrics.roc_auc_score(Y_test,classes_x))\n",
        "Cm = metrics.confusion_matrix(yf_test,classes_x)\n",
        "sn.heatmap(Cm,annot=True,fmt='d')\n",
        "plt.xlabel('Predicted')\n",
        "plt.ylabel('True')\n",
        "plt.title('Confusion Matrix for LSTM')\n",
        "plt.show()"
      ],
      "metadata": {
        "colab": {
          "base_uri": "https://localhost:8080/",
          "height": 364
        },
        "id": "E9tO07j8Pp8C",
        "outputId": "de53dbde-e3f2-41cf-e293-71e69f4bc72a"
      },
      "execution_count": 76,
      "outputs": [
        {
          "output_type": "stream",
          "name": "stdout",
          "text": [
            "Model: LSTM\n",
            "Accuracy: 0.915056507473569\n",
            "Precision: 0.8647324792765637\n",
            "AUC: 0.9195232626075762\n"
          ]
        },
        {
          "output_type": "display_data",
          "data": {
            "text/plain": [
              "<Figure size 432x288 with 2 Axes>"
            ],
            "image/png": "[encoded data removed]"
          },
          "metadata": {
            "needs_background": "light"
          }
        }
      ]
    },
    {
      "cell_type": "markdown",
      "source": [
        "The results are quite similar to that of ML models, lets look at the performance of the Bi-Direction LSTM."
      ],
      "metadata": {
        "id": "Q61vZ99rMjlG"
      }
    },
    {
      "cell_type": "markdown",
      "source": [
        "### Bi-Directional LSTM"
      ],
      "metadata": {
        "id": "sTcHj4JELUqI"
      }
    },
    {
      "cell_type": "code",
      "source": [
        "from tensorflow.keras.layers import Bidirectional, Dropout"
      ],
      "metadata": {
        "id": "tv5MWmO74URR"
      },
      "execution_count": 51,
      "outputs": []
    },
    {
      "cell_type": "code",
      "source": [
        "# Bidirectional LSTM\n",
        "model111 = Sequential()\n",
        "model111.add(Embedding(voc_size,embedding_vec_features,input_length=sent_length))\n",
        "model111.add(Bidirectional(LSTM(100)))\n",
        "model111.add(Dropout(0.3))\n",
        "model111.add(Dense(25,activation='relu'))\n",
        "model111.add(Dropout(0.3))\n",
        "model111.add(Dense(1, activation='tanh'))\n",
        "model111.compile(loss='binary_crossentropy', optimizer='adam',metrics=['accuracy'])"
      ],
      "metadata": {
        "id": "WFMUQtI44V5L"
      },
      "execution_count": 78,
      "outputs": []
    },
    {
      "cell_type": "code",
      "source": [
        "model111.summary()"
      ],
      "metadata": {
        "colab": {
          "base_uri": "https://localhost:8080/"
        },
        "id": "AkFDHP934jtV",
        "outputId": "ae8ef2ad-8e05-411b-8cf8-6dd00b4e633f"
      },
      "execution_count": 79,
      "outputs": [
        {
          "output_type": "stream",
          "name": "stdout",
          "text": [
            "Model: \"sequential_5\"\n",
            "_________________________________________________________________\n",
            " Layer (type)                Output Shape              Param #   \n",
            "=================================================================\n",
            " embedding_5 (Embedding)     (None, 20, 40)            200000    \n",
            "                                                                 \n",
            " bidirectional (Bidirectiona  (None, 200)              112800    \n",
            " l)                                                              \n",
            "                                                                 \n",
            " dropout_6 (Dropout)         (None, 200)               0         \n",
            "                                                                 \n",
            " dense_4 (Dense)             (None, 25)                5025      \n",
            "                                                                 \n",
            " dropout_7 (Dropout)         (None, 25)                0         \n",
            "                                                                 \n",
            " dense_5 (Dense)             (None, 1)                 26        \n",
            "                                                                 \n",
            "=================================================================\n",
            "Total params: 317,851\n",
            "Trainable params: 317,851\n",
            "Non-trainable params: 0\n",
            "_________________________________________________________________\n"
          ]
        }
      ]
    },
    {
      "cell_type": "code",
      "source": [
        "model111.fit(xf_train,yf_train,validation_data=(xf_test,yf_test),epochs=10,batch_size=64 )"
      ],
      "metadata": {
        "colab": {
          "base_uri": "https://localhost:8080/"
        },
        "id": "w40NRF9JFPJD",
        "outputId": "6dcd27e0-01f9-41d3-97a6-c9b3294a28ba"
      },
      "execution_count": 80,
      "outputs": [
        {
          "output_type": "stream",
          "name": "stdout",
          "text": [
            "Epoch 1/10\n",
            "200/200 [==============================] - 23s 84ms/step - loss: 0.3843 - accuracy: 0.8319 - val_loss: 0.2048 - val_accuracy: 0.9223\n",
            "Epoch 2/10\n",
            "200/200 [==============================] - 15s 74ms/step - loss: 0.1684 - accuracy: 0.9392 - val_loss: 0.2098 - val_accuracy: 0.9200\n",
            "Epoch 3/10\n",
            "200/200 [==============================] - 15s 73ms/step - loss: 0.1368 - accuracy: 0.9547 - val_loss: 0.2476 - val_accuracy: 0.9189\n",
            "Epoch 4/10\n",
            "200/200 [==============================] - 18s 91ms/step - loss: 0.0936 - accuracy: 0.9707 - val_loss: 0.2662 - val_accuracy: 0.9191\n",
            "Epoch 5/10\n",
            "200/200 [==============================] - 23s 113ms/step - loss: 0.0761 - accuracy: 0.9776 - val_loss: 0.4003 - val_accuracy: 0.9182\n",
            "Epoch 6/10\n",
            "200/200 [==============================] - 16s 81ms/step - loss: 0.0839 - accuracy: 0.9745 - val_loss: 0.3099 - val_accuracy: 0.9165\n",
            "Epoch 7/10\n",
            "200/200 [==============================] - 14s 69ms/step - loss: 0.0586 - accuracy: 0.9857 - val_loss: 0.4999 - val_accuracy: 0.9145\n",
            "Epoch 8/10\n",
            "200/200 [==============================] - 14s 69ms/step - loss: 0.0376 - accuracy: 0.9926 - val_loss: 0.4769 - val_accuracy: 0.9141\n",
            "Epoch 9/10\n",
            "200/200 [==============================] - 23s 115ms/step - loss: 0.0352 - accuracy: 0.9941 - val_loss: 0.5208 - val_accuracy: 0.9187\n",
            "Epoch 10/10\n",
            "200/200 [==============================] - 19s 96ms/step - loss: 0.0359 - accuracy: 0.9911 - val_loss: 0.5955 - val_accuracy: 0.9120\n"
          ]
        },
        {
          "output_type": "execute_result",
          "data": {
            "text/plain": [
              "<keras.callbacks.History at 0x7f43d6ddb290>"
            ]
          },
          "metadata": {},
          "execution_count": 80
        }
      ]
    },
    {
      "cell_type": "code",
      "source": [
        "Y_pred = model.predict(xf_test)\n",
        "classes_X1 = np.where(y_pred>0,1,0)"
      ],
      "metadata": {
        "id": "e6e8eVCKIEN5",
        "outputId": "741b94e9-2858-41f2-a202-0c4a5bb8e1d8",
        "colab": {
          "base_uri": "https://localhost:8080/"
        }
      },
      "execution_count": 83,
      "outputs": [
        {
          "output_type": "stream",
          "name": "stdout",
          "text": [
            "172/172 [==============================] - 2s 13ms/step\n"
          ]
        }
      ]
    },
    {
      "cell_type": "code",
      "source": [
        "print('Model: Bidirectional LSTM')\n",
        "print('Accuracy:', metrics.accuracy_score(yf_test,classes_X1))\n",
        "print('Precision:',metrics.precision_score(Y_test,classes_X1))\n",
        "print('AUC:',metrics.roc_auc_score(Y_test,classes_X1))\n",
        "Cm = metrics.confusion_matrix(yf_test,classes_X1)\n",
        "sn.heatmap(Cm,annot=True,fmt='d')\n",
        "plt.xlabel('Predicted')\n",
        "plt.ylabel('True')\n",
        "plt.title('Confusion Matrix of Bi-directional LSTM')\n",
        "plt.show()"
      ],
      "metadata": {
        "colab": {
          "base_uri": "https://localhost:8080/",
          "height": 364
        },
        "id": "-tytVlfgH4o0",
        "outputId": "c0faa4e6-383f-48aa-9f75-75815d0e7ec1"
      },
      "execution_count": 85,
      "outputs": [
        {
          "output_type": "stream",
          "name": "stdout",
          "text": [
            "Model: Bidirectional LSTM\n",
            "Accuracy: 0.9017499088589136\n",
            "Precision: 0.8733466933867735\n",
            "AUC: 0.902348183690418\n"
          ]
        },
        {
          "output_type": "display_data",
          "data": {
            "text/plain": [
              "<Figure size 432x288 with 2 Axes>"
            ],
            "image/png": "[encoded data removed]"
          },
          "metadata": {
            "needs_background": "light"
          }
        }
      ]
    },
    {
      "cell_type": "markdown",
      "source": [
        "The results are not that impressive, not lets train-test using full 'News' as data."
      ],
      "metadata": {
        "id": "0SVwTKSvM82O"
      }
    },
    {
      "cell_type": "markdown",
      "source": [
        "#Using text for training-testing the model"
      ],
      "metadata": {
        "id": "VpS0AFOQJ8fs"
      }
    },
    {
      "cell_type": "code",
      "source": [
        "one_hot_R = [one_hot(word,150000) for word in corpus1]"
      ],
      "metadata": {
        "id": "S5QUHBzbIvCw"
      },
      "execution_count": 53,
      "outputs": []
    },
    {
      "cell_type": "code",
      "source": [
        "len(max(corpus1, key=len))"
      ],
      "metadata": {
        "colab": {
          "base_uri": "https://localhost:8080/"
        },
        "id": "MA3dCkrgM87a",
        "outputId": "dcd6a0b8-f5cb-449b-d8ff-6aef1156e945"
      },
      "execution_count": 88,
      "outputs": [
        {
          "output_type": "execute_result",
          "data": {
            "text/plain": [
              "72006"
            ]
          },
          "metadata": {},
          "execution_count": 88
        }
      ]
    },
    {
      "cell_type": "code",
      "source": [
        "len(max(corpus,key=len))"
      ],
      "metadata": {
        "colab": {
          "base_uri": "https://localhost:8080/"
        },
        "id": "PRFgUs1cO1sF",
        "outputId": "aded3b10-e990-46dd-f797-4a6591e62432"
      },
      "execution_count": 89,
      "outputs": [
        {
          "output_type": "execute_result",
          "data": {
            "text/plain": [
              "299"
            ]
          },
          "metadata": {},
          "execution_count": 89
        }
      ]
    },
    {
      "cell_type": "code",
      "source": [
        "sent_length1 = 4820\n",
        "embedded_doc = pad_sequences(one_hot_R, padding = 'pre', maxlen=sent_length1)"
      ],
      "metadata": {
        "id": "8Sc-1ephPrWX"
      },
      "execution_count": 54,
      "outputs": []
    },
    {
      "cell_type": "code",
      "source": [
        "import numpy as np\n",
        "X_final = np.array(embedded_doc)\n",
        "Y_final = np.array(y_f)"
      ],
      "metadata": {
        "id": "u6Ycme3QQLFu"
      },
      "execution_count": 58,
      "outputs": []
    },
    {
      "cell_type": "code",
      "source": [
        "from sklearn.model_selection import train_test_split\n",
        "Xf_train,Xf_test,Yf_train,Yf_test = train_test_split(X_final,Y_final,test_size=0.3,random_state=0)"
      ],
      "metadata": {
        "id": "wM1YoRXjSSS9"
      },
      "execution_count": 60,
      "outputs": []
    },
    {
      "cell_type": "code",
      "source": [
        "# LSTM\n",
        "embedding_vec_features = 4000\n",
        "model21 = Sequential()\n",
        "model21.add(Embedding(voc_size,embedding_vec_features,input_length=sent_length1))\n",
        "model21.add(LSTM(100))\n",
        "#model21.add(Dropout(0.3))\n",
        "#model21.add(Dense(25,activation='relu'))\n",
        "#model21.add(Dropout(0.3))\n",
        "model21.add(Dense(1, activation='tanh'))\n",
        "model21.compile(loss='binary_crossentropy', optimizer='adam',metrics=['accuracy'])"
      ],
      "metadata": {
        "id": "r2w0qMrmSmDG"
      },
      "execution_count": 63,
      "outputs": []
    },
    {
      "cell_type": "code",
      "source": [
        "model21.summary()"
      ],
      "metadata": {
        "id": "ZrF_3RCEOFTt",
        "outputId": "5200308a-6fde-4cd2-f095-777a9c7fe4da",
        "colab": {
          "base_uri": "https://localhost:8080/"
        }
      },
      "execution_count": 64,
      "outputs": [
        {
          "output_type": "stream",
          "name": "stdout",
          "text": [
            "Model: \"sequential_1\"\n",
            "_________________________________________________________________\n",
            " Layer (type)                Output Shape              Param #   \n",
            "=================================================================\n",
            " embedding (Embedding)       (None, 4820, 4000)        20000000  \n",
            "                                                                 \n",
            " lstm (LSTM)                 (None, 100)               1640400   \n",
            "                                                                 \n",
            " dropout (Dropout)           (None, 100)               0         \n",
            "                                                                 \n",
            " dense (Dense)               (None, 1)                 101       \n",
            "                                                                 \n",
            "=================================================================\n",
            "Total params: 21,640,501\n",
            "Trainable params: 21,640,501\n",
            "Non-trainable params: 0\n",
            "_________________________________________________________________\n"
          ]
        }
      ]
    },
    {
      "cell_type": "code",
      "source": [
        "model21.fit(Xf_train,Yf_train,validation_data=(Xf_test,Yf_test),epochs=10,batch_size=20),"
      ],
      "metadata": {
        "colab": {
          "base_uri": "https://localhost:8080/"
        },
        "id": "PKirVboUS32z",
        "outputId": "017adae9-38cd-4b5c-b38f-14b719f1aeed"
      },
      "execution_count": null,
      "outputs": [
        {
          "output_type": "stream",
          "name": "stdout",
          "text": [
            "Epoch 1/10\n",
            "640/640 [==============================] - 391s 611ms/step - loss: 0.4409 - accuracy: 0.8121 - val_loss: 0.5457 - val_accuracy: 0.7616\n",
            "Epoch 2/10\n",
            "640/640 [==============================] - 416s 650ms/step - loss: 0.4232 - accuracy: 0.8200 - val_loss: 0.5443 - val_accuracy: 0.7639\n",
            "Epoch 3/10\n",
            "640/640 [==============================] - 393s 614ms/step - loss: 0.4138 - accuracy: 0.8207 - val_loss: 0.5512 - val_accuracy: 0.7734\n",
            "Epoch 4/10\n",
            "640/640 [==============================] - 392s 613ms/step - loss: 0.4014 - accuracy: 0.8298 - val_loss: 0.5337 - val_accuracy: 0.7663\n",
            "Epoch 5/10\n",
            "640/640 [==============================] - 392s 613ms/step - loss: 0.3898 - accuracy: 0.8321 - val_loss: 0.6076 - val_accuracy: 0.7734\n",
            "Epoch 6/10\n",
            "640/640 [==============================] - 392s 613ms/step - loss: 0.3777 - accuracy: 0.8436 - val_loss: 0.5494 - val_accuracy: 0.7749\n",
            "Epoch 7/10\n",
            "640/640 [==============================] - 392s 613ms/step - loss: 0.3723 - accuracy: 0.8473 - val_loss: 0.5586 - val_accuracy: 0.7791\n",
            "Epoch 8/10\n",
            "640/640 [==============================] - 392s 612ms/step - loss: 0.3588 - accuracy: 0.8513 - val_loss: 0.5640 - val_accuracy: 0.7831\n",
            "Epoch 9/10\n",
            "615/640 [===========================>..] - ETA: 13s - loss: 0.3628 - accuracy: 0.8524"
          ]
        }
      ]
    },
    {
      "cell_type": "code",
      "source": [
        "import seaborn as sns\n",
        "import matplotlib.pyplot as plt \n",
        "sns.histplot(df.label)\n",
        "plt.show()"
      ],
      "metadata": {
        "id": "qerLBaTDTm_G",
        "outputId": "c776aeea-417f-4d0b-824b-e9ac42a4510d",
        "colab": {
          "base_uri": "https://localhost:8080/",
          "height": 279
        }
      },
      "execution_count": null,
      "outputs": [
        {
          "output_type": "display_data",
          "data": {
            "text/plain": [
              "<Figure size 432x288 with 1 Axes>"
            ],
            "image/png": "[encoded data removed]"
          },
          "metadata": {
            "needs_background": "light"
          }
        }
      ]
    },
    {
      "cell_type": "code",
      "source": [
        "import pickle\n",
        "Fake_news_classifier_PAC = open('Fake_news_classifier.pkl','wb')\n",
        "pickle.dump(model22,Fake_news_classifier_PAC)\n",
        "Fake_news_classifier_PAC.close()"
      ],
      "metadata": {
        "id": "XpTkL9uh36cq"
      },
      "execution_count": null,
      "outputs": []
    }
  ]
}